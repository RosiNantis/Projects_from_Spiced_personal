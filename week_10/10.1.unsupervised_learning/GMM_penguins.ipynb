{
 "cells": [
  {
   "cell_type": "markdown",
   "metadata": {},
   "source": [
    "# Intro to unsupervised learning: Gaussian Mixture Models\n",
    "\n",
    "- Gaussian Mixture Models are probabilistic models and use the soft clustering approach for distributing the points in different clusters.\n",
    "- For a given set of data points, our GMM would identify the probability of each data point belonging a defined amount of distributions."
   ]
  },
  {
   "cell_type": "code",
   "execution_count": 1,
   "metadata": {},
   "outputs": [],
   "source": [
    "import numpy as np\n",
    "import matplotlib.pyplot as plt\n",
    "import seaborn as sns\n",
    "import pandas as pd\n",
    "from sklearn.mixture import GaussianMixture\n",
    "from sklearn.preprocessing import MinMaxScaler\n",
    "plt.rcParams['figure.figsize'] = (8, 6)"
   ]
  },
  {
   "cell_type": "code",
   "execution_count": 2,
   "metadata": {},
   "outputs": [],
   "source": [
    "df = sns.load_dataset('penguins')"
   ]
  },
  {
   "cell_type": "code",
   "execution_count": 3,
   "metadata": {},
   "outputs": [
    {
     "data": {
      "text/html": [
       "<div>\n",
       "<style scoped>\n",
       "    .dataframe tbody tr th:only-of-type {\n",
       "        vertical-align: middle;\n",
       "    }\n",
       "\n",
       "    .dataframe tbody tr th {\n",
       "        vertical-align: top;\n",
       "    }\n",
       "\n",
       "    .dataframe thead th {\n",
       "        text-align: right;\n",
       "    }\n",
       "</style>\n",
       "<table border=\"1\" class=\"dataframe\">\n",
       "  <thead>\n",
       "    <tr style=\"text-align: right;\">\n",
       "      <th></th>\n",
       "      <th>species</th>\n",
       "      <th>island</th>\n",
       "      <th>bill_length_mm</th>\n",
       "      <th>bill_depth_mm</th>\n",
       "      <th>flipper_length_mm</th>\n",
       "      <th>body_mass_g</th>\n",
       "      <th>sex</th>\n",
       "    </tr>\n",
       "  </thead>\n",
       "  <tbody>\n",
       "    <tr>\n",
       "      <th>0</th>\n",
       "      <td>Adelie</td>\n",
       "      <td>Torgersen</td>\n",
       "      <td>39.1</td>\n",
       "      <td>18.7</td>\n",
       "      <td>181.0</td>\n",
       "      <td>3750.0</td>\n",
       "      <td>Male</td>\n",
       "    </tr>\n",
       "    <tr>\n",
       "      <th>1</th>\n",
       "      <td>Adelie</td>\n",
       "      <td>Torgersen</td>\n",
       "      <td>39.5</td>\n",
       "      <td>17.4</td>\n",
       "      <td>186.0</td>\n",
       "      <td>3800.0</td>\n",
       "      <td>Female</td>\n",
       "    </tr>\n",
       "    <tr>\n",
       "      <th>2</th>\n",
       "      <td>Adelie</td>\n",
       "      <td>Torgersen</td>\n",
       "      <td>40.3</td>\n",
       "      <td>18.0</td>\n",
       "      <td>195.0</td>\n",
       "      <td>3250.0</td>\n",
       "      <td>Female</td>\n",
       "    </tr>\n",
       "    <tr>\n",
       "      <th>3</th>\n",
       "      <td>Adelie</td>\n",
       "      <td>Torgersen</td>\n",
       "      <td>NaN</td>\n",
       "      <td>NaN</td>\n",
       "      <td>NaN</td>\n",
       "      <td>NaN</td>\n",
       "      <td>NaN</td>\n",
       "    </tr>\n",
       "    <tr>\n",
       "      <th>4</th>\n",
       "      <td>Adelie</td>\n",
       "      <td>Torgersen</td>\n",
       "      <td>36.7</td>\n",
       "      <td>19.3</td>\n",
       "      <td>193.0</td>\n",
       "      <td>3450.0</td>\n",
       "      <td>Female</td>\n",
       "    </tr>\n",
       "  </tbody>\n",
       "</table>\n",
       "</div>"
      ],
      "text/plain": [
       "  species     island  bill_length_mm  bill_depth_mm  flipper_length_mm  \\\n",
       "0  Adelie  Torgersen            39.1           18.7              181.0   \n",
       "1  Adelie  Torgersen            39.5           17.4              186.0   \n",
       "2  Adelie  Torgersen            40.3           18.0              195.0   \n",
       "3  Adelie  Torgersen             NaN            NaN                NaN   \n",
       "4  Adelie  Torgersen            36.7           19.3              193.0   \n",
       "\n",
       "   body_mass_g     sex  \n",
       "0       3750.0    Male  \n",
       "1       3800.0  Female  \n",
       "2       3250.0  Female  \n",
       "3          NaN     NaN  \n",
       "4       3450.0  Female  "
      ]
     },
     "execution_count": 3,
     "metadata": {},
     "output_type": "execute_result"
    }
   ],
   "source": [
    "df.head()"
   ]
  },
  {
   "cell_type": "markdown",
   "metadata": {},
   "source": [
    "- Due to visualization limitations we will cluster accoring to 2 parameters, the flipper length and body mass"
   ]
  },
  {
   "cell_type": "code",
   "execution_count": 6,
   "metadata": {},
   "outputs": [],
   "source": [
    "penguins = df[['flipper_length_mm', 'body_mass_g', 'sex', 'species']]\n",
    "penguins = penguins.dropna().reset_index(drop=True)"
   ]
  },
  {
   "cell_type": "code",
   "execution_count": 7,
   "metadata": {},
   "outputs": [
    {
     "data": {
      "text/html": [
       "<div>\n",
       "<style scoped>\n",
       "    .dataframe tbody tr th:only-of-type {\n",
       "        vertical-align: middle;\n",
       "    }\n",
       "\n",
       "    .dataframe tbody tr th {\n",
       "        vertical-align: top;\n",
       "    }\n",
       "\n",
       "    .dataframe thead th {\n",
       "        text-align: right;\n",
       "    }\n",
       "</style>\n",
       "<table border=\"1\" class=\"dataframe\">\n",
       "  <thead>\n",
       "    <tr style=\"text-align: right;\">\n",
       "      <th></th>\n",
       "      <th>flipper_length_mm</th>\n",
       "      <th>body_mass_g</th>\n",
       "      <th>sex</th>\n",
       "      <th>species</th>\n",
       "    </tr>\n",
       "  </thead>\n",
       "  <tbody>\n",
       "    <tr>\n",
       "      <th>0</th>\n",
       "      <td>181.0</td>\n",
       "      <td>3750.0</td>\n",
       "      <td>Male</td>\n",
       "      <td>Adelie</td>\n",
       "    </tr>\n",
       "    <tr>\n",
       "      <th>1</th>\n",
       "      <td>186.0</td>\n",
       "      <td>3800.0</td>\n",
       "      <td>Female</td>\n",
       "      <td>Adelie</td>\n",
       "    </tr>\n",
       "    <tr>\n",
       "      <th>2</th>\n",
       "      <td>195.0</td>\n",
       "      <td>3250.0</td>\n",
       "      <td>Female</td>\n",
       "      <td>Adelie</td>\n",
       "    </tr>\n",
       "    <tr>\n",
       "      <th>3</th>\n",
       "      <td>193.0</td>\n",
       "      <td>3450.0</td>\n",
       "      <td>Female</td>\n",
       "      <td>Adelie</td>\n",
       "    </tr>\n",
       "    <tr>\n",
       "      <th>4</th>\n",
       "      <td>190.0</td>\n",
       "      <td>3650.0</td>\n",
       "      <td>Male</td>\n",
       "      <td>Adelie</td>\n",
       "    </tr>\n",
       "  </tbody>\n",
       "</table>\n",
       "</div>"
      ],
      "text/plain": [
       "   flipper_length_mm  body_mass_g     sex species\n",
       "0              181.0       3750.0    Male  Adelie\n",
       "1              186.0       3800.0  Female  Adelie\n",
       "2              195.0       3250.0  Female  Adelie\n",
       "3              193.0       3450.0  Female  Adelie\n",
       "4              190.0       3650.0    Male  Adelie"
      ]
     },
     "execution_count": 7,
     "metadata": {},
     "output_type": "execute_result"
    }
   ],
   "source": [
    "penguins.head()"
   ]
  },
  {
   "cell_type": "markdown",
   "metadata": {},
   "source": [
    "Separate numeric paramenters for scaling"
   ]
  },
  {
   "cell_type": "code",
   "execution_count": 8,
   "metadata": {},
   "outputs": [],
   "source": [
    "pen_stats = penguins[['flipper_length_mm', 'body_mass_g']]"
   ]
  },
  {
   "cell_type": "markdown",
   "metadata": {},
   "source": [
    "Scale the data in order remove bias from any parameter that has a much larger magnitude "
   ]
  },
  {
   "cell_type": "code",
   "execution_count": 9,
   "metadata": {},
   "outputs": [],
   "source": [
    "scaler = MinMaxScaler()\n",
    "pens = scaler.fit_transform(pen_stats)"
   ]
  },
  {
   "cell_type": "code",
   "execution_count": 10,
   "metadata": {},
   "outputs": [
    {
     "data": {
      "text/plain": [
       "array([[0.15254237, 0.29166667],\n",
       "       [0.23728814, 0.30555556],\n",
       "       [0.38983051, 0.15277778],\n",
       "       [0.3559322 , 0.20833333],\n",
       "       [0.30508475, 0.26388889],\n",
       "       [0.15254237, 0.25694444],\n",
       "       [0.38983051, 0.54861111],\n",
       "       [0.16949153, 0.13888889],\n",
       "       [0.3220339 , 0.30555556],\n",
       "       [0.44067797, 0.47222222],\n",
       "       [0.22033898, 0.27777778],\n",
       "       [0.38983051, 0.20833333],\n",
       "       [0.42372881, 0.5       ],\n",
       "       [0.20338983, 0.17361111],\n",
       "       [0.37288136, 0.41666667],\n",
       "       [0.03389831, 0.19444444],\n",
       "       [0.13559322, 0.25      ],\n",
       "       [0.28813559, 0.30555556],\n",
       "       [0.22033898, 0.34722222],\n",
       "       [0.13559322, 0.30555556],\n",
       "       [0.25423729, 0.30555556],\n",
       "       [0.18644068, 0.23611111],\n",
       "       [0.25423729, 0.13888889],\n",
       "       [0.        , 0.125     ],\n",
       "       [0.13559322, 0.34722222],\n",
       "       [0.10169492, 0.15277778],\n",
       "       [0.10169492, 0.33333333],\n",
       "       [0.27118644, 0.16666667],\n",
       "       [0.20338983, 0.33333333],\n",
       "       [0.38983051, 0.17361111],\n",
       "       [0.40677966, 0.40277778],\n",
       "       [0.30508475, 0.34722222],\n",
       "       [0.13559322, 0.23611111],\n",
       "       [0.15254237, 0.16666667],\n",
       "       [0.20338983, 0.54166667],\n",
       "       [0.16949153, 0.125     ],\n",
       "       [0.38983051, 0.33333333],\n",
       "       [0.23728814, 0.11111111],\n",
       "       [0.40677966, 0.47222222],\n",
       "       [0.22033898, 0.08333333],\n",
       "       [0.30508475, 0.52777778],\n",
       "       [0.16949153, 0.20138889],\n",
       "       [0.30508475, 0.20833333],\n",
       "       [0.3220339 , 0.40277778],\n",
       "       [0.23728814, 0.22222222],\n",
       "       [0.27118644, 0.44444444],\n",
       "       [0.30508475, 0.20833333],\n",
       "       [0.47457627, 0.375     ],\n",
       "       [0.25423729, 0.05555556],\n",
       "       [0.3220339 , 0.27777778],\n",
       "       [0.23728814, 0.23611111],\n",
       "       [0.3559322 , 0.30555556],\n",
       "       [0.15254237, 0.04166667],\n",
       "       [0.37288136, 0.29166667],\n",
       "       [0.22033898, 0.125     ],\n",
       "       [0.38983051, 0.47222222],\n",
       "       [0.22033898, 0.25      ],\n",
       "       [0.33898305, 0.375     ],\n",
       "       [0.20338983, 0.04166667],\n",
       "       [0.33898305, 0.34722222],\n",
       "       [0.38983051, 0.18055556],\n",
       "       [0.27118644, 0.38888889],\n",
       "       [0.30508475, 0.09722222],\n",
       "       [0.44067797, 0.48611111],\n",
       "       [0.30508475, 0.25      ],\n",
       "       [0.30508475, 0.33333333],\n",
       "       [0.40677966, 0.23611111],\n",
       "       [0.42372881, 0.40277778],\n",
       "       [0.30508475, 0.27777778],\n",
       "       [0.38983051, 0.43055556],\n",
       "       [0.3220339 , 0.27777778],\n",
       "       [0.20338983, 0.33333333],\n",
       "       [0.25423729, 0.23611111],\n",
       "       [0.38983051, 0.36111111],\n",
       "       [0.28813559, 0.13888889],\n",
       "       [0.40677966, 0.55555556],\n",
       "       [0.25423729, 0.30555556],\n",
       "       [0.3559322 , 0.41666667],\n",
       "       [0.3220339 , 0.18055556],\n",
       "       [0.37288136, 0.23611111],\n",
       "       [0.30508475, 0.30555556],\n",
       "       [0.28813559, 0.22222222],\n",
       "       [0.28813559, 0.34722222],\n",
       "       [0.30508475, 0.25      ],\n",
       "       [0.50847458, 0.23611111],\n",
       "       [0.55932203, 0.44444444],\n",
       "       [0.22033898, 0.19444444],\n",
       "       [0.23728814, 0.48611111],\n",
       "       [0.25423729, 0.16666667],\n",
       "       [0.61016949, 0.44444444],\n",
       "       [0.30508475, 0.27777778],\n",
       "       [0.40677966, 0.45833333],\n",
       "       [0.10169492, 0.05555556],\n",
       "       [0.33898305, 0.38888889],\n",
       "       [0.33898305, 0.28472222],\n",
       "       [0.52542373, 0.5625    ],\n",
       "       [0.18644068, 0.10416667],\n",
       "       [0.30508475, 0.43055556],\n",
       "       [0.3559322 , 0.0625    ],\n",
       "       [0.20338983, 0.23611111],\n",
       "       [0.45762712, 0.29166667],\n",
       "       [0.30508475, 0.33333333],\n",
       "       [0.15254237, 0.13194444],\n",
       "       [0.42372881, 0.57638889],\n",
       "       [0.44067797, 0.3125    ],\n",
       "       [0.3220339 , 0.52777778],\n",
       "       [0.3559322 , 0.13888889],\n",
       "       [0.42372881, 0.4375    ],\n",
       "       [0.3220339 , 0.33333333],\n",
       "       [0.40677966, 0.38194444],\n",
       "       [0.27118644, 0.05555556],\n",
       "       [0.45762712, 0.29861111],\n",
       "       [0.28813559, 0.18055556],\n",
       "       [0.28813559, 0.17361111],\n",
       "       [0.25423729, 0.125     ],\n",
       "       [0.44067797, 0.22222222],\n",
       "       [0.06779661, 0.20833333],\n",
       "       [0.50847458, 0.32638889],\n",
       "       [0.23728814, 0.09722222],\n",
       "       [0.45762712, 0.36111111],\n",
       "       [0.3220339 , 0.15972222],\n",
       "       [0.38983051, 0.44444444],\n",
       "       [0.3220339 , 0.09722222],\n",
       "       [0.6440678 , 0.36111111],\n",
       "       [0.30508475, 0.17361111],\n",
       "       [0.42372881, 0.22222222],\n",
       "       [0.3559322 , 0.22222222],\n",
       "       [0.45762712, 0.49305556],\n",
       "       [0.25423729, 0.20138889],\n",
       "       [0.30508475, 0.33333333],\n",
       "       [0.3220339 , 0.13194444],\n",
       "       [0.47457627, 0.35416667],\n",
       "       [0.22033898, 0.19444444],\n",
       "       [0.3559322 , 0.43055556],\n",
       "       [0.3559322 , 0.19444444],\n",
       "       [0.25423729, 0.21527778],\n",
       "       [0.27118644, 0.09722222],\n",
       "       [0.30508475, 0.28472222],\n",
       "       [0.33898305, 0.08333333],\n",
       "       [0.22033898, 0.26388889],\n",
       "       [0.30508475, 0.43055556],\n",
       "       [0.20338983, 0.21527778],\n",
       "       [0.38983051, 0.20833333],\n",
       "       [0.3559322 , 0.29166667],\n",
       "       [0.25423729, 0.27777778],\n",
       "       [0.49152542, 0.36111111],\n",
       "       [0.33898305, 0.22222222],\n",
       "       [0.40677966, 0.33333333],\n",
       "       [0.3559322 , 0.26388889],\n",
       "       [0.27118644, 0.22916667],\n",
       "       [0.42372881, 0.28472222],\n",
       "       [0.44067797, 0.34722222],\n",
       "       [0.10169492, 0.15277778],\n",
       "       [0.42372881, 0.29166667],\n",
       "       [0.38983051, 0.40277778],\n",
       "       [0.44067797, 0.27777778],\n",
       "       [0.3559322 , 0.30555556],\n",
       "       [0.37288136, 0.29861111],\n",
       "       [0.22033898, 0.27777778],\n",
       "       [0.49152542, 0.375     ],\n",
       "       [0.30508475, 0.24305556],\n",
       "       [0.49152542, 0.375     ],\n",
       "       [0.42372881, 0.16666667],\n",
       "       [0.15254237, 0.27777778],\n",
       "       [0.30508475, 0.20833333],\n",
       "       [0.38983051, 0.47222222],\n",
       "       [0.15254237, 0.25      ],\n",
       "       [0.3220339 , 0.19444444],\n",
       "       [0.25423729, 0.05555556],\n",
       "       [0.3559322 , 0.30555556],\n",
       "       [0.38983051, 0.16666667],\n",
       "       [0.42372881, 0.40277778],\n",
       "       [0.47457627, 0.19444444],\n",
       "       [0.47457627, 0.30555556],\n",
       "       [0.3220339 , 0.27777778],\n",
       "       [0.55932203, 0.51388889],\n",
       "       [0.25423729, 0.13888889],\n",
       "       [0.49152542, 0.44444444],\n",
       "       [0.25423729, 0.18055556],\n",
       "       [0.52542373, 0.38888889],\n",
       "       [0.38983051, 0.25      ],\n",
       "       [0.45762712, 0.33333333],\n",
       "       [0.38983051, 0.31944444],\n",
       "       [0.6440678 , 0.58333333],\n",
       "       [0.33898305, 0.        ],\n",
       "       [0.55932203, 0.5       ],\n",
       "       [0.6440678 , 0.34722222],\n",
       "       [0.25423729, 0.26388889],\n",
       "       [0.40677966, 0.23611111],\n",
       "       [0.40677966, 0.22222222],\n",
       "       [0.40677966, 0.27083333],\n",
       "       [0.49152542, 0.48611111],\n",
       "       [0.30508475, 0.19444444],\n",
       "       [0.6779661 , 0.44444444],\n",
       "       [0.25423729, 0.15277778],\n",
       "       [0.44067797, 0.27083333],\n",
       "       [0.45762712, 0.17361111],\n",
       "       [0.49152542, 0.34722222],\n",
       "       [0.3559322 , 0.25      ],\n",
       "       [0.52542373, 0.375     ],\n",
       "       [0.25423729, 0.18055556],\n",
       "       [0.42372881, 0.20833333],\n",
       "       [0.3220339 , 0.15277778],\n",
       "       [0.52542373, 0.375     ],\n",
       "       [0.50847458, 0.30555556],\n",
       "       [0.37288136, 0.22916667],\n",
       "       [0.57627119, 0.34722222],\n",
       "       [0.28813559, 0.26388889],\n",
       "       [0.38983051, 0.26388889],\n",
       "       [0.59322034, 0.36111111],\n",
       "       [0.50847458, 0.19444444],\n",
       "       [0.3559322 , 0.29861111],\n",
       "       [0.6440678 , 0.38888889],\n",
       "       [0.44067797, 0.29861111],\n",
       "       [0.66101695, 0.5       ],\n",
       "       [0.98305085, 0.83333333],\n",
       "       [0.6440678 , 0.48611111],\n",
       "       [0.77966102, 0.83333333],\n",
       "       [0.72881356, 0.75      ],\n",
       "       [0.6440678 , 0.51388889],\n",
       "       [0.66101695, 0.58333333],\n",
       "       [0.79661017, 0.69444444],\n",
       "       [0.62711864, 0.47222222],\n",
       "       [0.72881356, 0.68055556],\n",
       "       [0.71186441, 0.54166667],\n",
       "       [0.74576271, 0.79166667],\n",
       "       [0.71186441, 0.54166667],\n",
       "       [0.69491525, 0.875     ],\n",
       "       [0.6440678 , 0.41666667],\n",
       "       [0.76271186, 0.875     ],\n",
       "       [0.6440678 , 0.40277778],\n",
       "       [0.83050847, 1.        ],\n",
       "       [0.62711864, 0.58333333],\n",
       "       [0.84745763, 0.73611111],\n",
       "       [0.77966102, 0.83333333],\n",
       "       [0.72881356, 0.63888889],\n",
       "       [0.69491525, 0.47222222],\n",
       "       [0.72881356, 0.65277778],\n",
       "       [0.72881356, 0.63888889],\n",
       "       [0.72881356, 0.66666667],\n",
       "       [0.72881356, 0.81944444],\n",
       "       [0.6440678 , 0.52777778],\n",
       "       [0.81355932, 0.79166667],\n",
       "       [0.84745763, 0.70833333],\n",
       "       [0.62711864, 0.55555556],\n",
       "       [0.59322034, 0.65277778],\n",
       "       [0.98305085, 0.93055556],\n",
       "       [0.81355932, 0.68055556],\n",
       "       [0.81355932, 0.75      ],\n",
       "       [0.69491525, 0.625     ],\n",
       "       [0.79661017, 0.70833333],\n",
       "       [0.61016949, 0.45833333],\n",
       "       [0.61016949, 0.73611111],\n",
       "       [0.61016949, 0.34722222],\n",
       "       [0.89830508, 0.83333333],\n",
       "       [0.6440678 , 0.44444444],\n",
       "       [0.74576271, 0.56944444],\n",
       "       [0.84745763, 0.79166667],\n",
       "       [0.76271186, 0.61111111],\n",
       "       [0.6440678 , 0.41666667],\n",
       "       [0.89830508, 0.75      ],\n",
       "       [0.69491525, 0.66666667],\n",
       "       [0.72881356, 0.72222222],\n",
       "       [0.6440678 , 0.59722222],\n",
       "       [0.81355932, 0.72222222],\n",
       "       [0.6440678 , 0.47222222],\n",
       "       [0.89830508, 0.63888889],\n",
       "       [0.76271186, 0.61111111],\n",
       "       [0.81355932, 0.65277778],\n",
       "       [0.61016949, 0.44444444],\n",
       "       [0.81355932, 0.63888889],\n",
       "       [0.61016949, 0.48611111],\n",
       "       [0.88135593, 0.79166667],\n",
       "       [0.61016949, 0.41666667],\n",
       "       [0.83050847, 0.72222222],\n",
       "       [0.71186441, 0.47222222],\n",
       "       [1.        , 0.81944444],\n",
       "       [0.79661017, 0.55555556],\n",
       "       [0.98305085, 0.83333333],\n",
       "       [0.96610169, 0.86111111],\n",
       "       [0.81355932, 0.55555556],\n",
       "       [0.86440678, 0.79166667],\n",
       "       [0.74576271, 0.56944444],\n",
       "       [0.83050847, 0.63888889],\n",
       "       [0.83050847, 0.66666667],\n",
       "       [0.76271186, 0.69444444],\n",
       "       [0.74576271, 0.55555556],\n",
       "       [0.98305085, 0.86111111],\n",
       "       [0.62711864, 0.52777778],\n",
       "       [0.81355932, 0.91666667],\n",
       "       [0.72881356, 0.56944444],\n",
       "       [0.86440678, 0.90277778],\n",
       "       [0.6779661 , 0.53472222],\n",
       "       [0.83050847, 0.76388889],\n",
       "       [0.6779661 , 0.5625    ],\n",
       "       [0.88135593, 0.73611111],\n",
       "       [0.6779661 , 0.56944444],\n",
       "       [0.94915254, 0.80555556],\n",
       "       [0.77966102, 0.52777778],\n",
       "       [0.77966102, 0.72222222],\n",
       "       [0.6779661 , 0.60416667],\n",
       "       [0.98305085, 0.79166667],\n",
       "       [0.77966102, 0.625     ],\n",
       "       [0.94915254, 0.75      ],\n",
       "       [0.6779661 , 0.56944444],\n",
       "       [0.88135593, 0.81944444],\n",
       "       [0.71186441, 0.59722222],\n",
       "       [0.91525424, 0.69444444],\n",
       "       [0.74576271, 0.61805556],\n",
       "       [0.84745763, 0.60416667],\n",
       "       [0.52542373, 0.53472222],\n",
       "       [0.89830508, 0.70833333],\n",
       "       [0.79661017, 0.59722222],\n",
       "       [0.94915254, 0.80555556],\n",
       "       [0.72881356, 0.63194444],\n",
       "       [0.94915254, 0.77777778],\n",
       "       [0.72881356, 0.77777778],\n",
       "       [0.6440678 , 0.55555556],\n",
       "       [0.79661017, 0.77777778],\n",
       "       [0.61016949, 0.52083333],\n",
       "       [0.62711864, 0.77777778],\n",
       "       [0.74576271, 0.63888889],\n",
       "       [0.96610169, 0.90277778],\n",
       "       [0.69491525, 0.54166667],\n",
       "       [0.98305085, 0.77777778],\n",
       "       [0.76271186, 0.46527778],\n",
       "       [0.98305085, 0.875     ],\n",
       "       [0.84745763, 0.91666667],\n",
       "       [0.71186441, 0.61805556],\n",
       "       [0.72881356, 0.59722222],\n",
       "       [0.84745763, 0.84722222],\n",
       "       [0.6779661 , 0.69444444],\n",
       "       [0.69491525, 0.75      ]])"
      ]
     },
     "execution_count": 10,
     "metadata": {},
     "output_type": "execute_result"
    }
   ],
   "source": [
    "pens"
   ]
  },
  {
   "cell_type": "markdown",
   "metadata": {},
   "source": [
    "Create dataframe from scaled data"
   ]
  },
  {
   "cell_type": "code",
   "execution_count": 11,
   "metadata": {},
   "outputs": [],
   "source": [
    "pen_df = pd.DataFrame(pens, columns=['flipper_length_mm', 'body_mass_g'])"
   ]
  },
  {
   "cell_type": "markdown",
   "metadata": {},
   "source": [
    "Add sex and species columns to scaled data"
   ]
  },
  {
   "cell_type": "code",
   "execution_count": 12,
   "metadata": {},
   "outputs": [],
   "source": [
    "pen_df['sex']=penguins['sex']\n",
    "pen_df['species']=penguins['species']"
   ]
  },
  {
   "cell_type": "code",
   "execution_count": 13,
   "metadata": {},
   "outputs": [
    {
     "data": {
      "text/html": [
       "<div>\n",
       "<style scoped>\n",
       "    .dataframe tbody tr th:only-of-type {\n",
       "        vertical-align: middle;\n",
       "    }\n",
       "\n",
       "    .dataframe tbody tr th {\n",
       "        vertical-align: top;\n",
       "    }\n",
       "\n",
       "    .dataframe thead th {\n",
       "        text-align: right;\n",
       "    }\n",
       "</style>\n",
       "<table border=\"1\" class=\"dataframe\">\n",
       "  <thead>\n",
       "    <tr style=\"text-align: right;\">\n",
       "      <th></th>\n",
       "      <th>flipper_length_mm</th>\n",
       "      <th>body_mass_g</th>\n",
       "      <th>sex</th>\n",
       "      <th>species</th>\n",
       "    </tr>\n",
       "  </thead>\n",
       "  <tbody>\n",
       "    <tr>\n",
       "      <th>0</th>\n",
       "      <td>0.152542</td>\n",
       "      <td>0.291667</td>\n",
       "      <td>Male</td>\n",
       "      <td>Adelie</td>\n",
       "    </tr>\n",
       "    <tr>\n",
       "      <th>1</th>\n",
       "      <td>0.237288</td>\n",
       "      <td>0.305556</td>\n",
       "      <td>Female</td>\n",
       "      <td>Adelie</td>\n",
       "    </tr>\n",
       "    <tr>\n",
       "      <th>2</th>\n",
       "      <td>0.389831</td>\n",
       "      <td>0.152778</td>\n",
       "      <td>Female</td>\n",
       "      <td>Adelie</td>\n",
       "    </tr>\n",
       "    <tr>\n",
       "      <th>3</th>\n",
       "      <td>0.355932</td>\n",
       "      <td>0.208333</td>\n",
       "      <td>Female</td>\n",
       "      <td>Adelie</td>\n",
       "    </tr>\n",
       "    <tr>\n",
       "      <th>4</th>\n",
       "      <td>0.305085</td>\n",
       "      <td>0.263889</td>\n",
       "      <td>Male</td>\n",
       "      <td>Adelie</td>\n",
       "    </tr>\n",
       "  </tbody>\n",
       "</table>\n",
       "</div>"
      ],
      "text/plain": [
       "   flipper_length_mm  body_mass_g     sex species\n",
       "0           0.152542     0.291667    Male  Adelie\n",
       "1           0.237288     0.305556  Female  Adelie\n",
       "2           0.389831     0.152778  Female  Adelie\n",
       "3           0.355932     0.208333  Female  Adelie\n",
       "4           0.305085     0.263889    Male  Adelie"
      ]
     },
     "execution_count": 13,
     "metadata": {},
     "output_type": "execute_result"
    }
   ],
   "source": [
    "pen_df.head()"
   ]
  },
  {
   "cell_type": "markdown",
   "metadata": {},
   "source": [
    "Visualize data with no labels to see if an clusters are obivous"
   ]
  },
  {
   "cell_type": "code",
   "execution_count": 14,
   "metadata": {},
   "outputs": [
    {
     "data": {
      "text/plain": [
       "Text(0.5, 1.0, 'Scaled Penguins Data with no labels on sex or species')"
      ]
     },
     "execution_count": 14,
     "metadata": {},
     "output_type": "execute_result"
    },
    {
     "data": {
      "image/png": "[encoded data removed]",
      "text/plain": [
       "<Figure size 576x432 with 1 Axes>"
      ]
     },
     "metadata": {
      "needs_background": "light"
     },
     "output_type": "display_data"
    }
   ],
   "source": [
    "plt.scatter(pens[:,0], pens[:,1])\n",
    "plt.xlabel(\"flipper_length_mm\")\n",
    "plt.ylabel(\"body_mass_g\")\n",
    "plt.title(\"Scaled Penguins Data with no labels on sex or species\")"
   ]
  },
  {
   "cell_type": "markdown",
   "metadata": {},
   "source": [
    "- First we define the number of groups that we want to divide the population into – that’s the value of n_components. \n",
    "- here we use 6 since there are 3 species and each species is broken down into 2 sexes"
   ]
  },
  {
   "cell_type": "code",
   "execution_count": 30,
   "metadata": {},
   "outputs": [
    {
     "data": {
      "text/plain": [
       "GaussianMixture(n_components=6)"
      ]
     },
     "execution_count": 30,
     "metadata": {},
     "output_type": "execute_result"
    }
   ],
   "source": [
    "gmm = GaussianMixture(n_components=6) # umber of gaussinans: 2*sex + 3 * species\n",
    "gmm.fit(pens)"
   ]
  },
  {
   "cell_type": "markdown",
   "metadata": {},
   "source": [
    "Add the preddictions (which cluster the pengiun belongs to) to the dataframe for visuialization later\n"
   ]
  },
  {
   "cell_type": "code",
   "execution_count": 31,
   "metadata": {},
   "outputs": [],
   "source": [
    "labels = gmm.predict(pens)\n",
    "pen_df['cluster'] = labels"
   ]
  },
  {
   "cell_type": "code",
   "execution_count": 39,
   "metadata": {},
   "outputs": [
    {
     "data": {
      "text/html": [
       "<div>\n",
       "<style scoped>\n",
       "    .dataframe tbody tr th:only-of-type {\n",
       "        vertical-align: middle;\n",
       "    }\n",
       "\n",
       "    .dataframe tbody tr th {\n",
       "        vertical-align: top;\n",
       "    }\n",
       "\n",
       "    .dataframe thead th {\n",
       "        text-align: right;\n",
       "    }\n",
       "</style>\n",
       "<table border=\"1\" class=\"dataframe\">\n",
       "  <thead>\n",
       "    <tr style=\"text-align: right;\">\n",
       "      <th></th>\n",
       "      <th>flipper_length_mm</th>\n",
       "      <th>body_mass_g</th>\n",
       "      <th>sex</th>\n",
       "      <th>species</th>\n",
       "      <th>cluster</th>\n",
       "    </tr>\n",
       "  </thead>\n",
       "  <tbody>\n",
       "    <tr>\n",
       "      <th>0</th>\n",
       "      <td>0.152542</td>\n",
       "      <td>0.291667</td>\n",
       "      <td>Male</td>\n",
       "      <td>Adelie</td>\n",
       "      <td>0</td>\n",
       "    </tr>\n",
       "    <tr>\n",
       "      <th>1</th>\n",
       "      <td>0.237288</td>\n",
       "      <td>0.305556</td>\n",
       "      <td>Female</td>\n",
       "      <td>Adelie</td>\n",
       "      <td>0</td>\n",
       "    </tr>\n",
       "    <tr>\n",
       "      <th>2</th>\n",
       "      <td>0.389831</td>\n",
       "      <td>0.152778</td>\n",
       "      <td>Female</td>\n",
       "      <td>Adelie</td>\n",
       "      <td>3</td>\n",
       "    </tr>\n",
       "    <tr>\n",
       "      <th>3</th>\n",
       "      <td>0.355932</td>\n",
       "      <td>0.208333</td>\n",
       "      <td>Female</td>\n",
       "      <td>Adelie</td>\n",
       "      <td>3</td>\n",
       "    </tr>\n",
       "    <tr>\n",
       "      <th>4</th>\n",
       "      <td>0.305085</td>\n",
       "      <td>0.263889</td>\n",
       "      <td>Male</td>\n",
       "      <td>Adelie</td>\n",
       "      <td>3</td>\n",
       "    </tr>\n",
       "  </tbody>\n",
       "</table>\n",
       "</div>"
      ],
      "text/plain": [
       "   flipper_length_mm  body_mass_g     sex species  cluster\n",
       "0           0.152542     0.291667    Male  Adelie        0\n",
       "1           0.237288     0.305556  Female  Adelie        0\n",
       "2           0.389831     0.152778  Female  Adelie        3\n",
       "3           0.355932     0.208333  Female  Adelie        3\n",
       "4           0.305085     0.263889    Male  Adelie        3"
      ]
     },
     "execution_count": 39,
     "metadata": {},
     "output_type": "execute_result"
    }
   ],
   "source": [
    "pen_df.head()"
   ]
  },
  {
   "cell_type": "markdown",
   "metadata": {},
   "source": [
    "## Visualize Gaussiean Mixture Model results\n"
   ]
  },
  {
   "cell_type": "code",
   "execution_count": 38,
   "metadata": {},
   "outputs": [
    {
     "data": {
      "text/plain": [
       "Text(0.5, 1.0, 'GMM with Scaled Penguins Data (flipper and mass) and six clusters')"
      ]
     },
     "execution_count": 38,
     "metadata": {},
     "output_type": "execute_result"
    },
    {
     "data": {
      "image/png": "[encoded data removed]",
      "text/plain": [
       "<Figure size 576x432 with 1 Axes>"
      ]
     },
     "metadata": {
      "needs_background": "light"
     },
     "output_type": "display_data"
    }
   ],
   "source": [
    "plt.scatter(pen_df['flipper_length_mm'], pen_df['body_mass_g'], c=pen_df['cluster'])\n",
    "plt.xlabel(\"flipper_length_mm\")\n",
    "plt.ylabel(\"body_mass_g\")\n",
    "plt.title(\"GMM with Scaled Penguins Data (flipper and mass) and six clusters\")"
   ]
  },
  {
   "cell_type": "markdown",
   "metadata": {},
   "source": [
    "## Plot actual results to compare"
   ]
  },
  {
   "cell_type": "code",
   "execution_count": 40,
   "metadata": {},
   "outputs": [
    {
     "data": {
      "text/plain": [
       "<matplotlib.legend.Legend at 0x7f8b5ab5b510>"
      ]
     },
     "execution_count": 40,
     "metadata": {},
     "output_type": "execute_result"
    },
    {
     "data": {
      "image/png": "[encoded data removed]",
      "text/plain": [
       "<Figure size 576x432 with 1 Axes>"
      ]
     },
     "metadata": {
      "needs_background": "light"
     },
     "output_type": "display_data"
    }
   ],
   "source": [
    "sns.scatterplot(x=\"flipper_length_mm\", y=\"body_mass_g\",\n",
    "                data=pen_df, \n",
    "                hue=\"species\",\n",
    "                style=\"sex\",\n",
    "                s=60)\n",
    "plt.xlabel(\"flipper_length_mm\")\n",
    "plt.ylabel(\"body_mass_g\")\n",
    "plt.title(\"Scaled Penguins True Data\")\n",
    "plt.legend(bbox_to_anchor=(1.05, 1), loc='upper left', borderaxespad=0)"
   ]
  },
  {
   "cell_type": "code",
   "execution_count": null,
   "metadata": {},
   "outputs": [],
   "source": []
  }
 ],
 "metadata": {
  "interpreter": {
   "hash": "dca0ade3e726a953b501b15e8e990130d2b7799f14cfd9f4271676035ebe5511"
  },
  "kernelspec": {
   "display_name": "Python 3.8.8 64-bit ('base': conda)",
   "name": "python3"
  },
  "language_info": {
   "codemirror_mode": {
    "name": "ipython",
    "version": 3
   },
   "file_extension": ".py",
   "mimetype": "text/x-python",
   "name": "python",
   "nbconvert_exporter": "python",
   "pygments_lexer": "ipython3",
   "version": "3.8.8"
  }
 },
 "nbformat": 4,
 "nbformat_minor": 4
}
