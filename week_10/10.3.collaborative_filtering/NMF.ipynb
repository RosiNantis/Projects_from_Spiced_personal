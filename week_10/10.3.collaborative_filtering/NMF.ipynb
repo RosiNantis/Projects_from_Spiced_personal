{
 "cells": [
  {
   "cell_type": "code",
   "execution_count": 37,
   "metadata": {},
   "outputs": [],
   "source": [
    "import numpy as np\n",
    "import pandas as pd\n",
    "import numpy as np\n",
    "import matplotlib.pyplot as plt"
   ]
  },
  {
   "cell_type": "markdown",
   "metadata": {},
   "source": [
    "# Recommenders with NMF\n",
    "### Non-negative Matrix factorization"
   ]
  },
  {
   "cell_type": "markdown",
   "metadata": {},
   "source": [
    "### Idea\n",
    "- We approximate (the missing values of) the matrix we need: user-rating matrix decomposing the information of the final matrix by *factorizing* it into two other ones that we can actually derive\n",
    "- *factorizing*: decomposing a matrix into a product of two matrices\n",
    "- *non-negative*: all of our matrices only allow positive values"
   ]
  },
  {
   "cell_type": "markdown",
   "metadata": {},
   "source": [
    "### The Data\n",
    "#### Matrix of Users:Ratings (Rtrue) "
   ]
  },
  {
   "cell_type": "code",
   "execution_count": 2,
   "metadata": {},
   "outputs": [],
   "source": [
    "movies = ['Titanic', 'Breakfast at Tiffanys', 'Terminator', 'Star Trek', 'Star Wars']\n",
    "users = ['Ada', 'Bob', 'Steve', 'Margaret']\n",
    "Rtrue = np.array([[5, 4, 1, 1, np.nan],\n",
    "                  [3, 2, 1, np.nan, 1],\n",
    "                  [np.nan, np.nan, np.nan, np.nan, 5],\n",
    "                  [1, 1, 5, 4, 4]])"
   ]
  },
  {
   "cell_type": "code",
   "execution_count": 3,
   "metadata": {},
   "outputs": [
    {
     "data": {
      "text/html": [
       "<div>\n",
       "<style scoped>\n",
       "    .dataframe tbody tr th:only-of-type {\n",
       "        vertical-align: middle;\n",
       "    }\n",
       "\n",
       "    .dataframe tbody tr th {\n",
       "        vertical-align: top;\n",
       "    }\n",
       "\n",
       "    .dataframe thead th {\n",
       "        text-align: right;\n",
       "    }\n",
       "</style>\n",
       "<table border=\"1\" class=\"dataframe\">\n",
       "  <thead>\n",
       "    <tr style=\"text-align: right;\">\n",
       "      <th></th>\n",
       "      <th>Titanic</th>\n",
       "      <th>Breakfast at Tiffanys</th>\n",
       "      <th>Terminator</th>\n",
       "      <th>Star Trek</th>\n",
       "      <th>Star Wars</th>\n",
       "    </tr>\n",
       "  </thead>\n",
       "  <tbody>\n",
       "    <tr>\n",
       "      <th>Ada</th>\n",
       "      <td>5.0</td>\n",
       "      <td>4.0</td>\n",
       "      <td>1.0</td>\n",
       "      <td>1.0</td>\n",
       "      <td>NaN</td>\n",
       "    </tr>\n",
       "    <tr>\n",
       "      <th>Bob</th>\n",
       "      <td>3.0</td>\n",
       "      <td>2.0</td>\n",
       "      <td>1.0</td>\n",
       "      <td>NaN</td>\n",
       "      <td>1.0</td>\n",
       "    </tr>\n",
       "    <tr>\n",
       "      <th>Steve</th>\n",
       "      <td>NaN</td>\n",
       "      <td>NaN</td>\n",
       "      <td>NaN</td>\n",
       "      <td>NaN</td>\n",
       "      <td>5.0</td>\n",
       "    </tr>\n",
       "    <tr>\n",
       "      <th>Margaret</th>\n",
       "      <td>1.0</td>\n",
       "      <td>1.0</td>\n",
       "      <td>5.0</td>\n",
       "      <td>4.0</td>\n",
       "      <td>4.0</td>\n",
       "    </tr>\n",
       "  </tbody>\n",
       "</table>\n",
       "</div>"
      ],
      "text/plain": [
       "          Titanic  Breakfast at Tiffanys  Terminator  Star Trek  Star Wars\n",
       "Ada           5.0                    4.0         1.0        1.0        NaN\n",
       "Bob           3.0                    2.0         1.0        NaN        1.0\n",
       "Steve         NaN                    NaN         NaN        NaN        5.0\n",
       "Margaret      1.0                    1.0         5.0        4.0        4.0"
      ]
     },
     "execution_count": 3,
     "metadata": {},
     "output_type": "execute_result"
    }
   ],
   "source": [
    "df = pd.DataFrame(Rtrue, index=users, columns=movies)\n",
    "df"
   ]
  },
  {
   "cell_type": "markdown",
   "metadata": {},
   "source": [
    "#### More interesting data "
   ]
  },
  {
   "cell_type": "code",
   "execution_count": 4,
   "metadata": {},
   "outputs": [],
   "source": [
    "df = pd.read_csv('../data/cohort_rated_movies.csv', index_col= 'User', na_values = 'Nan')"
   ]
  },
  {
   "cell_type": "code",
   "execution_count": 5,
   "metadata": {},
   "outputs": [
    {
     "data": {
      "text/html": [
       "<div>\n",
       "<style scoped>\n",
       "    .dataframe tbody tr th:only-of-type {\n",
       "        vertical-align: middle;\n",
       "    }\n",
       "\n",
       "    .dataframe tbody tr th {\n",
       "        vertical-align: top;\n",
       "    }\n",
       "\n",
       "    .dataframe thead th {\n",
       "        text-align: right;\n",
       "    }\n",
       "</style>\n",
       "<table border=\"1\" class=\"dataframe\">\n",
       "  <thead>\n",
       "    <tr style=\"text-align: right;\">\n",
       "      <th></th>\n",
       "      <th>Forrest Gump</th>\n",
       "      <th>Shawshank Redemption</th>\n",
       "      <th>Pulp Fiction</th>\n",
       "      <th>Silence of the Lambs</th>\n",
       "      <th>Matrix, The</th>\n",
       "      <th>Star Wars: Episode IV</th>\n",
       "      <th>Jurassic Park</th>\n",
       "      <th>Braveheart</th>\n",
       "      <th>Terminator 2</th>\n",
       "      <th>Toy Story</th>\n",
       "      <th>American Beauty</th>\n",
       "      <th>Dances with Wolves</th>\n",
       "      <th>Lord of The Rings Trilogy</th>\n",
       "      <th>Lion King</th>\n",
       "    </tr>\n",
       "    <tr>\n",
       "      <th>User</th>\n",
       "      <th></th>\n",
       "      <th></th>\n",
       "      <th></th>\n",
       "      <th></th>\n",
       "      <th></th>\n",
       "      <th></th>\n",
       "      <th></th>\n",
       "      <th></th>\n",
       "      <th></th>\n",
       "      <th></th>\n",
       "      <th></th>\n",
       "      <th></th>\n",
       "      <th></th>\n",
       "      <th></th>\n",
       "    </tr>\n",
       "  </thead>\n",
       "  <tbody>\n",
       "    <tr>\n",
       "      <th>Ahmed</th>\n",
       "      <td>5</td>\n",
       "      <td>5.0</td>\n",
       "      <td>4.0</td>\n",
       "      <td>3.0</td>\n",
       "      <td>5</td>\n",
       "      <td>2.0</td>\n",
       "      <td>2</td>\n",
       "      <td>1.0</td>\n",
       "      <td>4.0</td>\n",
       "      <td>5.0</td>\n",
       "      <td>4.0</td>\n",
       "      <td>NaN</td>\n",
       "      <td>5</td>\n",
       "      <td>5</td>\n",
       "    </tr>\n",
       "    <tr>\n",
       "      <th>Jenny</th>\n",
       "      <td>5</td>\n",
       "      <td>4.0</td>\n",
       "      <td>5.0</td>\n",
       "      <td>NaN</td>\n",
       "      <td>2</td>\n",
       "      <td>1.0</td>\n",
       "      <td>5</td>\n",
       "      <td>5.0</td>\n",
       "      <td>4.0</td>\n",
       "      <td>5.0</td>\n",
       "      <td>4.0</td>\n",
       "      <td>4.0</td>\n",
       "      <td>3</td>\n",
       "      <td>5</td>\n",
       "    </tr>\n",
       "    <tr>\n",
       "      <th>Sima</th>\n",
       "      <td>5</td>\n",
       "      <td>5.0</td>\n",
       "      <td>5.0</td>\n",
       "      <td>5.0</td>\n",
       "      <td>3</td>\n",
       "      <td>2.0</td>\n",
       "      <td>2</td>\n",
       "      <td>1.0</td>\n",
       "      <td>5.0</td>\n",
       "      <td>5.0</td>\n",
       "      <td>4.0</td>\n",
       "      <td>NaN</td>\n",
       "      <td>5</td>\n",
       "      <td>2</td>\n",
       "    </tr>\n",
       "    <tr>\n",
       "      <th>Gülcin</th>\n",
       "      <td>5</td>\n",
       "      <td>5.0</td>\n",
       "      <td>5.0</td>\n",
       "      <td>5.0</td>\n",
       "      <td>4</td>\n",
       "      <td>5.0</td>\n",
       "      <td>3</td>\n",
       "      <td>2.0</td>\n",
       "      <td>2.0</td>\n",
       "      <td>NaN</td>\n",
       "      <td>5.0</td>\n",
       "      <td>NaN</td>\n",
       "      <td>4</td>\n",
       "      <td>3</td>\n",
       "    </tr>\n",
       "    <tr>\n",
       "      <th>Shea</th>\n",
       "      <td>4</td>\n",
       "      <td>5.0</td>\n",
       "      <td>5.0</td>\n",
       "      <td>5.0</td>\n",
       "      <td>4</td>\n",
       "      <td>2.0</td>\n",
       "      <td>3</td>\n",
       "      <td>3.0</td>\n",
       "      <td>4.0</td>\n",
       "      <td>3.0</td>\n",
       "      <td>4.0</td>\n",
       "      <td>2.0</td>\n",
       "      <td>3</td>\n",
       "      <td>3</td>\n",
       "    </tr>\n",
       "    <tr>\n",
       "      <th>Dalal</th>\n",
       "      <td>4</td>\n",
       "      <td>4.0</td>\n",
       "      <td>5.0</td>\n",
       "      <td>5.0</td>\n",
       "      <td>5</td>\n",
       "      <td>4.0</td>\n",
       "      <td>4</td>\n",
       "      <td>4.0</td>\n",
       "      <td>NaN</td>\n",
       "      <td>2.0</td>\n",
       "      <td>5.0</td>\n",
       "      <td>NaN</td>\n",
       "      <td>5</td>\n",
       "      <td>4</td>\n",
       "    </tr>\n",
       "    <tr>\n",
       "      <th>Maisam</th>\n",
       "      <td>5</td>\n",
       "      <td>NaN</td>\n",
       "      <td>5.0</td>\n",
       "      <td>5.0</td>\n",
       "      <td>4</td>\n",
       "      <td>2.0</td>\n",
       "      <td>2</td>\n",
       "      <td>2.0</td>\n",
       "      <td>3.0</td>\n",
       "      <td>5.0</td>\n",
       "      <td>5.0</td>\n",
       "      <td>4.0</td>\n",
       "      <td>4</td>\n",
       "      <td>4</td>\n",
       "    </tr>\n",
       "    <tr>\n",
       "      <th>Media</th>\n",
       "      <td>5</td>\n",
       "      <td>NaN</td>\n",
       "      <td>5.0</td>\n",
       "      <td>4.0</td>\n",
       "      <td>4</td>\n",
       "      <td>2.0</td>\n",
       "      <td>2</td>\n",
       "      <td>2.0</td>\n",
       "      <td>1.0</td>\n",
       "      <td>4.0</td>\n",
       "      <td>5.0</td>\n",
       "      <td>NaN</td>\n",
       "      <td>3</td>\n",
       "      <td>4</td>\n",
       "    </tr>\n",
       "    <tr>\n",
       "      <th>alex</th>\n",
       "      <td>5</td>\n",
       "      <td>5.0</td>\n",
       "      <td>4.0</td>\n",
       "      <td>4.0</td>\n",
       "      <td>5</td>\n",
       "      <td>NaN</td>\n",
       "      <td>3</td>\n",
       "      <td>3.0</td>\n",
       "      <td>2.0</td>\n",
       "      <td>3.0</td>\n",
       "      <td>4.0</td>\n",
       "      <td>4.0</td>\n",
       "      <td>4</td>\n",
       "      <td>3</td>\n",
       "    </tr>\n",
       "    <tr>\n",
       "      <th>Hakan</th>\n",
       "      <td>5</td>\n",
       "      <td>5.0</td>\n",
       "      <td>5.0</td>\n",
       "      <td>5.0</td>\n",
       "      <td>5</td>\n",
       "      <td>3.0</td>\n",
       "      <td>2</td>\n",
       "      <td>5.0</td>\n",
       "      <td>4.0</td>\n",
       "      <td>3.0</td>\n",
       "      <td>5.0</td>\n",
       "      <td>5.0</td>\n",
       "      <td>4</td>\n",
       "      <td>2</td>\n",
       "    </tr>\n",
       "    <tr>\n",
       "      <th>Manuel</th>\n",
       "      <td>4</td>\n",
       "      <td>4.0</td>\n",
       "      <td>5.0</td>\n",
       "      <td>3.0</td>\n",
       "      <td>3</td>\n",
       "      <td>3.0</td>\n",
       "      <td>3</td>\n",
       "      <td>3.0</td>\n",
       "      <td>3.0</td>\n",
       "      <td>3.0</td>\n",
       "      <td>5.0</td>\n",
       "      <td>4.0</td>\n",
       "      <td>3</td>\n",
       "      <td>2</td>\n",
       "    </tr>\n",
       "    <tr>\n",
       "      <th>Nara</th>\n",
       "      <td>5</td>\n",
       "      <td>NaN</td>\n",
       "      <td>NaN</td>\n",
       "      <td>3.0</td>\n",
       "      <td>4</td>\n",
       "      <td>3.0</td>\n",
       "      <td>3</td>\n",
       "      <td>3.0</td>\n",
       "      <td>3.0</td>\n",
       "      <td>4.0</td>\n",
       "      <td>NaN</td>\n",
       "      <td>NaN</td>\n",
       "      <td>3</td>\n",
       "      <td>4</td>\n",
       "    </tr>\n",
       "    <tr>\n",
       "      <th>Siamak</th>\n",
       "      <td>5</td>\n",
       "      <td>NaN</td>\n",
       "      <td>5.0</td>\n",
       "      <td>5.0</td>\n",
       "      <td>2</td>\n",
       "      <td>2.0</td>\n",
       "      <td>1</td>\n",
       "      <td>NaN</td>\n",
       "      <td>3.0</td>\n",
       "      <td>2.0</td>\n",
       "      <td>3.0</td>\n",
       "      <td>NaN</td>\n",
       "      <td>2</td>\n",
       "      <td>4</td>\n",
       "    </tr>\n",
       "    <tr>\n",
       "      <th>Md Najrul</th>\n",
       "      <td>5</td>\n",
       "      <td>5.0</td>\n",
       "      <td>3.0</td>\n",
       "      <td>3.0</td>\n",
       "      <td>3</td>\n",
       "      <td>3.0</td>\n",
       "      <td>4</td>\n",
       "      <td>5.0</td>\n",
       "      <td>5.0</td>\n",
       "      <td>2.0</td>\n",
       "      <td>5.0</td>\n",
       "      <td>5.0</td>\n",
       "      <td>5</td>\n",
       "      <td>3</td>\n",
       "    </tr>\n",
       "  </tbody>\n",
       "</table>\n",
       "</div>"
      ],
      "text/plain": [
       "           Forrest Gump  Shawshank Redemption  Pulp Fiction  \\\n",
       "User                                                          \n",
       "Ahmed                 5                   5.0           4.0   \n",
       "Jenny                 5                   4.0           5.0   \n",
       "Sima                  5                   5.0           5.0   \n",
       "Gülcin                5                   5.0           5.0   \n",
       "Shea                  4                   5.0           5.0   \n",
       "Dalal                 4                   4.0           5.0   \n",
       "Maisam                5                   NaN           5.0   \n",
       "Media                 5                   NaN           5.0   \n",
       "alex                  5                   5.0           4.0   \n",
       "Hakan                 5                   5.0           5.0   \n",
       "Manuel                4                   4.0           5.0   \n",
       "Nara                  5                   NaN           NaN   \n",
       "Siamak                5                   NaN           5.0   \n",
       "Md Najrul             5                   5.0           3.0   \n",
       "\n",
       "           Silence of the Lambs  Matrix, The  Star Wars: Episode IV   \\\n",
       "User                                                                   \n",
       "Ahmed                       3.0            5                     2.0   \n",
       "Jenny                       NaN            2                     1.0   \n",
       "Sima                        5.0            3                     2.0   \n",
       "Gülcin                      5.0            4                     5.0   \n",
       "Shea                        5.0            4                     2.0   \n",
       "Dalal                       5.0            5                     4.0   \n",
       "Maisam                      5.0            4                     2.0   \n",
       "Media                       4.0            4                     2.0   \n",
       "alex                        4.0            5                     NaN   \n",
       "Hakan                       5.0            5                     3.0   \n",
       "Manuel                      3.0            3                     3.0   \n",
       "Nara                        3.0            4                     3.0   \n",
       "Siamak                      5.0            2                     2.0   \n",
       "Md Najrul                   3.0            3                     3.0   \n",
       "\n",
       "           Jurassic Park  Braveheart  Terminator 2  Toy Story  \\\n",
       "User                                                            \n",
       "Ahmed                  2         1.0           4.0        5.0   \n",
       "Jenny                  5         5.0           4.0        5.0   \n",
       "Sima                   2         1.0           5.0        5.0   \n",
       "Gülcin                 3         2.0           2.0        NaN   \n",
       "Shea                   3         3.0           4.0        3.0   \n",
       "Dalal                  4         4.0           NaN        2.0   \n",
       "Maisam                 2         2.0           3.0        5.0   \n",
       "Media                  2         2.0           1.0        4.0   \n",
       "alex                   3         3.0           2.0        3.0   \n",
       "Hakan                  2         5.0           4.0        3.0   \n",
       "Manuel                 3         3.0           3.0        3.0   \n",
       "Nara                   3         3.0           3.0        4.0   \n",
       "Siamak                 1         NaN           3.0        2.0   \n",
       "Md Najrul              4         5.0           5.0        2.0   \n",
       "\n",
       "           American Beauty  Dances with Wolves  Lord of The Rings Trilogy  \\\n",
       "User                                                                        \n",
       "Ahmed                  4.0                 NaN                          5   \n",
       "Jenny                  4.0                 4.0                          3   \n",
       "Sima                   4.0                 NaN                          5   \n",
       "Gülcin                 5.0                 NaN                          4   \n",
       "Shea                   4.0                 2.0                          3   \n",
       "Dalal                  5.0                 NaN                          5   \n",
       "Maisam                 5.0                 4.0                          4   \n",
       "Media                  5.0                 NaN                          3   \n",
       "alex                   4.0                 4.0                          4   \n",
       "Hakan                  5.0                 5.0                          4   \n",
       "Manuel                 5.0                 4.0                          3   \n",
       "Nara                   NaN                 NaN                          3   \n",
       "Siamak                 3.0                 NaN                          2   \n",
       "Md Najrul              5.0                 5.0                          5   \n",
       "\n",
       "           Lion King  \n",
       "User                  \n",
       "Ahmed              5  \n",
       "Jenny              5  \n",
       "Sima               2  \n",
       "Gülcin             3  \n",
       "Shea               3  \n",
       "Dalal              4  \n",
       "Maisam             4  \n",
       "Media              4  \n",
       "alex               3  \n",
       "Hakan              2  \n",
       "Manuel             2  \n",
       "Nara               4  \n",
       "Siamak             4  \n",
       "Md Najrul          3  "
      ]
     },
     "execution_count": 5,
     "metadata": {},
     "output_type": "execute_result"
    }
   ],
   "source": [
    "df"
   ]
  },
  {
   "cell_type": "markdown",
   "metadata": {},
   "source": [
    "The NMF algorithm in sklearn doesn't take missing values...\n",
    "Other options that do take missing values: http://surpriselib.com/"
   ]
  },
  {
   "cell_type": "markdown",
   "metadata": {},
   "source": [
    "### 0. How do we deal with missing values (Imputation)?\n",
    "##### Ideas?\n",
    "- Fill with mean or median (e.g. 2 or 3, 2.5) <- easy, quick, maybe good enough?\n",
    "- Fill in with 0 <- would be interpreted as \"person didn't like the movie\", not such a good idea\n",
    "- Fill missing values with more sophisticated algorith:\n",
    "    - e.g. mean user rating for similar movie genre\n",
    "    - KNN imputer (exists in sklearn): computational expensive"
   ]
  },
  {
   "cell_type": "code",
   "execution_count": 6,
   "metadata": {},
   "outputs": [],
   "source": [
    "from sklearn.impute import SimpleImputer"
   ]
  },
  {
   "cell_type": "code",
   "execution_count": 7,
   "metadata": {},
   "outputs": [],
   "source": [
    "imputer = SimpleImputer(strategy = 'constant', fill_value= 2.5) # add the NaN with the average of movie recommendations "
   ]
  },
  {
   "cell_type": "code",
   "execution_count": 8,
   "metadata": {},
   "outputs": [],
   "source": [
    "Rtrue = imputer.fit_transform(df)"
   ]
  },
  {
   "cell_type": "code",
   "execution_count": 9,
   "metadata": {},
   "outputs": [
    {
     "data": {
      "text/plain": [
       "array([[5. , 5. , 4. , 3. , 5. , 2. , 2. , 1. , 4. , 5. , 4. , 2.5, 5. ,\n",
       "        5. ],\n",
       "       [5. , 4. , 5. , 2.5, 2. , 1. , 5. , 5. , 4. , 5. , 4. , 4. , 3. ,\n",
       "        5. ],\n",
       "       [5. , 5. , 5. , 5. , 3. , 2. , 2. , 1. , 5. , 5. , 4. , 2.5, 5. ,\n",
       "        2. ],\n",
       "       [5. , 5. , 5. , 5. , 4. , 5. , 3. , 2. , 2. , 2.5, 5. , 2.5, 4. ,\n",
       "        3. ],\n",
       "       [4. , 5. , 5. , 5. , 4. , 2. , 3. , 3. , 4. , 3. , 4. , 2. , 3. ,\n",
       "        3. ],\n",
       "       [4. , 4. , 5. , 5. , 5. , 4. , 4. , 4. , 2.5, 2. , 5. , 2.5, 5. ,\n",
       "        4. ],\n",
       "       [5. , 2.5, 5. , 5. , 4. , 2. , 2. , 2. , 3. , 5. , 5. , 4. , 4. ,\n",
       "        4. ],\n",
       "       [5. , 2.5, 5. , 4. , 4. , 2. , 2. , 2. , 1. , 4. , 5. , 2.5, 3. ,\n",
       "        4. ],\n",
       "       [5. , 5. , 4. , 4. , 5. , 2.5, 3. , 3. , 2. , 3. , 4. , 4. , 4. ,\n",
       "        3. ],\n",
       "       [5. , 5. , 5. , 5. , 5. , 3. , 2. , 5. , 4. , 3. , 5. , 5. , 4. ,\n",
       "        2. ],\n",
       "       [4. , 4. , 5. , 3. , 3. , 3. , 3. , 3. , 3. , 3. , 5. , 4. , 3. ,\n",
       "        2. ],\n",
       "       [5. , 2.5, 2.5, 3. , 4. , 3. , 3. , 3. , 3. , 4. , 2.5, 2.5, 3. ,\n",
       "        4. ],\n",
       "       [5. , 2.5, 5. , 5. , 2. , 2. , 1. , 2.5, 3. , 2. , 3. , 2.5, 2. ,\n",
       "        4. ],\n",
       "       [5. , 5. , 3. , 3. , 3. , 3. , 4. , 5. , 5. , 2. , 5. , 5. , 5. ,\n",
       "        3. ]])"
      ]
     },
     "execution_count": 9,
     "metadata": {},
     "output_type": "execute_result"
    }
   ],
   "source": [
    "Rtrue"
   ]
  },
  {
   "cell_type": "markdown",
   "metadata": {},
   "source": [
    "### 1. Create a model \n",
    "Model assumes R ~ PQ'"
   ]
  },
  {
   "cell_type": "code",
   "execution_count": 10,
   "metadata": {},
   "outputs": [],
   "source": [
    "from sklearn.decomposition import NMF"
   ]
  },
  {
   "cell_type": "code",
   "execution_count": 11,
   "metadata": {},
   "outputs": [],
   "source": [
    "model = NMF(n_components=2, max_iter= 500)  # n_components is the number of features selected. Frot eh example in the class the n_components is 2"
   ]
  },
  {
   "cell_type": "markdown",
   "metadata": {},
   "source": [
    "- Components (# of hidden feutures, in our example 'genres'):\n",
    "    * Small `n_components` = trains fast, might underfit\n",
    "    * High `n_components` = trains slow, might overfit"
   ]
  },
  {
   "cell_type": "code",
   "execution_count": 12,
   "metadata": {},
   "outputs": [
    {
     "data": {
      "text/plain": [
       "NMF(max_iter=500, n_components=2)"
      ]
     },
     "execution_count": 12,
     "metadata": {},
     "output_type": "execute_result"
    }
   ],
   "source": [
    "model.fit(Rtrue)"
   ]
  },
  {
   "cell_type": "markdown",
   "metadata": {},
   "source": [
    "### 2. Get matrices **Q** and **P**\n",
    "- `Q`: `model.components_`\n",
    "- `P`: `model.transform(RTrue)`"
   ]
  },
  {
   "cell_type": "markdown",
   "metadata": {},
   "source": [
    "#### Q: Movie-'genre' matrix"
   ]
  },
  {
   "cell_type": "code",
   "execution_count": 14,
   "metadata": {},
   "outputs": [
    {
     "data": {
      "text/plain": [
       "array([[2.40259333, 1.80556095, 2.40321663, 2.28225363, 2.00880412,\n",
       "        1.18967184, 0.93186721, 0.70943103, 1.35683415, 2.04486642,\n",
       "        2.05216336, 1.18256902, 1.84890585, 1.82232328],\n",
       "       [0.84224856, 1.26686401, 0.5586944 , 0.29326581, 0.48971819,\n",
       "        0.71945087, 1.46665666, 2.13516283, 1.1636387 , 0.        ,\n",
       "        1.04752169, 1.52243799, 0.83959585, 0.38246249]])"
      ]
     },
     "execution_count": 14,
     "metadata": {},
     "output_type": "execute_result"
    }
   ],
   "source": [
    "Q = model.components_\n",
    "Q"
   ]
  },
  {
   "cell_type": "code",
   "execution_count": 15,
   "metadata": {},
   "outputs": [
    {
     "data": {
      "text/html": [
       "<div>\n",
       "<style scoped>\n",
       "    .dataframe tbody tr th:only-of-type {\n",
       "        vertical-align: middle;\n",
       "    }\n",
       "\n",
       "    .dataframe tbody tr th {\n",
       "        vertical-align: top;\n",
       "    }\n",
       "\n",
       "    .dataframe thead th {\n",
       "        text-align: right;\n",
       "    }\n",
       "</style>\n",
       "<table border=\"1\" class=\"dataframe\">\n",
       "  <thead>\n",
       "    <tr style=\"text-align: right;\">\n",
       "      <th></th>\n",
       "      <th>Forrest Gump</th>\n",
       "      <th>Shawshank Redemption</th>\n",
       "      <th>Pulp Fiction</th>\n",
       "      <th>Silence of the Lambs</th>\n",
       "      <th>Matrix, The</th>\n",
       "      <th>Star Wars: Episode IV</th>\n",
       "      <th>Jurassic Park</th>\n",
       "      <th>Braveheart</th>\n",
       "      <th>Terminator 2</th>\n",
       "      <th>Toy Story</th>\n",
       "      <th>American Beauty</th>\n",
       "      <th>Dances with Wolves</th>\n",
       "      <th>Lord of The Rings Trilogy</th>\n",
       "      <th>Lion King</th>\n",
       "    </tr>\n",
       "  </thead>\n",
       "  <tbody>\n",
       "    <tr>\n",
       "      <th>feature1</th>\n",
       "      <td>2.402593</td>\n",
       "      <td>1.805561</td>\n",
       "      <td>2.403217</td>\n",
       "      <td>2.282254</td>\n",
       "      <td>2.008804</td>\n",
       "      <td>1.189672</td>\n",
       "      <td>0.931867</td>\n",
       "      <td>0.709431</td>\n",
       "      <td>1.356834</td>\n",
       "      <td>2.044866</td>\n",
       "      <td>2.052163</td>\n",
       "      <td>1.182569</td>\n",
       "      <td>1.848906</td>\n",
       "      <td>1.822323</td>\n",
       "    </tr>\n",
       "    <tr>\n",
       "      <th>feature2</th>\n",
       "      <td>0.842249</td>\n",
       "      <td>1.266864</td>\n",
       "      <td>0.558694</td>\n",
       "      <td>0.293266</td>\n",
       "      <td>0.489718</td>\n",
       "      <td>0.719451</td>\n",
       "      <td>1.466657</td>\n",
       "      <td>2.135163</td>\n",
       "      <td>1.163639</td>\n",
       "      <td>0.000000</td>\n",
       "      <td>1.047522</td>\n",
       "      <td>1.522438</td>\n",
       "      <td>0.839596</td>\n",
       "      <td>0.382462</td>\n",
       "    </tr>\n",
       "  </tbody>\n",
       "</table>\n",
       "</div>"
      ],
      "text/plain": [
       "          Forrest Gump  Shawshank Redemption  Pulp Fiction  \\\n",
       "feature1      2.402593              1.805561      2.403217   \n",
       "feature2      0.842249              1.266864      0.558694   \n",
       "\n",
       "          Silence of the Lambs  Matrix, The  Star Wars: Episode IV   \\\n",
       "feature1              2.282254     2.008804                1.189672   \n",
       "feature2              0.293266     0.489718                0.719451   \n",
       "\n",
       "          Jurassic Park  Braveheart  Terminator 2  Toy Story  American Beauty  \\\n",
       "feature1       0.931867    0.709431      1.356834   2.044866         2.052163   \n",
       "feature2       1.466657    2.135163      1.163639   0.000000         1.047522   \n",
       "\n",
       "          Dances with Wolves  Lord of The Rings Trilogy  Lion King  \n",
       "feature1            1.182569                   1.848906   1.822323  \n",
       "feature2            1.522438                   0.839596   0.382462  "
      ]
     },
     "execution_count": 15,
     "metadata": {},
     "output_type": "execute_result"
    }
   ],
   "source": [
    "Q_df = pd.DataFrame(model.components_, columns=df.columns, index=['feature1', 'feature2'])\n",
    "Q_df"
   ]
  },
  {
   "cell_type": "code",
   "execution_count": 16,
   "metadata": {},
   "outputs": [],
   "source": [
    "import seaborn as sns"
   ]
  },
  {
   "cell_type": "code",
   "execution_count": 17,
   "metadata": {},
   "outputs": [
    {
     "data": {
      "text/plain": [
       "<AxesSubplot:>"
      ]
     },
     "execution_count": 17,
     "metadata": {},
     "output_type": "execute_result"
    },
    {
     "data": {
      "image/png": "[encoded data removed]",
      "text/plain": [
       "<Figure size 432x288 with 2 Axes>"
      ]
     },
     "metadata": {
      "needs_background": "light"
     },
     "output_type": "display_data"
    }
   ],
   "source": [
    "sns.heatmap(Q_df)"
   ]
  },
  {
   "cell_type": "markdown",
   "metadata": {},
   "source": [
    "#### P: User-'genre' matrix"
   ]
  },
  {
   "cell_type": "code",
   "execution_count": 18,
   "metadata": {},
   "outputs": [
    {
     "data": {
      "text/plain": [
       "array([[2.12298199, 0.08972389],\n",
       "       [1.39640881, 1.61991708],\n",
       "       [2.06256886, 0.17321335],\n",
       "       [1.89023925, 0.59048493],\n",
       "       [1.68817603, 0.75610248],\n",
       "       [1.71879313, 1.12395843],\n",
       "       [2.09115564, 0.16364906],\n",
       "       [1.92341529, 0.        ],\n",
       "       [1.64281012, 0.96184685],\n",
       "       [1.63108874, 1.51568217],\n",
       "       [1.3788372 , 1.18300073],\n",
       "       [1.4555912 , 0.70533256],\n",
       "       [1.58886182, 0.29136436],\n",
       "       [1.11855283, 2.29305921]])"
      ]
     },
     "execution_count": 18,
     "metadata": {},
     "output_type": "execute_result"
    }
   ],
   "source": [
    "P = model.transform(Rtrue)\n",
    "P"
   ]
  },
  {
   "cell_type": "code",
   "execution_count": 19,
   "metadata": {},
   "outputs": [
    {
     "data": {
      "text/html": [
       "<div>\n",
       "<style scoped>\n",
       "    .dataframe tbody tr th:only-of-type {\n",
       "        vertical-align: middle;\n",
       "    }\n",
       "\n",
       "    .dataframe tbody tr th {\n",
       "        vertical-align: top;\n",
       "    }\n",
       "\n",
       "    .dataframe thead th {\n",
       "        text-align: right;\n",
       "    }\n",
       "</style>\n",
       "<table border=\"1\" class=\"dataframe\">\n",
       "  <thead>\n",
       "    <tr style=\"text-align: right;\">\n",
       "      <th></th>\n",
       "      <th>feature1</th>\n",
       "      <th>feature2</th>\n",
       "    </tr>\n",
       "    <tr>\n",
       "      <th>User</th>\n",
       "      <th></th>\n",
       "      <th></th>\n",
       "    </tr>\n",
       "  </thead>\n",
       "  <tbody>\n",
       "    <tr>\n",
       "      <th>Ahmed</th>\n",
       "      <td>2.122982</td>\n",
       "      <td>0.089724</td>\n",
       "    </tr>\n",
       "    <tr>\n",
       "      <th>Jenny</th>\n",
       "      <td>1.396409</td>\n",
       "      <td>1.619917</td>\n",
       "    </tr>\n",
       "    <tr>\n",
       "      <th>Sima</th>\n",
       "      <td>2.062569</td>\n",
       "      <td>0.173213</td>\n",
       "    </tr>\n",
       "    <tr>\n",
       "      <th>Gülcin</th>\n",
       "      <td>1.890239</td>\n",
       "      <td>0.590485</td>\n",
       "    </tr>\n",
       "    <tr>\n",
       "      <th>Shea</th>\n",
       "      <td>1.688176</td>\n",
       "      <td>0.756102</td>\n",
       "    </tr>\n",
       "    <tr>\n",
       "      <th>Dalal</th>\n",
       "      <td>1.718793</td>\n",
       "      <td>1.123958</td>\n",
       "    </tr>\n",
       "    <tr>\n",
       "      <th>Maisam</th>\n",
       "      <td>2.091156</td>\n",
       "      <td>0.163649</td>\n",
       "    </tr>\n",
       "    <tr>\n",
       "      <th>Media</th>\n",
       "      <td>1.923415</td>\n",
       "      <td>0.000000</td>\n",
       "    </tr>\n",
       "    <tr>\n",
       "      <th>alex</th>\n",
       "      <td>1.642810</td>\n",
       "      <td>0.961847</td>\n",
       "    </tr>\n",
       "    <tr>\n",
       "      <th>Hakan</th>\n",
       "      <td>1.631089</td>\n",
       "      <td>1.515682</td>\n",
       "    </tr>\n",
       "    <tr>\n",
       "      <th>Manuel</th>\n",
       "      <td>1.378837</td>\n",
       "      <td>1.183001</td>\n",
       "    </tr>\n",
       "    <tr>\n",
       "      <th>Nara</th>\n",
       "      <td>1.455591</td>\n",
       "      <td>0.705333</td>\n",
       "    </tr>\n",
       "    <tr>\n",
       "      <th>Siamak</th>\n",
       "      <td>1.588862</td>\n",
       "      <td>0.291364</td>\n",
       "    </tr>\n",
       "    <tr>\n",
       "      <th>Md Najrul</th>\n",
       "      <td>1.118553</td>\n",
       "      <td>2.293059</td>\n",
       "    </tr>\n",
       "  </tbody>\n",
       "</table>\n",
       "</div>"
      ],
      "text/plain": [
       "           feature1  feature2\n",
       "User                         \n",
       "Ahmed      2.122982  0.089724\n",
       "Jenny      1.396409  1.619917\n",
       "Sima       2.062569  0.173213\n",
       "Gülcin     1.890239  0.590485\n",
       "Shea       1.688176  0.756102\n",
       "Dalal      1.718793  1.123958\n",
       "Maisam     2.091156  0.163649\n",
       "Media      1.923415  0.000000\n",
       "alex       1.642810  0.961847\n",
       "Hakan      1.631089  1.515682\n",
       "Manuel     1.378837  1.183001\n",
       "Nara       1.455591  0.705333\n",
       "Siamak     1.588862  0.291364\n",
       "Md Najrul  1.118553  2.293059"
      ]
     },
     "execution_count": 19,
     "metadata": {},
     "output_type": "execute_result"
    }
   ],
   "source": [
    "P_df = pd.DataFrame(P, columns=['feature1', 'feature2'], index=df.index)\n",
    "P_df"
   ]
  },
  {
   "cell_type": "code",
   "execution_count": 20,
   "metadata": {},
   "outputs": [
    {
     "data": {
      "text/plain": [
       "<AxesSubplot:ylabel='User'>"
      ]
     },
     "execution_count": 20,
     "metadata": {},
     "output_type": "execute_result"
    },
    {
     "data": {
      "image/png": "[encoded data removed]",
      "text/plain": [
       "<Figure size 432x288 with 2 Axes>"
      ]
     },
     "metadata": {
      "needs_background": "light"
     },
     "output_type": "display_data"
    }
   ],
   "source": [
    "sns.heatmap(P_df)"
   ]
  },
  {
   "cell_type": "code",
   "execution_count": 21,
   "metadata": {},
   "outputs": [
    {
     "data": {
      "text/plain": [
       "11.284235841363476"
      ]
     },
     "execution_count": 21,
     "metadata": {},
     "output_type": "execute_result"
    }
   ],
   "source": [
    "model.reconstruction_err_"
   ]
  },
  {
   "cell_type": "code",
   "execution_count": 78,
   "metadata": {},
   "outputs": [
    {
     "name": "stderr",
     "output_type": "stream",
     "text": [
      "/opt/anaconda3/lib/python3.7/site-packages/sklearn/decomposition/_nmf.py:1077: ConvergenceWarning: Maximum number of iterations 500 reached. Increase it to improve convergence.\n",
      "  \" improve convergence.\" % max_iter, ConvergenceWarning)\n"
     ]
    },
    {
     "data": {
      "image/png": "[encoded data removed]",
      "text/plain": [
       "<Figure size 432x288 with 1 Axes>"
      ]
     },
     "metadata": {
      "needs_background": "light"
     },
     "output_type": "display_data"
    },
    {
     "name": "stdout",
     "output_type": "stream",
     "text": [
      "[11.284235841363476, 9.485263579664041, 8.016096876697228, 6.614438572893025]\n"
     ]
    }
   ],
   "source": [
    "from sklearn.decomposition import NMF\n",
    "import seaborn as sns\n",
    "error = []\n",
    "for i in np.arange(2,6):\n",
    "    model = NMF(n_components=i, max_iter= 500)  # n_components is the number of features selected. Frot eh example in the class the n_components is 2\n",
    "    model.fit(Rtrue)\n",
    "    Q = model.components_\n",
    "    Q_df = pd.DataFrame(model.components_, columns=df.columns)\n",
    "    P = model.transform(Rtrue)\n",
    "    P_df = pd.DataFrame(P,  index=df.index)\n",
    "    error.append(model.reconstruction_err_)\n",
    "error\n",
    "x = np.arange(2, 6)\n",
    "plt.plot(x, error, color =\"red\")\n",
    "plt.show()\n",
    "print(error)"
   ]
  },
  {
   "cell_type": "code",
   "execution_count": 79,
   "metadata": {},
   "outputs": [
    {
     "data": {
      "text/plain": [
       "<AxesSubplot:ylabel='User'>"
      ]
     },
     "execution_count": 79,
     "metadata": {},
     "output_type": "execute_result"
    },
    {
     "data": {
      "image/png": "[encoded data removed]",
      "text/plain": [
       "<Figure size 432x288 with 2 Axes>"
      ]
     },
     "metadata": {
      "needs_background": "light"
     },
     "output_type": "display_data"
    }
   ],
   "source": [
    "sns.heatmap(P_df,annot = True)"
   ]
  },
  {
   "cell_type": "markdown",
   "metadata": {},
   "source": [
    "#### (Reconstruct predicted R) <- not necessary for predictions"
   ]
  },
  {
   "cell_type": "code",
   "execution_count": 46,
   "metadata": {},
   "outputs": [],
   "source": [
    "R = pd.DataFrame(np.dot(P, Q).round(), index=df.index, columns=df.columns)"
   ]
  },
  {
   "cell_type": "code",
   "execution_count": 47,
   "metadata": {},
   "outputs": [
    {
     "data": {
      "text/html": [
       "<div>\n",
       "<style scoped>\n",
       "    .dataframe tbody tr th:only-of-type {\n",
       "        vertical-align: middle;\n",
       "    }\n",
       "\n",
       "    .dataframe tbody tr th {\n",
       "        vertical-align: top;\n",
       "    }\n",
       "\n",
       "    .dataframe thead th {\n",
       "        text-align: right;\n",
       "    }\n",
       "</style>\n",
       "<table border=\"1\" class=\"dataframe\">\n",
       "  <thead>\n",
       "    <tr style=\"text-align: right;\">\n",
       "      <th></th>\n",
       "      <th>Forrest Gump</th>\n",
       "      <th>Shawshank Redemption</th>\n",
       "      <th>Pulp Fiction</th>\n",
       "      <th>Silence of the Lambs</th>\n",
       "      <th>Matrix, The</th>\n",
       "      <th>Star Wars: Episode IV</th>\n",
       "      <th>Jurassic Park</th>\n",
       "      <th>Braveheart</th>\n",
       "      <th>Terminator 2</th>\n",
       "      <th>Toy Story</th>\n",
       "      <th>American Beauty</th>\n",
       "      <th>Dances with Wolves</th>\n",
       "      <th>Lord of The Rings Trilogy</th>\n",
       "      <th>Lion King</th>\n",
       "    </tr>\n",
       "    <tr>\n",
       "      <th>User</th>\n",
       "      <th></th>\n",
       "      <th></th>\n",
       "      <th></th>\n",
       "      <th></th>\n",
       "      <th></th>\n",
       "      <th></th>\n",
       "      <th></th>\n",
       "      <th></th>\n",
       "      <th></th>\n",
       "      <th></th>\n",
       "      <th></th>\n",
       "      <th></th>\n",
       "      <th></th>\n",
       "      <th></th>\n",
       "    </tr>\n",
       "  </thead>\n",
       "  <tbody>\n",
       "    <tr>\n",
       "      <th>Ahmed</th>\n",
       "      <td>5.0</td>\n",
       "      <td>4.0</td>\n",
       "      <td>5.0</td>\n",
       "      <td>5.0</td>\n",
       "      <td>4.0</td>\n",
       "      <td>3.0</td>\n",
       "      <td>2.0</td>\n",
       "      <td>2.0</td>\n",
       "      <td>3.0</td>\n",
       "      <td>4.0</td>\n",
       "      <td>4.0</td>\n",
       "      <td>3.0</td>\n",
       "      <td>4.0</td>\n",
       "      <td>4.0</td>\n",
       "    </tr>\n",
       "    <tr>\n",
       "      <th>Jenny</th>\n",
       "      <td>5.0</td>\n",
       "      <td>5.0</td>\n",
       "      <td>4.0</td>\n",
       "      <td>4.0</td>\n",
       "      <td>4.0</td>\n",
       "      <td>3.0</td>\n",
       "      <td>4.0</td>\n",
       "      <td>4.0</td>\n",
       "      <td>4.0</td>\n",
       "      <td>3.0</td>\n",
       "      <td>5.0</td>\n",
       "      <td>4.0</td>\n",
       "      <td>4.0</td>\n",
       "      <td>3.0</td>\n",
       "    </tr>\n",
       "    <tr>\n",
       "      <th>Sima</th>\n",
       "      <td>5.0</td>\n",
       "      <td>4.0</td>\n",
       "      <td>5.0</td>\n",
       "      <td>5.0</td>\n",
       "      <td>4.0</td>\n",
       "      <td>3.0</td>\n",
       "      <td>2.0</td>\n",
       "      <td>2.0</td>\n",
       "      <td>3.0</td>\n",
       "      <td>4.0</td>\n",
       "      <td>4.0</td>\n",
       "      <td>3.0</td>\n",
       "      <td>4.0</td>\n",
       "      <td>4.0</td>\n",
       "    </tr>\n",
       "    <tr>\n",
       "      <th>Gülcin</th>\n",
       "      <td>5.0</td>\n",
       "      <td>4.0</td>\n",
       "      <td>5.0</td>\n",
       "      <td>4.0</td>\n",
       "      <td>4.0</td>\n",
       "      <td>3.0</td>\n",
       "      <td>3.0</td>\n",
       "      <td>3.0</td>\n",
       "      <td>3.0</td>\n",
       "      <td>4.0</td>\n",
       "      <td>4.0</td>\n",
       "      <td>3.0</td>\n",
       "      <td>4.0</td>\n",
       "      <td>4.0</td>\n",
       "    </tr>\n",
       "    <tr>\n",
       "      <th>Shea</th>\n",
       "      <td>5.0</td>\n",
       "      <td>4.0</td>\n",
       "      <td>4.0</td>\n",
       "      <td>4.0</td>\n",
       "      <td>4.0</td>\n",
       "      <td>3.0</td>\n",
       "      <td>3.0</td>\n",
       "      <td>3.0</td>\n",
       "      <td>3.0</td>\n",
       "      <td>3.0</td>\n",
       "      <td>4.0</td>\n",
       "      <td>3.0</td>\n",
       "      <td>4.0</td>\n",
       "      <td>3.0</td>\n",
       "    </tr>\n",
       "    <tr>\n",
       "      <th>Dalal</th>\n",
       "      <td>5.0</td>\n",
       "      <td>5.0</td>\n",
       "      <td>5.0</td>\n",
       "      <td>4.0</td>\n",
       "      <td>4.0</td>\n",
       "      <td>3.0</td>\n",
       "      <td>3.0</td>\n",
       "      <td>4.0</td>\n",
       "      <td>4.0</td>\n",
       "      <td>4.0</td>\n",
       "      <td>5.0</td>\n",
       "      <td>4.0</td>\n",
       "      <td>4.0</td>\n",
       "      <td>4.0</td>\n",
       "    </tr>\n",
       "    <tr>\n",
       "      <th>Maisam</th>\n",
       "      <td>5.0</td>\n",
       "      <td>4.0</td>\n",
       "      <td>5.0</td>\n",
       "      <td>5.0</td>\n",
       "      <td>4.0</td>\n",
       "      <td>3.0</td>\n",
       "      <td>2.0</td>\n",
       "      <td>2.0</td>\n",
       "      <td>3.0</td>\n",
       "      <td>4.0</td>\n",
       "      <td>4.0</td>\n",
       "      <td>3.0</td>\n",
       "      <td>4.0</td>\n",
       "      <td>4.0</td>\n",
       "    </tr>\n",
       "    <tr>\n",
       "      <th>Media</th>\n",
       "      <td>5.0</td>\n",
       "      <td>3.0</td>\n",
       "      <td>5.0</td>\n",
       "      <td>4.0</td>\n",
       "      <td>4.0</td>\n",
       "      <td>2.0</td>\n",
       "      <td>2.0</td>\n",
       "      <td>1.0</td>\n",
       "      <td>3.0</td>\n",
       "      <td>4.0</td>\n",
       "      <td>4.0</td>\n",
       "      <td>2.0</td>\n",
       "      <td>4.0</td>\n",
       "      <td>4.0</td>\n",
       "    </tr>\n",
       "    <tr>\n",
       "      <th>alex</th>\n",
       "      <td>5.0</td>\n",
       "      <td>4.0</td>\n",
       "      <td>4.0</td>\n",
       "      <td>4.0</td>\n",
       "      <td>4.0</td>\n",
       "      <td>3.0</td>\n",
       "      <td>3.0</td>\n",
       "      <td>3.0</td>\n",
       "      <td>3.0</td>\n",
       "      <td>3.0</td>\n",
       "      <td>4.0</td>\n",
       "      <td>3.0</td>\n",
       "      <td>4.0</td>\n",
       "      <td>3.0</td>\n",
       "    </tr>\n",
       "    <tr>\n",
       "      <th>Hakan</th>\n",
       "      <td>5.0</td>\n",
       "      <td>5.0</td>\n",
       "      <td>5.0</td>\n",
       "      <td>4.0</td>\n",
       "      <td>4.0</td>\n",
       "      <td>3.0</td>\n",
       "      <td>4.0</td>\n",
       "      <td>4.0</td>\n",
       "      <td>4.0</td>\n",
       "      <td>3.0</td>\n",
       "      <td>5.0</td>\n",
       "      <td>4.0</td>\n",
       "      <td>4.0</td>\n",
       "      <td>4.0</td>\n",
       "    </tr>\n",
       "    <tr>\n",
       "      <th>Manuel</th>\n",
       "      <td>4.0</td>\n",
       "      <td>4.0</td>\n",
       "      <td>4.0</td>\n",
       "      <td>3.0</td>\n",
       "      <td>3.0</td>\n",
       "      <td>2.0</td>\n",
       "      <td>3.0</td>\n",
       "      <td>4.0</td>\n",
       "      <td>3.0</td>\n",
       "      <td>3.0</td>\n",
       "      <td>4.0</td>\n",
       "      <td>3.0</td>\n",
       "      <td>4.0</td>\n",
       "      <td>3.0</td>\n",
       "    </tr>\n",
       "    <tr>\n",
       "      <th>Nara</th>\n",
       "      <td>4.0</td>\n",
       "      <td>4.0</td>\n",
       "      <td>4.0</td>\n",
       "      <td>4.0</td>\n",
       "      <td>3.0</td>\n",
       "      <td>2.0</td>\n",
       "      <td>2.0</td>\n",
       "      <td>3.0</td>\n",
       "      <td>3.0</td>\n",
       "      <td>3.0</td>\n",
       "      <td>4.0</td>\n",
       "      <td>3.0</td>\n",
       "      <td>3.0</td>\n",
       "      <td>3.0</td>\n",
       "    </tr>\n",
       "    <tr>\n",
       "      <th>Siamak</th>\n",
       "      <td>4.0</td>\n",
       "      <td>3.0</td>\n",
       "      <td>4.0</td>\n",
       "      <td>4.0</td>\n",
       "      <td>3.0</td>\n",
       "      <td>2.0</td>\n",
       "      <td>2.0</td>\n",
       "      <td>2.0</td>\n",
       "      <td>2.0</td>\n",
       "      <td>3.0</td>\n",
       "      <td>4.0</td>\n",
       "      <td>2.0</td>\n",
       "      <td>3.0</td>\n",
       "      <td>3.0</td>\n",
       "    </tr>\n",
       "    <tr>\n",
       "      <th>Md Najrul</th>\n",
       "      <td>5.0</td>\n",
       "      <td>5.0</td>\n",
       "      <td>4.0</td>\n",
       "      <td>3.0</td>\n",
       "      <td>3.0</td>\n",
       "      <td>3.0</td>\n",
       "      <td>4.0</td>\n",
       "      <td>6.0</td>\n",
       "      <td>4.0</td>\n",
       "      <td>2.0</td>\n",
       "      <td>5.0</td>\n",
       "      <td>5.0</td>\n",
       "      <td>4.0</td>\n",
       "      <td>3.0</td>\n",
       "    </tr>\n",
       "  </tbody>\n",
       "</table>\n",
       "</div>"
      ],
      "text/plain": [
       "           Forrest Gump  Shawshank Redemption  Pulp Fiction  \\\n",
       "User                                                          \n",
       "Ahmed               5.0                   4.0           5.0   \n",
       "Jenny               5.0                   5.0           4.0   \n",
       "Sima                5.0                   4.0           5.0   \n",
       "Gülcin              5.0                   4.0           5.0   \n",
       "Shea                5.0                   4.0           4.0   \n",
       "Dalal               5.0                   5.0           5.0   \n",
       "Maisam              5.0                   4.0           5.0   \n",
       "Media               5.0                   3.0           5.0   \n",
       "alex                5.0                   4.0           4.0   \n",
       "Hakan               5.0                   5.0           5.0   \n",
       "Manuel              4.0                   4.0           4.0   \n",
       "Nara                4.0                   4.0           4.0   \n",
       "Siamak              4.0                   3.0           4.0   \n",
       "Md Najrul           5.0                   5.0           4.0   \n",
       "\n",
       "           Silence of the Lambs  Matrix, The  Star Wars: Episode IV   \\\n",
       "User                                                                   \n",
       "Ahmed                       5.0          4.0                     3.0   \n",
       "Jenny                       4.0          4.0                     3.0   \n",
       "Sima                        5.0          4.0                     3.0   \n",
       "Gülcin                      4.0          4.0                     3.0   \n",
       "Shea                        4.0          4.0                     3.0   \n",
       "Dalal                       4.0          4.0                     3.0   \n",
       "Maisam                      5.0          4.0                     3.0   \n",
       "Media                       4.0          4.0                     2.0   \n",
       "alex                        4.0          4.0                     3.0   \n",
       "Hakan                       4.0          4.0                     3.0   \n",
       "Manuel                      3.0          3.0                     2.0   \n",
       "Nara                        4.0          3.0                     2.0   \n",
       "Siamak                      4.0          3.0                     2.0   \n",
       "Md Najrul                   3.0          3.0                     3.0   \n",
       "\n",
       "           Jurassic Park  Braveheart  Terminator 2  Toy Story  \\\n",
       "User                                                            \n",
       "Ahmed                2.0         2.0           3.0        4.0   \n",
       "Jenny                4.0         4.0           4.0        3.0   \n",
       "Sima                 2.0         2.0           3.0        4.0   \n",
       "Gülcin               3.0         3.0           3.0        4.0   \n",
       "Shea                 3.0         3.0           3.0        3.0   \n",
       "Dalal                3.0         4.0           4.0        4.0   \n",
       "Maisam               2.0         2.0           3.0        4.0   \n",
       "Media                2.0         1.0           3.0        4.0   \n",
       "alex                 3.0         3.0           3.0        3.0   \n",
       "Hakan                4.0         4.0           4.0        3.0   \n",
       "Manuel               3.0         4.0           3.0        3.0   \n",
       "Nara                 2.0         3.0           3.0        3.0   \n",
       "Siamak               2.0         2.0           2.0        3.0   \n",
       "Md Najrul            4.0         6.0           4.0        2.0   \n",
       "\n",
       "           American Beauty  Dances with Wolves  Lord of The Rings Trilogy  \\\n",
       "User                                                                        \n",
       "Ahmed                  4.0                 3.0                        4.0   \n",
       "Jenny                  5.0                 4.0                        4.0   \n",
       "Sima                   4.0                 3.0                        4.0   \n",
       "Gülcin                 4.0                 3.0                        4.0   \n",
       "Shea                   4.0                 3.0                        4.0   \n",
       "Dalal                  5.0                 4.0                        4.0   \n",
       "Maisam                 4.0                 3.0                        4.0   \n",
       "Media                  4.0                 2.0                        4.0   \n",
       "alex                   4.0                 3.0                        4.0   \n",
       "Hakan                  5.0                 4.0                        4.0   \n",
       "Manuel                 4.0                 3.0                        4.0   \n",
       "Nara                   4.0                 3.0                        3.0   \n",
       "Siamak                 4.0                 2.0                        3.0   \n",
       "Md Najrul              5.0                 5.0                        4.0   \n",
       "\n",
       "           Lion King  \n",
       "User                  \n",
       "Ahmed            4.0  \n",
       "Jenny            3.0  \n",
       "Sima             4.0  \n",
       "Gülcin           4.0  \n",
       "Shea             3.0  \n",
       "Dalal            4.0  \n",
       "Maisam           4.0  \n",
       "Media            4.0  \n",
       "alex             3.0  \n",
       "Hakan            4.0  \n",
       "Manuel           3.0  \n",
       "Nara             3.0  \n",
       "Siamak           3.0  \n",
       "Md Najrul        3.0  "
      ]
     },
     "execution_count": 47,
     "metadata": {},
     "output_type": "execute_result"
    }
   ],
   "source": [
    "R"
   ]
  },
  {
   "cell_type": "markdown",
   "metadata": {},
   "source": [
    "### 3. Predict i.e recommend"
   ]
  },
  {
   "cell_type": "code",
   "execution_count": 48,
   "metadata": {},
   "outputs": [
    {
     "data": {
      "text/plain": [
       "Index(['Forrest Gump', 'Shawshank Redemption', 'Pulp Fiction',\n",
       "       'Silence of the Lambs', 'Matrix, The', 'Star Wars: Episode IV ',\n",
       "       'Jurassic Park', 'Braveheart', 'Terminator 2', 'Toy Story',\n",
       "       'American Beauty', 'Dances with Wolves', 'Lord of The Rings Trilogy',\n",
       "       'Lion King'],\n",
       "      dtype='object')"
      ]
     },
     "execution_count": 48,
     "metadata": {},
     "output_type": "execute_result"
    }
   ],
   "source": [
    "df.columns"
   ]
  },
  {
   "cell_type": "markdown",
   "metadata": {},
   "source": [
    "#### Get new ratings"
   ]
  },
  {
   "cell_type": "code",
   "execution_count": 49,
   "metadata": {},
   "outputs": [
    {
     "data": {
      "text/plain": [
       "array([[ 5., nan, nan,  3.,  4.,  3.,  3.,  3.,  3.,  4., nan, nan,  3.,\n",
       "         4.]])"
      ]
     },
     "execution_count": 49,
     "metadata": {},
     "output_type": "execute_result"
    }
   ],
   "source": [
    "df.loc[df.index == 'Nara',:].values"
   ]
  },
  {
   "cell_type": "code",
   "execution_count": 50,
   "metadata": {},
   "outputs": [],
   "source": [
    "user = df.loc[df.index == 'Nara',:].values"
   ]
  },
  {
   "cell_type": "code",
   "execution_count": 53,
   "metadata": {},
   "outputs": [
    {
     "data": {
      "text/plain": [
       "array([[ 5., nan, nan,  3.,  4.,  3.,  3.,  3.,  3.,  4., nan, nan,  3.,\n",
       "         4.]])"
      ]
     },
     "execution_count": 53,
     "metadata": {},
     "output_type": "execute_result"
    }
   ],
   "source": [
    "user"
   ]
  },
  {
   "cell_type": "markdown",
   "metadata": {},
   "source": [
    "#### Impute"
   ]
  },
  {
   "cell_type": "code",
   "execution_count": 54,
   "metadata": {},
   "outputs": [],
   "source": [
    "user_clean = imputer.transform(user)"
   ]
  },
  {
   "cell_type": "code",
   "execution_count": 55,
   "metadata": {},
   "outputs": [
    {
     "data": {
      "text/plain": [
       "array([[5. , 2.5, 2.5, 3. , 4. , 3. , 3. , 3. , 3. , 4. , 2.5, 2.5, 3. ,\n",
       "        4. ]])"
      ]
     },
     "execution_count": 55,
     "metadata": {},
     "output_type": "execute_result"
    }
   ],
   "source": [
    "user_clean"
   ]
  },
  {
   "cell_type": "markdown",
   "metadata": {},
   "source": [
    "#### Predict user P"
   ]
  },
  {
   "cell_type": "code",
   "execution_count": 56,
   "metadata": {},
   "outputs": [
    {
     "data": {
      "text/plain": [
       "array([[1.4555912 , 0.70533256]])"
      ]
     },
     "execution_count": 56,
     "metadata": {},
     "output_type": "execute_result"
    }
   ],
   "source": [
    "user_P = model.transform(user_clean)          # how strongly our user likes the 2 \"genres\"\n",
    "user_P"
   ]
  },
  {
   "cell_type": "markdown",
   "metadata": {},
   "source": [
    "#### User R"
   ]
  },
  {
   "cell_type": "code",
   "execution_count": 57,
   "metadata": {},
   "outputs": [],
   "source": [
    "#new user R - reconstruct R but for this new user only\n",
    "user_R = np.dot(user_P,Q)"
   ]
  },
  {
   "cell_type": "code",
   "execution_count": 59,
   "metadata": {},
   "outputs": [
    {
     "data": {
      "text/plain": [
       "array([4.09125904, 3.52171905, 3.89216632, 3.52887822, 3.26941178,\n",
       "       2.23912797, 2.39089839, 2.53864142, 2.7957481 , 2.97648956,\n",
       "       3.72596207, 2.79516214, 3.28344536, 2.92232097])"
      ]
     },
     "execution_count": 59,
     "metadata": {},
     "output_type": "execute_result"
    }
   ],
   "source": [
    "user_R[0]"
   ]
  },
  {
   "cell_type": "markdown",
   "metadata": {},
   "source": [
    "#### Remove movies user has already seen & give out recommendation"
   ]
  },
  {
   "cell_type": "code",
   "execution_count": 60,
   "metadata": {},
   "outputs": [
    {
     "data": {
      "text/plain": [
       "array([ 5., nan, nan,  3.,  4.,  3.,  3.,  3.,  3.,  4., nan, nan,  3.,\n",
       "        4.])"
      ]
     },
     "execution_count": 60,
     "metadata": {},
     "output_type": "execute_result"
    }
   ],
   "source": [
    "user[0]"
   ]
  },
  {
   "cell_type": "code",
   "execution_count": 61,
   "metadata": {},
   "outputs": [],
   "source": [
    "recommendation = pd.DataFrame({'user_input':user[0], 'predicted_ratings':user_R[0]}, index = df.columns)"
   ]
  },
  {
   "cell_type": "code",
   "execution_count": 62,
   "metadata": {},
   "outputs": [
    {
     "data": {
      "text/html": [
       "<div>\n",
       "<style scoped>\n",
       "    .dataframe tbody tr th:only-of-type {\n",
       "        vertical-align: middle;\n",
       "    }\n",
       "\n",
       "    .dataframe tbody tr th {\n",
       "        vertical-align: top;\n",
       "    }\n",
       "\n",
       "    .dataframe thead th {\n",
       "        text-align: right;\n",
       "    }\n",
       "</style>\n",
       "<table border=\"1\" class=\"dataframe\">\n",
       "  <thead>\n",
       "    <tr style=\"text-align: right;\">\n",
       "      <th></th>\n",
       "      <th>user_input</th>\n",
       "      <th>predicted_ratings</th>\n",
       "    </tr>\n",
       "  </thead>\n",
       "  <tbody>\n",
       "    <tr>\n",
       "      <th>Forrest Gump</th>\n",
       "      <td>5.0</td>\n",
       "      <td>4.091259</td>\n",
       "    </tr>\n",
       "    <tr>\n",
       "      <th>Shawshank Redemption</th>\n",
       "      <td>NaN</td>\n",
       "      <td>3.521719</td>\n",
       "    </tr>\n",
       "    <tr>\n",
       "      <th>Pulp Fiction</th>\n",
       "      <td>NaN</td>\n",
       "      <td>3.892166</td>\n",
       "    </tr>\n",
       "    <tr>\n",
       "      <th>Silence of the Lambs</th>\n",
       "      <td>3.0</td>\n",
       "      <td>3.528878</td>\n",
       "    </tr>\n",
       "    <tr>\n",
       "      <th>Matrix, The</th>\n",
       "      <td>4.0</td>\n",
       "      <td>3.269412</td>\n",
       "    </tr>\n",
       "    <tr>\n",
       "      <th>Star Wars: Episode IV</th>\n",
       "      <td>3.0</td>\n",
       "      <td>2.239128</td>\n",
       "    </tr>\n",
       "    <tr>\n",
       "      <th>Jurassic Park</th>\n",
       "      <td>3.0</td>\n",
       "      <td>2.390898</td>\n",
       "    </tr>\n",
       "    <tr>\n",
       "      <th>Braveheart</th>\n",
       "      <td>3.0</td>\n",
       "      <td>2.538641</td>\n",
       "    </tr>\n",
       "    <tr>\n",
       "      <th>Terminator 2</th>\n",
       "      <td>3.0</td>\n",
       "      <td>2.795748</td>\n",
       "    </tr>\n",
       "    <tr>\n",
       "      <th>Toy Story</th>\n",
       "      <td>4.0</td>\n",
       "      <td>2.976490</td>\n",
       "    </tr>\n",
       "    <tr>\n",
       "      <th>American Beauty</th>\n",
       "      <td>NaN</td>\n",
       "      <td>3.725962</td>\n",
       "    </tr>\n",
       "    <tr>\n",
       "      <th>Dances with Wolves</th>\n",
       "      <td>NaN</td>\n",
       "      <td>2.795162</td>\n",
       "    </tr>\n",
       "    <tr>\n",
       "      <th>Lord of The Rings Trilogy</th>\n",
       "      <td>3.0</td>\n",
       "      <td>3.283445</td>\n",
       "    </tr>\n",
       "    <tr>\n",
       "      <th>Lion King</th>\n",
       "      <td>4.0</td>\n",
       "      <td>2.922321</td>\n",
       "    </tr>\n",
       "  </tbody>\n",
       "</table>\n",
       "</div>"
      ],
      "text/plain": [
       "                           user_input  predicted_ratings\n",
       "Forrest Gump                      5.0           4.091259\n",
       "Shawshank Redemption              NaN           3.521719\n",
       "Pulp Fiction                      NaN           3.892166\n",
       "Silence of the Lambs              3.0           3.528878\n",
       "Matrix, The                       4.0           3.269412\n",
       "Star Wars: Episode IV             3.0           2.239128\n",
       "Jurassic Park                     3.0           2.390898\n",
       "Braveheart                        3.0           2.538641\n",
       "Terminator 2                      3.0           2.795748\n",
       "Toy Story                         4.0           2.976490\n",
       "American Beauty                   NaN           3.725962\n",
       "Dances with Wolves                NaN           2.795162\n",
       "Lord of The Rings Trilogy         3.0           3.283445\n",
       "Lion King                         4.0           2.922321"
      ]
     },
     "execution_count": 62,
     "metadata": {},
     "output_type": "execute_result"
    }
   ],
   "source": [
    "recommendation"
   ]
  },
  {
   "cell_type": "code",
   "execution_count": 63,
   "metadata": {},
   "outputs": [
    {
     "data": {
      "text/html": [
       "<div>\n",
       "<style scoped>\n",
       "    .dataframe tbody tr th:only-of-type {\n",
       "        vertical-align: middle;\n",
       "    }\n",
       "\n",
       "    .dataframe tbody tr th {\n",
       "        vertical-align: top;\n",
       "    }\n",
       "\n",
       "    .dataframe thead th {\n",
       "        text-align: right;\n",
       "    }\n",
       "</style>\n",
       "<table border=\"1\" class=\"dataframe\">\n",
       "  <thead>\n",
       "    <tr style=\"text-align: right;\">\n",
       "      <th></th>\n",
       "      <th>user_input</th>\n",
       "      <th>predicted_ratings</th>\n",
       "    </tr>\n",
       "  </thead>\n",
       "  <tbody>\n",
       "    <tr>\n",
       "      <th>Pulp Fiction</th>\n",
       "      <td>NaN</td>\n",
       "      <td>3.892166</td>\n",
       "    </tr>\n",
       "    <tr>\n",
       "      <th>American Beauty</th>\n",
       "      <td>NaN</td>\n",
       "      <td>3.725962</td>\n",
       "    </tr>\n",
       "    <tr>\n",
       "      <th>Shawshank Redemption</th>\n",
       "      <td>NaN</td>\n",
       "      <td>3.521719</td>\n",
       "    </tr>\n",
       "    <tr>\n",
       "      <th>Dances with Wolves</th>\n",
       "      <td>NaN</td>\n",
       "      <td>2.795162</td>\n",
       "    </tr>\n",
       "  </tbody>\n",
       "</table>\n",
       "</div>"
      ],
      "text/plain": [
       "                      user_input  predicted_ratings\n",
       "Pulp Fiction                 NaN           3.892166\n",
       "American Beauty              NaN           3.725962\n",
       "Shawshank Redemption         NaN           3.521719\n",
       "Dances with Wolves           NaN           2.795162"
      ]
     },
     "execution_count": 63,
     "metadata": {},
     "output_type": "execute_result"
    }
   ],
   "source": [
    "recommendation[recommendation['user_input'].isna()].sort_values(by = 'predicted_ratings', ascending= False)"
   ]
  },
  {
   "cell_type": "code",
   "execution_count": 64,
   "metadata": {},
   "outputs": [
    {
     "data": {
      "text/html": [
       "<div>\n",
       "<style scoped>\n",
       "    .dataframe tbody tr th:only-of-type {\n",
       "        vertical-align: middle;\n",
       "    }\n",
       "\n",
       "    .dataframe tbody tr th {\n",
       "        vertical-align: top;\n",
       "    }\n",
       "\n",
       "    .dataframe thead th {\n",
       "        text-align: right;\n",
       "    }\n",
       "</style>\n",
       "<table border=\"1\" class=\"dataframe\">\n",
       "  <thead>\n",
       "    <tr style=\"text-align: right;\">\n",
       "      <th></th>\n",
       "      <th>user_input</th>\n",
       "      <th>predicted_ratings</th>\n",
       "    </tr>\n",
       "  </thead>\n",
       "  <tbody>\n",
       "    <tr>\n",
       "      <th>Pulp Fiction</th>\n",
       "      <td>NaN</td>\n",
       "      <td>3.892166</td>\n",
       "    </tr>\n",
       "  </tbody>\n",
       "</table>\n",
       "</div>"
      ],
      "text/plain": [
       "              user_input  predicted_ratings\n",
       "Pulp Fiction         NaN           3.892166"
      ]
     },
     "execution_count": 64,
     "metadata": {},
     "output_type": "execute_result"
    }
   ],
   "source": [
    "recommendation[recommendation['user_input'].isna()].sort_values(by = 'predicted_ratings', ascending= False).head(1)"
   ]
  },
  {
   "cell_type": "markdown",
   "metadata": {},
   "source": [
    "## To use this for our project we need \n",
    "1. The user-ratings matrix\n",
    "Use `pivot` `R = ratings.pivot(index = '___' ,columns = '___', values = '___')`\n",
    "2. Follow the same steps in this notebook\n",
    "3. Make it nicer, out it in a function"
   ]
  },
  {
   "cell_type": "markdown",
   "metadata": {},
   "source": [
    "### The real use for our recommender"
   ]
  },
  {
   "cell_type": "markdown",
   "metadata": {},
   "source": [
    "1. New user gives a dictionary of 3-5 movie:ratings \n",
    "    - \"Movie title - rating form in your website\" \n",
    "2. We recostruct the `new_user` and fill in with Nan everything that are not the movies mentioned\n",
    "    - --> There will be a lot (A LOT, almost 10 000 `Nan`) \n",
    "3. Use the model as described in the notebook to give a recommendation"
   ]
  },
  {
   "cell_type": "markdown",
   "metadata": {},
   "source": [
    "#### Helper functions for every recommender\n",
    "- `def`: has the user watched the movie\n",
    "- `def`: matching title with `fuzzywuzzy`"
   ]
  },
  {
   "cell_type": "code",
   "execution_count": 67,
   "metadata": {},
   "outputs": [],
   "source": [
    "movies = pd.read_csv('../data/movies_genres.csv')"
   ]
  },
  {
   "cell_type": "code",
   "execution_count": 68,
   "metadata": {},
   "outputs": [
    {
     "data": {
      "text/html": [
       "<div>\n",
       "<style scoped>\n",
       "    .dataframe tbody tr th:only-of-type {\n",
       "        vertical-align: middle;\n",
       "    }\n",
       "\n",
       "    .dataframe tbody tr th {\n",
       "        vertical-align: top;\n",
       "    }\n",
       "\n",
       "    .dataframe thead th {\n",
       "        text-align: right;\n",
       "    }\n",
       "</style>\n",
       "<table border=\"1\" class=\"dataframe\">\n",
       "  <thead>\n",
       "    <tr style=\"text-align: right;\">\n",
       "      <th></th>\n",
       "      <th>movieid</th>\n",
       "      <th>title</th>\n",
       "      <th>year</th>\n",
       "      <th>romance</th>\n",
       "      <th>sci-fi</th>\n",
       "      <th>animation</th>\n",
       "      <th>film-noir</th>\n",
       "      <th>musical</th>\n",
       "      <th>adventure</th>\n",
       "      <th>thriller</th>\n",
       "      <th>...</th>\n",
       "      <th>fantasy</th>\n",
       "      <th>mystery</th>\n",
       "      <th>children</th>\n",
       "      <th>comedy</th>\n",
       "      <th>crime</th>\n",
       "      <th>western</th>\n",
       "      <th>imax</th>\n",
       "      <th>war</th>\n",
       "      <th>drama</th>\n",
       "      <th>action</th>\n",
       "    </tr>\n",
       "  </thead>\n",
       "  <tbody>\n",
       "    <tr>\n",
       "      <th>1939</th>\n",
       "      <td>2571</td>\n",
       "      <td>Matrix, The</td>\n",
       "      <td>1999.0</td>\n",
       "      <td>0</td>\n",
       "      <td>1</td>\n",
       "      <td>0</td>\n",
       "      <td>0</td>\n",
       "      <td>0</td>\n",
       "      <td>0</td>\n",
       "      <td>1</td>\n",
       "      <td>...</td>\n",
       "      <td>0</td>\n",
       "      <td>0</td>\n",
       "      <td>0</td>\n",
       "      <td>0</td>\n",
       "      <td>0</td>\n",
       "      <td>0</td>\n",
       "      <td>0</td>\n",
       "      <td>0</td>\n",
       "      <td>0</td>\n",
       "      <td>1</td>\n",
       "    </tr>\n",
       "  </tbody>\n",
       "</table>\n",
       "<p>1 rows × 22 columns</p>\n",
       "</div>"
      ],
      "text/plain": [
       "      movieid        title    year  romance  sci-fi  animation  film-noir  \\\n",
       "1939     2571  Matrix, The  1999.0        0       1          0          0   \n",
       "\n",
       "      musical  adventure  thriller  ...  fantasy  mystery  children  comedy  \\\n",
       "1939        0          0         1  ...        0        0         0       0   \n",
       "\n",
       "      crime  western  imax  war  drama  action  \n",
       "1939      0        0     0    0      0       1  \n",
       "\n",
       "[1 rows x 22 columns]"
      ]
     },
     "execution_count": 68,
     "metadata": {},
     "output_type": "execute_result"
    }
   ],
   "source": [
    "movies[movies['title'] == 'Matrix, The']"
   ]
  },
  {
   "cell_type": "code",
   "execution_count": 69,
   "metadata": {},
   "outputs": [
    {
     "data": {
      "text/html": [
       "<div>\n",
       "<style scoped>\n",
       "    .dataframe tbody tr th:only-of-type {\n",
       "        vertical-align: middle;\n",
       "    }\n",
       "\n",
       "    .dataframe tbody tr th {\n",
       "        vertical-align: top;\n",
       "    }\n",
       "\n",
       "    .dataframe thead th {\n",
       "        text-align: right;\n",
       "    }\n",
       "</style>\n",
       "<table border=\"1\" class=\"dataframe\">\n",
       "  <thead>\n",
       "    <tr style=\"text-align: right;\">\n",
       "      <th></th>\n",
       "      <th>movieid</th>\n",
       "      <th>title</th>\n",
       "      <th>year</th>\n",
       "      <th>romance</th>\n",
       "      <th>sci-fi</th>\n",
       "      <th>animation</th>\n",
       "      <th>film-noir</th>\n",
       "      <th>musical</th>\n",
       "      <th>adventure</th>\n",
       "      <th>thriller</th>\n",
       "      <th>...</th>\n",
       "      <th>fantasy</th>\n",
       "      <th>mystery</th>\n",
       "      <th>children</th>\n",
       "      <th>comedy</th>\n",
       "      <th>crime</th>\n",
       "      <th>western</th>\n",
       "      <th>imax</th>\n",
       "      <th>war</th>\n",
       "      <th>drama</th>\n",
       "      <th>action</th>\n",
       "    </tr>\n",
       "  </thead>\n",
       "  <tbody>\n",
       "  </tbody>\n",
       "</table>\n",
       "<p>0 rows × 22 columns</p>\n",
       "</div>"
      ],
      "text/plain": [
       "Empty DataFrame\n",
       "Columns: [movieid, title, year, romance, sci-fi, animation, film-noir, musical, adventure, thriller, horror, documentary, fantasy, mystery, children, comedy, crime, western, imax, war, drama, action]\n",
       "Index: []\n",
       "\n",
       "[0 rows x 22 columns]"
      ]
     },
     "execution_count": 69,
     "metadata": {},
     "output_type": "execute_result"
    }
   ],
   "source": [
    "movies[movies['title'] == 'The Matrix']"
   ]
  },
  {
   "cell_type": "markdown",
   "metadata": {},
   "source": [
    "Solve the problem of users not writing the extact title with `fuzzywuzzy`:https://github.com/seatgeek/fuzzywuzzy"
   ]
  },
  {
   "cell_type": "code",
   "execution_count": 70,
   "metadata": {},
   "outputs": [
    {
     "name": "stdout",
     "output_type": "stream",
     "text": [
      "Collecting fuzzywuzzy\n",
      "  Downloading fuzzywuzzy-0.18.0-py2.py3-none-any.whl (18 kB)\n",
      "Installing collected packages: fuzzywuzzy\n",
      "Successfully installed fuzzywuzzy-0.18.0\n"
     ]
    }
   ],
   "source": [
    "#!pip install fuzzywuzzy"
   ]
  },
  {
   "cell_type": "code",
   "execution_count": 71,
   "metadata": {},
   "outputs": [
    {
     "name": "stderr",
     "output_type": "stream",
     "text": [
      "/opt/anaconda3/lib/python3.7/site-packages/fuzzywuzzy/fuzz.py:11: UserWarning: Using slow pure-python SequenceMatcher. Install python-Levenshtein to remove this warning\n",
      "  warnings.warn('Using slow pure-python SequenceMatcher. Install python-Levenshtein to remove this warning')\n"
     ]
    }
   ],
   "source": [
    "from fuzzywuzzy import process"
   ]
  },
  {
   "cell_type": "code",
   "execution_count": 72,
   "metadata": {},
   "outputs": [
    {
     "data": {
      "text/plain": [
       "0                                Toy Story\n",
       "1                                  Jumanji\n",
       "2                         Grumpier Old Men\n",
       "3                        Waiting to Exhale\n",
       "4              Father of the Bride Part II\n",
       "                       ...                \n",
       "9737    Black Butler: Book of the Atlantic\n",
       "9738                 No Game No Life: Zero\n",
       "9739                                 Flint\n",
       "9740          Bungo Stray Dogs: Dead Apple\n",
       "9741          Andrew Dice Clay: Dice Rules\n",
       "Name: title, Length: 9742, dtype: object"
      ]
     },
     "execution_count": 72,
     "metadata": {},
     "output_type": "execute_result"
    }
   ],
   "source": [
    "movies['title']"
   ]
  },
  {
   "cell_type": "code",
   "execution_count": 73,
   "metadata": {},
   "outputs": [
    {
     "data": {
      "text/plain": [
       "('Matrix, The', 95, 1939)"
      ]
     },
     "execution_count": 73,
     "metadata": {},
     "output_type": "execute_result"
    }
   ],
   "source": [
    "process.extractOne('The Matrix', movies['title'])"
   ]
  },
  {
   "cell_type": "code",
   "execution_count": 74,
   "metadata": {},
   "outputs": [
    {
     "data": {
      "text/plain": [
       "[('Shawshank Redemption, The', 95, 277),\n",
       " ('Red', 90, 7445),\n",
       " ('Shane', 72, 2894),\n",
       " ('Demolition', 70, 9062),\n",
       " ('Jaws', 68, 1067)]"
      ]
     },
     "execution_count": 74,
     "metadata": {},
     "output_type": "execute_result"
    }
   ],
   "source": [
    "process.extract('Shawshank Redemption', movies['title'])"
   ]
  },
  {
   "cell_type": "code",
   "execution_count": null,
   "metadata": {},
   "outputs": [],
   "source": []
  }
 ],
 "metadata": {
  "interpreter": {
   "hash": "40d3a090f54c6569ab1632332b64b2c03c39dcf918b08424e98f38b5ae0af88f"
  },
  "kernelspec": {
   "display_name": "Python 3.7.11 ('base')",
   "language": "python",
   "name": "python3"
  },
  "language_info": {
   "codemirror_mode": {
    "name": "ipython",
    "version": 3
   },
   "file_extension": ".py",
   "mimetype": "text/x-python",
   "name": "python",
   "nbconvert_exporter": "python",
   "pygments_lexer": "ipython3",
   "version": "3.7.11"
  }
 },
 "nbformat": 4,
 "nbformat_minor": 4
}
