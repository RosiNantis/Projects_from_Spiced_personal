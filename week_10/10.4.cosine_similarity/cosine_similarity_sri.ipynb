{
 "cells": [
  {
   "cell_type": "markdown",
   "id": "cd4dd4f8",
   "metadata": {},
   "source": [
    "\n",
    "\n",
    "# $\\color{green}{\\text{ 10.4. Neighborhood-Based Collaborative Filtering }}$"
   ]
  },
  {
   "cell_type": "markdown",
   "id": "d1e369a0",
   "metadata": {},
   "source": [
    "-------"
   ]
  },
  {
   "cell_type": "markdown",
   "id": "ccce5279",
   "metadata": {},
   "source": [
    "\n",
    "\n",
    "### $\\color{green}{\\text{Agenda : }}$"
   ]
  },
  {
   "cell_type": "markdown",
   "id": "bf06d9d3",
   "metadata": {},
   "source": [
    "\n",
    " - What is collaborative filtering?\n",
    " - Cosine Similarity\n",
    " - User based filtering\n",
    " - Creating recommendations\n",
    " - Adding new users"
   ]
  },
  {
   "cell_type": "markdown",
   "id": "9e10db84",
   "metadata": {},
   "source": [
    "------"
   ]
  },
  {
   "cell_type": "markdown",
   "id": "89ab3476",
   "metadata": {},
   "source": [
    "* ##   What is Collaborative Filtering?"
   ]
  },
  {
   "cell_type": "markdown",
   "id": "5317d51f",
   "metadata": {},
   "source": [
    "In the context of e.g. recommendations engines, it is the process of **inferring the taste of one user, based on the knowledge of the tastes of other users**.\n",
    "\n",
    "**Types of collaborative filtering:**\n",
    "\n",
    "* _neigbourhood-based_ (also, _memory-based_):\n",
    "    * **user-based**: looks for similarities in ratings between the target user and other users; _user-item matrix_\n",
    "    * **item-based**: looks for similarities in items the target user has rated and other users have rated; _item-item matrix_\n",
    "* _model-based_:\n",
    "    * e.g. NMF"
   ]
  },
  {
   "cell_type": "markdown",
   "id": "3c458fca",
   "metadata": {},
   "source": [
    "-----"
   ]
  },
  {
   "cell_type": "markdown",
   "id": "20bfcc75",
   "metadata": {},
   "source": [
    "* ## What do we mean by *neighbourhood*?"
   ]
  },
  {
   "cell_type": "markdown",
   "id": "547e88ea",
   "metadata": {},
   "source": [
    "How do we measure **similarity** or **proximity** of two objects? - see references below for other measures. Today we focus on:"
   ]
  },
  {
   "cell_type": "markdown",
   "id": "d853ad67",
   "metadata": {},
   "source": [
    "### Cosine Similarity"
   ]
  },
  {
   "cell_type": "markdown",
   "id": "c9d8e55e",
   "metadata": {},
   "source": [
    "- **Angle** measurement between two vectors. **Orientation**, not magnitude.\n",
    "- Values range between:\n",
    "  \n",
    "    `-1`: vectors point in opposite directions.\n",
    "  \n",
    "    `+1`: vectors are on top of each other.\n",
    "    \n",
    "     `0`: vectors are perpendicular. \n",
    "\n",
    "$$cos(x, y) = \\dfrac{\\textbf{x} \\cdot \\textbf{y}}{\\lVert \\textbf{x} \\rVert \\lVert \\textbf{y} \\rVert}= \\dfrac{\\sum_i^n{x_i*y_i}}{\\sqrt{\\sum_i^n{x_i^2}}\\sqrt{\\sum_i^n{y_i^2}}}$$\n",
    "\n",
    "Numerator: dot product of the vectors\n",
    "\n",
    "Denominator: Euclidean norms (=lengths) of the vectors multiplied"
   ]
  },
  {
   "cell_type": "markdown",
   "id": "5aca1cd4",
   "metadata": {},
   "source": [
    "An additional option is to use the **adjusted** or **centred** cosine similarity, which subtracts each user's average rating from all their ratings (mean=0). "
   ]
  },
  {
   "cell_type": "markdown",
   "id": "c6a117b0",
   "metadata": {},
   "source": [
    "### User-vectors"
   ]
  },
  {
   "cell_type": "markdown",
   "id": "c87b05a7",
   "metadata": {},
   "source": [
    "We can think of the rows of our ratings as being vectors, one for each user. Then we can use the cosine similarity as a measure of how \"close\" or \"far apart\" their tastes are by running the above calculation between two users"
   ]
  },
  {
   "cell_type": "markdown",
   "id": "c28c2645",
   "metadata": {},
   "source": [
    "-----"
   ]
  },
  {
   "cell_type": "markdown",
   "id": "dd6db4ce",
   "metadata": {},
   "source": [
    "## Example with your movie ratings"
   ]
  },
  {
   "cell_type": "code",
   "execution_count": null,
   "id": "9212c01a",
   "metadata": {},
   "outputs": [],
   "source": [
    "import numpy as np\n",
    "import pandas  as pd\n",
    "import numpy as np\n",
    "import matplotlib.pyplot as plt\n",
    "import seaborn as sns\n",
    "from sklearn.metrics.pairwise import cosine_similarity"
   ]
  },
  {
   "cell_type": "code",
   "execution_count": null,
   "id": "c939e15b",
   "metadata": {},
   "outputs": [],
   "source": []
  },
  {
   "cell_type": "code",
   "execution_count": null,
   "id": "884b93f6",
   "metadata": {},
   "outputs": [],
   "source": []
  },
  {
   "cell_type": "markdown",
   "id": "7ad3a1d1",
   "metadata": {},
   "source": [
    "We have to deal with the `NaN`s. Remember we have some options available:\n",
    "\n",
    "- global average\n",
    "- 0\n",
    "- average of each user\n",
    "- average of the movie\n",
    "- ...\n",
    "\n",
    "For cosine similarity we need to fill the `NaN`s with zero because we don't want imputed means making users seem similar when they are not"
   ]
  },
  {
   "cell_type": "code",
   "execution_count": null,
   "id": "db852794",
   "metadata": {},
   "outputs": [],
   "source": [
    "# impute the nan with 0:\n"
   ]
  },
  {
   "cell_type": "markdown",
   "id": "20a3d75f",
   "metadata": {},
   "source": [
    "### Calculate Cosine-similarities between users"
   ]
  },
  {
   "cell_type": "markdown",
   "id": "9e9f6fdd",
   "metadata": {},
   "source": [
    "- Numerator: dot products of the vectors\n",
    "- Denominator: Euclidean norm of the vectors multiplied"
   ]
  },
  {
   "cell_type": "code",
   "execution_count": null,
   "id": "c62e761c",
   "metadata": {},
   "outputs": [],
   "source": [
    "def cos_sim(vec1, vec2):\n",
    "    \"\"\"function to calcualte the cosine similarity between two vectors\"\"\" \n",
    "    num = np.dot(vec1, vec2)\n",
    "    denom = np.sqrt(np.dot(vec1, vec1)) * np.sqrt(np.dot(vec2, vec2))\n",
    "    return num / denom"
   ]
  },
  {
   "cell_type": "markdown",
   "id": "ef25fa2f",
   "metadata": {},
   "source": [
    "We can take two user vectors and compare them:"
   ]
  },
  {
   "cell_type": "code",
   "execution_count": null,
   "id": "4f7b7b09",
   "metadata": {},
   "outputs": [],
   "source": [
    "# define two users-vectors\n",
    "\n"
   ]
  },
  {
   "cell_type": "code",
   "execution_count": null,
   "id": "17ae6433",
   "metadata": {},
   "outputs": [],
   "source": [
    "# calculate cosine similarity\n",
    "\n"
   ]
  },
  {
   "cell_type": "markdown",
   "id": "95959c4f",
   "metadata": {},
   "source": [
    "-----"
   ]
  },
  {
   "cell_type": "markdown",
   "id": "540be977",
   "metadata": {},
   "source": [
    "### User-based filtering \n",
    "\"*Users similar to you also enjoyed X and Y*\""
   ]
  },
  {
   "cell_type": "markdown",
   "id": "60ea1c2a",
   "metadata": {},
   "source": [
    "#### Create a table with pairwise user/user cosine-similarities\n",
    "* We can write a function that takes ratings matrix as an argument and in the nested loop finds the cosine similarities between user pairs."
   ]
  },
  {
   "cell_type": "code",
   "execution_count": null,
   "id": "2e27dd44",
   "metadata": {
    "scrolled": true
   },
   "outputs": [],
   "source": []
  },
  {
   "cell_type": "code",
   "execution_count": null,
   "id": "1d7616ee",
   "metadata": {},
   "outputs": [],
   "source": []
  },
  {
   "cell_type": "code",
   "execution_count": null,
   "id": "3580e6a9",
   "metadata": {},
   "outputs": [],
   "source": []
  },
  {
   "cell_type": "code",
   "execution_count": null,
   "id": "2320d1c0",
   "metadata": {},
   "outputs": [],
   "source": [
    "#Can display the table as a heatmap: \n"
   ]
  },
  {
   "cell_type": "markdown",
   "id": "a05cfc8a",
   "metadata": {},
   "source": [
    "### One-liner from  `sklearn`"
   ]
  },
  {
   "cell_type": "code",
   "execution_count": null,
   "id": "f2fb344d",
   "metadata": {},
   "outputs": [],
   "source": [
    "from sklearn.metrics.pairwise import cosine_similarity"
   ]
  },
  {
   "cell_type": "code",
   "execution_count": null,
   "id": "04859c41",
   "metadata": {},
   "outputs": [],
   "source": [
    "# Returns numpy array:\n"
   ]
  },
  {
   "cell_type": "code",
   "execution_count": null,
   "id": "69180ce2",
   "metadata": {},
   "outputs": [],
   "source": [
    "# We can turn this into a dataframe:\n"
   ]
  },
  {
   "cell_type": "code",
   "execution_count": null,
   "id": "fe42bdea",
   "metadata": {},
   "outputs": [],
   "source": [
    "plt.figure(figsize=(10,8))\n",
    "sns.heatmap(cosine_similarity(R), annot=True, linewidths = 3, \n",
    "            cmap=sns.cubehelix_palette(start=2, rot=0, dark=0, light=.95, reverse = True, as_cmap=True) ,\n",
    "           xticklabels=cosine_similarity_table.index,\n",
    "           yticklabels=cosine_similarity_table.index);  "
   ]
  },
  {
   "cell_type": "markdown",
   "id": "c6ce1c28",
   "metadata": {},
   "source": [
    "------"
   ]
  },
  {
   "cell_type": "markdown",
   "id": "86bf8412",
   "metadata": {},
   "source": [
    "## Coffee break 15min! ☕"
   ]
  },
  {
   "cell_type": "markdown",
   "id": "d7ea3f2f",
   "metadata": {},
   "source": [
    "-----"
   ]
  },
  {
   "cell_type": "markdown",
   "id": "55374f1e",
   "metadata": {},
   "source": [
    "### How do we create recommendations based on this result?"
   ]
  },
  {
   "cell_type": "markdown",
   "id": "41b4707e",
   "metadata": {},
   "source": [
    "**Algorithm**\n",
    "\n",
    "Define active user:\n",
    "- create a list of unseen movies for the active user\n",
    "- get the nearest neighbours users (most similar users)\n",
    "- for each unseen movie: \n",
    "    - get the neighbours who have rated/seen the movie \n",
    "    - predict the ratings based on the (weighted) average ratings of the neighbours\n",
    "- collect all unseen movies sorted by predicted ratings. Give Top X as prediction.\n",
    "\n",
    "(This can all be done by writing for-loops and comparing values.)"
   ]
  },
  {
   "cell_type": "code",
   "execution_count": null,
   "id": "aa3e5ebd",
   "metadata": {},
   "outputs": [],
   "source": [
    "# use the transposed version of R\n"
   ]
  },
  {
   "cell_type": "code",
   "execution_count": null,
   "id": "871d1cd6",
   "metadata": {},
   "outputs": [],
   "source": [
    "# choose an active user\n"
   ]
  },
  {
   "cell_type": "code",
   "execution_count": null,
   "id": "bf55e7a8",
   "metadata": {},
   "outputs": [],
   "source": [
    "# create a list of unseen movies for this user\n"
   ]
  },
  {
   "cell_type": "code",
   "execution_count": null,
   "id": "40f505b6",
   "metadata": {},
   "outputs": [],
   "source": []
  },
  {
   "cell_type": "code",
   "execution_count": null,
   "id": "af355ade",
   "metadata": {},
   "outputs": [],
   "source": [
    "# Create a list of top 3 similar user (nearest neighbours)\n"
   ]
  },
  {
   "cell_type": "code",
   "execution_count": null,
   "id": "1381446c",
   "metadata": {},
   "outputs": [],
   "source": [
    "# create the recommendation (predicted/rated movie)\n",
    "predicted_ratings_movies = []\n",
    "\n",
    "for movie in unseen_movies:\n",
    "    \n",
    "    # we check the users who watched the movie\n",
    "    people_who_have_seen_the_movie = list(R_t.columns[R_t.loc[movie] > 0])\n",
    "    \n",
    "    num = 0\n",
    "    den = 0\n",
    "    for user in neighbours:\n",
    "        # if this person has seen the movie\n",
    "        if user in people_who_have_seen_the_movie:\n",
    "        #  we want extract the ratings and similarities\n",
    "            rating = R_t.loc[movie,user]\n",
    "            similarity = cosine_sim_table.loc[active_user,user]\n",
    "            \n",
    "        # predict the rating based on the (weighted) average ratings of the neighbours\n",
    "        # sum(ratings)/no.users OR \n",
    "        # sum(ratings*similarity)/sum(similarities)\n",
    "            num = num + rating*similarity\n",
    "            den = den + similarity\n",
    "    predicted_ratings = num/den\n",
    "    predicted_ratings_movies.append([predicted_ratings,movie])"
   ]
  },
  {
   "cell_type": "code",
   "execution_count": null,
   "id": "ef8a676b",
   "metadata": {},
   "outputs": [],
   "source": []
  },
  {
   "cell_type": "code",
   "execution_count": null,
   "id": "f0384ffa",
   "metadata": {},
   "outputs": [],
   "source": [
    "# create df pred\n"
   ]
  },
  {
   "cell_type": "markdown",
   "id": "cded9f34",
   "metadata": {},
   "source": [
    "### What happens if a new user joins?"
   ]
  },
  {
   "cell_type": "code",
   "execution_count": null,
   "id": "364b8d23",
   "metadata": {},
   "outputs": [],
   "source": [
    "# initialize new user \n"
   ]
  },
  {
   "cell_type": "code",
   "execution_count": null,
   "id": "f666d2cf",
   "metadata": {},
   "outputs": [],
   "source": []
  },
  {
   "cell_type": "code",
   "execution_count": null,
   "id": "a64ce3e8",
   "metadata": {},
   "outputs": [],
   "source": []
  },
  {
   "cell_type": "code",
   "execution_count": null,
   "id": "416e4649",
   "metadata": {},
   "outputs": [],
   "source": [
    "ratings = {'Forrest Gump': ,\n",
    " 'Shawshank Redemption': ,         \n",
    " 'Matrix': ,\n",
    " 'Star Wars: Episode IV':,               \n",
    " 'Pulp Fiction': ,\n",
    "  'Lord of The Rings Trilogy': }"
   ]
  },
  {
   "cell_type": "code",
   "execution_count": null,
   "id": "28254927",
   "metadata": {},
   "outputs": [],
   "source": []
  },
  {
   "cell_type": "code",
   "execution_count": null,
   "id": "09830e90",
   "metadata": {},
   "outputs": [],
   "source": []
  },
  {
   "cell_type": "code",
   "execution_count": null,
   "id": "8c9f16db",
   "metadata": {},
   "outputs": [],
   "source": [
    "# new user dataframe\n"
   ]
  },
  {
   "cell_type": "markdown",
   "id": "5a16c935",
   "metadata": {},
   "source": [
    "\n",
    "#### Advantages of Neighbourhood Bases approaches\n",
    "\n",
    "      * Fast\n",
    "      * Works for huge datasets\n",
    "      * No domain knowledge necessary\n",
    "\n",
    "#### Disadvantages\n",
    "\n",
    "      * Hard to include other data than ratings\n",
    "      * Sparsity\n",
    "      * Cold start problem"
   ]
  },
  {
   "cell_type": "markdown",
   "id": "5f425081",
   "metadata": {},
   "source": [
    "### Other good measure of similarity\n",
    "\n",
    "Check also the Adjusted Cosine Similarity that calcaulates normalized distances taking care of grumpy or happy users"
   ]
  },
  {
   "cell_type": "markdown",
   "id": "6e14635b",
   "metadata": {},
   "source": [
    "------"
   ]
  },
  {
   "cell_type": "markdown",
   "id": "8371825a",
   "metadata": {},
   "source": [
    "### Bonus: Item based filtering \n",
    "\"*Because you watched X, you may also enjoy Y*\""
   ]
  },
  {
   "cell_type": "markdown",
   "id": "71bdfae8",
   "metadata": {},
   "source": [
    "Item-based filtering can be done in a similar way - see [course material](https://spiced.space/costmary-function/ds-course/chapters/project_movie_recommender/neighborhood_based_cf.html)"
   ]
  },
  {
   "cell_type": "markdown",
   "id": "0939cf13",
   "metadata": {},
   "source": [
    "------"
   ]
  },
  {
   "cell_type": "markdown",
   "id": "00b4ee69",
   "metadata": {},
   "source": [
    "## Next steps:"
   ]
  },
  {
   "cell_type": "markdown",
   "id": "a5f6f11e",
   "metadata": {},
   "source": [
    "#### Neighborhood based recommender function\n",
    "\n",
    "- Collect different example queries for \"typical\" users (e.g. a horror movie buff, a Disney Person) and try out the algorithm\n",
    "- Set the number of neighbors to a very high or low number. What happens to the recommendations?\n",
    "- Implement a recommender function that recommends movies to a new user based on the NearestNeighbor model!\n",
    "\n",
    "\n",
    "#### ⭐ Further Experiments:\n",
    "- Try out *other distance metrics*: Convert the rating matrix into a *boolean matrix* (rated:1 vs not-rated:0) and use the *Jaccard similarity*.\n",
    "- Use the adjusted cosine similarity, does it make a difference?\n",
    "- Try out another method for calculating the score: use a *weighted* (weights = distances) sum or average. \n",
    "- Find similar *movies*! Use the method to find and recommend similar movies! Hint: Run the model on the *transposed* user item rating matrix."
   ]
  },
  {
   "cell_type": "markdown",
   "id": "e65ac17b",
   "metadata": {},
   "source": [
    "## References/ Further reading:"
   ]
  },
  {
   "cell_type": "markdown",
   "id": "914b4804",
   "metadata": {},
   "source": [
    "- [A guide to distance measures from `SciPy`](https://docs.scipy.org/doc/scipy/reference/spatial.distance.html)\n",
    "- [NMF and cosine similarity](https://colab.research.google.com/github/ML-Challenge/week4-unsupervised-learning/blob/master/L4.Discovering%20interpretable%20features.ipynb#scrollTo=hxYA_Dasi1tp) notebook on Google Colab"
   ]
  },
  {
   "cell_type": "code",
   "execution_count": null,
   "id": "4179cb4c",
   "metadata": {},
   "outputs": [],
   "source": []
  }
 ],
 "metadata": {
  "kernelspec": {
   "display_name": "Python 3 (ipykernel)",
   "language": "python",
   "name": "python3"
  },
  "language_info": {
   "codemirror_mode": {
    "name": "ipython",
    "version": 3
   },
   "file_extension": ".py",
   "mimetype": "text/x-python",
   "name": "python",
   "nbconvert_exporter": "python",
   "pygments_lexer": "ipython3",
   "version": "3.9.7"
  }
 },
 "nbformat": 4,
 "nbformat_minor": 5
}
