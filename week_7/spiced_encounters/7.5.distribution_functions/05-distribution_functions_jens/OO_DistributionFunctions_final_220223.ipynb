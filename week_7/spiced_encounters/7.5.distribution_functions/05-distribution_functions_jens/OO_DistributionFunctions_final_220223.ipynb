{
 "cells": [
  {
   "cell_type": "markdown",
   "metadata": {},
   "source": [
    "# Distribution Functions"
   ]
  },
  {
   "cell_type": "markdown",
   "metadata": {},
   "source": [
    "After this session you will \n",
    "- develop a basic intuition underlying selected distributions \n",
    "- develop an understanding for selected concepts of (inferential) statistics\n",
    "- be able to apply an important numpy method (useful also in later weeks of the bootcamp)"
   ]
  },
  {
   "cell_type": "code",
   "execution_count": 1,
   "metadata": {},
   "outputs": [
    {
     "data": {
      "text/plain": [
       "<Figure size 792x360 with 0 Axes>"
      ]
     },
     "metadata": {},
     "output_type": "display_data"
    }
   ],
   "source": [
    "import pandas as pd\n",
    "import numpy as np\n",
    "\n",
    "from collections import Counter\n",
    "\n",
    "import matplotlib.pyplot as plt\n",
    "plt.figure(figsize=(11,5))\n",
    "\n",
    "import seaborn as sns\n",
    "\n",
    "import warnings\n",
    "warnings.filterwarnings(\"ignore\")"
   ]
  },
  {
   "cell_type": "markdown",
   "metadata": {},
   "source": [
    "### Uniform Distribution"
   ]
  },
  {
   "cell_type": "code",
   "execution_count": 2,
   "metadata": {},
   "outputs": [],
   "source": [
    "def toss_dice(no_dice = 1, obs = 1, faces = 6):\n",
    "    return np.random.randint(\n",
    "        low = 1,\n",
    "        high= faces+1,\n",
    "        size= no_dice*obs\n",
    "    ).reshape(-1, obs)"
   ]
  },
  {
   "cell_type": "code",
   "execution_count": 3,
   "metadata": {},
   "outputs": [
    {
     "data": {
      "text/plain": [
       "(1, 1000000)"
      ]
     },
     "execution_count": 3,
     "metadata": {},
     "output_type": "execute_result"
    }
   ],
   "source": [
    "data = toss_dice(obs=1000_000)\n",
    "data.shape   "
   ]
  },
  {
   "cell_type": "code",
   "execution_count": 4,
   "metadata": {},
   "outputs": [],
   "source": [
    "data = data.reshape(-1,)"
   ]
  },
  {
   "cell_type": "code",
   "execution_count": 5,
   "metadata": {},
   "outputs": [
    {
     "data": {
      "text/plain": [
       "(1000000,)"
      ]
     },
     "execution_count": 5,
     "metadata": {},
     "output_type": "execute_result"
    }
   ],
   "source": [
    "data.shape "
   ]
  },
  {
   "cell_type": "code",
   "execution_count": 6,
   "metadata": {},
   "outputs": [],
   "source": [
    "counter=Counter(data)"
   ]
  },
  {
   "cell_type": "code",
   "execution_count": 7,
   "metadata": {},
   "outputs": [
    {
     "data": {
      "image/png": "[encoded data removed]",
      "text/plain": [
       "<Figure size 432x288 with 1 Axes>"
      ]
     },
     "metadata": {
      "needs_background": "light"
     },
     "output_type": "display_data"
    }
   ],
   "source": [
    "plt.bar(counter.keys(), counter.values());"
   ]
  },
  {
   "cell_type": "code",
   "execution_count": 26,
   "metadata": {},
   "outputs": [],
   "source": [
    "N_DICE = 1000\n",
    "OBS = 100000"
   ]
  },
  {
   "cell_type": "code",
   "execution_count": 27,
   "metadata": {},
   "outputs": [],
   "source": [
    "def plotDice(no_dice= N_DICE, obs=OBS):\n",
    "    data = toss_dice(no_dice, obs)\n",
    "    s = data.sum(axis=1) \n",
    "    return pd.Series(s).hist(bins=15) # note: this brings array into a series"
   ]
  },
  {
   "cell_type": "code",
   "execution_count": 28,
   "metadata": {},
   "outputs": [
    {
     "data": {
      "image/png": "[encoded data removed]",
      "text/plain": [
       "<Figure size 432x288 with 1 Axes>"
      ]
     },
     "metadata": {
      "needs_background": "light"
     },
     "output_type": "display_data"
    }
   ],
   "source": [
    "plotDice();"
   ]
  },
  {
   "cell_type": "markdown",
   "metadata": {},
   "source": [
    "**with more dice rolls, the uniform distribution becomes close to a normal distribution**"
   ]
  },
  {
   "cell_type": "markdown",
   "metadata": {},
   "source": [
    "### Bernoulli Distribution\n",
    "\n",
    "There are two possible outcomes: Coin toss, pass/fail, etc.\n",
    "\n",
    "Success probability is p, failure probability (1-p).\n",
    "\n",
    "If it's a fair coin, that means 0.5 probability of being heads and 1-0.5 probability of being tails."
   ]
  },
  {
   "cell_type": "code",
   "execution_count": 29,
   "metadata": {},
   "outputs": [],
   "source": [
    "def toss_coins(no_coins=1, obs=1, thresh=0.5):\n",
    "    coins = np.random.random(size=no_coins*obs)\n",
    "    b = coins > thresh  # <-- probability threshold\n",
    "    return b.astype(int).reshape(-1, no_coins)"
   ]
  },
  {
   "cell_type": "code",
   "execution_count": 30,
   "metadata": {},
   "outputs": [],
   "source": [
    "N_COINS = 100\n",
    "OBS = 100_000"
   ]
  },
  {
   "cell_type": "code",
   "execution_count": 31,
   "metadata": {},
   "outputs": [],
   "source": [
    "def plotCoins(no_coins= N_COINS, obs=OBS):\n",
    "    data=toss_coins(no_coins, obs)\n",
    "    s = data.sum(axis=1)\n",
    "    return pd.Series(s).hist(bins=12)"
   ]
  },
  {
   "cell_type": "code",
   "execution_count": 32,
   "metadata": {},
   "outputs": [
    {
     "data": {
      "image/png": "[encoded data removed]",
      "text/plain": [
       "<Figure size 432x288 with 1 Axes>"
      ]
     },
     "metadata": {
      "needs_background": "light"
     },
     "output_type": "display_data"
    }
   ],
   "source": [
    "plotCoins();"
   ]
  },
  {
   "cell_type": "markdown",
   "metadata": {},
   "source": [
    "**with more coin rolls, the Bernouilli distribution becomes close to a normal distribution**"
   ]
  },
  {
   "cell_type": "markdown",
   "metadata": {},
   "source": [
    "### Central Limit Theorem\n",
    "\n",
    "The **Central limit theorem** states that if you add up many distributions, you always end up with a normal distribution.\n",
    "\n",
    "In the example above, we saw that as the number of trials increased in a Binomial trial, we got closer to the expected value (mean of 0.5).\n",
    "\n",
    "Now let's go to the next step: Creating many Binomial distributions each of which have several success/failures.\n",
    "\n",
    "We do the above experiment 10000 times with n_trials in each set.\n"
   ]
  },
  {
   "cell_type": "markdown",
   "metadata": {},
   "source": [
    "**The CLT is the reason why we see the normal distribution everywhere**"
   ]
  },
  {
   "cell_type": "markdown",
   "metadata": {},
   "source": [
    "### Binomial Distribution"
   ]
  },
  {
   "cell_type": "markdown",
   "metadata": {},
   "source": [
    "Sum of independent and identically distributed **(iid)** random variables.\n",
    "\n",
    "$f(k,n,p)= {\\binom {n}{k}}p^{k}(1-p)^{n-k}$\n",
    "\n",
    "* p - probability of a binary event (probability for heads)\n",
    "* n - number of events (coin tosses)\n",
    "* k - number of successes (number of heads <= n)\n",
    "\n",
    "If you had two coin tosses, for three heads your probability would be \n",
    "\n",
    "$p^3 = 0.5^3 = 0.125$\n",
    "\n",
    "\n",
    "A nice long explanation here: \n",
    "    https://math.stackexchange.com/questions/838107/what-is-the-difference-and-relationship-between-the-binomial-and-bernoulli-distr\n",
    "    "
   ]
  },
  {
   "cell_type": "code",
   "execution_count": 33,
   "metadata": {},
   "outputs": [
    {
     "data": {
      "text/plain": [
       "array([1, 2, 2, 1, 1, 0, 2, 2, 2, 1])"
      ]
     },
     "execution_count": 33,
     "metadata": {},
     "output_type": "execute_result"
    }
   ],
   "source": [
    "# we toss 3 coins, count the number of 'heads', repeat 10 times\n",
    "np.random.binomial(n=3, p=0.5, size=10)  # results are the 'k' values"
   ]
  },
  {
   "cell_type": "code",
   "execution_count": 34,
   "metadata": {},
   "outputs": [
    {
     "data": {
      "text/plain": [
       "0.375"
      ]
     },
     "execution_count": 34,
     "metadata": {},
     "output_type": "execute_result"
    }
   ],
   "source": [
    "# if we want to know the probability for 2 heads with 3 coins\n",
    "# use the formula:\n",
    "from math import factorial\n",
    "\n",
    "p = 0.5\n",
    "n = 3\n",
    "k = 2\n",
    "\n",
    "binom = factorial(n) / (factorial(k) * factorial(n-k))\n",
    "\n",
    "binom * p**k * (1-p)**(n-k)"
   ]
  },
  {
   "cell_type": "markdown",
   "metadata": {},
   "source": [
    "### Normal (Gaussian) Distribution\n",
    "\n",
    "$f(x)={\\frac {1}{\\sigma {\\sqrt {2\\pi }}}}e^{-{\\frac {1}{2}}\\left({\\frac {x-\\mu }{\\sigma }}\\right)^{2}}$\n",
    "\n",
    "A lot of things in the real world come from an underlying normal distribution.\n",
    "\n",
    "Example: You are measuring the mean height of a population. The more measurements you have, the more your measurements are likely to follow the Gaussian curve, around the mean of your population height."
   ]
  },
  {
   "cell_type": "code",
   "execution_count": 35,
   "metadata": {},
   "outputs": [
    {
     "data": {
      "text/plain": [
       "<AxesSubplot:>"
      ]
     },
     "execution_count": 35,
     "metadata": {},
     "output_type": "execute_result"
    },
    {
     "data": {
      "image/png": "[encoded data removed]",
      "text/plain": [
       "<Figure size 432x288 with 1 Axes>"
      ]
     },
     "metadata": {
      "needs_background": "light"
     },
     "output_type": "display_data"
    }
   ],
   "source": [
    "data = np.random.normal(10.0, 1.0, 1000_000)\n",
    "pd.Series(data).hist(bins=20)"
   ]
  },
  {
   "cell_type": "code",
   "execution_count": 36,
   "metadata": {},
   "outputs": [],
   "source": [
    "nor_mean = 10\n",
    "nor_std = 3\n",
    "nor_std2 = 2\n",
    "nor_std3 = 5\n",
    "\n",
    "np.random.seed(42)\n",
    "var_normal = np.random.normal(nor_mean, nor_std, 1000)\n",
    "var_normal2 = np.random.normal(nor_mean, nor_std2, 1000)\n",
    "var_normal3 = np.random.normal(nor_mean, nor_std3, 1000)"
   ]
  },
  {
   "cell_type": "code",
   "execution_count": 40,
   "metadata": {},
   "outputs": [
    {
     "data": {
      "text/plain": [
       "<matplotlib.legend.Legend at 0x7f951cc51b20>"
      ]
     },
     "execution_count": 40,
     "metadata": {},
     "output_type": "execute_result"
    },
    {
     "data": {
      "image/png": "[encoded data removed]",
      "text/plain": [
       "<Figure size 432x288 with 1 Axes>"
      ]
     },
     "metadata": {
      "needs_background": "light"
     },
     "output_type": "display_data"
    }
   ],
   "source": [
    "sns.distplot(var_normal3, hist = False, kde = True)\n",
    "y = np.arange(100)/1300\n",
    "x = np.zeros(100) + 10\n",
    "plt.plot(x + nor_std3 ,y,'-.k',label = '$\\sigma$ level')\n",
    "plt.plot(x - nor_std3 ,y,'-.k')\n",
    "plt.plot(x + 2* nor_std3 ,y,'r',label = '$2 \\sigma$ (95%CI) level')\n",
    "plt.plot(x - 2 * nor_std3 ,y,'r')\n",
    "plt.plot(x + 3* nor_std3 ,y,'b',label = '$3 \\sigma$ (99%CI) level')\n",
    "plt.plot(x - 3 * nor_std3 ,y,'b')\n",
    "plt.legend()"
   ]
  },
  {
   "cell_type": "markdown",
   "metadata": {},
   "source": [
    "# Other Concepts of Inferential Statistics"
   ]
  },
  {
   "cell_type": "markdown",
   "metadata": {},
   "source": [
    "#### Confidence Intervals\n",
    "\n",
    "$$ CI = \\bar{x} \\pm z \\frac{\\sigma}{\\sqrt{n}}$$\n",
    "\n",
    "\n",
    "In the above equation the $\\sigma$ is the standard deviation, z is the confidence level and n is the sample size.\n",
    "\n",
    "68.2 - 95 - 99.97 % confidence intervals correspond to 1-2-3 $\\sigma$ levels.\n",
    "\n",
    "For eg. if you report your mean with  \"3sigma\", this is a confidence level of 99.97%, the percentage of times, this will be your sample mean, or the likelihood that the true value of your population parameter is this. \n",
    "\n",
    "In the encounter on \"Statistics of Time Series\", we will talk about CI in the context of the so-called ADF-test..."
   ]
  },
  {
   "cell_type": "markdown",
   "metadata": {},
   "source": [
    "### Law of Large Numbers\n",
    "\n",
    "The **Law of large numbers** states that the sample mean approaches the population mean for a large N\n",
    "\n",
    "With larger number of experiments, the mean result gets closer to the expected p. E.g. with many coin tosses (so multiple Bernouilli processes adding up as binomial).\n",
    "\n",
    "Also, if we increase N for the normal distribution (or the uniform) the samples became representative of the underlying distribution."
   ]
  },
  {
   "cell_type": "code",
   "execution_count": null,
   "metadata": {},
   "outputs": [],
   "source": []
  },
  {
   "cell_type": "code",
   "execution_count": null,
   "metadata": {},
   "outputs": [],
   "source": []
  }
 ],
 "metadata": {
  "kernelspec": {
   "display_name": "Python 3 (ipykernel)",
   "language": "python",
   "name": "python3"
  },
  "language_info": {
   "codemirror_mode": {
    "name": "ipython",
    "version": 3
   },
   "file_extension": ".py",
   "mimetype": "text/x-python",
   "name": "python",
   "nbconvert_exporter": "python",
   "pygments_lexer": "ipython3",
   "version": "3.9.7"
  },
  "toc": {
   "base_numbering": 1,
   "nav_menu": {},
   "number_sections": false,
   "sideBar": true,
   "skip_h1_title": false,
   "title_cell": "Table of Contents",
   "title_sidebar": "Contents",
   "toc_cell": false,
   "toc_position": {},
   "toc_section_display": true,
   "toc_window_display": false
  },
  "varInspector": {
   "cols": {
    "lenName": 16,
    "lenType": 16,
    "lenVar": 40
   },
   "kernels_config": {
    "python": {
     "delete_cmd_postfix": "",
     "delete_cmd_prefix": "del ",
     "library": "var_list.py",
     "varRefreshCmd": "print(var_dic_list())"
    },
    "r": {
     "delete_cmd_postfix": ") ",
     "delete_cmd_prefix": "rm(",
     "library": "var_list.r",
     "varRefreshCmd": "cat(var_dic_list()) "
    }
   },
   "types_to_exclude": [
    "module",
    "function",
    "builtin_function_or_method",
    "instance",
    "_Feature"
   ],
   "window_display": false
  }
 },
 "nbformat": 4,
 "nbformat_minor": 2
}
