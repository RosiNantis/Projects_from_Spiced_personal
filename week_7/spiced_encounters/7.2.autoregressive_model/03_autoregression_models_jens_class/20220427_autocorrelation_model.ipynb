{
 "cells": [
  {
   "cell_type": "markdown",
   "id": "6c109c31",
   "metadata": {},
   "source": [
    "# Autoregressive model (AR)"
   ]
  },
  {
   "cell_type": "code",
   "execution_count": 1,
   "id": "ce3e44a3",
   "metadata": {},
   "outputs": [],
   "source": [
    "import statsmodels"
   ]
  },
  {
   "cell_type": "code",
   "execution_count": 2,
   "id": "5cb3fb30",
   "metadata": {},
   "outputs": [
    {
     "name": "stdout",
     "output_type": "stream",
     "text": [
      "Defaulting to user installation because normal site-packages is not writeable\n",
      "Requirement already satisfied: statsmodels in /usr/local/lib/python3.9/dist-packages (0.13.1)\n",
      "Requirement already satisfied: scipy>=1.3 in /usr/local/lib/python3.9/dist-packages (from statsmodels) (1.7.3)\n",
      "Requirement already satisfied: patsy>=0.5.2 in /usr/local/lib/python3.9/dist-packages (from statsmodels) (0.5.2)\n",
      "Requirement already satisfied: numpy>=1.17 in /usr/local/lib/python3.9/dist-packages (from statsmodels) (1.22.0)\n",
      "Requirement already satisfied: pandas>=0.25 in /usr/local/lib/python3.9/dist-packages (from statsmodels) (1.3.5)\n",
      "Requirement already satisfied: pytz>=2017.3 in /usr/lib/python3/dist-packages (from pandas>=0.25->statsmodels) (2021.1)\n",
      "Requirement already satisfied: python-dateutil>=2.7.3 in /usr/lib/python3/dist-packages (from pandas>=0.25->statsmodels) (2.8.1)\n",
      "Requirement already satisfied: six in /usr/lib/python3/dist-packages (from patsy>=0.5.2->statsmodels) (1.16.0)\n",
      "Note: you may need to restart the kernel to use updated packages.\n"
     ]
    }
   ],
   "source": [
    "#pip install statsmodels"
   ]
  },
  {
   "cell_type": "code",
   "execution_count": 2,
   "id": "0c358e25",
   "metadata": {},
   "outputs": [],
   "source": [
    "import numpy as np\n",
    "import pandas as pd\n",
    "import seaborn as sns\n",
    "import matplotlib.pyplot as plt"
   ]
  },
  {
   "cell_type": "code",
   "execution_count": 3,
   "id": "fc9c6c0c",
   "metadata": {},
   "outputs": [],
   "source": [
    "df = pd.read_csv('./flights_remainder.csv', index_col=0, parse_dates=True)"
   ]
  },
  {
   "cell_type": "code",
   "execution_count": 4,
   "id": "c32785e1",
   "metadata": {},
   "outputs": [
    {
     "data": {
      "text/html": [
       "<div>\n",
       "<style scoped>\n",
       "    .dataframe tbody tr th:only-of-type {\n",
       "        vertical-align: middle;\n",
       "    }\n",
       "\n",
       "    .dataframe tbody tr th {\n",
       "        vertical-align: top;\n",
       "    }\n",
       "\n",
       "    .dataframe thead th {\n",
       "        text-align: right;\n",
       "    }\n",
       "</style>\n",
       "<table border=\"1\" class=\"dataframe\">\n",
       "  <thead>\n",
       "    <tr style=\"text-align: right;\">\n",
       "      <th></th>\n",
       "      <th>remainder</th>\n",
       "    </tr>\n",
       "    <tr>\n",
       "      <th>date</th>\n",
       "      <th></th>\n",
       "    </tr>\n",
       "  </thead>\n",
       "  <tbody>\n",
       "    <tr>\n",
       "      <th>1949-01-01</th>\n",
       "      <td>4.405303</td>\n",
       "    </tr>\n",
       "    <tr>\n",
       "      <th>1949-02-01</th>\n",
       "      <td>17.496212</td>\n",
       "    </tr>\n",
       "    <tr>\n",
       "      <th>1949-03-01</th>\n",
       "      <td>7.496212</td>\n",
       "    </tr>\n",
       "    <tr>\n",
       "      <th>1949-04-01</th>\n",
       "      <td>9.587121</td>\n",
       "    </tr>\n",
       "    <tr>\n",
       "      <th>1949-05-01</th>\n",
       "      <td>-5.231061</td>\n",
       "    </tr>\n",
       "  </tbody>\n",
       "</table>\n",
       "</div>"
      ],
      "text/plain": [
       "            remainder\n",
       "date                 \n",
       "1949-01-01   4.405303\n",
       "1949-02-01  17.496212\n",
       "1949-03-01   7.496212\n",
       "1949-04-01   9.587121\n",
       "1949-05-01  -5.231061"
      ]
     },
     "execution_count": 4,
     "metadata": {},
     "output_type": "execute_result"
    }
   ],
   "source": [
    "df.head()"
   ]
  },
  {
   "cell_type": "code",
   "execution_count": 5,
   "id": "6a27c422",
   "metadata": {},
   "outputs": [
    {
     "data": {
      "text/plain": [
       "[<matplotlib.lines.Line2D at 0x7fa61079a590>]"
      ]
     },
     "execution_count": 5,
     "metadata": {},
     "output_type": "execute_result"
    },
    {
     "data": {
      "image/png": "[encoded data removed]",
      "text/plain": [
       "<Figure size 432x288 with 1 Axes>"
      ]
     },
     "metadata": {
      "needs_background": "light"
     },
     "output_type": "display_data"
    }
   ],
   "source": [
    "plt.plot(df['remainder'])"
   ]
  },
  {
   "cell_type": "markdown",
   "id": "c07aa6d1",
   "metadata": {},
   "source": [
    "### Stationarity\n",
    "The main characteristics of the data is not time dependent    \n",
    "* Mean       \n",
    "* Variance     \n",
    "\n",
    "White noise: random, stationary    "
   ]
  },
  {
   "cell_type": "code",
   "execution_count": 7,
   "id": "ae43e654",
   "metadata": {},
   "outputs": [],
   "source": [
    "data = range(10)"
   ]
  },
  {
   "cell_type": "code",
   "execution_count": 8,
   "id": "22a0f29c",
   "metadata": {},
   "outputs": [
    {
     "data": {
      "text/plain": [
       "[<matplotlib.lines.Line2D at 0x7f71275ab160>]"
      ]
     },
     "execution_count": 8,
     "metadata": {},
     "output_type": "execute_result"
    },
    {
     "data": {
      "image/png": "[encoded data removed]",
      "text/plain": [
       "<Figure size 432x288 with 1 Axes>"
      ]
     },
     "metadata": {
      "needs_background": "light"
     },
     "output_type": "display_data"
    }
   ],
   "source": [
    "plt.plot(data)"
   ]
  },
  {
   "cell_type": "code",
   "execution_count": 10,
   "id": "14cd1da9",
   "metadata": {},
   "outputs": [
    {
     "data": {
      "text/plain": [
       "[<matplotlib.lines.Line2D at 0x7f7127311250>]"
      ]
     },
     "execution_count": 10,
     "metadata": {},
     "output_type": "execute_result"
    },
    {
     "data": {
      "image/png": "[encoded data removed]",
      "text/plain": [
       "<Figure size 432x288 with 1 Axes>"
      ]
     },
     "metadata": {
      "needs_background": "light"
     },
     "output_type": "display_data"
    }
   ],
   "source": [
    "plt.plot(data + np.random.random(10))  # add a random number between 0 and 1 [0,1)\n",
    "# Problem, we only add a number"
   ]
  },
  {
   "cell_type": "code",
   "execution_count": 15,
   "id": "68525fa2",
   "metadata": {},
   "outputs": [
    {
     "data": {
      "text/plain": [
       "[<matplotlib.lines.Line2D at 0x7f7127029400>]"
      ]
     },
     "execution_count": 15,
     "metadata": {},
     "output_type": "execute_result"
    },
    {
     "data": {
      "image/png": "[encoded data removed]",
      "text/plain": [
       "<Figure size 432x288 with 1 Axes>"
      ]
     },
     "metadata": {
      "needs_background": "light"
     },
     "output_type": "display_data"
    }
   ],
   "source": [
    "plt.plot(np.random.normal(0, 1, 132))"
   ]
  },
  {
   "cell_type": "markdown",
   "id": "f4a871ac",
   "metadata": {},
   "source": [
    "## Autocorrelation"
   ]
  },
  {
   "cell_type": "markdown",
   "id": "49210c89",
   "metadata": {},
   "source": [
    "$MSE = \\frac{1}{n} \\sum_i^n (\\hat{y} - y_i)^2$      \n",
    "$Var(y) = \\frac{1}{n} \\sum_i^n (\\bar{y} - y_i)^2 = \\frac{1}{n} \\sum_i^n (\\bar{y} - y_i) \\cdot (\\bar{y} - y_i)$ Population variance\n",
    "$Covariance(y,x) = \\frac{1}{n} \\sum_i^n (\\bar{y} - y_i) \\cdot (\\bar{x} - x_i)$     \n",
    "$Correlation(y,x) = \\frac{Cov(y,x)}{\\sigma(y)\\cdot\\sigma(x)}$  Pearson correlation ($\\sigma = std$)\n"
   ]
  },
  {
   "cell_type": "code",
   "execution_count": null,
   "id": "717e2d7b",
   "metadata": {},
   "outputs": [],
   "source": [
    "$MSE = \\frac{1}{n} \\sum_i^n (\\hat{y} - y_i)^2$      \n",
    "$Var(y) = \\frac{1}{n} \\sum_i^n (\\bar{y} - y_i)^2 = \\frac{1}{n} \\sum_i^n (\\bar{y} - y_i) \\cdot (\\bar{y} - y_i)$ Population variance\n",
    "$Covariance(y,x) = \\frac{1}{n} \\sum_i^n (\\bar{y} - y_i) \\cdot (\\bar{x} - x_i)$     \n",
    "$Correlation(y,x) = \\frac{Cov(y,x)}{\\sigma(y)\\cdot\\sigma(x)}$"
   ]
  },
  {
   "cell_type": "code",
   "execution_count": 16,
   "id": "e4fe28bf",
   "metadata": {},
   "outputs": [],
   "source": [
    "df['lag1'] = df['remainder'].shift(1)"
   ]
  },
  {
   "cell_type": "code",
   "execution_count": 25,
   "id": "630107cf",
   "metadata": {},
   "outputs": [],
   "source": [
    "df['lag2'] = df['remainder'].shift(2)"
   ]
  },
  {
   "cell_type": "code",
   "execution_count": 26,
   "id": "f98471ac",
   "metadata": {},
   "outputs": [
    {
     "data": {
      "text/html": [
       "<div>\n",
       "<style scoped>\n",
       "    .dataframe tbody tr th:only-of-type {\n",
       "        vertical-align: middle;\n",
       "    }\n",
       "\n",
       "    .dataframe tbody tr th {\n",
       "        vertical-align: top;\n",
       "    }\n",
       "\n",
       "    .dataframe thead th {\n",
       "        text-align: right;\n",
       "    }\n",
       "</style>\n",
       "<table border=\"1\" class=\"dataframe\">\n",
       "  <thead>\n",
       "    <tr style=\"text-align: right;\">\n",
       "      <th></th>\n",
       "      <th>remainder</th>\n",
       "      <th>lag1</th>\n",
       "      <th>lag2</th>\n",
       "    </tr>\n",
       "    <tr>\n",
       "      <th>date</th>\n",
       "      <th></th>\n",
       "      <th></th>\n",
       "      <th></th>\n",
       "    </tr>\n",
       "  </thead>\n",
       "  <tbody>\n",
       "    <tr>\n",
       "      <th>1949-01-01</th>\n",
       "      <td>4.405303</td>\n",
       "      <td>NaN</td>\n",
       "      <td>NaN</td>\n",
       "    </tr>\n",
       "    <tr>\n",
       "      <th>1949-02-01</th>\n",
       "      <td>17.496212</td>\n",
       "      <td>4.405303</td>\n",
       "      <td>NaN</td>\n",
       "    </tr>\n",
       "    <tr>\n",
       "      <th>1949-03-01</th>\n",
       "      <td>7.496212</td>\n",
       "      <td>17.496212</td>\n",
       "      <td>4.405303</td>\n",
       "    </tr>\n",
       "    <tr>\n",
       "      <th>1949-04-01</th>\n",
       "      <td>9.587121</td>\n",
       "      <td>7.496212</td>\n",
       "      <td>17.496212</td>\n",
       "    </tr>\n",
       "    <tr>\n",
       "      <th>1949-05-01</th>\n",
       "      <td>-5.231061</td>\n",
       "      <td>9.587121</td>\n",
       "      <td>7.496212</td>\n",
       "    </tr>\n",
       "    <tr>\n",
       "      <th>...</th>\n",
       "      <td>...</td>\n",
       "      <td>...</td>\n",
       "      <td>...</td>\n",
       "    </tr>\n",
       "    <tr>\n",
       "      <th>1959-08-01</th>\n",
       "      <td>8.867424</td>\n",
       "      <td>4.776515</td>\n",
       "      <td>-6.587121</td>\n",
       "    </tr>\n",
       "    <tr>\n",
       "      <th>1959-09-01</th>\n",
       "      <td>-7.132576</td>\n",
       "      <td>8.867424</td>\n",
       "      <td>4.776515</td>\n",
       "    </tr>\n",
       "    <tr>\n",
       "      <th>1959-10-01</th>\n",
       "      <td>-9.496212</td>\n",
       "      <td>-7.132576</td>\n",
       "      <td>8.867424</td>\n",
       "    </tr>\n",
       "    <tr>\n",
       "      <th>1959-11-01</th>\n",
       "      <td>-8.587121</td>\n",
       "      <td>-9.496212</td>\n",
       "      <td>-7.132576</td>\n",
       "    </tr>\n",
       "    <tr>\n",
       "      <th>1959-12-01</th>\n",
       "      <td>-9.405303</td>\n",
       "      <td>-8.587121</td>\n",
       "      <td>-9.496212</td>\n",
       "    </tr>\n",
       "  </tbody>\n",
       "</table>\n",
       "<p>132 rows × 3 columns</p>\n",
       "</div>"
      ],
      "text/plain": [
       "            remainder       lag1       lag2\n",
       "date                                       \n",
       "1949-01-01   4.405303        NaN        NaN\n",
       "1949-02-01  17.496212   4.405303        NaN\n",
       "1949-03-01   7.496212  17.496212   4.405303\n",
       "1949-04-01   9.587121   7.496212  17.496212\n",
       "1949-05-01  -5.231061   9.587121   7.496212\n",
       "...               ...        ...        ...\n",
       "1959-08-01   8.867424   4.776515  -6.587121\n",
       "1959-09-01  -7.132576   8.867424   4.776515\n",
       "1959-10-01  -9.496212  -7.132576   8.867424\n",
       "1959-11-01  -8.587121  -9.496212  -7.132576\n",
       "1959-12-01  -9.405303  -8.587121  -9.496212\n",
       "\n",
       "[132 rows x 3 columns]"
      ]
     },
     "execution_count": 26,
     "metadata": {},
     "output_type": "execute_result"
    }
   ],
   "source": [
    "df"
   ]
  },
  {
   "cell_type": "code",
   "execution_count": 34,
   "id": "2161e412",
   "metadata": {},
   "outputs": [
    {
     "data": {
      "text/plain": [
       "0.574096881708"
      ]
     },
     "execution_count": 34,
     "metadata": {},
     "output_type": "execute_result"
    }
   ],
   "source": [
    "0.758226 * 0.757158"
   ]
  },
  {
   "cell_type": "code",
   "execution_count": 27,
   "id": "ef85d5ce",
   "metadata": {},
   "outputs": [
    {
     "data": {
      "text/html": [
       "<div>\n",
       "<style scoped>\n",
       "    .dataframe tbody tr th:only-of-type {\n",
       "        vertical-align: middle;\n",
       "    }\n",
       "\n",
       "    .dataframe tbody tr th {\n",
       "        vertical-align: top;\n",
       "    }\n",
       "\n",
       "    .dataframe thead th {\n",
       "        text-align: right;\n",
       "    }\n",
       "</style>\n",
       "<table border=\"1\" class=\"dataframe\">\n",
       "  <thead>\n",
       "    <tr style=\"text-align: right;\">\n",
       "      <th></th>\n",
       "      <th>remainder</th>\n",
       "      <th>lag1</th>\n",
       "      <th>lag2</th>\n",
       "    </tr>\n",
       "  </thead>\n",
       "  <tbody>\n",
       "    <tr>\n",
       "      <th>remainder</th>\n",
       "      <td>1.000000</td>\n",
       "      <td>0.758226</td>\n",
       "      <td>0.602811</td>\n",
       "    </tr>\n",
       "    <tr>\n",
       "      <th>lag1</th>\n",
       "      <td>0.758226</td>\n",
       "      <td>1.000000</td>\n",
       "      <td>0.757158</td>\n",
       "    </tr>\n",
       "    <tr>\n",
       "      <th>lag2</th>\n",
       "      <td>0.602811</td>\n",
       "      <td>0.757158</td>\n",
       "      <td>1.000000</td>\n",
       "    </tr>\n",
       "  </tbody>\n",
       "</table>\n",
       "</div>"
      ],
      "text/plain": [
       "           remainder      lag1      lag2\n",
       "remainder   1.000000  0.758226  0.602811\n",
       "lag1        0.758226  1.000000  0.757158\n",
       "lag2        0.602811  0.757158  1.000000"
      ]
     },
     "execution_count": 27,
     "metadata": {},
     "output_type": "execute_result"
    }
   ],
   "source": [
    "df.corr()"
   ]
  },
  {
   "cell_type": "markdown",
   "id": "5bfec10b",
   "metadata": {},
   "source": [
    "AR(1) is the a linear regression with the lag1 as X and the **remainder** as y    \n",
    "AR has the hyperparameter **p** - order (number of lags)"
   ]
  },
  {
   "cell_type": "markdown",
   "id": "4f2cd9d5",
   "metadata": {},
   "source": [
    "AR(1) $y_{t+1} = w_0 + w_1\\cdot y_{t} + \\epsilon$    \n",
    "AR(p) $y_{t+1} = w_0 + \\sum_{j=0}^{p-1} w_{j+1} \\cdot y_{t-j} + \\epsilon$"
   ]
  },
  {
   "cell_type": "code",
   "execution_count": 23,
   "id": "6030ff9a",
   "metadata": {},
   "outputs": [],
   "source": [
    "from statsmodels.graphics.tsaplots import plot_pacf, plot_acf\n",
    "from statsmodels.tsa.ar_model import ar_select_order, AutoReg"
   ]
  },
  {
   "cell_type": "code",
   "execution_count": 28,
   "id": "0d934e43",
   "metadata": {},
   "outputs": [
    {
     "data": {
      "image/png": "[encoded data removed]",
      "text/plain": [
       "<Figure size 432x288 with 1 Axes>"
      ]
     },
     "execution_count": 28,
     "metadata": {},
     "output_type": "execute_result"
    },
    {
     "data": {
      "image/png": "[encoded data removed]",
      "text/plain": [
       "<Figure size 432x288 with 1 Axes>"
      ]
     },
     "metadata": {
      "needs_background": "light"
     },
     "output_type": "display_data"
    }
   ],
   "source": [
    "plot_acf(df['remainder']) # autorcorrelation function"
   ]
  },
  {
   "cell_type": "code",
   "execution_count": 29,
   "id": "d673586b",
   "metadata": {},
   "outputs": [
    {
     "name": "stderr",
     "output_type": "stream",
     "text": [
      "/usr/local/lib/python3.9/dist-packages/statsmodels/graphics/tsaplots.py:348: FutureWarning: The default method 'yw' can produce PACF values outside of the [-1,1] interval. After 0.13, the default will change tounadjusted Yule-Walker ('ywm'). You can use this method now by setting method='ywm'.\n",
      "  warnings.warn(\n"
     ]
    },
    {
     "data": {
      "image/png": "[encoded data removed]",
      "text/plain": [
       "<Figure size 432x288 with 1 Axes>"
      ]
     },
     "execution_count": 29,
     "metadata": {},
     "output_type": "execute_result"
    },
    {
     "data": {
      "image/png": "[encoded data removed]",
      "text/plain": [
       "<Figure size 432x288 with 1 Axes>"
      ]
     },
     "metadata": {
      "needs_background": "light"
     },
     "output_type": "display_data"
    }
   ],
   "source": [
    "plot_pacf(df['remainder'])  # partial autocorrelation function"
   ]
  },
  {
   "cell_type": "code",
   "execution_count": 32,
   "id": "de697f33",
   "metadata": {},
   "outputs": [
    {
     "name": "stderr",
     "output_type": "stream",
     "text": [
      "/usr/local/lib/python3.9/dist-packages/statsmodels/tsa/base/tsa_model.py:536: ValueWarning: No frequency information was provided, so inferred frequency MS will be used.\n",
      "  warnings.warn('No frequency information was'\n",
      "/usr/local/lib/python3.9/dist-packages/statsmodels/tsa/base/tsa_model.py:536: ValueWarning: No frequency information was provided, so inferred frequency MS will be used.\n",
      "  warnings.warn('No frequency information was'\n"
     ]
    }
   ],
   "source": [
    "ar_order = ar_select_order(df['remainder'], maxlag=25)"
   ]
  },
  {
   "cell_type": "code",
   "execution_count": 33,
   "id": "498df664",
   "metadata": {},
   "outputs": [
    {
     "data": {
      "text/plain": [
       "[1]"
      ]
     },
     "execution_count": 33,
     "metadata": {},
     "output_type": "execute_result"
    }
   ],
   "source": [
    "ar_order.ar_lags"
   ]
  },
  {
   "cell_type": "code",
   "execution_count": null,
   "id": "8475e34e",
   "metadata": {},
   "outputs": [],
   "source": []
  }
 ],
 "metadata": {
  "kernelspec": {
   "display_name": "Python 3 (ipykernel)",
   "language": "python",
   "name": "python3"
  },
  "language_info": {
   "codemirror_mode": {
    "name": "ipython",
    "version": 3
   },
   "file_extension": ".py",
   "mimetype": "text/x-python",
   "name": "python",
   "nbconvert_exporter": "python",
   "pygments_lexer": "ipython3",
   "version": "3.7.11"
  }
 },
 "nbformat": 4,
 "nbformat_minor": 5
}
