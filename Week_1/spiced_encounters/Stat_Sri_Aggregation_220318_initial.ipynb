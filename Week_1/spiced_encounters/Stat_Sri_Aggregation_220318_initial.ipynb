{
 "cells": [
  {
   "cell_type": "markdown",
   "id": "09e903e0",
   "metadata": {},
   "source": [
    "# Aggregation 📚"
   ]
  },
  {
   "cell_type": "markdown",
   "id": "dd48c1a4",
   "metadata": {},
   "source": [
    "### After this encounter we will have covered \n",
    "- how to apply different aggregation methods to your datasets\n",
    "- explanation of what .groupby() does and some options on how apply it to your datasets"
   ]
  },
  {
   "cell_type": "code",
   "execution_count": null,
   "id": "13cc9de7",
   "metadata": {},
   "outputs": [],
   "source": [
    "import pandas as pd\n",
    "\n",
    "import warnings\n",
    "warnings.filterwarnings(\"ignore\")"
   ]
  },
  {
   "cell_type": "markdown",
   "id": "79c107ff",
   "metadata": {},
   "source": [
    "## 1. Applying aggregation methods: "
   ]
  },
  {
   "cell_type": "code",
   "execution_count": null,
   "id": "661f4bb8",
   "metadata": {},
   "outputs": [],
   "source": [
    "df = pd.read_csv(\"large_countries_2015.csv\", sep = \",\")\n",
    "df.info()"
   ]
  },
  {
   "cell_type": "code",
   "execution_count": null,
   "id": "f694d173",
   "metadata": {},
   "outputs": [],
   "source": [
    "df[\"population\"] = (df[\"population\"]/1000).astype(int)"
   ]
  },
  {
   "cell_type": "code",
   "execution_count": null,
   "id": "eb676bdf",
   "metadata": {},
   "outputs": [],
   "source": [
    "df.head(2)"
   ]
  },
  {
   "cell_type": "markdown",
   "id": "f213cb72",
   "metadata": {},
   "source": [
    "Let's apply some aggregation methods!\n",
    "Intuition of \"aggregation\": take some rows, apply some kind of \"operation\" on them and return a resumed version of these rows."
   ]
  },
  {
   "cell_type": "code",
   "execution_count": null,
   "id": "58a6df94",
   "metadata": {},
   "outputs": [],
   "source": [
    "df.sum()"
   ]
  },
  {
   "cell_type": "markdown",
   "id": "8654f184",
   "metadata": {},
   "source": [
    "If we apply .sum() to the complete dataframe, strings will be concatenated. "
   ]
  },
  {
   "cell_type": "code",
   "execution_count": null,
   "id": "b581ee04",
   "metadata": {},
   "outputs": [],
   "source": [
    "df[\"population\"].sum()"
   ]
  },
  {
   "cell_type": "code",
   "execution_count": null,
   "id": "590edf0c",
   "metadata": {},
   "outputs": [],
   "source": [
    "df[[\"population\", \"fertility\"]].sum()"
   ]
  },
  {
   "cell_type": "code",
   "execution_count": null,
   "id": "0b49bda4",
   "metadata": {},
   "outputs": [],
   "source": [
    "df[\"country\"].count()"
   ]
  },
  {
   "cell_type": "code",
   "execution_count": null,
   "id": "38288a70",
   "metadata": {},
   "outputs": [],
   "source": [
    "df[\"country\"].value_counts()"
   ]
  },
  {
   "cell_type": "code",
   "execution_count": null,
   "id": "d0785234",
   "metadata": {},
   "outputs": [],
   "source": [
    "df.describe()"
   ]
  },
  {
   "cell_type": "markdown",
   "id": "79223607",
   "metadata": {},
   "source": [
    ".agg() can be used to aggregate more \"modularly\":"
   ]
  },
  {
   "cell_type": "code",
   "execution_count": null,
   "id": "5d092fb2",
   "metadata": {},
   "outputs": [],
   "source": [
    "df.agg(\n",
    "    {\"population\":\"mean\",\n",
    "    \"fertility\":\"median\"\n",
    "    }\n",
    ")"
   ]
  },
  {
   "cell_type": "code",
   "execution_count": null,
   "id": "fce9a7b2",
   "metadata": {},
   "outputs": [],
   "source": [
    "df.agg(\n",
    "    [\"median\",\"mean\",\"std\"]\n",
    ")"
   ]
  },
  {
   "cell_type": "code",
   "execution_count": null,
   "id": "7fda995f",
   "metadata": {},
   "outputs": [],
   "source": [
    "def double(x):\n",
    "    return 2*x"
   ]
  },
  {
   "cell_type": "code",
   "execution_count": null,
   "id": "d41d430b",
   "metadata": {},
   "outputs": [],
   "source": [
    "df.agg(\n",
    "    {\"population\":\"mean\",\n",
    "    \"fertility\":\"double\"\n",
    "    }\n",
    ")"
   ]
  },
  {
   "cell_type": "code",
   "execution_count": null,
   "id": "d0979cb8",
   "metadata": {},
   "outputs": [],
   "source": [
    "df[[\"population\", \"fertility\"]].agg(\n",
    "    [\"median\",\"mean\",\"double\"]\n",
    ")"
   ]
  },
  {
   "cell_type": "markdown",
   "id": "6d9364a3",
   "metadata": {},
   "source": [
    "## 2. .groupby()"
   ]
  },
  {
   "cell_type": "markdown",
   "id": "3d8234a9",
   "metadata": {},
   "source": [
    "What DOES .groupby() actually do?\n",
    "1. it **splits** the data\n",
    "2. it **applies** some kind of operation ON THE GROUPED data\n",
    "3. it **combines** the data back into a new (pandas) object (i.e. series or dataframe)"
   ]
  },
  {
   "cell_type": "code",
   "execution_count": null,
   "id": "93c4d7a9",
   "metadata": {},
   "outputs": [],
   "source": []
  },
  {
   "cell_type": "code",
   "execution_count": null,
   "id": "2d08ed45",
   "metadata": {},
   "outputs": [],
   "source": []
  },
  {
   "cell_type": "code",
   "execution_count": null,
   "id": "e88a7bfe",
   "metadata": {},
   "outputs": [],
   "source": []
  },
  {
   "cell_type": "markdown",
   "id": "183f04fb",
   "metadata": {},
   "source": [
    "After grouping, we can now \"mix\" between aggregations and transformations, combining .groupby() with .agg() and our customized function from above."
   ]
  },
  {
   "cell_type": "code",
   "execution_count": null,
   "id": "77126d3a",
   "metadata": {},
   "outputs": [],
   "source": []
  },
  {
   "cell_type": "markdown",
   "id": "66f0a636",
   "metadata": {},
   "source": [
    "Applying transformations to selected cols:"
   ]
  },
  {
   "cell_type": "code",
   "execution_count": null,
   "id": "1bd43100",
   "metadata": {},
   "outputs": [],
   "source": []
  },
  {
   "cell_type": "code",
   "execution_count": null,
   "id": "fad198e8",
   "metadata": {},
   "outputs": [],
   "source": []
  },
  {
   "cell_type": "code",
   "execution_count": null,
   "id": "038050cc",
   "metadata": {},
   "outputs": [],
   "source": []
  },
  {
   "cell_type": "markdown",
   "id": "4e98fa48",
   "metadata": {},
   "source": [
    "Plotting examples:"
   ]
  },
  {
   "cell_type": "code",
   "execution_count": null,
   "id": "22b04e0c",
   "metadata": {},
   "outputs": [],
   "source": []
  },
  {
   "cell_type": "code",
   "execution_count": null,
   "id": "049dfaab",
   "metadata": {},
   "outputs": [],
   "source": []
  },
  {
   "cell_type": "code",
   "execution_count": null,
   "id": "a08d86ce",
   "metadata": {},
   "outputs": [],
   "source": []
  },
  {
   "cell_type": "code",
   "execution_count": null,
   "id": "5a8fd3aa",
   "metadata": {},
   "outputs": [],
   "source": []
  },
  {
   "cell_type": "markdown",
   "id": "18c01c28",
   "metadata": {},
   "source": [
    "## Comments and questions during the encounter"
   ]
  },
  {
   "cell_type": "markdown",
   "id": "99115086",
   "metadata": {},
   "source": []
  },
  {
   "cell_type": "markdown",
   "id": "90f3f3a3",
   "metadata": {},
   "source": []
  }
 ],
 "metadata": {
  "kernelspec": {
   "display_name": "Python 3",
   "language": "python",
   "name": "python3"
  },
  "language_info": {
   "codemirror_mode": {
    "name": "ipython",
    "version": 3
   },
   "file_extension": ".py",
   "mimetype": "text/x-python",
   "name": "python",
   "nbconvert_exporter": "python",
   "pygments_lexer": "ipython3",
   "version": "3.8.8"
  }
 },
 "nbformat": 4,
 "nbformat_minor": 5
}
