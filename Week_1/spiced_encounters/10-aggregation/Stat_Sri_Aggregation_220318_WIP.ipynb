{
 "cells": [
  {
   "cell_type": "markdown",
   "id": "09e903e0",
   "metadata": {},
   "source": [
    "# Aggregation 📚"
   ]
  },
  {
   "cell_type": "markdown",
   "id": "dd48c1a4",
   "metadata": {},
   "source": [
    "### After this encounter we will have covered \n",
    "- how to apply different aggregation methods to your datasets\n",
    "- explanation of what .groupby() does and some options on how apply it to your datasets"
   ]
  },
  {
   "cell_type": "code",
   "execution_count": 1,
   "id": "13cc9de7",
   "metadata": {},
   "outputs": [],
   "source": [
    "import pandas as pd\n",
    "\n",
    "import warnings\n",
    "warnings.filterwarnings(\"ignore\")"
   ]
  },
  {
   "cell_type": "markdown",
   "id": "79c107ff",
   "metadata": {},
   "source": [
    "## 1. Applying aggregation methods: "
   ]
  },
  {
   "cell_type": "code",
   "execution_count": 2,
   "id": "661f4bb8",
   "metadata": {},
   "outputs": [
    {
     "name": "stdout",
     "output_type": "stream",
     "text": [
      "<class 'pandas.core.frame.DataFrame'>\n",
      "RangeIndex: 12 entries, 0 to 11\n",
      "Data columns (total 4 columns):\n",
      " #   Column      Non-Null Count  Dtype  \n",
      "---  ------      --------------  -----  \n",
      " 0   country     12 non-null     object \n",
      " 1   population  12 non-null     float64\n",
      " 2   fertility   12 non-null     float64\n",
      " 3   continent   12 non-null     object \n",
      "dtypes: float64(2), object(2)\n",
      "memory usage: 512.0+ bytes\n"
     ]
    }
   ],
   "source": [
    "df = pd.read_csv(\"large_countries_2015.csv\", sep = \",\")\n",
    "df.info()"
   ]
  },
  {
   "cell_type": "code",
   "execution_count": 3,
   "id": "417bf9e1",
   "metadata": {},
   "outputs": [
    {
     "data": {
      "text/html": [
       "<div>\n",
       "<style scoped>\n",
       "    .dataframe tbody tr th:only-of-type {\n",
       "        vertical-align: middle;\n",
       "    }\n",
       "\n",
       "    .dataframe tbody tr th {\n",
       "        vertical-align: top;\n",
       "    }\n",
       "\n",
       "    .dataframe thead th {\n",
       "        text-align: right;\n",
       "    }\n",
       "</style>\n",
       "<table border=\"1\" class=\"dataframe\">\n",
       "  <thead>\n",
       "    <tr style=\"text-align: right;\">\n",
       "      <th></th>\n",
       "      <th>country</th>\n",
       "      <th>population</th>\n",
       "      <th>fertility</th>\n",
       "      <th>continent</th>\n",
       "    </tr>\n",
       "  </thead>\n",
       "  <tbody>\n",
       "    <tr>\n",
       "      <th>0</th>\n",
       "      <td>Bangladesh</td>\n",
       "      <td>160995642.0</td>\n",
       "      <td>2.12</td>\n",
       "      <td>Asia</td>\n",
       "    </tr>\n",
       "    <tr>\n",
       "      <th>1</th>\n",
       "      <td>Brazil</td>\n",
       "      <td>207847528.0</td>\n",
       "      <td>1.78</td>\n",
       "      <td>South America</td>\n",
       "    </tr>\n",
       "  </tbody>\n",
       "</table>\n",
       "</div>"
      ],
      "text/plain": [
       "      country   population  fertility      continent\n",
       "0  Bangladesh  160995642.0       2.12           Asia\n",
       "1      Brazil  207847528.0       1.78  South America"
      ]
     },
     "execution_count": 3,
     "metadata": {},
     "output_type": "execute_result"
    }
   ],
   "source": [
    "df.head(2)"
   ]
  },
  {
   "cell_type": "code",
   "execution_count": 4,
   "id": "f694d173",
   "metadata": {},
   "outputs": [],
   "source": [
    "df[\"population\"] = (df[\"population\"]/1000).astype(int) # overwriting population so values are \"in thousands\""
   ]
  },
  {
   "cell_type": "code",
   "execution_count": 5,
   "id": "eb676bdf",
   "metadata": {},
   "outputs": [
    {
     "data": {
      "text/html": [
       "<div>\n",
       "<style scoped>\n",
       "    .dataframe tbody tr th:only-of-type {\n",
       "        vertical-align: middle;\n",
       "    }\n",
       "\n",
       "    .dataframe tbody tr th {\n",
       "        vertical-align: top;\n",
       "    }\n",
       "\n",
       "    .dataframe thead th {\n",
       "        text-align: right;\n",
       "    }\n",
       "</style>\n",
       "<table border=\"1\" class=\"dataframe\">\n",
       "  <thead>\n",
       "    <tr style=\"text-align: right;\">\n",
       "      <th></th>\n",
       "      <th>country</th>\n",
       "      <th>population</th>\n",
       "      <th>fertility</th>\n",
       "      <th>continent</th>\n",
       "    </tr>\n",
       "  </thead>\n",
       "  <tbody>\n",
       "    <tr>\n",
       "      <th>0</th>\n",
       "      <td>Bangladesh</td>\n",
       "      <td>160995</td>\n",
       "      <td>2.12</td>\n",
       "      <td>Asia</td>\n",
       "    </tr>\n",
       "    <tr>\n",
       "      <th>1</th>\n",
       "      <td>Brazil</td>\n",
       "      <td>207847</td>\n",
       "      <td>1.78</td>\n",
       "      <td>South America</td>\n",
       "    </tr>\n",
       "  </tbody>\n",
       "</table>\n",
       "</div>"
      ],
      "text/plain": [
       "      country  population  fertility      continent\n",
       "0  Bangladesh      160995       2.12           Asia\n",
       "1      Brazil      207847       1.78  South America"
      ]
     },
     "execution_count": 5,
     "metadata": {},
     "output_type": "execute_result"
    }
   ],
   "source": [
    "df.head(2)"
   ]
  },
  {
   "cell_type": "markdown",
   "id": "f213cb72",
   "metadata": {},
   "source": [
    "Let's apply some aggregation methods!\n",
    "Intuition of \"aggregation\": take some rows, apply some kind of \"operation\" on them and return a resumed version of these rows."
   ]
  },
  {
   "cell_type": "code",
   "execution_count": 6,
   "id": "58a6df94",
   "metadata": {},
   "outputs": [
    {
     "data": {
      "text/plain": [
       "country       BangladeshBrazilChinaIndiaIndonesiaJapanMexico...\n",
       "population                                              4504146\n",
       "fertility                                                 29.25\n",
       "continent     AsiaSouth AmericaAsiaAsiaAsiaAsiaNorth America...\n",
       "dtype: object"
      ]
     },
     "execution_count": 6,
     "metadata": {},
     "output_type": "execute_result"
    }
   ],
   "source": [
    "df.sum()"
   ]
  },
  {
   "cell_type": "markdown",
   "id": "8654f184",
   "metadata": {},
   "source": [
    "If we apply .sum() to the complete dataframe, strings will be concatenated. "
   ]
  },
  {
   "cell_type": "code",
   "execution_count": 7,
   "id": "b581ee04",
   "metadata": {},
   "outputs": [
    {
     "data": {
      "text/plain": [
       "4504146"
      ]
     },
     "execution_count": 7,
     "metadata": {},
     "output_type": "execute_result"
    }
   ],
   "source": [
    "df[\"population\"].sum()"
   ]
  },
  {
   "cell_type": "code",
   "execution_count": 8,
   "id": "590edf0c",
   "metadata": {},
   "outputs": [
    {
     "data": {
      "text/plain": [
       "population    4504146.00\n",
       "fertility          29.25\n",
       "dtype: float64"
      ]
     },
     "execution_count": 8,
     "metadata": {},
     "output_type": "execute_result"
    }
   ],
   "source": [
    "df[[\"population\", \"fertility\"]].sum()"
   ]
  },
  {
   "cell_type": "code",
   "execution_count": 9,
   "id": "0b49bda4",
   "metadata": {},
   "outputs": [
    {
     "data": {
      "text/plain": [
       "12"
      ]
     },
     "execution_count": 9,
     "metadata": {},
     "output_type": "execute_result"
    }
   ],
   "source": [
    "df[\"country\"].count()"
   ]
  },
  {
   "cell_type": "code",
   "execution_count": 10,
   "id": "38288a70",
   "metadata": {},
   "outputs": [
    {
     "data": {
      "text/plain": [
       "Mexico           1\n",
       "Brazil           1\n",
       "India            1\n",
       "United States    1\n",
       "Philippines      1\n",
       "Nigeria          1\n",
       "Bangladesh       1\n",
       "Japan            1\n",
       "Pakistan         1\n",
       "China            1\n",
       "Russia           1\n",
       "Indonesia        1\n",
       "Name: country, dtype: int64"
      ]
     },
     "execution_count": 10,
     "metadata": {},
     "output_type": "execute_result"
    }
   ],
   "source": [
    "df[\"country\"].value_counts()"
   ]
  },
  {
   "cell_type": "code",
   "execution_count": 11,
   "id": "5334fd57",
   "metadata": {},
   "outputs": [
    {
     "data": {
      "text/plain": [
       "12"
      ]
     },
     "execution_count": 11,
     "metadata": {},
     "output_type": "execute_result"
    }
   ],
   "source": [
    "df[\"fertility\"].nunique() # returns the number of times that each unique value shows up"
   ]
  },
  {
   "cell_type": "code",
   "execution_count": 12,
   "id": "f3ef2c58",
   "metadata": {},
   "outputs": [
    {
     "data": {
      "text/plain": [
       "array([2.12, 1.78, 1.57, 2.43, 2.28, 1.45, 2.13, 5.89, 3.04, 2.98, 1.61,\n",
       "       1.97])"
      ]
     },
     "execution_count": 12,
     "metadata": {},
     "output_type": "execute_result"
    }
   ],
   "source": [
    "df[\"fertility\"].unique() # returns each unique value in dataset"
   ]
  },
  {
   "cell_type": "code",
   "execution_count": 13,
   "id": "d0785234",
   "metadata": {},
   "outputs": [
    {
     "data": {
      "text/html": [
       "<div>\n",
       "<style scoped>\n",
       "    .dataframe tbody tr th:only-of-type {\n",
       "        vertical-align: middle;\n",
       "    }\n",
       "\n",
       "    .dataframe tbody tr th {\n",
       "        vertical-align: top;\n",
       "    }\n",
       "\n",
       "    .dataframe thead th {\n",
       "        text-align: right;\n",
       "    }\n",
       "</style>\n",
       "<table border=\"1\" class=\"dataframe\">\n",
       "  <thead>\n",
       "    <tr style=\"text-align: right;\">\n",
       "      <th></th>\n",
       "      <th>population</th>\n",
       "      <th>fertility</th>\n",
       "    </tr>\n",
       "  </thead>\n",
       "  <tbody>\n",
       "    <tr>\n",
       "      <th>count</th>\n",
       "      <td>1.200000e+01</td>\n",
       "      <td>12.000000</td>\n",
       "    </tr>\n",
       "    <tr>\n",
       "      <th>mean</th>\n",
       "      <td>3.753455e+05</td>\n",
       "      <td>2.437500</td>\n",
       "    </tr>\n",
       "    <tr>\n",
       "      <th>std</th>\n",
       "      <td>4.565193e+05</td>\n",
       "      <td>1.200781</td>\n",
       "    </tr>\n",
       "    <tr>\n",
       "      <th>min</th>\n",
       "      <td>1.006990e+05</td>\n",
       "      <td>1.450000</td>\n",
       "    </tr>\n",
       "    <tr>\n",
       "      <th>25%</th>\n",
       "      <td>1.393462e+05</td>\n",
       "      <td>1.737500</td>\n",
       "    </tr>\n",
       "    <tr>\n",
       "      <th>50%</th>\n",
       "      <td>1.855625e+05</td>\n",
       "      <td>2.125000</td>\n",
       "    </tr>\n",
       "    <tr>\n",
       "      <th>75%</th>\n",
       "      <td>2.736155e+05</td>\n",
       "      <td>2.567500</td>\n",
       "    </tr>\n",
       "    <tr>\n",
       "      <th>max</th>\n",
       "      <td>1.376048e+06</td>\n",
       "      <td>5.890000</td>\n",
       "    </tr>\n",
       "  </tbody>\n",
       "</table>\n",
       "</div>"
      ],
      "text/plain": [
       "         population  fertility\n",
       "count  1.200000e+01  12.000000\n",
       "mean   3.753455e+05   2.437500\n",
       "std    4.565193e+05   1.200781\n",
       "min    1.006990e+05   1.450000\n",
       "25%    1.393462e+05   1.737500\n",
       "50%    1.855625e+05   2.125000\n",
       "75%    2.736155e+05   2.567500\n",
       "max    1.376048e+06   5.890000"
      ]
     },
     "execution_count": 13,
     "metadata": {},
     "output_type": "execute_result"
    }
   ],
   "source": [
    "df.describe()"
   ]
  },
  {
   "cell_type": "markdown",
   "id": "79223607",
   "metadata": {},
   "source": [
    ".agg() can be used to aggregate more \"modularly\":"
   ]
  },
  {
   "cell_type": "code",
   "execution_count": 14,
   "id": "5d092fb2",
   "metadata": {},
   "outputs": [
    {
     "data": {
      "text/plain": [
       "population    375345.500\n",
       "fertility          2.125\n",
       "dtype: float64"
      ]
     },
     "execution_count": 14,
     "metadata": {},
     "output_type": "execute_result"
    }
   ],
   "source": [
    "df.agg(\n",
    "    {\"population\":\"mean\",\n",
    "    \"fertility\":\"median\"\n",
    "    }\n",
    ")"
   ]
  },
  {
   "cell_type": "code",
   "execution_count": 15,
   "id": "fce9a7b2",
   "metadata": {},
   "outputs": [
    {
     "data": {
      "text/html": [
       "<div>\n",
       "<style scoped>\n",
       "    .dataframe tbody tr th:only-of-type {\n",
       "        vertical-align: middle;\n",
       "    }\n",
       "\n",
       "    .dataframe tbody tr th {\n",
       "        vertical-align: top;\n",
       "    }\n",
       "\n",
       "    .dataframe thead th {\n",
       "        text-align: right;\n",
       "    }\n",
       "</style>\n",
       "<table border=\"1\" class=\"dataframe\">\n",
       "  <thead>\n",
       "    <tr style=\"text-align: right;\">\n",
       "      <th></th>\n",
       "      <th>population</th>\n",
       "      <th>fertility</th>\n",
       "    </tr>\n",
       "  </thead>\n",
       "  <tbody>\n",
       "    <tr>\n",
       "      <th>median</th>\n",
       "      <td>185562.500000</td>\n",
       "      <td>2.125000</td>\n",
       "    </tr>\n",
       "    <tr>\n",
       "      <th>mean</th>\n",
       "      <td>375345.500000</td>\n",
       "      <td>2.437500</td>\n",
       "    </tr>\n",
       "    <tr>\n",
       "      <th>std</th>\n",
       "      <td>456519.344768</td>\n",
       "      <td>1.200781</td>\n",
       "    </tr>\n",
       "  </tbody>\n",
       "</table>\n",
       "</div>"
      ],
      "text/plain": [
       "           population  fertility\n",
       "median  185562.500000   2.125000\n",
       "mean    375345.500000   2.437500\n",
       "std     456519.344768   1.200781"
      ]
     },
     "execution_count": 15,
     "metadata": {},
     "output_type": "execute_result"
    }
   ],
   "source": [
    "df.agg(\n",
    "    [\"median\",\"mean\",\"std\"]\n",
    ")"
   ]
  },
  {
   "cell_type": "code",
   "execution_count": 16,
   "id": "7fda995f",
   "metadata": {},
   "outputs": [],
   "source": [
    "def double(x):\n",
    "    return 2*x  # strange function, admittedly..."
   ]
  },
  {
   "cell_type": "code",
   "execution_count": 17,
   "id": "d41d430b",
   "metadata": {},
   "outputs": [],
   "source": [
    "d = df.agg(\n",
    "    {\n",
    "        \"population\":\"mean\",\n",
    "        \"fertility\":\"double\"\n",
    "    }\n",
    ")"
   ]
  },
  {
   "cell_type": "code",
   "execution_count": 18,
   "id": "aa21877d",
   "metadata": {},
   "outputs": [
    {
     "data": {
      "text/plain": [
       "population                                             375345.5\n",
       "fertility     [2.12, 1.78, 1.57, 2.43, 2.28, 1.45, 2.13, 5.8...\n",
       "dtype: object"
      ]
     },
     "execution_count": 18,
     "metadata": {},
     "output_type": "execute_result"
    }
   ],
   "source": [
    "d"
   ]
  },
  {
   "cell_type": "code",
   "execution_count": 19,
   "id": "1e8ee781",
   "metadata": {},
   "outputs": [
    {
     "data": {
      "text/html": [
       "<div>\n",
       "<style scoped>\n",
       "    .dataframe tbody tr th:only-of-type {\n",
       "        vertical-align: middle;\n",
       "    }\n",
       "\n",
       "    .dataframe tbody tr th {\n",
       "        vertical-align: top;\n",
       "    }\n",
       "\n",
       "    .dataframe thead th {\n",
       "        text-align: right;\n",
       "    }\n",
       "</style>\n",
       "<table border=\"1\" class=\"dataframe\">\n",
       "  <thead>\n",
       "    <tr style=\"text-align: right;\">\n",
       "      <th></th>\n",
       "      <th>population</th>\n",
       "      <th>fertility</th>\n",
       "    </tr>\n",
       "  </thead>\n",
       "  <tbody>\n",
       "    <tr>\n",
       "      <th>0</th>\n",
       "      <td>160995</td>\n",
       "      <td>2.12</td>\n",
       "    </tr>\n",
       "    <tr>\n",
       "      <th>1</th>\n",
       "      <td>207847</td>\n",
       "      <td>1.78</td>\n",
       "    </tr>\n",
       "    <tr>\n",
       "      <th>2</th>\n",
       "      <td>1376048</td>\n",
       "      <td>1.57</td>\n",
       "    </tr>\n",
       "    <tr>\n",
       "      <th>3</th>\n",
       "      <td>1311050</td>\n",
       "      <td>2.43</td>\n",
       "    </tr>\n",
       "    <tr>\n",
       "      <th>4</th>\n",
       "      <td>257563</td>\n",
       "      <td>2.28</td>\n",
       "    </tr>\n",
       "    <tr>\n",
       "      <th>5</th>\n",
       "      <td>126573</td>\n",
       "      <td>1.45</td>\n",
       "    </tr>\n",
       "    <tr>\n",
       "      <th>6</th>\n",
       "      <td>127017</td>\n",
       "      <td>2.13</td>\n",
       "    </tr>\n",
       "    <tr>\n",
       "      <th>7</th>\n",
       "      <td>182201</td>\n",
       "      <td>5.89</td>\n",
       "    </tr>\n",
       "    <tr>\n",
       "      <th>8</th>\n",
       "      <td>188924</td>\n",
       "      <td>3.04</td>\n",
       "    </tr>\n",
       "    <tr>\n",
       "      <th>9</th>\n",
       "      <td>100699</td>\n",
       "      <td>2.98</td>\n",
       "    </tr>\n",
       "    <tr>\n",
       "      <th>10</th>\n",
       "      <td>143456</td>\n",
       "      <td>1.61</td>\n",
       "    </tr>\n",
       "    <tr>\n",
       "      <th>11</th>\n",
       "      <td>321773</td>\n",
       "      <td>1.97</td>\n",
       "    </tr>\n",
       "  </tbody>\n",
       "</table>\n",
       "</div>"
      ],
      "text/plain": [
       "    population  fertility\n",
       "0       160995       2.12\n",
       "1       207847       1.78\n",
       "2      1376048       1.57\n",
       "3      1311050       2.43\n",
       "4       257563       2.28\n",
       "5       126573       1.45\n",
       "6       127017       2.13\n",
       "7       182201       5.89\n",
       "8       188924       3.04\n",
       "9       100699       2.98\n",
       "10      143456       1.61\n",
       "11      321773       1.97"
      ]
     },
     "execution_count": 19,
     "metadata": {},
     "output_type": "execute_result"
    }
   ],
   "source": [
    "df[[\"population\", \"fertility\"]]"
   ]
  },
  {
   "cell_type": "code",
   "execution_count": 20,
   "id": "d0979cb8",
   "metadata": {},
   "outputs": [
    {
     "data": {
      "text/html": [
       "<div>\n",
       "<style scoped>\n",
       "    .dataframe tbody tr th:only-of-type {\n",
       "        vertical-align: middle;\n",
       "    }\n",
       "\n",
       "    .dataframe tbody tr th {\n",
       "        vertical-align: top;\n",
       "    }\n",
       "\n",
       "    .dataframe thead th {\n",
       "        text-align: right;\n",
       "    }\n",
       "</style>\n",
       "<table border=\"1\" class=\"dataframe\">\n",
       "  <thead>\n",
       "    <tr style=\"text-align: right;\">\n",
       "      <th></th>\n",
       "      <th>population</th>\n",
       "      <th>fertility</th>\n",
       "    </tr>\n",
       "  </thead>\n",
       "  <tbody>\n",
       "    <tr>\n",
       "      <th>median</th>\n",
       "      <td>185562.5</td>\n",
       "      <td>2.125</td>\n",
       "    </tr>\n",
       "    <tr>\n",
       "      <th>mean</th>\n",
       "      <td>375345.5</td>\n",
       "      <td>2.4375</td>\n",
       "    </tr>\n",
       "    <tr>\n",
       "      <th>double</th>\n",
       "      <td>[160995.0, 207847.0, 1376048.0, 1311050.0, 257...</td>\n",
       "      <td>[2.12, 1.78, 1.57, 2.43, 2.28, 1.45, 2.13, 5.8...</td>\n",
       "    </tr>\n",
       "  </tbody>\n",
       "</table>\n",
       "</div>"
      ],
      "text/plain": [
       "                                               population  \\\n",
       "median                                           185562.5   \n",
       "mean                                             375345.5   \n",
       "double  [160995.0, 207847.0, 1376048.0, 1311050.0, 257...   \n",
       "\n",
       "                                                fertility  \n",
       "median                                              2.125  \n",
       "mean                                               2.4375  \n",
       "double  [2.12, 1.78, 1.57, 2.43, 2.28, 1.45, 2.13, 5.8...  "
      ]
     },
     "execution_count": 20,
     "metadata": {},
     "output_type": "execute_result"
    }
   ],
   "source": [
    "df[[\"population\", \"fertility\"]].agg(\n",
    "    [\"median\",\"mean\",\"double\"]\n",
    ")"
   ]
  },
  {
   "cell_type": "markdown",
   "id": "6d9364a3",
   "metadata": {},
   "source": [
    "## 2. .groupby()"
   ]
  },
  {
   "cell_type": "markdown",
   "id": "3d8234a9",
   "metadata": {},
   "source": [
    "What DOES .groupby() actually do?\n",
    "1. it **splits** the data\n",
    "2. it **applies** some kind of operation ON THE GROUPED data\n",
    "3. it **combines** the data back into a new (pandas) object (i.e. series or dataframe)"
   ]
  },
  {
   "cell_type": "markdown",
   "id": "b89a9680",
   "metadata": {},
   "source": [
    "Conceptually, this is what .groupby() does (similarly later: .resample())"
   ]
  },
  {
   "cell_type": "code",
   "execution_count": 21,
   "id": "93c4d7a9",
   "metadata": {},
   "outputs": [
    {
     "data": {
      "text/plain": [
       "<pandas.core.groupby.generic.DataFrameGroupBy object at 0x7fa3e742cdc0>"
      ]
     },
     "execution_count": 21,
     "metadata": {},
     "output_type": "execute_result"
    }
   ],
   "source": [
    "g = df.groupby(\"continent\") # not done in practice, but it is important to understand that it's an object type of its own\n",
    "g"
   ]
  },
  {
   "cell_type": "code",
   "execution_count": 22,
   "id": "5f9d056c",
   "metadata": {},
   "outputs": [
    {
     "name": "stdout",
     "output_type": "stream",
     "text": [
      "Africa\n",
      "   country  population  fertility continent\n",
      "7  Nigeria      182201       5.89    Africa\n",
      "\n",
      "\n",
      "Asia\n",
      "       country  population  fertility continent\n",
      "0   Bangladesh      160995       2.12      Asia\n",
      "2        China     1376048       1.57      Asia\n",
      "3        India     1311050       2.43      Asia\n",
      "4    Indonesia      257563       2.28      Asia\n",
      "5        Japan      126573       1.45      Asia\n",
      "8     Pakistan      188924       3.04      Asia\n",
      "9  Philippines      100699       2.98      Asia\n",
      "\n",
      "\n",
      "Europe\n",
      "   country  population  fertility continent\n",
      "10  Russia      143456       1.61    Europe\n",
      "\n",
      "\n",
      "North America\n",
      "          country  population  fertility      continent\n",
      "6          Mexico      127017       2.13  North America\n",
      "11  United States      321773       1.97  North America\n",
      "\n",
      "\n",
      "South America\n",
      "  country  population  fertility      continent\n",
      "1  Brazil      207847       1.78  South America\n",
      "\n",
      "\n"
     ]
    }
   ],
   "source": [
    "for index, elements in g: # \"inspecting under the hood\": sub dataframes are being created for you, based on the index you define \n",
    "    print(index)\n",
    "    print(elements)\n",
    "    print(\"\\n\")"
   ]
  },
  {
   "cell_type": "code",
   "execution_count": 23,
   "id": "e88a7bfe",
   "metadata": {},
   "outputs": [
    {
     "data": {
      "text/html": [
       "<div>\n",
       "<style scoped>\n",
       "    .dataframe tbody tr th:only-of-type {\n",
       "        vertical-align: middle;\n",
       "    }\n",
       "\n",
       "    .dataframe tbody tr th {\n",
       "        vertical-align: top;\n",
       "    }\n",
       "\n",
       "    .dataframe thead th {\n",
       "        text-align: right;\n",
       "    }\n",
       "</style>\n",
       "<table border=\"1\" class=\"dataframe\">\n",
       "  <thead>\n",
       "    <tr style=\"text-align: right;\">\n",
       "      <th></th>\n",
       "      <th>country</th>\n",
       "      <th>population</th>\n",
       "      <th>fertility</th>\n",
       "      <th>continent</th>\n",
       "    </tr>\n",
       "  </thead>\n",
       "  <tbody>\n",
       "    <tr>\n",
       "      <th>0</th>\n",
       "      <td>Bangladesh</td>\n",
       "      <td>160995</td>\n",
       "      <td>2.12</td>\n",
       "      <td>Asia</td>\n",
       "    </tr>\n",
       "    <tr>\n",
       "      <th>2</th>\n",
       "      <td>China</td>\n",
       "      <td>1376048</td>\n",
       "      <td>1.57</td>\n",
       "      <td>Asia</td>\n",
       "    </tr>\n",
       "    <tr>\n",
       "      <th>3</th>\n",
       "      <td>India</td>\n",
       "      <td>1311050</td>\n",
       "      <td>2.43</td>\n",
       "      <td>Asia</td>\n",
       "    </tr>\n",
       "    <tr>\n",
       "      <th>4</th>\n",
       "      <td>Indonesia</td>\n",
       "      <td>257563</td>\n",
       "      <td>2.28</td>\n",
       "      <td>Asia</td>\n",
       "    </tr>\n",
       "    <tr>\n",
       "      <th>5</th>\n",
       "      <td>Japan</td>\n",
       "      <td>126573</td>\n",
       "      <td>1.45</td>\n",
       "      <td>Asia</td>\n",
       "    </tr>\n",
       "    <tr>\n",
       "      <th>8</th>\n",
       "      <td>Pakistan</td>\n",
       "      <td>188924</td>\n",
       "      <td>3.04</td>\n",
       "      <td>Asia</td>\n",
       "    </tr>\n",
       "    <tr>\n",
       "      <th>9</th>\n",
       "      <td>Philippines</td>\n",
       "      <td>100699</td>\n",
       "      <td>2.98</td>\n",
       "      <td>Asia</td>\n",
       "    </tr>\n",
       "  </tbody>\n",
       "</table>\n",
       "</div>"
      ],
      "text/plain": [
       "       country  population  fertility continent\n",
       "0   Bangladesh      160995       2.12      Asia\n",
       "2        China     1376048       1.57      Asia\n",
       "3        India     1311050       2.43      Asia\n",
       "4    Indonesia      257563       2.28      Asia\n",
       "5        Japan      126573       1.45      Asia\n",
       "8     Pakistan      188924       3.04      Asia\n",
       "9  Philippines      100699       2.98      Asia"
      ]
     },
     "execution_count": 23,
     "metadata": {},
     "output_type": "execute_result"
    }
   ],
   "source": [
    "g.get_group(\"Asia\") # just in case you really want to access a \"sub DataFrame\" "
   ]
  },
  {
   "cell_type": "code",
   "execution_count": 24,
   "id": "e721befe",
   "metadata": {},
   "outputs": [
    {
     "data": {
      "text/plain": [
       "<pandas.core.groupby.generic.DataFrameGroupBy object at 0x7fa3e7451820>"
      ]
     },
     "execution_count": 24,
     "metadata": {},
     "output_type": "execute_result"
    }
   ],
   "source": [
    "g1 = df.groupby([\"continent\", \"country\"])\n",
    "g1"
   ]
  },
  {
   "cell_type": "code",
   "execution_count": 25,
   "id": "a212b48d",
   "metadata": {},
   "outputs": [
    {
     "data": {
      "text/html": [
       "<div>\n",
       "<style scoped>\n",
       "    .dataframe tbody tr th:only-of-type {\n",
       "        vertical-align: middle;\n",
       "    }\n",
       "\n",
       "    .dataframe tbody tr th {\n",
       "        vertical-align: top;\n",
       "    }\n",
       "\n",
       "    .dataframe thead th {\n",
       "        text-align: right;\n",
       "    }\n",
       "</style>\n",
       "<table border=\"1\" class=\"dataframe\">\n",
       "  <thead>\n",
       "    <tr style=\"text-align: right;\">\n",
       "      <th></th>\n",
       "      <th>country</th>\n",
       "      <th>population</th>\n",
       "      <th>fertility</th>\n",
       "      <th>continent</th>\n",
       "    </tr>\n",
       "  </thead>\n",
       "  <tbody>\n",
       "    <tr>\n",
       "      <th>0</th>\n",
       "      <td>Bangladesh</td>\n",
       "      <td>160995</td>\n",
       "      <td>2.12</td>\n",
       "      <td>Asia</td>\n",
       "    </tr>\n",
       "  </tbody>\n",
       "</table>\n",
       "</div>"
      ],
      "text/plain": [
       "      country  population  fertility continent\n",
       "0  Bangladesh      160995       2.12      Asia"
      ]
     },
     "execution_count": 25,
     "metadata": {},
     "output_type": "execute_result"
    }
   ],
   "source": [
    "g1.get_group((\"Asia\",\"Bangladesh\"))"
   ]
  },
  {
   "cell_type": "code",
   "execution_count": 26,
   "id": "dfce4993",
   "metadata": {},
   "outputs": [
    {
     "name": "stdout",
     "output_type": "stream",
     "text": [
      "('Africa', 'Nigeria')\n",
      "   country  population  fertility continent\n",
      "7  Nigeria      182201       5.89    Africa\n",
      "\n",
      "\n",
      "('Asia', 'Bangladesh')\n",
      "      country  population  fertility continent\n",
      "0  Bangladesh      160995       2.12      Asia\n",
      "\n",
      "\n",
      "('Asia', 'China')\n",
      "  country  population  fertility continent\n",
      "2   China     1376048       1.57      Asia\n",
      "\n",
      "\n",
      "('Asia', 'India')\n",
      "  country  population  fertility continent\n",
      "3   India     1311050       2.43      Asia\n",
      "\n",
      "\n",
      "('Asia', 'Indonesia')\n",
      "     country  population  fertility continent\n",
      "4  Indonesia      257563       2.28      Asia\n",
      "\n",
      "\n",
      "('Asia', 'Japan')\n",
      "  country  population  fertility continent\n",
      "5   Japan      126573       1.45      Asia\n",
      "\n",
      "\n",
      "('Asia', 'Pakistan')\n",
      "    country  population  fertility continent\n",
      "8  Pakistan      188924       3.04      Asia\n",
      "\n",
      "\n",
      "('Asia', 'Philippines')\n",
      "       country  population  fertility continent\n",
      "9  Philippines      100699       2.98      Asia\n",
      "\n",
      "\n",
      "('Europe', 'Russia')\n",
      "   country  population  fertility continent\n",
      "10  Russia      143456       1.61    Europe\n",
      "\n",
      "\n",
      "('North America', 'Mexico')\n",
      "  country  population  fertility      continent\n",
      "6  Mexico      127017       2.13  North America\n",
      "\n",
      "\n",
      "('North America', 'United States')\n",
      "          country  population  fertility      continent\n",
      "11  United States      321773       1.97  North America\n",
      "\n",
      "\n",
      "('South America', 'Brazil')\n",
      "  country  population  fertility      continent\n",
      "1  Brazil      207847       1.78  South America\n",
      "\n",
      "\n"
     ]
    }
   ],
   "source": [
    "for index, elements in g1:\n",
    "    print(index)\n",
    "    print(elements)\n",
    "    print(\"\\n\")"
   ]
  },
  {
   "cell_type": "markdown",
   "id": "183f04fb",
   "metadata": {},
   "source": [
    "After grouping, we can now \"mix\" between aggregations and transformations, combining\n",
    "- indeces we want to specify (i.e. param you are passing in .groupby())\n",
    "- columns we want to apply some kind of aggregation function to\n",
    "- using different aggregation methods (including usage of customized functions)."
   ]
  },
  {
   "cell_type": "code",
   "execution_count": 27,
   "id": "f9741dde",
   "metadata": {},
   "outputs": [
    {
     "data": {
      "text/html": [
       "<div>\n",
       "<style scoped>\n",
       "    .dataframe tbody tr th:only-of-type {\n",
       "        vertical-align: middle;\n",
       "    }\n",
       "\n",
       "    .dataframe tbody tr th {\n",
       "        vertical-align: top;\n",
       "    }\n",
       "\n",
       "    .dataframe thead th {\n",
       "        text-align: right;\n",
       "    }\n",
       "</style>\n",
       "<table border=\"1\" class=\"dataframe\">\n",
       "  <thead>\n",
       "    <tr style=\"text-align: right;\">\n",
       "      <th></th>\n",
       "      <th>population</th>\n",
       "      <th>fertility</th>\n",
       "    </tr>\n",
       "    <tr>\n",
       "      <th>continent</th>\n",
       "      <th></th>\n",
       "      <th></th>\n",
       "    </tr>\n",
       "  </thead>\n",
       "  <tbody>\n",
       "    <tr>\n",
       "      <th>Africa</th>\n",
       "      <td>182201.000000</td>\n",
       "      <td>5.890000</td>\n",
       "    </tr>\n",
       "    <tr>\n",
       "      <th>Asia</th>\n",
       "      <td>503121.714286</td>\n",
       "      <td>2.267143</td>\n",
       "    </tr>\n",
       "    <tr>\n",
       "      <th>Europe</th>\n",
       "      <td>143456.000000</td>\n",
       "      <td>1.610000</td>\n",
       "    </tr>\n",
       "    <tr>\n",
       "      <th>North America</th>\n",
       "      <td>224395.000000</td>\n",
       "      <td>2.050000</td>\n",
       "    </tr>\n",
       "    <tr>\n",
       "      <th>South America</th>\n",
       "      <td>207847.000000</td>\n",
       "      <td>1.780000</td>\n",
       "    </tr>\n",
       "  </tbody>\n",
       "</table>\n",
       "</div>"
      ],
      "text/plain": [
       "                  population  fertility\n",
       "continent                              \n",
       "Africa         182201.000000   5.890000\n",
       "Asia           503121.714286   2.267143\n",
       "Europe         143456.000000   1.610000\n",
       "North America  224395.000000   2.050000\n",
       "South America  207847.000000   1.780000"
      ]
     },
     "execution_count": 27,
     "metadata": {},
     "output_type": "execute_result"
    }
   ],
   "source": [
    "g2 = df.groupby(\"continent\")[\"population\", \"fertility\"].mean()\n",
    "g2"
   ]
  },
  {
   "cell_type": "code",
   "execution_count": 28,
   "id": "7448beac",
   "metadata": {},
   "outputs": [
    {
     "data": {
      "text/html": [
       "<div>\n",
       "<style scoped>\n",
       "    .dataframe tbody tr th:only-of-type {\n",
       "        vertical-align: middle;\n",
       "    }\n",
       "\n",
       "    .dataframe tbody tr th {\n",
       "        vertical-align: top;\n",
       "    }\n",
       "\n",
       "    .dataframe thead th {\n",
       "        text-align: right;\n",
       "    }\n",
       "</style>\n",
       "<table border=\"1\" class=\"dataframe\">\n",
       "  <thead>\n",
       "    <tr style=\"text-align: right;\">\n",
       "      <th></th>\n",
       "      <th></th>\n",
       "      <th>population</th>\n",
       "      <th>fertility</th>\n",
       "    </tr>\n",
       "    <tr>\n",
       "      <th>continent</th>\n",
       "      <th>country</th>\n",
       "      <th></th>\n",
       "      <th></th>\n",
       "    </tr>\n",
       "  </thead>\n",
       "  <tbody>\n",
       "    <tr>\n",
       "      <th>Africa</th>\n",
       "      <th>Nigeria</th>\n",
       "      <td>182201</td>\n",
       "      <td>5.89</td>\n",
       "    </tr>\n",
       "    <tr>\n",
       "      <th rowspan=\"7\" valign=\"top\">Asia</th>\n",
       "      <th>Bangladesh</th>\n",
       "      <td>160995</td>\n",
       "      <td>2.12</td>\n",
       "    </tr>\n",
       "    <tr>\n",
       "      <th>China</th>\n",
       "      <td>1376048</td>\n",
       "      <td>1.57</td>\n",
       "    </tr>\n",
       "    <tr>\n",
       "      <th>India</th>\n",
       "      <td>1311050</td>\n",
       "      <td>2.43</td>\n",
       "    </tr>\n",
       "    <tr>\n",
       "      <th>Indonesia</th>\n",
       "      <td>257563</td>\n",
       "      <td>2.28</td>\n",
       "    </tr>\n",
       "    <tr>\n",
       "      <th>Japan</th>\n",
       "      <td>126573</td>\n",
       "      <td>1.45</td>\n",
       "    </tr>\n",
       "    <tr>\n",
       "      <th>Pakistan</th>\n",
       "      <td>188924</td>\n",
       "      <td>3.04</td>\n",
       "    </tr>\n",
       "    <tr>\n",
       "      <th>Philippines</th>\n",
       "      <td>100699</td>\n",
       "      <td>2.98</td>\n",
       "    </tr>\n",
       "    <tr>\n",
       "      <th>Europe</th>\n",
       "      <th>Russia</th>\n",
       "      <td>143456</td>\n",
       "      <td>1.61</td>\n",
       "    </tr>\n",
       "    <tr>\n",
       "      <th rowspan=\"2\" valign=\"top\">North America</th>\n",
       "      <th>Mexico</th>\n",
       "      <td>127017</td>\n",
       "      <td>2.13</td>\n",
       "    </tr>\n",
       "    <tr>\n",
       "      <th>United States</th>\n",
       "      <td>321773</td>\n",
       "      <td>1.97</td>\n",
       "    </tr>\n",
       "    <tr>\n",
       "      <th>South America</th>\n",
       "      <th>Brazil</th>\n",
       "      <td>207847</td>\n",
       "      <td>1.78</td>\n",
       "    </tr>\n",
       "  </tbody>\n",
       "</table>\n",
       "</div>"
      ],
      "text/plain": [
       "                             population  fertility\n",
       "continent     country                             \n",
       "Africa        Nigeria            182201       5.89\n",
       "Asia          Bangladesh         160995       2.12\n",
       "              China             1376048       1.57\n",
       "              India             1311050       2.43\n",
       "              Indonesia          257563       2.28\n",
       "              Japan              126573       1.45\n",
       "              Pakistan           188924       3.04\n",
       "              Philippines        100699       2.98\n",
       "Europe        Russia             143456       1.61\n",
       "North America Mexico             127017       2.13\n",
       "              United States      321773       1.97\n",
       "South America Brazil             207847       1.78"
      ]
     },
     "execution_count": 28,
     "metadata": {},
     "output_type": "execute_result"
    }
   ],
   "source": [
    "g3 = df.groupby([\"continent\", \"country\"])[\"population\", \"fertility\"].mean()\n",
    "g3"
   ]
  },
  {
   "cell_type": "code",
   "execution_count": 29,
   "id": "bfd02885",
   "metadata": {},
   "outputs": [
    {
     "data": {
      "text/html": [
       "<div>\n",
       "<style scoped>\n",
       "    .dataframe tbody tr th:only-of-type {\n",
       "        vertical-align: middle;\n",
       "    }\n",
       "\n",
       "    .dataframe tbody tr th {\n",
       "        vertical-align: top;\n",
       "    }\n",
       "\n",
       "    .dataframe thead th {\n",
       "        text-align: right;\n",
       "    }\n",
       "</style>\n",
       "<table border=\"1\" class=\"dataframe\">\n",
       "  <thead>\n",
       "    <tr style=\"text-align: right;\">\n",
       "      <th></th>\n",
       "      <th>population</th>\n",
       "      <th>fertility</th>\n",
       "    </tr>\n",
       "    <tr>\n",
       "      <th>continent</th>\n",
       "      <th></th>\n",
       "      <th></th>\n",
       "    </tr>\n",
       "  </thead>\n",
       "  <tbody>\n",
       "    <tr>\n",
       "      <th>Africa</th>\n",
       "      <td>182201.000000</td>\n",
       "      <td>11.78</td>\n",
       "    </tr>\n",
       "    <tr>\n",
       "      <th>Asia</th>\n",
       "      <td>503121.714286</td>\n",
       "      <td>[4.24, 3.14, 4.86, 4.56, 2.9, 6.08, 5.96]</td>\n",
       "    </tr>\n",
       "    <tr>\n",
       "      <th>Europe</th>\n",
       "      <td>143456.000000</td>\n",
       "      <td>3.22</td>\n",
       "    </tr>\n",
       "    <tr>\n",
       "      <th>North America</th>\n",
       "      <td>224395.000000</td>\n",
       "      <td>[4.26, 3.94]</td>\n",
       "    </tr>\n",
       "    <tr>\n",
       "      <th>South America</th>\n",
       "      <td>207847.000000</td>\n",
       "      <td>3.56</td>\n",
       "    </tr>\n",
       "  </tbody>\n",
       "</table>\n",
       "</div>"
      ],
      "text/plain": [
       "                  population                                  fertility\n",
       "continent                                                              \n",
       "Africa         182201.000000                                      11.78\n",
       "Asia           503121.714286  [4.24, 3.14, 4.86, 4.56, 2.9, 6.08, 5.96]\n",
       "Europe         143456.000000                                       3.22\n",
       "North America  224395.000000                               [4.26, 3.94]\n",
       "South America  207847.000000                                       3.56"
      ]
     },
     "execution_count": 29,
     "metadata": {},
     "output_type": "execute_result"
    }
   ],
   "source": [
    "g.agg(\n",
    "    {\n",
    "        \"population\":\"mean\",\n",
    "        \"fertility\":double\n",
    "    }\n",
    ")    "
   ]
  },
  {
   "cell_type": "code",
   "execution_count": 30,
   "id": "fd134d34",
   "metadata": {},
   "outputs": [
    {
     "data": {
      "text/html": [
       "<div>\n",
       "<style scoped>\n",
       "    .dataframe tbody tr th:only-of-type {\n",
       "        vertical-align: middle;\n",
       "    }\n",
       "\n",
       "    .dataframe tbody tr th {\n",
       "        vertical-align: top;\n",
       "    }\n",
       "\n",
       "    .dataframe thead th {\n",
       "        text-align: right;\n",
       "    }\n",
       "</style>\n",
       "<table border=\"1\" class=\"dataframe\">\n",
       "  <thead>\n",
       "    <tr style=\"text-align: right;\">\n",
       "      <th></th>\n",
       "      <th></th>\n",
       "      <th>min</th>\n",
       "      <th>median</th>\n",
       "      <th>double</th>\n",
       "    </tr>\n",
       "    <tr>\n",
       "      <th>continent</th>\n",
       "      <th>country</th>\n",
       "      <th></th>\n",
       "      <th></th>\n",
       "      <th></th>\n",
       "    </tr>\n",
       "  </thead>\n",
       "  <tbody>\n",
       "    <tr>\n",
       "      <th>Africa</th>\n",
       "      <th>Nigeria</th>\n",
       "      <td>182201</td>\n",
       "      <td>182201</td>\n",
       "      <td>364402</td>\n",
       "    </tr>\n",
       "    <tr>\n",
       "      <th rowspan=\"7\" valign=\"top\">Asia</th>\n",
       "      <th>Bangladesh</th>\n",
       "      <td>160995</td>\n",
       "      <td>160995</td>\n",
       "      <td>321990</td>\n",
       "    </tr>\n",
       "    <tr>\n",
       "      <th>China</th>\n",
       "      <td>1376048</td>\n",
       "      <td>1376048</td>\n",
       "      <td>2752096</td>\n",
       "    </tr>\n",
       "    <tr>\n",
       "      <th>India</th>\n",
       "      <td>1311050</td>\n",
       "      <td>1311050</td>\n",
       "      <td>2622100</td>\n",
       "    </tr>\n",
       "    <tr>\n",
       "      <th>Indonesia</th>\n",
       "      <td>257563</td>\n",
       "      <td>257563</td>\n",
       "      <td>515126</td>\n",
       "    </tr>\n",
       "    <tr>\n",
       "      <th>Japan</th>\n",
       "      <td>126573</td>\n",
       "      <td>126573</td>\n",
       "      <td>253146</td>\n",
       "    </tr>\n",
       "    <tr>\n",
       "      <th>Pakistan</th>\n",
       "      <td>188924</td>\n",
       "      <td>188924</td>\n",
       "      <td>377848</td>\n",
       "    </tr>\n",
       "    <tr>\n",
       "      <th>Philippines</th>\n",
       "      <td>100699</td>\n",
       "      <td>100699</td>\n",
       "      <td>201398</td>\n",
       "    </tr>\n",
       "    <tr>\n",
       "      <th>Europe</th>\n",
       "      <th>Russia</th>\n",
       "      <td>143456</td>\n",
       "      <td>143456</td>\n",
       "      <td>286912</td>\n",
       "    </tr>\n",
       "    <tr>\n",
       "      <th rowspan=\"2\" valign=\"top\">North America</th>\n",
       "      <th>Mexico</th>\n",
       "      <td>127017</td>\n",
       "      <td>127017</td>\n",
       "      <td>254034</td>\n",
       "    </tr>\n",
       "    <tr>\n",
       "      <th>United States</th>\n",
       "      <td>321773</td>\n",
       "      <td>321773</td>\n",
       "      <td>643546</td>\n",
       "    </tr>\n",
       "    <tr>\n",
       "      <th>South America</th>\n",
       "      <th>Brazil</th>\n",
       "      <td>207847</td>\n",
       "      <td>207847</td>\n",
       "      <td>415694</td>\n",
       "    </tr>\n",
       "  </tbody>\n",
       "</table>\n",
       "</div>"
      ],
      "text/plain": [
       "                                 min   median   double\n",
       "continent     country                                 \n",
       "Africa        Nigeria         182201   182201   364402\n",
       "Asia          Bangladesh      160995   160995   321990\n",
       "              China          1376048  1376048  2752096\n",
       "              India          1311050  1311050  2622100\n",
       "              Indonesia       257563   257563   515126\n",
       "              Japan           126573   126573   253146\n",
       "              Pakistan        188924   188924   377848\n",
       "              Philippines     100699   100699   201398\n",
       "Europe        Russia          143456   143456   286912\n",
       "North America Mexico          127017   127017   254034\n",
       "              United States   321773   321773   643546\n",
       "South America Brazil          207847   207847   415694"
      ]
     },
     "execution_count": 30,
     "metadata": {},
     "output_type": "execute_result"
    }
   ],
   "source": [
    "g4 = df.groupby([\"continent\", \"country\"])[\"population\"].agg([\"min\", \"median\", double])\n",
    "g4"
   ]
  },
  {
   "cell_type": "code",
   "execution_count": 32,
   "id": "c17e9c48",
   "metadata": {},
   "outputs": [],
   "source": [
    "g5 = df.groupby([\"continent\", \"country\"])"
   ]
  },
  {
   "cell_type": "code",
   "execution_count": 33,
   "id": "bec8accc",
   "metadata": {},
   "outputs": [
    {
     "data": {
      "text/html": [
       "<div>\n",
       "<style scoped>\n",
       "    .dataframe tbody tr th:only-of-type {\n",
       "        vertical-align: middle;\n",
       "    }\n",
       "\n",
       "    .dataframe tbody tr th {\n",
       "        vertical-align: top;\n",
       "    }\n",
       "\n",
       "    .dataframe thead th {\n",
       "        text-align: right;\n",
       "    }\n",
       "</style>\n",
       "<table border=\"1\" class=\"dataframe\">\n",
       "  <thead>\n",
       "    <tr style=\"text-align: right;\">\n",
       "      <th></th>\n",
       "      <th>population</th>\n",
       "      <th>fertility</th>\n",
       "    </tr>\n",
       "  </thead>\n",
       "  <tbody>\n",
       "    <tr>\n",
       "      <th>0</th>\n",
       "      <td>321990</td>\n",
       "      <td>4.24</td>\n",
       "    </tr>\n",
       "    <tr>\n",
       "      <th>1</th>\n",
       "      <td>415694</td>\n",
       "      <td>3.56</td>\n",
       "    </tr>\n",
       "    <tr>\n",
       "      <th>2</th>\n",
       "      <td>2752096</td>\n",
       "      <td>3.14</td>\n",
       "    </tr>\n",
       "    <tr>\n",
       "      <th>3</th>\n",
       "      <td>2622100</td>\n",
       "      <td>4.86</td>\n",
       "    </tr>\n",
       "    <tr>\n",
       "      <th>4</th>\n",
       "      <td>515126</td>\n",
       "      <td>4.56</td>\n",
       "    </tr>\n",
       "    <tr>\n",
       "      <th>5</th>\n",
       "      <td>253146</td>\n",
       "      <td>2.90</td>\n",
       "    </tr>\n",
       "    <tr>\n",
       "      <th>6</th>\n",
       "      <td>254034</td>\n",
       "      <td>4.26</td>\n",
       "    </tr>\n",
       "    <tr>\n",
       "      <th>7</th>\n",
       "      <td>364402</td>\n",
       "      <td>11.78</td>\n",
       "    </tr>\n",
       "    <tr>\n",
       "      <th>8</th>\n",
       "      <td>377848</td>\n",
       "      <td>6.08</td>\n",
       "    </tr>\n",
       "    <tr>\n",
       "      <th>9</th>\n",
       "      <td>201398</td>\n",
       "      <td>5.96</td>\n",
       "    </tr>\n",
       "    <tr>\n",
       "      <th>10</th>\n",
       "      <td>286912</td>\n",
       "      <td>3.22</td>\n",
       "    </tr>\n",
       "    <tr>\n",
       "      <th>11</th>\n",
       "      <td>643546</td>\n",
       "      <td>3.94</td>\n",
       "    </tr>\n",
       "  </tbody>\n",
       "</table>\n",
       "</div>"
      ],
      "text/plain": [
       "    population  fertility\n",
       "0       321990       4.24\n",
       "1       415694       3.56\n",
       "2      2752096       3.14\n",
       "3      2622100       4.86\n",
       "4       515126       4.56\n",
       "5       253146       2.90\n",
       "6       254034       4.26\n",
       "7       364402      11.78\n",
       "8       377848       6.08\n",
       "9       201398       5.96\n",
       "10      286912       3.22\n",
       "11      643546       3.94"
      ]
     },
     "execution_count": 33,
     "metadata": {},
     "output_type": "execute_result"
    }
   ],
   "source": [
    "g5.transform(double)"
   ]
  },
  {
   "cell_type": "code",
   "execution_count": 34,
   "id": "5c8cb08b",
   "metadata": {},
   "outputs": [
    {
     "data": {
      "text/html": [
       "<div>\n",
       "<style scoped>\n",
       "    .dataframe tbody tr th:only-of-type {\n",
       "        vertical-align: middle;\n",
       "    }\n",
       "\n",
       "    .dataframe tbody tr th {\n",
       "        vertical-align: top;\n",
       "    }\n",
       "\n",
       "    .dataframe thead th {\n",
       "        text-align: right;\n",
       "    }\n",
       "</style>\n",
       "<table border=\"1\" class=\"dataframe\">\n",
       "  <thead>\n",
       "    <tr style=\"text-align: right;\">\n",
       "      <th></th>\n",
       "      <th>country</th>\n",
       "      <th>population</th>\n",
       "      <th>fertility</th>\n",
       "      <th>continent</th>\n",
       "    </tr>\n",
       "  </thead>\n",
       "  <tbody>\n",
       "    <tr>\n",
       "      <th>0</th>\n",
       "      <td>BangladeshBangladesh</td>\n",
       "      <td>321990</td>\n",
       "      <td>4.24</td>\n",
       "      <td>AsiaAsia</td>\n",
       "    </tr>\n",
       "    <tr>\n",
       "      <th>1</th>\n",
       "      <td>BrazilBrazil</td>\n",
       "      <td>415694</td>\n",
       "      <td>3.56</td>\n",
       "      <td>South AmericaSouth America</td>\n",
       "    </tr>\n",
       "    <tr>\n",
       "      <th>2</th>\n",
       "      <td>ChinaChina</td>\n",
       "      <td>2752096</td>\n",
       "      <td>3.14</td>\n",
       "      <td>AsiaAsia</td>\n",
       "    </tr>\n",
       "    <tr>\n",
       "      <th>3</th>\n",
       "      <td>IndiaIndia</td>\n",
       "      <td>2622100</td>\n",
       "      <td>4.86</td>\n",
       "      <td>AsiaAsia</td>\n",
       "    </tr>\n",
       "    <tr>\n",
       "      <th>4</th>\n",
       "      <td>IndonesiaIndonesia</td>\n",
       "      <td>515126</td>\n",
       "      <td>4.56</td>\n",
       "      <td>AsiaAsia</td>\n",
       "    </tr>\n",
       "    <tr>\n",
       "      <th>5</th>\n",
       "      <td>JapanJapan</td>\n",
       "      <td>253146</td>\n",
       "      <td>2.90</td>\n",
       "      <td>AsiaAsia</td>\n",
       "    </tr>\n",
       "    <tr>\n",
       "      <th>6</th>\n",
       "      <td>MexicoMexico</td>\n",
       "      <td>254034</td>\n",
       "      <td>4.26</td>\n",
       "      <td>North AmericaNorth America</td>\n",
       "    </tr>\n",
       "    <tr>\n",
       "      <th>7</th>\n",
       "      <td>NigeriaNigeria</td>\n",
       "      <td>364402</td>\n",
       "      <td>11.78</td>\n",
       "      <td>AfricaAfrica</td>\n",
       "    </tr>\n",
       "    <tr>\n",
       "      <th>8</th>\n",
       "      <td>PakistanPakistan</td>\n",
       "      <td>377848</td>\n",
       "      <td>6.08</td>\n",
       "      <td>AsiaAsia</td>\n",
       "    </tr>\n",
       "    <tr>\n",
       "      <th>9</th>\n",
       "      <td>PhilippinesPhilippines</td>\n",
       "      <td>201398</td>\n",
       "      <td>5.96</td>\n",
       "      <td>AsiaAsia</td>\n",
       "    </tr>\n",
       "    <tr>\n",
       "      <th>10</th>\n",
       "      <td>RussiaRussia</td>\n",
       "      <td>286912</td>\n",
       "      <td>3.22</td>\n",
       "      <td>EuropeEurope</td>\n",
       "    </tr>\n",
       "    <tr>\n",
       "      <th>11</th>\n",
       "      <td>United StatesUnited States</td>\n",
       "      <td>643546</td>\n",
       "      <td>3.94</td>\n",
       "      <td>North AmericaNorth America</td>\n",
       "    </tr>\n",
       "  </tbody>\n",
       "</table>\n",
       "</div>"
      ],
      "text/plain": [
       "                       country  population  fertility  \\\n",
       "0         BangladeshBangladesh      321990       4.24   \n",
       "1                 BrazilBrazil      415694       3.56   \n",
       "2                   ChinaChina     2752096       3.14   \n",
       "3                   IndiaIndia     2622100       4.86   \n",
       "4           IndonesiaIndonesia      515126       4.56   \n",
       "5                   JapanJapan      253146       2.90   \n",
       "6                 MexicoMexico      254034       4.26   \n",
       "7               NigeriaNigeria      364402      11.78   \n",
       "8             PakistanPakistan      377848       6.08   \n",
       "9       PhilippinesPhilippines      201398       5.96   \n",
       "10                RussiaRussia      286912       3.22   \n",
       "11  United StatesUnited States      643546       3.94   \n",
       "\n",
       "                     continent  \n",
       "0                     AsiaAsia  \n",
       "1   South AmericaSouth America  \n",
       "2                     AsiaAsia  \n",
       "3                     AsiaAsia  \n",
       "4                     AsiaAsia  \n",
       "5                     AsiaAsia  \n",
       "6   North AmericaNorth America  \n",
       "7                 AfricaAfrica  \n",
       "8                     AsiaAsia  \n",
       "9                     AsiaAsia  \n",
       "10                EuropeEurope  \n",
       "11  North AmericaNorth America  "
      ]
     },
     "execution_count": 34,
     "metadata": {},
     "output_type": "execute_result"
    }
   ],
   "source": [
    "g5.apply(double)"
   ]
  },
  {
   "cell_type": "markdown",
   "id": "93a90e82",
   "metadata": {},
   "source": [
    "Examples of how you can plot using \"one-liners\" in pandas (e.g. for quick EDAs):"
   ]
  },
  {
   "cell_type": "code",
   "execution_count": 35,
   "id": "156be1f5",
   "metadata": {},
   "outputs": [
    {
     "data": {
      "text/plain": [
       "<AxesSubplot:ylabel='continent'>"
      ]
     },
     "execution_count": 35,
     "metadata": {},
     "output_type": "execute_result"
    },
    {
     "data": {
      "image/png": "[encoded data removed]",
      "text/plain": [
       "<Figure size 432x288 with 1 Axes>"
      ]
     },
     "metadata": {
      "needs_background": "light"
     },
     "output_type": "display_data"
    }
   ],
   "source": [
    "g[\"fertility\"].mean().sort_values().plot.barh()"
   ]
  },
  {
   "cell_type": "code",
   "execution_count": 36,
   "id": "a4c45557",
   "metadata": {},
   "outputs": [],
   "source": [
    "g6 = df.groupby([\"continent\",\"country\"])"
   ]
  },
  {
   "cell_type": "code",
   "execution_count": 37,
   "id": "285a2cc8",
   "metadata": {},
   "outputs": [
    {
     "data": {
      "text/plain": [
       "<AxesSubplot:ylabel='continent'>"
      ]
     },
     "execution_count": 37,
     "metadata": {},
     "output_type": "execute_result"
    },
    {
     "data": {
      "image/png": "[encoded data removed]",
      "text/plain": [
       "<Figure size 432x288 with 1 Axes>"
      ]
     },
     "metadata": {
      "needs_background": "light"
     },
     "output_type": "display_data"
    }
   ],
   "source": [
    "g6[\"population\"].mean().unstack().plot.barh(alpha=0.5) # thanks, Alex :) Note: unstacking your groupedby- object is an usual pattern"
   ]
  },
  {
   "cell_type": "code",
   "execution_count": null,
   "id": "5a8fd3aa",
   "metadata": {},
   "outputs": [],
   "source": []
  },
  {
   "cell_type": "markdown",
   "id": "18c01c28",
   "metadata": {},
   "source": [
    "## Comments and questions during the encounter"
   ]
  },
  {
   "cell_type": "markdown",
   "id": "99115086",
   "metadata": {},
   "source": [
    "I will work on this later, and send a final version of the NB once I have it! For the moment, pls have a look at this..."
   ]
  },
  {
   "cell_type": "markdown",
   "id": "90f3f3a3",
   "metadata": {},
   "source": []
  }
 ],
 "metadata": {
  "kernelspec": {
   "display_name": "Python 3",
   "language": "python",
   "name": "python3"
  },
  "language_info": {
   "codemirror_mode": {
    "name": "ipython",
    "version": 3
   },
   "file_extension": ".py",
   "mimetype": "text/x-python",
   "name": "python",
   "nbconvert_exporter": "python",
   "pygments_lexer": "ipython3",
   "version": "3.8.8"
  }
 },
 "nbformat": 4,
 "nbformat_minor": 5
}
