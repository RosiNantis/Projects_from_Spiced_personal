{
 "cells": [
  {
   "cell_type": "markdown",
   "id": "09e903e0",
   "metadata": {},
   "source": [
    "# Aggregation 📚"
   ]
  },
  {
   "cell_type": "markdown",
   "id": "dd48c1a4",
   "metadata": {},
   "source": [
    "### After this encounter we will have covered \n",
    "- how to apply different aggregation methods to your datasets\n",
    "- explanation of what .groupby() does and some options on how apply it to your datasets"
   ]
  },
  {
   "cell_type": "code",
   "execution_count": 1,
   "id": "13cc9de7",
   "metadata": {},
   "outputs": [],
   "source": [
    "import pandas as pd\n",
    "\n",
    "import warnings\n",
    "warnings.filterwarnings(\"ignore\")"
   ]
  },
  {
   "cell_type": "markdown",
   "id": "79c107ff",
   "metadata": {},
   "source": [
    "## 1. Applying aggregation methods: "
   ]
  },
  {
   "cell_type": "code",
   "execution_count": 2,
   "id": "661f4bb8",
   "metadata": {},
   "outputs": [
    {
     "name": "stdout",
     "output_type": "stream",
     "text": [
      "<class 'pandas.core.frame.DataFrame'>\n",
      "RangeIndex: 12 entries, 0 to 11\n",
      "Data columns (total 4 columns):\n",
      " #   Column      Non-Null Count  Dtype  \n",
      "---  ------      --------------  -----  \n",
      " 0   country     12 non-null     object \n",
      " 1   population  12 non-null     float64\n",
      " 2   fertility   12 non-null     float64\n",
      " 3   continent   12 non-null     object \n",
      "dtypes: float64(2), object(2)\n",
      "memory usage: 512.0+ bytes\n"
     ]
    }
   ],
   "source": [
    "df = pd.read_csv(\"large_countries_2015.csv\", sep = \",\")\n",
    "df.info()"
   ]
  },
  {
   "cell_type": "code",
   "execution_count": 3,
   "id": "f694d173",
   "metadata": {},
   "outputs": [],
   "source": [
    "df[\"population\"] = (df[\"population\"]/1000).astype(int)"
   ]
  },
  {
   "cell_type": "code",
   "execution_count": 4,
   "id": "eb676bdf",
   "metadata": {},
   "outputs": [
    {
     "data": {
      "text/html": [
       "<div>\n",
       "<style scoped>\n",
       "    .dataframe tbody tr th:only-of-type {\n",
       "        vertical-align: middle;\n",
       "    }\n",
       "\n",
       "    .dataframe tbody tr th {\n",
       "        vertical-align: top;\n",
       "    }\n",
       "\n",
       "    .dataframe thead th {\n",
       "        text-align: right;\n",
       "    }\n",
       "</style>\n",
       "<table border=\"1\" class=\"dataframe\">\n",
       "  <thead>\n",
       "    <tr style=\"text-align: right;\">\n",
       "      <th></th>\n",
       "      <th>country</th>\n",
       "      <th>population</th>\n",
       "      <th>fertility</th>\n",
       "      <th>continent</th>\n",
       "    </tr>\n",
       "  </thead>\n",
       "  <tbody>\n",
       "    <tr>\n",
       "      <th>0</th>\n",
       "      <td>Bangladesh</td>\n",
       "      <td>160995</td>\n",
       "      <td>2.12</td>\n",
       "      <td>Asia</td>\n",
       "    </tr>\n",
       "    <tr>\n",
       "      <th>1</th>\n",
       "      <td>Brazil</td>\n",
       "      <td>207847</td>\n",
       "      <td>1.78</td>\n",
       "      <td>South America</td>\n",
       "    </tr>\n",
       "  </tbody>\n",
       "</table>\n",
       "</div>"
      ],
      "text/plain": [
       "      country  population  fertility      continent\n",
       "0  Bangladesh      160995       2.12           Asia\n",
       "1      Brazil      207847       1.78  South America"
      ]
     },
     "execution_count": 4,
     "metadata": {},
     "output_type": "execute_result"
    }
   ],
   "source": [
    "df.head(2)"
   ]
  },
  {
   "cell_type": "markdown",
   "id": "f213cb72",
   "metadata": {},
   "source": [
    "Let's apply some aggregation methods!\n",
    "Intuition of \"aggregation\": take some rows, apply some kind of \"operation\" on them and return a resumed version of these rows."
   ]
  },
  {
   "cell_type": "code",
   "execution_count": 5,
   "id": "58a6df94",
   "metadata": {},
   "outputs": [
    {
     "data": {
      "text/plain": [
       "country       BangladeshBrazilChinaIndiaIndonesiaJapanMexico...\n",
       "population                                              4504146\n",
       "fertility                                                 29.25\n",
       "continent     AsiaSouth AmericaAsiaAsiaAsiaAsiaNorth America...\n",
       "dtype: object"
      ]
     },
     "execution_count": 5,
     "metadata": {},
     "output_type": "execute_result"
    }
   ],
   "source": [
    "df.sum()"
   ]
  },
  {
   "cell_type": "markdown",
   "id": "8654f184",
   "metadata": {},
   "source": [
    "If we apply .sum() to the complete dataframe, strings will be concatenated. "
   ]
  },
  {
   "cell_type": "code",
   "execution_count": 6,
   "id": "b581ee04",
   "metadata": {},
   "outputs": [
    {
     "data": {
      "text/plain": [
       "4504146"
      ]
     },
     "execution_count": 6,
     "metadata": {},
     "output_type": "execute_result"
    }
   ],
   "source": [
    "df[\"population\"].sum()"
   ]
  },
  {
   "cell_type": "code",
   "execution_count": 7,
   "id": "590edf0c",
   "metadata": {},
   "outputs": [
    {
     "data": {
      "text/plain": [
       "population    4504146.00\n",
       "fertility          29.25\n",
       "dtype: float64"
      ]
     },
     "execution_count": 7,
     "metadata": {},
     "output_type": "execute_result"
    }
   ],
   "source": [
    "df[[\"population\", \"fertility\"]].sum()"
   ]
  },
  {
   "cell_type": "code",
   "execution_count": 8,
   "id": "0b49bda4",
   "metadata": {},
   "outputs": [
    {
     "data": {
      "text/plain": [
       "12"
      ]
     },
     "execution_count": 8,
     "metadata": {},
     "output_type": "execute_result"
    }
   ],
   "source": [
    "df[\"country\"].count()"
   ]
  },
  {
   "cell_type": "code",
   "execution_count": 9,
   "id": "38288a70",
   "metadata": {},
   "outputs": [
    {
     "data": {
      "text/plain": [
       "Indonesia        1\n",
       "United States    1\n",
       "Nigeria          1\n",
       "India            1\n",
       "Pakistan         1\n",
       "Russia           1\n",
       "China            1\n",
       "Philippines      1\n",
       "Mexico           1\n",
       "Brazil           1\n",
       "Bangladesh       1\n",
       "Japan            1\n",
       "Name: country, dtype: int64"
      ]
     },
     "execution_count": 9,
     "metadata": {},
     "output_type": "execute_result"
    }
   ],
   "source": [
    "df[\"country\"].value_counts()"
   ]
  },
  {
   "cell_type": "code",
   "execution_count": 10,
   "id": "55bdfb74",
   "metadata": {},
   "outputs": [
    {
     "data": {
      "text/plain": [
       "array(['Bangladesh', 'Brazil', 'China', 'India', 'Indonesia', 'Japan',\n",
       "       'Mexico', 'Nigeria', 'Pakistan', 'Philippines', 'Russia',\n",
       "       'United States'], dtype=object)"
      ]
     },
     "execution_count": 10,
     "metadata": {},
     "output_type": "execute_result"
    }
   ],
   "source": [
    "df[\"country\"].unique()"
   ]
  },
  {
   "cell_type": "code",
   "execution_count": 11,
   "id": "d0785234",
   "metadata": {},
   "outputs": [
    {
     "data": {
      "text/html": [
       "<div>\n",
       "<style scoped>\n",
       "    .dataframe tbody tr th:only-of-type {\n",
       "        vertical-align: middle;\n",
       "    }\n",
       "\n",
       "    .dataframe tbody tr th {\n",
       "        vertical-align: top;\n",
       "    }\n",
       "\n",
       "    .dataframe thead th {\n",
       "        text-align: right;\n",
       "    }\n",
       "</style>\n",
       "<table border=\"1\" class=\"dataframe\">\n",
       "  <thead>\n",
       "    <tr style=\"text-align: right;\">\n",
       "      <th></th>\n",
       "      <th>population</th>\n",
       "      <th>fertility</th>\n",
       "    </tr>\n",
       "  </thead>\n",
       "  <tbody>\n",
       "    <tr>\n",
       "      <th>count</th>\n",
       "      <td>1.200000e+01</td>\n",
       "      <td>12.000000</td>\n",
       "    </tr>\n",
       "    <tr>\n",
       "      <th>mean</th>\n",
       "      <td>3.753455e+05</td>\n",
       "      <td>2.437500</td>\n",
       "    </tr>\n",
       "    <tr>\n",
       "      <th>std</th>\n",
       "      <td>4.565193e+05</td>\n",
       "      <td>1.200781</td>\n",
       "    </tr>\n",
       "    <tr>\n",
       "      <th>min</th>\n",
       "      <td>1.006990e+05</td>\n",
       "      <td>1.450000</td>\n",
       "    </tr>\n",
       "    <tr>\n",
       "      <th>25%</th>\n",
       "      <td>1.393462e+05</td>\n",
       "      <td>1.737500</td>\n",
       "    </tr>\n",
       "    <tr>\n",
       "      <th>50%</th>\n",
       "      <td>1.855625e+05</td>\n",
       "      <td>2.125000</td>\n",
       "    </tr>\n",
       "    <tr>\n",
       "      <th>75%</th>\n",
       "      <td>2.736155e+05</td>\n",
       "      <td>2.567500</td>\n",
       "    </tr>\n",
       "    <tr>\n",
       "      <th>max</th>\n",
       "      <td>1.376048e+06</td>\n",
       "      <td>5.890000</td>\n",
       "    </tr>\n",
       "  </tbody>\n",
       "</table>\n",
       "</div>"
      ],
      "text/plain": [
       "         population  fertility\n",
       "count  1.200000e+01  12.000000\n",
       "mean   3.753455e+05   2.437500\n",
       "std    4.565193e+05   1.200781\n",
       "min    1.006990e+05   1.450000\n",
       "25%    1.393462e+05   1.737500\n",
       "50%    1.855625e+05   2.125000\n",
       "75%    2.736155e+05   2.567500\n",
       "max    1.376048e+06   5.890000"
      ]
     },
     "execution_count": 11,
     "metadata": {},
     "output_type": "execute_result"
    }
   ],
   "source": [
    "df.describe()"
   ]
  },
  {
   "cell_type": "markdown",
   "id": "79223607",
   "metadata": {},
   "source": [
    ".agg() can be used to aggregate more \"modularly\":"
   ]
  },
  {
   "cell_type": "code",
   "execution_count": 12,
   "id": "5d092fb2",
   "metadata": {},
   "outputs": [
    {
     "data": {
      "text/plain": [
       "population    375345.500\n",
       "fertility          2.125\n",
       "dtype: float64"
      ]
     },
     "execution_count": 12,
     "metadata": {},
     "output_type": "execute_result"
    }
   ],
   "source": [
    "df.agg(\n",
    "    {\"population\":\"mean\",\n",
    "    \"fertility\":\"median\"\n",
    "    }\n",
    ")"
   ]
  },
  {
   "cell_type": "code",
   "execution_count": 13,
   "id": "fce9a7b2",
   "metadata": {},
   "outputs": [
    {
     "data": {
      "text/html": [
       "<div>\n",
       "<style scoped>\n",
       "    .dataframe tbody tr th:only-of-type {\n",
       "        vertical-align: middle;\n",
       "    }\n",
       "\n",
       "    .dataframe tbody tr th {\n",
       "        vertical-align: top;\n",
       "    }\n",
       "\n",
       "    .dataframe thead th {\n",
       "        text-align: right;\n",
       "    }\n",
       "</style>\n",
       "<table border=\"1\" class=\"dataframe\">\n",
       "  <thead>\n",
       "    <tr style=\"text-align: right;\">\n",
       "      <th></th>\n",
       "      <th>population</th>\n",
       "      <th>fertility</th>\n",
       "    </tr>\n",
       "  </thead>\n",
       "  <tbody>\n",
       "    <tr>\n",
       "      <th>median</th>\n",
       "      <td>185562.500000</td>\n",
       "      <td>2.125000</td>\n",
       "    </tr>\n",
       "    <tr>\n",
       "      <th>mean</th>\n",
       "      <td>375345.500000</td>\n",
       "      <td>2.437500</td>\n",
       "    </tr>\n",
       "    <tr>\n",
       "      <th>std</th>\n",
       "      <td>456519.344768</td>\n",
       "      <td>1.200781</td>\n",
       "    </tr>\n",
       "  </tbody>\n",
       "</table>\n",
       "</div>"
      ],
      "text/plain": [
       "           population  fertility\n",
       "median  185562.500000   2.125000\n",
       "mean    375345.500000   2.437500\n",
       "std     456519.344768   1.200781"
      ]
     },
     "execution_count": 13,
     "metadata": {},
     "output_type": "execute_result"
    }
   ],
   "source": [
    "df.agg(\n",
    "    [\"median\",\"mean\",\"std\"]\n",
    ")"
   ]
  },
  {
   "cell_type": "code",
   "execution_count": 23,
   "id": "7fda995f",
   "metadata": {},
   "outputs": [],
   "source": [
    "def double(x):\n",
    "    return 2*x"
   ]
  },
  {
   "cell_type": "code",
   "execution_count": 24,
   "id": "d41d430b",
   "metadata": {},
   "outputs": [
    {
     "data": {
      "text/html": [
       "<div>\n",
       "<style scoped>\n",
       "    .dataframe tbody tr th:only-of-type {\n",
       "        vertical-align: middle;\n",
       "    }\n",
       "\n",
       "    .dataframe tbody tr th {\n",
       "        vertical-align: top;\n",
       "    }\n",
       "\n",
       "    .dataframe thead th {\n",
       "        text-align: right;\n",
       "    }\n",
       "</style>\n",
       "<table border=\"1\" class=\"dataframe\">\n",
       "  <thead>\n",
       "    <tr style=\"text-align: right;\">\n",
       "      <th></th>\n",
       "      <th>population</th>\n",
       "      <th>fertility</th>\n",
       "    </tr>\n",
       "  </thead>\n",
       "  <tbody>\n",
       "    <tr>\n",
       "      <th>0</th>\n",
       "      <td>375345.5</td>\n",
       "      <td>2.12</td>\n",
       "    </tr>\n",
       "    <tr>\n",
       "      <th>1</th>\n",
       "      <td>375345.5</td>\n",
       "      <td>1.78</td>\n",
       "    </tr>\n",
       "    <tr>\n",
       "      <th>2</th>\n",
       "      <td>375345.5</td>\n",
       "      <td>1.57</td>\n",
       "    </tr>\n",
       "    <tr>\n",
       "      <th>3</th>\n",
       "      <td>375345.5</td>\n",
       "      <td>2.43</td>\n",
       "    </tr>\n",
       "    <tr>\n",
       "      <th>4</th>\n",
       "      <td>375345.5</td>\n",
       "      <td>2.28</td>\n",
       "    </tr>\n",
       "    <tr>\n",
       "      <th>5</th>\n",
       "      <td>375345.5</td>\n",
       "      <td>1.45</td>\n",
       "    </tr>\n",
       "    <tr>\n",
       "      <th>6</th>\n",
       "      <td>375345.5</td>\n",
       "      <td>2.13</td>\n",
       "    </tr>\n",
       "    <tr>\n",
       "      <th>7</th>\n",
       "      <td>375345.5</td>\n",
       "      <td>5.89</td>\n",
       "    </tr>\n",
       "    <tr>\n",
       "      <th>8</th>\n",
       "      <td>375345.5</td>\n",
       "      <td>3.04</td>\n",
       "    </tr>\n",
       "    <tr>\n",
       "      <th>9</th>\n",
       "      <td>375345.5</td>\n",
       "      <td>2.98</td>\n",
       "    </tr>\n",
       "    <tr>\n",
       "      <th>10</th>\n",
       "      <td>375345.5</td>\n",
       "      <td>1.61</td>\n",
       "    </tr>\n",
       "    <tr>\n",
       "      <th>11</th>\n",
       "      <td>375345.5</td>\n",
       "      <td>1.97</td>\n",
       "    </tr>\n",
       "  </tbody>\n",
       "</table>\n",
       "</div>"
      ],
      "text/plain": [
       "    population  fertility\n",
       "0     375345.5       2.12\n",
       "1     375345.5       1.78\n",
       "2     375345.5       1.57\n",
       "3     375345.5       2.43\n",
       "4     375345.5       2.28\n",
       "5     375345.5       1.45\n",
       "6     375345.5       2.13\n",
       "7     375345.5       5.89\n",
       "8     375345.5       3.04\n",
       "9     375345.5       2.98\n",
       "10    375345.5       1.61\n",
       "11    375345.5       1.97"
      ]
     },
     "execution_count": 24,
     "metadata": {},
     "output_type": "execute_result"
    }
   ],
   "source": [
    "df.agg(\n",
    "    {\"population\":\"mean\",\n",
    "    \"fertility\":\"double\"\n",
    "    }\n",
    ")"
   ]
  },
  {
   "cell_type": "code",
   "execution_count": 25,
   "id": "d0979cb8",
   "metadata": {},
   "outputs": [
    {
     "data": {
      "text/html": [
       "<div>\n",
       "<style scoped>\n",
       "    .dataframe tbody tr th:only-of-type {\n",
       "        vertical-align: middle;\n",
       "    }\n",
       "\n",
       "    .dataframe tbody tr th {\n",
       "        vertical-align: top;\n",
       "    }\n",
       "\n",
       "    .dataframe thead th {\n",
       "        text-align: right;\n",
       "    }\n",
       "</style>\n",
       "<table border=\"1\" class=\"dataframe\">\n",
       "  <thead>\n",
       "    <tr style=\"text-align: right;\">\n",
       "      <th></th>\n",
       "      <th>population</th>\n",
       "      <th>fertility</th>\n",
       "    </tr>\n",
       "  </thead>\n",
       "  <tbody>\n",
       "    <tr>\n",
       "      <th>median</th>\n",
       "      <td>185562</td>\n",
       "      <td>2.125</td>\n",
       "    </tr>\n",
       "    <tr>\n",
       "      <th>mean</th>\n",
       "      <td>375346</td>\n",
       "      <td>2.4375</td>\n",
       "    </tr>\n",
       "    <tr>\n",
       "      <th>double</th>\n",
       "      <td>[160995.0, 207847.0, 1376048.0, 1311050.0, 257...</td>\n",
       "      <td>[2.12, 1.78, 1.57, 2.43, 2.28, 1.45, 2.13, 5.8...</td>\n",
       "    </tr>\n",
       "  </tbody>\n",
       "</table>\n",
       "</div>"
      ],
      "text/plain": [
       "                                               population  \\\n",
       "median                                             185562   \n",
       "mean                                               375346   \n",
       "double  [160995.0, 207847.0, 1376048.0, 1311050.0, 257...   \n",
       "\n",
       "                                                fertility  \n",
       "median                                              2.125  \n",
       "mean                                               2.4375  \n",
       "double  [2.12, 1.78, 1.57, 2.43, 2.28, 1.45, 2.13, 5.8...  "
      ]
     },
     "execution_count": 25,
     "metadata": {},
     "output_type": "execute_result"
    }
   ],
   "source": [
    "df[[\"population\", \"fertility\"]].agg(\n",
    "    [\"median\",\"mean\",\"double\"]\n",
    ")"
   ]
  },
  {
   "cell_type": "markdown",
   "id": "6d9364a3",
   "metadata": {},
   "source": [
    "## 2. .groupby()"
   ]
  },
  {
   "cell_type": "markdown",
   "id": "3d8234a9",
   "metadata": {},
   "source": [
    "What DOES .groupby() actually do?\n",
    "1. it **splits** the data\n",
    "2. it **applies** some kind of operation ON THE GROUPED data\n",
    "3. it **combines** the data back into a new (pandas) object (i.e. series or dataframe)"
   ]
  },
  {
   "cell_type": "code",
   "execution_count": 32,
   "id": "93c4d7a9",
   "metadata": {},
   "outputs": [],
   "source": [
    "g = df.groupby('continent')"
   ]
  },
  {
   "cell_type": "code",
   "execution_count": 33,
   "id": "fd70f1f1",
   "metadata": {},
   "outputs": [
    {
     "name": "stdout",
     "output_type": "stream",
     "text": [
      "Africa\n",
      "   country  population  fertility continent\n",
      "7  Nigeria      182201       5.89    Africa\n",
      "/n\n",
      "Asia\n",
      "       country  population  fertility continent\n",
      "0   Bangladesh      160995       2.12      Asia\n",
      "2        China     1376048       1.57      Asia\n",
      "3        India     1311050       2.43      Asia\n",
      "4    Indonesia      257563       2.28      Asia\n",
      "5        Japan      126573       1.45      Asia\n",
      "8     Pakistan      188924       3.04      Asia\n",
      "9  Philippines      100699       2.98      Asia\n",
      "/n\n",
      "Europe\n",
      "   country  population  fertility continent\n",
      "10  Russia      143456       1.61    Europe\n",
      "/n\n",
      "North America\n",
      "          country  population  fertility      continent\n",
      "6          Mexico      127017       2.13  North America\n",
      "11  United States      321773       1.97  North America\n",
      "/n\n",
      "South America\n",
      "  country  population  fertility      continent\n",
      "1  Brazil      207847       1.78  South America\n",
      "/n\n"
     ]
    }
   ],
   "source": [
    "for index, elements in g: \n",
    "    print(index)\n",
    "    print(elements)\n",
    "    print('/n')\n",
    "      # i want to open the group by and see inside"
   ]
  },
  {
   "cell_type": "code",
   "execution_count": 34,
   "id": "2d08ed45",
   "metadata": {},
   "outputs": [
    {
     "data": {
      "text/html": [
       "<div>\n",
       "<style scoped>\n",
       "    .dataframe tbody tr th:only-of-type {\n",
       "        vertical-align: middle;\n",
       "    }\n",
       "\n",
       "    .dataframe tbody tr th {\n",
       "        vertical-align: top;\n",
       "    }\n",
       "\n",
       "    .dataframe thead th {\n",
       "        text-align: right;\n",
       "    }\n",
       "</style>\n",
       "<table border=\"1\" class=\"dataframe\">\n",
       "  <thead>\n",
       "    <tr style=\"text-align: right;\">\n",
       "      <th></th>\n",
       "      <th>country</th>\n",
       "      <th>population</th>\n",
       "      <th>fertility</th>\n",
       "      <th>continent</th>\n",
       "    </tr>\n",
       "  </thead>\n",
       "  <tbody>\n",
       "    <tr>\n",
       "      <th>0</th>\n",
       "      <td>Bangladesh</td>\n",
       "      <td>160995</td>\n",
       "      <td>2.12</td>\n",
       "      <td>Asia</td>\n",
       "    </tr>\n",
       "    <tr>\n",
       "      <th>2</th>\n",
       "      <td>China</td>\n",
       "      <td>1376048</td>\n",
       "      <td>1.57</td>\n",
       "      <td>Asia</td>\n",
       "    </tr>\n",
       "    <tr>\n",
       "      <th>3</th>\n",
       "      <td>India</td>\n",
       "      <td>1311050</td>\n",
       "      <td>2.43</td>\n",
       "      <td>Asia</td>\n",
       "    </tr>\n",
       "    <tr>\n",
       "      <th>4</th>\n",
       "      <td>Indonesia</td>\n",
       "      <td>257563</td>\n",
       "      <td>2.28</td>\n",
       "      <td>Asia</td>\n",
       "    </tr>\n",
       "    <tr>\n",
       "      <th>5</th>\n",
       "      <td>Japan</td>\n",
       "      <td>126573</td>\n",
       "      <td>1.45</td>\n",
       "      <td>Asia</td>\n",
       "    </tr>\n",
       "    <tr>\n",
       "      <th>8</th>\n",
       "      <td>Pakistan</td>\n",
       "      <td>188924</td>\n",
       "      <td>3.04</td>\n",
       "      <td>Asia</td>\n",
       "    </tr>\n",
       "    <tr>\n",
       "      <th>9</th>\n",
       "      <td>Philippines</td>\n",
       "      <td>100699</td>\n",
       "      <td>2.98</td>\n",
       "      <td>Asia</td>\n",
       "    </tr>\n",
       "  </tbody>\n",
       "</table>\n",
       "</div>"
      ],
      "text/plain": [
       "       country  population  fertility continent\n",
       "0   Bangladesh      160995       2.12      Asia\n",
       "2        China     1376048       1.57      Asia\n",
       "3        India     1311050       2.43      Asia\n",
       "4    Indonesia      257563       2.28      Asia\n",
       "5        Japan      126573       1.45      Asia\n",
       "8     Pakistan      188924       3.04      Asia\n",
       "9  Philippines      100699       2.98      Asia"
      ]
     },
     "execution_count": 34,
     "metadata": {},
     "output_type": "execute_result"
    }
   ],
   "source": [
    "g.get_group('Asia')"
   ]
  },
  {
   "cell_type": "code",
   "execution_count": 35,
   "id": "d1bbd150",
   "metadata": {},
   "outputs": [
    {
     "data": {
      "text/plain": [
       "continent\n",
       "Africa           182201.000000\n",
       "Asia             503121.714286\n",
       "Europe           143456.000000\n",
       "North America    224395.000000\n",
       "South America    207847.000000\n",
       "Name: population, dtype: float64"
      ]
     },
     "execution_count": 35,
     "metadata": {},
     "output_type": "execute_result"
    }
   ],
   "source": [
    "g2 = df.groupby('continent')['population'].mean()\n",
    "g2"
   ]
  },
  {
   "cell_type": "code",
   "execution_count": 37,
   "id": "0f951ff8",
   "metadata": {},
   "outputs": [
    {
     "data": {
      "text/html": [
       "<div>\n",
       "<style scoped>\n",
       "    .dataframe tbody tr th:only-of-type {\n",
       "        vertical-align: middle;\n",
       "    }\n",
       "\n",
       "    .dataframe tbody tr th {\n",
       "        vertical-align: top;\n",
       "    }\n",
       "\n",
       "    .dataframe thead th {\n",
       "        text-align: right;\n",
       "    }\n",
       "</style>\n",
       "<table border=\"1\" class=\"dataframe\">\n",
       "  <thead>\n",
       "    <tr style=\"text-align: right;\">\n",
       "      <th></th>\n",
       "      <th>population</th>\n",
       "      <th>fertility</th>\n",
       "    </tr>\n",
       "    <tr>\n",
       "      <th>continent</th>\n",
       "      <th></th>\n",
       "      <th></th>\n",
       "    </tr>\n",
       "  </thead>\n",
       "  <tbody>\n",
       "    <tr>\n",
       "      <th>Africa</th>\n",
       "      <td>182201.000000</td>\n",
       "      <td>5.890000</td>\n",
       "    </tr>\n",
       "    <tr>\n",
       "      <th>Asia</th>\n",
       "      <td>503121.714286</td>\n",
       "      <td>2.267143</td>\n",
       "    </tr>\n",
       "    <tr>\n",
       "      <th>Europe</th>\n",
       "      <td>143456.000000</td>\n",
       "      <td>1.610000</td>\n",
       "    </tr>\n",
       "    <tr>\n",
       "      <th>North America</th>\n",
       "      <td>224395.000000</td>\n",
       "      <td>2.050000</td>\n",
       "    </tr>\n",
       "    <tr>\n",
       "      <th>South America</th>\n",
       "      <td>207847.000000</td>\n",
       "      <td>1.780000</td>\n",
       "    </tr>\n",
       "  </tbody>\n",
       "</table>\n",
       "</div>"
      ],
      "text/plain": [
       "                  population  fertility\n",
       "continent                              \n",
       "Africa         182201.000000   5.890000\n",
       "Asia           503121.714286   2.267143\n",
       "Europe         143456.000000   1.610000\n",
       "North America  224395.000000   2.050000\n",
       "South America  207847.000000   1.780000"
      ]
     },
     "execution_count": 37,
     "metadata": {},
     "output_type": "execute_result"
    }
   ],
   "source": [
    "g2 = df.groupby('continent')['population','fertility'].mean()\n",
    "g2"
   ]
  },
  {
   "cell_type": "code",
   "execution_count": 39,
   "id": "f7bb1c3d",
   "metadata": {},
   "outputs": [
    {
     "data": {
      "text/html": [
       "<div>\n",
       "<style scoped>\n",
       "    .dataframe tbody tr th:only-of-type {\n",
       "        vertical-align: middle;\n",
       "    }\n",
       "\n",
       "    .dataframe tbody tr th {\n",
       "        vertical-align: top;\n",
       "    }\n",
       "\n",
       "    .dataframe thead th {\n",
       "        text-align: right;\n",
       "    }\n",
       "</style>\n",
       "<table border=\"1\" class=\"dataframe\">\n",
       "  <thead>\n",
       "    <tr style=\"text-align: right;\">\n",
       "      <th></th>\n",
       "      <th></th>\n",
       "      <th>population</th>\n",
       "      <th>fertility</th>\n",
       "    </tr>\n",
       "    <tr>\n",
       "      <th>continent</th>\n",
       "      <th>country</th>\n",
       "      <th></th>\n",
       "      <th></th>\n",
       "    </tr>\n",
       "  </thead>\n",
       "  <tbody>\n",
       "    <tr>\n",
       "      <th>Africa</th>\n",
       "      <th>Nigeria</th>\n",
       "      <td>182201</td>\n",
       "      <td>5.89</td>\n",
       "    </tr>\n",
       "    <tr>\n",
       "      <th rowspan=\"7\" valign=\"top\">Asia</th>\n",
       "      <th>Bangladesh</th>\n",
       "      <td>160995</td>\n",
       "      <td>2.12</td>\n",
       "    </tr>\n",
       "    <tr>\n",
       "      <th>China</th>\n",
       "      <td>1376048</td>\n",
       "      <td>1.57</td>\n",
       "    </tr>\n",
       "    <tr>\n",
       "      <th>India</th>\n",
       "      <td>1311050</td>\n",
       "      <td>2.43</td>\n",
       "    </tr>\n",
       "    <tr>\n",
       "      <th>Indonesia</th>\n",
       "      <td>257563</td>\n",
       "      <td>2.28</td>\n",
       "    </tr>\n",
       "    <tr>\n",
       "      <th>Japan</th>\n",
       "      <td>126573</td>\n",
       "      <td>1.45</td>\n",
       "    </tr>\n",
       "    <tr>\n",
       "      <th>Pakistan</th>\n",
       "      <td>188924</td>\n",
       "      <td>3.04</td>\n",
       "    </tr>\n",
       "    <tr>\n",
       "      <th>Philippines</th>\n",
       "      <td>100699</td>\n",
       "      <td>2.98</td>\n",
       "    </tr>\n",
       "    <tr>\n",
       "      <th>Europe</th>\n",
       "      <th>Russia</th>\n",
       "      <td>143456</td>\n",
       "      <td>1.61</td>\n",
       "    </tr>\n",
       "    <tr>\n",
       "      <th rowspan=\"2\" valign=\"top\">North America</th>\n",
       "      <th>Mexico</th>\n",
       "      <td>127017</td>\n",
       "      <td>2.13</td>\n",
       "    </tr>\n",
       "    <tr>\n",
       "      <th>United States</th>\n",
       "      <td>321773</td>\n",
       "      <td>1.97</td>\n",
       "    </tr>\n",
       "    <tr>\n",
       "      <th>South America</th>\n",
       "      <th>Brazil</th>\n",
       "      <td>207847</td>\n",
       "      <td>1.78</td>\n",
       "    </tr>\n",
       "  </tbody>\n",
       "</table>\n",
       "</div>"
      ],
      "text/plain": [
       "                             population  fertility\n",
       "continent     country                             \n",
       "Africa        Nigeria            182201       5.89\n",
       "Asia          Bangladesh         160995       2.12\n",
       "              China             1376048       1.57\n",
       "              India             1311050       2.43\n",
       "              Indonesia          257563       2.28\n",
       "              Japan              126573       1.45\n",
       "              Pakistan           188924       3.04\n",
       "              Philippines        100699       2.98\n",
       "Europe        Russia             143456       1.61\n",
       "North America Mexico             127017       2.13\n",
       "              United States      321773       1.97\n",
       "South America Brazil             207847       1.78"
      ]
     },
     "execution_count": 39,
     "metadata": {},
     "output_type": "execute_result"
    }
   ],
   "source": [
    "g2 = df.groupby(['continent','country'])['population','fertility'].mean()\n",
    "g2"
   ]
  },
  {
   "cell_type": "code",
   "execution_count": 41,
   "id": "2ae3be8a",
   "metadata": {},
   "outputs": [
    {
     "data": {
      "text/plain": [
       "<pandas.core.groupby.generic.DataFrameGroupBy object at 0x7fa6f8ed0950>"
      ]
     },
     "execution_count": 41,
     "metadata": {},
     "output_type": "execute_result"
    }
   ],
   "source": [
    "g3 = df.groupby(['continent','country'])\n",
    "g3"
   ]
  },
  {
   "cell_type": "code",
   "execution_count": 42,
   "id": "e88a7bfe",
   "metadata": {},
   "outputs": [
    {
     "name": "stdout",
     "output_type": "stream",
     "text": [
      "('Africa', 'Nigeria')\n",
      "   country  population  fertility continent\n",
      "7  Nigeria      182201       5.89    Africa\n",
      "/n\n",
      "('Asia', 'Bangladesh')\n",
      "      country  population  fertility continent\n",
      "0  Bangladesh      160995       2.12      Asia\n",
      "/n\n",
      "('Asia', 'China')\n",
      "  country  population  fertility continent\n",
      "2   China     1376048       1.57      Asia\n",
      "/n\n",
      "('Asia', 'India')\n",
      "  country  population  fertility continent\n",
      "3   India     1311050       2.43      Asia\n",
      "/n\n",
      "('Asia', 'Indonesia')\n",
      "     country  population  fertility continent\n",
      "4  Indonesia      257563       2.28      Asia\n",
      "/n\n",
      "('Asia', 'Japan')\n",
      "  country  population  fertility continent\n",
      "5   Japan      126573       1.45      Asia\n",
      "/n\n",
      "('Asia', 'Pakistan')\n",
      "    country  population  fertility continent\n",
      "8  Pakistan      188924       3.04      Asia\n",
      "/n\n",
      "('Asia', 'Philippines')\n",
      "       country  population  fertility continent\n",
      "9  Philippines      100699       2.98      Asia\n",
      "/n\n",
      "('Europe', 'Russia')\n",
      "   country  population  fertility continent\n",
      "10  Russia      143456       1.61    Europe\n",
      "/n\n",
      "('North America', 'Mexico')\n",
      "  country  population  fertility      continent\n",
      "6  Mexico      127017       2.13  North America\n",
      "/n\n",
      "('North America', 'United States')\n",
      "          country  population  fertility      continent\n",
      "11  United States      321773       1.97  North America\n",
      "/n\n",
      "('South America', 'Brazil')\n",
      "  country  population  fertility      continent\n",
      "1  Brazil      207847       1.78  South America\n",
      "/n\n"
     ]
    }
   ],
   "source": [
    "for index, elements in g3: \n",
    "    print(index)\n",
    "    print(elements)\n",
    "    print('/n')"
   ]
  },
  {
   "cell_type": "markdown",
   "id": "183f04fb",
   "metadata": {},
   "source": [
    "After grouping, we can now \"mix\" between aggregations and transformations, combining .groupby() with .agg() and our customized function from above."
   ]
  },
  {
   "cell_type": "code",
   "execution_count": null,
   "id": "77126d3a",
   "metadata": {},
   "outputs": [],
   "source": []
  },
  {
   "cell_type": "markdown",
   "id": "66f0a636",
   "metadata": {},
   "source": [
    "Applying transformations to selected cols:"
   ]
  },
  {
   "cell_type": "code",
   "execution_count": null,
   "id": "1bd43100",
   "metadata": {},
   "outputs": [],
   "source": []
  },
  {
   "cell_type": "code",
   "execution_count": null,
   "id": "fad198e8",
   "metadata": {},
   "outputs": [],
   "source": []
  },
  {
   "cell_type": "code",
   "execution_count": null,
   "id": "038050cc",
   "metadata": {},
   "outputs": [],
   "source": []
  },
  {
   "cell_type": "markdown",
   "id": "4e98fa48",
   "metadata": {},
   "source": [
    "Plotting examples:"
   ]
  },
  {
   "cell_type": "code",
   "execution_count": null,
   "id": "22b04e0c",
   "metadata": {},
   "outputs": [],
   "source": []
  },
  {
   "cell_type": "code",
   "execution_count": null,
   "id": "049dfaab",
   "metadata": {},
   "outputs": [],
   "source": []
  },
  {
   "cell_type": "code",
   "execution_count": null,
   "id": "a08d86ce",
   "metadata": {},
   "outputs": [],
   "source": []
  },
  {
   "cell_type": "code",
   "execution_count": null,
   "id": "5a8fd3aa",
   "metadata": {},
   "outputs": [],
   "source": []
  },
  {
   "cell_type": "markdown",
   "id": "18c01c28",
   "metadata": {},
   "source": [
    "## Comments and questions during the encounter"
   ]
  },
  {
   "cell_type": "markdown",
   "id": "99115086",
   "metadata": {},
   "source": []
  },
  {
   "cell_type": "markdown",
   "id": "90f3f3a3",
   "metadata": {},
   "source": []
  }
 ],
 "metadata": {
  "kernelspec": {
   "display_name": "Python 3",
   "language": "python",
   "name": "python3"
  },
  "language_info": {
   "codemirror_mode": {
    "name": "ipython",
    "version": 3
   },
   "file_extension": ".py",
   "mimetype": "text/x-python",
   "name": "python",
   "nbconvert_exporter": "python",
   "pygments_lexer": "ipython3",
   "version": "3.7.6"
  }
 },
 "nbformat": 4,
 "nbformat_minor": 5
}
