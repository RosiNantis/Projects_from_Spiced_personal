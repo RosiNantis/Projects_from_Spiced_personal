{
 "cells": [
  {
   "cell_type": "markdown",
   "id": "78600247",
   "metadata": {},
   "source": [
    "### How Much Data Is on the Internet? "
   ]
  },
  {
   "cell_type": "markdown",
   "id": "489f54fe",
   "metadata": {},
   "source": [
    "* The amount of data in the world was estimated to **be 44 zettabytes** at the dawn of **2020**.\n",
    "    \n",
    "* By **2025**, the amount of data generated each day is expected to reach **463 exabytes** globally.\n",
    "    \n",
    "* Google, Facebook, Microsoft, and Amazon store at least **1,200 petabytes** of information.\n",
    "    \n",
    "* The world spends almost **1 million US-Dollar per minute** on commodities on the Internet.\n",
    "    \n",
    "* Electronic Arts process roughly **50 terabytes of data every day**.\n",
    "    \n",
    "* By **2025**, there would be **75 billion Internet-of-Things (IoT) devices** in the world\n",
    "    \n",
    "* **By 2030, nine out of every ten people aged six and above would be digitally active.**\n",
    "     "
   ]
  },
  {
   "cell_type": "markdown",
   "id": "ee309022",
   "metadata": {},
   "source": [
    "   Find the source here : <a href=\"https://seedscientific.com/how-much-data-is-created-every-day/ \" target=\"_blank\">Source</a>"
   ]
  },
  {
   "cell_type": "markdown",
   "id": "4c8c3587",
   "metadata": {},
   "source": [
    "<img src=https://mynasadata.larc.nasa.gov/sites/default/files/inline-images/datavolume_0.png width=\"600\">"
   ]
  },
  {
   "cell_type": "raw",
   "id": "7331c37d",
   "metadata": {},
   "source": [
    "### CREATE THE TABLE"
   ]
  },
  {
   "cell_type": "markdown",
   "id": "46831437",
   "metadata": {},
   "source": [
    "* 1-Connecting to PostgreSQL\n",
    "* 2-Creat a database\n",
    "* 3-Connect to the database\n",
    "* 4-Create table in this database\n",
    "* 5-Copy a csv file to the table"
   ]
  },
  {
   "cell_type": "markdown",
   "id": "3052516a",
   "metadata": {},
   "source": [
    "CREATE DATABASE large_countries;\n",
    "\n",
    "\\c large_countries\n",
    "\n",
    "CREATE TABLE IF NOT EXISTS countries( \n",
    "    country VARCHAR(100), \n",
    "    population FLOAT, \n",
    "    fertility FLOAT, \n",
    "    continent VARCHAR(40) \n",
    "    );\n",
    "\n",
    "COPY countries FROM 'examples_large_countries/large_countries_2015.csv' DELIMITER ',' CSV HEADER;"
   ]
  },
  {
   "cell_type": "markdown",
   "id": "fb339c99",
   "metadata": {},
   "source": [
    "### SELECTING VALUES"
   ]
  },
  {
   "cell_type": "markdown",
   "id": "8706bac0",
   "metadata": {},
   "source": [
    "SELECT *\n",
    "FROM countries;\n",
    "\n",
    "SELECT country, population\n",
    "FROM countries;\n",
    "\n",
    "/* DISTINCT*/\n",
    "SELECT DISTINCT continent\n",
    "FROM countries;"
   ]
  },
  {
   "cell_type": "markdown",
   "id": "b015499d",
   "metadata": {},
   "source": [
    "### SORTING"
   ]
  },
  {
   "cell_type": "markdown",
   "id": "92618cde",
   "metadata": {},
   "source": [
    "SELECT country, population\n",
    "FROM countries\n",
    "ORDER BY population DESC;"
   ]
  },
  {
   "cell_type": "markdown",
   "id": "361233b0",
   "metadata": {},
   "source": [
    "### UPDAT and INSERT"
   ]
  },
  {
   "cell_type": "markdown",
   "id": "9f876047",
   "metadata": {},
   "source": [
    "UPDATE countries set population=round(population/1000000);\n",
    "\n",
    "INSERT INTO countries(country, population, fertility, continent)\n",
    "VALUES ('Ethiopia', 114, 4.25, 'Africa');"
   ]
  },
  {
   "cell_type": "markdown",
   "id": "92112d24",
   "metadata": {},
   "source": [
    "### WHERE"
   ]
  },
  {
   "cell_type": "markdown",
   "id": "a25b8649",
   "metadata": {},
   "source": [
    "Select all countries with more than 200,000,000 inhabitants."
   ]
  },
  {
   "cell_type": "markdown",
   "id": "af53573d",
   "metadata": {},
   "source": [
    "SELECT *\n",
    "FROM countries\n",
    "WHERE population > 200;\n",
    "\n",
    "SELECT *\n",
    "FROM countries\n",
    "WHERE country like 'I%' AND population > 200;"
   ]
  },
  {
   "cell_type": "markdown",
   "id": "61274b45",
   "metadata": {},
   "source": [
    "### SCHEMA"
   ]
  },
  {
   "cell_type": "markdown",
   "id": "6434b77e",
   "metadata": {},
   "source": [
    "SELECT column_name\n",
    "FROM INFORMATION_SCHEMA.COLUMNS\n",
    "WHERE TABLE_NAME = 'countries';\n",
    "\n",
    "select DISTINCT table_name\n",
    "FROM INFORMATION_SCHEMA.TABLES;"
   ]
  },
  {
   "cell_type": "markdown",
   "id": "ce5f3419",
   "metadata": {},
   "source": [
    "### COMBINING"
   ]
  },
  {
   "cell_type": "markdown",
   "id": "bc0003de",
   "metadata": {},
   "source": [
    "Select the largest countries with the ordered by fertility rate."
   ]
  },
  {
   "cell_type": "markdown",
   "id": "c99eb6b4",
   "metadata": {},
   "source": [
    "SELECT *\n",
    "FROM countries\n",
    "WHERE population > 200\n",
    "ORDER BY fertility DESC\n",
    "LIMIT 3;"
   ]
  },
  {
   "cell_type": "markdown",
   "id": "211ee07b",
   "metadata": {},
   "source": [
    "### AGGREGATE functions:"
   ]
  },
  {
   "cell_type": "markdown",
   "id": "2c705707",
   "metadata": {},
   "source": [
    "### GROUP BY"
   ]
  },
  {
   "cell_type": "markdown",
   "id": "ed501dba",
   "metadata": {},
   "source": [
    "Show the average fertility by continent after selecting countries."
   ]
  },
  {
   "cell_type": "markdown",
   "id": "b1f81903",
   "metadata": {},
   "source": [
    "SELECT continent, AVG(fertility) AS average_fertility\n",
    "FROM countries\n",
    "WHERE fertility > 2\n",
    "GROUP BY continent;"
   ]
  },
  {
   "cell_type": "markdown",
   "id": "a8a5f82e",
   "metadata": {},
   "source": [
    "### HAVING"
   ]
  },
  {
   "cell_type": "markdown",
   "id": "0e344dd4",
   "metadata": {},
   "source": [
    "Show the average fertility by continent if it exceeds 2 filter by group, works on continent average."
   ]
  },
  {
   "cell_type": "markdown",
   "id": "fb1db2db",
   "metadata": {},
   "source": [
    "SELECT continent, AVG(fertility) AS average_fertility\n",
    "FROM countries\n",
    "GROUP BY continent\n",
    "HAVING AVG(fertility) > 2;"
   ]
  },
  {
   "cell_type": "markdown",
   "id": "ef2a7404",
   "metadata": {},
   "source": [
    "First gives only an average based on Mexico, while the second First calculates the avg of Mexico and USA and then returns a row."
   ]
  },
  {
   "cell_type": "markdown",
   "id": "aba23f91",
   "metadata": {},
   "source": [
    "### WINDOW functions"
   ]
  },
  {
   "cell_type": "markdown",
   "id": "f5b17ccf",
   "metadata": {},
   "source": [
    "Window functions are similar to aggregate functions but don’t reduce results to a single line."
   ]
  },
  {
   "cell_type": "markdown",
   "id": "9adff1ea",
   "metadata": {},
   "source": [
    "SELECT continent, country, SUM(FERTILITY)\n",
    "OVER (PARTITION BY continent)\n",
    "FROM countries;"
   ]
  },
  {
   "cell_type": "markdown",
   "id": "1f89c2f0",
   "metadata": {},
   "source": [
    "But the below won’t work."
   ]
  },
  {
   "cell_type": "markdown",
   "id": "06dcb29c",
   "metadata": {},
   "source": [
    "SELECT continent, AVG(population), SUM(population)\n",
    "OVER (PARTITION BY continent)\n",
    "FROM countries"
   ]
  },
  {
   "cell_type": "markdown",
   "id": "bbee7996",
   "metadata": {},
   "source": [
    "The correct version:\n",
    "\n",
    "SELECT continent, SUM(population)\n",
    "OVER (PARTITION BY continent),\n",
    "AVG(fertility)\n",
    "OVER (Partition by continent)\n",
    "FROM countries;"
   ]
  },
  {
   "cell_type": "markdown",
   "id": "1d776a0d",
   "metadata": {},
   "source": [
    "More info: <a href=\"https://www.postgresqltutorial.com/postgresql-window-function/\" target=\"_blank\">WINDOW function</a>        "
   ]
  },
  {
   "cell_type": "code",
   "execution_count": null,
   "id": "42e2f9e2",
   "metadata": {},
   "outputs": [],
   "source": []
  }
 ],
 "metadata": {
  "kernelspec": {
   "display_name": "Python 3 (ipykernel)",
   "language": "python",
   "name": "python3"
  },
  "language_info": {
   "codemirror_mode": {
    "name": "ipython",
    "version": 3
   },
   "file_extension": ".py",
   "mimetype": "text/x-python",
   "name": "python",
   "nbconvert_exporter": "python",
   "pygments_lexer": "ipython3",
   "version": "3.9.7"
  }
 },
 "nbformat": 4,
 "nbformat_minor": 5
}
