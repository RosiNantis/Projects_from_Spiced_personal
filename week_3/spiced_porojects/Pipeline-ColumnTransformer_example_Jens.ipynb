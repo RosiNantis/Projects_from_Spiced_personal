{
 "cells": [
  {
   "cell_type": "markdown",
   "id": "03efe4c5",
   "metadata": {},
   "source": [
    "Pipeline example (ignore the content, only look at the idea!) =}"
   ]
  },
  {
   "cell_type": "code",
   "execution_count": null,
   "id": "c50a46b8",
   "metadata": {},
   "outputs": [],
   "source": [
    "pipeline_0 = Pipeline([\n",
    "    ('datetimeextract', FunctionTransformer(get_datetime_information, validate=False)),\n",
    "    ('ohe', OneHotEncoder(handle_unknown='ignore'))\n",
    "])"
   ]
  },
  {
   "cell_type": "code",
   "execution_count": null,
   "id": "a6e94d3b",
   "metadata": {},
   "outputs": [],
   "source": [
    "pipeline_1 = Pipeline([\n",
    "    ('ohe', OneHotEncoder(handle_unknown='ignore'))])`"
   ]
  },
  {
   "cell_type": "code",
   "execution_count": null,
   "id": "79df42f4",
   "metadata": {},
   "outputs": [],
   "source": [
    "pipeline_2 = Pipeline([\n",
    "    ('scaler', StandardScaler())])"
   ]
  },
  {
   "cell_type": "code",
   "execution_count": null,
   "id": "da8f1897",
   "metadata": {},
   "outputs": [],
   "source": [
    "transformer = ColumnTransformer([\n",
    "    ('pipe0', pipeline_0, ['datetime']),\n",
    "    ('pipe1', pipeline_1, ['season', 'weather',]),\n",
    "    ('pipe2', pipeline_2, ['temp', 'humidity', 'windspeed']),\n",
    "    ('pass', 'passthrough', ['holiday', 'workingday'])])"
   ]
  },
  {
   "cell_type": "code",
   "execution_count": null,
   "id": "eb0e4d2b",
   "metadata": {},
   "outputs": [],
   "source": [
    "pipeline_3 = Pipeline([\n",
    "    ('trans', transformer),\n",
    "    ('poly', PolynomialFeatures()),\n",
    "    ('model', PoissonRegressor(alpha=1, max_iter=1000))])"
   ]
  }
 ],
 "metadata": {
  "kernelspec": {
   "display_name": "Python 3 (ipykernel)",
   "language": "python",
   "name": "python3"
  },
  "language_info": {
   "codemirror_mode": {
    "name": "ipython",
    "version": 3
   },
   "file_extension": ".py",
   "mimetype": "text/x-python",
   "name": "python",
   "nbconvert_exporter": "python",
   "pygments_lexer": "ipython3",
   "version": "3.9.7"
  }
 },
 "nbformat": 4,
 "nbformat_minor": 5
}
