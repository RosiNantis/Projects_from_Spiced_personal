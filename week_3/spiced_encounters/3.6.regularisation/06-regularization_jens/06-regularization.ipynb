{
 "cells": [
  {
   "cell_type": "markdown",
   "id": "bbc87ee5",
   "metadata": {},
   "source": [
    "# Regularization"
   ]
  },
  {
   "cell_type": "code",
   "execution_count": 2,
   "id": "ffa68214",
   "metadata": {},
   "outputs": [],
   "source": [
    "import numpy as np\n",
    "import matplotlib.pyplot as plt\n",
    "\n",
    "from sklearn.linear_model import LinearRegression"
   ]
  },
  {
   "cell_type": "markdown",
   "id": "691c36b6",
   "metadata": {},
   "source": [
    "Create data following $\\sqrt{x}$ "
   ]
  },
  {
   "cell_type": "code",
   "execution_count": 3,
   "id": "f935e811",
   "metadata": {},
   "outputs": [],
   "source": [
    "np.random.seed(13)"
   ]
  },
  {
   "cell_type": "code",
   "execution_count": 4,
   "id": "a5cbc9ea",
   "metadata": {},
   "outputs": [],
   "source": [
    "X = np.arange(1, 60, 5)\n",
    "y = [np.sqrt(xi) + np.random.normal(0, 0.5) for xi in X]"
   ]
  },
  {
   "cell_type": "code",
   "execution_count": 5,
   "id": "0cb2a9c4",
   "metadata": {},
   "outputs": [
    {
     "data": {
      "text/plain": [
       "<matplotlib.collections.PathCollection at 0x7efe6772fc10>"
      ]
     },
     "execution_count": 5,
     "metadata": {},
     "output_type": "execute_result"
    },
    {
     "data": {
      "image/png": "[encoded data removed]",
      "text/plain": [
       "<Figure size 432x288 with 1 Axes>"
      ]
     },
     "metadata": {
      "needs_background": "light"
     },
     "output_type": "display_data"
    }
   ],
   "source": [
    "plt.scatter(X, y)"
   ]
  },
  {
   "cell_type": "code",
   "execution_count": 6,
   "id": "61ec0539",
   "metadata": {},
   "outputs": [
    {
     "name": "stdout",
     "output_type": "stream",
     "text": [
      "(12,)\n",
      "(12, 1)\n"
     ]
    }
   ],
   "source": [
    "# Reshape\n",
    "print(X.shape)\n",
    "X = X.reshape(-1,1)\n",
    "print(X.shape)"
   ]
  },
  {
   "cell_type": "markdown",
   "id": "30da8b1c",
   "metadata": {},
   "source": [
    "### Underfitting (high bias)"
   ]
  },
  {
   "cell_type": "code",
   "execution_count": 7,
   "id": "f1869d2e",
   "metadata": {},
   "outputs": [
    {
     "data": {
      "text/plain": [
       "LinearRegression()"
      ]
     },
     "execution_count": 7,
     "metadata": {},
     "output_type": "execute_result"
    }
   ],
   "source": [
    "model = LinearRegression()\n",
    "model.fit(X,y)"
   ]
  },
  {
   "cell_type": "code",
   "execution_count": 8,
   "id": "24017b7f",
   "metadata": {},
   "outputs": [],
   "source": [
    "y_pred = model.predict(X)"
   ]
  },
  {
   "cell_type": "code",
   "execution_count": 9,
   "id": "dbf81000",
   "metadata": {},
   "outputs": [
    {
     "data": {
      "text/plain": [
       "[<matplotlib.lines.Line2D at 0x7efe655e4e80>]"
      ]
     },
     "execution_count": 9,
     "metadata": {},
     "output_type": "execute_result"
    },
    {
     "data": {
      "image/png": "[encoded data removed]",
      "text/plain": [
       "<Figure size 432x288 with 1 Axes>"
      ]
     },
     "metadata": {
      "needs_background": "light"
     },
     "output_type": "display_data"
    }
   ],
   "source": [
    "plt.scatter(X,y)\n",
    "plt.plot(X,y_pred)"
   ]
  },
  {
   "cell_type": "markdown",
   "id": "eea6eecb",
   "metadata": {},
   "source": [
    "### Underfitting:\n",
    "\n",
    "To see if you got an underfitting model, compare the scores:       \n",
    "`model.score(X_train, y_train)`    \n",
    "`model.score(X_test, y_test)`\n",
    "     \n",
    "If both scores are weak, you have probably an underfit situation\n",
    "     \n",
    "How could it happen?\n",
    " * Small data test \n",
    " * Weak feature engineering\n",
    "     * Too little features\n",
    "     * Features uninformative"
   ]
  },
  {
   "cell_type": "markdown",
   "id": "58c08528",
   "metadata": {},
   "source": [
    "### Overfit"
   ]
  },
  {
   "cell_type": "code",
   "execution_count": 10,
   "id": "10e61e07",
   "metadata": {},
   "outputs": [],
   "source": [
    "from sklearn.preprocessing import PolynomialFeatures"
   ]
  },
  {
   "cell_type": "code",
   "execution_count": 11,
   "id": "5d81b4a4",
   "metadata": {},
   "outputs": [],
   "source": [
    "poly = PolynomialFeatures(degree=12)\n",
    "X_poly = poly.fit_transform(X)"
   ]
  },
  {
   "cell_type": "code",
   "execution_count": 12,
   "id": "5c9d1fd2",
   "metadata": {},
   "outputs": [
    {
     "data": {
      "text/plain": [
       "(12, 13)"
      ]
     },
     "execution_count": 12,
     "metadata": {},
     "output_type": "execute_result"
    }
   ],
   "source": [
    "X_poly.shape"
   ]
  },
  {
   "cell_type": "code",
   "execution_count": 13,
   "id": "9177c99f",
   "metadata": {},
   "outputs": [],
   "source": [
    "model = LinearRegression()\n",
    "model.fit(X_poly,y)\n",
    "y_pred_poly = model.predict(X_poly)"
   ]
  },
  {
   "cell_type": "code",
   "execution_count": 14,
   "id": "0dba8aac",
   "metadata": {},
   "outputs": [
    {
     "data": {
      "text/plain": [
       "[<matplotlib.lines.Line2D at 0x7efe635657f0>]"
      ]
     },
     "execution_count": 14,
     "metadata": {},
     "output_type": "execute_result"
    },
    {
     "data": {
      "image/png": "[encoded data removed]",
      "text/plain": [
       "<Figure size 432x288 with 1 Axes>"
      ]
     },
     "metadata": {
      "needs_background": "light"
     },
     "output_type": "display_data"
    }
   ],
   "source": [
    "plt.scatter(X,y)\n",
    "plt.plot(X,y_pred_poly)"
   ]
  },
  {
   "cell_type": "markdown",
   "id": "700563a8",
   "metadata": {},
   "source": [
    "### Overfitting: \n",
    "To see if you got an overfitting model, compare the scores:     \n",
    " `model.score(X_train, y_train)`    \n",
    " `model.score(X_test, y_test)`\n",
    "     \n",
    "If the train score is exceptionally good and the test score is weak, you probably have an overfit situation"
   ]
  },
  {
   "cell_type": "code",
   "execution_count": 15,
   "id": "3f06cae1",
   "metadata": {},
   "outputs": [],
   "source": [
    "from sklearn.linear_model import Lasso\n",
    "from sklearn.linear_model import Ridge\n",
    "from sklearn.linear_model import ElasticNet"
   ]
  },
  {
   "cell_type": "code",
   "execution_count": 16,
   "id": "121778a9",
   "metadata": {},
   "outputs": [],
   "source": [
    "lasso = Lasso()\n",
    "ridge = Ridge()\n",
    "elast = ElasticNet()"
   ]
  },
  {
   "cell_type": "code",
   "execution_count": 17,
   "id": "b0b042b1",
   "metadata": {},
   "outputs": [
    {
     "name": "stderr",
     "output_type": "stream",
     "text": [
      "/usr/local/lib/python3.9/dist-packages/sklearn/linear_model/_coordinate_descent.py:647: ConvergenceWarning: Objective did not converge. You might want to increase the number of iterations, check the scale of the features or consider increasing regularisation. Duality gap: 1.656e+00, tolerance: 4.352e-03\n",
      "  model = cd_fast.enet_coordinate_descent(\n",
      "/usr/local/lib/python3.9/dist-packages/sklearn/linear_model/_ridge.py:196: UserWarning: Singular matrix in solving dual problem. Using least-squares solution instead.\n",
      "  warnings.warn(\n",
      "/usr/local/lib/python3.9/dist-packages/sklearn/linear_model/_coordinate_descent.py:647: ConvergenceWarning: Objective did not converge. You might want to increase the number of iterations, check the scale of the features or consider increasing regularisation. Duality gap: 1.682e+00, tolerance: 4.352e-03\n",
      "  model = cd_fast.enet_coordinate_descent(\n"
     ]
    },
    {
     "data": {
      "text/plain": [
       "ElasticNet()"
      ]
     },
     "execution_count": 17,
     "metadata": {},
     "output_type": "execute_result"
    }
   ],
   "source": [
    "lasso.fit(X_poly, y)\n",
    "ridge.fit(X_poly, y)\n",
    "elast.fit(X_poly, y)"
   ]
  },
  {
   "cell_type": "markdown",
   "id": "0202948f",
   "metadata": {},
   "source": [
    "If the model does not converge, the gradient did not reduce under the set tolerance during the set maximal iteration steps. This can happen easily with regularization, still you can try the following:     \n",
    "* increase `max_iter` (maybe some more steps help)\n",
    "* increase `tol` (being more generous could help)   \n",
    "\n",
    "Both measures should be taken carefully since it could increase the optimization time or make the results worst"
   ]
  },
  {
   "cell_type": "code",
   "execution_count": 18,
   "id": "c8d490e9",
   "metadata": {},
   "outputs": [],
   "source": [
    "y_lasso = lasso.predict(X_poly)\n",
    "y_ridge = ridge.predict(X_poly)\n",
    "y_elast = elast.predict(X_poly)"
   ]
  },
  {
   "cell_type": "code",
   "execution_count": 19,
   "id": "78c6aab6",
   "metadata": {},
   "outputs": [
    {
     "data": {
      "text/plain": [
       "<matplotlib.legend.Legend at 0x7efe63497280>"
      ]
     },
     "execution_count": 19,
     "metadata": {},
     "output_type": "execute_result"
    },
    {
     "data": {
      "image/png": "[encoded data removed]",
      "text/plain": [
       "<Figure size 432x288 with 1 Axes>"
      ]
     },
     "metadata": {
      "needs_background": "light"
     },
     "output_type": "display_data"
    }
   ],
   "source": [
    "plt.scatter(X, y, label='actual')\n",
    "plt.plot(X, y_pred_poly, label='poly')\n",
    "plt.plot(X, y_pred, label='linearregression')\n",
    "plt.plot(X, y_lasso, label='lasso')\n",
    "plt.plot(X, y_ridge, label='ridge')\n",
    "plt.plot(X, y_elast, label='elasticnet')\n",
    "plt.legend()"
   ]
  },
  {
   "cell_type": "code",
   "execution_count": 20,
   "id": "107c0dd3",
   "metadata": {},
   "outputs": [
    {
     "data": {
      "text/plain": [
       "array([ 0.00000000e+00,  0.00000000e+00,  1.00183764e-02, -1.67305516e-04,\n",
       "       -5.47848250e-07,  2.08077729e-09,  7.57646149e-11,  1.22386284e-12,\n",
       "        1.61795835e-14,  1.83142137e-16,  1.55305636e-18,  9.87958371e-22,\n",
       "       -3.90062807e-22])"
      ]
     },
     "execution_count": 20,
     "metadata": {},
     "output_type": "execute_result"
    }
   ],
   "source": [
    "lasso.coef_"
   ]
  }
 ],
 "metadata": {
  "kernelspec": {
   "display_name": "Python 3 (ipykernel)",
   "language": "python",
   "name": "python3"
  },
  "language_info": {
   "codemirror_mode": {
    "name": "ipython",
    "version": 3
   },
   "file_extension": ".py",
   "mimetype": "text/x-python",
   "name": "python",
   "nbconvert_exporter": "python",
   "pygments_lexer": "ipython3",
   "version": "3.9.7"
  }
 },
 "nbformat": 4,
 "nbformat_minor": 5
}
