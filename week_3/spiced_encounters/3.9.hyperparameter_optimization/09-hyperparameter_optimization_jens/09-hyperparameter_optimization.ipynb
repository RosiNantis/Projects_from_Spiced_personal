{
 "cells": [
  {
   "cell_type": "markdown",
   "id": "cd1de1e1",
   "metadata": {},
   "source": [
    "# Hyperparameter Optimization"
   ]
  },
  {
   "cell_type": "code",
   "execution_count": 1,
   "id": "aa52741c",
   "metadata": {},
   "outputs": [],
   "source": [
    "import numpy as np\n",
    "import matplotlib.pyplot as plt\n",
    "\n",
    "from sklearn.linear_model import Lasso\n",
    "from sklearn.pipeline import Pipeline\n",
    "from sklearn.model_selection import GridSearchCV\n",
    "from sklearn.preprocessing import PolynomialFeatures"
   ]
  },
  {
   "cell_type": "markdown",
   "id": "d2f34cf8",
   "metadata": {},
   "source": [
    "Create data based on $\\sqrt{x}$"
   ]
  },
  {
   "cell_type": "code",
   "execution_count": 2,
   "id": "52a59a72",
   "metadata": {},
   "outputs": [],
   "source": [
    "np.random.seed(13)"
   ]
  },
  {
   "cell_type": "code",
   "execution_count": 3,
   "id": "756369cf",
   "metadata": {},
   "outputs": [],
   "source": [
    "X = np.arange(1, 60, 5)\n",
    "y = [np.sqrt(xi) + np.random.normal(0, 0.5) for xi in X]"
   ]
  },
  {
   "cell_type": "code",
   "execution_count": 4,
   "id": "eefe67a3",
   "metadata": {},
   "outputs": [
    {
     "data": {
      "text/plain": [
       "<matplotlib.collections.PathCollection at 0x7f8859a79220>"
      ]
     },
     "execution_count": 4,
     "metadata": {},
     "output_type": "execute_result"
    },
    {
     "data": {
      "image/png": "[encoded data removed]",
      "text/plain": [
       "<Figure size 432x288 with 1 Axes>"
      ]
     },
     "metadata": {
      "needs_background": "light"
     },
     "output_type": "display_data"
    }
   ],
   "source": [
    "plt.scatter(X,y)"
   ]
  },
  {
   "cell_type": "code",
   "execution_count": 5,
   "id": "4483f451",
   "metadata": {},
   "outputs": [
    {
     "name": "stdout",
     "output_type": "stream",
     "text": [
      "(12,)\n",
      "(12, 1)\n"
     ]
    }
   ],
   "source": [
    "print(X.shape)\n",
    "X = X.reshape(-1, 1)\n",
    "print(X.shape)"
   ]
  },
  {
   "cell_type": "markdown",
   "id": "fffed6a3",
   "metadata": {},
   "source": [
    "### Pipeline advantages\n",
    "* Aggregate functions\n",
    "* Streamline functions\n",
    "* Avoid repetition\n",
    "* Grid search on transformers and estimators at once"
   ]
  },
  {
   "cell_type": "code",
   "execution_count": 6,
   "id": "8ff751d0",
   "metadata": {},
   "outputs": [],
   "source": [
    "my_pipe = Pipeline([\n",
    "    ['my_poly_engineering', PolynomialFeatures(degree=2)],\n",
    "    ['my_lasso', Lasso(max_iter=5000)]\n",
    "])"
   ]
  },
  {
   "cell_type": "code",
   "execution_count": 7,
   "id": "38fc4c3f",
   "metadata": {},
   "outputs": [
    {
     "data": {
      "text/plain": [
       "Pipeline(steps=[('my_poly_engineering', PolynomialFeatures()),\n",
       "                ['my_lasso', Lasso(max_iter=5000)]])"
      ]
     },
     "execution_count": 7,
     "metadata": {},
     "output_type": "execute_result"
    }
   ],
   "source": [
    "my_pipe.fit(X, y)"
   ]
  },
  {
   "cell_type": "markdown",
   "id": "c058ef3a",
   "metadata": {},
   "source": [
    "Find which hyperparameters are available in the pipeline"
   ]
  },
  {
   "cell_type": "code",
   "execution_count": 8,
   "id": "4afe62f5",
   "metadata": {},
   "outputs": [
    {
     "data": {
      "text/plain": [
       "{'memory': None,\n",
       " 'steps': [('my_poly_engineering', PolynomialFeatures()),\n",
       "  ['my_lasso', Lasso(max_iter=5000)]],\n",
       " 'verbose': False,\n",
       " 'my_poly_engineering': PolynomialFeatures(),\n",
       " 'my_lasso': Lasso(max_iter=5000),\n",
       " 'my_poly_engineering__degree': 2,\n",
       " 'my_poly_engineering__include_bias': True,\n",
       " 'my_poly_engineering__interaction_only': False,\n",
       " 'my_poly_engineering__order': 'C',\n",
       " 'my_lasso__alpha': 1.0,\n",
       " 'my_lasso__copy_X': True,\n",
       " 'my_lasso__fit_intercept': True,\n",
       " 'my_lasso__max_iter': 5000,\n",
       " 'my_lasso__normalize': 'deprecated',\n",
       " 'my_lasso__positive': False,\n",
       " 'my_lasso__precompute': False,\n",
       " 'my_lasso__random_state': None,\n",
       " 'my_lasso__selection': 'cyclic',\n",
       " 'my_lasso__tol': 0.0001,\n",
       " 'my_lasso__warm_start': False}"
      ]
     },
     "execution_count": 8,
     "metadata": {},
     "output_type": "execute_result"
    }
   ],
   "source": [
    "my_pipe.get_params()"
   ]
  },
  {
   "cell_type": "markdown",
   "id": "36762d98",
   "metadata": {},
   "source": [
    "Create a parameter grid.    \n",
    "GridSearchCV will test all possible combinations"
   ]
  },
  {
   "cell_type": "code",
   "execution_count": 9,
   "id": "35454c61",
   "metadata": {},
   "outputs": [],
   "source": [
    "parameter_grid = {\n",
    "    'my_poly_engineering__degree': [1,2,3,4,5],\n",
    "    'my_lasso__alpha': [0.001, 0.01, 0.1, 1, 10]\n",
    "}"
   ]
  },
  {
   "cell_type": "markdown",
   "id": "2c8a56c2",
   "metadata": {},
   "source": [
    "Verbosity controls the amount of feedback (log) you get from a function"
   ]
  },
  {
   "cell_type": "code",
   "execution_count": 16,
   "id": "77cd9070",
   "metadata": {},
   "outputs": [],
   "source": [
    "gridsearch = GridSearchCV(my_pipe, \n",
    "                          parameter_grid, \n",
    "                          scoring=None,\n",
    "                          verbose=3)"
   ]
  },
  {
   "cell_type": "code",
   "execution_count": 17,
   "id": "488b89be",
   "metadata": {},
   "outputs": [
    {
     "name": "stdout",
     "output_type": "stream",
     "text": [
      "Fitting 5 folds for each of 25 candidates, totalling 125 fits\n",
      "[CV 1/5] END my_lasso__alpha=0.001, my_poly_engineering__degree=1;, score=-2.761 total time=   0.0s\n",
      "[CV 2/5] END my_lasso__alpha=0.001, my_poly_engineering__degree=1;, score=-1.882 total time=   0.0s\n",
      "[CV 3/5] END my_lasso__alpha=0.001, my_poly_engineering__degree=1;, score=-91.027 total time=   0.0s\n",
      "[CV 4/5] END my_lasso__alpha=0.001, my_poly_engineering__degree=1;, score=-1.518 total time=   0.0s\n",
      "[CV 5/5] END my_lasso__alpha=0.001, my_poly_engineering__degree=1;, score=-1059.467 total time=   0.0s\n",
      "[CV 1/5] END my_lasso__alpha=0.001, my_poly_engineering__degree=2;, score=0.795 total time=   0.0s\n",
      "[CV 2/5] END my_lasso__alpha=0.001, my_poly_engineering__degree=2;, score=0.806 total time=   0.0s\n",
      "[CV 3/5] END my_lasso__alpha=0.001, my_poly_engineering__degree=2;, score=0.103 total time=   0.0s\n",
      "[CV 4/5] END my_lasso__alpha=0.001, my_poly_engineering__degree=2;, score=-0.355 total time=   0.0s\n",
      "[CV 5/5] END my_lasso__alpha=0.001, my_poly_engineering__degree=2;, score=-177.106 total time=   0.0s\n",
      "[CV 1/5] END my_lasso__alpha=0.001, my_poly_engineering__degree=3;, score=0.819 total time=   0.0s\n",
      "[CV 2/5] END my_lasso__alpha=0.001, my_poly_engineering__degree=3;, score=0.439 total time=   0.0s\n",
      "[CV 3/5] END my_lasso__alpha=0.001, my_poly_engineering__degree=3;, score=-0.634 total time=   0.0s\n",
      "[CV 4/5] END my_lasso__alpha=0.001, my_poly_engineering__degree=3;, score=-0.350 total time=   0.0s\n",
      "[CV 5/5] END my_lasso__alpha=0.001, my_poly_engineering__degree=3;, score=-155.181 total time=   0.0s\n",
      "[CV 1/5] END my_lasso__alpha=0.001, my_poly_engineering__degree=4;, score=0.769 total time=   0.0s\n",
      "[CV 2/5] END my_lasso__alpha=0.001, my_poly_engineering__degree=4;, score=0.402 total time=   0.0s\n",
      "[CV 3/5] END my_lasso__alpha=0.001, my_poly_engineering__degree=4;, score=-0.662 total time=   0.0s\n",
      "[CV 4/5] END my_lasso__alpha=0.001, my_poly_engineering__degree=4;, score=-0.340 total time=   0.0s\n",
      "[CV 5/5] END my_lasso__alpha=0.001, my_poly_engineering__degree=4;, score=-1822.555 total time=   0.0s\n",
      "[CV 1/5] END my_lasso__alpha=0.001, my_poly_engineering__degree=5;, score=0.858 total time=   0.0s\n",
      "[CV 2/5] END my_lasso__alpha=0.001, my_poly_engineering__degree=5;, score=0.398 total time=   0.0s\n",
      "[CV 3/5] END my_lasso__alpha=0.001, my_poly_engineering__degree=5;, score=-0.561 total time=   0.0s\n",
      "[CV 4/5] END my_lasso__alpha=0.001, my_poly_engineering__degree=5;, score=-0.365 total time=   0.0s\n",
      "[CV 5/5] END my_lasso__alpha=0.001, my_poly_engineering__degree=5;, score=-7773.275 total time=   0.0s\n",
      "[CV 1/5] END my_lasso__alpha=0.01, my_poly_engineering__degree=1;, score=-2.766 total time=   0.0s\n",
      "[CV 2/5] END my_lasso__alpha=0.01, my_poly_engineering__degree=1;, score=-1.880 total time=   0.0s\n",
      "[CV 3/5] END my_lasso__alpha=0.01, my_poly_engineering__degree=1;, score=-91.056 total time=   0.0s\n",
      "[CV 4/5] END my_lasso__alpha=0.01, my_poly_engineering__degree=1;, score=-1.518 total time=   0.0s\n",
      "[CV 5/5] END my_lasso__alpha=0.01, my_poly_engineering__degree=1;, score=-1057.851 total time=   0.0s\n",
      "[CV 1/5] END my_lasso__alpha=0.01, my_poly_engineering__degree=2;, score=0.781 total time=   0.0s\n",
      "[CV 2/5] END my_lasso__alpha=0.01, my_poly_engineering__degree=2;, score=0.808 total time=   0.0s\n",
      "[CV 3/5] END my_lasso__alpha=0.01, my_poly_engineering__degree=2;, score=0.109 total time=   0.0s\n",
      "[CV 4/5] END my_lasso__alpha=0.01, my_poly_engineering__degree=2;, score=-0.355 total time=   0.0s\n",
      "[CV 5/5] END my_lasso__alpha=0.01, my_poly_engineering__degree=2;, score=-172.716 total time=   0.0s\n",
      "[CV 1/5] END my_lasso__alpha=0.01, my_poly_engineering__degree=3;, score=0.892 total time=   0.0s\n",
      "[CV 2/5] END my_lasso__alpha=0.01, my_poly_engineering__degree=3;, score=0.467 total time=   0.0s\n",
      "[CV 3/5] END my_lasso__alpha=0.01, my_poly_engineering__degree=3;, score=-0.622 total time=   0.0s\n",
      "[CV 4/5] END my_lasso__alpha=0.01, my_poly_engineering__degree=3;, score=-0.344 total time=   0.0s\n",
      "[CV 5/5] END my_lasso__alpha=0.01, my_poly_engineering__degree=3;, score=-173.106 total time=   0.0s\n",
      "[CV 1/5] END my_lasso__alpha=0.01, my_poly_engineering__degree=4;, score=0.852 total time=   0.0s\n",
      "[CV 2/5] END my_lasso__alpha=0.01, my_poly_engineering__degree=4;, score=0.419 total time=   0.0s\n",
      "[CV 3/5] END my_lasso__alpha=0.01, my_poly_engineering__degree=4;, score=-0.582 total time=   0.0s\n",
      "[CV 4/5] END my_lasso__alpha=0.01, my_poly_engineering__degree=4;, score=-0.336 total time=   0.0s\n",
      "[CV 5/5] END my_lasso__alpha=0.01, my_poly_engineering__degree=4;, score=-1762.976 total time=   0.0s\n",
      "[CV 1/5] END my_lasso__alpha=0.01, my_poly_engineering__degree=5;, score=0.842 total time=   0.0s\n",
      "[CV 2/5] END my_lasso__alpha=0.01, my_poly_engineering__degree=5;, score=0.414 total time=   0.0s\n",
      "[CV 3/5] END my_lasso__alpha=0.01, my_poly_engineering__degree=5;, score=-0.419 total time=   0.0s\n",
      "[CV 4/5] END my_lasso__alpha=0.01, my_poly_engineering__degree=5;, score=-0.356 total time=   0.0s\n",
      "[CV 5/5] END my_lasso__alpha=0.01, my_poly_engineering__degree=5;, score=-7499.956 total time=   0.0s\n",
      "[CV 1/5] END my_lasso__alpha=0.1, my_poly_engineering__degree=1;, score=-2.819 total time=   0.0s\n",
      "[CV 2/5] END my_lasso__alpha=0.1, my_poly_engineering__degree=1;, score=-1.865 total time=   0.0s\n",
      "[CV 3/5] END my_lasso__alpha=0.1, my_poly_engineering__degree=1;, score=-91.345 total time=   0.0s\n",
      "[CV 4/5] END my_lasso__alpha=0.1, my_poly_engineering__degree=1;, score=-1.519 total time=   0.0s\n",
      "[CV 5/5] END my_lasso__alpha=0.1, my_poly_engineering__degree=1;, score=-1041.755 total time=   0.0s\n",
      "[CV 1/5] END my_lasso__alpha=0.1, my_poly_engineering__degree=2;, score=0.587 total time=   0.0s\n",
      "[CV 2/5] END my_lasso__alpha=0.1, my_poly_engineering__degree=2;, score=0.819 total time=   0.0s\n",
      "[CV 3/5] END my_lasso__alpha=0.1, my_poly_engineering__degree=2;, score=0.057 total time=   0.0s\n",
      "[CV 4/5] END my_lasso__alpha=0.1, my_poly_engineering__degree=2;, score=-0.360 total time=   0.0s\n",
      "[CV 5/5] END my_lasso__alpha=0.1, my_poly_engineering__degree=2;, score=-133.473 total time=   0.0s\n",
      "[CV 1/5] END my_lasso__alpha=0.1, my_poly_engineering__degree=3;, score=-1.703 total time=   0.0s\n",
      "[CV 2/5] END my_lasso__alpha=0.1, my_poly_engineering__degree=3;, score=0.688 total time=   0.0s\n",
      "[CV 3/5] END my_lasso__alpha=0.1, my_poly_engineering__degree=3;, score=-0.535 total time=   0.0s\n",
      "[CV 4/5] END my_lasso__alpha=0.1, my_poly_engineering__degree=3;, score=-0.312 total time=   0.0s\n",
      "[CV 5/5] END my_lasso__alpha=0.1, my_poly_engineering__degree=3;, score=-387.208 total time=   0.0s\n",
      "[CV 1/5] END my_lasso__alpha=0.1, my_poly_engineering__degree=4;, score=-0.730 total time=   0.0s\n",
      "[CV 2/5] END my_lasso__alpha=0.1, my_poly_engineering__degree=4;, score=0.567 total time=   0.0s\n",
      "[CV 3/5] END my_lasso__alpha=0.1, my_poly_engineering__degree=4;, score=0.072 total time=   0.0s\n",
      "[CV 4/5] END my_lasso__alpha=0.1, my_poly_engineering__degree=4;, score=-0.287 total time=   0.0s\n",
      "[CV 5/5] END my_lasso__alpha=0.1, my_poly_engineering__degree=4;, score=-1222.271 total time=   0.0s\n",
      "[CV 1/5] END my_lasso__alpha=0.1, my_poly_engineering__degree=5;, score=-0.190 total time=   0.0s\n",
      "[CV 2/5] END my_lasso__alpha=0.1, my_poly_engineering__degree=5;, score=0.551 total time=   0.0s\n",
      "[CV 3/5] END my_lasso__alpha=0.1, my_poly_engineering__degree=5;, score=0.524 total time=   0.0s\n",
      "[CV 4/5] END my_lasso__alpha=0.1, my_poly_engineering__degree=5;, score=-0.277 total time=   0.0s\n",
      "[CV 5/5] END my_lasso__alpha=0.1, my_poly_engineering__degree=5;, score=-5036.177 total time=   0.0s\n",
      "[CV 1/5] END my_lasso__alpha=1, my_poly_engineering__degree=1;, score=-3.365 total time=   0.0s\n",
      "[CV 2/5] END my_lasso__alpha=1, my_poly_engineering__degree=1;, score=-1.713 total time=   0.0s\n",
      "[CV 3/5] END my_lasso__alpha=1, my_poly_engineering__degree=1;, score=-94.270 total time=   0.0s\n",
      "[CV 4/5] END my_lasso__alpha=1, my_poly_engineering__degree=1;, score=-1.543 total time=   0.0s\n",
      "[CV 5/5] END my_lasso__alpha=1, my_poly_engineering__degree=1;, score=-887.607 total time=   0.0s\n",
      "[CV 1/5] END my_lasso__alpha=1, my_poly_engineering__degree=2;, score=-5.657 total time=   0.0s\n",
      "[CV 2/5] END my_lasso__alpha=1, my_poly_engineering__degree=2;, score=0.722 total time=   0.0s\n",
      "[CV 3/5] END my_lasso__alpha=1, my_poly_engineering__degree=2;, score=-10.038 total time=   0.0s\n",
      "[CV 4/5] END my_lasso__alpha=1, my_poly_engineering__degree=2;, score=-0.492 total time=   0.0s\n",
      "[CV 5/5] END my_lasso__alpha=1, my_poly_engineering__degree=2;, score=-16.245 total time=   0.0s\n",
      "[CV 1/5] END my_lasso__alpha=1, my_poly_engineering__degree=3;, score=-1.758 total time=   0.0s\n",
      "[CV 2/5] END my_lasso__alpha=1, my_poly_engineering__degree=3;, score=-1.630 total time=   0.0s\n",
      "[CV 3/5] END my_lasso__alpha=1, my_poly_engineering__degree=3;, score=-2.661 total time=   0.0s\n",
      "[CV 4/5] END my_lasso__alpha=1, my_poly_engineering__degree=3;, score=-2.282 total time=   0.0s\n",
      "[CV 5/5] END my_lasso__alpha=1, my_poly_engineering__degree=3;, score=-3756.882 total time=   0.0s\n",
      "[CV 1/5] END my_lasso__alpha=1, my_poly_engineering__degree=4;, score=-0.835 total time=   0.0s\n",
      "[CV 2/5] END my_lasso__alpha=1, my_poly_engineering__degree=4;, score=0.571 total time=   0.0s\n",
      "[CV 3/5] END my_lasso__alpha=1, my_poly_engineering__degree=4;, score=-3.432 total time=   0.0s\n",
      "[CV 4/5] END my_lasso__alpha=1, my_poly_engineering__degree=4;, score=0.020 total time=   0.0s\n",
      "[CV 5/5] END my_lasso__alpha=1, my_poly_engineering__degree=4;, score=-14.498 total time=   0.0s\n",
      "[CV 1/5] END my_lasso__alpha=1, my_poly_engineering__degree=5;, score=-0.316 total time=   0.0s\n",
      "[CV 2/5] END my_lasso__alpha=1, my_poly_engineering__degree=5;, score=0.531 total time=   0.0s\n",
      "[CV 3/5] END my_lasso__alpha=1, my_poly_engineering__degree=5;, score=-10.339 total time=   0.0s\n",
      "[CV 4/5] END my_lasso__alpha=1, my_poly_engineering__degree=5;, score=0.028 total time=   0.0s\n",
      "[CV 5/5] END my_lasso__alpha=1, my_poly_engineering__degree=5;, score=-51.583 total time=   0.0s\n",
      "[CV 1/5] END my_lasso__alpha=10, my_poly_engineering__degree=1;, score=-10.840 total time=   0.0s\n",
      "[CV 2/5] END my_lasso__alpha=10, my_poly_engineering__degree=1;, score=-0.494 total time=   0.0s\n",
      "[CV 3/5] END my_lasso__alpha=10, my_poly_engineering__degree=1;, score=-127.002 total time=   0.0s\n",
      "[CV 4/5] END my_lasso__alpha=10, my_poly_engineering__degree=1;, score=-3.442 total time=   0.0s\n",
      "[CV 5/5] END my_lasso__alpha=10, my_poly_engineering__degree=1;, score=-27.296 total time=   0.0s\n",
      "[CV 1/5] END my_lasso__alpha=10, my_poly_engineering__degree=2;, score=-5.717 total time=   0.0s\n",
      "[CV 2/5] END my_lasso__alpha=10, my_poly_engineering__degree=2;, score=-4.880 total time=   0.0s\n",
      "[CV 3/5] END my_lasso__alpha=10, my_poly_engineering__degree=2;, score=-238.011 total time=   0.0s\n",
      "[CV 4/5] END my_lasso__alpha=10, my_poly_engineering__degree=2;, score=-3.639 total time=   0.0s\n",
      "[CV 5/5] END my_lasso__alpha=10, my_poly_engineering__degree=2;, score=-2626.136 total time=   0.0s\n",
      "[CV 1/5] END my_lasso__alpha=10, my_poly_engineering__degree=3;, score=-2.348 total time=   0.0s\n",
      "[CV 2/5] END my_lasso__alpha=10, my_poly_engineering__degree=3;, score=-1.684 total time=   0.0s\n",
      "[CV 3/5] END my_lasso__alpha=10, my_poly_engineering__degree=3;, score=-4.943 total time=   0.0s\n",
      "[CV 4/5] END my_lasso__alpha=10, my_poly_engineering__degree=3;, score=-2.448 total time=   0.0s\n",
      "[CV 5/5] END my_lasso__alpha=10, my_poly_engineering__degree=3;, score=-2744.129 total time=   0.0s\n",
      "[CV 1/5] END my_lasso__alpha=10, my_poly_engineering__degree=4;, score=-3.755 total time=   0.0s\n",
      "[CV 2/5] END my_lasso__alpha=10, my_poly_engineering__degree=4;, score=-0.203 total time=   0.0s\n",
      "[CV 3/5] END my_lasso__alpha=10, my_poly_engineering__degree=4;, score=-0.487 total time=   0.0s\n",
      "[CV 4/5] END my_lasso__alpha=10, my_poly_engineering__degree=4;, score=-0.303 total time=   0.0s\n",
      "[CV 5/5] END my_lasso__alpha=10, my_poly_engineering__degree=4;, score=-3931.319 total time=   0.0s\n",
      "[CV 1/5] END my_lasso__alpha=10, my_poly_engineering__degree=5;, score=-3.009 total time=   0.0s\n",
      "[CV 2/5] END my_lasso__alpha=10, my_poly_engineering__degree=5;, score=0.146 total time=   0.0s\n",
      "[CV 3/5] END my_lasso__alpha=10, my_poly_engineering__degree=5;, score=-5.125 total time=   0.0s\n",
      "[CV 4/5] END my_lasso__alpha=10, my_poly_engineering__degree=5;, score=0.105 total time=   0.0s\n",
      "[CV 5/5] END my_lasso__alpha=10, my_poly_engineering__degree=5;, score=-412.667 total time=   0.0s\n"
     ]
    },
    {
     "name": "stderr",
     "output_type": "stream",
     "text": [
      "/usr/local/lib/python3.9/dist-packages/sklearn/linear_model/_coordinate_descent.py:647: ConvergenceWarning: Objective did not converge. You might want to increase the number of iterations, check the scale of the features or consider increasing regularisation. Duality gap: 3.213e-01, tolerance: 6.977e-04\n",
      "  model = cd_fast.enet_coordinate_descent(\n",
      "/usr/local/lib/python3.9/dist-packages/sklearn/linear_model/_coordinate_descent.py:647: ConvergenceWarning: Objective did not converge. You might want to increase the number of iterations, check the scale of the features or consider increasing regularisation. Duality gap: 1.204e-01, tolerance: 4.263e-03\n",
      "  model = cd_fast.enet_coordinate_descent(\n",
      "/usr/local/lib/python3.9/dist-packages/sklearn/linear_model/_coordinate_descent.py:647: ConvergenceWarning: Objective did not converge. You might want to increase the number of iterations, check the scale of the features or consider increasing regularisation. Duality gap: 8.110e-03, tolerance: 3.703e-03\n",
      "  model = cd_fast.enet_coordinate_descent(\n",
      "/usr/local/lib/python3.9/dist-packages/sklearn/linear_model/_coordinate_descent.py:647: ConvergenceWarning: Objective did not converge. You might want to increase the number of iterations, check the scale of the features or consider increasing regularisation. Duality gap: 3.163e-01, tolerance: 6.977e-04\n",
      "  model = cd_fast.enet_coordinate_descent(\n",
      "/usr/local/lib/python3.9/dist-packages/sklearn/linear_model/_coordinate_descent.py:647: ConvergenceWarning: Objective did not converge. You might want to increase the number of iterations, check the scale of the features or consider increasing regularisation. Duality gap: 4.080e-01, tolerance: 4.263e-03\n",
      "  model = cd_fast.enet_coordinate_descent(\n",
      "/usr/local/lib/python3.9/dist-packages/sklearn/linear_model/_coordinate_descent.py:647: ConvergenceWarning: Objective did not converge. You might want to increase the number of iterations, check the scale of the features or consider increasing regularisation. Duality gap: 5.123e-01, tolerance: 3.988e-03\n",
      "  model = cd_fast.enet_coordinate_descent(\n",
      "/usr/local/lib/python3.9/dist-packages/sklearn/linear_model/_coordinate_descent.py:647: ConvergenceWarning: Objective did not converge. You might want to increase the number of iterations, check the scale of the features or consider increasing regularisation. Duality gap: 2.655e-01, tolerance: 3.703e-03\n",
      "  model = cd_fast.enet_coordinate_descent(\n",
      "/usr/local/lib/python3.9/dist-packages/sklearn/linear_model/_coordinate_descent.py:647: ConvergenceWarning: Objective did not converge. You might want to increase the number of iterations, check the scale of the features or consider increasing regularisation. Duality gap: 3.614e-01, tolerance: 3.664e-03\n",
      "  model = cd_fast.enet_coordinate_descent(\n",
      "/usr/local/lib/python3.9/dist-packages/sklearn/linear_model/_coordinate_descent.py:647: ConvergenceWarning: Objective did not converge. You might want to increase the number of iterations, check the scale of the features or consider increasing regularisation. Duality gap: 3.064e-01, tolerance: 6.977e-04\n",
      "  model = cd_fast.enet_coordinate_descent(\n",
      "/usr/local/lib/python3.9/dist-packages/sklearn/linear_model/_coordinate_descent.py:647: ConvergenceWarning: Objective did not converge. You might want to increase the number of iterations, check the scale of the features or consider increasing regularisation. Duality gap: 4.063e-01, tolerance: 4.263e-03\n",
      "  model = cd_fast.enet_coordinate_descent(\n",
      "/usr/local/lib/python3.9/dist-packages/sklearn/linear_model/_coordinate_descent.py:647: ConvergenceWarning: Objective did not converge. You might want to increase the number of iterations, check the scale of the features or consider increasing regularisation. Duality gap: 5.122e-01, tolerance: 3.988e-03\n",
      "  model = cd_fast.enet_coordinate_descent(\n",
      "/usr/local/lib/python3.9/dist-packages/sklearn/linear_model/_coordinate_descent.py:647: ConvergenceWarning: Objective did not converge. You might want to increase the number of iterations, check the scale of the features or consider increasing regularisation. Duality gap: 2.630e-01, tolerance: 3.703e-03\n",
      "  model = cd_fast.enet_coordinate_descent(\n",
      "/usr/local/lib/python3.9/dist-packages/sklearn/linear_model/_coordinate_descent.py:647: ConvergenceWarning: Objective did not converge. You might want to increase the number of iterations, check the scale of the features or consider increasing regularisation. Duality gap: 2.677e-01, tolerance: 3.664e-03\n",
      "  model = cd_fast.enet_coordinate_descent(\n",
      "/usr/local/lib/python3.9/dist-packages/sklearn/linear_model/_coordinate_descent.py:647: ConvergenceWarning: Objective did not converge. You might want to increase the number of iterations, check the scale of the features or consider increasing regularisation. Duality gap: 3.104e-01, tolerance: 6.977e-04\n",
      "  model = cd_fast.enet_coordinate_descent(\n",
      "/usr/local/lib/python3.9/dist-packages/sklearn/linear_model/_coordinate_descent.py:647: ConvergenceWarning: Objective did not converge. You might want to increase the number of iterations, check the scale of the features or consider increasing regularisation. Duality gap: 7.586e-03, tolerance: 4.263e-03\n",
      "  model = cd_fast.enet_coordinate_descent(\n",
      "/usr/local/lib/python3.9/dist-packages/sklearn/linear_model/_coordinate_descent.py:647: ConvergenceWarning: Objective did not converge. You might want to increase the number of iterations, check the scale of the features or consider increasing regularisation. Duality gap: 3.378e-01, tolerance: 6.977e-04\n",
      "  model = cd_fast.enet_coordinate_descent(\n",
      "/usr/local/lib/python3.9/dist-packages/sklearn/linear_model/_coordinate_descent.py:647: ConvergenceWarning: Objective did not converge. You might want to increase the number of iterations, check the scale of the features or consider increasing regularisation. Duality gap: 4.302e-01, tolerance: 4.263e-03\n",
      "  model = cd_fast.enet_coordinate_descent(\n",
      "/usr/local/lib/python3.9/dist-packages/sklearn/linear_model/_coordinate_descent.py:647: ConvergenceWarning: Objective did not converge. You might want to increase the number of iterations, check the scale of the features or consider increasing regularisation. Duality gap: 5.416e-01, tolerance: 3.988e-03\n",
      "  model = cd_fast.enet_coordinate_descent(\n",
      "/usr/local/lib/python3.9/dist-packages/sklearn/linear_model/_coordinate_descent.py:647: ConvergenceWarning: Objective did not converge. You might want to increase the number of iterations, check the scale of the features or consider increasing regularisation. Duality gap: 2.962e-01, tolerance: 3.703e-03\n",
      "  model = cd_fast.enet_coordinate_descent(\n",
      "/usr/local/lib/python3.9/dist-packages/sklearn/linear_model/_coordinate_descent.py:647: ConvergenceWarning: Objective did not converge. You might want to increase the number of iterations, check the scale of the features or consider increasing regularisation. Duality gap: 3.996e-01, tolerance: 3.664e-03\n",
      "  model = cd_fast.enet_coordinate_descent(\n",
      "/usr/local/lib/python3.9/dist-packages/sklearn/linear_model/_coordinate_descent.py:647: ConvergenceWarning: Objective did not converge. You might want to increase the number of iterations, check the scale of the features or consider increasing regularisation. Duality gap: 3.204e-01, tolerance: 6.977e-04\n",
      "  model = cd_fast.enet_coordinate_descent(\n",
      "/usr/local/lib/python3.9/dist-packages/sklearn/linear_model/_coordinate_descent.py:647: ConvergenceWarning: Objective did not converge. You might want to increase the number of iterations, check the scale of the features or consider increasing regularisation. Duality gap: 4.342e-01, tolerance: 4.263e-03\n",
      "  model = cd_fast.enet_coordinate_descent(\n",
      "/usr/local/lib/python3.9/dist-packages/sklearn/linear_model/_coordinate_descent.py:647: ConvergenceWarning: Objective did not converge. You might want to increase the number of iterations, check the scale of the features or consider increasing regularisation. Duality gap: 5.421e-01, tolerance: 3.988e-03\n",
      "  model = cd_fast.enet_coordinate_descent(\n",
      "/usr/local/lib/python3.9/dist-packages/sklearn/linear_model/_coordinate_descent.py:647: ConvergenceWarning: Objective did not converge. You might want to increase the number of iterations, check the scale of the features or consider increasing regularisation. Duality gap: 2.945e-01, tolerance: 3.703e-03\n",
      "  model = cd_fast.enet_coordinate_descent(\n",
      "/usr/local/lib/python3.9/dist-packages/sklearn/linear_model/_coordinate_descent.py:647: ConvergenceWarning: Objective did not converge. You might want to increase the number of iterations, check the scale of the features or consider increasing regularisation. Duality gap: 3.102e-01, tolerance: 3.664e-03\n",
      "  model = cd_fast.enet_coordinate_descent(\n",
      "/usr/local/lib/python3.9/dist-packages/sklearn/linear_model/_coordinate_descent.py:647: ConvergenceWarning: Objective did not converge. You might want to increase the number of iterations, check the scale of the features or consider increasing regularisation. Duality gap: 3.442e-01, tolerance: 6.977e-04\n",
      "  model = cd_fast.enet_coordinate_descent(\n",
      "/usr/local/lib/python3.9/dist-packages/sklearn/linear_model/_coordinate_descent.py:647: ConvergenceWarning: Objective did not converge. You might want to increase the number of iterations, check the scale of the features or consider increasing regularisation. Duality gap: 6.813e-01, tolerance: 4.263e-03\n",
      "  model = cd_fast.enet_coordinate_descent(\n",
      "/usr/local/lib/python3.9/dist-packages/sklearn/linear_model/_coordinate_descent.py:647: ConvergenceWarning: Objective did not converge. You might want to increase the number of iterations, check the scale of the features or consider increasing regularisation. Duality gap: 7.890e-01, tolerance: 3.988e-03\n",
      "  model = cd_fast.enet_coordinate_descent(\n",
      "/usr/local/lib/python3.9/dist-packages/sklearn/linear_model/_coordinate_descent.py:647: ConvergenceWarning: Objective did not converge. You might want to increase the number of iterations, check the scale of the features or consider increasing regularisation. Duality gap: 5.476e-01, tolerance: 3.703e-03\n",
      "  model = cd_fast.enet_coordinate_descent(\n",
      "/usr/local/lib/python3.9/dist-packages/sklearn/linear_model/_coordinate_descent.py:647: ConvergenceWarning: Objective did not converge. You might want to increase the number of iterations, check the scale of the features or consider increasing regularisation. Duality gap: 7.191e-01, tolerance: 3.664e-03\n",
      "  model = cd_fast.enet_coordinate_descent(\n",
      "/usr/local/lib/python3.9/dist-packages/sklearn/linear_model/_coordinate_descent.py:647: ConvergenceWarning: Objective did not converge. You might want to increase the number of iterations, check the scale of the features or consider increasing regularisation. Duality gap: 2.969e-01, tolerance: 6.977e-04\n",
      "  model = cd_fast.enet_coordinate_descent(\n",
      "/usr/local/lib/python3.9/dist-packages/sklearn/linear_model/_coordinate_descent.py:647: ConvergenceWarning: Objective did not converge. You might want to increase the number of iterations, check the scale of the features or consider increasing regularisation. Duality gap: 6.806e-01, tolerance: 4.263e-03\n",
      "  model = cd_fast.enet_coordinate_descent(\n",
      "/usr/local/lib/python3.9/dist-packages/sklearn/linear_model/_coordinate_descent.py:647: ConvergenceWarning: Objective did not converge. You might want to increase the number of iterations, check the scale of the features or consider increasing regularisation. Duality gap: 8.080e-01, tolerance: 3.988e-03\n",
      "  model = cd_fast.enet_coordinate_descent(\n",
      "/usr/local/lib/python3.9/dist-packages/sklearn/linear_model/_coordinate_descent.py:647: ConvergenceWarning: Objective did not converge. You might want to increase the number of iterations, check the scale of the features or consider increasing regularisation. Duality gap: 5.748e-01, tolerance: 3.703e-03\n",
      "  model = cd_fast.enet_coordinate_descent(\n",
      "/usr/local/lib/python3.9/dist-packages/sklearn/linear_model/_coordinate_descent.py:647: ConvergenceWarning: Objective did not converge. You might want to increase the number of iterations, check the scale of the features or consider increasing regularisation. Duality gap: 6.762e-01, tolerance: 3.664e-03\n",
      "  model = cd_fast.enet_coordinate_descent(\n",
      "/usr/local/lib/python3.9/dist-packages/sklearn/linear_model/_coordinate_descent.py:647: ConvergenceWarning: Objective did not converge. You might want to increase the number of iterations, check the scale of the features or consider increasing regularisation. Duality gap: 3.871e-01, tolerance: 6.977e-04\n",
      "  model = cd_fast.enet_coordinate_descent(\n",
      "/usr/local/lib/python3.9/dist-packages/sklearn/linear_model/_coordinate_descent.py:647: ConvergenceWarning: Objective did not converge. You might want to increase the number of iterations, check the scale of the features or consider increasing regularisation. Duality gap: 1.159e+00, tolerance: 4.263e-03\n",
      "  model = cd_fast.enet_coordinate_descent(\n",
      "/usr/local/lib/python3.9/dist-packages/sklearn/linear_model/_coordinate_descent.py:647: ConvergenceWarning: Objective did not converge. You might want to increase the number of iterations, check the scale of the features or consider increasing regularisation. Duality gap: 1.279e+00, tolerance: 3.988e-03\n",
      "  model = cd_fast.enet_coordinate_descent(\n",
      "/usr/local/lib/python3.9/dist-packages/sklearn/linear_model/_coordinate_descent.py:647: ConvergenceWarning: Objective did not converge. You might want to increase the number of iterations, check the scale of the features or consider increasing regularisation. Duality gap: 1.139e+00, tolerance: 3.703e-03\n",
      "  model = cd_fast.enet_coordinate_descent(\n",
      "/usr/local/lib/python3.9/dist-packages/sklearn/linear_model/_coordinate_descent.py:647: ConvergenceWarning: Objective did not converge. You might want to increase the number of iterations, check the scale of the features or consider increasing regularisation. Duality gap: 1.091e+00, tolerance: 3.664e-03\n",
      "  model = cd_fast.enet_coordinate_descent(\n",
      "/usr/local/lib/python3.9/dist-packages/sklearn/linear_model/_coordinate_descent.py:647: ConvergenceWarning: Objective did not converge. You might want to increase the number of iterations, check the scale of the features or consider increasing regularisation. Duality gap: 3.622e-01, tolerance: 6.977e-04\n",
      "  model = cd_fast.enet_coordinate_descent(\n",
      "/usr/local/lib/python3.9/dist-packages/sklearn/linear_model/_coordinate_descent.py:647: ConvergenceWarning: Objective did not converge. You might want to increase the number of iterations, check the scale of the features or consider increasing regularisation. Duality gap: 1.205e+00, tolerance: 4.263e-03\n",
      "  model = cd_fast.enet_coordinate_descent(\n",
      "/usr/local/lib/python3.9/dist-packages/sklearn/linear_model/_coordinate_descent.py:647: ConvergenceWarning: Objective did not converge. You might want to increase the number of iterations, check the scale of the features or consider increasing regularisation. Duality gap: 1.335e+00, tolerance: 3.988e-03\n",
      "  model = cd_fast.enet_coordinate_descent(\n",
      "/usr/local/lib/python3.9/dist-packages/sklearn/linear_model/_coordinate_descent.py:647: ConvergenceWarning: Objective did not converge. You might want to increase the number of iterations, check the scale of the features or consider increasing regularisation. Duality gap: 1.212e+00, tolerance: 3.703e-03\n",
      "  model = cd_fast.enet_coordinate_descent(\n",
      "/usr/local/lib/python3.9/dist-packages/sklearn/linear_model/_coordinate_descent.py:647: ConvergenceWarning: Objective did not converge. You might want to increase the number of iterations, check the scale of the features or consider increasing regularisation. Duality gap: 1.319e+00, tolerance: 3.664e-03\n",
      "  model = cd_fast.enet_coordinate_descent(\n",
      "/usr/local/lib/python3.9/dist-packages/sklearn/linear_model/_coordinate_descent.py:647: ConvergenceWarning: Objective did not converge. You might want to increase the number of iterations, check the scale of the features or consider increasing regularisation. Duality gap: 1.529e+00, tolerance: 4.263e-03\n",
      "  model = cd_fast.enet_coordinate_descent(\n",
      "/usr/local/lib/python3.9/dist-packages/sklearn/linear_model/_coordinate_descent.py:647: ConvergenceWarning: Objective did not converge. You might want to increase the number of iterations, check the scale of the features or consider increasing regularisation. Duality gap: 1.636e+00, tolerance: 3.988e-03\n",
      "  model = cd_fast.enet_coordinate_descent(\n",
      "/usr/local/lib/python3.9/dist-packages/sklearn/linear_model/_coordinate_descent.py:647: ConvergenceWarning: Objective did not converge. You might want to increase the number of iterations, check the scale of the features or consider increasing regularisation. Duality gap: 1.640e+00, tolerance: 3.703e-03\n",
      "  model = cd_fast.enet_coordinate_descent(\n",
      "/usr/local/lib/python3.9/dist-packages/sklearn/linear_model/_coordinate_descent.py:647: ConvergenceWarning: Objective did not converge. You might want to increase the number of iterations, check the scale of the features or consider increasing regularisation. Duality gap: 6.523e-02, tolerance: 3.664e-03\n",
      "  model = cd_fast.enet_coordinate_descent(\n",
      "/usr/local/lib/python3.9/dist-packages/sklearn/linear_model/_coordinate_descent.py:647: ConvergenceWarning: Objective did not converge. You might want to increase the number of iterations, check the scale of the features or consider increasing regularisation. Duality gap: 4.844e-01, tolerance: 6.977e-04\n",
      "  model = cd_fast.enet_coordinate_descent(\n",
      "/usr/local/lib/python3.9/dist-packages/sklearn/linear_model/_coordinate_descent.py:647: ConvergenceWarning: Objective did not converge. You might want to increase the number of iterations, check the scale of the features or consider increasing regularisation. Duality gap: 2.145e+00, tolerance: 4.263e-03\n",
      "  model = cd_fast.enet_coordinate_descent(\n",
      "/usr/local/lib/python3.9/dist-packages/sklearn/linear_model/_coordinate_descent.py:647: ConvergenceWarning: Objective did not converge. You might want to increase the number of iterations, check the scale of the features or consider increasing regularisation. Duality gap: 2.488e+00, tolerance: 3.988e-03\n",
      "  model = cd_fast.enet_coordinate_descent(\n",
      "/usr/local/lib/python3.9/dist-packages/sklearn/linear_model/_coordinate_descent.py:647: ConvergenceWarning: Objective did not converge. You might want to increase the number of iterations, check the scale of the features or consider increasing regularisation. Duality gap: 2.351e+00, tolerance: 3.703e-03\n",
      "  model = cd_fast.enet_coordinate_descent(\n",
      "/usr/local/lib/python3.9/dist-packages/sklearn/linear_model/_coordinate_descent.py:647: ConvergenceWarning: Objective did not converge. You might want to increase the number of iterations, check the scale of the features or consider increasing regularisation. Duality gap: 2.315e+00, tolerance: 3.664e-03\n",
      "  model = cd_fast.enet_coordinate_descent(\n",
      "/usr/local/lib/python3.9/dist-packages/sklearn/linear_model/_coordinate_descent.py:647: ConvergenceWarning: Objective did not converge. You might want to increase the number of iterations, check the scale of the features or consider increasing regularisation. Duality gap: 1.303e+00, tolerance: 4.352e-03\n",
      "  model = cd_fast.enet_coordinate_descent(\n"
     ]
    },
    {
     "data": {
      "text/plain": [
       "GridSearchCV(estimator=Pipeline(steps=[('my_poly_engineering',\n",
       "                                        PolynomialFeatures()),\n",
       "                                       ['my_lasso', Lasso(max_iter=5000)]]),\n",
       "             param_grid={'my_lasso__alpha': [0.001, 0.01, 0.1, 1, 10],\n",
       "                         'my_poly_engineering__degree': [1, 2, 3, 4, 5]},\n",
       "             verbose=3)"
      ]
     },
     "execution_count": 17,
     "metadata": {},
     "output_type": "execute_result"
    }
   ],
   "source": [
    "gridsearch.fit(X,y)"
   ]
  },
  {
   "cell_type": "markdown",
   "id": "5bf9a117",
   "metadata": {},
   "source": [
    "Get best hyperparameters"
   ]
  },
  {
   "cell_type": "code",
   "execution_count": 18,
   "id": "e2ad1e42",
   "metadata": {},
   "outputs": [
    {
     "data": {
      "text/plain": [
       "{'my_lasso__alpha': 1, 'my_poly_engineering__degree': 4}"
      ]
     },
     "execution_count": 18,
     "metadata": {},
     "output_type": "execute_result"
    }
   ],
   "source": [
    "gridsearch.best_params_"
   ]
  },
  {
   "cell_type": "markdown",
   "id": "e87a5d79",
   "metadata": {},
   "source": [
    "Get best score from the estimator"
   ]
  },
  {
   "cell_type": "code",
   "execution_count": 19,
   "id": "8725f993",
   "metadata": {},
   "outputs": [
    {
     "data": {
      "text/plain": [
       "0.9457966389120683"
      ]
     },
     "execution_count": 19,
     "metadata": {},
     "output_type": "execute_result"
    }
   ],
   "source": [
    "gridsearch.best_estimator_.score(X,y)"
   ]
  },
  {
   "cell_type": "markdown",
   "id": "3b4f8c44",
   "metadata": {},
   "source": [
    "Use best hyperparameters to get a prediction"
   ]
  },
  {
   "cell_type": "code",
   "execution_count": 20,
   "id": "ecb9cf77",
   "metadata": {},
   "outputs": [],
   "source": [
    "y_pred = gridsearch.best_estimator_.predict(X)"
   ]
  },
  {
   "cell_type": "code",
   "execution_count": 21,
   "id": "35edc7b5",
   "metadata": {},
   "outputs": [
    {
     "data": {
      "text/plain": [
       "[<matplotlib.lines.Line2D at 0x7f8857872c10>]"
      ]
     },
     "execution_count": 21,
     "metadata": {},
     "output_type": "execute_result"
    },
    {
     "data": {
      "image/png": "[encoded data removed]",
      "text/plain": [
       "<Figure size 432x288 with 1 Axes>"
      ]
     },
     "metadata": {
      "needs_background": "light"
     },
     "output_type": "display_data"
    }
   ],
   "source": [
    "plt.scatter(X,y)\n",
    "plt.plot(X,y_pred)"
   ]
  },
  {
   "cell_type": "markdown",
   "id": "c2df7ee9",
   "metadata": {},
   "source": [
    "Get DataFrame of the different runs, the hyperparameters, and the score"
   ]
  },
  {
   "cell_type": "code",
   "execution_count": 22,
   "id": "30da2ab3",
   "metadata": {},
   "outputs": [
    {
     "data": {
      "text/html": [
       "<div>\n",
       "<style scoped>\n",
       "    .dataframe tbody tr th:only-of-type {\n",
       "        vertical-align: middle;\n",
       "    }\n",
       "\n",
       "    .dataframe tbody tr th {\n",
       "        vertical-align: top;\n",
       "    }\n",
       "\n",
       "    .dataframe thead th {\n",
       "        text-align: right;\n",
       "    }\n",
       "</style>\n",
       "<table border=\"1\" class=\"dataframe\">\n",
       "  <thead>\n",
       "    <tr style=\"text-align: right;\">\n",
       "      <th></th>\n",
       "      <th>mean_fit_time</th>\n",
       "      <th>std_fit_time</th>\n",
       "      <th>mean_score_time</th>\n",
       "      <th>std_score_time</th>\n",
       "      <th>param_my_lasso__alpha</th>\n",
       "      <th>param_my_poly_engineering__degree</th>\n",
       "      <th>params</th>\n",
       "      <th>split0_test_score</th>\n",
       "      <th>split1_test_score</th>\n",
       "      <th>split2_test_score</th>\n",
       "      <th>split3_test_score</th>\n",
       "      <th>split4_test_score</th>\n",
       "      <th>mean_test_score</th>\n",
       "      <th>std_test_score</th>\n",
       "      <th>rank_test_score</th>\n",
       "    </tr>\n",
       "  </thead>\n",
       "  <tbody>\n",
       "    <tr>\n",
       "      <th>0</th>\n",
       "      <td>0.001064</td>\n",
       "      <td>0.000200</td>\n",
       "      <td>0.000481</td>\n",
       "      <td>0.000205</td>\n",
       "      <td>0.001</td>\n",
       "      <td>1</td>\n",
       "      <td>{'my_lasso__alpha': 0.001, 'my_poly_engineerin...</td>\n",
       "      <td>-2.760832</td>\n",
       "      <td>-1.881563</td>\n",
       "      <td>-91.027203</td>\n",
       "      <td>-1.517913</td>\n",
       "      <td>-1059.466937</td>\n",
       "      <td>-231.330890</td>\n",
       "      <td>415.499629</td>\n",
       "      <td>15</td>\n",
       "    </tr>\n",
       "    <tr>\n",
       "      <th>1</th>\n",
       "      <td>0.000481</td>\n",
       "      <td>0.000021</td>\n",
       "      <td>0.000213</td>\n",
       "      <td>0.000005</td>\n",
       "      <td>0.001</td>\n",
       "      <td>2</td>\n",
       "      <td>{'my_lasso__alpha': 0.001, 'my_poly_engineerin...</td>\n",
       "      <td>0.794717</td>\n",
       "      <td>0.806458</td>\n",
       "      <td>0.103246</td>\n",
       "      <td>-0.354808</td>\n",
       "      <td>-177.105602</td>\n",
       "      <td>-35.151198</td>\n",
       "      <td>70.978559</td>\n",
       "      <td>9</td>\n",
       "    </tr>\n",
       "    <tr>\n",
       "      <th>2</th>\n",
       "      <td>0.001529</td>\n",
       "      <td>0.000408</td>\n",
       "      <td>0.000312</td>\n",
       "      <td>0.000133</td>\n",
       "      <td>0.001</td>\n",
       "      <td>3</td>\n",
       "      <td>{'my_lasso__alpha': 0.001, 'my_poly_engineerin...</td>\n",
       "      <td>0.818609</td>\n",
       "      <td>0.439338</td>\n",
       "      <td>-0.633969</td>\n",
       "      <td>-0.349954</td>\n",
       "      <td>-155.181242</td>\n",
       "      <td>-30.981444</td>\n",
       "      <td>62.102103</td>\n",
       "      <td>5</td>\n",
       "    </tr>\n",
       "    <tr>\n",
       "      <th>3</th>\n",
       "      <td>0.001513</td>\n",
       "      <td>0.000054</td>\n",
       "      <td>0.000274</td>\n",
       "      <td>0.000050</td>\n",
       "      <td>0.001</td>\n",
       "      <td>4</td>\n",
       "      <td>{'my_lasso__alpha': 0.001, 'my_poly_engineerin...</td>\n",
       "      <td>0.769186</td>\n",
       "      <td>0.401892</td>\n",
       "      <td>-0.662379</td>\n",
       "      <td>-0.340469</td>\n",
       "      <td>-1822.554862</td>\n",
       "      <td>-364.477327</td>\n",
       "      <td>729.038946</td>\n",
       "      <td>18</td>\n",
       "    </tr>\n",
       "    <tr>\n",
       "      <th>4</th>\n",
       "      <td>0.001750</td>\n",
       "      <td>0.000078</td>\n",
       "      <td>0.000244</td>\n",
       "      <td>0.000019</td>\n",
       "      <td>0.001</td>\n",
       "      <td>5</td>\n",
       "      <td>{'my_lasso__alpha': 0.001, 'my_poly_engineerin...</td>\n",
       "      <td>0.858319</td>\n",
       "      <td>0.397540</td>\n",
       "      <td>-0.561089</td>\n",
       "      <td>-0.364750</td>\n",
       "      <td>-7773.274893</td>\n",
       "      <td>-1554.588975</td>\n",
       "      <td>3109.343002</td>\n",
       "      <td>25</td>\n",
       "    </tr>\n",
       "  </tbody>\n",
       "</table>\n",
       "</div>"
      ],
      "text/plain": [
       "   mean_fit_time  std_fit_time  mean_score_time  std_score_time  \\\n",
       "0       0.001064      0.000200         0.000481        0.000205   \n",
       "1       0.000481      0.000021         0.000213        0.000005   \n",
       "2       0.001529      0.000408         0.000312        0.000133   \n",
       "3       0.001513      0.000054         0.000274        0.000050   \n",
       "4       0.001750      0.000078         0.000244        0.000019   \n",
       "\n",
       "  param_my_lasso__alpha param_my_poly_engineering__degree  \\\n",
       "0                 0.001                                 1   \n",
       "1                 0.001                                 2   \n",
       "2                 0.001                                 3   \n",
       "3                 0.001                                 4   \n",
       "4                 0.001                                 5   \n",
       "\n",
       "                                              params  split0_test_score  \\\n",
       "0  {'my_lasso__alpha': 0.001, 'my_poly_engineerin...          -2.760832   \n",
       "1  {'my_lasso__alpha': 0.001, 'my_poly_engineerin...           0.794717   \n",
       "2  {'my_lasso__alpha': 0.001, 'my_poly_engineerin...           0.818609   \n",
       "3  {'my_lasso__alpha': 0.001, 'my_poly_engineerin...           0.769186   \n",
       "4  {'my_lasso__alpha': 0.001, 'my_poly_engineerin...           0.858319   \n",
       "\n",
       "   split1_test_score  split2_test_score  split3_test_score  split4_test_score  \\\n",
       "0          -1.881563         -91.027203          -1.517913       -1059.466937   \n",
       "1           0.806458           0.103246          -0.354808        -177.105602   \n",
       "2           0.439338          -0.633969          -0.349954        -155.181242   \n",
       "3           0.401892          -0.662379          -0.340469       -1822.554862   \n",
       "4           0.397540          -0.561089          -0.364750       -7773.274893   \n",
       "\n",
       "   mean_test_score  std_test_score  rank_test_score  \n",
       "0      -231.330890      415.499629               15  \n",
       "1       -35.151198       70.978559                9  \n",
       "2       -30.981444       62.102103                5  \n",
       "3      -364.477327      729.038946               18  \n",
       "4     -1554.588975     3109.343002               25  "
      ]
     },
     "execution_count": 22,
     "metadata": {},
     "output_type": "execute_result"
    }
   ],
   "source": [
    "import pandas as pd\n",
    "pd.DataFrame(gridsearch.cv_results_).head()"
   ]
  }
 ],
 "metadata": {
  "kernelspec": {
   "display_name": "Python 3 (ipykernel)",
   "language": "python",
   "name": "python3"
  },
  "language_info": {
   "codemirror_mode": {
    "name": "ipython",
    "version": 3
   },
   "file_extension": ".py",
   "mimetype": "text/x-python",
   "name": "python",
   "nbconvert_exporter": "python",
   "pygments_lexer": "ipython3",
   "version": "3.9.7"
  }
 },
 "nbformat": 4,
 "nbformat_minor": 5
}
