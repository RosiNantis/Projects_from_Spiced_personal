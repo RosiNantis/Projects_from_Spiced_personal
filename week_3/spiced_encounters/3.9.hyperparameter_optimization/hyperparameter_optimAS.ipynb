{
 "cells": [
  {
   "cell_type": "code",
   "execution_count": 29,
   "metadata": {},
   "outputs": [],
   "source": [
    "import numpy as np\n",
    "import matplotlib.pyplot as plt\n",
    "\n",
    "from sklearn.linear_model import Lasso \n",
    "from sklearn.pipeline import Pipeline\n",
    "from sklearn.model_selection import GridSearchCV\n",
    "from sklearn.preprocessing import PolynomialFeatures"
   ]
  },
  {
   "cell_type": "markdown",
   "metadata": {},
   "source": [
    "Create data based on $\\sqrt{x}$"
   ]
  },
  {
   "cell_type": "code",
   "execution_count": 30,
   "metadata": {},
   "outputs": [],
   "source": [
    "np.random.seed(13)"
   ]
  },
  {
   "cell_type": "code",
   "execution_count": 31,
   "metadata": {},
   "outputs": [],
   "source": [
    "X = np.arange(1, 60, 5)\n",
    "y = [np.sqrt(xi) + np.random.normal(0,0.5) for xi in X]"
   ]
  },
  {
   "cell_type": "code",
   "execution_count": 32,
   "metadata": {},
   "outputs": [
    {
     "data": {
      "text/plain": [
       "<matplotlib.collections.PathCollection at 0x7f84e5a3e250>"
      ]
     },
     "execution_count": 32,
     "metadata": {},
     "output_type": "execute_result"
    },
    {
     "data": {
      "image/png": "[encoded data removed]",
      "text/plain": [
       "<Figure size 432x288 with 1 Axes>"
      ]
     },
     "metadata": {
      "needs_background": "light"
     },
     "output_type": "display_data"
    }
   ],
   "source": [
    "plt.scatter( X, y)"
   ]
  },
  {
   "cell_type": "code",
   "execution_count": null,
   "metadata": {},
   "outputs": [],
   "source": []
  },
  {
   "cell_type": "code",
   "execution_count": 17,
   "metadata": {},
   "outputs": [
    {
     "name": "stdout",
     "output_type": "stream",
     "text": [
      "(12, 1)\n"
     ]
    }
   ],
   "source": [
    "X = X.reshape(-1,1)\n",
    "print(X.shape)"
   ]
  },
  {
   "cell_type": "markdown",
   "metadata": {},
   "source": [
    "$\\color{blue}{\\text{Pipeline advantages}}$ \n",
    "- Agregate funstions\n",
    "- Streamline functions\n",
    "- avoid repetition\n",
    "- Gridsearch on tranformers and estimators at once"
   ]
  },
  {
   "cell_type": "code",
   "execution_count": 18,
   "metadata": {},
   "outputs": [],
   "source": [
    "my_pipe = Pipeline([   # make_pipeline will name the features inside by itself while with Pipeline WE have to put names \n",
    "    ['my_poly_engineering', PolynomialFeatures(degree = 2)], \n",
    "    ['my_lasso', Lasso()]    # Regressor\n",
    "])"
   ]
  },
  {
   "cell_type": "code",
   "execution_count": 19,
   "metadata": {},
   "outputs": [
    {
     "data": {
      "text/plain": [
       "Pipeline(steps=[('my_poly_engineering', PolynomialFeatures()),\n",
       "                ['my_lasso', Lasso()]])"
      ]
     },
     "execution_count": 19,
     "metadata": {},
     "output_type": "execute_result"
    }
   ],
   "source": [
    "my_pipe.fit(X,y) # we have an estimator so we need to put also -y-"
   ]
  },
  {
   "cell_type": "code",
   "execution_count": 20,
   "metadata": {},
   "outputs": [
    {
     "data": {
      "text/plain": [
       "{'memory': None,\n",
       " 'steps': [('my_poly_engineering', PolynomialFeatures()),\n",
       "  ['my_lasso', Lasso()]],\n",
       " 'verbose': False,\n",
       " 'my_poly_engineering': PolynomialFeatures(),\n",
       " 'my_lasso': Lasso(),\n",
       " 'my_poly_engineering__degree': 2,\n",
       " 'my_poly_engineering__include_bias': True,\n",
       " 'my_poly_engineering__interaction_only': False,\n",
       " 'my_poly_engineering__order': 'C',\n",
       " 'my_lasso__alpha': 1.0,\n",
       " 'my_lasso__copy_X': True,\n",
       " 'my_lasso__fit_intercept': True,\n",
       " 'my_lasso__max_iter': 1000,\n",
       " 'my_lasso__normalize': 'deprecated',\n",
       " 'my_lasso__positive': False,\n",
       " 'my_lasso__precompute': False,\n",
       " 'my_lasso__random_state': None,\n",
       " 'my_lasso__selection': 'cyclic',\n",
       " 'my_lasso__tol': 0.0001,\n",
       " 'my_lasso__warm_start': False}"
      ]
     },
     "execution_count": 20,
     "metadata": {},
     "output_type": "execute_result"
    }
   ],
   "source": [
    "my_pipe.get_params()   # verbose : boolean and gives the degree of reporting of the function"
   ]
  },
  {
   "cell_type": "code",
   "execution_count": 21,
   "metadata": {},
   "outputs": [],
   "source": [
    "parameter_grid = {\n",
    "    'my_poly_engineering__degree' : [1,2,3,4,5], \n",
    "    'my_lasso__alpha' : [0.001, 0.01, 0.1 ,1, 10]  # strength of regularization\n",
    "}"
   ]
  },
  {
   "cell_type": "code",
   "execution_count": 22,
   "metadata": {},
   "outputs": [],
   "source": [
    "gridsearch = GridSearchCV(my_pipe,    # estimator is the pipeline\n",
    "                          parameter_grid, \n",
    "                          scoring= 'neg_mean_squared_error',  \n",
    "                          verbose = 4) "
   ]
  },
  {
   "cell_type": "code",
   "execution_count": 23,
   "metadata": {},
   "outputs": [
    {
     "name": "stdout",
     "output_type": "stream",
     "text": [
      "Fitting 5 folds for each of 25 candidates, totalling 125 fits\n",
      "[CV 1/5] END my_lasso__alpha=0.001, my_poly_engineering__degree=1;, score=-5.018 total time=   0.0s\n",
      "[CV 2/5] END my_lasso__alpha=0.001, my_poly_engineering__degree=1;, score=-0.759 total time=   0.0s\n",
      "[CV 3/5] END my_lasso__alpha=0.001, my_poly_engineering__degree=1;, score=-0.811 total time=   0.0s\n",
      "[CV 4/5] END my_lasso__alpha=0.001, my_poly_engineering__degree=1;, score=-0.491 total time=   0.0s\n",
      "[CV 5/5] END my_lasso__alpha=0.001, my_poly_engineering__degree=1;, score=-2.955 total time=   0.0s\n",
      "[CV 1/5] END my_lasso__alpha=0.001, my_poly_engineering__degree=2;, score=-0.274 total time=   0.0s\n",
      "[CV 2/5] END my_lasso__alpha=0.001, my_poly_engineering__degree=2;, score=-0.051 total time=   0.0s\n",
      "[CV 3/5] END my_lasso__alpha=0.001, my_poly_engineering__degree=2;, score=-0.008 total time=   0.0s\n",
      "[CV 4/5] END my_lasso__alpha=0.001, my_poly_engineering__degree=2;, score=-0.264 total time=   0.0s\n",
      "[CV 5/5] END my_lasso__alpha=0.001, my_poly_engineering__degree=2;, score=-0.496 total time=   0.0s\n",
      "[CV 1/5] END my_lasso__alpha=0.001, my_poly_engineering__degree=3;, score=-0.268 total time=   0.0s\n",
      "[CV 2/5] END my_lasso__alpha=0.001, my_poly_engineering__degree=3;, score=-0.105 total time=   0.0s\n",
      "[CV 3/5] END my_lasso__alpha=0.001, my_poly_engineering__degree=3;, score=-0.013 total time=   0.0s\n",
      "[CV 4/5] END my_lasso__alpha=0.001, my_poly_engineering__degree=3;, score=-0.257 total time=   0.0s\n",
      "[CV 5/5] END my_lasso__alpha=0.001, my_poly_engineering__degree=3;, score=-0.478 total time=   0.0s\n",
      "[CV 1/5] END my_lasso__alpha=0.001, my_poly_engineering__degree=4;, score=-0.152 total time=   0.0s\n",
      "[CV 2/5] END my_lasso__alpha=0.001, my_poly_engineering__degree=4;, score=-0.153 total time=   0.0s\n",
      "[CV 3/5] END my_lasso__alpha=0.001, my_poly_engineering__degree=4;, score=-0.010 total time=   0.0s\n",
      "[CV 4/5] END my_lasso__alpha=0.001, my_poly_engineering__degree=4;, score=-0.257 total time=   0.0s\n",
      "[CV 5/5] END my_lasso__alpha=0.001, my_poly_engineering__degree=4;, score=-1.707 total time=   0.0s\n",
      "[CV 1/5] END my_lasso__alpha=0.001, my_poly_engineering__degree=5;, score=-0.208 total time=   0.0s\n",
      "[CV 2/5] END my_lasso__alpha=0.001, my_poly_engineering__degree=5;, score=-0.160 total time=   0.0s\n",
      "[CV 3/5] END my_lasso__alpha=0.001, my_poly_engineering__degree=5;, score=-0.007 total time=   0.0s\n",
      "[CV 4/5] END my_lasso__alpha=0.001, my_poly_engineering__degree=5;, score=-0.254 total time=   0.0s\n",
      "[CV 5/5] END my_lasso__alpha=0.001, my_poly_engineering__degree=5;, score=-5.983 total time=   0.0s\n",
      "[CV 1/5] END my_lasso__alpha=0.01, my_poly_engineering__degree=1;, score=-5.025 total time=   0.0s\n",
      "[CV 2/5] END my_lasso__alpha=0.01, my_poly_engineering__degree=1;, score=-0.758 total time=   0.0s\n",
      "[CV 3/5] END my_lasso__alpha=0.01, my_poly_engineering__degree=1;, score=-0.811 total time=   0.0s\n",
      "[CV 4/5] END my_lasso__alpha=0.01, my_poly_engineering__degree=1;, score=-0.491 total time=   0.0s\n",
      "[CV 5/5] END my_lasso__alpha=0.01, my_poly_engineering__degree=1;, score=-2.951 total time=   0.0s\n",
      "[CV 1/5] END my_lasso__alpha=0.01, my_poly_engineering__degree=2;, score=-0.292 total time=   0.0s\n",
      "[CV 2/5] END my_lasso__alpha=0.01, my_poly_engineering__degree=2;, score=-0.051 total time=   0.0s\n",
      "[CV 3/5] END my_lasso__alpha=0.01, my_poly_engineering__degree=2;, score=-0.008 total time=   0.0s\n",
      "[CV 4/5] END my_lasso__alpha=0.01, my_poly_engineering__degree=2;, score=-0.264 total time=   0.0s\n",
      "[CV 5/5] END my_lasso__alpha=0.01, my_poly_engineering__degree=2;, score=-0.484 total time=   0.0s\n",
      "[CV 1/5] END my_lasso__alpha=0.01, my_poly_engineering__degree=3;, score=-0.343 total time=   0.0s\n",
      "[CV 2/5] END my_lasso__alpha=0.01, my_poly_engineering__degree=3;, score=-0.100 total time=   0.0s\n",
      "[CV 3/5] END my_lasso__alpha=0.01, my_poly_engineering__degree=3;, score=-0.013 total time=   0.0s\n"
     ]
    },
    {
     "name": "stderr",
     "output_type": "stream",
     "text": [
      "/opt/anaconda3/lib/python3.7/site-packages/sklearn/linear_model/_coordinate_descent.py:648: ConvergenceWarning: Objective did not converge. You might want to increase the number of iterations, check the scale of the features or consider increasing regularisation. Duality gap: 3.409e-01, tolerance: 6.977e-04\n",
      "  coef_, l1_reg, l2_reg, X, y, max_iter, tol, rng, random, positive\n",
      "/opt/anaconda3/lib/python3.7/site-packages/sklearn/linear_model/_coordinate_descent.py:648: ConvergenceWarning: Objective did not converge. You might want to increase the number of iterations, check the scale of the features or consider increasing regularisation. Duality gap: 4.148e-01, tolerance: 4.263e-03\n",
      "  coef_, l1_reg, l2_reg, X, y, max_iter, tol, rng, random, positive\n",
      "/opt/anaconda3/lib/python3.7/site-packages/sklearn/linear_model/_coordinate_descent.py:648: ConvergenceWarning: Objective did not converge. You might want to increase the number of iterations, check the scale of the features or consider increasing regularisation. Duality gap: 5.146e-01, tolerance: 3.988e-03\n",
      "  coef_, l1_reg, l2_reg, X, y, max_iter, tol, rng, random, positive\n",
      "/opt/anaconda3/lib/python3.7/site-packages/sklearn/linear_model/_coordinate_descent.py:648: ConvergenceWarning: Objective did not converge. You might want to increase the number of iterations, check the scale of the features or consider increasing regularisation. Duality gap: 2.721e-01, tolerance: 3.703e-03\n",
      "  coef_, l1_reg, l2_reg, X, y, max_iter, tol, rng, random, positive\n",
      "/opt/anaconda3/lib/python3.7/site-packages/sklearn/linear_model/_coordinate_descent.py:648: ConvergenceWarning: Objective did not converge. You might want to increase the number of iterations, check the scale of the features or consider increasing regularisation. Duality gap: 4.896e-01, tolerance: 3.664e-03\n",
      "  coef_, l1_reg, l2_reg, X, y, max_iter, tol, rng, random, positive\n",
      "/opt/anaconda3/lib/python3.7/site-packages/sklearn/linear_model/_coordinate_descent.py:648: ConvergenceWarning: Objective did not converge. You might want to increase the number of iterations, check the scale of the features or consider increasing regularisation. Duality gap: 3.218e-01, tolerance: 6.977e-04\n",
      "  coef_, l1_reg, l2_reg, X, y, max_iter, tol, rng, random, positive\n",
      "/opt/anaconda3/lib/python3.7/site-packages/sklearn/linear_model/_coordinate_descent.py:648: ConvergenceWarning: Objective did not converge. You might want to increase the number of iterations, check the scale of the features or consider increasing regularisation. Duality gap: 4.086e-01, tolerance: 4.263e-03\n",
      "  coef_, l1_reg, l2_reg, X, y, max_iter, tol, rng, random, positive\n",
      "/opt/anaconda3/lib/python3.7/site-packages/sklearn/linear_model/_coordinate_descent.py:648: ConvergenceWarning: Objective did not converge. You might want to increase the number of iterations, check the scale of the features or consider increasing regularisation. Duality gap: 5.219e-01, tolerance: 3.988e-03\n",
      "  coef_, l1_reg, l2_reg, X, y, max_iter, tol, rng, random, positive\n",
      "/opt/anaconda3/lib/python3.7/site-packages/sklearn/linear_model/_coordinate_descent.py:648: ConvergenceWarning: Objective did not converge. You might want to increase the number of iterations, check the scale of the features or consider increasing regularisation. Duality gap: 2.780e-01, tolerance: 3.703e-03\n",
      "  coef_, l1_reg, l2_reg, X, y, max_iter, tol, rng, random, positive\n",
      "/opt/anaconda3/lib/python3.7/site-packages/sklearn/linear_model/_coordinate_descent.py:648: ConvergenceWarning: Objective did not converge. You might want to increase the number of iterations, check the scale of the features or consider increasing regularisation. Duality gap: 4.668e-01, tolerance: 3.664e-03\n",
      "  coef_, l1_reg, l2_reg, X, y, max_iter, tol, rng, random, positive\n",
      "/opt/anaconda3/lib/python3.7/site-packages/sklearn/linear_model/_coordinate_descent.py:648: ConvergenceWarning: Objective did not converge. You might want to increase the number of iterations, check the scale of the features or consider increasing regularisation. Duality gap: 3.108e-01, tolerance: 6.977e-04\n",
      "  coef_, l1_reg, l2_reg, X, y, max_iter, tol, rng, random, positive\n",
      "/opt/anaconda3/lib/python3.7/site-packages/sklearn/linear_model/_coordinate_descent.py:648: ConvergenceWarning: Objective did not converge. You might want to increase the number of iterations, check the scale of the features or consider increasing regularisation. Duality gap: 4.091e-01, tolerance: 4.263e-03\n",
      "  coef_, l1_reg, l2_reg, X, y, max_iter, tol, rng, random, positive\n",
      "/opt/anaconda3/lib/python3.7/site-packages/sklearn/linear_model/_coordinate_descent.py:648: ConvergenceWarning: Objective did not converge. You might want to increase the number of iterations, check the scale of the features or consider increasing regularisation. Duality gap: 5.254e-01, tolerance: 3.988e-03\n",
      "  coef_, l1_reg, l2_reg, X, y, max_iter, tol, rng, random, positive\n",
      "/opt/anaconda3/lib/python3.7/site-packages/sklearn/linear_model/_coordinate_descent.py:648: ConvergenceWarning: Objective did not converge. You might want to increase the number of iterations, check the scale of the features or consider increasing regularisation. Duality gap: 2.808e-01, tolerance: 3.703e-03\n",
      "  coef_, l1_reg, l2_reg, X, y, max_iter, tol, rng, random, positive\n",
      "/opt/anaconda3/lib/python3.7/site-packages/sklearn/linear_model/_coordinate_descent.py:648: ConvergenceWarning: Objective did not converge. You might want to increase the number of iterations, check the scale of the features or consider increasing regularisation. Duality gap: 4.022e-01, tolerance: 3.664e-03\n",
      "  coef_, l1_reg, l2_reg, X, y, max_iter, tol, rng, random, positive\n",
      "/opt/anaconda3/lib/python3.7/site-packages/sklearn/linear_model/_coordinate_descent.py:648: ConvergenceWarning: Objective did not converge. You might want to increase the number of iterations, check the scale of the features or consider increasing regularisation. Duality gap: 3.496e-01, tolerance: 6.977e-04\n",
      "  coef_, l1_reg, l2_reg, X, y, max_iter, tol, rng, random, positive\n",
      "/opt/anaconda3/lib/python3.7/site-packages/sklearn/linear_model/_coordinate_descent.py:648: ConvergenceWarning: Objective did not converge. You might want to increase the number of iterations, check the scale of the features or consider increasing regularisation. Duality gap: 4.368e-01, tolerance: 4.263e-03\n",
      "  coef_, l1_reg, l2_reg, X, y, max_iter, tol, rng, random, positive\n",
      "/opt/anaconda3/lib/python3.7/site-packages/sklearn/linear_model/_coordinate_descent.py:648: ConvergenceWarning: Objective did not converge. You might want to increase the number of iterations, check the scale of the features or consider increasing regularisation. Duality gap: 5.291e-01, tolerance: 3.988e-03\n",
      "  coef_, l1_reg, l2_reg, X, y, max_iter, tol, rng, random, positive\n",
      "/opt/anaconda3/lib/python3.7/site-packages/sklearn/linear_model/_coordinate_descent.py:648: ConvergenceWarning: Objective did not converge. You might want to increase the number of iterations, check the scale of the features or consider increasing regularisation. Duality gap: 2.940e-01, tolerance: 3.703e-03\n",
      "  coef_, l1_reg, l2_reg, X, y, max_iter, tol, rng, random, positive\n",
      "/opt/anaconda3/lib/python3.7/site-packages/sklearn/linear_model/_coordinate_descent.py:648: ConvergenceWarning: Objective did not converge. You might want to increase the number of iterations, check the scale of the features or consider increasing regularisation. Duality gap: 4.349e-01, tolerance: 3.664e-03\n",
      "  coef_, l1_reg, l2_reg, X, y, max_iter, tol, rng, random, positive\n",
      "/opt/anaconda3/lib/python3.7/site-packages/sklearn/linear_model/_coordinate_descent.py:648: ConvergenceWarning: Objective did not converge. You might want to increase the number of iterations, check the scale of the features or consider increasing regularisation. Duality gap: 3.453e-01, tolerance: 6.977e-04\n",
      "  coef_, l1_reg, l2_reg, X, y, max_iter, tol, rng, random, positive\n",
      "/opt/anaconda3/lib/python3.7/site-packages/sklearn/linear_model/_coordinate_descent.py:648: ConvergenceWarning: Objective did not converge. You might want to increase the number of iterations, check the scale of the features or consider increasing regularisation. Duality gap: 4.351e-01, tolerance: 4.263e-03\n",
      "  coef_, l1_reg, l2_reg, X, y, max_iter, tol, rng, random, positive\n",
      "/opt/anaconda3/lib/python3.7/site-packages/sklearn/linear_model/_coordinate_descent.py:648: ConvergenceWarning: Objective did not converge. You might want to increase the number of iterations, check the scale of the features or consider increasing regularisation. Duality gap: 5.490e-01, tolerance: 3.988e-03\n",
      "  coef_, l1_reg, l2_reg, X, y, max_iter, tol, rng, random, positive\n",
      "/opt/anaconda3/lib/python3.7/site-packages/sklearn/linear_model/_coordinate_descent.py:648: ConvergenceWarning: Objective did not converge. You might want to increase the number of iterations, check the scale of the features or consider increasing regularisation. Duality gap: 3.061e-01, tolerance: 3.703e-03\n",
      "  coef_, l1_reg, l2_reg, X, y, max_iter, tol, rng, random, positive\n",
      "/opt/anaconda3/lib/python3.7/site-packages/sklearn/linear_model/_coordinate_descent.py:648: ConvergenceWarning: Objective did not converge. You might want to increase the number of iterations, check the scale of the features or consider increasing regularisation. Duality gap: 4.946e-01, tolerance: 3.664e-03\n",
      "  coef_, l1_reg, l2_reg, X, y, max_iter, tol, rng, random, positive\n",
      "/opt/anaconda3/lib/python3.7/site-packages/sklearn/linear_model/_coordinate_descent.py:648: ConvergenceWarning: Objective did not converge. You might want to increase the number of iterations, check the scale of the features or consider increasing regularisation. Duality gap: 3.327e-01, tolerance: 6.977e-04\n",
      "  coef_, l1_reg, l2_reg, X, y, max_iter, tol, rng, random, positive\n",
      "/opt/anaconda3/lib/python3.7/site-packages/sklearn/linear_model/_coordinate_descent.py:648: ConvergenceWarning: Objective did not converge. You might want to increase the number of iterations, check the scale of the features or consider increasing regularisation. Duality gap: 4.361e-01, tolerance: 4.263e-03\n",
      "  coef_, l1_reg, l2_reg, X, y, max_iter, tol, rng, random, positive\n",
      "/opt/anaconda3/lib/python3.7/site-packages/sklearn/linear_model/_coordinate_descent.py:648: ConvergenceWarning: Objective did not converge. You might want to increase the number of iterations, check the scale of the features or consider increasing regularisation. Duality gap: 5.528e-01, tolerance: 3.988e-03\n",
      "  coef_, l1_reg, l2_reg, X, y, max_iter, tol, rng, random, positive\n",
      "/opt/anaconda3/lib/python3.7/site-packages/sklearn/linear_model/_coordinate_descent.py:648: ConvergenceWarning: Objective did not converge. You might want to increase the number of iterations, check the scale of the features or consider increasing regularisation. Duality gap: 3.092e-01, tolerance: 3.703e-03\n",
      "  coef_, l1_reg, l2_reg, X, y, max_iter, tol, rng, random, positive\n",
      "/opt/anaconda3/lib/python3.7/site-packages/sklearn/linear_model/_coordinate_descent.py:648: ConvergenceWarning: Objective did not converge. You might want to increase the number of iterations, check the scale of the features or consider increasing regularisation. Duality gap: 4.338e-01, tolerance: 3.664e-03\n",
      "  coef_, l1_reg, l2_reg, X, y, max_iter, tol, rng, random, positive\n",
      "/opt/anaconda3/lib/python3.7/site-packages/sklearn/linear_model/_coordinate_descent.py:648: ConvergenceWarning: Objective did not converge. You might want to increase the number of iterations, check the scale of the features or consider increasing regularisation. Duality gap: 3.986e-01, tolerance: 6.977e-04\n",
      "  coef_, l1_reg, l2_reg, X, y, max_iter, tol, rng, random, positive\n",
      "/opt/anaconda3/lib/python3.7/site-packages/sklearn/linear_model/_coordinate_descent.py:648: ConvergenceWarning: Objective did not converge. You might want to increase the number of iterations, check the scale of the features or consider increasing regularisation. Duality gap: 5.992e-01, tolerance: 4.263e-03\n",
      "  coef_, l1_reg, l2_reg, X, y, max_iter, tol, rng, random, positive\n",
      "/opt/anaconda3/lib/python3.7/site-packages/sklearn/linear_model/_coordinate_descent.py:648: ConvergenceWarning: Objective did not converge. You might want to increase the number of iterations, check the scale of the features or consider increasing regularisation. Duality gap: 6.142e-01, tolerance: 3.988e-03\n",
      "  coef_, l1_reg, l2_reg, X, y, max_iter, tol, rng, random, positive\n",
      "/opt/anaconda3/lib/python3.7/site-packages/sklearn/linear_model/_coordinate_descent.py:648: ConvergenceWarning: Objective did not converge. You might want to increase the number of iterations, check the scale of the features or consider increasing regularisation. Duality gap: 4.481e-01, tolerance: 3.703e-03\n",
      "  coef_, l1_reg, l2_reg, X, y, max_iter, tol, rng, random, positive\n",
      "/opt/anaconda3/lib/python3.7/site-packages/sklearn/linear_model/_coordinate_descent.py:648: ConvergenceWarning: Objective did not converge. You might want to increase the number of iterations, check the scale of the features or consider increasing regularisation. Duality gap: 4.717e-01, tolerance: 6.977e-04\n",
      "  coef_, l1_reg, l2_reg, X, y, max_iter, tol, rng, random, positive\n",
      "/opt/anaconda3/lib/python3.7/site-packages/sklearn/linear_model/_coordinate_descent.py:648: ConvergenceWarning: Objective did not converge. You might want to increase the number of iterations, check the scale of the features or consider increasing regularisation. Duality gap: 6.952e-01, tolerance: 4.263e-03\n",
      "  coef_, l1_reg, l2_reg, X, y, max_iter, tol, rng, random, positive\n",
      "/opt/anaconda3/lib/python3.7/site-packages/sklearn/linear_model/_coordinate_descent.py:648: ConvergenceWarning: Objective did not converge. You might want to increase the number of iterations, check the scale of the features or consider increasing regularisation. Duality gap: 7.979e-01, tolerance: 3.988e-03\n",
      "  coef_, l1_reg, l2_reg, X, y, max_iter, tol, rng, random, positive\n",
      "/opt/anaconda3/lib/python3.7/site-packages/sklearn/linear_model/_coordinate_descent.py:648: ConvergenceWarning: Objective did not converge. You might want to increase the number of iterations, check the scale of the features or consider increasing regularisation. Duality gap: 5.617e-01, tolerance: 3.703e-03\n",
      "  coef_, l1_reg, l2_reg, X, y, max_iter, tol, rng, random, positive\n",
      "/opt/anaconda3/lib/python3.7/site-packages/sklearn/linear_model/_coordinate_descent.py:648: ConvergenceWarning: Objective did not converge. You might want to increase the number of iterations, check the scale of the features or consider increasing regularisation. Duality gap: 7.425e-01, tolerance: 3.664e-03\n",
      "  coef_, l1_reg, l2_reg, X, y, max_iter, tol, rng, random, positive\n",
      "/opt/anaconda3/lib/python3.7/site-packages/sklearn/linear_model/_coordinate_descent.py:648: ConvergenceWarning: Objective did not converge. You might want to increase the number of iterations, check the scale of the features or consider increasing regularisation. Duality gap: 4.443e-01, tolerance: 6.977e-04\n",
      "  coef_, l1_reg, l2_reg, X, y, max_iter, tol, rng, random, positive\n",
      "/opt/anaconda3/lib/python3.7/site-packages/sklearn/linear_model/_coordinate_descent.py:648: ConvergenceWarning: Objective did not converge. You might want to increase the number of iterations, check the scale of the features or consider increasing regularisation. Duality gap: 6.874e-01, tolerance: 4.263e-03\n",
      "  coef_, l1_reg, l2_reg, X, y, max_iter, tol, rng, random, positive\n",
      "/opt/anaconda3/lib/python3.7/site-packages/sklearn/linear_model/_coordinate_descent.py:648: ConvergenceWarning: Objective did not converge. You might want to increase the number of iterations, check the scale of the features or consider increasing regularisation. Duality gap: 8.099e-01, tolerance: 3.988e-03\n",
      "  coef_, l1_reg, l2_reg, X, y, max_iter, tol, rng, random, positive\n"
     ]
    },
    {
     "name": "stdout",
     "output_type": "stream",
     "text": [
      "[CV 4/5] END my_lasso__alpha=0.01, my_poly_engineering__degree=3;, score=-0.257 total time=   0.0s\n",
      "[CV 5/5] END my_lasso__alpha=0.01, my_poly_engineering__degree=3;, score=-0.525 total time=   0.0s\n",
      "[CV 1/5] END my_lasso__alpha=0.01, my_poly_engineering__degree=4;, score=-0.157 total time=   0.0s\n",
      "[CV 2/5] END my_lasso__alpha=0.01, my_poly_engineering__degree=4;, score=-0.148 total time=   0.0s\n",
      "[CV 3/5] END my_lasso__alpha=0.01, my_poly_engineering__degree=4;, score=-0.010 total time=   0.0s\n",
      "[CV 4/5] END my_lasso__alpha=0.01, my_poly_engineering__degree=4;, score=-0.256 total time=   0.0s\n",
      "[CV 5/5] END my_lasso__alpha=0.01, my_poly_engineering__degree=4;, score=-1.737 total time=   0.0s\n",
      "[CV 1/5] END my_lasso__alpha=0.01, my_poly_engineering__degree=5;, score=-0.179 total time=   0.0s\n",
      "[CV 2/5] END my_lasso__alpha=0.01, my_poly_engineering__degree=5;, score=-0.156 total time=   0.0s\n",
      "[CV 3/5] END my_lasso__alpha=0.01, my_poly_engineering__degree=5;, score=-0.007 total time=   0.0s\n",
      "[CV 4/5] END my_lasso__alpha=0.01, my_poly_engineering__degree=5;, score=-0.253 total time=   0.0s\n",
      "[CV 5/5] END my_lasso__alpha=0.01, my_poly_engineering__degree=5;, score=-5.917 total time=   0.0s\n",
      "[CV 1/5] END my_lasso__alpha=0.1, my_poly_engineering__degree=1;, score=-5.095 total time=   0.0s\n",
      "[CV 2/5] END my_lasso__alpha=0.1, my_poly_engineering__degree=1;, score=-0.754 total time=   0.0s\n",
      "[CV 3/5] END my_lasso__alpha=0.1, my_poly_engineering__degree=1;, score=-0.814 total time=   0.0s\n",
      "[CV 4/5] END my_lasso__alpha=0.1, my_poly_engineering__degree=1;, score=-0.491 total time=   0.0s\n",
      "[CV 5/5] END my_lasso__alpha=0.1, my_poly_engineering__degree=1;, score=-2.906 total time=   0.0s\n",
      "[CV 1/5] END my_lasso__alpha=0.1, my_poly_engineering__degree=2;, score=-0.552 total time=   0.0s\n",
      "[CV 2/5] END my_lasso__alpha=0.1, my_poly_engineering__degree=2;, score=-0.048 total time=   0.0s\n",
      "[CV 3/5] END my_lasso__alpha=0.1, my_poly_engineering__degree=2;, score=-0.008 total time=   0.0s\n",
      "[CV 4/5] END my_lasso__alpha=0.1, my_poly_engineering__degree=2;, score=-0.265 total time=   0.0s\n",
      "[CV 5/5] END my_lasso__alpha=0.1, my_poly_engineering__degree=2;, score=-0.375 total time=   0.0s\n",
      "[CV 1/5] END my_lasso__alpha=0.1, my_poly_engineering__degree=3;, score=-1.936 total time=   0.0s\n",
      "[CV 2/5] END my_lasso__alpha=0.1, my_poly_engineering__degree=3;, score=-0.064 total time=   0.0s\n",
      "[CV 3/5] END my_lasso__alpha=0.1, my_poly_engineering__degree=3;, score=-0.013 total time=   0.0s\n",
      "[CV 4/5] END my_lasso__alpha=0.1, my_poly_engineering__degree=3;, score=-0.255 total time=   0.0s\n",
      "[CV 5/5] END my_lasso__alpha=0.1, my_poly_engineering__degree=3;, score=-1.082 total time=   0.0s\n",
      "[CV 1/5] END my_lasso__alpha=0.1, my_poly_engineering__degree=4;, score=-1.351 total time=   0.0s\n",
      "[CV 2/5] END my_lasso__alpha=0.1, my_poly_engineering__degree=4;, score=-0.104 total time=   0.0s\n",
      "[CV 3/5] END my_lasso__alpha=0.1, my_poly_engineering__degree=4;, score=-0.010 total time=   0.0s\n",
      "[CV 4/5] END my_lasso__alpha=0.1, my_poly_engineering__degree=4;, score=-0.252 total time=   0.0s\n",
      "[CV 5/5] END my_lasso__alpha=0.1, my_poly_engineering__degree=4;, score=-2.044 total time=   0.0s\n",
      "[CV 1/5] END my_lasso__alpha=0.1, my_poly_engineering__degree=5;, score=-0.849 total time=   0.0s\n",
      "[CV 2/5] END my_lasso__alpha=0.1, my_poly_engineering__degree=5;, score=-0.118 total time=   0.0s\n",
      "[CV 3/5] END my_lasso__alpha=0.1, my_poly_engineering__degree=5;, score=-0.006 total time=   0.0s\n"
     ]
    },
    {
     "name": "stderr",
     "output_type": "stream",
     "text": [
      "/opt/anaconda3/lib/python3.7/site-packages/sklearn/linear_model/_coordinate_descent.py:648: ConvergenceWarning: Objective did not converge. You might want to increase the number of iterations, check the scale of the features or consider increasing regularisation. Duality gap: 5.752e-01, tolerance: 3.703e-03\n",
      "  coef_, l1_reg, l2_reg, X, y, max_iter, tol, rng, random, positive\n",
      "/opt/anaconda3/lib/python3.7/site-packages/sklearn/linear_model/_coordinate_descent.py:648: ConvergenceWarning: Objective did not converge. You might want to increase the number of iterations, check the scale of the features or consider increasing regularisation. Duality gap: 7.204e-01, tolerance: 3.664e-03\n",
      "  coef_, l1_reg, l2_reg, X, y, max_iter, tol, rng, random, positive\n",
      "/opt/anaconda3/lib/python3.7/site-packages/sklearn/linear_model/_coordinate_descent.py:648: ConvergenceWarning: Objective did not converge. You might want to increase the number of iterations, check the scale of the features or consider increasing regularisation. Duality gap: 8.459e-01, tolerance: 4.263e-03\n",
      "  coef_, l1_reg, l2_reg, X, y, max_iter, tol, rng, random, positive\n",
      "/opt/anaconda3/lib/python3.7/site-packages/sklearn/linear_model/_coordinate_descent.py:648: ConvergenceWarning: Objective did not converge. You might want to increase the number of iterations, check the scale of the features or consider increasing regularisation. Duality gap: 7.622e-01, tolerance: 3.988e-03\n",
      "  coef_, l1_reg, l2_reg, X, y, max_iter, tol, rng, random, positive\n",
      "/opt/anaconda3/lib/python3.7/site-packages/sklearn/linear_model/_coordinate_descent.py:648: ConvergenceWarning: Objective did not converge. You might want to increase the number of iterations, check the scale of the features or consider increasing regularisation. Duality gap: 8.030e-01, tolerance: 3.703e-03\n",
      "  coef_, l1_reg, l2_reg, X, y, max_iter, tol, rng, random, positive\n",
      "/opt/anaconda3/lib/python3.7/site-packages/sklearn/linear_model/_coordinate_descent.py:648: ConvergenceWarning: Objective did not converge. You might want to increase the number of iterations, check the scale of the features or consider increasing regularisation. Duality gap: 4.630e-01, tolerance: 6.977e-04\n",
      "  coef_, l1_reg, l2_reg, X, y, max_iter, tol, rng, random, positive\n",
      "/opt/anaconda3/lib/python3.7/site-packages/sklearn/linear_model/_coordinate_descent.py:648: ConvergenceWarning: Objective did not converge. You might want to increase the number of iterations, check the scale of the features or consider increasing regularisation. Duality gap: 1.831e+00, tolerance: 4.263e-03\n",
      "  coef_, l1_reg, l2_reg, X, y, max_iter, tol, rng, random, positive\n",
      "/opt/anaconda3/lib/python3.7/site-packages/sklearn/linear_model/_coordinate_descent.py:648: ConvergenceWarning: Objective did not converge. You might want to increase the number of iterations, check the scale of the features or consider increasing regularisation. Duality gap: 2.233e+00, tolerance: 3.988e-03\n",
      "  coef_, l1_reg, l2_reg, X, y, max_iter, tol, rng, random, positive\n",
      "/opt/anaconda3/lib/python3.7/site-packages/sklearn/linear_model/_coordinate_descent.py:648: ConvergenceWarning: Objective did not converge. You might want to increase the number of iterations, check the scale of the features or consider increasing regularisation. Duality gap: 1.920e+00, tolerance: 3.703e-03\n",
      "  coef_, l1_reg, l2_reg, X, y, max_iter, tol, rng, random, positive\n",
      "/opt/anaconda3/lib/python3.7/site-packages/sklearn/linear_model/_coordinate_descent.py:648: ConvergenceWarning: Objective did not converge. You might want to increase the number of iterations, check the scale of the features or consider increasing regularisation. Duality gap: 1.450e+00, tolerance: 3.664e-03\n",
      "  coef_, l1_reg, l2_reg, X, y, max_iter, tol, rng, random, positive\n",
      "/opt/anaconda3/lib/python3.7/site-packages/sklearn/linear_model/_coordinate_descent.py:648: ConvergenceWarning: Objective did not converge. You might want to increase the number of iterations, check the scale of the features or consider increasing regularisation. Duality gap: 4.074e-01, tolerance: 6.977e-04\n",
      "  coef_, l1_reg, l2_reg, X, y, max_iter, tol, rng, random, positive\n",
      "/opt/anaconda3/lib/python3.7/site-packages/sklearn/linear_model/_coordinate_descent.py:648: ConvergenceWarning: Objective did not converge. You might want to increase the number of iterations, check the scale of the features or consider increasing regularisation. Duality gap: 1.587e+00, tolerance: 4.263e-03\n",
      "  coef_, l1_reg, l2_reg, X, y, max_iter, tol, rng, random, positive\n",
      "/opt/anaconda3/lib/python3.7/site-packages/sklearn/linear_model/_coordinate_descent.py:648: ConvergenceWarning: Objective did not converge. You might want to increase the number of iterations, check the scale of the features or consider increasing regularisation. Duality gap: 1.957e+00, tolerance: 3.988e-03\n",
      "  coef_, l1_reg, l2_reg, X, y, max_iter, tol, rng, random, positive\n",
      "/opt/anaconda3/lib/python3.7/site-packages/sklearn/linear_model/_coordinate_descent.py:648: ConvergenceWarning: Objective did not converge. You might want to increase the number of iterations, check the scale of the features or consider increasing regularisation. Duality gap: 1.734e+00, tolerance: 3.703e-03\n",
      "  coef_, l1_reg, l2_reg, X, y, max_iter, tol, rng, random, positive\n",
      "/opt/anaconda3/lib/python3.7/site-packages/sklearn/linear_model/_coordinate_descent.py:648: ConvergenceWarning: Objective did not converge. You might want to increase the number of iterations, check the scale of the features or consider increasing regularisation. Duality gap: 1.411e+00, tolerance: 3.664e-03\n",
      "  coef_, l1_reg, l2_reg, X, y, max_iter, tol, rng, random, positive\n",
      "/opt/anaconda3/lib/python3.7/site-packages/sklearn/linear_model/_coordinate_descent.py:648: ConvergenceWarning: Objective did not converge. You might want to increase the number of iterations, check the scale of the features or consider increasing regularisation. Duality gap: 5.641e-01, tolerance: 6.977e-04\n",
      "  coef_, l1_reg, l2_reg, X, y, max_iter, tol, rng, random, positive\n",
      "/opt/anaconda3/lib/python3.7/site-packages/sklearn/linear_model/_coordinate_descent.py:648: ConvergenceWarning: Objective did not converge. You might want to increase the number of iterations, check the scale of the features or consider increasing regularisation. Duality gap: 2.174e+00, tolerance: 4.263e-03\n",
      "  coef_, l1_reg, l2_reg, X, y, max_iter, tol, rng, random, positive\n",
      "/opt/anaconda3/lib/python3.7/site-packages/sklearn/linear_model/_coordinate_descent.py:648: ConvergenceWarning: Objective did not converge. You might want to increase the number of iterations, check the scale of the features or consider increasing regularisation. Duality gap: 2.731e+00, tolerance: 3.988e-03\n",
      "  coef_, l1_reg, l2_reg, X, y, max_iter, tol, rng, random, positive\n"
     ]
    },
    {
     "name": "stdout",
     "output_type": "stream",
     "text": [
      "[CV 4/5] END my_lasso__alpha=0.1, my_poly_engineering__degree=5;, score=-0.248 total time=   0.0s\n",
      "[CV 5/5] END my_lasso__alpha=0.1, my_poly_engineering__degree=5;, score=-5.280 total time=   0.0s\n",
      "[CV 1/5] END my_lasso__alpha=1, my_poly_engineering__degree=1;, score=-5.824 total time=   0.0s\n",
      "[CV 2/5] END my_lasso__alpha=1, my_poly_engineering__degree=1;, score=-0.714 total time=   0.0s\n",
      "[CV 3/5] END my_lasso__alpha=1, my_poly_engineering__degree=1;, score=-0.840 total time=   0.0s\n",
      "[CV 4/5] END my_lasso__alpha=1, my_poly_engineering__degree=1;, score=-0.496 total time=   0.0s\n",
      "[CV 5/5] END my_lasso__alpha=1, my_poly_engineering__degree=1;, score=-2.476 total time=   0.0s\n",
      "[CV 1/5] END my_lasso__alpha=1, my_poly_engineering__degree=2;, score=-8.882 total time=   0.0s\n",
      "[CV 2/5] END my_lasso__alpha=1, my_poly_engineering__degree=2;, score=-0.073 total time=   0.0s\n",
      "[CV 3/5] END my_lasso__alpha=1, my_poly_engineering__degree=2;, score=-0.097 total time=   0.0s\n",
      "[CV 4/5] END my_lasso__alpha=1, my_poly_engineering__degree=2;, score=-0.291 total time=   0.0s\n",
      "[CV 5/5] END my_lasso__alpha=1, my_poly_engineering__degree=2;, score=-0.048 total time=   0.0s\n",
      "[CV 1/5] END my_lasso__alpha=1, my_poly_engineering__degree=3;, score=-3.680 total time=   0.0s\n",
      "[CV 2/5] END my_lasso__alpha=1, my_poly_engineering__degree=3;, score=-0.598 total time=   0.0s\n",
      "[CV 3/5] END my_lasso__alpha=1, my_poly_engineering__degree=3;, score=-0.031 total time=   0.0s\n",
      "[CV 4/5] END my_lasso__alpha=1, my_poly_engineering__degree=3;, score=-0.568 total time=   0.0s\n",
      "[CV 5/5] END my_lasso__alpha=1, my_poly_engineering__degree=3;, score=-10.472 total time=   0.0s\n",
      "[CV 1/5] END my_lasso__alpha=1, my_poly_engineering__degree=4;, score=-3.726 total time=   0.0s\n",
      "[CV 2/5] END my_lasso__alpha=1, my_poly_engineering__degree=4;, score=-0.319 total time=   0.0s\n",
      "[CV 3/5] END my_lasso__alpha=1, my_poly_engineering__degree=4;, score=-0.020 total time=   0.0s\n",
      "[CV 4/5] END my_lasso__alpha=1, my_poly_engineering__degree=4;, score=-0.350 total time=   0.0s\n",
      "[CV 5/5] END my_lasso__alpha=1, my_poly_engineering__degree=4;, score=-5.522 total time=   0.0s\n",
      "[CV 1/5] END my_lasso__alpha=1, my_poly_engineering__degree=5;, score=-2.968 total time=   0.0s\n",
      "[CV 2/5] END my_lasso__alpha=1, my_poly_engineering__degree=5;, score=-0.207 total time=   0.0s\n",
      "[CV 3/5] END my_lasso__alpha=1, my_poly_engineering__degree=5;, score=-0.010 total time=   0.0s\n",
      "[CV 4/5] END my_lasso__alpha=1, my_poly_engineering__degree=5;, score=-0.237 total time=   0.0s\n",
      "[CV 5/5] END my_lasso__alpha=1, my_poly_engineering__degree=5;, score=-1.185 total time=   0.0s\n",
      "[CV 1/5] END my_lasso__alpha=10, my_poly_engineering__degree=1;, score=-15.798 total time=   0.0s\n",
      "[CV 2/5] END my_lasso__alpha=10, my_poly_engineering__degree=1;, score=-0.393 total time=   0.0s\n",
      "[CV 3/5] END my_lasso__alpha=10, my_poly_engineering__degree=1;, score=-1.128 total time=   0.0s\n",
      "[CV 4/5] END my_lasso__alpha=10, my_poly_engineering__degree=1;, score=-0.866 total time=   0.0s\n",
      "[CV 5/5] END my_lasso__alpha=10, my_poly_engineering__degree=1;, score=-0.079 total time=   0.0s\n",
      "[CV 1/5] END my_lasso__alpha=10, my_poly_engineering__degree=2;, score=-8.962 total time=   0.0s\n",
      "[CV 2/5] END my_lasso__alpha=10, my_poly_engineering__degree=2;, score=-1.548 total time=   0.0s\n",
      "[CV 3/5] END my_lasso__alpha=10, my_poly_engineering__degree=2;, score=-2.106 total time=   0.0s\n",
      "[CV 4/5] END my_lasso__alpha=10, my_poly_engineering__degree=2;, score=-0.904 total time=   0.0s\n",
      "[CV 5/5] END my_lasso__alpha=10, my_poly_engineering__degree=2;, score=-7.321 total time=   0.0s\n",
      "[CV 1/5] END my_lasso__alpha=10, my_poly_engineering__degree=3;, score=-4.467 total time=   0.0s\n",
      "[CV 2/5] END my_lasso__alpha=10, my_poly_engineering__degree=3;, score=-0.707 total time=   0.0s\n",
      "[CV 3/5] END my_lasso__alpha=10, my_poly_engineering__degree=3;, score=-0.052 total time=   0.0s\n",
      "[CV 4/5] END my_lasso__alpha=10, my_poly_engineering__degree=3;, score=-0.672 total time=   0.0s\n",
      "[CV 5/5] END my_lasso__alpha=10, my_poly_engineering__degree=3;, score=-7.650 total time=   0.0s\n",
      "[CV 1/5] END my_lasso__alpha=10, my_poly_engineering__degree=4;, score=-5.403 total time=   0.0s\n",
      "[CV 2/5] END my_lasso__alpha=10, my_poly_engineering__degree=4;, score=-0.650 total time=   0.0s\n",
      "[CV 3/5] END my_lasso__alpha=10, my_poly_engineering__degree=4;, score=-0.040 total time=   0.0s\n",
      "[CV 4/5] END my_lasso__alpha=10, my_poly_engineering__degree=4;, score=-0.513 total time=   0.0s\n",
      "[CV 5/5] END my_lasso__alpha=10, my_poly_engineering__degree=4;, score=-12.020 total time=   0.0s\n",
      "[CV 1/5] END my_lasso__alpha=10, my_poly_engineering__degree=5;, score=-4.895 total time=   0.0s\n",
      "[CV 2/5] END my_lasso__alpha=10, my_poly_engineering__degree=5;, score=-0.351 total time=   0.0s\n",
      "[CV 3/5] END my_lasso__alpha=10, my_poly_engineering__degree=5;, score=-0.017 total time=   0.0s\n",
      "[CV 4/5] END my_lasso__alpha=10, my_poly_engineering__degree=5;, score=-0.246 total time=   0.0s\n",
      "[CV 5/5] END my_lasso__alpha=10, my_poly_engineering__degree=5;, score=-4.957 total time=   0.0s\n"
     ]
    },
    {
     "name": "stderr",
     "output_type": "stream",
     "text": [
      "/opt/anaconda3/lib/python3.7/site-packages/sklearn/linear_model/_coordinate_descent.py:648: ConvergenceWarning: Objective did not converge. You might want to increase the number of iterations, check the scale of the features or consider increasing regularisation. Duality gap: 2.419e+00, tolerance: 3.703e-03\n",
      "  coef_, l1_reg, l2_reg, X, y, max_iter, tol, rng, random, positive\n",
      "/opt/anaconda3/lib/python3.7/site-packages/sklearn/linear_model/_coordinate_descent.py:648: ConvergenceWarning: Objective did not converge. You might want to increase the number of iterations, check the scale of the features or consider increasing regularisation. Duality gap: 5.904e-01, tolerance: 3.664e-03\n",
      "  coef_, l1_reg, l2_reg, X, y, max_iter, tol, rng, random, positive\n",
      "/opt/anaconda3/lib/python3.7/site-packages/sklearn/linear_model/_coordinate_descent.py:648: ConvergenceWarning: Objective did not converge. You might want to increase the number of iterations, check the scale of the features or consider increasing regularisation. Duality gap: 7.023e-01, tolerance: 6.977e-04\n",
      "  coef_, l1_reg, l2_reg, X, y, max_iter, tol, rng, random, positive\n",
      "/opt/anaconda3/lib/python3.7/site-packages/sklearn/linear_model/_coordinate_descent.py:648: ConvergenceWarning: Objective did not converge. You might want to increase the number of iterations, check the scale of the features or consider increasing regularisation. Duality gap: 2.250e+00, tolerance: 4.263e-03\n",
      "  coef_, l1_reg, l2_reg, X, y, max_iter, tol, rng, random, positive\n",
      "/opt/anaconda3/lib/python3.7/site-packages/sklearn/linear_model/_coordinate_descent.py:648: ConvergenceWarning: Objective did not converge. You might want to increase the number of iterations, check the scale of the features or consider increasing regularisation. Duality gap: 2.590e+00, tolerance: 3.988e-03\n",
      "  coef_, l1_reg, l2_reg, X, y, max_iter, tol, rng, random, positive\n",
      "/opt/anaconda3/lib/python3.7/site-packages/sklearn/linear_model/_coordinate_descent.py:648: ConvergenceWarning: Objective did not converge. You might want to increase the number of iterations, check the scale of the features or consider increasing regularisation. Duality gap: 2.439e+00, tolerance: 3.703e-03\n",
      "  coef_, l1_reg, l2_reg, X, y, max_iter, tol, rng, random, positive\n",
      "/opt/anaconda3/lib/python3.7/site-packages/sklearn/linear_model/_coordinate_descent.py:648: ConvergenceWarning: Objective did not converge. You might want to increase the number of iterations, check the scale of the features or consider increasing regularisation. Duality gap: 2.431e+00, tolerance: 3.664e-03\n",
      "  coef_, l1_reg, l2_reg, X, y, max_iter, tol, rng, random, positive\n"
     ]
    },
    {
     "data": {
      "text/plain": [
       "GridSearchCV(estimator=Pipeline(steps=[('my_poly_engineering',\n",
       "                                        PolynomialFeatures()),\n",
       "                                       ['my_lasso', Lasso()]]),\n",
       "             param_grid={'my_lasso__alpha': [0.001, 0.01, 0.1, 1, 10],\n",
       "                         'my_poly_engineering__degree': [1, 2, 3, 4, 5]},\n",
       "             scoring='neg_mean_squared_error', verbose=4)"
      ]
     },
     "execution_count": 23,
     "metadata": {},
     "output_type": "execute_result"
    }
   ],
   "source": [
    "gridsearch.fit(X,y)"
   ]
  },
  {
   "cell_type": "code",
   "execution_count": 24,
   "metadata": {},
   "outputs": [
    {
     "data": {
      "text/plain": [
       "{'my_lasso__alpha': 0.001, 'my_poly_engineering__degree': 2}"
      ]
     },
     "execution_count": 24,
     "metadata": {},
     "output_type": "execute_result"
    }
   ],
   "source": [
    "gridsearch.best_params_"
   ]
  },
  {
   "cell_type": "code",
   "execution_count": 26,
   "metadata": {},
   "outputs": [
    {
     "data": {
      "text/plain": [
       "0.9721891331248437"
      ]
     },
     "execution_count": 26,
     "metadata": {},
     "output_type": "execute_result"
    }
   ],
   "source": [
    "gridsearch.best_estimator_.score(X,y)"
   ]
  },
  {
   "cell_type": "code",
   "execution_count": 27,
   "metadata": {},
   "outputs": [],
   "source": [
    "y_pred = gridsearch.best_estimator_.predict(X)"
   ]
  },
  {
   "cell_type": "code",
   "execution_count": 28,
   "metadata": {},
   "outputs": [
    {
     "data": {
      "text/plain": [
       "[<matplotlib.lines.Line2D at 0x7f84e5855410>]"
      ]
     },
     "execution_count": 28,
     "metadata": {},
     "output_type": "execute_result"
    },
    {
     "data": {
      "image/png": "[encoded data removed]",
      "text/plain": [
       "<Figure size 432x288 with 1 Axes>"
      ]
     },
     "metadata": {
      "needs_background": "light"
     },
     "output_type": "display_data"
    }
   ],
   "source": [
    "plt.scatter(X,y)\n",
    "plt.plot(X,y_pred)"
   ]
  },
  {
   "cell_type": "code",
   "execution_count": null,
   "metadata": {},
   "outputs": [],
   "source": []
  }
 ],
 "metadata": {
  "interpreter": {
   "hash": "40d3a090f54c6569ab1632332b64b2c03c39dcf918b08424e98f38b5ae0af88f"
  },
  "kernelspec": {
   "display_name": "Python 3.7.11 ('base')",
   "language": "python",
   "name": "python3"
  },
  "language_info": {
   "codemirror_mode": {
    "name": "ipython",
    "version": 3
   },
   "file_extension": ".py",
   "mimetype": "text/x-python",
   "name": "python",
   "nbconvert_exporter": "python",
   "pygments_lexer": "ipython3",
   "version": "3.7.11"
  },
  "orig_nbformat": 4
 },
 "nbformat": 4,
 "nbformat_minor": 2
}
