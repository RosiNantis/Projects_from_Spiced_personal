{
 "cells": [
  {
   "cell_type": "code",
   "execution_count": 22,
   "id": "e94d7f15",
   "metadata": {},
   "outputs": [],
   "source": [
    "import pandas as pd"
   ]
  },
  {
   "cell_type": "code",
   "execution_count": 23,
   "id": "f012f824",
   "metadata": {},
   "outputs": [],
   "source": [
    "df1 = pd.read_csv('save_frames_artists/bob_dylan_no_index.csv') \n",
    "df2 = pd.read_csv('save_frames_artists/eminem_no_index.csv') "
   ]
  },
  {
   "cell_type": "code",
   "execution_count": 24,
   "id": "55ff2e9a",
   "metadata": {},
   "outputs": [],
   "source": [
    "a = df1[['song_lyric','artist']]\n",
    "b = df2[['song_lyric','artist']]"
   ]
  },
  {
   "cell_type": "code",
   "execution_count": 25,
   "id": "b9fbdfea",
   "metadata": {},
   "outputs": [],
   "source": [
    "def fix_artist_frame(df,artist_name):\n",
    "    #  Split songs in sentences by creating new rows for each artist \n",
    "    lyrics = []\n",
    "    for i in range(len(df.song_lyric)):\n",
    "        rows = df.song_lyric[i].split(\"\\n\")                                      \n",
    "        rows_stripped = [rows[n].strip() for n in range(len(rows))]         \n",
    "        lyrics.append(rows_stripped)   \n",
    "    artist = pd.DataFrame(lyrics).melt()  \n",
    "    #artist =artist.value\n",
    "    artist.dropna( axis=0, inplace=True)\n",
    "    artist['artist_name'] = artist_name\n",
    "    artist.drop('variable',axis=1 , inplace = True)\n",
    "    artist.rename(columns = {'value' : 'lyrics'}, inplace = True)\n",
    "    return artist\n",
    "\n",
    "bob_dylan = fix_artist_frame(df1,'bob_dylan')\n",
    "eminem = fix_artist_frame(df2,'eminem')\n",
    "final= pd.concat([bob_dylan, eminem], ignore_index=True)"
   ]
  },
  {
   "cell_type": "code",
   "execution_count": 26,
   "id": "504de8a4",
   "metadata": {},
   "outputs": [],
   "source": [
    "# Save data workspace!\n",
    "import os  \n",
    "os.makedirs('save_frames_artists', exist_ok=True)  \n",
    "bob_dylan.to_csv('save_frames_artists/bob_dylan_clean.csv',index=False) \n",
    "eminem.to_csv('save_frames_artists/eminem_clean.csv',index=False)\n",
    "final.to_csv('save_frames_artists/lyrics_clean.csv',index=False)  "
   ]
  },
  {
   "cell_type": "markdown",
   "id": "d5ba6648",
   "metadata": {},
   "source": [
    "# Start the project form the frame!"
   ]
  },
  {
   "cell_type": "code",
   "execution_count": 27,
   "id": "26306046",
   "metadata": {},
   "outputs": [],
   "source": [
    "import pandas as pd\n",
    "import numpy as np\n",
    "from sklearn.feature_extraction.text import CountVectorizer\n",
    "\n",
    "from sklearn.model_selection import train_test_split\n",
    "from sklearn.feature_extraction.text import TfidfVectorizer"
   ]
  },
  {
   "cell_type": "code",
   "execution_count": 28,
   "id": "5f6f7f3a",
   "metadata": {},
   "outputs": [],
   "source": [
    "df = pd.read_csv('save_frames_artists/lyrics_clean.csv')"
   ]
  },
  {
   "cell_type": "code",
   "execution_count": 29,
   "id": "6650dd95",
   "metadata": {},
   "outputs": [],
   "source": [
    "df.artist_name.loc[df.artist_name == 'bob_dylan'] =0\n",
    "df.artist_name.loc[df.artist_name == 'eminem'] =1\n"
   ]
  },
  {
   "cell_type": "code",
   "execution_count": 30,
   "id": "19e7ac59",
   "metadata": {},
   "outputs": [],
   "source": [
    "X = pd.DataFrame(df['lyrics'])\n",
    "y = df.artist_name"
   ]
  },
  {
   "cell_type": "code",
   "execution_count": 31,
   "id": "c56b61b5",
   "metadata": {},
   "outputs": [],
   "source": [
    "X_train, X_test, y_train, y_test = train_test_split(X, y, test_size = 0.33,random_state=42)\n",
    "y_test=y_test.astype(int)\n",
    "y_train=y_train.astype(int)"
   ]
  },
  {
   "cell_type": "code",
   "execution_count": 32,
   "id": "ba76f43a",
   "metadata": {},
   "outputs": [],
   "source": [
    "def Countvect_fit_transf(trainX, trainY): # sample is the df.song_lyric[:2]\n",
    "    vectorizer = TfidfVectorizer(stop_words='english',ngram_range=(1, 3))\n",
    "    X = vectorizer.fit_transform(trainX.apply(lambda x: np.str_(x)))    \n",
    "    X_cv= pd.DataFrame(X.todense(), columns=vectorizer.get_feature_names(),index = trainY)\n",
    "\n",
    "\n",
    "    return X_cv , vectorizer\n",
    "\n",
    "def Countvect_transf(testX, testY, self_vectorizer): # sample is the df.song_lyric[:2]\n",
    "    X = self_vectorizer.transform(testX.apply(lambda x: np.str_(x)))    \n",
    "    X_cv= pd.DataFrame(X.todense(), columns=vectorizer.get_feature_names(),index = testY)\n",
    "\n",
    "    return X_cv\n",
    "\n",
    "def Countvect_transf_input(inputX, self_vectorizer): # sample is the df.song_lyric[:2]\n",
    "    X = self_vectorizer.transform([inputX])    \n",
    "    X_cv= pd.DataFrame(X.todense(), columns=vectorizer.get_feature_names())\n",
    "\n",
    "    return X_cv\n"
   ]
  },
  {
   "cell_type": "code",
   "execution_count": 33,
   "id": "6b8efc45",
   "metadata": {},
   "outputs": [],
   "source": [
    "input_lyr = input('Give me your lyrics: ')"
   ]
  },
  {
   "cell_type": "code",
   "execution_count": 34,
   "id": "51d13fad",
   "metadata": {},
   "outputs": [
    {
     "name": "stderr",
     "output_type": "stream",
     "text": [
      "/opt/anaconda3/lib/python3.7/site-packages/sklearn/utils/deprecation.py:87: FutureWarning: Function get_feature_names is deprecated; get_feature_names is deprecated in 1.0 and will be removed in 1.2. Please use get_feature_names_out instead.\n",
      "  warnings.warn(msg, category=FutureWarning)\n"
     ]
    }
   ],
   "source": [
    "frame_cv_train, vectorizer =Countvect_fit_transf(X_train['lyrics'], y_train)\n",
    "frame_cv_test =Countvect_transf(X_test['lyrics'], y_test, vectorizer)\n",
    "frame_cv_input =Countvect_transf_input(input_lyr, vectorizer)"
   ]
  },
  {
   "cell_type": "code",
   "execution_count": 35,
   "id": "1fa509c1",
   "metadata": {},
   "outputs": [
    {
     "data": {
      "text/plain": [
       "((4829, 24264), (2379, 24264), (1, 24264), (2379,), (4829,))"
      ]
     },
     "execution_count": 35,
     "metadata": {},
     "output_type": "execute_result"
    }
   ],
   "source": [
    "frame_cv_train.shape, frame_cv_test.shape, frame_cv_input.shape, y_test.shape, y_train.shape\n"
   ]
  },
  {
   "cell_type": "markdown",
   "id": "aa8dd879",
   "metadata": {},
   "source": [
    "# Model train"
   ]
  },
  {
   "cell_type": "code",
   "execution_count": 38,
   "id": "6bd79261",
   "metadata": {},
   "outputs": [],
   "source": [
    "from sklearn.pipeline import Pipeline\n",
    "from sklearn.linear_model import LogisticRegression\n",
    "from sklearn.ensemble import RandomForestClassifier\n",
    "from sklearn.model_selection import GridSearchCV\n",
    "from sklearn.metrics import accuracy_score, precision_score, recall_score, f1_score, confusion_matrix, ConfusionMatrixDisplay"
   ]
  },
  {
   "cell_type": "code",
   "execution_count": 39,
   "id": "664f0a84",
   "metadata": {},
   "outputs": [],
   "source": [
    "\n",
    "def pipe_line(model,frame_cv_train, y_train,frame_cv_test, y_test,frame_cv_input,input_lyr):\n",
    "    if model == 'LogisticRegression':\n",
    "        pipe = Pipeline([('LogisticRegression', LogisticRegression(class_weight='balanced_subsample'))])\n",
    "        lr = pipe.fit(frame_cv_train, y_train)  \n",
    "        train_accuracy = lr.score(frame_cv_train, y_train)\n",
    "        test_accuracy = lr.score(frame_cv_test, y_test)\n",
    "        ypred = lr.predict(frame_cv_input) \n",
    "        prediction = ypred\n",
    "        if prediction == 0:\n",
    "            name = 'Bob_Dylan'\n",
    "        else:\n",
    "            name = 'Eminem'\n",
    "        print(f'The model gives that the \\'{input_lyr}\\' was said by {name}, with accuracy = {round(test_accuracy,2)*100}%. ')\n",
    "    elif model == 'RandomForest':\n",
    "        pipe = Pipeline([('RandomForest', RandomForestClassifier(max_depth=3, n_estimators=10, random_state=42, class_weight='balanced'))])\n",
    "        parameter_grid = {\n",
    "                        'RandomForest__max_depth' : [2,3,4,5,6]\n",
    "                        }\n",
    "        gridsearch = GridSearchCV(pipe, \n",
    "                          parameter_grid, \n",
    "                          scoring=None,\n",
    "                          verbose=3)\n",
    "        gridsearch.fit(frame_cv_train, y_train)\n",
    "        gridsearch.best_estimator_.score(frame_cv_test, y_test)\n",
    "        ypred = gridsearch.best_estimator_.predict(frame_cv_test)\n",
    "        accuracy_score(ypred, y_test)\n",
    "        prediction = ypred[0]\n",
    "        if prediction == 0:\n",
    "            name = 'Bob_Dylan'\n",
    "        else:\n",
    "            name = 'Eminem'\n",
    "        print(f'The model gives that the \\'{input_lyr}\\' was said by {name}, with accuracy = {round(accuracy_score(ypred, y_test),2)*100}%.')\n",
    "    else:\n",
    "        print('That is not a valid name_model!! Try between \\'LogisticRegression\\', \\'RandomForest\\' and \\'NEW\\'.')\n",
    "   "
   ]
  },
  {
   "cell_type": "code",
   "execution_count": 40,
   "id": "3682eed5",
   "metadata": {},
   "outputs": [
    {
     "name": "stdout",
     "output_type": "stream",
     "text": [
      "Fitting 5 folds for each of 5 candidates, totalling 25 fits\n",
      "[CV 1/5] END .........RandomForest__max_depth=2;, score=0.405 total time=   3.4s\n",
      "[CV 2/5] END .........RandomForest__max_depth=2;, score=0.608 total time=   2.4s\n",
      "[CV 3/5] END .........RandomForest__max_depth=2;, score=0.611 total time=   1.7s\n",
      "[CV 4/5] END .........RandomForest__max_depth=2;, score=0.445 total time=   1.7s\n",
      "[CV 5/5] END .........RandomForest__max_depth=2;, score=0.616 total time=   1.6s\n",
      "[CV 1/5] END .........RandomForest__max_depth=3;, score=0.411 total time=   1.9s\n",
      "[CV 2/5] END .........RandomForest__max_depth=3;, score=0.630 total time=   1.7s\n",
      "[CV 3/5] END .........RandomForest__max_depth=3;, score=0.615 total time=   1.7s\n",
      "[CV 4/5] END .........RandomForest__max_depth=3;, score=0.452 total time=   1.7s\n",
      "[CV 5/5] END .........RandomForest__max_depth=3;, score=0.631 total time=   1.7s\n",
      "[CV 1/5] END .........RandomForest__max_depth=4;, score=0.616 total time=   2.1s\n",
      "[CV 2/5] END .........RandomForest__max_depth=4;, score=0.629 total time=   1.8s\n",
      "[CV 3/5] END .........RandomForest__max_depth=4;, score=0.624 total time=   1.8s\n",
      "[CV 4/5] END .........RandomForest__max_depth=4;, score=0.617 total time=   1.8s\n",
      "[CV 5/5] END .........RandomForest__max_depth=4;, score=0.634 total time=   1.8s\n",
      "[CV 1/5] END .........RandomForest__max_depth=5;, score=0.620 total time=   1.9s\n",
      "[CV 2/5] END .........RandomForest__max_depth=5;, score=0.638 total time=   2.2s\n",
      "[CV 3/5] END .........RandomForest__max_depth=5;, score=0.626 total time=   1.9s\n",
      "[CV 4/5] END .........RandomForest__max_depth=5;, score=0.467 total time=   1.8s\n",
      "[CV 5/5] END .........RandomForest__max_depth=5;, score=0.641 total time=   1.9s\n",
      "[CV 1/5] END .........RandomForest__max_depth=6;, score=0.629 total time=   2.1s\n",
      "[CV 2/5] END .........RandomForest__max_depth=6;, score=0.639 total time=   2.1s\n",
      "[CV 3/5] END .........RandomForest__max_depth=6;, score=0.633 total time=   2.0s\n",
      "[CV 4/5] END .........RandomForest__max_depth=6;, score=0.479 total time=   1.9s\n",
      "[CV 5/5] END .........RandomForest__max_depth=6;, score=0.640 total time=   1.9s\n",
      "The model gives that the 'bitch' was said by Eminem, with accuracy = 59.0%.\n"
     ]
    },
    {
     "data": {
      "text/plain": [
       "array([1, 1, 1, ..., 1, 1, 1])"
      ]
     },
     "execution_count": 40,
     "metadata": {},
     "output_type": "execute_result"
    }
   ],
   "source": [
    "\n",
    "input_model = str(input('Give me which model I should use between \\'LogisticRegression\\', \\'RandomForest\\' and \\'NEW\\'.'))\n",
    "pipe_line(input_model,frame_cv_train, y_train,frame_cv_test, y_test,frame_cv_input,input_lyr)  \n"
   ]
  },
  {
   "cell_type": "code",
   "execution_count": 41,
   "id": "71d8f67c",
   "metadata": {},
   "outputs": [
    {
     "ename": "NameError",
     "evalue": "name 'my_estimator' is not defined",
     "output_type": "error",
     "traceback": [
      "\u001b[0;31m---------------------------------------------------------------------------\u001b[0m",
      "\u001b[0;31mNameError\u001b[0m                                 Traceback (most recent call last)",
      "\u001b[0;32m/var/folders/08/6zrs8w253573k0k0yjq1w49c0000gn/T/ipykernel_80916/2792651026.py\u001b[0m in \u001b[0;36m<module>\u001b[0;34m\u001b[0m\n\u001b[1;32m      3\u001b[0m \u001b[0;34m\u001b[0m\u001b[0m\n\u001b[1;32m      4\u001b[0m \u001b[0;32mwith\u001b[0m \u001b[0mopen\u001b[0m\u001b[0;34m(\u001b[0m\u001b[0;34m'my_estimator.pkl'\u001b[0m\u001b[0;34m,\u001b[0m\u001b[0;34m'wb'\u001b[0m\u001b[0;34m)\u001b[0m \u001b[0;32mas\u001b[0m \u001b[0mmy_file\u001b[0m\u001b[0;34m:\u001b[0m\u001b[0;34m\u001b[0m\u001b[0;34m\u001b[0m\u001b[0m\n\u001b[0;32m----> 5\u001b[0;31m     \u001b[0mpickle\u001b[0m\u001b[0;34m.\u001b[0m\u001b[0mdump\u001b[0m\u001b[0;34m(\u001b[0m\u001b[0mmy_estimator\u001b[0m\u001b[0;34m,\u001b[0m \u001b[0mmy_file\u001b[0m\u001b[0;34m)\u001b[0m\u001b[0;34m\u001b[0m\u001b[0;34m\u001b[0m\u001b[0m\n\u001b[0m\u001b[1;32m      6\u001b[0m \u001b[0;34m\u001b[0m\u001b[0m\n\u001b[1;32m      7\u001b[0m \u001b[0;34m\u001b[0m\u001b[0m\n",
      "\u001b[0;31mNameError\u001b[0m: name 'my_estimator' is not defined"
     ]
    }
   ],
   "source": [
    "# save model in notebook\n",
    "import pickle\n",
    "\n",
    "with open('my_estimator.pkl','wb') as my_file:\n",
    "    pickle.dump(my_estimator, my_file)\n",
    "\n",
    "\n",
    "with open('my_estimator.pkl','rb') as my_file:\n",
    "    my_estimator = pickle.load(my_file)\n",
    "\n",
    "\n",
    "my_estimator.predict_proba(X_test) #gives probability of X_test is 1"
   ]
  }
 ],
 "metadata": {
  "kernelspec": {
   "display_name": "Python 3 (ipykernel)",
   "language": "python",
   "name": "python3"
  },
  "language_info": {
   "codemirror_mode": {
    "name": "ipython",
    "version": 3
   },
   "file_extension": ".py",
   "mimetype": "text/x-python",
   "name": "python",
   "nbconvert_exporter": "python",
   "pygments_lexer": "ipython3",
   "version": "3.7.11"
  }
 },
 "nbformat": 4,
 "nbformat_minor": 5
}
