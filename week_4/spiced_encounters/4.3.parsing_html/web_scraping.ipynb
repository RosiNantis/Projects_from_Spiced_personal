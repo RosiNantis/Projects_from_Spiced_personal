{
 "cells": [
  {
   "cell_type": "markdown",
   "metadata": {},
   "source": [
    "# Web Scraping, a.k.a. `requests`"
   ]
  },
  {
   "cell_type": "markdown",
   "metadata": {},
   "source": [
    "### 🎯 Goal: learn how to get pages from a websites"
   ]
  },
  {
   "cell_type": "markdown",
   "metadata": {},
   "source": [
    "Web scraping = getting data from websites"
   ]
  },
  {
   "cell_type": "code",
   "execution_count": 1,
   "metadata": {},
   "outputs": [],
   "source": [
    "import requests"
   ]
  },
  {
   "cell_type": "markdown",
   "metadata": {},
   "source": [
    "Requests allows us to send HTTP requests to website/servers. It sends back a response code, and the full html (if successful)."
   ]
  },
  {
   "cell_type": "code",
   "execution_count": 2,
   "metadata": {},
   "outputs": [],
   "source": [
    "url = 'https://www.spiced-academy.com/en'"
   ]
  },
  {
   "cell_type": "code",
   "execution_count": 3,
   "metadata": {},
   "outputs": [],
   "source": [
    "response = requests.get(url)"
   ]
  },
  {
   "cell_type": "code",
   "execution_count": 4,
   "metadata": {},
   "outputs": [
    {
     "data": {
      "text/plain": [
       "<Response [200]>"
      ]
     },
     "execution_count": 4,
     "metadata": {},
     "output_type": "execute_result"
    }
   ],
   "source": [
    "response"
   ]
  },
  {
   "cell_type": "markdown",
   "metadata": {},
   "source": [
    "200 is a status/response code. 404 is another one.\n",
    "\n",
    "* 200-range: success!\n",
    "* 300-range: redirect\n",
    "* 400-range: client-side error (_it's not them, it's you!_)\n",
    "* 500-range: server-side error (_it's not you, it's them!_)"
   ]
  },
  {
   "cell_type": "code",
   "execution_count": 5,
   "metadata": {},
   "outputs": [
    {
     "data": {
      "text/plain": [
       "200"
      ]
     },
     "execution_count": 5,
     "metadata": {},
     "output_type": "execute_result"
    }
   ],
   "source": [
    "response.status_code"
   ]
  },
  {
   "cell_type": "code",
   "execution_count": 6,
   "metadata": {},
   "outputs": [
    {
     "data": {
      "text/plain": [
       "requests.models.Response"
      ]
     },
     "execution_count": 6,
     "metadata": {},
     "output_type": "execute_result"
    }
   ],
   "source": [
    "type(response)"
   ]
  },
  {
   "cell_type": "code",
   "execution_count": 13,
   "metadata": {},
   "outputs": [
    {
     "name": "stdout",
     "output_type": "stream",
     "text": [
      "<!DOCTYPE html>\n",
      "<html lang=\"en\" prefix=\"og: http://ogp.me/ns# fb: http://ogp.me/ns/fb#\" dir=\"ltr\">\n",
      "\n",
      "<head>\n",
      "    <title>Your new career starts here | Spiced Academy</title>\n",
      "    <meta name=\"description\" content=\"Kickstart your new career with our intensive, on-site tech programs in Web Development and Data Science.\">\n",
      "    \n",
      "    <meta charset=\"UTF-8\">\n",
      "    <meta name=\"viewport\" content=\"width=device-width, initial-scale=1\" />\n",
      "    <link href=\"https://fonts.googleapis.com/css?family=Poppins:300,400,600&display=swap\" rel=\"stylesheet\">\n",
      "    <link href=\"https://fonts.googleapis.com/css?family=IBM+Plex+Mono:400,500&display=swap\" rel=\"stylesheet\">\n",
      "    <link rel='stylesheet' href='/css/main.css'>\n",
      "    <link rel=\"apple-touch-icon\" sizes=\"180x180\" href=\"/apple-touch-icon.png?v=3\">\n",
      "    <link rel=\"icon\" type=\"image/png\" sizes=\"32x32\" href=\"/favicon-32x32.png?v=3\">\n",
      "    <link rel=\"icon\" type=\"image/png\" sizes=\"16x16\" href=\"/favicon-16x16.png?v=3\">\n",
      "    <link rel=\"mask-icon\" href=\"/safari-pinned-tab\n"
     ]
    }
   ],
   "source": [
    "print(response.text[:1000])"
   ]
  },
  {
   "cell_type": "markdown",
   "metadata": {},
   "source": [
    "What do you notice?\n",
    "\n",
    "* It is written in HTML (you don't need to know HTML to scrape data though!)\n",
    "* It is structured using _tags_ (stuff in angled brackets), _classs_ and _ids_\n",
    "* It is nested/hierarchical"
   ]
  },
  {
   "cell_type": "markdown",
   "metadata": {},
   "source": [
    "### Writing/reading files in python\n",
    "\n",
    "(You will need this to save your artists page file to your computer.)"
   ]
  },
  {
   "cell_type": "code",
   "execution_count": 14,
   "metadata": {},
   "outputs": [
    {
     "data": {
      "text/plain": [
       "51189"
      ]
     },
     "execution_count": 14,
     "metadata": {},
     "output_type": "execute_result"
    }
   ],
   "source": [
    "f = open('spiced_html.txt', 'w') # w: write\n",
    "f.write(response.text)\n",
    "f.close()"
   ]
  },
  {
   "cell_type": "code",
   "execution_count": 16,
   "metadata": {},
   "outputs": [],
   "source": [
    "with open('spiced_html2.txt', 'w') as f:\n",
    "    f.write(response.text)"
   ]
  },
  {
   "cell_type": "code",
   "execution_count": 17,
   "metadata": {},
   "outputs": [],
   "source": [
    "with open('spiced_html2.txt', 'r') as f: # r: read\n",
    "    spiced_html = f.read()"
   ]
  },
  {
   "cell_type": "code",
   "execution_count": 18,
   "metadata": {},
   "outputs": [
    {
     "name": "stdout",
     "output_type": "stream",
     "text": [
      "<!DOCTYPE html>\n",
      "<html lang=\"en\" prefix=\"og: http://ogp.me/ns# fb: http://ogp.me/ns/fb#\" dir=\"ltr\">\n",
      "\n",
      "<head>\n",
      "    <title>Your new career starts here | Spiced Academy</title>\n",
      "    <meta name=\"description\" content=\"Kickstart your new career with our intensive, on-site tech programs in Web Development and Data Science.\">\n",
      "    \n",
      "    <meta charset=\"UTF-8\">\n",
      "    <meta name=\"viewport\" content=\"width=device-width, initial-scale=1\" />\n",
      "    <link href=\"https://fonts.googleapis.com/css?family=Poppins:300,400,600&display=swap\" rel=\"stylesheet\">\n",
      "    <link href=\"https://fonts.googleapis.com/css?family=IBM+Plex+Mono:400,500&display=swap\" rel=\"stylesheet\">\n",
      "    <link rel='stylesheet' href='/css/main.css'>\n",
      "    <link rel=\"apple-touch-icon\" sizes=\"180x180\" href=\"/apple-touch-icon.png?v=3\">\n",
      "    <link rel=\"icon\" type=\"image/png\" sizes=\"32x32\" href=\"/favicon-32x32.png?v=3\">\n",
      "    <link rel=\"icon\" type=\"image/png\" sizes=\"16x16\" href=\"/favicon-16x16.png?v=3\">\n",
      "    <link rel=\"mask-icon\" href=\"/safari-pinned-tab.svg\" color\n"
     ]
    }
   ],
   "source": [
    "print(spiced_html[:1000])"
   ]
  },
  {
   "cell_type": "code",
   "execution_count": 19,
   "metadata": {},
   "outputs": [],
   "source": [
    "with open('spiced_html2.txt', 'a') as f: # a: append\n",
    "    f.write('I am adding a line.')"
   ]
  },
  {
   "cell_type": "markdown",
   "metadata": {},
   "source": [
    "### Inspecting a webpage\n",
    "\n",
    "(You will need this to find links to individual songs in your artist's page.)"
   ]
  },
  {
   "cell_type": "code",
   "execution_count": 20,
   "metadata": {},
   "outputs": [],
   "source": [
    "url = 'https://en.wikipedia.org/wiki/Michael_Jackson'"
   ]
  },
  {
   "cell_type": "code",
   "execution_count": 21,
   "metadata": {},
   "outputs": [],
   "source": [
    "response = requests.get(url)"
   ]
  },
  {
   "cell_type": "code",
   "execution_count": 22,
   "metadata": {},
   "outputs": [
    {
     "data": {
      "text/plain": [
       "<Response [200]>"
      ]
     },
     "execution_count": 22,
     "metadata": {},
     "output_type": "execute_result"
    }
   ],
   "source": [
    "response"
   ]
  },
  {
   "cell_type": "code",
   "execution_count": 30,
   "metadata": {
    "collapsed": true,
    "jupyter": {
     "outputs_hidden": true
    }
   },
   "outputs": [
    {
     "name": "stdout",
     "output_type": "stream",
     "text": [
      "<!DOCTYPE html>\n",
      "<html class=\"client-nojs\" lang=\"en\" dir=\"ltr\">\n",
      "<head>\n",
      "<meta charset=\"UTF-8\"/>\n",
      "<title>Jam (song) - Wikipedia</title>\n",
      "<script>document.documentElement.className=\"client-js\";RLCONF={\"wgBreakFrames\":false,\"wgSeparatorTransformTable\":[\"\",\"\"],\"wgDigitTransformTable\":[\"\",\"\"],\"wgDefaultDateFormat\":\"dmy\",\"wgMonthNames\":[\"\",\"January\",\"February\",\"March\",\"April\",\"May\",\"June\",\"July\",\"August\",\"September\",\"October\",\"November\",\"December\"],\"wgRequestId\":\"f1be453e-6300-4df6-89ea-5e9f57aa1309\",\"wgCSPNonce\":false,\"wgCanonicalNamespace\":\"\",\"wgCanonicalSpecialPageName\":false,\"wgNamespaceNumber\":0,\"wgPageName\":\"Jam_(song)\",\"wgTitle\":\"Jam (song)\",\"wgCurRevisionId\":1072753187,\"wgRevisionId\":1072753187,\"wgArticleId\":3943758,\"wgIsArticle\":true,\"wgIsRedirect\":false,\"wgAction\":\"view\",\"wgUserName\":null,\"wgUserGroups\":[\"*\"],\"wgCategories\":[\"CS1 Finnish-language sources (fi)\",\"Articles with short description\",\"Short description is different from Wikidata\",\"Use American English from August 2019\",\"All W\n"
     ]
    }
   ],
   "source": [
    "print(response.text[:1000])"
   ]
  },
  {
   "cell_type": "code",
   "execution_count": 24,
   "metadata": {},
   "outputs": [],
   "source": [
    "import re"
   ]
  },
  {
   "cell_type": "code",
   "execution_count": 25,
   "metadata": {},
   "outputs": [],
   "source": [
    "links = re.findall('href.{100}', response.text)"
   ]
  },
  {
   "cell_type": "code",
   "execution_count": 28,
   "metadata": {},
   "outputs": [],
   "source": [
    "# You will automate this part for your project\n",
    "song_links = ['/wiki/Blood_on_the_Dance_Floor_(song)',\n",
    "              '/wiki/Thriller_(song)',\n",
    "              '/wiki/Jam_(song)']"
   ]
  },
  {
   "cell_type": "code",
   "execution_count": 29,
   "metadata": {},
   "outputs": [
    {
     "name": "stdout",
     "output_type": "stream",
     "text": [
      "0 /wiki/Blood_on_the_Dance_Floor_(song) 200\n",
      "1 /wiki/Thriller_(song) 200\n",
      "2 /wiki/Jam_(song) 200\n"
     ]
    }
   ],
   "source": [
    "for counter, link in enumerate(song_links):\n",
    "    url = 'https://en.wikipedia.org' + link\n",
    "    response = requests.get(url)\n",
    "    with open(f'{counter}.txt', 'w', encoding='utf-8') as f:\n",
    "        f.write(response.text)\n",
    "    print(counter, link, response.status_code)"
   ]
  },
  {
   "cell_type": "code",
   "execution_count": 36,
   "metadata": {},
   "outputs": [
    {
     "name": "stdout",
     "output_type": "stream",
     "text": [
      "0 Blood_on_the_Dance_Floor_(song) 200\n",
      "1 Thriller_(song) 200\n",
      "2 Jam_(song) 200\n"
     ]
    }
   ],
   "source": [
    "for counter, link in enumerate(song_links):\n",
    "    url = 'https://en.wikipedia.org' + link\n",
    "    response = requests.get(url)\n",
    "    song_title = link.split('/')[2]\n",
    "    with open(f'{song_title}.txt', 'w', encoding='utf-8') as f:\n",
    "        f.write(response.text)\n",
    "    print(counter, song_title, response.status_code)"
   ]
  },
  {
   "cell_type": "markdown",
   "metadata": {},
   "source": [
    "You have two options:\n",
    "* You could save the full html of your song page into a file\n",
    "* You can do some more web scraping magic and extraxt just the lyrics and save that into a file"
   ]
  }
 ],
 "metadata": {
  "kernelspec": {
   "display_name": "Python 3 (ipykernel)",
   "language": "python",
   "name": "python3"
  },
  "language_info": {
   "codemirror_mode": {
    "name": "ipython",
    "version": 3
   },
   "file_extension": ".py",
   "mimetype": "text/x-python",
   "name": "python",
   "nbconvert_exporter": "python",
   "pygments_lexer": "ipython3",
   "version": "3.8.8"
  }
 },
 "nbformat": 4,
 "nbformat_minor": 4
}
