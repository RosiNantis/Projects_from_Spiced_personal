{
 "cells": [
  {
   "cell_type": "code",
   "execution_count": 42,
   "metadata": {},
   "outputs": [],
   "source": [
    "import requests\n"
   ]
  },
  {
   "cell_type": "code",
   "execution_count": 43,
   "metadata": {},
   "outputs": [],
   "source": [
    "def search_url(url): \n",
    "    \"\"\"\n",
    "    search_url is a function that accepts as parameter a url string\n",
    "    and then returns a text file named as text with the web page\n",
    "    requested. \n",
    "    It prints in the excecustion if the code is corectly downloaded.\n",
    "    It uses request package!\n",
    "    \"\"\"                                                                                               \n",
    "    header = {'User-Agent': 'Mozilla/5.0 (Macintosh; Intel Mac OS X 10_10_1) AppleWebKit/537.36 (KHTML, like Gecko) Chrome/39.0.2171.95 Safari/537.36'}\n",
    "    response = requests.get(url, headers=header)\n",
    "    print(f'The code is {response.status_code}')\n",
    "    with open('response.txt', 'w') as f:\n",
    "        f.write(response.text)\n",
    "    text = response.text\n",
    "    return text "
   ]
  },
  {
   "cell_type": "code",
   "execution_count": 44,
   "metadata": {},
   "outputs": [
    {
     "name": "stdout",
     "output_type": "stream",
     "text": [
      "The code is 200\n"
     ]
    }
   ],
   "source": [
    "#response.text , response.status_code = \n",
    "text = search_url('https://www.azlyrics.com/d/dylan.html')"
   ]
  },
  {
   "cell_type": "code",
   "execution_count": 47,
   "metadata": {},
   "outputs": [
    {
     "name": "stdout",
     "output_type": "stream",
     "text": [
      "The code is 200\n",
      "0 /lyrics/bobdylan/shesnogood.html 200\n",
      "1 /lyrics/bobdylan/talkinnewyork.html 200\n",
      "2 /lyrics/bobdylan/inmytimeofdyin.html 200\n",
      "3 /lyrics/bobdylan/manofconstantsorrow.html 200\n",
      "4 /lyrics/bobdylan/fixintodieblues.html 200\n",
      "5 /lyrics/bobdylan/prettypeggyo.html 200\n"
     ]
    },
    {
     "ename": "KeyboardInterrupt",
     "evalue": "",
     "output_type": "error",
     "traceback": [
      "\u001b[0;31m---------------------------------------------------------------------------\u001b[0m",
      "\u001b[0;31mKeyboardInterrupt\u001b[0m                         Traceback (most recent call last)",
      "\u001b[0;32m/var/folders/08/6zrs8w253573k0k0yjq1w49c0000gn/T/ipykernel_4441/4136397291.py\u001b[0m in \u001b[0;36m<module>\u001b[0;34m\u001b[0m\n\u001b[1;32m     25\u001b[0m \u001b[0;34m\u001b[0m\u001b[0m\n\u001b[1;32m     26\u001b[0m \u001b[0mtext\u001b[0m \u001b[0;34m=\u001b[0m\u001b[0msearch_url\u001b[0m\u001b[0;34m(\u001b[0m\u001b[0;34m'https://www.azlyrics.com/d/dylan.html'\u001b[0m\u001b[0;34m)\u001b[0m\u001b[0;34m\u001b[0m\u001b[0;34m\u001b[0m\u001b[0m\n\u001b[0;32m---> 27\u001b[0;31m \u001b[0mfinder\u001b[0m\u001b[0;34m(\u001b[0m\u001b[0;34mr'/lyrics+/+bobdylan+/+\\w+\\.html'\u001b[0m\u001b[0;34m,\u001b[0m\u001b[0mtext\u001b[0m\u001b[0;34m,\u001b[0m\u001b[0;34m'http://www.azlyrics.com'\u001b[0m\u001b[0;34m)\u001b[0m\u001b[0;34m\u001b[0m\u001b[0;34m\u001b[0m\u001b[0m\n\u001b[0m",
      "\u001b[0;32m/var/folders/08/6zrs8w253573k0k0yjq1w49c0000gn/T/ipykernel_4441/4136397291.py\u001b[0m in \u001b[0;36mfinder\u001b[0;34m(pattern, text, url_intro)\u001b[0m\n\u001b[1;32m     17\u001b[0m         \u001b[0mheader\u001b[0m \u001b[0;34m=\u001b[0m \u001b[0;34m{\u001b[0m\u001b[0;34m'User-Agent'\u001b[0m\u001b[0;34m:\u001b[0m \u001b[0;34m'Mozilla/5.0 (Macintosh; Intel Mac OS X 10_10_1) AppleWebKit/537.36 (KHTML, like Gecko) Chrome/39.0.2171.95 Safari/537.36'\u001b[0m\u001b[0;34m}\u001b[0m\u001b[0;34m\u001b[0m\u001b[0;34m\u001b[0m\u001b[0m\n\u001b[1;32m     18\u001b[0m         \u001b[0mresponse\u001b[0m \u001b[0;34m=\u001b[0m \u001b[0mrequests\u001b[0m\u001b[0;34m.\u001b[0m\u001b[0mget\u001b[0m\u001b[0;34m(\u001b[0m\u001b[0murl\u001b[0m\u001b[0;34m,\u001b[0m\u001b[0mheaders\u001b[0m \u001b[0;34m=\u001b[0m \u001b[0mheader\u001b[0m\u001b[0;34m)\u001b[0m\u001b[0;34m\u001b[0m\u001b[0;34m\u001b[0m\u001b[0m\n\u001b[0;32m---> 19\u001b[0;31m         \u001b[0mtime\u001b[0m\u001b[0;34m.\u001b[0m\u001b[0msleep\u001b[0m\u001b[0;34m(\u001b[0m\u001b[0;36m5\u001b[0m\u001b[0;34m)\u001b[0m\u001b[0;34m\u001b[0m\u001b[0;34m\u001b[0m\u001b[0m\n\u001b[0m\u001b[1;32m     20\u001b[0m         \u001b[0;32mwith\u001b[0m \u001b[0mopen\u001b[0m\u001b[0;34m(\u001b[0m\u001b[0;34mf'{counter}.txt'\u001b[0m\u001b[0;34m,\u001b[0m \u001b[0;34m'w'\u001b[0m\u001b[0;34m,\u001b[0m \u001b[0mencoding\u001b[0m\u001b[0;34m=\u001b[0m\u001b[0;34m'utf-8'\u001b[0m\u001b[0;34m)\u001b[0m \u001b[0;32mas\u001b[0m \u001b[0mf\u001b[0m\u001b[0;34m:\u001b[0m\u001b[0;34m\u001b[0m\u001b[0;34m\u001b[0m\u001b[0m\n\u001b[1;32m     21\u001b[0m             \u001b[0mf\u001b[0m\u001b[0;34m.\u001b[0m\u001b[0mwrite\u001b[0m\u001b[0;34m(\u001b[0m\u001b[0mresponse\u001b[0m\u001b[0;34m.\u001b[0m\u001b[0mtext\u001b[0m\u001b[0;34m)\u001b[0m\u001b[0;34m\u001b[0m\u001b[0;34m\u001b[0m\u001b[0m\n",
      "\u001b[0;31mKeyboardInterrupt\u001b[0m: "
     ]
    }
   ],
   "source": [
    "def finder(pattern,text,url_intro):\n",
    "    \"\"\"\n",
    "    finder is a function that finds the initial text file for pattern and saves\n",
    "    different enumerated links according to the pattern that you requested in the parameters.\n",
    "    The number of final texts created depend on the number of same patterns it will find.\n",
    "    Parameters::\n",
    "    text: is the file .txt in the workspace from where we want to find teh rewuired patterns\n",
    "    pattern: is the sequence of symbols that isolate the required strings in page. r' ... ' \n",
    "    url_intro: is the string that includes the initial webpage, i.e. 'http://www.azlyrics.com'\n",
    "    returns a list of links with the corresponding counter.\n",
    "    \"\"\"\n",
    "    import re\n",
    "    import time\n",
    "    links = re.findall(pattern,text)\n",
    "    for counter, link in enumerate(links):\n",
    "        url = url_intro + link\n",
    "        header = {'User-Agent': 'Mozilla/5.0 (Macintosh; Intel Mac OS X 10_10_1) AppleWebKit/537.36 (KHTML, like Gecko) Chrome/39.0.2171.95 Safari/537.36'}\n",
    "        response = requests.get(url,headers = header)\n",
    "        time.sleep(5)\n",
    "        with open(f'{counter}.txt', 'w', encoding='utf-8') as f:\n",
    "            f.write(response.text)\n",
    "        print(counter, link, response.status_code)\n",
    "\n",
    "    return counter, link\n",
    "\n",
    "text =search_url('https://www.azlyrics.com/d/dylan.html')\n",
    "finder(r'/lyrics+/+bobdylan+/+\\w+\\.html',text,'http://www.azlyrics.com')"
   ]
  },
  {
   "cell_type": "markdown",
   "metadata": {},
   "source": [
    "# Make it one function"
   ]
  },
  {
   "cell_type": "markdown",
   "metadata": {},
   "source": [
    "- Try to enoumerate the files that are blank and continue!"
   ]
  },
  {
   "cell_type": "code",
   "execution_count": null,
   "metadata": {},
   "outputs": [],
   "source": [
    "def finder(pattern,text,url_intro):\n",
    "    \"\"\"\n",
    "    finder is a function that finds the initial text file for pattern and saves\n",
    "    different enumerated links according to the pattern that you requested in the parameters.\n",
    "    The number of final texts created depend on the number of same patterns it will find.\n",
    "    Parameters::\n",
    "    text: is the file .txt in the workspace from where we want to find teh rewuired patterns\n",
    "    pattern: is the sequence of symbols that isolate the required strings in page. r' ... ' \n",
    "    url_intro: is the string that includes the initial webpage, i.e. 'http://www.azlyrics.com'\n",
    "    returns a list of links with the corresponding counter.\n",
    "    \"\"\"\n",
    "    import re\n",
    "    import time\n",
    "    links = re.findall(pattern,text)\n",
    "    #for counter, link in enumerate(links):\n",
    "    #    url = url_intro + link[]\n",
    "    for counter, link in enumerate(range(98,200)):\n",
    "        url = url_intro + links[link]\n",
    "        header = {'User-Agent': 'Mozilla/5.0 (Macintosh; Intel Mac OS X 10_10_1) AppleWebKit/537.36 (KHTML, like Gecko) Chrome/39.0.2171.95 Safari/537.36'}\n",
    "        response = requests.get(url,headers = header)\n",
    "        time.sleep(3)\n",
    "       #with open(f'{counter}.txt', 'w', encoding='utf-8') as f:\n",
    "        with open(f'{link}.txt', 'w', encoding='utf-8') as f:\n",
    "            f.write(response.text)\n",
    "        print(counter, link, response.status_code)\n",
    "\n",
    "    return counter, link\n",
    "\n",
    "text =search_url('https://www.azlyrics.com/d/dylan.html')\n",
    "finder(r'/lyrics+/+bobdylan+/+\\w+\\.html',text,'http://www.azlyrics.com')"
   ]
  },
  {
   "cell_type": "markdown",
   "metadata": {},
   "source": [
    "- Make a function with everything combined!"
   ]
  },
  {
   "cell_type": "code",
   "execution_count": null,
   "metadata": {},
   "outputs": [],
   "source": [
    "def give_url(link, pattern):\n",
    "    headers = {'User-Agent': 'Mozilla/5.0 (Macintosh; Intel Mac OS X 10_10_1) AppleWebKit/537.36 (KHTML, like Gecko) Chrome/39.0.2171.95 Safari/537.36'}\n",
    "    response = requests.get(link,headers)\n",
    "    with open('response.txt', 'w') as f:\n",
    "        f.write(response.text)\n",
    "    print(response.status_code)\n",
    "    def finder(response):\n",
    "        import re\n",
    "        song_links = []\n",
    "        links = re.findall(pattern,response)\n",
    "        for counter, link in enumerate(links):\n",
    "            url = 'http://www.azlyrics.com' + link\n",
    "            response = requests.get(url,headers)\n",
    "            with open(f'{counter}.txt', 'w', encoding='utf-8') as f:\n",
    "                f.write(response.text)\n",
    "            print(counter, link, response.status_code)\n",
    "    return finder(response)"
   ]
  },
  {
   "cell_type": "code",
   "execution_count": null,
   "metadata": {},
   "outputs": [],
   "source": [
    "link = 'https://www.azlyrics.com/d/dylan.html'\n",
    "pattern = r'/lyrics+/+bobdylan+/+\\w+\\.html'\n",
    "give_url(link,pattern)"
   ]
  },
  {
   "cell_type": "code",
   "execution_count": null,
   "metadata": {},
   "outputs": [],
   "source": []
  }
 ],
 "metadata": {
  "interpreter": {
   "hash": "40d3a090f54c6569ab1632332b64b2c03c39dcf918b08424e98f38b5ae0af88f"
  },
  "kernelspec": {
   "display_name": "Python 3.7.11 ('base')",
   "language": "python",
   "name": "python3"
  },
  "language_info": {
   "codemirror_mode": {
    "name": "ipython",
    "version": 3
   },
   "file_extension": ".py",
   "mimetype": "text/x-python",
   "name": "python",
   "nbconvert_exporter": "python",
   "pygments_lexer": "ipython3",
   "version": "3.7.11"
  },
  "orig_nbformat": 4
 },
 "nbformat": 4,
 "nbformat_minor": 2
}
