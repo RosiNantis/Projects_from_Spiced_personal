{
 "cells": [
  {
   "cell_type": "code",
   "execution_count": 9,
   "metadata": {},
   "outputs": [],
   "source": [
    "import requests"
   ]
  },
  {
   "cell_type": "code",
   "execution_count": 10,
   "metadata": {},
   "outputs": [],
   "source": [
    "def search_url(url):\n",
    "    header = {'User-Agent': 'Mozilla/5.0 (Macintosh; Intel Mac OS X 10_10_1) AppleWebKit/537.36 (KHTML, like Gecko) Chrome/39.0.2171.95 Safari/537.36'}\n",
    "    response = requests.get(url, headers=header)\n",
    "    print(f'The code is {response.status_code}')\n",
    "    with open('response.txt', 'w') as f:\n",
    "        f.write(response.text)\n",
    "    text = response.text\n",
    "    return text "
   ]
  },
  {
   "cell_type": "code",
   "execution_count": 11,
   "metadata": {},
   "outputs": [
    {
     "name": "stdout",
     "output_type": "stream",
     "text": [
      "The code is 200\n"
     ]
    }
   ],
   "source": [
    "#response.text , response.status_code = \n",
    "text = search_url('https://www.azlyrics.com/d/dylan.html')"
   ]
  },
  {
   "cell_type": "code",
   "execution_count": 6,
   "metadata": {},
   "outputs": [],
   "source": [
    "import re\n",
    "song_links = []\n",
    "pattern = r'/lyrics+/+bobdylan+/+\\w+\\.html'\n",
    "links = re.findall(pattern, text)\n",
    "\n",
    "\n",
    "\n",
    "for counter, link in enumerate(links):\n",
    "   url = 'http://www.azlyrics.com' + link\n",
    "   header = {'User-Agent': 'Mozilla/5.0 (Macintosh; Intel Mac OS X 10_10_1) AppleWebKit/537.36 (KHTML, like Gecko) Chrome/39.0.2171.95 Safari/537.36'}\n",
    "   response = requests.get(url, headers=header)\n",
    "   with open(f'{counter}.txt', 'w', encoding='utf-8') as f:\n",
    "       f.write(response.text)\n",
    "   print(counter, link, response.status_code)\n",
    "   "
   ]
  },
  {
   "cell_type": "markdown",
   "metadata": {},
   "source": [
    "# Another way"
   ]
  },
  {
   "cell_type": "code",
   "execution_count": null,
   "metadata": {},
   "outputs": [],
   "source": [
    "def give_url(link, pattern):\n",
    "    headers = {'User-Agent': 'Mozilla/5.0 (Macintosh; Intel Mac OS X 10_10_1) AppleWebKit/537.36 (KHTML, like Gecko) Chrome/39.0.2171.95 Safari/537.36'}\n",
    "    response = requests.get(link,headers)\n",
    "    with open('response.txt', 'w') as f:\n",
    "        f.write(response.text)\n",
    "    print(response.status_code)\n",
    "    def finder(response):\n",
    "        import re\n",
    "        song_links = []\n",
    "        links = re.findall(pattern,response)\n",
    "        for counter, link in enumerate(links):\n",
    "            url = 'http://www.azlyrics.com' + link\n",
    "            response = requests.get(url,headers)\n",
    "            with open(f'{counter}.txt', 'w', encoding='utf-8') as f:\n",
    "                f.write(response.text)\n",
    "            print(counter, link, response.status_code)\n",
    "    return finder(response)"
   ]
  },
  {
   "cell_type": "code",
   "execution_count": null,
   "metadata": {},
   "outputs": [],
   "source": [
    "link = 'https://www.azlyrics.com/d/dylan.html'\n",
    "pattern = r'/lyrics+/+bobdylan+/+\\w+\\.html'\n",
    "give_url(link,pattern)"
   ]
  },
  {
   "cell_type": "code",
   "execution_count": null,
   "metadata": {},
   "outputs": [],
   "source": []
  }
 ],
 "metadata": {
  "interpreter": {
   "hash": "40d3a090f54c6569ab1632332b64b2c03c39dcf918b08424e98f38b5ae0af88f"
  },
  "kernelspec": {
   "display_name": "Python 3.7.11 ('base')",
   "language": "python",
   "name": "python3"
  },
  "language_info": {
   "codemirror_mode": {
    "name": "ipython",
    "version": 3
   },
   "file_extension": ".py",
   "mimetype": "text/x-python",
   "name": "python",
   "nbconvert_exporter": "python",
   "pygments_lexer": "ipython3",
   "version": "3.7.11"
  },
  "orig_nbformat": 4
 },
 "nbformat": 4,
 "nbformat_minor": 2
}
