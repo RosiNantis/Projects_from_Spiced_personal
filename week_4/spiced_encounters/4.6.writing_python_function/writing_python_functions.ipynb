{
 "cells": [
  {
   "cell_type": "code",
   "execution_count": null,
   "metadata": {},
   "outputs": [],
   "source": [
    "print('Hi!')\n",
    "number = input('What number should I sqare?')\n",
    "print(float(number)**2)\n",
    "\n",
    "\n",
    "\n",
    "if __name__ == '__main__':  # this is for defining things\n"
   ]
  }
 ],
 "metadata": {
  "language_info": {
   "name": "python"
  },
  "orig_nbformat": 4
 },
 "nbformat": 4,
 "nbformat_minor": 2
}
