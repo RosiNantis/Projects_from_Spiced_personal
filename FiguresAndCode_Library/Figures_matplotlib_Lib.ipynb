{
 "cells": [
  {
   "cell_type": "code",
   "execution_count": null,
   "metadata": {},
   "outputs": [],
   "source": [
    "#import numpy as np\n",
    "import pandas as pd\n",
    "import seaborn as sns\n",
    "from matplotlib import pyplot as plt\n",
    "from sklearn.model_selection import train_test_split\n",
    "\n",
    "plt.rcParams['figure.figsize'] = (12, 6)"
   ]
  },
  {
   "cell_type": "markdown",
   "metadata": {},
   "source": [
    "ax = titanik_train.groupby(['Sex','Pclass'])['Embarked'].count().unstack(1).plot.barh()\n",
    "ax = plt.subplot()\n",
    "\n",
    "ax.set_xlabel('Predicted labels')\n",
    "ax.set_ylabel('True labels')\n",
    "ax.set_title('Confusion Matrix')\n",
    "plt.title('true')\n",
    "ax.set(xlabel='Age', ylabel='People')\n",
    "\n",
    "plt.legend(['1st Class','2nd Class','3d Class'], loc='center left', bbox_to_anchor=(1, 0.5),borderaxespad=0)\n",
    "legend = plt.legend( loc='lower left', bbox_to_anchor=(1, 0.5),borderaxespad=0,edgecolor=\"black\")\n",
    "legend.get_frame().set_alpha(None)\n",
    "legend.get_frame().set_facecolor((0, 0, 1, 0.1))\n",
    "\n",
    "plt.ylim([0,1.00])\n",
    "\n",
    "plt.grid(b=True, which=\"both\", axis=\"both\", color='gray', linestyle='-', linewidth=1)\n",
    "\n",
    "plt.subplot(2,1,1)\n",
    "\n",
    "plt.show()\n"
   ]
  },
  {
   "cell_type": "markdown",
   "metadata": {},
   "source": [
    "plt.savefig(f'lifeexp_{year}.png')\n",
    "plt.close()\n",
    "\n"
   ]
  },
  {
   "cell_type": "markdown",
   "metadata": {},
   "source": [
    "##Remove from workspace\n",
    "import imageio\n",
    "import os\n",
    "\n",
    "os.remove(f'lifeexp_{year}.png')"
   ]
  },
  {
   "cell_type": "markdown",
   "metadata": {},
   "source": [
    "from matplotlib import rc\n",
    "\n",
    "plt.rcParams['axes.linewidth'] = 2\n",
    "rc('font', **{'family':'serif','serif':['Helvetica']})\n",
    "#rc('text', usetex=True)\n",
    "plt.rc('xtick',labelsize = 20)\n",
    "plt.rc('ytick',labelsize = 20)\n",
    "plt.rcParams['xtick.major.size'] = 10\n",
    "plt.rcParams['xtick.major.size'] = 10\n",
    "plt.rcParams['xtick.minor.size'] = 5\n",
    "plt.rcParams['xtick.minor.size'] = 5\n",
    "plt.rcParams['axes.linewidth'] = 2\n",
    "plt.rcParams['axes.labelsize'] = 30\n",
    "plt.rcParams['legend.fontsize'] = 25"
   ]
  },
  {
   "cell_type": "markdown",
   "metadata": {},
   "source": []
  }
 ],
 "metadata": {
  "interpreter": {
   "hash": "40d3a090f54c6569ab1632332b64b2c03c39dcf918b08424e98f38b5ae0af88f"
  },
  "kernelspec": {
   "display_name": "Python 3.7.11 ('base')",
   "language": "python",
   "name": "python3"
  },
  "language_info": {
   "name": "python",
   "version": "3.7.11"
  },
  "orig_nbformat": 4
 },
 "nbformat": 4,
 "nbformat_minor": 2
}
