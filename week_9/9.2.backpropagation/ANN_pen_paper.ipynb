{
 "cells": [
  {
   "cell_type": "code",
   "execution_count": 1,
   "source": [
    "import numpy as np"
   ],
   "outputs": [],
   "metadata": {}
  },
  {
   "cell_type": "markdown",
   "source": [
    "### ANN Pen-and-Paper Exercise in class*"
   ],
   "metadata": {}
  },
  {
   "cell_type": "code",
   "execution_count": 2,
   "source": [
    "# code equivalent of the paper version\n",
    "def neuron(x1, x2, weights, bias):\n",
    "    w1, w2 = weights\n",
    "    dot = w1 * x1 + w2 * x2 + bias\n",
    "    out = 1.0 if dot > 1 else 0.0\n",
    "    return out"
   ],
   "outputs": [],
   "metadata": {}
  },
  {
   "cell_type": "code",
   "execution_count": null,
   "source": [],
   "outputs": [],
   "metadata": {}
  },
  {
   "cell_type": "code",
   "execution_count": 8,
   "source": [
    "weights = [0.5,0.5]\n",
    "bias = 0.1"
   ],
   "outputs": [],
   "metadata": {}
  },
  {
   "cell_type": "markdown",
   "source": [
    "**AND Function**"
   ],
   "metadata": {}
  },
  {
   "cell_type": "code",
   "execution_count": 12,
   "source": [
    "neuron(1, 1, weights, bias)"
   ],
   "outputs": [
    {
     "output_type": "execute_result",
     "data": {
      "text/plain": [
       "1.0"
      ]
     },
     "metadata": {},
     "execution_count": 12
    }
   ],
   "metadata": {}
  },
  {
   "cell_type": "code",
   "execution_count": 7,
   "source": [
    "# Logical AND\n",
    "assert neuron(0, 0, weights, bias) == 0.0\n",
    "assert neuron(1, 0, weights, bias) == 0.0\n",
    "assert neuron(0, 1, weights, bias) == 0.0\n",
    "assert neuron(1, 1, weights, bias) == 1.0"
   ],
   "outputs": [],
   "metadata": {}
  },
  {
   "cell_type": "code",
   "execution_count": null,
   "source": [
    "weights = [0.6,0.6]\n",
    "bias = 0.5"
   ],
   "outputs": [],
   "metadata": {
    "jupyter": {
     "source_hidden": true
    }
   }
  },
  {
   "cell_type": "markdown",
   "source": [
    "**OR Function**"
   ],
   "metadata": {}
  },
  {
   "cell_type": "code",
   "execution_count": 29,
   "source": [
    "weights = [1.1,1.1]\n",
    "bias = 0"
   ],
   "outputs": [],
   "metadata": {}
  },
  {
   "cell_type": "code",
   "execution_count": 31,
   "source": [
    " neuron(1, 0, weights, bias)"
   ],
   "outputs": [
    {
     "output_type": "execute_result",
     "data": {
      "text/plain": [
       "1.0"
      ]
     },
     "metadata": {},
     "execution_count": 31
    }
   ],
   "metadata": {}
  },
  {
   "cell_type": "code",
   "execution_count": 30,
   "source": [
    "# Logical OR\n",
    "assert neuron(0, 0, weights, bias) == 0.0\n",
    "assert neuron(1, 0, weights, bias) == 1.0\n",
    "assert neuron(0, 1, weights, bias) == 1.0\n",
    "assert neuron(1, 1, weights, bias) == 1.0"
   ],
   "outputs": [],
   "metadata": {}
  },
  {
   "cell_type": "markdown",
   "source": [
    "**XOR**"
   ],
   "metadata": {
    "jupyter": {
     "source_hidden": true
    }
   }
  },
  {
   "cell_type": "code",
   "execution_count": 16,
   "source": [
    "input1 = float(input(\"enter first input  : \"))\n",
    "input2 = float(input(\"enter second input : \"))\n",
    "\n",
    "w1 = [0.5, -0.5]\n",
    "bias1 = 0.1\n",
    "dot1 = input1 * w1[0] + input2 * w1[1] + bias1\n",
    "out1 = 1.0 if dot1 > 0.5 else 0.0\n",
    "\n",
    "w2 = [-0.5, 0.5]\n",
    "bias2 = 0.1\n",
    "dot2 = input1 * w2[0] + input2 * w2[1] + bias2\n",
    "out2 = 1.0 if dot2 > 0.5 else 0.0\n",
    "\n",
    "w3 = [1, 1]\n",
    "bias3 = 0.1\n",
    "dot3 = out1 * w3[0] + out2 * w3[1] + bias3\n",
    "out3 = 1.0 if dot3 > 0.5 else 0.0\n",
    "\n",
    "print(out3)"
   ],
   "outputs": [
    {
     "output_type": "stream",
     "name": "stdout",
     "text": [
      "0.0\n"
     ]
    }
   ],
   "metadata": {
    "jupyter": {
     "source_hidden": true
    }
   }
  },
  {
   "cell_type": "code",
   "execution_count": null,
   "source": [],
   "outputs": [],
   "metadata": {}
  }
 ],
 "metadata": {
  "kernelspec": {
   "name": "python3",
   "display_name": "Python 3.8.8 64-bit ('base': conda)"
  },
  "language_info": {
   "codemirror_mode": {
    "name": "ipython",
    "version": 3
   },
   "file_extension": ".py",
   "mimetype": "text/x-python",
   "name": "python",
   "nbconvert_exporter": "python",
   "pygments_lexer": "ipython3",
   "version": "3.8.8"
  },
  "interpreter": {
   "hash": "dca0ade3e726a953b501b15e8e990130d2b7799f14cfd9f4271676035ebe5511"
  }
 },
 "nbformat": 4,
 "nbformat_minor": 4
}