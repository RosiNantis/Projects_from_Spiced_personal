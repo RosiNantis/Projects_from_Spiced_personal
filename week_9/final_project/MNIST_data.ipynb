{
 "cells": [
  {
   "cell_type": "code",
   "execution_count": null,
   "metadata": {},
   "outputs": [],
   "source": [
    "import cv2\n",
    "from skimage.transform import resize\n",
    "from os import listdir, walk\n",
    "from os.path import isfile, join\n",
    "from matplotlib import pyplot as plt\n",
    "import numpy as np\n",
    "import pandas as pd\n",
    "import random\n",
    "from sklearn.model_selection import train_test_split\n",
    "from tensorflow import keras\n",
    "from tensorflow.keras import layers\n",
    "from tensorflow.keras import backend as K\n",
    "\n",
    "def gray_reshape(directory, new_size = (28,28), gray =False):\n",
    "    \"\"\"\n",
    "    give the list of photos with the correct pixel size you want to \n",
    "    downsize. If you want Gray then write True.\n",
    "    \"\"\"\n",
    "    items_resized  =[]\n",
    "    pictures = []\n",
    "    labels = []\n",
    "    mapping = {'plants' : 0,'coins' : 1,'faces' : 2,'cups' : 3,'glasses' : 4,'pens' : 5,'gestures' : 6,'cutlery' : 7,'plates' : 8, \n",
    "                'nail_polishes' : 9  ,'shoes' : 10 \n",
    "                }\n",
    "    onlyfolders = [f for f in listdir(directory)]\n",
    "    for idx, folder in enumerate(onlyfolders[1:]):\n",
    "        pictures = [f for f in listdir(directory + folder) if isfile(join(directory + folder , f))]\n",
    "        for idx, picture in enumerate(pictures):\n",
    "            item = cv2.imread(directory + folder +'/'+ picture )\n",
    "            labels.append(mapping[folder])\n",
    "            \n",
    "            if gray == True:\n",
    "                item_gray = cv2.cvtColor(item, cv2.COLOR_BGR2GRAY)\n",
    "                item_resized_gray = resize(item_gray, new_size)\n",
    "                items_resized.append(item_resized_gray)\n",
    "            else:\n",
    "                item_resized_colored = resize(item, new_size)\n",
    "                items_resized.append(item_resized_colored)\n",
    "    return items_resized, labels"
   ]
  },
  {
   "cell_type": "code",
   "execution_count": null,
   "metadata": {},
   "outputs": [],
   "source": [
    "onlyfolders = [f for f in listdir('../output/')]\n",
    "onlyfolders"
   ]
  },
  {
   "cell_type": "code",
   "execution_count": null,
   "metadata": {},
   "outputs": [],
   "source": [
    "X , y = gray_reshape('../output/', new_size = (160,160), gray =False);\n",
    "\n",
    "#plt.imshow(X[8],cmap='Greys')\n",
    "# Model / data parameters\n",
    "num_classes = len(np.unique(y))\n",
    "input_shape = (160, 160, 3)\n",
    "# shuffle the data\n",
    "\n",
    "shuffler = np.random.permutation(len(X))\n",
    "X = np.array(X)\n",
    "y = np.array(y)\n",
    "X = X[shuffler]\n",
    "y = y[shuffler]\n",
    "\n"
   ]
  },
  {
   "cell_type": "code",
   "execution_count": null,
   "metadata": {},
   "outputs": [],
   "source": [
    "# the data, split between train and test sets\n",
    "\n",
    "X_train, X_test, y_train, y_test = train_test_split(X, y, test_size=0.15, random_state=42)\n",
    "# Scale images to the [0, 1] range\n",
    "#### Normalise\n"
   ]
  },
  {
   "cell_type": "code",
   "execution_count": null,
   "metadata": {},
   "outputs": [],
   "source": [
    "plt.imshow(X_test[45],cmap='Greys')"
   ]
  },
  {
   "cell_type": "code",
   "execution_count": null,
   "metadata": {},
   "outputs": [],
   "source": [
    "plt.imshow(X[799],cmap='Greys')"
   ]
  },
  {
   "cell_type": "code",
   "execution_count": null,
   "metadata": {},
   "outputs": [],
   "source": [
    "# Always always check shapes! \n",
    "X_train.shape, X_test.shape"
   ]
  },
  {
   "cell_type": "code",
   "execution_count": null,
   "metadata": {},
   "outputs": [],
   "source": [
    "x_train = X_train.astype(\"float32\") / 255\n",
    "x_test = X_test.astype(\"float32\") / 255\n",
    "\n",
    "# one hot encoder\n",
    "\n",
    "y_train = keras.utils.to_categorical(y_train, num_classes)\n",
    "\n",
    "y_test = keras.utils.to_categorical(y_test, num_classes)\n",
    "\n"
   ]
  },
  {
   "cell_type": "code",
   "execution_count": null,
   "metadata": {},
   "outputs": [],
   "source": [
    "# define the keras model.    the kernel size is the window that checks geometries: can be (3,3), (5,5), (7,7)\n",
    "# Always clear the session!\n",
    "K.clear_session()\n",
    "model = keras.Sequential(\n",
    "    [\n",
    "        keras.Input(shape=input_shape),\n",
    "        layers.Conv2D(16, kernel_size=(5, 5), activation=\"relu\"),   # number of neurons:  must be multiples of 2. good technique to start eith 8 and then we increase in the insede layers.\n",
    "        layers.MaxPooling2D(pool_size=(2, 2)),\n",
    "        layers.Conv2D(32, kernel_size=(3, 3), activation=\"relu\"),\n",
    "        layers.MaxPooling2D(pool_size=(2, 2)),\n",
    "        layers.Flatten(),\n",
    "        layers.Dropout(0.1),\n",
    "        layers.Dense(num_classes, activation=\"softmax\"),\n",
    "    ]\n",
    ")\n",
    "# model summary table\n",
    "model.summary()\n",
    "\n",
    "# define the batch size and number of epochs\n",
    "batch_size = 5\n",
    "epochs = 200\n",
    "\n",
    "\n"
   ]
  },
  {
   "cell_type": "code",
   "execution_count": null,
   "metadata": {},
   "outputs": [],
   "source": [
    "# complile and define eval metric\n",
    "model.compile(loss=\"categorical_crossentropy\", optimizer=\"adam\", metrics=[\"accuracy\"])\n",
    "\n"
   ]
  },
  {
   "cell_type": "code",
   "execution_count": null,
   "metadata": {},
   "outputs": [],
   "source": [
    "# fit the model\n",
    "from tensorflow.keras.callbacks import EarlyStopping\n",
    "\n",
    "callback = EarlyStopping(monitor='val_loss', patience=3)\n",
    "model.fit(x_train, y_train, batch_size=batch_size, epochs=epochs, validation_split=0.1)"
   ]
  },
  {
   "cell_type": "code",
   "execution_count": null,
   "metadata": {},
   "outputs": [],
   "source": [
    "model.save(\"model_MNIST_3.h5\")\n",
    "# here you can stop your notebook\n",
    "# moons_model = load_model(\"model_MNIST.h5\")\n",
    "# moons_model.summary()"
   ]
  },
  {
   "cell_type": "code",
   "execution_count": null,
   "metadata": {},
   "outputs": [],
   "source": [
    "##### Load model if needed\n",
    "from tensorflow.keras.models import load_model\n",
    "model = load_model(\"model_MNIST_2.h5\")\n",
    "model.summary()"
   ]
  },
  {
   "cell_type": "code",
   "execution_count": null,
   "metadata": {},
   "outputs": [],
   "source": [
    "score = model.evaluate(x_test, y_test, verbose=0)\n",
    "print(\"Test loss:\", score[0])\n",
    "print(\"Test accuracy:\", score[1])"
   ]
  },
  {
   "cell_type": "markdown",
   "metadata": {},
   "source": [
    "print(ynew[1])\n",
    "print(y_test[1])"
   ]
  },
  {
   "cell_type": "code",
   "execution_count": null,
   "metadata": {},
   "outputs": [],
   "source": [
    "import time\n",
    "mapping = {'plants' : 0,'coins' : 1,'faces' : 2,'cups' : 3,'glasses' : 4,'pens' : 5,'gestures' : 6,'cutlery' : 7,'plates' : 8, \n",
    "             'nail_polishes' : 9  ,'shoes' : 10 \n",
    "             }\n",
    "ynew = model.predict(x_test)\n",
    "# show the inputs and predicted outputs\n",
    "for idx, value in enumerate(ynew):\n",
    "    print(f'With {np.max(value)} probability the model predicts that it is a {list(mapping)[np.where(value == np.max(value))[0][0]]}.')#\n",
    "    print(f'The item is {list(mapping)[np.where(y_test[idx] == np.max(y_test[idx]))[0][0]]}.')\n",
    "    plt.imshow(X_test[idx],cmap='Greys')\n",
    "    time.sleep(8)\n",
    "\n",
    "    \n"
   ]
  },
  {
   "cell_type": "code",
   "execution_count": null,
   "metadata": {},
   "outputs": [],
   "source": []
  }
 ],
 "metadata": {
  "interpreter": {
   "hash": "40d3a090f54c6569ab1632332b64b2c03c39dcf918b08424e98f38b5ae0af88f"
  },
  "kernelspec": {
   "display_name": "Python 3.7.11 ('base')",
   "language": "python",
   "name": "python3"
  },
  "language_info": {
   "codemirror_mode": {
    "name": "ipython",
    "version": 3
   },
   "file_extension": ".py",
   "mimetype": "text/x-python",
   "name": "python",
   "nbconvert_exporter": "python",
   "pygments_lexer": "ipython3",
   "version": "3.7.11"
  },
  "orig_nbformat": 4
 },
 "nbformat": 4,
 "nbformat_minor": 2
}
