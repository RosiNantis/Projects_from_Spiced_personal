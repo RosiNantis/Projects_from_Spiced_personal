{
 "cells": [
  {
   "cell_type": "markdown",
   "id": "f9be13d2",
   "metadata": {},
   "source": [
    "# ANN Training Strategies"
   ]
  },
  {
   "cell_type": "markdown",
   "id": "fbc6166f",
   "metadata": {},
   "source": [
    "## Parameters vs. Hyperparameters in ANN"
   ]
  },
  {
   "cell_type": "markdown",
   "id": "dbeeb2f0",
   "metadata": {},
   "source": [
    "- In traditional ML a large part of the process involves **feature engineering**:\n",
    "    - this step is essential for some models to work at all\n",
    "    - hyperparameter optimisation is useful to a degree\n",
    "- In deep learning the feature engineering is mostly **done by the network** \n",
    "    - **hyperparameter optimisation** is crucial!!!\n",
    "    \n",
    "- **Parameters** in an ANN: these are the weights/biases that the ANN **learns** (via backpropagation) (their *number* depends on some hyperparameters)\n",
    "- **Hyperparameters**: \"design decisions\" about your model that are set by you\n"
   ]
  },
  {
   "cell_type": "markdown",
   "id": "a220afce",
   "metadata": {},
   "source": [
    "## What Hyperparameters can we set/alter in our ANN?"
   ]
  },
  {
   "cell_type": "markdown",
   "id": "b8582116",
   "metadata": {},
   "source": [
    "### 1. The \"architecture\" of the network:"
   ]
  },
  {
   "cell_type": "markdown",
   "id": "d911335e",
   "metadata": {},
   "source": [
    "- **Number of layers**\n",
    "   - The more layers, the more 'hidden features' your model will learn\n",
    "   - Too many layers --> might overfit. \n",
    "   - Also see: [Vanishing Gradient Problem](https://towardsdatascience.com/the-vanishing-gradient-problem-69bf08b15484)\n",
    "- **Number of neurons per layer**\n",
    "   - More neurons, the more the model can learn.\n",
    "    - Too many, overfitting\n",
    "- **Types of layers**\n",
    "    - Fully connected (Dense)\n",
    "    - Convolutional\n",
    "        - Image recognition\n",
    "    - Recurrent layers\n",
    "        - NLP (all kinds of speech/text processing)\n",
    "        - Time series\n",
    "- **Number of Epochs**\n",
    "    - more epochs -> longer training, (potentially) better model\n",
    "    - more epochs -> more likely to overfit\n",
    "    \n",
    "   - **Early stopping** - stop the model before it starts overfitting\n",
    "\n",
    "You should keep increasing your model complexity as long as the score on your validation dataset improves. Observe performance of your validation dataset and stop as soon as performance decreases."
   ]
  },
  {
   "cell_type": "markdown",
   "id": "6f0670bb",
   "metadata": {},
   "source": [
    "### 2. The Activation Function"
   ]
  },
  {
   "cell_type": "markdown",
   "id": "802e0dd6",
   "metadata": {},
   "source": [
    "![activation.jpeg](activation.jpeg)\n",
    "[source](https://medium.com/@aborundiya/activation-function-for-multi-layer-neural-networks-a07ac473f69e)"
   ]
  },
  {
   "cell_type": "markdown",
   "id": "06bdb7fa",
   "metadata": {},
   "source": [
    "The activation function is a function we apply to the sum of weights applied to previous inputs and the bias in order to have a meaningful way of deciding if the neuron \"activates\" giving the output.\n"
   ]
  },
  {
   "cell_type": "markdown",
   "id": "18dfbcd1",
   "metadata": {},
   "source": [
    "#### What Activation Functions exist and how are they used?"
   ]
  },
  {
   "cell_type": "markdown",
   "id": "68fcb520",
   "metadata": {},
   "source": [
    "![activation_functions.png](activation_functions.png)"
   ]
  },
  {
   "cell_type": "markdown",
   "id": "f47309bb",
   "metadata": {},
   "source": [
    "- **Step Function** (NOT USED)\n",
    "    - This is a simple \"0 if negative / 1 if positive\" decision boundary. It is undefined at zero and not differentiable, so only used as an introductory theoretical explanation of activation functions in teaching.\n",
    "\n",
    "\n",
    "- **Linear** (output layer)\n",
    "    - for regression problems.\n",
    "    - The gradient of this is a constant value (does not depend on x) - it cannot be used in hidden layers as gradient descent fails. Only use for the **output of the final layer** in a linear regression problem\n",
    "\n",
    "- **Sigmoid** (output layer)\n",
    "    - Used for binary classification (logistic regression) as a single neuron. \n",
    "    - **Do not use in hidden layers** - tendency towards vanishing gradient. There are better options, eg.:\n",
    "\n",
    "\n",
    "- **Hyperbolic Tan (tanh)** (hidden layers)\n",
    "    - similar to sigmoid in shape but output (-1, 1)\n",
    "    - works better than sigmoid in hidden layer because it centers the output around 0 (and not 0.5)\n",
    "    - **don't use in the output layer**, use sigmoid over tanh\n",
    "    - similar to sigmoid, could be slow to train because derivative is close to zero for large x\n",
    "    \n",
    "    \n",
    "- **ReLU (Rectified Linear Unit)** (hidden layers)\n",
    "    - **Avoids** vanishing gradient problem since the function doesn’t saturate in the positive region.\n",
    "    - **Computationally efficient** and converges much faster than Sigmoid/Tanh.\n",
    "    - **good first choice for hidden layers**\n",
    "    - **Extensively used** as activation function in hidden layers of CNN architecture.\n",
    "    - **undefined gradient around zero** and can cause a lot of dead neurons which never get activated\n",
    "\n",
    "\n",
    "- **Leaky ReLU** (hidden layers)\n",
    "    - similar to ReLU, but doesn't have 0 slope for negative values\n",
    " \n",
    " \n",
    "- **ELU ((Exponential Linear Unit)** (hidden layers)\n",
    "    - Softer than RELU, also differentiable at 0 and does not lead to \"dead\" neurons. \n",
    "    - This is one of the best activation functions to use but it is slower than RELU because of the non-linear component for negative values.\n",
    "\n",
    "\n",
    "- **Softmax** (output layer)\n",
    "    - equivalent to sigmoid but for **multiclass classification**\n",
    "    - use in **the output layer**, with **as many neurons as classes**\n",
    "    - probabilities add up to 1 "
   ]
  },
  {
   "cell_type": "markdown",
   "id": "e8a4f57e",
   "metadata": {},
   "source": [
    "**Rule of thumb:** `sigmoid < tanh < ReLU < ELU`"
   ]
  },
  {
   "cell_type": "markdown",
   "id": "28579138",
   "metadata": {},
   "source": [
    "### 3. Loss Function\n"
   ]
  },
  {
   "cell_type": "markdown",
   "id": "0b745e7e",
   "metadata": {},
   "source": [
    "This depends on the type of problem we have and is specified in the `model.compile()` step. \n",
    "\n",
    "Loss Functions:\n",
    "- **Mean Squared Error (MSE)** (good for regression)\n",
    "- **Log Loss** (good for binary classification, like in logistic regression)\n",
    "- **Cross-Entropy** (good for multi-class classification)\n"
   ]
  },
  {
   "cell_type": "markdown",
   "id": "3a92b78a",
   "metadata": {},
   "source": [
    "### 4. Weight/Bias Initialization"
   ]
  },
  {
   "cell_type": "markdown",
   "id": "ba118aea",
   "metadata": {},
   "source": [
    "- Best practice is to initialize weights with smaller numbers drawn from normal distribution. Initialize biases as zeros or small numbers. Some common initialization techniques:\n",
    "     - **He** (tends to work well with ReLu-like activations)\n",
    "     - **Xavier** (tends to work better with sigmoid and tanh)\n",
    "     - **Glorot** (default)\n",
    "- Documentaion: https://keras.io/api/layers/initializers/\n"
   ]
  },
  {
   "cell_type": "markdown",
   "id": "6fb933d4",
   "metadata": {},
   "source": [
    "### 5. Optimisers"
   ]
  },
  {
   "cell_type": "markdown",
   "id": "e33f576a",
   "metadata": {},
   "source": [
    "This is also set in the `model.compile()` step.\n",
    "\n",
    "\n",
    "**Gradient descent based:** \n",
    "- **Batch gradient descent**\n",
    "    - Uses the whole dataset for a weights update\n",
    "    - Slow, uses a lot of memory\n",
    "\n",
    "- **Stochastic Gradient Descent**\n",
    "    - Uses one datapoint at a time to calculate loss and update weights\n",
    "\n",
    "- **Mini Batch gradient descent**\n",
    "    - Uses a subset of the total dataset at a time to update weights\n",
    "    - A good trade-off:\n",
    "        - Uses medium amount of memory\n",
    "        - Less noisy than stochastic GD\n",
    "    - Pass `batch_size` in `model.fit()` to train on batches\n",
    "\n",
    "**Adaptive optimization algorithms:**\n",
    "- **Momentum** (interprets the gradient as acceleration (usually converges faster))\n",
    "- **Nesterov** (calculates the gradient one step ahead in the direction of the momentum)\n",
    "-  **AdaGrad** (automatically adjusts the learning rate; doesn't work well with ANNs though, since it brakes too soon),\n",
    "- **RMSProp** (adaptive learning rate; decays exponentially based on 2 previous steps. Using a moving average of the recent gradients of that weight to avoid vanishing and exploding gradients)\n",
    "- **Adam** (combination of RMSProp and Momentum Optimization. **Best of the above**)\n",
    "\n",
    "Links for visualizing optimizers\n",
    "\n",
    "https://emiliendupont.github.io/2018/01/24/optimization-visualization/\n",
    "\n",
    "https://www.ikocabiyik.com/deep-learning/visualizing-ml-optimizers/"
   ]
  },
  {
   "cell_type": "markdown",
   "id": "b02bf591",
   "metadata": {},
   "source": [
    "### 6. Regularisation"
   ]
  },
  {
   "cell_type": "markdown",
   "id": "142314e5",
   "metadata": {},
   "source": [
    "- **Batch Normalization**: \n",
    "    - adds 2 hyperparameters per layer that normalize the inputs to the activation function to a given average and scale. Will move the data to the optimal range of the subsequent activation function.\n",
    "    - this gives you meaningful gradients, strongly reduces training time, and improves accuracy.\n",
    "    - *gets rid of the vanishing gradient problem.*\n",
    "    - *also does some regularization*\n",
    "- **Dropout**:\n",
    "    - randomly removes some percentage of the neurons at each epoch\n",
    "    - This trains the model not to be rigid and learns to generalize more.\n",
    "\n",
    "- See: https://keras.io/api/layers/regularizers/"
   ]
  },
  {
   "cell_type": "markdown",
   "id": "6bdabdeb",
   "metadata": {},
   "source": [
    "## Some ideas to start with:"
   ]
  },
  {
   "cell_type": "markdown",
   "id": "72aeb445",
   "metadata": {},
   "source": [
    "- Make sure that you have the correct shape for the input layer\n",
    "- Make sure your final layers make sense (number of neurons and type) for your problem\n",
    "- Use Relu (or Elu..etc) for the hidden layers\n",
    "- Use the ADAM optimizer\n",
    "- Use Dropout for regularization\n",
    "- Use Batch normalization between layers\n",
    "- Consider Early Stopping"
   ]
  },
  {
   "cell_type": "markdown",
   "id": "48333468",
   "metadata": {},
   "source": [
    "## Practical Example to play around with:"
   ]
  },
  {
   "cell_type": "code",
   "execution_count": 1,
   "id": "6621039d",
   "metadata": {
    "ExecuteTime": {
     "end_time": "2022-02-08T14:42:20.799599Z",
     "start_time": "2022-02-08T14:42:16.082360Z"
    }
   },
   "outputs": [
    {
     "name": "stdout",
     "output_type": "stream",
     "text": [
      "Init Plugin\n",
      "Init Graph Optimizer\n",
      "Init Kernel\n"
     ]
    }
   ],
   "source": [
    "import matplotlib.pyplot as plt\n",
    "import tensorflow.keras as keras\n",
    "import numpy as np\n",
    "\n",
    "from tensorflow.keras import backend as K\n",
    "from tensorflow.keras.utils import to_categorical\n",
    "from tensorflow.keras import layers\n",
    "from tensorflow.keras.optimizers import Adam\n",
    "\n",
    "\n",
    "import pandas as pd"
   ]
  },
  {
   "cell_type": "markdown",
   "id": "efe96232",
   "metadata": {
    "ExecuteTime": {
     "end_time": "2022-02-08T09:04:44.802017Z",
     "start_time": "2022-02-08T09:04:41.245091Z"
    }
   },
   "source": [
    "#### Define our inputs and targets"
   ]
  },
  {
   "cell_type": "code",
   "execution_count": 23,
   "id": "8e2609aa",
   "metadata": {
    "ExecuteTime": {
     "end_time": "2022-02-08T14:51:35.743162Z",
     "start_time": "2022-02-08T14:51:35.481569Z"
    }
   },
   "outputs": [],
   "source": [
    "(xtrain, ytrain), (xtest, ytest) = keras.datasets.fashion_mnist.load_data()"
   ]
  },
  {
   "cell_type": "code",
   "execution_count": 24,
   "id": "98acab13",
   "metadata": {
    "ExecuteTime": {
     "end_time": "2022-02-08T14:51:42.736170Z",
     "start_time": "2022-02-08T14:51:42.731059Z"
    }
   },
   "outputs": [
    {
     "data": {
      "text/plain": [
       "((60000, 28, 28), (10000, 28, 28))"
      ]
     },
     "execution_count": 24,
     "metadata": {},
     "output_type": "execute_result"
    }
   ],
   "source": [
    "# Always always check shapes! \n",
    "xtrain.shape, xtest.shape"
   ]
  },
  {
   "cell_type": "code",
   "execution_count": 25,
   "id": "7ca0818b",
   "metadata": {},
   "outputs": [
    {
     "data": {
      "text/plain": [
       "((60000,), (10000,))"
      ]
     },
     "execution_count": 25,
     "metadata": {},
     "output_type": "execute_result"
    }
   ],
   "source": [
    "ytrain.shape, ytest.shape"
   ]
  },
  {
   "cell_type": "code",
   "execution_count": 29,
   "id": "ec4035b2",
   "metadata": {},
   "outputs": [
    {
     "data": {
      "text/plain": [
       "array([0, 1, 2, 3, 4, 5, 6, 7, 8, 9], dtype=uint8)"
      ]
     },
     "execution_count": 29,
     "metadata": {},
     "output_type": "execute_result"
    }
   ],
   "source": [
    "np.unique(ytrain)"
   ]
  },
  {
   "cell_type": "markdown",
   "id": "fff7a31b",
   "metadata": {
    "ExecuteTime": {
     "end_time": "2022-02-08T09:04:44.802017Z",
     "start_time": "2022-02-08T09:04:41.245091Z"
    }
   },
   "source": [
    "#### Take a look at the data"
   ]
  },
  {
   "cell_type": "code",
   "execution_count": 28,
   "id": "0497bed0",
   "metadata": {
    "ExecuteTime": {
     "end_time": "2022-02-08T15:15:30.533575Z",
     "start_time": "2022-02-08T15:15:30.119222Z"
    }
   },
   "outputs": [
    {
     "data": {
      "text/plain": [
       "((60000, 28, 28), (28, 28))"
      ]
     },
     "execution_count": 28,
     "metadata": {},
     "output_type": "execute_result"
    },
    {
     "data": {
      "image/png": "[encoded data removed]",
      "text/plain": [
       "<Figure size 432x288 with 25 Axes>"
      ]
     },
     "metadata": {
      "needs_background": "light"
     },
     "output_type": "display_data"
    }
   ],
   "source": [
    "class_names = ['T-shirt/top', 'Trouser', 'Pullover', 'Dress', 'Coat',\n",
    "               'Sandal', 'Shirt', 'Sneaker', 'Bag', 'Ankle boot']\n",
    "\n",
    "for i in range(25):\n",
    "    plt.subplot(5, 5, i+1)\n",
    "    plt.imshow(xtrain[i], cmap='Greys')\n",
    "    plt.axis('off')\n",
    "    numeric_class = ytrain[i]\n",
    "    text_class = class_names[numeric_class]\n",
    "    plt.text(0, 0, text_class) # displays y-values in each subplot\n",
    "\n",
    "xtrain.shape, xtrain[1].shape"
   ]
  },
  {
   "cell_type": "markdown",
   "id": "bff052f6",
   "metadata": {},
   "source": [
    "#### Reshape our data"
   ]
  },
  {
   "cell_type": "markdown",
   "id": "dd31f822",
   "metadata": {},
   "source": [
    "As a dense layer expects all features to go to each neuron we need to first flatten this multi-dimensional object in a single but long dimension of which each element can go to a neuron."
   ]
  },
  {
   "cell_type": "code",
   "execution_count": 6,
   "id": "d14864fe",
   "metadata": {},
   "outputs": [
    {
     "data": {
      "text/plain": [
       "(28, 28)"
      ]
     },
     "execution_count": 6,
     "metadata": {},
     "output_type": "execute_result"
    }
   ],
   "source": [
    "xtrain[0].shape"
   ]
  },
  {
   "cell_type": "code",
   "execution_count": 7,
   "id": "324b5511",
   "metadata": {},
   "outputs": [
    {
     "data": {
      "text/plain": [
       "(784,)"
      ]
     },
     "execution_count": 7,
     "metadata": {},
     "output_type": "execute_result"
    }
   ],
   "source": [
    "xtrain[0].flatten().shape"
   ]
  },
  {
   "cell_type": "code",
   "execution_count": 8,
   "id": "1c99f5f1",
   "metadata": {},
   "outputs": [],
   "source": [
    "# alternatives to flatten\n",
    "# xtrain[0].reshape(-1).shape\n",
    "# xtrain[0].reshape(28*28).shape"
   ]
  },
  {
   "cell_type": "code",
   "execution_count": 9,
   "id": "28c08541",
   "metadata": {},
   "outputs": [
    {
     "data": {
      "text/plain": [
       "(60000, 28, 28)"
      ]
     },
     "execution_count": 9,
     "metadata": {},
     "output_type": "execute_result"
    }
   ],
   "source": [
    "xtrain.shape # --> (60000,784)"
   ]
  },
  {
   "cell_type": "code",
   "execution_count": 10,
   "id": "7fcd60b6",
   "metadata": {
    "ExecuteTime": {
     "end_time": "2022-02-08T15:14:08.673724Z",
     "start_time": "2022-02-08T15:14:08.671278Z"
    }
   },
   "outputs": [
    {
     "data": {
      "text/plain": [
       "(60000, 784)"
      ]
     },
     "execution_count": 10,
     "metadata": {},
     "output_type": "execute_result"
    }
   ],
   "source": [
    "# flatten x into one dimension:\n",
    "xtrain= xtrain.reshape(60000,-1)\n",
    "xtrain.shape"
   ]
  },
  {
   "cell_type": "code",
   "execution_count": 11,
   "id": "ff37dd9a",
   "metadata": {},
   "outputs": [
    {
     "data": {
      "text/plain": [
       "array([9, 0, 0, 3, 0], dtype=uint8)"
      ]
     },
     "execution_count": 11,
     "metadata": {},
     "output_type": "execute_result"
    }
   ],
   "source": [
    "ytrain[:5]"
   ]
  },
  {
   "cell_type": "code",
   "execution_count": 12,
   "id": "2456b5a7",
   "metadata": {},
   "outputs": [],
   "source": [
    "# ['five', 'zero', ....]"
   ]
  },
  {
   "cell_type": "code",
   "execution_count": 13,
   "id": "f749b2b0",
   "metadata": {
    "ExecuteTime": {
     "end_time": "2022-02-08T15:15:46.234840Z",
     "start_time": "2022-02-08T15:15:46.230338Z"
    }
   },
   "outputs": [],
   "source": [
    "# one-hot-encode y\n",
    "ytrain = to_categorical(ytrain)"
   ]
  },
  {
   "cell_type": "code",
   "execution_count": 14,
   "id": "08793088",
   "metadata": {},
   "outputs": [
    {
     "data": {
      "text/plain": [
       "(60000, 10)"
      ]
     },
     "execution_count": 14,
     "metadata": {},
     "output_type": "execute_result"
    }
   ],
   "source": [
    "ytrain.shape"
   ]
  },
  {
   "cell_type": "code",
   "execution_count": 15,
   "id": "1684b590",
   "metadata": {},
   "outputs": [
    {
     "data": {
      "text/plain": [
       "array([[0., 0., 0., 0., 0., 0., 0., 0., 0., 1.],\n",
       "       [1., 0., 0., 0., 0., 0., 0., 0., 0., 0.],\n",
       "       [1., 0., 0., 0., 0., 0., 0., 0., 0., 0.],\n",
       "       [0., 0., 0., 1., 0., 0., 0., 0., 0., 0.],\n",
       "       [1., 0., 0., 0., 0., 0., 0., 0., 0., 0.]], dtype=float32)"
      ]
     },
     "execution_count": 15,
     "metadata": {},
     "output_type": "execute_result"
    }
   ],
   "source": [
    "ytrain[:5]"
   ]
  },
  {
   "cell_type": "markdown",
   "id": "90990498",
   "metadata": {},
   "source": [
    "#### Now we can build a model"
   ]
  },
  {
   "cell_type": "code",
   "execution_count": 16,
   "id": "40b7f4d5",
   "metadata": {
    "ExecuteTime": {
     "end_time": "2022-02-08T15:28:26.839348Z",
     "start_time": "2022-02-08T15:28:26.820355Z"
    }
   },
   "outputs": [
    {
     "name": "stdout",
     "output_type": "stream",
     "text": [
      "Metal device set to: Apple M1\n"
     ]
    },
    {
     "name": "stderr",
     "output_type": "stream",
     "text": [
      "2022-05-10 06:53:55.550670: I tensorflow/core/common_runtime/pluggable_device/pluggable_device_factory.cc:305] Could not identify NUMA node of platform GPU ID 0, defaulting to 0. Your kernel may not have been built with NUMA support.\n",
      "2022-05-10 06:53:55.550783: I tensorflow/core/common_runtime/pluggable_device/pluggable_device_factory.cc:271] Created TensorFlow device (/job:localhost/replica:0/task:0/device:GPU:0 with 0 MB memory) -> physical PluggableDevice (device: 0, name: METAL, pci bus id: <undefined>)\n"
     ]
    }
   ],
   "source": [
    "# Always clear the session!\n",
    "K.clear_session()\n",
    "\n",
    "model = keras.models.Sequential()\n",
    "\n",
    "# input layer\n",
    "model.add(layers.Dense(units=10, \n",
    "                             activation=\"relu\", \n",
    "                             input_shape=(784,)\n",
    "                            ))\n",
    "\n",
    "\n",
    "# Batch Normalisation:\n",
    "model.add(layers.BatchNormalization())\n",
    "\n",
    "# hidden layer(s)\n",
    "model.add(layers.Dense(units=20, \n",
    "             activation=\"relu\"))\n",
    "\n",
    "\n",
    "\n",
    "model.add(layers.Dropout(0.25))\n",
    "\n",
    "# output layer\n",
    "# units/neurons: number of classes\n",
    "model.add(layers.Dense(units=10,\n",
    "             activation=\"softmax\")\n",
    ")\n"
   ]
  },
  {
   "cell_type": "code",
   "execution_count": 17,
   "id": "13c88427",
   "metadata": {
    "ExecuteTime": {
     "end_time": "2022-02-08T15:29:12.744366Z",
     "start_time": "2022-02-08T15:29:12.733327Z"
    }
   },
   "outputs": [],
   "source": [
    "model.compile(optimizer=\"Adam\",\n",
    "              loss='categorical_crossentropy',\n",
    "              metrics=['accuracy'])"
   ]
  },
  {
   "cell_type": "code",
   "execution_count": 18,
   "id": "e85001b7",
   "metadata": {
    "ExecuteTime": {
     "end_time": "2022-02-08T15:29:16.604538Z",
     "start_time": "2022-02-08T15:29:16.598136Z"
    }
   },
   "outputs": [
    {
     "name": "stdout",
     "output_type": "stream",
     "text": [
      "Model: \"sequential\"\n",
      "_________________________________________________________________\n",
      "Layer (type)                 Output Shape              Param #   \n",
      "=================================================================\n",
      "dense (Dense)                (None, 10)                7850      \n",
      "_________________________________________________________________\n",
      "batch_normalization (BatchNo (None, 10)                40        \n",
      "_________________________________________________________________\n",
      "dense_1 (Dense)              (None, 20)                220       \n",
      "_________________________________________________________________\n",
      "dropout (Dropout)            (None, 20)                0         \n",
      "_________________________________________________________________\n",
      "dense_2 (Dense)              (None, 10)                210       \n",
      "=================================================================\n",
      "Total params: 8,320\n",
      "Trainable params: 8,300\n",
      "Non-trainable params: 20\n",
      "_________________________________________________________________\n"
     ]
    }
   ],
   "source": [
    "model.summary()"
   ]
  },
  {
   "cell_type": "code",
   "execution_count": 19,
   "id": "24518f71",
   "metadata": {},
   "outputs": [],
   "source": [
    "# Parameters for BatchNormalisation: [gamma weights, beta weights, moving_mean(non-trainable), moving_variance(non-trainable)]\n",
    "# so output_shape of previous layer *4"
   ]
  },
  {
   "cell_type": "code",
   "execution_count": 20,
   "id": "fe07adb1",
   "metadata": {},
   "outputs": [],
   "source": [
    "# Early stopping:\n",
    "early_stop = keras.callbacks.EarlyStopping(\n",
    "    monitor='val_loss', #the thing we are monitoring\n",
    "    min_delta=0.0005, #the minimum change in the quantity that we want for the model to train for another epoch\n",
    "    patience=3, #number of epochs with no improvement needed for the model to stop\n",
    "    verbose=1, #0 is silent, 1 means a message is displayed when something happens\n",
    "    #Exercise! More things to look up in the documentation:\n",
    "    #restore_best_weights\n",
    "    #baseline\n",
    ")"
   ]
  },
  {
   "cell_type": "code",
   "execution_count": 21,
   "id": "36271daa",
   "metadata": {
    "ExecuteTime": {
     "end_time": "2022-02-08T15:32:39.933518Z",
     "start_time": "2022-02-08T15:32:34.978785Z"
    }
   },
   "outputs": [
    {
     "name": "stdout",
     "output_type": "stream",
     "text": [
      "Epoch 1/100\n"
     ]
    },
    {
     "name": "stderr",
     "output_type": "stream",
     "text": [
      "2022-05-10 06:53:55.688114: I tensorflow/compiler/mlir/mlir_graph_optimization_pass.cc:176] None of the MLIR Optimization Passes are enabled (registered 2)\n",
      "2022-05-10 06:53:55.688284: W tensorflow/core/platform/profile_utils/cpu_utils.cc:128] Failed to get CPU frequency: 0 Hz\n",
      "2022-05-10 06:53:55.818653: I tensorflow/core/grappler/optimizers/custom_graph_optimizer_registry.cc:112] Plugin optimizer for device_type GPU is enabled.\n"
     ]
    },
    {
     "name": "stdout",
     "output_type": "stream",
     "text": [
      "80/80 [==============================] - 1s 9ms/step - loss: 1.7179 - accuracy: 0.4844 - val_loss: 1.0885 - val_accuracy: 0.7227\n",
      "Epoch 2/100\n",
      " 6/80 [=>............................] - ETA: 0s - loss: 1.3294 - accuracy: 0.6386"
     ]
    },
    {
     "name": "stderr",
     "output_type": "stream",
     "text": [
      "2022-05-10 06:53:56.539828: I tensorflow/core/grappler/optimizers/custom_graph_optimizer_registry.cc:112] Plugin optimizer for device_type GPU is enabled.\n"
     ]
    },
    {
     "name": "stdout",
     "output_type": "stream",
     "text": [
      "80/80 [==============================] - 1s 9ms/step - loss: 1.0942 - accuracy: 0.6955 - val_loss: 0.7954 - val_accuracy: 0.7597\n",
      "Epoch 3/100\n",
      "80/80 [==============================] - 1s 8ms/step - loss: 0.8245 - accuracy: 0.7405 - val_loss: 0.6307 - val_accuracy: 0.8009\n",
      "Epoch 4/100\n",
      "80/80 [==============================] - 1s 8ms/step - loss: 0.7085 - accuracy: 0.7665 - val_loss: 0.5641 - val_accuracy: 0.8150\n",
      "Epoch 5/100\n",
      "80/80 [==============================] - 1s 8ms/step - loss: 0.6407 - accuracy: 0.7845 - val_loss: 0.5143 - val_accuracy: 0.8242\n",
      "Epoch 6/100\n",
      "80/80 [==============================] - 1s 8ms/step - loss: 0.5940 - accuracy: 0.8016 - val_loss: 0.4970 - val_accuracy: 0.8250\n",
      "Epoch 7/100\n",
      "80/80 [==============================] - 1s 8ms/step - loss: 0.5601 - accuracy: 0.8106 - val_loss: 0.4712 - val_accuracy: 0.8385\n",
      "Epoch 8/100\n",
      "80/80 [==============================] - 1s 8ms/step - loss: 0.5372 - accuracy: 0.8199 - val_loss: 0.4463 - val_accuracy: 0.8442\n",
      "Epoch 9/100\n",
      "80/80 [==============================] - 1s 8ms/step - loss: 0.5195 - accuracy: 0.8237 - val_loss: 0.4490 - val_accuracy: 0.8450\n",
      "Epoch 10/100\n",
      "80/80 [==============================] - 1s 8ms/step - loss: 0.5067 - accuracy: 0.8276 - val_loss: 0.4440 - val_accuracy: 0.8431\n",
      "Epoch 11/100\n",
      "80/80 [==============================] - 1s 8ms/step - loss: 0.4931 - accuracy: 0.8321 - val_loss: 0.4442 - val_accuracy: 0.8471\n",
      "Epoch 12/100\n",
      "80/80 [==============================] - 1s 8ms/step - loss: 0.4919 - accuracy: 0.8323 - val_loss: 0.4683 - val_accuracy: 0.8343\n",
      "Epoch 13/100\n",
      "80/80 [==============================] - 1s 8ms/step - loss: 0.4800 - accuracy: 0.8372 - val_loss: 0.4436 - val_accuracy: 0.8430\n",
      "Epoch 00013: early stopping\n"
     ]
    }
   ],
   "source": [
    "hist = model.fit(xtrain, ytrain,\n",
    "                 epochs=100, # 1 epoch is 1 iteration over entire X and y data\n",
    "                 batch_size=600, # number of samples per gradient update\n",
    "                 validation_split=0.2,\n",
    "                 callbacks = [early_stop]\n",
    "                )"
   ]
  },
  {
   "cell_type": "code",
   "execution_count": 22,
   "id": "1210ec58",
   "metadata": {
    "ExecuteTime": {
     "end_time": "2022-02-08T15:32:39.933518Z",
     "start_time": "2022-02-08T15:32:34.978785Z"
    },
    "scrolled": true
   },
   "outputs": [
    {
     "data": {
      "text/plain": [
       "<AxesSubplot:>"
      ]
     },
     "execution_count": 22,
     "metadata": {},
     "output_type": "execute_result"
    },
    {
     "data": {
      "image/png": "[encoded data removed]",
      "text/plain": [
       "<Figure size 432x288 with 1 Axes>"
      ]
     },
     "metadata": {
      "needs_background": "light"
     },
     "output_type": "display_data"
    }
   ],
   "source": [
    "# Plot model accuracy and loss:\n",
    "pd.DataFrame(hist.history).plot()"
   ]
  },
  {
   "cell_type": "markdown",
   "id": "56d0213e",
   "metadata": {},
   "source": [
    "## Next steps:"
   ]
  },
  {
   "cell_type": "markdown",
   "id": "2bb0731a",
   "metadata": {},
   "source": [
    "Try the [exercises](https://spiced.space/costmary-function/ds-course/chapters/project_deep_learning/training_strategies/README.html) in the course notes"
   ]
  },
  {
   "cell_type": "markdown",
   "id": "8e351879",
   "metadata": {},
   "source": [
    "## See also:"
   ]
  },
  {
   "cell_type": "markdown",
   "id": "5043d6a0",
   "metadata": {},
   "source": [
    "- [Neural Network Zoo](https://www.asimovinstitute.org/neural-network-zoo/) \n",
    "\n",
    "\n",
    "- [Really excellent guide to choosing an activation function](https://mlfromscratch.com/activation-functions-explained/#/)\n",
    "- [Understanding Activation Functions in Neural Networks](https://medium.com/the-theory-of-everything/understanding-activation-functions-in-neural-networks-9491262884e0)\n",
    "- [Why `tanh` outperforms `sigmoid`](https://medium.com/analytics-vidhya/activation-functions-why-tanh-outperforms-logistic-sigmoid-3f26469ac0d1)\n",
    "- [Guide to activation functions](https://himanshuxd.medium.com/activation-functions-sigmoid-relu-leaky-relu-and-softmax-basics-for-neural-networks-and-deep-8d9c70eed91e)\n",
    "- [Sigmoid vs. Softmax](https://glassboxmedicine.com/2019/05/26/classification-sigmoid-vs-softmax/)\n",
    "- [Another article on activation functions](https://medium.com/@aborundiya/activation-function-for-multi-layer-neural-networks-a07ac473f69e)\n",
    "- [On the derivative of ReLU at 0 and why we go to leaky relu](https://sebastianraschka.com/faq/docs/relu-derivative.html)\n",
    "- [Why do we need nonlinear activation function?](https://www.coursera.org/lecture/neural-networks-deep-learning/why-do-you-need-non-linear-activation-functions-OASKH)\n",
    "- [How can RELU approximate any continuous function?](https://towardsdatascience.com/how-do-relu-neural-networks-approximate-any-continuous-function-f59ca3cf2c39)\n",
    "\n",
    "\n",
    "\n",
    "- [A nice explainer of Loss Functions](https://machinelearningmastery.com/loss-and-loss-functions-for-training-deep-learning-neural-networks/)\n",
    "- [Loss functions cheat sheet](https://ml-cheatsheet.readthedocs.io/en/latest/loss_functions.html)\n",
    "\n",
    "\n",
    "- [How to initialise weights in ANNs](https://www.analyticsvidhya.com/blog/2021/05/how-to-initialize-weights-in-neural-networks/)\n",
    "\n",
    "\n",
    "- [Guide to Batch Normalisation](https://towardsdatascience.com/batch-norm-explained-visually-how-it-works-and-why-neural-networks-need-it-b18919692739)\n",
    "- [3 levels of understanding for batch normalisation](https://towardsdatascience.com/batch-normalization-in-3-levels-of-understanding-14c2da90a338)\n",
    "\n",
    "\n",
    "- [In-depth explanation of optimisers](https://mlfromscratch.com/optimizers-explained/#/)\n",
    "- [Explanation of different Gradient Descent algorithms](https://www.analyticsvidhya.com/blog/2021/03/variants-of-gradient-descent-algorithm/)\n",
    "- [A-Comparative-Study-of-Activation-Functions](https://wandb.ai/shweta/Activation%20Functions/reports/A-Comparative-Study-of-Activation-Functions--VmlldzoxMDQwOTQ)"
   ]
  },
  {
   "cell_type": "code",
   "execution_count": null,
   "id": "6abc043a",
   "metadata": {},
   "outputs": [],
   "source": []
  }
 ],
 "metadata": {
  "hide_input": false,
  "kernelspec": {
   "display_name": "Python 3 (ipykernel)",
   "language": "python",
   "name": "python3"
  },
  "language_info": {
   "codemirror_mode": {
    "name": "ipython",
    "version": 3
   },
   "file_extension": ".py",
   "mimetype": "text/x-python",
   "name": "python",
   "nbconvert_exporter": "python",
   "pygments_lexer": "ipython3",
   "version": "3.9.12"
  },
  "latex_envs": {
   "LaTeX_envs_menu_present": true,
   "autoclose": true,
   "autocomplete": true,
   "bibliofile": "biblio.bib",
   "cite_by": "apalike",
   "current_citInitial": 1,
   "eqLabelWithNumbers": true,
   "eqNumInitial": 1,
   "hotkeys": {
    "equation": "Ctrl-E",
    "itemize": "Ctrl-I"
   },
   "labels_anchors": false,
   "latex_user_defs": false,
   "report_style_numbering": true,
   "user_envs_cfg": false
  },
  "toc": {
   "base_numbering": 1,
   "nav_menu": {},
   "number_sections": false,
   "sideBar": true,
   "skip_h1_title": false,
   "title_cell": "Table of Contents",
   "title_sidebar": "Contents",
   "toc_cell": false,
   "toc_position": {},
   "toc_section_display": true,
   "toc_window_display": false
  },
  "varInspector": {
   "cols": {
    "lenName": 16,
    "lenType": 16,
    "lenVar": 40
   },
   "kernels_config": {
    "python": {
     "delete_cmd_postfix": "",
     "delete_cmd_prefix": "del ",
     "library": "var_list.py",
     "varRefreshCmd": "print(var_dic_list())"
    },
    "r": {
     "delete_cmd_postfix": ") ",
     "delete_cmd_prefix": "rm(",
     "library": "var_list.r",
     "varRefreshCmd": "cat(var_dic_list()) "
    }
   },
   "types_to_exclude": [
    "module",
    "function",
    "builtin_function_or_method",
    "instance",
    "_Feature"
   ],
   "window_display": false
  }
 },
 "nbformat": 4,
 "nbformat_minor": 5
}
