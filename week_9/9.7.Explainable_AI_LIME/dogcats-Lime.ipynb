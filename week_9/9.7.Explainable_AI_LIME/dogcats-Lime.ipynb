{
 "cells": [
  {
   "cell_type": "code",
   "execution_count": null,
   "id": "a3bf6a38",
   "metadata": {
    "execution": {
     "iopub.execute_input": "2021-10-28T13:44:26.195344Z",
     "iopub.status.busy": "2021-10-28T13:44:26.194611Z",
     "iopub.status.idle": "2021-10-28T13:44:31.735614Z",
     "shell.execute_reply": "2021-10-28T13:44:31.735059Z",
     "shell.execute_reply.started": "2021-10-28T13:04:21.678431Z"
    },
    "papermill": {
     "duration": 5.630731,
     "end_time": "2021-10-28T13:44:31.735808",
     "exception": false,
     "start_time": "2021-10-28T13:44:26.105077",
     "status": "completed"
    },
    "slideshow": {
     "slide_type": "slide"
    },
    "tags": []
   },
   "outputs": [],
   "source": [
    "import numpy as np\n",
    "import tensorflow as tf\n",
    "from tensorflow.keras.models import Sequential\n",
    "from tensorflow.keras.layers import Activation, Dense, Flatten,\\\n",
    "BatchNormalization, Conv2D, MaxPool2D\n",
    "from tensorflow.keras.optimizers import Adam\n",
    "from tensorflow.keras.metrics import categorical_crossentropy\n",
    "from tensorflow.keras.preprocessing.image import ImageDataGenerator\n",
    "from sklearn.metrics import confusion_matrix\n",
    "import itertools\n",
    "import os\n",
    "import matplotlib.pyplot as plt\n",
    "%matplotlib inline\n"
   ]
  },
  {
   "cell_type": "code",
   "execution_count": null,
   "id": "f1b650d5",
   "metadata": {
    "execution": {
     "iopub.execute_input": "2021-10-28T13:44:31.908552Z",
     "iopub.status.busy": "2021-10-28T13:44:31.907430Z",
     "iopub.status.idle": "2021-10-28T13:44:31.909228Z",
     "shell.execute_reply": "2021-10-28T13:44:31.909691Z",
     "shell.execute_reply.started": "2021-10-28T13:04:27.033268Z"
    },
    "papermill": {
     "duration": 0.089351,
     "end_time": "2021-10-28T13:44:31.909832",
     "exception": false,
     "start_time": "2021-10-28T13:44:31.820481",
     "status": "completed"
    },
    "slideshow": {
     "slide_type": "slide"
    },
    "tags": []
   },
   "outputs": [],
   "source": [
    "# download the data from https://www.kaggle.com/datasets/tongpython/cat-and-dog\n",
    "train_path = 'archive/training_set/training_set/'\n",
    "test_path = 'archive/test_set/test_set/'"
   ]
  },
  {
   "cell_type": "code",
   "execution_count": null,
   "id": "6e846d07",
   "metadata": {
    "execution": {
     "iopub.execute_input": "2021-10-28T13:44:32.083094Z",
     "iopub.status.busy": "2021-10-28T13:44:32.078389Z",
     "iopub.status.idle": "2021-10-28T13:44:33.480433Z",
     "shell.execute_reply": "2021-10-28T13:44:33.481331Z",
     "shell.execute_reply.started": "2021-10-28T13:04:27.049497Z"
    },
    "papermill": {
     "duration": 1.489549,
     "end_time": "2021-10-28T13:44:33.481537",
     "exception": false,
     "start_time": "2021-10-28T13:44:31.991988",
     "status": "completed"
    },
    "slideshow": {
     "slide_type": "fragment"
    },
    "tags": []
   },
   "outputs": [],
   "source": [
    "train_datagen = ImageDataGenerator(rescale=1.0/255.0,validation_split=0.2) \n",
    "\n",
    "train_batches = train_datagen.flow_from_directory(directory=train_path, \\\n",
    "target_size=(224,224), classes=['cats', 'dogs'], batch_size=64,subset='training')\n",
    "\n",
    "validation_batches = train_datagen.flow_from_directory(directory=train_path, \\\n",
    "target_size=(224,224), classes=['cats', 'dogs'], batch_size=64,subset='validation')\n",
    "\n",
    "test_batches = ImageDataGenerator(rescale=1.0/255.0).flow_from_directory(\\\n",
    "directory=test_path, target_size=(224,224), classes=['cats', 'dogs'], \\\n",
    "batch_size=64, shuffle=False)"
   ]
  },
  {
   "cell_type": "code",
   "execution_count": null,
   "id": "ff6c536d",
   "metadata": {
    "execution": {
     "iopub.execute_input": "2021-10-28T13:44:39.858715Z",
     "iopub.status.busy": "2021-10-28T13:44:39.858026Z",
     "iopub.status.idle": "2021-10-28T13:44:42.278365Z",
     "shell.execute_reply": "2021-10-28T13:44:42.278909Z",
     "shell.execute_reply.started": "2021-10-28T13:04:35.389598Z"
    },
    "papermill": {
     "duration": 2.605499,
     "end_time": "2021-10-28T13:44:42.279076",
     "exception": false,
     "start_time": "2021-10-28T13:44:39.673577",
     "status": "completed"
    },
    "slideshow": {
     "slide_type": "slide"
    },
    "tags": []
   },
   "outputs": [],
   "source": [
    "model = Sequential([\n",
    "    Conv2D(filters=32, kernel_size=(3, 3), activation='relu', input_shape=(224,224,3)),\n",
    "    MaxPool2D(pool_size=(2, 2), strides=2),  # strides is the step to take the pooling. here since the winow is 2*2 and stride is 2 then we have each window  taking different pixels\n",
    "    Conv2D(filters=64, kernel_size=(3, 3), activation='relu'),\n",
    "    MaxPool2D(pool_size=(2, 2), strides=2),\n",
    "    Conv2D(filters=128, kernel_size=(3, 3), activation='relu'),\n",
    "    MaxPool2D(pool_size=(2, 2), strides=2),\n",
    "    Flatten(),\n",
    "    Dense(units=2, activation='softmax')\n",
    "])"
   ]
  },
  {
   "cell_type": "code",
   "execution_count": null,
   "id": "681bff70",
   "metadata": {
    "execution": {
     "iopub.execute_input": "2021-10-28T13:44:42.647470Z",
     "iopub.status.busy": "2021-10-28T13:44:42.646602Z",
     "iopub.status.idle": "2021-10-28T13:44:42.657069Z",
     "shell.execute_reply": "2021-10-28T13:44:42.656631Z",
     "shell.execute_reply.started": "2021-10-28T13:04:38.048581Z"
    },
    "papermill": {
     "duration": 0.189268,
     "end_time": "2021-10-28T13:44:42.657187",
     "exception": false,
     "start_time": "2021-10-28T13:44:42.467919",
     "status": "completed"
    },
    "slideshow": {
     "slide_type": "fragment"
    },
    "tags": []
   },
   "outputs": [],
   "source": [
    "# model.compile(optimizer=Adam(learning_rate=0.0001), loss='categorical_crossentropy',\\\n",
    "# metrics=['accuracy'])"
   ]
  },
  {
   "cell_type": "code",
   "execution_count": null,
   "id": "78914086",
   "metadata": {
    "execution": {
     "iopub.execute_input": "2021-10-28T13:44:43.013335Z",
     "iopub.status.busy": "2021-10-28T13:44:43.012739Z",
     "iopub.status.idle": "2021-10-28T13:51:23.006433Z",
     "shell.execute_reply": "2021-10-28T13:51:23.005947Z",
     "shell.execute_reply.started": "2021-10-28T13:04:38.076540Z"
    },
    "papermill": {
     "duration": 400.177524,
     "end_time": "2021-10-28T13:51:23.006568",
     "exception": false,
     "start_time": "2021-10-28T13:44:42.829044",
     "status": "completed"
    },
    "slideshow": {
     "slide_type": "fragment"
    },
    "tags": []
   },
   "outputs": [],
   "source": [
    "# #model.fit_generator(x=train_batches,validation_ epochs=5, verbose=1)\n",
    "# hist = model.fit(\n",
    "#     train_batches,\n",
    "#     validation_data = validation_batches, \n",
    "#     epochs = 10)"
   ]
  },
  {
   "cell_type": "code",
   "execution_count": null,
   "id": "fc1e60de",
   "metadata": {
    "execution": {
     "iopub.execute_input": "2021-10-28T13:51:23.897914Z",
     "iopub.status.busy": "2021-10-28T13:51:23.897051Z",
     "iopub.status.idle": "2021-10-28T13:51:24.297624Z",
     "shell.execute_reply": "2021-10-28T13:51:24.297187Z",
     "shell.execute_reply.started": "2021-10-28T13:10:54.720938Z"
    },
    "papermill": {
     "duration": 0.849781,
     "end_time": "2021-10-28T13:51:24.297775",
     "exception": false,
     "start_time": "2021-10-28T13:51:23.447994",
     "status": "completed"
    },
    "slideshow": {
     "slide_type": "slide"
    },
    "tags": []
   },
   "outputs": [],
   "source": [
    "# # Display models statistics\n",
    "# from matplotlib import pyplot as plt\n",
    "# loss = hist.history['loss']\n",
    "# val_loss = hist.history['val_loss']\n",
    "# acc = hist.history['accuracy']\n",
    "# val_acc = hist.history['val_accuracy']\n",
    "# epochsr = range(10)\n",
    "# plt.figure()\n",
    "# plt.plot(epochsr, loss, 'g', label='Training loss')\n",
    "# plt.plot(epochsr, val_loss, 'b', label='Validation loss')\n",
    "# plt.title('Training and validation loss')\n",
    "# plt.legend()\n",
    "# plt.show()\n",
    "# plt.figure()\n",
    "# plt.plot(epochsr, acc, 'g', label='Training acc')\n",
    "# plt.plot(epochsr, val_acc, 'b', label='Validation acc')\n",
    "# plt.title('Accuracy')\n",
    "# plt.legend()\n",
    "# plt.show()\n",
    "# mymodel = hist.model"
   ]
  },
  {
   "cell_type": "code",
   "execution_count": null,
   "id": "ab54cf20",
   "metadata": {
    "execution": {
     "iopub.execute_input": "2021-10-28T13:51:25.203817Z",
     "iopub.status.busy": "2021-10-28T13:51:25.202921Z",
     "iopub.status.idle": "2021-10-28T13:51:25.234578Z",
     "shell.execute_reply": "2021-10-28T13:51:25.235213Z",
     "shell.execute_reply.started": "2021-10-28T13:10:55.106607Z"
    },
    "papermill": {
     "duration": 0.500837,
     "end_time": "2021-10-28T13:51:25.235402",
     "exception": false,
     "start_time": "2021-10-28T13:51:24.734565",
     "status": "completed"
    },
    "slideshow": {
     "slide_type": "slide"
    },
    "tags": []
   },
   "outputs": [],
   "source": [
    "# # serialize model\n",
    "# model.save(\"model.h5\")\n",
    "# print(\"Saved model to disk\")"
   ]
  },
  {
   "cell_type": "code",
   "execution_count": null,
   "id": "19689b0d",
   "metadata": {
    "execution": {
     "iopub.execute_input": "2021-10-28T13:51:26.141736Z",
     "iopub.status.busy": "2021-10-28T13:51:26.140894Z",
     "iopub.status.idle": "2021-10-28T13:51:26.464441Z",
     "shell.execute_reply": "2021-10-28T13:51:26.463982Z",
     "shell.execute_reply.started": "2021-10-28T13:15:52.502097Z"
    },
    "papermill": {
     "duration": 0.791185,
     "end_time": "2021-10-28T13:51:26.464565",
     "exception": false,
     "start_time": "2021-10-28T13:51:25.673380",
     "status": "completed"
    },
    "slideshow": {
     "slide_type": "fragment"
    },
    "tags": []
   },
   "outputs": [],
   "source": [
    "from tensorflow.keras.models import load_model\n",
    "\n",
    "# load, create and compile model\n",
    "\n",
    "model = load_model(\"model.h5\")\n",
    "model.summary()"
   ]
  },
  {
   "cell_type": "code",
   "execution_count": null,
   "id": "ebf21c62",
   "metadata": {
    "execution": {
     "iopub.execute_input": "2021-10-28T13:51:34.962402Z",
     "iopub.status.busy": "2021-10-28T13:51:34.961687Z",
     "iopub.status.idle": "2021-10-28T13:51:34.964053Z",
     "shell.execute_reply": "2021-10-28T13:51:34.964433Z",
     "shell.execute_reply.started": "2021-10-28T13:16:01.410172Z"
    },
    "papermill": {
     "duration": 0.553789,
     "end_time": "2021-10-28T13:51:34.964575",
     "exception": false,
     "start_time": "2021-10-28T13:51:34.410786",
     "status": "completed"
    },
    "tags": []
   },
   "outputs": [],
   "source": [
    "def plot_confusion_matrix(cm, classes,\n",
    "                          normalize=False,\n",
    "                          title='Confusion matrix',\n",
    "                          cmap=plt.cm.Blues):\n",
    "    \"\"\"\n",
    "    This function prints and plots the confusion matrix.\n",
    "    Normalization can be applied by setting `normalize=True`.\n",
    "    \"\"\"\n",
    "    plt.imshow(cm, interpolation='nearest', cmap=cmap)\n",
    "    plt.title(title)\n",
    "    plt.colorbar()\n",
    "    tick_marks = np.arange(len(classes))\n",
    "    plt.xticks(tick_marks, classes, rotation=45)\n",
    "    plt.yticks(tick_marks, classes)\n",
    "\n",
    "    if normalize:\n",
    "        cm = cm.astype('float') / cm.sum(axis=1)[:, np.newaxis]\n",
    "        print(\"Normalized confusion matrix\")\n",
    "    else:\n",
    "        print('Confusion matrix, without normalization')\n",
    "\n",
    "    print(cm)\n",
    "\n",
    "    thresh = cm.max() / 2.\n",
    "    for i, j in itertools.product(range(cm.shape[0]), range(cm.shape[1])):\n",
    "        plt.text(j, i, cm[i, j],\n",
    "            horizontalalignment=\"center\",\n",
    "            color=\"white\" if cm[i, j] > thresh else \"black\")\n",
    "\n",
    "    plt.tight_layout()\n",
    "    plt.ylabel('True label')\n",
    "    plt.xlabel('Predicted label')\n",
    "    \n",
    "# you could either use this custom function or the built in function from https://scikit-learn.org/stable/modules/generated/sklearn.metrics.plot_confusion_matrix.html"
   ]
  },
  {
   "cell_type": "code",
   "execution_count": null,
   "id": "6db415b0",
   "metadata": {},
   "outputs": [],
   "source": [
    "# eg of itertools.product (gives you a Cartesian product of lists in Python)\n",
    "l1 = ['a', 'b', 'c']\n",
    "l2 = ['X', 'Y', 'Z']\n",
    "\n",
    "for comb in itertools.product(l1, l2):\n",
    "    print(comb)"
   ]
  },
  {
   "cell_type": "code",
   "execution_count": null,
   "id": "0a9699dd",
   "metadata": {
    "execution": {
     "iopub.execute_input": "2021-10-28T13:51:36.054510Z",
     "iopub.status.busy": "2021-10-28T13:51:36.053604Z",
     "iopub.status.idle": "2021-10-28T13:51:55.375271Z",
     "shell.execute_reply": "2021-10-28T13:51:55.374533Z",
     "shell.execute_reply.started": "2021-10-28T13:16:01.424030Z"
    },
    "papermill": {
     "duration": 19.864861,
     "end_time": "2021-10-28T13:51:55.375400",
     "exception": false,
     "start_time": "2021-10-28T13:51:35.510539",
     "status": "completed"
    },
    "slideshow": {
     "slide_type": "slide"
    },
    "tags": []
   },
   "outputs": [],
   "source": [
    "predictions = model.predict(x=test_batches, verbose=0)\n",
    "cm = confusion_matrix(y_true=test_batches.classes, \\\n",
    "                      y_pred=np.argmax(predictions, axis=-1))\n",
    "\n",
    "cm_plot_labels = ['cat','dog']\n",
    "plot_confusion_matrix(cm=cm, classes=cm_plot_labels, title='Confusion Matrix')"
   ]
  },
  {
   "cell_type": "code",
   "execution_count": null,
   "id": "4d2ada77",
   "metadata": {
    "execution": {
     "iopub.execute_input": "2021-10-28T13:51:57.570474Z",
     "iopub.status.busy": "2021-10-28T13:51:57.569723Z",
     "iopub.status.idle": "2021-10-28T13:52:39.365062Z",
     "shell.execute_reply": "2021-10-28T13:52:39.364562Z",
     "shell.execute_reply.started": "2021-10-28T13:16:18.026586Z"
    },
    "papermill": {
     "duration": 42.345095,
     "end_time": "2021-10-28T13:52:39.365199",
     "exception": false,
     "start_time": "2021-10-28T13:51:57.020104",
     "status": "completed"
    },
    "slideshow": {
     "slide_type": "fragment"
    },
    "tags": []
   },
   "outputs": [],
   "source": [
    "model.evaluate(train_batches),model.evaluate(validation_batches),model.evaluate(test_batches)"
   ]
  },
  {
   "cell_type": "code",
   "execution_count": null,
   "id": "426537e0",
   "metadata": {
    "execution": {
     "iopub.execute_input": "2021-10-28T14:08:11.247548Z",
     "iopub.status.busy": "2021-10-28T14:08:11.246880Z",
     "iopub.status.idle": "2021-10-28T14:08:11.442441Z",
     "shell.execute_reply": "2021-10-28T14:08:11.441892Z",
     "shell.execute_reply.started": "2021-10-28T13:30:35.989264Z"
    },
    "papermill": {
     "duration": 1.586625,
     "end_time": "2021-10-28T14:08:11.442573",
     "exception": false,
     "start_time": "2021-10-28T14:08:09.855948",
     "status": "completed"
    },
    "tags": []
   },
   "outputs": [],
   "source": [
    "def TestImgPreprocessing(path):\n",
    "    '''\n",
    "    Resizes all images in a given file path to (224,224) and MinMax scales \n",
    "    Return array of images\n",
    "    Adapted from https://stackoverflow.com/questions/21517879/\n",
    "    python-pil-resize-all-images-in-a-folder\n",
    "    '''\n",
    "    from PIL import Image\n",
    "    import os\n",
    "    dirs = sorted(os.listdir(path))\n",
    "    images = []\n",
    "    for item in dirs:\n",
    "        if os.path.isfile(path+item):\n",
    "            im = Image.open(path+item)\n",
    "            f, e = os.path.splitext(path+item)\n",
    "            imResize = im.resize((224,224), Image.ANTIALIAS)\n",
    "            imResize = np.asarray(imResize)/255\n",
    "            images.append(imResize)\n",
    "    return np.asarray(images)\n",
    "\n",
    "test_imgs = TestImgPreprocessing('downloaded_imgs/')"
   ]
  },
  {
   "cell_type": "code",
   "execution_count": null,
   "id": "80f35909",
   "metadata": {
    "execution": {
     "iopub.execute_input": "2021-10-28T14:08:17.223766Z",
     "iopub.status.busy": "2021-10-28T14:08:17.222637Z",
     "iopub.status.idle": "2021-10-28T14:08:17.421224Z",
     "shell.execute_reply": "2021-10-28T14:08:17.421949Z",
     "shell.execute_reply.started": "2021-10-28T13:30:36.146371Z"
    },
    "papermill": {
     "duration": 1.620685,
     "end_time": "2021-10-28T14:08:17.422167",
     "exception": false,
     "start_time": "2021-10-28T14:08:15.801482",
     "status": "completed"
    },
    "tags": []
   },
   "outputs": [],
   "source": [
    "#Custom model test predictions (open downloaded images folder)\n",
    "predictions = np.round(model.predict(test_imgs))\n",
    "print(predictions)"
   ]
  },
  {
   "cell_type": "code",
   "execution_count": null,
   "id": "2d893f60",
   "metadata": {
    "execution": {
     "iopub.execute_input": "2021-10-28T14:08:14.413124Z",
     "iopub.status.busy": "2021-10-28T14:08:14.412465Z",
     "iopub.status.idle": "2021-10-28T14:08:14.416875Z",
     "shell.execute_reply": "2021-10-28T14:08:14.416396Z",
     "shell.execute_reply.started": "2021-10-28T13:30:36.139299Z"
    },
    "papermill": {
     "duration": 1.385501,
     "end_time": "2021-10-28T14:08:14.417006",
     "exception": false,
     "start_time": "2021-10-28T14:08:13.031505",
     "status": "completed"
    },
    "tags": []
   },
   "outputs": [],
   "source": [
    "test_imgs.shape"
   ]
  },
  {
   "cell_type": "code",
   "execution_count": null,
   "id": "c84c1302",
   "metadata": {},
   "outputs": [],
   "source": [
    "from IPython.display import YouTubeVideo\n",
    "\n",
    "YouTubeVideo('hUnRCxnydCc', width=800, height=300)"
   ]
  },
  {
   "cell_type": "code",
   "execution_count": null,
   "id": "37ab790c",
   "metadata": {
    "execution": {
     "iopub.execute_input": "2021-10-28T14:08:24.041266Z",
     "iopub.status.busy": "2021-10-28T14:08:24.040093Z",
     "iopub.status.idle": "2021-10-28T14:08:32.680963Z",
     "shell.execute_reply": "2021-10-28T14:08:32.680115Z",
     "shell.execute_reply.started": "2021-10-28T13:30:36.820149Z"
    },
    "papermill": {
     "duration": 10.238925,
     "end_time": "2021-10-28T14:08:32.681114",
     "exception": false,
     "start_time": "2021-10-28T14:08:22.442189",
     "status": "completed"
    },
    "slideshow": {
     "slide_type": "slide"
    },
    "tags": []
   },
   "outputs": [],
   "source": [
    "!#pip install lime"
   ]
  },
  {
   "cell_type": "code",
   "execution_count": null,
   "id": "a7c9ca31",
   "metadata": {
    "scrolled": true
   },
   "outputs": [],
   "source": [
    "plt.imshow(test_imgs[5])"
   ]
  },
  {
   "cell_type": "code",
   "execution_count": null,
   "id": "08b48123",
   "metadata": {
    "scrolled": true
   },
   "outputs": [],
   "source": [
    "from lime import lime_image\n",
    "explainer = lime_image.LimeImageExplainer()\n",
    "# Hide color is the color for a superpixel turned OFF. Alternatively,\n",
    "#if it is NONE, the superpixel will be replaced by the average of its pixels\n",
    "explanation = explainer.explain_instance(test_imgs[5], model.predict)"
   ]
  },
  {
   "cell_type": "code",
   "execution_count": null,
   "id": "4e35b55f",
   "metadata": {
    "scrolled": true
   },
   "outputs": [],
   "source": [
    "model.predict(test_imgs)[5]"
   ]
  },
  {
   "cell_type": "code",
   "execution_count": null,
   "id": "0bd70435",
   "metadata": {
    "scrolled": true
   },
   "outputs": [],
   "source": [
    "from skimage.segmentation import mark_boundaries\n",
    "temp, mask = explanation.get_image_and_mask(explanation.top_labels[0],\\\n",
    "                            positive_only=True, num_features=10, hide_rest=True)\n",
    "\n",
    "plt.imshow(mark_boundaries(temp, mask))"
   ]
  },
  {
   "cell_type": "code",
   "execution_count": null,
   "id": "a6f6f7ce",
   "metadata": {},
   "outputs": [],
   "source": [
    "temp, mask = explanation.get_image_and_mask(explanation.top_labels[0],\\\n",
    "                            positive_only=False, num_features=8, hide_rest=False)\n",
    "\n",
    "plt.imshow(mark_boundaries(temp, mask))"
   ]
  },
  {
   "cell_type": "code",
   "execution_count": null,
   "id": "a4f3f357",
   "metadata": {},
   "outputs": [],
   "source": [
    "plt.imshow(test_imgs[9])"
   ]
  },
  {
   "cell_type": "code",
   "execution_count": null,
   "id": "fd61eb35",
   "metadata": {},
   "outputs": [],
   "source": [
    "from lime import lime_image\n",
    "explainer = lime_image.LimeImageExplainer()\n",
    "# Hide color is the color for a superpixel turned OFF. Alternatively,\n",
    "#if it is NONE, the superpixel will be replaced by the average of its pixels\n",
    "explanation = explainer.explain_instance(test_imgs[9], model.predict)"
   ]
  },
  {
   "cell_type": "code",
   "execution_count": null,
   "id": "76a25c68",
   "metadata": {},
   "outputs": [],
   "source": [
    "model.predict(test_imgs)[9]"
   ]
  },
  {
   "cell_type": "code",
   "execution_count": null,
   "id": "5c4355f8",
   "metadata": {
    "scrolled": true
   },
   "outputs": [],
   "source": [
    "from skimage.segmentation import mark_boundaries\n",
    "temp, mask = explanation.get_image_and_mask(explanation.top_labels[0],\\\n",
    "                            positive_only=True, num_features=10, hide_rest=True)\n",
    "\n",
    "plt.imshow(mark_boundaries(temp, mask))"
   ]
  },
  {
   "cell_type": "code",
   "execution_count": null,
   "id": "0d723ab6",
   "metadata": {
    "scrolled": true
   },
   "outputs": [],
   "source": [
    "temp, mask = explanation.get_image_and_mask(explanation.top_labels[0],\\\n",
    "                            positive_only=False, num_features=10, hide_rest=False)\n",
    "\n",
    "plt.imshow(mark_boundaries(temp, mask))"
   ]
  },
  {
   "cell_type": "markdown",
   "id": "2cf660d9",
   "metadata": {
    "papermill": {
     "duration": 0.913173,
     "end_time": "2021-10-28T14:00:39.989796",
     "exception": false,
     "start_time": "2021-10-28T14:00:39.076623",
     "status": "completed"
    },
    "slideshow": {
     "slide_type": "slide"
    },
    "tags": []
   },
   "source": [
    "### MobileNet"
   ]
  },
  {
   "cell_type": "code",
   "execution_count": null,
   "id": "768d12ed",
   "metadata": {
    "execution": {
     "iopub.execute_input": "2021-10-28T14:00:42.202918Z",
     "iopub.status.busy": "2021-10-28T14:00:42.201995Z",
     "iopub.status.idle": "2021-10-28T14:00:44.037392Z",
     "shell.execute_reply": "2021-10-28T14:00:44.036597Z",
     "shell.execute_reply.started": "2021-10-28T13:24:05.978146Z"
    },
    "papermill": {
     "duration": 3.096916,
     "end_time": "2021-10-28T14:00:44.037541",
     "exception": false,
     "start_time": "2021-10-28T14:00:40.940625",
     "status": "completed"
    },
    "slideshow": {
     "slide_type": "fragment"
    },
    "tags": []
   },
   "outputs": [],
   "source": [
    "mobile = tf.keras.applications.mobilenet.MobileNet()\n",
    "model_mobilenet = Sequential()\n",
    "for layer in mobile.layers[:-5]:\n",
    "    model_mobilenet.add(layer)\n",
    "    \n",
    "for layer in model_mobilenet.layers[:-5]:\n",
    "    layer.trainable = False\n",
    "    \n",
    "model_mobilenet.add(Dense(units=2, activation='softmax'))"
   ]
  },
  {
   "cell_type": "code",
   "execution_count": null,
   "id": "4edeef5c",
   "metadata": {
    "execution": {
     "iopub.execute_input": "2021-10-28T14:00:45.904332Z",
     "iopub.status.busy": "2021-10-28T14:00:45.903329Z",
     "iopub.status.idle": "2021-10-28T14:06:36.084784Z",
     "shell.execute_reply": "2021-10-28T14:06:36.085222Z",
     "shell.execute_reply.started": "2021-10-28T13:24:07.163852Z"
    },
    "papermill": {
     "duration": 351.121554,
     "end_time": "2021-10-28T14:06:36.085404",
     "exception": false,
     "start_time": "2021-10-28T14:00:44.963850",
     "status": "completed"
    },
    "slideshow": {
     "slide_type": "subslide"
    },
    "tags": []
   },
   "outputs": [],
   "source": [
    "model_mobilenet.compile(optimizer=Adam(learning_rate=0.0001),\\\n",
    "                        loss='categorical_crossentropy', metrics=['accuracy'])\n",
    "\n",
    "hist_mobile = model_mobilenet.fit(\n",
    "    train_batches,\n",
    "    validation_data = validation_batches, \n",
    "    epochs = 10)"
   ]
  },
  {
   "cell_type": "code",
   "execution_count": null,
   "id": "b6fcabc6",
   "metadata": {
    "execution": {
     "iopub.execute_input": "2021-10-28T14:06:38.501095Z",
     "iopub.status.busy": "2021-10-28T14:06:38.500137Z",
     "iopub.status.idle": "2021-10-28T14:06:38.895991Z",
     "shell.execute_reply": "2021-10-28T14:06:38.896563Z",
     "shell.execute_reply.started": "2021-10-28T13:29:34.994654Z"
    },
    "papermill": {
     "duration": 1.613963,
     "end_time": "2021-10-28T14:06:38.896747",
     "exception": false,
     "start_time": "2021-10-28T14:06:37.282784",
     "status": "completed"
    },
    "slideshow": {
     "slide_type": "subslide"
    },
    "tags": []
   },
   "outputs": [],
   "source": [
    "# # Display models statistics\n",
    "# from matplotlib import pyplot as plt\n",
    "# loss = hist_mobile.history['loss']\n",
    "# val_loss = hist_mobile.history['val_loss']\n",
    "# acc = hist_mobile.history['accuracy']\n",
    "# val_acc = hist_mobile.history['val_accuracy']\n",
    "# epochsr = range(10)\n",
    "# plt.figure()\n",
    "# plt.plot(epochsr, loss, 'g', label='Training loss')\n",
    "# plt.plot(epochsr, val_loss, 'b', label='Validation loss')\n",
    "# plt.title('Training and validation loss')\n",
    "# plt.legend()\n",
    "# plt.show()\n",
    "# plt.figure()\n",
    "# plt.plot(epochsr, acc, 'g', label='Training acc')\n",
    "# plt.plot(epochsr, val_acc, 'b', label='Validation acc')\n",
    "# plt.title('Accuracy')\n",
    "# plt.legend()\n",
    "# plt.show()\n",
    "# mymodel_mobile = hist_mobile.model"
   ]
  },
  {
   "cell_type": "code",
   "execution_count": null,
   "id": "8135be40",
   "metadata": {
    "execution": {
     "iopub.execute_input": "2021-10-28T14:06:41.871427Z",
     "iopub.status.busy": "2021-10-28T14:06:41.869693Z",
     "iopub.status.idle": "2021-10-28T14:06:42.029918Z",
     "shell.execute_reply": "2021-10-28T14:06:42.029421Z",
     "shell.execute_reply.started": "2021-10-28T13:29:35.375668Z"
    },
    "papermill": {
     "duration": 1.88556,
     "end_time": "2021-10-28T14:06:42.030047",
     "exception": false,
     "start_time": "2021-10-28T14:06:40.144487",
     "status": "completed"
    },
    "tags": []
   },
   "outputs": [],
   "source": [
    "# # serialize model\n",
    "# model_mobilenet.save(\"model_mobilenet.h5\")\n",
    "# print(\"Saved model to disk\")"
   ]
  },
  {
   "cell_type": "code",
   "execution_count": null,
   "id": "782e4e2a",
   "metadata": {
    "execution": {
     "iopub.execute_input": "2021-10-28T14:06:44.466418Z",
     "iopub.status.busy": "2021-10-28T14:06:44.465548Z",
     "iopub.status.idle": "2021-10-28T14:06:45.419283Z",
     "shell.execute_reply": "2021-10-28T14:06:45.417983Z",
     "shell.execute_reply.started": "2021-10-28T13:29:35.546782Z"
    },
    "papermill": {
     "duration": 2.19008,
     "end_time": "2021-10-28T14:06:45.419480",
     "exception": false,
     "start_time": "2021-10-28T14:06:43.229400",
     "status": "completed"
    },
    "tags": []
   },
   "outputs": [],
   "source": [
    "model_mobilenet = load_model(\"model_mobilenet.h5\")\n",
    "model_mobilenet.summary()"
   ]
  },
  {
   "cell_type": "code",
   "execution_count": null,
   "id": "99225989",
   "metadata": {
    "execution": {
     "iopub.execute_input": "2021-10-28T14:06:55.537391Z",
     "iopub.status.busy": "2021-10-28T14:06:55.536472Z",
     "iopub.status.idle": "2021-10-28T14:07:04.719895Z",
     "shell.execute_reply": "2021-10-28T14:07:04.719444Z",
     "shell.execute_reply.started": "2021-10-28T13:29:41.178313Z"
    },
    "papermill": {
     "duration": 10.566335,
     "end_time": "2021-10-28T14:07:04.720024",
     "exception": false,
     "start_time": "2021-10-28T14:06:54.153689",
     "status": "completed"
    },
    "slideshow": {
     "slide_type": "slide"
    },
    "tags": []
   },
   "outputs": [],
   "source": [
    "predictions = model_mobilenet.predict(x = test_batches, steps = len(test_batches), verbose = 0)\n",
    "cm = confusion_matrix(y_true=test_batches.classes, y_pred=np.argmax(predictions, axis=-1))\n",
    "cm_plot_labels = ['cat','dog']\n",
    "plot_confusion_matrix(cm=cm, classes=cm_plot_labels, title='Confusion Matrix')"
   ]
  },
  {
   "cell_type": "code",
   "execution_count": null,
   "id": "68d42148",
   "metadata": {
    "execution": {
     "iopub.execute_input": "2021-10-28T14:07:07.637152Z",
     "iopub.status.busy": "2021-10-28T14:07:07.636350Z",
     "iopub.status.idle": "2021-10-28T14:08:08.486988Z",
     "shell.execute_reply": "2021-10-28T14:08:08.487474Z",
     "shell.execute_reply.started": "2021-10-28T13:29:50.533391Z"
    },
    "papermill": {
     "duration": 62.404141,
     "end_time": "2021-10-28T14:08:08.487630",
     "exception": false,
     "start_time": "2021-10-28T14:07:06.083489",
     "status": "completed"
    },
    "slideshow": {
     "slide_type": "fragment"
    },
    "tags": []
   },
   "outputs": [],
   "source": [
    "model_mobilenet.evaluate(train_batches),model_mobilenet.evaluate(validation_batches)\\\n",
    ",model_mobilenet.evaluate(test_batches)"
   ]
  },
  {
   "cell_type": "code",
   "execution_count": null,
   "id": "6ff3c134",
   "metadata": {
    "execution": {
     "iopub.execute_input": "2021-10-28T14:08:20.625165Z",
     "iopub.status.busy": "2021-10-28T14:08:20.623992Z",
     "iopub.status.idle": "2021-10-28T14:08:21.084588Z",
     "shell.execute_reply": "2021-10-28T14:08:21.084081Z",
     "shell.execute_reply.started": "2021-10-28T13:30:36.379247Z"
    },
    "papermill": {
     "duration": 1.794743,
     "end_time": "2021-10-28T14:08:21.084759",
     "exception": false,
     "start_time": "2021-10-28T14:08:19.290016",
     "status": "completed"
    },
    "tags": []
   },
   "outputs": [],
   "source": [
    "#Custom model\n",
    "predictions_mobilenet = np.round(model_mobilenet.predict(test_imgs))\n",
    "print(predictions)"
   ]
  },
  {
   "cell_type": "code",
   "execution_count": null,
   "id": "7d1db5f3",
   "metadata": {
    "execution": {
     "iopub.execute_input": "2021-10-28T14:08:35.663719Z",
     "iopub.status.busy": "2021-10-28T14:08:35.662739Z",
     "iopub.status.idle": "2021-10-28T14:08:35.903400Z",
     "shell.execute_reply": "2021-10-28T14:08:35.903860Z",
     "shell.execute_reply.started": "2021-10-28T13:40:22.503766Z"
    },
    "papermill": {
     "duration": 1.87733,
     "end_time": "2021-10-28T14:08:35.904013",
     "exception": false,
     "start_time": "2021-10-28T14:08:34.026683",
     "status": "completed"
    },
    "slideshow": {
     "slide_type": "slide"
    },
    "tags": []
   },
   "outputs": [],
   "source": [
    "plt.imshow(test_imgs[5])"
   ]
  },
  {
   "cell_type": "code",
   "execution_count": null,
   "id": "c08b2f81",
   "metadata": {
    "execution": {
     "iopub.execute_input": "2021-10-28T14:08:38.653677Z",
     "iopub.status.busy": "2021-10-28T14:08:38.652561Z",
     "iopub.status.idle": "2021-10-28T14:08:38.724541Z",
     "shell.execute_reply": "2021-10-28T14:08:38.725313Z",
     "shell.execute_reply.started": "2021-10-28T13:30:45.533764Z"
    },
    "papermill": {
     "duration": 1.432409,
     "end_time": "2021-10-28T14:08:38.725489",
     "exception": false,
     "start_time": "2021-10-28T14:08:37.293080",
     "status": "completed"
    },
    "slideshow": {
     "slide_type": "fragment"
    },
    "tags": []
   },
   "outputs": [],
   "source": [
    "model_mobilenet.predict(test_imgs)[5]"
   ]
  },
  {
   "cell_type": "code",
   "execution_count": null,
   "id": "ecc72095",
   "metadata": {
    "execution": {
     "iopub.execute_input": "2021-10-28T14:08:41.561580Z",
     "iopub.status.busy": "2021-10-28T14:08:41.560251Z",
     "iopub.status.idle": "2021-10-28T14:08:52.074692Z",
     "shell.execute_reply": "2021-10-28T14:08:52.075871Z",
     "shell.execute_reply.started": "2021-10-28T13:34:31.349193Z"
    },
    "papermill": {
     "duration": 11.944893,
     "end_time": "2021-10-28T14:08:52.076257",
     "exception": false,
     "start_time": "2021-10-28T14:08:40.131364",
     "status": "completed"
    },
    "slideshow": {
     "slide_type": "subslide"
    },
    "tags": []
   },
   "outputs": [],
   "source": [
    "from lime import lime_image\n",
    "explainer = lime_image.LimeImageExplainer()\n",
    "# Hide color is the color for a superpixel turned OFF. Alternatively, \n",
    "#if it is NONE, the superpixel will be replaced by the average of its pixels\n",
    "explanation = explainer.explain_instance(test_imgs[5], model_mobilenet.predict)"
   ]
  },
  {
   "cell_type": "code",
   "execution_count": null,
   "id": "873f04f4",
   "metadata": {
    "execution": {
     "iopub.execute_input": "2021-10-28T14:08:55.075578Z",
     "iopub.status.busy": "2021-10-28T14:08:55.074857Z",
     "iopub.status.idle": "2021-10-28T14:08:55.077767Z",
     "shell.execute_reply": "2021-10-28T14:08:55.078256Z",
     "shell.execute_reply.started": "2021-10-28T13:34:40.349671Z"
    },
    "papermill": {
     "duration": 1.359116,
     "end_time": "2021-10-28T14:08:55.078404",
     "exception": false,
     "start_time": "2021-10-28T14:08:53.719288",
     "status": "completed"
    },
    "tags": []
   },
   "outputs": [],
   "source": [
    "explanation.top_labels[0]"
   ]
  },
  {
   "cell_type": "code",
   "execution_count": null,
   "id": "6ba28fbf",
   "metadata": {
    "execution": {
     "iopub.execute_input": "2021-10-28T14:08:58.018246Z",
     "iopub.status.busy": "2021-10-28T14:08:58.017352Z",
     "iopub.status.idle": "2021-10-28T14:08:58.247133Z",
     "shell.execute_reply": "2021-10-28T14:08:58.247570Z",
     "shell.execute_reply.started": "2021-10-28T13:34:40.357541Z"
    },
    "papermill": {
     "duration": 1.78807,
     "end_time": "2021-10-28T14:08:58.247747",
     "exception": false,
     "start_time": "2021-10-28T14:08:56.459677",
     "status": "completed"
    },
    "slideshow": {
     "slide_type": "subslide"
    },
    "tags": []
   },
   "outputs": [],
   "source": [
    "from skimage.segmentation import mark_boundaries\n",
    "temp, mask = explanation.get_image_and_mask(explanation.top_labels[0], positive_only=True, \\\n",
    "                                            num_features=5, hide_rest=True)\n",
    "plt.imshow(mark_boundaries(temp, mask))"
   ]
  },
  {
   "cell_type": "code",
   "execution_count": null,
   "id": "253c4e51",
   "metadata": {
    "execution": {
     "iopub.execute_input": "2021-10-28T14:09:01.013820Z",
     "iopub.status.busy": "2021-10-28T14:09:01.012864Z",
     "iopub.status.idle": "2021-10-28T14:09:01.262712Z",
     "shell.execute_reply": "2021-10-28T14:09:01.263149Z",
     "shell.execute_reply.started": "2021-10-28T13:34:46.539208Z"
    },
    "papermill": {
     "duration": 1.603357,
     "end_time": "2021-10-28T14:09:01.263296",
     "exception": false,
     "start_time": "2021-10-28T14:08:59.659939",
     "status": "completed"
    },
    "slideshow": {
     "slide_type": "fragment"
    },
    "tags": []
   },
   "outputs": [],
   "source": [
    "temp, mask = explanation.get_image_and_mask(explanation.top_labels[0], \\\n",
    "                        positive_only=False, num_features=5, hide_rest=False)\n",
    "\n",
    "plt.imshow(mark_boundaries(temp, mask))"
   ]
  },
  {
   "cell_type": "code",
   "execution_count": null,
   "id": "ccb94328",
   "metadata": {
    "execution": {
     "iopub.execute_input": "2021-10-28T14:09:04.003375Z",
     "iopub.status.busy": "2021-10-28T14:09:04.002274Z",
     "iopub.status.idle": "2021-10-28T14:09:04.325444Z",
     "shell.execute_reply": "2021-10-28T14:09:04.325886Z",
     "shell.execute_reply.started": "2021-10-28T13:34:49.748156Z"
    },
    "papermill": {
     "duration": 1.698193,
     "end_time": "2021-10-28T14:09:04.326038",
     "exception": false,
     "start_time": "2021-10-28T14:09:02.627845",
     "status": "completed"
    },
    "slideshow": {
     "slide_type": "fragment"
    },
    "tags": []
   },
   "outputs": [],
   "source": [
    "#Select the same class explained on the figures above.\n",
    "ind =  explanation.top_labels[0]\n",
    "\n",
    "#Map each explanation weight to the corresponding superpixel\n",
    "dict_heatmap = dict(explanation.local_exp[ind])\n",
    "heatmap = np.vectorize(dict_heatmap.get)(explanation.segments) \n",
    "\n",
    "#Plot. The visualization makes more sense if a symmetrical colorbar is used.\n",
    "plt.imshow(heatmap, cmap = 'RdBu', vmin  = -heatmap.max(), vmax = heatmap.max())\n",
    "plt.colorbar()"
   ]
  },
  {
   "cell_type": "code",
   "execution_count": null,
   "id": "5d860460",
   "metadata": {
    "slideshow": {
     "slide_type": "slide"
    }
   },
   "outputs": [],
   "source": [
    "plt.imshow(test_imgs[9])"
   ]
  },
  {
   "cell_type": "code",
   "execution_count": null,
   "id": "13e23d02",
   "metadata": {
    "execution": {
     "iopub.execute_input": "2021-10-28T14:09:07.022836Z",
     "iopub.status.busy": "2021-10-28T14:09:07.022068Z",
     "iopub.status.idle": "2021-10-28T14:09:16.866233Z",
     "shell.execute_reply": "2021-10-28T14:09:16.866717Z",
     "shell.execute_reply.started": "2021-10-28T13:34:58.710139Z"
    },
    "papermill": {
     "duration": 11.179719,
     "end_time": "2021-10-28T14:09:16.866904",
     "exception": false,
     "start_time": "2021-10-28T14:09:05.687185",
     "status": "completed"
    },
    "slideshow": {
     "slide_type": "fragment"
    },
    "tags": []
   },
   "outputs": [],
   "source": [
    "from lime import lime_image\n",
    "explainer = lime_image.LimeImageExplainer()\n",
    "# Hide color is the color for a superpixel turned OFF. Alternatively,\n",
    "#if it is NONE, the superpixel will be replaced by the average of its pixels\n",
    "explanation = explainer.explain_instance(test_imgs[9], model_mobilenet.predict)"
   ]
  },
  {
   "cell_type": "code",
   "execution_count": null,
   "id": "6bd6f68c",
   "metadata": {},
   "outputs": [],
   "source": [
    "model_mobilenet.predict(test_imgs)[9]"
   ]
  },
  {
   "cell_type": "code",
   "execution_count": null,
   "id": "321820ba",
   "metadata": {
    "execution": {
     "iopub.execute_input": "2021-10-28T14:09:19.948537Z",
     "iopub.status.busy": "2021-10-28T14:09:19.947619Z",
     "iopub.status.idle": "2021-10-28T14:09:20.175487Z",
     "shell.execute_reply": "2021-10-28T14:09:20.175972Z",
     "shell.execute_reply.started": "2021-10-28T13:35:07.860813Z"
    },
    "papermill": {
     "duration": 1.872632,
     "end_time": "2021-10-28T14:09:20.176134",
     "exception": false,
     "start_time": "2021-10-28T14:09:18.303502",
     "status": "completed"
    },
    "slideshow": {
     "slide_type": "subslide"
    },
    "tags": []
   },
   "outputs": [],
   "source": [
    "from skimage.segmentation import mark_boundaries\n",
    "temp, mask = explanation.get_image_and_mask(explanation.top_labels[0],\\\n",
    "                            positive_only=True, num_features=5, hide_rest=True)\n",
    "\n",
    "plt.imshow(mark_boundaries(temp, mask))"
   ]
  },
  {
   "cell_type": "code",
   "execution_count": null,
   "id": "219df832",
   "metadata": {
    "execution": {
     "iopub.execute_input": "2021-10-28T14:09:22.914690Z",
     "iopub.status.busy": "2021-10-28T14:09:22.913777Z",
     "iopub.status.idle": "2021-10-28T14:09:23.165068Z",
     "shell.execute_reply": "2021-10-28T14:09:23.165555Z",
     "shell.execute_reply.started": "2021-10-28T13:35:08.106824Z"
    },
    "papermill": {
     "duration": 1.624649,
     "end_time": "2021-10-28T14:09:23.165725",
     "exception": false,
     "start_time": "2021-10-28T14:09:21.541076",
     "status": "completed"
    },
    "slideshow": {
     "slide_type": "fragment"
    },
    "tags": []
   },
   "outputs": [],
   "source": [
    "temp, mask = explanation.get_image_and_mask(explanation.top_labels[0],\\\n",
    "                            positive_only=False, num_features=5, hide_rest=False)\n",
    "\n",
    "plt.imshow(mark_boundaries(temp, mask))"
   ]
  },
  {
   "cell_type": "code",
   "execution_count": null,
   "id": "682b1359",
   "metadata": {
    "execution": {
     "iopub.execute_input": "2021-10-28T14:09:25.916199Z",
     "iopub.status.busy": "2021-10-28T14:09:25.915395Z",
     "iopub.status.idle": "2021-10-28T14:09:26.238085Z",
     "shell.execute_reply": "2021-10-28T14:09:26.237564Z",
     "shell.execute_reply.started": "2021-10-28T13:35:08.343953Z"
    },
    "papermill": {
     "duration": 1.692139,
     "end_time": "2021-10-28T14:09:26.238213",
     "exception": false,
     "start_time": "2021-10-28T14:09:24.546074",
     "status": "completed"
    },
    "slideshow": {
     "slide_type": "fragment"
    },
    "tags": []
   },
   "outputs": [],
   "source": [
    "#Select the same class explained on the figures above.\n",
    "ind =  explanation.top_labels[0]\n",
    "\n",
    "#Map each explanation weight to the corresponding superpixel\n",
    "dict_heatmap = dict(explanation.local_exp[ind])\n",
    "heatmap = np.vectorize(dict_heatmap.get)(explanation.segments) \n",
    "\n",
    "#Plot. The visualization makes more sense if a symmetrical colorbar is used.\n",
    "plt.imshow(heatmap, cmap = 'RdBu', vmin  = -heatmap.max(), vmax = heatmap.max())\n",
    "plt.colorbar()"
   ]
  },
  {
   "cell_type": "code",
   "execution_count": null,
   "id": "44318fef",
   "metadata": {
    "slideshow": {
     "slide_type": "slide"
    }
   },
   "outputs": [],
   "source": [
    "plt.imshow(test_imgs[14])"
   ]
  },
  {
   "cell_type": "code",
   "execution_count": null,
   "id": "2ff4f63e",
   "metadata": {
    "execution": {
     "iopub.execute_input": "2021-10-28T14:09:29.399020Z",
     "iopub.status.busy": "2021-10-28T14:09:29.398230Z",
     "iopub.status.idle": "2021-10-28T14:09:38.848181Z",
     "shell.execute_reply": "2021-10-28T14:09:38.849627Z",
     "shell.execute_reply.started": "2021-10-28T13:31:14.113328Z"
    },
    "papermill": {
     "duration": 11.251943,
     "end_time": "2021-10-28T14:09:38.849946",
     "exception": false,
     "start_time": "2021-10-28T14:09:27.598003",
     "status": "completed"
    },
    "slideshow": {
     "slide_type": "fragment"
    },
    "tags": []
   },
   "outputs": [],
   "source": [
    "from lime import lime_image\n",
    "explainer = lime_image.LimeImageExplainer()\n",
    "# Hide color is the color for a superpixel turned OFF. Alternatively,\n",
    "#if it is NONE, the superpixel will be replaced by the average of its pixels\n",
    "explanation = explainer.explain_instance(test_imgs[14], model_mobilenet.predict)"
   ]
  },
  {
   "cell_type": "code",
   "execution_count": null,
   "id": "fec25d7f",
   "metadata": {},
   "outputs": [],
   "source": [
    "model_mobilenet.predict(test_imgs)[14]"
   ]
  },
  {
   "cell_type": "code",
   "execution_count": null,
   "id": "cfab9707",
   "metadata": {
    "execution": {
     "iopub.execute_input": "2021-10-28T14:09:41.985230Z",
     "iopub.status.busy": "2021-10-28T14:09:41.984360Z",
     "iopub.status.idle": "2021-10-28T14:09:42.225751Z",
     "shell.execute_reply": "2021-10-28T14:09:42.226249Z",
     "shell.execute_reply.started": "2021-10-28T13:31:22.903796Z"
    },
    "papermill": {
     "duration": 1.885235,
     "end_time": "2021-10-28T14:09:42.226406",
     "exception": false,
     "start_time": "2021-10-28T14:09:40.341171",
     "status": "completed"
    },
    "slideshow": {
     "slide_type": "subslide"
    },
    "tags": []
   },
   "outputs": [],
   "source": [
    "from skimage.segmentation import mark_boundaries\n",
    "temp, mask = explanation.get_image_and_mask(explanation.top_labels[0],\\\n",
    "                            positive_only=True, num_features=10, hide_rest=True)\n",
    "\n",
    "plt.imshow(mark_boundaries(temp, mask))"
   ]
  },
  {
   "cell_type": "code",
   "execution_count": null,
   "id": "4a753604",
   "metadata": {
    "execution": {
     "iopub.execute_input": "2021-10-28T14:09:44.981633Z",
     "iopub.status.busy": "2021-10-28T14:09:44.980771Z",
     "iopub.status.idle": "2021-10-28T14:09:45.232554Z",
     "shell.execute_reply": "2021-10-28T14:09:45.233064Z",
     "shell.execute_reply.started": "2021-10-28T13:31:23.148324Z"
    },
    "papermill": {
     "duration": 1.637849,
     "end_time": "2021-10-28T14:09:45.233224",
     "exception": false,
     "start_time": "2021-10-28T14:09:43.595375",
     "status": "completed"
    },
    "slideshow": {
     "slide_type": "fragment"
    },
    "tags": []
   },
   "outputs": [],
   "source": [
    "temp, mask = explanation.get_image_and_mask(explanation.top_labels[0],\\\n",
    "                            positive_only=False, num_features=10, hide_rest=False)\n",
    "\n",
    "plt.imshow(mark_boundaries(temp, mask))"
   ]
  },
  {
   "cell_type": "code",
   "execution_count": null,
   "id": "c3b9ae1a",
   "metadata": {
    "execution": {
     "iopub.execute_input": "2021-10-28T14:09:48.044002Z",
     "iopub.status.busy": "2021-10-28T14:09:48.024685Z",
     "iopub.status.idle": "2021-10-28T14:09:48.338203Z",
     "shell.execute_reply": "2021-10-28T14:09:48.338743Z",
     "shell.execute_reply.started": "2021-10-28T13:31:23.934320Z"
    },
    "papermill": {
     "duration": 1.713069,
     "end_time": "2021-10-28T14:09:48.338902",
     "exception": false,
     "start_time": "2021-10-28T14:09:46.625833",
     "status": "completed"
    },
    "slideshow": {
     "slide_type": "fragment"
    },
    "tags": []
   },
   "outputs": [],
   "source": [
    "#Select the same class explained on the figures above.\n",
    "ind =  explanation.top_labels[0]\n",
    "\n",
    "#Map each explanation weight to the corresponding superpixel\n",
    "dict_heatmap = dict(explanation.local_exp[ind])\n",
    "heatmap = np.vectorize(dict_heatmap.get)(explanation.segments) \n",
    "\n",
    "#Plot. The visualization makes more sense if a symmetrical colorbar is used.\n",
    "plt.imshow(heatmap, cmap = 'RdBu', vmin  = -heatmap.max(), vmax = heatmap.max())\n",
    "plt.colorbar()"
   ]
  },
  {
   "cell_type": "code",
   "execution_count": null,
   "id": "13de939a",
   "metadata": {
    "execution": {
     "iopub.execute_input": "2021-10-28T14:09:51.186055Z",
     "iopub.status.busy": "2021-10-28T14:09:51.185237Z",
     "iopub.status.idle": "2021-10-28T14:10:00.245721Z",
     "shell.execute_reply": "2021-10-28T14:10:00.246485Z",
     "shell.execute_reply.started": "2021-10-28T13:41:57.105397Z"
    },
    "papermill": {
     "duration": 10.509937,
     "end_time": "2021-10-28T14:10:00.246755",
     "exception": false,
     "start_time": "2021-10-28T14:09:49.736818",
     "status": "completed"
    },
    "tags": []
   },
   "outputs": [],
   "source": [
    "from lime import lime_image\n",
    "explainer = lime_image.LimeImageExplainer()\n",
    "# Hide color is the color for a superpixel turned OFF. Alternatively,\n",
    "#if it is NONE, the superpixel will be replaced by the average of its pixels\n",
    "explanation = explainer.explain_instance(test_imgs[2], model_mobilenet.predict)"
   ]
  },
  {
   "cell_type": "code",
   "execution_count": null,
   "id": "fa3d4a90",
   "metadata": {
    "execution": {
     "iopub.execute_input": "2021-10-28T14:10:03.932983Z",
     "iopub.status.busy": "2021-10-28T14:10:03.931899Z",
     "iopub.status.idle": "2021-10-28T14:10:04.202333Z",
     "shell.execute_reply": "2021-10-28T14:10:04.201711Z",
     "shell.execute_reply.started": "2021-10-28T13:42:32.349317Z"
    },
    "papermill": {
     "duration": 2.002097,
     "end_time": "2021-10-28T14:10:04.202493",
     "exception": false,
     "start_time": "2021-10-28T14:10:02.200396",
     "status": "completed"
    },
    "tags": []
   },
   "outputs": [],
   "source": [
    "from skimage.segmentation import mark_boundaries\n",
    "temp, mask = explanation.get_image_and_mask(explanation.top_labels[0],\\\n",
    "                            positive_only=True, num_features=15, hide_rest=True)\n",
    "\n",
    "plt.imshow(mark_boundaries(temp, mask))"
   ]
  },
  {
   "cell_type": "code",
   "execution_count": null,
   "id": "693bd1f5",
   "metadata": {
    "execution": {
     "iopub.execute_input": "2021-10-28T14:10:07.027549Z",
     "iopub.status.busy": "2021-10-28T14:10:07.026676Z",
     "iopub.status.idle": "2021-10-28T14:10:07.288602Z",
     "shell.execute_reply": "2021-10-28T14:10:07.289060Z",
     "shell.execute_reply.started": "2021-10-28T13:42:50.500086Z"
    },
    "papermill": {
     "duration": 1.655532,
     "end_time": "2021-10-28T14:10:07.289211",
     "exception": false,
     "start_time": "2021-10-28T14:10:05.633679",
     "status": "completed"
    },
    "scrolled": true,
    "tags": []
   },
   "outputs": [],
   "source": [
    "temp, mask = explanation.get_image_and_mask(explanation.top_labels[0],\\\n",
    "                            positive_only=False, num_features=15, hide_rest=False)\n",
    "\n",
    "plt.imshow(mark_boundaries(temp, mask))"
   ]
  },
  {
   "cell_type": "code",
   "execution_count": null,
   "id": "0b61c4a0",
   "metadata": {},
   "outputs": [],
   "source": []
  }
 ],
 "metadata": {
  "interpreter": {
   "hash": "f061e194a82acb9d4b2b72575182ae8e4c26990f1380021de49e893f94b3860f"
  },
  "kernelspec": {
   "display_name": "Python 3.6.13 ('deep_learning_env')",
   "language": "python",
   "name": "python3"
  },
  "language_info": {
   "codemirror_mode": {
    "name": "ipython",
    "version": 3
   },
   "file_extension": ".py",
   "mimetype": "text/x-python",
   "name": "python",
   "nbconvert_exporter": "python",
   "pygments_lexer": "ipython3",
   "version": "3.6.13"
  },
  "papermill": {
   "default_parameters": {},
   "duration": 1563.025771,
   "end_time": "2021-10-28T14:10:14.338431",
   "environment_variables": {},
   "exception": null,
   "input_path": "__notebook__.ipynb",
   "output_path": "__notebook__.ipynb",
   "parameters": {},
   "start_time": "2021-10-28T13:44:11.312660",
   "version": "2.3.3"
  },
  "widgets": {
   "application/vnd.jupyter.widget-state+json": {
    "state": {
     "150196f9264a4587a5cd8ab4f2064330": {
      "model_module": "@jupyter-widgets/base",
      "model_module_version": "1.2.0",
      "model_name": "LayoutModel",
      "state": {
       "_model_module": "@jupyter-widgets/base",
       "_model_module_version": "1.2.0",
       "_model_name": "LayoutModel",
       "_view_count": null,
       "_view_module": "@jupyter-widgets/base",
       "_view_module_version": "1.2.0",
       "_view_name": "LayoutView",
       "align_content": null,
       "align_items": null,
       "align_self": null,
       "border": null,
       "bottom": null,
       "display": null,
       "flex": null,
       "flex_flow": null,
       "grid_area": null,
       "grid_auto_columns": null,
       "grid_auto_flow": null,
       "grid_auto_rows": null,
       "grid_column": null,
       "grid_gap": null,
       "grid_row": null,
       "grid_template_areas": null,
       "grid_template_columns": null,
       "grid_template_rows": null,
       "height": null,
       "justify_content": null,
       "justify_items": null,
       "left": null,
       "margin": null,
       "max_height": null,
       "max_width": null,
       "min_height": null,
       "min_width": null,
       "object_fit": null,
       "object_position": null,
       "order": null,
       "overflow": null,
       "overflow_x": null,
       "overflow_y": null,
       "padding": null,
       "right": null,
       "top": null,
       "visibility": null,
       "width": null
      }
     },
     "1d9df699053c40889806148160c9fa92": {
      "model_module": "@jupyter-widgets/base",
      "model_module_version": "1.2.0",
      "model_name": "LayoutModel",
      "state": {
       "_model_module": "@jupyter-widgets/base",
       "_model_module_version": "1.2.0",
       "_model_name": "LayoutModel",
       "_view_count": null,
       "_view_module": "@jupyter-widgets/base",
       "_view_module_version": "1.2.0",
       "_view_name": "LayoutView",
       "align_content": null,
       "align_items": null,
       "align_self": null,
       "border": null,
       "bottom": null,
       "display": null,
       "flex": null,
       "flex_flow": null,
       "grid_area": null,
       "grid_auto_columns": null,
       "grid_auto_flow": null,
       "grid_auto_rows": null,
       "grid_column": null,
       "grid_gap": null,
       "grid_row": null,
       "grid_template_areas": null,
       "grid_template_columns": null,
       "grid_template_rows": null,
       "height": null,
       "justify_content": null,
       "justify_items": null,
       "left": null,
       "margin": null,
       "max_height": null,
       "max_width": null,
       "min_height": null,
       "min_width": null,
       "object_fit": null,
       "object_position": null,
       "order": null,
       "overflow": null,
       "overflow_x": null,
       "overflow_y": null,
       "padding": null,
       "right": null,
       "top": null,
       "visibility": null,
       "width": null
      }
     },
     "246e936e00844b61a3cf303cee1bcb83": {
      "model_module": "@jupyter-widgets/base",
      "model_module_version": "1.2.0",
      "model_name": "LayoutModel",
      "state": {
       "_model_module": "@jupyter-widgets/base",
       "_model_module_version": "1.2.0",
       "_model_name": "LayoutModel",
       "_view_count": null,
       "_view_module": "@jupyter-widgets/base",
       "_view_module_version": "1.2.0",
       "_view_name": "LayoutView",
       "align_content": null,
       "align_items": null,
       "align_self": null,
       "border": null,
       "bottom": null,
       "display": null,
       "flex": null,
       "flex_flow": null,
       "grid_area": null,
       "grid_auto_columns": null,
       "grid_auto_flow": null,
       "grid_auto_rows": null,
       "grid_column": null,
       "grid_gap": null,
       "grid_row": null,
       "grid_template_areas": null,
       "grid_template_columns": null,
       "grid_template_rows": null,
       "height": null,
       "justify_content": null,
       "justify_items": null,
       "left": null,
       "margin": null,
       "max_height": null,
       "max_width": null,
       "min_height": null,
       "min_width": null,
       "object_fit": null,
       "object_position": null,
       "order": null,
       "overflow": null,
       "overflow_x": null,
       "overflow_y": null,
       "padding": null,
       "right": null,
       "top": null,
       "visibility": null,
       "width": null
      }
     },
     "29c15071474f4f1e98c574a0eb46967b": {
      "model_module": "@jupyter-widgets/base",
      "model_module_version": "1.2.0",
      "model_name": "LayoutModel",
      "state": {
       "_model_module": "@jupyter-widgets/base",
       "_model_module_version": "1.2.0",
       "_model_name": "LayoutModel",
       "_view_count": null,
       "_view_module": "@jupyter-widgets/base",
       "_view_module_version": "1.2.0",
       "_view_name": "LayoutView",
       "align_content": null,
       "align_items": null,
       "align_self": null,
       "border": null,
       "bottom": null,
       "display": null,
       "flex": null,
       "flex_flow": null,
       "grid_area": null,
       "grid_auto_columns": null,
       "grid_auto_flow": null,
       "grid_auto_rows": null,
       "grid_column": null,
       "grid_gap": null,
       "grid_row": null,
       "grid_template_areas": null,
       "grid_template_columns": null,
       "grid_template_rows": null,
       "height": null,
       "justify_content": null,
       "justify_items": null,
       "left": null,
       "margin": null,
       "max_height": null,
       "max_width": null,
       "min_height": null,
       "min_width": null,
       "object_fit": null,
       "object_position": null,
       "order": null,
       "overflow": null,
       "overflow_x": null,
       "overflow_y": null,
       "padding": null,
       "right": null,
       "top": null,
       "visibility": null,
       "width": null
      }
     },
     "2f85abb13efa4459b67f73f0c007b3bb": {
      "model_module": "@jupyter-widgets/controls",
      "model_module_version": "1.5.0",
      "model_name": "DescriptionStyleModel",
      "state": {
       "_model_module": "@jupyter-widgets/controls",
       "_model_module_version": "1.5.0",
       "_model_name": "DescriptionStyleModel",
       "_view_count": null,
       "_view_module": "@jupyter-widgets/base",
       "_view_module_version": "1.2.0",
       "_view_name": "StyleView",
       "description_width": ""
      }
     },
     "3c99dd581e4945c8ad8635577036241c": {
      "model_module": "@jupyter-widgets/controls",
      "model_module_version": "1.5.0",
      "model_name": "HTMLModel",
      "state": {
       "_dom_classes": [],
       "_model_module": "@jupyter-widgets/controls",
       "_model_module_version": "1.5.0",
       "_model_name": "HTMLModel",
       "_view_count": null,
       "_view_module": "@jupyter-widgets/controls",
       "_view_module_version": "1.5.0",
       "_view_name": "HTMLView",
       "description": "",
       "description_tooltip": null,
       "layout": "IPY_MODEL_673321fde339455482438bcb60b3322b",
       "placeholder": "​",
       "style": "IPY_MODEL_94f69184632e4a0598a87bfb122954ca",
       "value": "100%"
      }
     },
     "3e3316610e5140dc93583a40d510b4aa": {
      "model_module": "@jupyter-widgets/base",
      "model_module_version": "1.2.0",
      "model_name": "LayoutModel",
      "state": {
       "_model_module": "@jupyter-widgets/base",
       "_model_module_version": "1.2.0",
       "_model_name": "LayoutModel",
       "_view_count": null,
       "_view_module": "@jupyter-widgets/base",
       "_view_module_version": "1.2.0",
       "_view_name": "LayoutView",
       "align_content": null,
       "align_items": null,
       "align_self": null,
       "border": null,
       "bottom": null,
       "display": null,
       "flex": null,
       "flex_flow": null,
       "grid_area": null,
       "grid_auto_columns": null,
       "grid_auto_flow": null,
       "grid_auto_rows": null,
       "grid_column": null,
       "grid_gap": null,
       "grid_row": null,
       "grid_template_areas": null,
       "grid_template_columns": null,
       "grid_template_rows": null,
       "height": null,
       "justify_content": null,
       "justify_items": null,
       "left": null,
       "margin": null,
       "max_height": null,
       "max_width": null,
       "min_height": null,
       "min_width": null,
       "object_fit": null,
       "object_position": null,
       "order": null,
       "overflow": null,
       "overflow_x": null,
       "overflow_y": null,
       "padding": null,
       "right": null,
       "top": null,
       "visibility": null,
       "width": null
      }
     },
     "41a27487e75e4d67a4eb7268f3e79fba": {
      "model_module": "@jupyter-widgets/controls",
      "model_module_version": "1.5.0",
      "model_name": "DescriptionStyleModel",
      "state": {
       "_model_module": "@jupyter-widgets/controls",
       "_model_module_version": "1.5.0",
       "_model_name": "DescriptionStyleModel",
       "_view_count": null,
       "_view_module": "@jupyter-widgets/base",
       "_view_module_version": "1.2.0",
       "_view_name": "StyleView",
       "description_width": ""
      }
     },
     "45956160877d44728c41d5d2f15e2b66": {
      "model_module": "@jupyter-widgets/controls",
      "model_module_version": "1.5.0",
      "model_name": "DescriptionStyleModel",
      "state": {
       "_model_module": "@jupyter-widgets/controls",
       "_model_module_version": "1.5.0",
       "_model_name": "DescriptionStyleModel",
       "_view_count": null,
       "_view_module": "@jupyter-widgets/base",
       "_view_module_version": "1.2.0",
       "_view_name": "StyleView",
       "description_width": ""
      }
     },
     "45a9088161b6484aaeac6c584de99575": {
      "model_module": "@jupyter-widgets/base",
      "model_module_version": "1.2.0",
      "model_name": "LayoutModel",
      "state": {
       "_model_module": "@jupyter-widgets/base",
       "_model_module_version": "1.2.0",
       "_model_name": "LayoutModel",
       "_view_count": null,
       "_view_module": "@jupyter-widgets/base",
       "_view_module_version": "1.2.0",
       "_view_name": "LayoutView",
       "align_content": null,
       "align_items": null,
       "align_self": null,
       "border": null,
       "bottom": null,
       "display": null,
       "flex": null,
       "flex_flow": null,
       "grid_area": null,
       "grid_auto_columns": null,
       "grid_auto_flow": null,
       "grid_auto_rows": null,
       "grid_column": null,
       "grid_gap": null,
       "grid_row": null,
       "grid_template_areas": null,
       "grid_template_columns": null,
       "grid_template_rows": null,
       "height": null,
       "justify_content": null,
       "justify_items": null,
       "left": null,
       "margin": null,
       "max_height": null,
       "max_width": null,
       "min_height": null,
       "min_width": null,
       "object_fit": null,
       "object_position": null,
       "order": null,
       "overflow": null,
       "overflow_x": null,
       "overflow_y": null,
       "padding": null,
       "right": null,
       "top": null,
       "visibility": null,
       "width": null
      }
     },
     "4ccef6ffa75b414e8b5a54c579fe9abf": {
      "model_module": "@jupyter-widgets/controls",
      "model_module_version": "1.5.0",
      "model_name": "ProgressStyleModel",
      "state": {
       "_model_module": "@jupyter-widgets/controls",
       "_model_module_version": "1.5.0",
       "_model_name": "ProgressStyleModel",
       "_view_count": null,
       "_view_module": "@jupyter-widgets/base",
       "_view_module_version": "1.2.0",
       "_view_name": "StyleView",
       "bar_color": null,
       "description_width": ""
      }
     },
     "53e93b15abeb4b4ea988fb0cb29f3d23": {
      "model_module": "@jupyter-widgets/controls",
      "model_module_version": "1.5.0",
      "model_name": "DescriptionStyleModel",
      "state": {
       "_model_module": "@jupyter-widgets/controls",
       "_model_module_version": "1.5.0",
       "_model_name": "DescriptionStyleModel",
       "_view_count": null,
       "_view_module": "@jupyter-widgets/base",
       "_view_module_version": "1.2.0",
       "_view_name": "StyleView",
       "description_width": ""
      }
     },
     "5bebd4b97b524b0f9f155f2fed30fdb5": {
      "model_module": "@jupyter-widgets/base",
      "model_module_version": "1.2.0",
      "model_name": "LayoutModel",
      "state": {
       "_model_module": "@jupyter-widgets/base",
       "_model_module_version": "1.2.0",
       "_model_name": "LayoutModel",
       "_view_count": null,
       "_view_module": "@jupyter-widgets/base",
       "_view_module_version": "1.2.0",
       "_view_name": "LayoutView",
       "align_content": null,
       "align_items": null,
       "align_self": null,
       "border": null,
       "bottom": null,
       "display": null,
       "flex": null,
       "flex_flow": null,
       "grid_area": null,
       "grid_auto_columns": null,
       "grid_auto_flow": null,
       "grid_auto_rows": null,
       "grid_column": null,
       "grid_gap": null,
       "grid_row": null,
       "grid_template_areas": null,
       "grid_template_columns": null,
       "grid_template_rows": null,
       "height": null,
       "justify_content": null,
       "justify_items": null,
       "left": null,
       "margin": null,
       "max_height": null,
       "max_width": null,
       "min_height": null,
       "min_width": null,
       "object_fit": null,
       "object_position": null,
       "order": null,
       "overflow": null,
       "overflow_x": null,
       "overflow_y": null,
       "padding": null,
       "right": null,
       "top": null,
       "visibility": null,
       "width": null
      }
     },
     "5edc78cd189d45dca111f86c30a0c984": {
      "model_module": "@jupyter-widgets/controls",
      "model_module_version": "1.5.0",
      "model_name": "HTMLModel",
      "state": {
       "_dom_classes": [],
       "_model_module": "@jupyter-widgets/controls",
       "_model_module_version": "1.5.0",
       "_model_name": "HTMLModel",
       "_view_count": null,
       "_view_module": "@jupyter-widgets/controls",
       "_view_module_version": "1.5.0",
       "_view_name": "HTMLView",
       "description": "",
       "description_tooltip": null,
       "layout": "IPY_MODEL_e42312fe99cb4bdea502b60ae0c1b12e",
       "placeholder": "​",
       "style": "IPY_MODEL_53e93b15abeb4b4ea988fb0cb29f3d23",
       "value": " 1000/1000 [00:07&lt;00:00, 126.70it/s]"
      }
     },
     "673321fde339455482438bcb60b3322b": {
      "model_module": "@jupyter-widgets/base",
      "model_module_version": "1.2.0",
      "model_name": "LayoutModel",
      "state": {
       "_model_module": "@jupyter-widgets/base",
       "_model_module_version": "1.2.0",
       "_model_name": "LayoutModel",
       "_view_count": null,
       "_view_module": "@jupyter-widgets/base",
       "_view_module_version": "1.2.0",
       "_view_name": "LayoutView",
       "align_content": null,
       "align_items": null,
       "align_self": null,
       "border": null,
       "bottom": null,
       "display": null,
       "flex": null,
       "flex_flow": null,
       "grid_area": null,
       "grid_auto_columns": null,
       "grid_auto_flow": null,
       "grid_auto_rows": null,
       "grid_column": null,
       "grid_gap": null,
       "grid_row": null,
       "grid_template_areas": null,
       "grid_template_columns": null,
       "grid_template_rows": null,
       "height": null,
       "justify_content": null,
       "justify_items": null,
       "left": null,
       "margin": null,
       "max_height": null,
       "max_width": null,
       "min_height": null,
       "min_width": null,
       "object_fit": null,
       "object_position": null,
       "order": null,
       "overflow": null,
       "overflow_x": null,
       "overflow_y": null,
       "padding": null,
       "right": null,
       "top": null,
       "visibility": null,
       "width": null
      }
     },
     "7191b4b7848947ee981356cbbe6b559e": {
      "model_module": "@jupyter-widgets/controls",
      "model_module_version": "1.5.0",
      "model_name": "FloatProgressModel",
      "state": {
       "_dom_classes": [],
       "_model_module": "@jupyter-widgets/controls",
       "_model_module_version": "1.5.0",
       "_model_name": "FloatProgressModel",
       "_view_count": null,
       "_view_module": "@jupyter-widgets/controls",
       "_view_module_version": "1.5.0",
       "_view_name": "ProgressView",
       "bar_style": "success",
       "description": "",
       "description_tooltip": null,
       "layout": "IPY_MODEL_246e936e00844b61a3cf303cee1bcb83",
       "max": 1000,
       "min": 0,
       "orientation": "horizontal",
       "style": "IPY_MODEL_99ae41a69b1341cfa9b9e690539844bc",
       "value": 1000
      }
     },
     "76fd2b675287458fb8a01b2a360f8553": {
      "model_module": "@jupyter-widgets/controls",
      "model_module_version": "1.5.0",
      "model_name": "DescriptionStyleModel",
      "state": {
       "_model_module": "@jupyter-widgets/controls",
       "_model_module_version": "1.5.0",
       "_model_name": "DescriptionStyleModel",
       "_view_count": null,
       "_view_module": "@jupyter-widgets/base",
       "_view_module_version": "1.2.0",
       "_view_name": "StyleView",
       "description_width": ""
      }
     },
     "792aba41172146e6b7f021e72f8e3d37": {
      "model_module": "@jupyter-widgets/controls",
      "model_module_version": "1.5.0",
      "model_name": "DescriptionStyleModel",
      "state": {
       "_model_module": "@jupyter-widgets/controls",
       "_model_module_version": "1.5.0",
       "_model_name": "DescriptionStyleModel",
       "_view_count": null,
       "_view_module": "@jupyter-widgets/base",
       "_view_module_version": "1.2.0",
       "_view_name": "StyleView",
       "description_width": ""
      }
     },
     "798ccf2791e746dea47c231bae6b829b": {
      "model_module": "@jupyter-widgets/controls",
      "model_module_version": "1.5.0",
      "model_name": "FloatProgressModel",
      "state": {
       "_dom_classes": [],
       "_model_module": "@jupyter-widgets/controls",
       "_model_module_version": "1.5.0",
       "_model_name": "FloatProgressModel",
       "_view_count": null,
       "_view_module": "@jupyter-widgets/controls",
       "_view_module_version": "1.5.0",
       "_view_name": "ProgressView",
       "bar_style": "success",
       "description": "",
       "description_tooltip": null,
       "layout": "IPY_MODEL_d47ab9ecbd234617b00d277abc868e13",
       "max": 1000,
       "min": 0,
       "orientation": "horizontal",
       "style": "IPY_MODEL_4ccef6ffa75b414e8b5a54c579fe9abf",
       "value": 1000
      }
     },
     "84c2178aa5204ed490f372c078e02f8f": {
      "model_module": "@jupyter-widgets/controls",
      "model_module_version": "1.5.0",
      "model_name": "HBoxModel",
      "state": {
       "_dom_classes": [],
       "_model_module": "@jupyter-widgets/controls",
       "_model_module_version": "1.5.0",
       "_model_name": "HBoxModel",
       "_view_count": null,
       "_view_module": "@jupyter-widgets/controls",
       "_view_module_version": "1.5.0",
       "_view_name": "HBoxView",
       "box_style": "",
       "children": [
        "IPY_MODEL_c87149acaf834162ac70bdadb32f4e90",
        "IPY_MODEL_ac5495bc038f414dadcf5d5c7e7c9a6e",
        "IPY_MODEL_a5f328bd34a041f1a39b3d5f65d71946"
       ],
       "layout": "IPY_MODEL_b3be9ca03a1d4cbda82d6058f79d36f4"
      }
     },
     "8760f2a68a544124b0ac26b0e3a0a4c7": {
      "model_module": "@jupyter-widgets/base",
      "model_module_version": "1.2.0",
      "model_name": "LayoutModel",
      "state": {
       "_model_module": "@jupyter-widgets/base",
       "_model_module_version": "1.2.0",
       "_model_name": "LayoutModel",
       "_view_count": null,
       "_view_module": "@jupyter-widgets/base",
       "_view_module_version": "1.2.0",
       "_view_name": "LayoutView",
       "align_content": null,
       "align_items": null,
       "align_self": null,
       "border": null,
       "bottom": null,
       "display": null,
       "flex": null,
       "flex_flow": null,
       "grid_area": null,
       "grid_auto_columns": null,
       "grid_auto_flow": null,
       "grid_auto_rows": null,
       "grid_column": null,
       "grid_gap": null,
       "grid_row": null,
       "grid_template_areas": null,
       "grid_template_columns": null,
       "grid_template_rows": null,
       "height": null,
       "justify_content": null,
       "justify_items": null,
       "left": null,
       "margin": null,
       "max_height": null,
       "max_width": null,
       "min_height": null,
       "min_width": null,
       "object_fit": null,
       "object_position": null,
       "order": null,
       "overflow": null,
       "overflow_x": null,
       "overflow_y": null,
       "padding": null,
       "right": null,
       "top": null,
       "visibility": null,
       "width": null
      }
     },
     "8b5919f584894318949f5a914fa1befe": {
      "model_module": "@jupyter-widgets/base",
      "model_module_version": "1.2.0",
      "model_name": "LayoutModel",
      "state": {
       "_model_module": "@jupyter-widgets/base",
       "_model_module_version": "1.2.0",
       "_model_name": "LayoutModel",
       "_view_count": null,
       "_view_module": "@jupyter-widgets/base",
       "_view_module_version": "1.2.0",
       "_view_name": "LayoutView",
       "align_content": null,
       "align_items": null,
       "align_self": null,
       "border": null,
       "bottom": null,
       "display": null,
       "flex": null,
       "flex_flow": null,
       "grid_area": null,
       "grid_auto_columns": null,
       "grid_auto_flow": null,
       "grid_auto_rows": null,
       "grid_column": null,
       "grid_gap": null,
       "grid_row": null,
       "grid_template_areas": null,
       "grid_template_columns": null,
       "grid_template_rows": null,
       "height": null,
       "justify_content": null,
       "justify_items": null,
       "left": null,
       "margin": null,
       "max_height": null,
       "max_width": null,
       "min_height": null,
       "min_width": null,
       "object_fit": null,
       "object_position": null,
       "order": null,
       "overflow": null,
       "overflow_x": null,
       "overflow_y": null,
       "padding": null,
       "right": null,
       "top": null,
       "visibility": null,
       "width": null
      }
     },
     "8bf231c96aa4433a84be127ce518490d": {
      "model_module": "@jupyter-widgets/base",
      "model_module_version": "1.2.0",
      "model_name": "LayoutModel",
      "state": {
       "_model_module": "@jupyter-widgets/base",
       "_model_module_version": "1.2.0",
       "_model_name": "LayoutModel",
       "_view_count": null,
       "_view_module": "@jupyter-widgets/base",
       "_view_module_version": "1.2.0",
       "_view_name": "LayoutView",
       "align_content": null,
       "align_items": null,
       "align_self": null,
       "border": null,
       "bottom": null,
       "display": null,
       "flex": null,
       "flex_flow": null,
       "grid_area": null,
       "grid_auto_columns": null,
       "grid_auto_flow": null,
       "grid_auto_rows": null,
       "grid_column": null,
       "grid_gap": null,
       "grid_row": null,
       "grid_template_areas": null,
       "grid_template_columns": null,
       "grid_template_rows": null,
       "height": null,
       "justify_content": null,
       "justify_items": null,
       "left": null,
       "margin": null,
       "max_height": null,
       "max_width": null,
       "min_height": null,
       "min_width": null,
       "object_fit": null,
       "object_position": null,
       "order": null,
       "overflow": null,
       "overflow_x": null,
       "overflow_y": null,
       "padding": null,
       "right": null,
       "top": null,
       "visibility": null,
       "width": null
      }
     },
     "94f69184632e4a0598a87bfb122954ca": {
      "model_module": "@jupyter-widgets/controls",
      "model_module_version": "1.5.0",
      "model_name": "DescriptionStyleModel",
      "state": {
       "_model_module": "@jupyter-widgets/controls",
       "_model_module_version": "1.5.0",
       "_model_name": "DescriptionStyleModel",
       "_view_count": null,
       "_view_module": "@jupyter-widgets/base",
       "_view_module_version": "1.2.0",
       "_view_name": "StyleView",
       "description_width": ""
      }
     },
     "99ae41a69b1341cfa9b9e690539844bc": {
      "model_module": "@jupyter-widgets/controls",
      "model_module_version": "1.5.0",
      "model_name": "ProgressStyleModel",
      "state": {
       "_model_module": "@jupyter-widgets/controls",
       "_model_module_version": "1.5.0",
       "_model_name": "ProgressStyleModel",
       "_view_count": null,
       "_view_module": "@jupyter-widgets/base",
       "_view_module_version": "1.2.0",
       "_view_name": "StyleView",
       "bar_color": null,
       "description_width": ""
      }
     },
     "9bcde7c14975465cb716008557a3027d": {
      "model_module": "@jupyter-widgets/base",
      "model_module_version": "1.2.0",
      "model_name": "LayoutModel",
      "state": {
       "_model_module": "@jupyter-widgets/base",
       "_model_module_version": "1.2.0",
       "_model_name": "LayoutModel",
       "_view_count": null,
       "_view_module": "@jupyter-widgets/base",
       "_view_module_version": "1.2.0",
       "_view_name": "LayoutView",
       "align_content": null,
       "align_items": null,
       "align_self": null,
       "border": null,
       "bottom": null,
       "display": null,
       "flex": null,
       "flex_flow": null,
       "grid_area": null,
       "grid_auto_columns": null,
       "grid_auto_flow": null,
       "grid_auto_rows": null,
       "grid_column": null,
       "grid_gap": null,
       "grid_row": null,
       "grid_template_areas": null,
       "grid_template_columns": null,
       "grid_template_rows": null,
       "height": null,
       "justify_content": null,
       "justify_items": null,
       "left": null,
       "margin": null,
       "max_height": null,
       "max_width": null,
       "min_height": null,
       "min_width": null,
       "object_fit": null,
       "object_position": null,
       "order": null,
       "overflow": null,
       "overflow_x": null,
       "overflow_y": null,
       "padding": null,
       "right": null,
       "top": null,
       "visibility": null,
       "width": null
      }
     },
     "9d146cf9489b40f78a92703e3d56b8d1": {
      "model_module": "@jupyter-widgets/controls",
      "model_module_version": "1.5.0",
      "model_name": "HTMLModel",
      "state": {
       "_dom_classes": [],
       "_model_module": "@jupyter-widgets/controls",
       "_model_module_version": "1.5.0",
       "_model_name": "HTMLModel",
       "_view_count": null,
       "_view_module": "@jupyter-widgets/controls",
       "_view_module_version": "1.5.0",
       "_view_name": "HTMLView",
       "description": "",
       "description_tooltip": null,
       "layout": "IPY_MODEL_45a9088161b6484aaeac6c584de99575",
       "placeholder": "​",
       "style": "IPY_MODEL_2f85abb13efa4459b67f73f0c007b3bb",
       "value": "100%"
      }
     },
     "a5f328bd34a041f1a39b3d5f65d71946": {
      "model_module": "@jupyter-widgets/controls",
      "model_module_version": "1.5.0",
      "model_name": "HTMLModel",
      "state": {
       "_dom_classes": [],
       "_model_module": "@jupyter-widgets/controls",
       "_model_module_version": "1.5.0",
       "_model_name": "HTMLModel",
       "_view_count": null,
       "_view_module": "@jupyter-widgets/controls",
       "_view_module_version": "1.5.0",
       "_view_name": "HTMLView",
       "description": "",
       "description_tooltip": null,
       "layout": "IPY_MODEL_150196f9264a4587a5cd8ab4f2064330",
       "placeholder": "​",
       "style": "IPY_MODEL_76fd2b675287458fb8a01b2a360f8553",
       "value": " 1000/1000 [00:08&lt;00:00, 123.40it/s]"
      }
     },
     "ac49b7d6a55641708df5dd70d18c18cd": {
      "model_module": "@jupyter-widgets/controls",
      "model_module_version": "1.5.0",
      "model_name": "FloatProgressModel",
      "state": {
       "_dom_classes": [],
       "_model_module": "@jupyter-widgets/controls",
       "_model_module_version": "1.5.0",
       "_model_name": "FloatProgressModel",
       "_view_count": null,
       "_view_module": "@jupyter-widgets/controls",
       "_view_module_version": "1.5.0",
       "_view_name": "ProgressView",
       "bar_style": "success",
       "description": "",
       "description_tooltip": null,
       "layout": "IPY_MODEL_8bf231c96aa4433a84be127ce518490d",
       "max": 1000,
       "min": 0,
       "orientation": "horizontal",
       "style": "IPY_MODEL_ca7a0a172a574e4597ae510608a8f595",
       "value": 1000
      }
     },
     "ac5495bc038f414dadcf5d5c7e7c9a6e": {
      "model_module": "@jupyter-widgets/controls",
      "model_module_version": "1.5.0",
      "model_name": "FloatProgressModel",
      "state": {
       "_dom_classes": [],
       "_model_module": "@jupyter-widgets/controls",
       "_model_module_version": "1.5.0",
       "_model_name": "FloatProgressModel",
       "_view_count": null,
       "_view_module": "@jupyter-widgets/controls",
       "_view_module_version": "1.5.0",
       "_view_name": "ProgressView",
       "bar_style": "success",
       "description": "",
       "description_tooltip": null,
       "layout": "IPY_MODEL_9bcde7c14975465cb716008557a3027d",
       "max": 1000,
       "min": 0,
       "orientation": "horizontal",
       "style": "IPY_MODEL_d9d8d1075e214c78b7ceb215085b7f1e",
       "value": 1000
      }
     },
     "ae78678c34a7468c97e9e2c543ea0d30": {
      "model_module": "@jupyter-widgets/controls",
      "model_module_version": "1.5.0",
      "model_name": "HTMLModel",
      "state": {
       "_dom_classes": [],
       "_model_module": "@jupyter-widgets/controls",
       "_model_module_version": "1.5.0",
       "_model_name": "HTMLModel",
       "_view_count": null,
       "_view_module": "@jupyter-widgets/controls",
       "_view_module_version": "1.5.0",
       "_view_name": "HTMLView",
       "description": "",
       "description_tooltip": null,
       "layout": "IPY_MODEL_8b5919f584894318949f5a914fa1befe",
       "placeholder": "​",
       "style": "IPY_MODEL_45956160877d44728c41d5d2f15e2b66",
       "value": " 1000/1000 [00:08&lt;00:00, 115.38it/s]"
      }
     },
     "b12a4a296db948d4a2b5bd2c227916c3": {
      "model_module": "@jupyter-widgets/controls",
      "model_module_version": "1.5.0",
      "model_name": "HBoxModel",
      "state": {
       "_dom_classes": [],
       "_model_module": "@jupyter-widgets/controls",
       "_model_module_version": "1.5.0",
       "_model_name": "HBoxModel",
       "_view_count": null,
       "_view_module": "@jupyter-widgets/controls",
       "_view_module_version": "1.5.0",
       "_view_name": "HBoxView",
       "box_style": "",
       "children": [
        "IPY_MODEL_bfbc99b281e14a61b5ba55a7ab58af9f",
        "IPY_MODEL_798ccf2791e746dea47c231bae6b829b",
        "IPY_MODEL_c15e2941ba9a42f3b2cf81e612fe6305"
       ],
       "layout": "IPY_MODEL_5bebd4b97b524b0f9f155f2fed30fdb5"
      }
     },
     "b1daf24e31fa4f4d89ed761fc94334aa": {
      "model_module": "@jupyter-widgets/controls",
      "model_module_version": "1.5.0",
      "model_name": "HBoxModel",
      "state": {
       "_dom_classes": [],
       "_model_module": "@jupyter-widgets/controls",
       "_model_module_version": "1.5.0",
       "_model_name": "HBoxModel",
       "_view_count": null,
       "_view_module": "@jupyter-widgets/controls",
       "_view_module_version": "1.5.0",
       "_view_name": "HBoxView",
       "box_style": "",
       "children": [
        "IPY_MODEL_9d146cf9489b40f78a92703e3d56b8d1",
        "IPY_MODEL_7191b4b7848947ee981356cbbe6b559e",
        "IPY_MODEL_ae78678c34a7468c97e9e2c543ea0d30"
       ],
       "layout": "IPY_MODEL_be0f706363fb4ec89d0e8eaf0c31ead3"
      }
     },
     "b3be9ca03a1d4cbda82d6058f79d36f4": {
      "model_module": "@jupyter-widgets/base",
      "model_module_version": "1.2.0",
      "model_name": "LayoutModel",
      "state": {
       "_model_module": "@jupyter-widgets/base",
       "_model_module_version": "1.2.0",
       "_model_name": "LayoutModel",
       "_view_count": null,
       "_view_module": "@jupyter-widgets/base",
       "_view_module_version": "1.2.0",
       "_view_name": "LayoutView",
       "align_content": null,
       "align_items": null,
       "align_self": null,
       "border": null,
       "bottom": null,
       "display": null,
       "flex": null,
       "flex_flow": null,
       "grid_area": null,
       "grid_auto_columns": null,
       "grid_auto_flow": null,
       "grid_auto_rows": null,
       "grid_column": null,
       "grid_gap": null,
       "grid_row": null,
       "grid_template_areas": null,
       "grid_template_columns": null,
       "grid_template_rows": null,
       "height": null,
       "justify_content": null,
       "justify_items": null,
       "left": null,
       "margin": null,
       "max_height": null,
       "max_width": null,
       "min_height": null,
       "min_width": null,
       "object_fit": null,
       "object_position": null,
       "order": null,
       "overflow": null,
       "overflow_x": null,
       "overflow_y": null,
       "padding": null,
       "right": null,
       "top": null,
       "visibility": null,
       "width": null
      }
     },
     "b817cfc7100e4e0daf4b7e07cda9e9f8": {
      "model_module": "@jupyter-widgets/controls",
      "model_module_version": "1.5.0",
      "model_name": "HBoxModel",
      "state": {
       "_dom_classes": [],
       "_model_module": "@jupyter-widgets/controls",
       "_model_module_version": "1.5.0",
       "_model_name": "HBoxModel",
       "_view_count": null,
       "_view_module": "@jupyter-widgets/controls",
       "_view_module_version": "1.5.0",
       "_view_name": "HBoxView",
       "box_style": "",
       "children": [
        "IPY_MODEL_3c99dd581e4945c8ad8635577036241c",
        "IPY_MODEL_ac49b7d6a55641708df5dd70d18c18cd",
        "IPY_MODEL_5edc78cd189d45dca111f86c30a0c984"
       ],
       "layout": "IPY_MODEL_29c15071474f4f1e98c574a0eb46967b"
      }
     },
     "be0f706363fb4ec89d0e8eaf0c31ead3": {
      "model_module": "@jupyter-widgets/base",
      "model_module_version": "1.2.0",
      "model_name": "LayoutModel",
      "state": {
       "_model_module": "@jupyter-widgets/base",
       "_model_module_version": "1.2.0",
       "_model_name": "LayoutModel",
       "_view_count": null,
       "_view_module": "@jupyter-widgets/base",
       "_view_module_version": "1.2.0",
       "_view_name": "LayoutView",
       "align_content": null,
       "align_items": null,
       "align_self": null,
       "border": null,
       "bottom": null,
       "display": null,
       "flex": null,
       "flex_flow": null,
       "grid_area": null,
       "grid_auto_columns": null,
       "grid_auto_flow": null,
       "grid_auto_rows": null,
       "grid_column": null,
       "grid_gap": null,
       "grid_row": null,
       "grid_template_areas": null,
       "grid_template_columns": null,
       "grid_template_rows": null,
       "height": null,
       "justify_content": null,
       "justify_items": null,
       "left": null,
       "margin": null,
       "max_height": null,
       "max_width": null,
       "min_height": null,
       "min_width": null,
       "object_fit": null,
       "object_position": null,
       "order": null,
       "overflow": null,
       "overflow_x": null,
       "overflow_y": null,
       "padding": null,
       "right": null,
       "top": null,
       "visibility": null,
       "width": null
      }
     },
     "bfbc99b281e14a61b5ba55a7ab58af9f": {
      "model_module": "@jupyter-widgets/controls",
      "model_module_version": "1.5.0",
      "model_name": "HTMLModel",
      "state": {
       "_dom_classes": [],
       "_model_module": "@jupyter-widgets/controls",
       "_model_module_version": "1.5.0",
       "_model_name": "HTMLModel",
       "_view_count": null,
       "_view_module": "@jupyter-widgets/controls",
       "_view_module_version": "1.5.0",
       "_view_name": "HTMLView",
       "description": "",
       "description_tooltip": null,
       "layout": "IPY_MODEL_8760f2a68a544124b0ac26b0e3a0a4c7",
       "placeholder": "​",
       "style": "IPY_MODEL_792aba41172146e6b7f021e72f8e3d37",
       "value": "100%"
      }
     },
     "c15e2941ba9a42f3b2cf81e612fe6305": {
      "model_module": "@jupyter-widgets/controls",
      "model_module_version": "1.5.0",
      "model_name": "HTMLModel",
      "state": {
       "_dom_classes": [],
       "_model_module": "@jupyter-widgets/controls",
       "_model_module_version": "1.5.0",
       "_model_name": "HTMLModel",
       "_view_count": null,
       "_view_module": "@jupyter-widgets/controls",
       "_view_module_version": "1.5.0",
       "_view_name": "HTMLView",
       "description": "",
       "description_tooltip": null,
       "layout": "IPY_MODEL_1d9df699053c40889806148160c9fa92",
       "placeholder": "​",
       "style": "IPY_MODEL_d919381394db4715866bd3c6491b0f5f",
       "value": " 1000/1000 [00:08&lt;00:00, 78.84it/s]"
      }
     },
     "c87149acaf834162ac70bdadb32f4e90": {
      "model_module": "@jupyter-widgets/controls",
      "model_module_version": "1.5.0",
      "model_name": "HTMLModel",
      "state": {
       "_dom_classes": [],
       "_model_module": "@jupyter-widgets/controls",
       "_model_module_version": "1.5.0",
       "_model_name": "HTMLModel",
       "_view_count": null,
       "_view_module": "@jupyter-widgets/controls",
       "_view_module_version": "1.5.0",
       "_view_name": "HTMLView",
       "description": "",
       "description_tooltip": null,
       "layout": "IPY_MODEL_3e3316610e5140dc93583a40d510b4aa",
       "placeholder": "​",
       "style": "IPY_MODEL_41a27487e75e4d67a4eb7268f3e79fba",
       "value": "100%"
      }
     },
     "ca7a0a172a574e4597ae510608a8f595": {
      "model_module": "@jupyter-widgets/controls",
      "model_module_version": "1.5.0",
      "model_name": "ProgressStyleModel",
      "state": {
       "_model_module": "@jupyter-widgets/controls",
       "_model_module_version": "1.5.0",
       "_model_name": "ProgressStyleModel",
       "_view_count": null,
       "_view_module": "@jupyter-widgets/base",
       "_view_module_version": "1.2.0",
       "_view_name": "StyleView",
       "bar_color": null,
       "description_width": ""
      }
     },
     "d47ab9ecbd234617b00d277abc868e13": {
      "model_module": "@jupyter-widgets/base",
      "model_module_version": "1.2.0",
      "model_name": "LayoutModel",
      "state": {
       "_model_module": "@jupyter-widgets/base",
       "_model_module_version": "1.2.0",
       "_model_name": "LayoutModel",
       "_view_count": null,
       "_view_module": "@jupyter-widgets/base",
       "_view_module_version": "1.2.0",
       "_view_name": "LayoutView",
       "align_content": null,
       "align_items": null,
       "align_self": null,
       "border": null,
       "bottom": null,
       "display": null,
       "flex": null,
       "flex_flow": null,
       "grid_area": null,
       "grid_auto_columns": null,
       "grid_auto_flow": null,
       "grid_auto_rows": null,
       "grid_column": null,
       "grid_gap": null,
       "grid_row": null,
       "grid_template_areas": null,
       "grid_template_columns": null,
       "grid_template_rows": null,
       "height": null,
       "justify_content": null,
       "justify_items": null,
       "left": null,
       "margin": null,
       "max_height": null,
       "max_width": null,
       "min_height": null,
       "min_width": null,
       "object_fit": null,
       "object_position": null,
       "order": null,
       "overflow": null,
       "overflow_x": null,
       "overflow_y": null,
       "padding": null,
       "right": null,
       "top": null,
       "visibility": null,
       "width": null
      }
     },
     "d919381394db4715866bd3c6491b0f5f": {
      "model_module": "@jupyter-widgets/controls",
      "model_module_version": "1.5.0",
      "model_name": "DescriptionStyleModel",
      "state": {
       "_model_module": "@jupyter-widgets/controls",
       "_model_module_version": "1.5.0",
       "_model_name": "DescriptionStyleModel",
       "_view_count": null,
       "_view_module": "@jupyter-widgets/base",
       "_view_module_version": "1.2.0",
       "_view_name": "StyleView",
       "description_width": ""
      }
     },
     "d9d8d1075e214c78b7ceb215085b7f1e": {
      "model_module": "@jupyter-widgets/controls",
      "model_module_version": "1.5.0",
      "model_name": "ProgressStyleModel",
      "state": {
       "_model_module": "@jupyter-widgets/controls",
       "_model_module_version": "1.5.0",
       "_model_name": "ProgressStyleModel",
       "_view_count": null,
       "_view_module": "@jupyter-widgets/base",
       "_view_module_version": "1.2.0",
       "_view_name": "StyleView",
       "bar_color": null,
       "description_width": ""
      }
     },
     "e42312fe99cb4bdea502b60ae0c1b12e": {
      "model_module": "@jupyter-widgets/base",
      "model_module_version": "1.2.0",
      "model_name": "LayoutModel",
      "state": {
       "_model_module": "@jupyter-widgets/base",
       "_model_module_version": "1.2.0",
       "_model_name": "LayoutModel",
       "_view_count": null,
       "_view_module": "@jupyter-widgets/base",
       "_view_module_version": "1.2.0",
       "_view_name": "LayoutView",
       "align_content": null,
       "align_items": null,
       "align_self": null,
       "border": null,
       "bottom": null,
       "display": null,
       "flex": null,
       "flex_flow": null,
       "grid_area": null,
       "grid_auto_columns": null,
       "grid_auto_flow": null,
       "grid_auto_rows": null,
       "grid_column": null,
       "grid_gap": null,
       "grid_row": null,
       "grid_template_areas": null,
       "grid_template_columns": null,
       "grid_template_rows": null,
       "height": null,
       "justify_content": null,
       "justify_items": null,
       "left": null,
       "margin": null,
       "max_height": null,
       "max_width": null,
       "min_height": null,
       "min_width": null,
       "object_fit": null,
       "object_position": null,
       "order": null,
       "overflow": null,
       "overflow_x": null,
       "overflow_y": null,
       "padding": null,
       "right": null,
       "top": null,
       "visibility": null,
       "width": null
      }
     }
    },
    "version_major": 2,
    "version_minor": 0
   }
  }
 },
 "nbformat": 4,
 "nbformat_minor": 5
}
