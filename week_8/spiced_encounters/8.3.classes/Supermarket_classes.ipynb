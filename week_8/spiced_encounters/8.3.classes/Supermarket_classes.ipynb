{
 "cells": [
  {
   "cell_type": "code",
   "execution_count": 2,
   "metadata": {},
   "outputs": [],
   "source": [
    "    import random\n",
    "    import pandas as pd\n",
    "    import numpy as np"
   ]
  },
  {
   "cell_type": "code",
   "execution_count": 22,
   "metadata": {},
   "outputs": [],
   "source": [
    "class Customer:\n",
    "    '''\n",
    "    The class Player is ablueprint for a poker player.\n",
    "    \n",
    "    Parameter\n",
    "    -------\n",
    "    \n",
    "    name: Name of the player\n",
    "    stack_size: Amount of chips the player currently has\n",
    "    '''\n",
    "\n",
    "    departments = ['checkout','dairy', 'drinks',  'fruit', 'spices']\n",
    "    distribution = [0,0.288,0.154,0.377,0.182]\n",
    "    \n",
    "\n",
    "    def __init__(self, customer_id, arrive_time):\n",
    "        self.customer_id = customer_id\n",
    "        self.time = arrive_time\n",
    "\n",
    "    def starting_alley(location= departments, weights = distribution):\n",
    "        self.location = random.choices(location, weights , k=1)\n",
    "\n",
    "\n",
    "    # def next_location(self):\n",
    "    #     pass\n",
    "    \n",
    "\n",
    "    # def time_stamp(self):\n",
    "    #     pass\n",
    "\n",
    "\n",
    "    # def __repr__(self):\n",
    "    #     return f'Customer appears in the {Supermarket.self.name} in the {self.location} department at {self.time}.'"
   ]
  },
  {
   "cell_type": "code",
   "execution_count": 19,
   "metadata": {},
   "outputs": [],
   "source": [
    "class Supermarket:\n",
    "    \"\"\"\n",
    "    The class initiates a Supermarket class that contains the name of the Supermarket, the times that is open\n",
    "    ..\n",
    "\n",
    "    \"\"\"\n",
    "    # initiate parameters\n",
    "    working_hours = 14\n",
    "    MINUTES = 1#60 * working_hours\n",
    "    number_of_customers = []\n",
    "    departments = ['checkout','dairy', 'drinks',  'fruit', 'spices']\n",
    "    TRANSITION_MATRIX = [[0,0,0,0,0]\n",
    "                        ,[0.390041,\t0.001069,\t0.222697,\t0.190212,\t0.195982]\n",
    "                        ,[0.536748,\t0.027401,\t0.000000,\t0.219206,\t0.216645]\n",
    "                        ,[0.498829,\t0.237993,\t0.137056,\t0.000390,\t0.125732]\n",
    "                        ,[0.250666,\t0.323655,\t0.272776,\t0.152637,\t0.000266]\n",
    "                        ] \n",
    "\n",
    "  \n",
    "    def __init__(self, name='LIDL'):\n",
    "        self.name = name\n",
    "\n",
    "\n",
    "      # add the new customers\n",
    "    def __init__(self, number_of_customers = 5, minutes = MINUTES):\n",
    "        for c in range(number_of_customers):\n",
    "            self.number_of_customers = \n",
    "\n",
    "        self.number_of_customers.append(number_of_customers)\n",
    "        self.time = minutes\n",
    "        self.starting_alley = \n",
    "\n",
    "      # move customers to the next alley\n",
    "\n",
    "\n",
    "\n",
    "      #drop customers that they are at check-in \n",
    "\n",
    "    def raise_bet(self, value):\n",
    "        self.current_bet += value\n",
    "        self.stack_size -= value\n",
    "        \n",
    "    def __repr__(self):\n",
    "        return f'Player {self.name} is betting {self.current_bet} and his stack size is {self.stack_size}'\n",
    "\n",
    "    # def __init__(self, name, departments, opening_times, corona =False):\n",
    "    #     self.name = name\n",
    "    #     self.departments = departments\n",
    "    #     self.opening_times = opening_times\n",
    "    #     self.corona = corona\n",
    "\n",
    "        \n",
    "    \n",
    "    # @classmethod\n",
    "    # def staying_limit(cls):\n",
    "    #     cls.locks = cls.limit + increase\n",
    "    \n",
    "\n",
    "\n",
    "\n"
   ]
  },
  {
   "cell_type": "code",
   "execution_count": 24,
   "metadata": {},
   "outputs": [
    {
     "name": "stdout",
     "output_type": "stream",
     "text": [
      "0\n",
      "1\n",
      "2\n",
      "3\n",
      "4\n"
     ]
    }
   ],
   "source": [
    "for c in range(5):\n",
    "    print(c)"
   ]
  },
  {
   "cell_type": "code",
   "execution_count": null,
   "metadata": {},
   "outputs": [],
   "source": []
  }
 ],
 "metadata": {
  "interpreter": {
   "hash": "40d3a090f54c6569ab1632332b64b2c03c39dcf918b08424e98f38b5ae0af88f"
  },
  "kernelspec": {
   "display_name": "Python 3.7.11 ('base')",
   "language": "python",
   "name": "python3"
  },
  "language_info": {
   "codemirror_mode": {
    "name": "ipython",
    "version": 3
   },
   "file_extension": ".py",
   "mimetype": "text/x-python",
   "name": "python",
   "nbconvert_exporter": "python",
   "pygments_lexer": "ipython3",
   "version": "3.7.11"
  },
  "orig_nbformat": 4
 },
 "nbformat": 4,
 "nbformat_minor": 2
}
