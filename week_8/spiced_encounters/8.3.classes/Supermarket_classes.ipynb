{
 "cells": [
  {
   "cell_type": "code",
   "execution_count": 2,
   "metadata": {},
   "outputs": [],
   "source": [
    "    import random\n",
    "    import pandas as pd\n",
    "    import numpy as np"
   ]
  },
  {
   "cell_type": "code",
   "execution_count": 4,
   "metadata": {},
   "outputs": [],
   "source": [
    "class Customer:\n",
    "    '''\n",
    "    The class Player is ablueprint for a poker player.\n",
    "    \n",
    "    Parameter\n",
    "    -------\n",
    "    \n",
    "    name: Name of the player\n",
    "    stack_size: Amount of chips the player currently has\n",
    "    '''\n",
    "\n",
    "    departments = ['checkout','dairy', 'drinks',  'fruit', 'spices']\n",
    "    weights = [0,0.288,0.154,0.377,0.182]\n",
    "\n",
    "    def __init__(self, customer_id, arrive_time, day):\n",
    "        self.location = random.choices(departments, distr = weights , k=1)\n",
    "        self.customer_id = customer_id\n",
    "        self.time = arrive_time\n",
    "        self.day = day\n",
    "\n",
    "\n",
    "    def next_location(self):\n",
    "        pass\n",
    "    \n",
    "\n",
    "    def time_stamp(self):\n",
    "        pass\n",
    "\n",
    "\n",
    "\n",
    "        \n",
    "\n",
    "    def __repr__(self):\n",
    "        return f'Customer appears in the {Supermarket.self.name} in the {self.location} department at {self.time}.'"
   ]
  },
  {
   "cell_type": "code",
   "execution_count": null,
   "metadata": {},
   "outputs": [],
   "source": [
    "departments = ['checkout','dairy', 'drinks',  'fruit', 'spices']\n",
    "\n"
   ]
  },
  {
   "cell_type": "code",
   "execution_count": null,
   "metadata": {},
   "outputs": [],
   "source": [
    "class Supermarket:\n",
    "    \"\"\"\n",
    "    The class initiates a Supermarket class that contains the name of the Supermarket, the times that is open\n",
    "    ..\n",
    "\n",
    "    \"\"\"\n",
    "    \n",
    "\n",
    "\n",
    "    def __init__(self, name, departments, opening_times, corona =False):\n",
    "        self.name = name\n",
    "        self.departments = departments\n",
    "        self.opening_times = opening_times\n",
    "        self.corona = corona\n",
    "\n",
    "\n",
    "\n",
    "        \n",
    "    @classmethod\n",
    "    def staying_limit(cls):\n",
    "        cls.locks = cls.limit + increase\n",
    "    \n",
    "\n",
    "\n",
    "\n"
   ]
  }
 ],
 "metadata": {
  "interpreter": {
   "hash": "40d3a090f54c6569ab1632332b64b2c03c39dcf918b08424e98f38b5ae0af88f"
  },
  "kernelspec": {
   "display_name": "Python 3.7.11 ('base')",
   "language": "python",
   "name": "python3"
  },
  "language_info": {
   "codemirror_mode": {
    "name": "ipython",
    "version": 3
   },
   "file_extension": ".py",
   "mimetype": "text/x-python",
   "name": "python",
   "nbconvert_exporter": "python",
   "pygments_lexer": "ipython3",
   "version": "3.7.11"
  },
  "orig_nbformat": 4
 },
 "nbformat": 4,
 "nbformat_minor": 2
}
