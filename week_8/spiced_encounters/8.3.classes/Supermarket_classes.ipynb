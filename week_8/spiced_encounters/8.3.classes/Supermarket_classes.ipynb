{
 "cells": [
  {
   "cell_type": "code",
   "execution_count": null,
   "metadata": {},
   "outputs": [],
   "source": [
    "class Customer:\n",
    "    '''\n",
    "    The class Player is ablueprint for a poker player.\n",
    "    \n",
    "    Parameter\n",
    "    -------\n",
    "    \n",
    "    name: Name of the player\n",
    "    stack_size: Amount of chips the player currently has\n",
    "    '''\n",
    "    def __init__(self, first_location, customer_id, arrive_time):\n",
    "        self.location = first_location\n",
    "        self.customer_id = customer_id\n",
    "        self.time = arrive_time\n",
    "\n",
    "\n",
    "\n",
    "    def next_location(self):\n",
    "        pass\n",
    "    \n",
    "\n",
    "    def time_stamp(self):\n",
    "        pass\n",
    "\n",
    "    \n",
    "    @classmethod\n",
    "    def increase_limit(cls, increase):\n",
    "        cls.limit = cls.limit + increase\n",
    "        \n",
    "\n",
    "\n",
    "    def __repr__(self):\n",
    "        return f'Customer appears in the {Supermarket.self.name} in the {self.location} department at {self.time}.'"
   ]
  },
  {
   "cell_type": "code",
   "execution_count": null,
   "metadata": {},
   "outputs": [],
   "source": [
    "class Supermarket:\n",
    "    \"\"\"\n",
    "    The class initiates a Supermarket class that contains the name of the Supermarket, the times that is open\n",
    "    ..\n",
    "\n",
    "    \"\"\"\n",
    "\n",
    "\n",
    "    def __init__(self, name, departments, opening_times ):\n",
    "        self.name = name\n",
    "        self.departments = departments\n",
    "        self.opening_times = opening_times\n",
    "\n",
    "    \n",
    "\n",
    "\n",
    "\n"
   ]
  }
 ],
 "metadata": {
  "language_info": {
   "name": "python"
  },
  "orig_nbformat": 4
 },
 "nbformat": 4,
 "nbformat_minor": 2
}
