{
 "cells": [
  {
   "cell_type": "code",
   "execution_count": 13,
   "metadata": {},
   "outputs": [],
   "source": [
    "\n",
    "import pandas as pd\n",
    "import numpy as np\n",
    "import random"
   ]
  },
  {
   "cell_type": "code",
   "execution_count": 14,
   "metadata": {},
   "outputs": [],
   "source": [
    "class Customer:\n",
    "    '''\n",
    "    The class Player is ablueprint for a poker player.\n",
    "    \n",
    "    Parameter\n",
    "    -------\n",
    "    \n",
    "    name: Name of the player\n",
    "    stack_size: Amount of chips the player currently has\n",
    "    '''\n",
    "\n",
    "    departments = ['checkout','dairy', 'drinks',  'fruit', 'spices']\n",
    "    distribution = [0,0.288,0.154,0.377,0.182]\n",
    "    \n",
    "\n",
    "    def __init__(self):\n",
    "        self.customer_id = id\n",
    "        self.time = arrive_time \n",
    "\n",
    "    def starting_alley(self,location= departments, weights = distribution):\n",
    "        self.location = random.choices(location, weights , k=1)\n",
    "\n",
    "\n",
    "    # def next_location(self):\n",
    "    #     pass\n",
    "    \n",
    "\n",
    "    # def time_stamp(self):\n",
    "    #     pass\n",
    "\n",
    "\n",
    "    # def __repr__(self):\n",
    "    #     return f'Customer appears in the {Supermarket.self.name} in the {self.location} department at {self.time}.'"
   ]
  },
  {
   "cell_type": "code",
   "execution_count": 17,
   "metadata": {},
   "outputs": [
    {
     "ename": "TypeError",
     "evalue": "__init__() missing 2 required positional arguments: 'id' and 'arrive_time'",
     "output_type": "error",
     "traceback": [
      "\u001b[0;31m---------------------------------------------------------------------------\u001b[0m",
      "\u001b[0;31mTypeError\u001b[0m                                 Traceback (most recent call last)",
      "\u001b[0;32m/var/folders/08/6zrs8w253573k0k0yjq1w49c0000gn/T/ipykernel_7506/2287496828.py\u001b[0m in \u001b[0;36m<module>\u001b[0;34m\u001b[0m\n\u001b[0;32m----> 1\u001b[0;31m \u001b[0mc\u001b[0m \u001b[0;34m=\u001b[0m \u001b[0mCustomer\u001b[0m\u001b[0;34m(\u001b[0m\u001b[0;34m)\u001b[0m\u001b[0;34m\u001b[0m\u001b[0;34m\u001b[0m\u001b[0m\n\u001b[0m",
      "\u001b[0;31mTypeError\u001b[0m: __init__() missing 2 required positional arguments: 'id' and 'arrive_time'"
     ]
    }
   ],
   "source": [
    "c = Customer()"
   ]
  },
  {
   "cell_type": "code",
   "execution_count": 19,
   "metadata": {},
   "outputs": [],
   "source": [
    "class Supermarket:\n",
    "    \"\"\"\n",
    "    The class initiates a Supermarket class that contains the name of the Supermarket, the times that is open\n",
    "    ..\n",
    "\n",
    "    \"\"\"\n",
    "    # initiate parameters\n",
    "    working_hours = 14\n",
    "    MINUTES = 1#60 * working_hours\n",
    "    list_of_customers = []\n",
    "    departments = ['checkout','dairy', 'drinks',  'fruit', 'spices']\n",
    "    TRANSITION_MATRIX = [[0,0,0,0,0]\n",
    "                        ,[0.392389,\t0.000000,\t0.222318,\t0.189852,\t0.195442]\n",
    "                        ,[0.538956,\t0.027256,\t0.000000,\t0.217794,\t0.215994]\n",
    "                        ,[0.500784,\t0.236966,\t0.136417,\t0.000000,\t0.125833]\n",
    "                        ,[0.251672,\t0.323616,\t0.272800,\t0.151912,\t0.000000]\n",
    "                        ] \n",
    "\n",
    "  \n",
    "    def __init__(self):        \n",
    "        # a list of Customer objects\n",
    "        self.customers = []\n",
    "        self.minutes = 0\n",
    "        self.last_id = 0\n",
    "\n",
    "\n",
    "\n",
    "    def get_time(self):\n",
    "        \"\"\"current time in HH:MM format,\n",
    "        \"\"\"\n",
    "        return None\n",
    "\n",
    "        \n",
    "      # add the new customers\n",
    "    # def __init__(self, number_of_customers = 1, minutes = MINUTES,list_of_customers = list_of_customers):\n",
    "    #     for c in range(number_of_customers):\n",
    "    #         list_of_customers. = Customer\n",
    "\n",
    "    #     self.number_of_customers = list_of_customers.append(number_of_customers)\n",
    "    #     self.time = minutes\n",
    "    #     self.starting_alley = \n",
    "\n",
    "      # move customers to the next alley\n",
    "\n",
    "\n",
    "\n",
    "      # drop customers that they are at check-in \n",
    "\n",
    "    def __repr__(self):   \n",
    "      return f'Customer [name] appears in the [alley] at [time]'\n",
    "\n",
    "\n",
    "\n",
    "    \n",
    "\n",
    "\n",
    "\n"
   ]
  },
  {
   "cell_type": "code",
   "execution_count": 20,
   "metadata": {},
   "outputs": [
    {
     "data": {
      "text/plain": [
       "Customer [name] appears in the [alley] at [time]"
      ]
     },
     "execution_count": 20,
     "metadata": {},
     "output_type": "execute_result"
    }
   ],
   "source": [
    "a = Supermarket()\n",
    "a"
   ]
  },
  {
   "cell_type": "code",
   "execution_count": null,
   "metadata": {},
   "outputs": [],
   "source": []
  }
 ],
 "metadata": {
  "interpreter": {
   "hash": "40d3a090f54c6569ab1632332b64b2c03c39dcf918b08424e98f38b5ae0af88f"
  },
  "kernelspec": {
   "display_name": "Python 3.7.11 ('base')",
   "language": "python",
   "name": "python3"
  },
  "language_info": {
   "codemirror_mode": {
    "name": "ipython",
    "version": 3
   },
   "file_extension": ".py",
   "mimetype": "text/x-python",
   "name": "python",
   "nbconvert_exporter": "python",
   "pygments_lexer": "ipython3",
   "version": "3.7.11"
  },
  "orig_nbformat": 4
 },
 "nbformat": 4,
 "nbformat_minor": 2
}
