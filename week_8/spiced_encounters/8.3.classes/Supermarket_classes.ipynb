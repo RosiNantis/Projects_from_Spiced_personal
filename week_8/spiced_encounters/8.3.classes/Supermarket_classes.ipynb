{
 "cells": [
  {
   "cell_type": "code",
   "execution_count": 1,
   "metadata": {},
   "outputs": [],
   "source": [
    "# import the packages\n",
    "import pandas as pd\n",
    "import numpy as np\n",
    "import random\n",
    "import datetime"
   ]
  },
  {
   "cell_type": "code",
   "execution_count": 16,
   "metadata": {},
   "outputs": [],
   "source": [
    "departments = [0,1,2,3,4]#['checkout','dairy', 'drinks',  'fruit', 'spices']\n",
    "departments_names = ['checkout','dairy', 'drinks',  'fruit', 'spices']\n",
    "distribution = [0,0.288,0.154,0.377,0.182]\n",
    "TRANSITION_MATRIX = [[1,0,0,0,0]\n",
    "                ,[0.392389,\t0.000000,\t0.222318,\t0.189852,\t0.195442]\n",
    "                ,[0.538956,\t0.027256,\t0.000000,\t0.217794,\t0.215994]\n",
    "                ,[0.500784,\t0.236966,\t0.136417,\t0.000000,\t0.125833]\n",
    "                ,[0.251672,\t0.323616,\t0.272800,\t0.151912,\t0.000000]\n",
    "                ] \n",
    "\n",
    "class Customer:\n",
    "    '''\n",
    "    The class Customer is a blueprint for a supermarket customer.\n",
    "    \n",
    "    Parameter\n",
    "    -------\n",
    "    '''\n",
    "    \n",
    "\n",
    "    def __init__(self, name, state = True):\n",
    "        self.customer_id = name\n",
    "        self.state_customer = state\n",
    "\n",
    "    def starting_alley(self,location= departments, weights = distribution):\n",
    "        self.starting_point = random.choices(location, weights , k=1)[0]\n",
    "        self.location = departments_names[self.starting_point]\n",
    "        return self.location\n",
    "\n",
    "\n",
    "    def next_state(self,location= departments,TRANSITION_MATRIX_list = TRANSITION_MATRIX):\n",
    "        '''\n",
    "        Propagates the customer to the next state.\n",
    "        Returns nothing.\n",
    "        '''\n",
    "        self.next_dep = random.choices(location, weights=TRANSITION_MATRIX_list[self.starting_point])[0]\n",
    "        self.location = departments_names[self.next_dep]\n",
    "        return self.location\n",
    "\n",
    "    def activ(self):\n",
    "        if self.location == 0:\n",
    "            self.state_customer = False\n",
    "        \n",
    "        if self.state_customer == True:\n",
    "            what = 'in'\n",
    "        elif self.state_customer == False:\n",
    "            what = 'out of'\n",
    "        return self.state_customer\n",
    "\n",
    "\n",
    "\n"
   ]
  },
  {
   "cell_type": "code",
   "execution_count": 17,
   "metadata": {},
   "outputs": [
    {
     "data": {
      "text/plain": [
       "True"
      ]
     },
     "execution_count": 17,
     "metadata": {},
     "output_type": "execute_result"
    }
   ],
   "source": [
    "c = Customer(1)\n",
    "c.customer_id\n",
    "c.starting_alley()\n",
    "c.next_state()\n",
    "c.activ()"
   ]
  },
  {
   "cell_type": "code",
   "execution_count": null,
   "metadata": {},
   "outputs": [],
   "source": [
    "class Supermarket:\n",
    "    \"\"\"manages multiple Customer instances that are currently in the market.\n",
    "    \"\"\"\n",
    "    def __init__(self):        \n",
    "        # a list of Customer objects\n",
    "        self.customers = []\n",
    "        self.location = []\n",
    "        self.first_id = 1\n",
    "        self.timer = datetime.datetime(2022,1,1,6,59)\n",
    "        self.closing_time = datetime.datetime(2022,1,1,22,00)\n",
    "    \n",
    "\n",
    "\n",
    "    def get_time(self):\n",
    "        \"\"\"current time in HH:MM format,\n",
    "        \"\"\"\n",
    "        self.clock = self.timer.time()\n",
    "\n",
    "        return self.clock\n",
    "\n",
    "    def print_customers(self):\n",
    "        \"\"\"print all customers with the current time and id in CSV format.\n",
    "        \"\"\"\n",
    "        return None\n",
    "\n",
    "    def next_minute(self):\n",
    "        \"\"\"propagates all customers to the next state.\n",
    "        \"\"\"\n",
    "        while self.timer <= self.closing_time:\n",
    "            self.timer += datetime.timedelta(0,0,0,2,0) # time in minutes\n",
    "            self.customers = self.add_new_customers()\n",
    "            self.__repr__()\n",
    "        return self.timer\n",
    "    \n",
    "    def add_new_customers(self):\n",
    "        \"\"\"randomly creates new customers.\n",
    "        \"\"\"\n",
    "        c=1\n",
    "        while c <= 5:\n",
    "            self.customers.append(Customer(self.first_id))\n",
    "            #self.location.append(Customer.starting_alley())\n",
    "            self.first_id += 1\n",
    "        return self.customers, self.location\n",
    "\n",
    "    def remove_existing_customers(self):\n",
    "        \"\"\"removes every customer that is not active any more.\n",
    "        \"\"\"\n",
    "        return None    \n",
    "\n",
    "    def __repr__(self):\n",
    "        #return f'The customer {self.customers} is in the {self.location()} department at \"{self.timer()}\".'\n",
    "        return f'The time of the supermarket being open is {self.next_minute()}.'\n"
   ]
  },
  {
   "cell_type": "code",
   "execution_count": 54,
   "metadata": {},
   "outputs": [],
   "source": [
    "class Supermarket:\n",
    "    \"\"\"manages multiple Customer instances that are currently in the market.\n",
    "    \"\"\"\n",
    "    def __init__(self):        \n",
    "        # a list of Customer objects\n",
    "        self.customers = []\n",
    "        self.location = []\n",
    "        self.next_alley = []\n",
    "        self.state = []\n",
    "        self.first_id = 1\n",
    "        self.ticktock = datetime.datetime(2022,1,1,6,59)\n",
    "        self.closing_time = datetime.datetime(2022,1,1,22,00)\n",
    "    \n",
    "\n",
    "\n",
    "    def get_time(self):\n",
    "        \"\"\"current time in HH:MM format,\n",
    "        \"\"\"\n",
    "        self.clock = self.ticktock.strftime('%H:%M')\n",
    "\n",
    "        return self.clock\n",
    "\n",
    "    def print_customers(self):\n",
    "        \"\"\"print all customers with the current time and id in CSV format.\n",
    "        \"\"\"\n",
    "        return None\n",
    "\n",
    "    def add_new_customers(self):\n",
    "        \"\"\"randomly creates new customers.\n",
    "        \"\"\"\n",
    "        # c=1\n",
    "        # while c <= 5:\n",
    "        #     customer_new = Customer(self.first_id)\n",
    "        #     self.customers.append(customer_new.customer_id)\n",
    "        #     #self.location.append(Customer.starting_alley())\n",
    "        #     self.first_id += 1\n",
    "        #     print(len(self.customers))\n",
    "        #     print(c)\n",
    "        #     print(f'the customer {self.customers[c-1]} is in the alley.')\n",
    "        #     c += 1\n",
    "        # #return self.customers\n",
    "        customer_new = []\n",
    "        for number_cust_min in range(5):\n",
    "            customer_new[number_cust_min] = Customer(self.first_id)\n",
    "            self.first_id += 1\n",
    "            self.customers.append(customer_new[number_cust_min].customer_id)\n",
    "            # self.location.append(customer_new.starting_alley())\n",
    "            # self.next_alley.append(customer_new.next_state())\n",
    "            # self.state.append(customer_new.activ())\n",
    "        return self.customers[0]#, self.location[0], self.next_alley[0], self.state[0]\n",
    "\n",
    "\n",
    "    def next_minute(self):\n",
    "        \"\"\"propagates all customers to the next state.\n",
    "        \"\"\"\n",
    "        while self.ticktock <= self.closing_time:\n",
    "            self.ticktock += datetime.timedelta(0,0,0,0,1) # time in minutes\n",
    "        return self.ticktock\n",
    "\n",
    "\n",
    "    def remove_existing_customers(self):\n",
    "        \"\"\"removes every customer that is not active any more.\n",
    "        \"\"\"\n",
    "        self.customers =[c for c in self.customers if customer_new.activ()]\n",
    "\n",
    "    #def __repr__(self):\n",
    "        \n",
    "        #return f'The customer {self.customers} is in the {self.location()} department at \"{self.timer()}\".'\n"
   ]
  },
  {
   "cell_type": "code",
   "execution_count": 55,
   "metadata": {},
   "outputs": [
    {
     "ename": "IndexError",
     "evalue": "list assignment index out of range",
     "output_type": "error",
     "traceback": [
      "\u001b[0;31m---------------------------------------------------------------------------\u001b[0m",
      "\u001b[0;31mIndexError\u001b[0m                                Traceback (most recent call last)",
      "\u001b[0;32m/var/folders/08/6zrs8w253573k0k0yjq1w49c0000gn/T/ipykernel_25151/2506811245.py\u001b[0m in \u001b[0;36m<module>\u001b[0;34m\u001b[0m\n\u001b[1;32m      2\u001b[0m \u001b[0mstart\u001b[0m\u001b[0;34m.\u001b[0m\u001b[0mnext_minute\u001b[0m\u001b[0;34m(\u001b[0m\u001b[0;34m)\u001b[0m\u001b[0;34m\u001b[0m\u001b[0;34m\u001b[0m\u001b[0m\n\u001b[1;32m      3\u001b[0m \u001b[0mstart\u001b[0m\u001b[0;34m.\u001b[0m\u001b[0mget_time\u001b[0m\u001b[0;34m(\u001b[0m\u001b[0;34m)\u001b[0m\u001b[0;34m\u001b[0m\u001b[0;34m\u001b[0m\u001b[0m\n\u001b[0;32m----> 4\u001b[0;31m \u001b[0mstart\u001b[0m\u001b[0;34m.\u001b[0m\u001b[0madd_new_customers\u001b[0m\u001b[0;34m(\u001b[0m\u001b[0;34m)\u001b[0m\u001b[0;34m[\u001b[0m\u001b[0;36m2\u001b[0m\u001b[0;34m]\u001b[0m\u001b[0;34m\u001b[0m\u001b[0;34m\u001b[0m\u001b[0m\n\u001b[0m\u001b[1;32m      5\u001b[0m \u001b[0mstart\u001b[0m\u001b[0;34m.\u001b[0m\u001b[0mremove_existing_customers\u001b[0m\u001b[0;34m(\u001b[0m\u001b[0;34m)\u001b[0m\u001b[0;34m\u001b[0m\u001b[0;34m\u001b[0m\u001b[0m\n",
      "\u001b[0;32m/var/folders/08/6zrs8w253573k0k0yjq1w49c0000gn/T/ipykernel_25151/3181338838.py\u001b[0m in \u001b[0;36madd_new_customers\u001b[0;34m(self)\u001b[0m\n\u001b[1;32m     42\u001b[0m         \u001b[0mcustomer_new\u001b[0m \u001b[0;34m=\u001b[0m \u001b[0;34m[\u001b[0m\u001b[0;34m]\u001b[0m\u001b[0;34m\u001b[0m\u001b[0;34m\u001b[0m\u001b[0m\n\u001b[1;32m     43\u001b[0m         \u001b[0;32mfor\u001b[0m \u001b[0mnumber_cust_min\u001b[0m \u001b[0;32min\u001b[0m \u001b[0mrange\u001b[0m\u001b[0;34m(\u001b[0m\u001b[0;36m5\u001b[0m\u001b[0;34m)\u001b[0m\u001b[0;34m:\u001b[0m\u001b[0;34m\u001b[0m\u001b[0;34m\u001b[0m\u001b[0m\n\u001b[0;32m---> 44\u001b[0;31m             \u001b[0mcustomer_new\u001b[0m\u001b[0;34m[\u001b[0m\u001b[0mnumber_cust_min\u001b[0m\u001b[0;34m]\u001b[0m \u001b[0;34m=\u001b[0m \u001b[0mCustomer\u001b[0m\u001b[0;34m(\u001b[0m\u001b[0mself\u001b[0m\u001b[0;34m.\u001b[0m\u001b[0mfirst_id\u001b[0m\u001b[0;34m)\u001b[0m\u001b[0;34m\u001b[0m\u001b[0;34m\u001b[0m\u001b[0m\n\u001b[0m\u001b[1;32m     45\u001b[0m             \u001b[0mself\u001b[0m\u001b[0;34m.\u001b[0m\u001b[0mfirst_id\u001b[0m \u001b[0;34m+=\u001b[0m \u001b[0;36m1\u001b[0m\u001b[0;34m\u001b[0m\u001b[0;34m\u001b[0m\u001b[0m\n\u001b[1;32m     46\u001b[0m             \u001b[0mself\u001b[0m\u001b[0;34m.\u001b[0m\u001b[0mcustomers\u001b[0m\u001b[0;34m.\u001b[0m\u001b[0mappend\u001b[0m\u001b[0;34m(\u001b[0m\u001b[0mcustomer_new\u001b[0m\u001b[0;34m[\u001b[0m\u001b[0mnumber_cust_min\u001b[0m\u001b[0;34m]\u001b[0m\u001b[0;34m.\u001b[0m\u001b[0mcustomer_id\u001b[0m\u001b[0;34m)\u001b[0m\u001b[0;34m\u001b[0m\u001b[0;34m\u001b[0m\u001b[0m\n",
      "\u001b[0;31mIndexError\u001b[0m: list assignment index out of range"
     ]
    }
   ],
   "source": [
    "start = Supermarket()\n",
    "start.next_minute()\n",
    "start.get_time()\n",
    "start.add_new_customers()[2]\n",
    "start.remove_existing_customers()"
   ]
  },
  {
   "cell_type": "code",
   "execution_count": 33,
   "metadata": {},
   "outputs": [
    {
     "ename": "KeyboardInterrupt",
     "evalue": "",
     "output_type": "error",
     "traceback": [
      "\u001b[0;31m---------------------------------------------------------------------------\u001b[0m",
      "\u001b[0;31mKeyboardInterrupt\u001b[0m                         Traceback (most recent call last)",
      "\u001b[0;32m/var/folders/08/6zrs8w253573k0k0yjq1w49c0000gn/T/ipykernel_25151/2254094071.py\u001b[0m in \u001b[0;36m<module>\u001b[0;34m\u001b[0m\n\u001b[1;32m      3\u001b[0m \u001b[0mstart\u001b[0m \u001b[0;34m=\u001b[0m \u001b[0mSupermarket\u001b[0m\u001b[0;34m(\u001b[0m\u001b[0;34m)\u001b[0m\u001b[0;34m\u001b[0m\u001b[0;34m\u001b[0m\u001b[0m\n\u001b[1;32m      4\u001b[0m \u001b[0;32mwhile\u001b[0m \u001b[0mticktock\u001b[0m \u001b[0;34m<=\u001b[0m \u001b[0mclosing_time\u001b[0m\u001b[0;34m:\u001b[0m\u001b[0;34m\u001b[0m\u001b[0;34m\u001b[0m\u001b[0m\n\u001b[0;32m----> 5\u001b[0;31m     \u001b[0mstart\u001b[0m\u001b[0;34m.\u001b[0m\u001b[0mget_time\u001b[0m\u001b[0;34m(\u001b[0m\u001b[0;34m)\u001b[0m\u001b[0;34m\u001b[0m\u001b[0;34m\u001b[0m\u001b[0m\n\u001b[0m\u001b[1;32m      6\u001b[0m     \u001b[0;31m#start.add_new_customers()\u001b[0m\u001b[0;34m\u001b[0m\u001b[0;34m\u001b[0m\u001b[0;34m\u001b[0m\u001b[0m\n\u001b[1;32m      7\u001b[0m     \u001b[0;31m#start.remove_existing_customers()\u001b[0m\u001b[0;34m\u001b[0m\u001b[0;34m\u001b[0m\u001b[0;34m\u001b[0m\u001b[0m\n",
      "\u001b[0;32m/var/folders/08/6zrs8w253573k0k0yjq1w49c0000gn/T/ipykernel_25151/4280200740.py\u001b[0m in \u001b[0;36mget_time\u001b[0;34m(self)\u001b[0m\n\u001b[1;32m     15\u001b[0m         \"\"\"current time in HH:MM format,\n\u001b[1;32m     16\u001b[0m         \"\"\"\n\u001b[0;32m---> 17\u001b[0;31m         \u001b[0mself\u001b[0m\u001b[0;34m.\u001b[0m\u001b[0mclock\u001b[0m \u001b[0;34m=\u001b[0m \u001b[0mself\u001b[0m\u001b[0;34m.\u001b[0m\u001b[0mticktock\u001b[0m\u001b[0;34m.\u001b[0m\u001b[0mstrftime\u001b[0m\u001b[0;34m(\u001b[0m\u001b[0;34m'%H:%M'\u001b[0m\u001b[0;34m)\u001b[0m\u001b[0;34m\u001b[0m\u001b[0;34m\u001b[0m\u001b[0m\n\u001b[0m\u001b[1;32m     18\u001b[0m \u001b[0;34m\u001b[0m\u001b[0m\n\u001b[1;32m     19\u001b[0m         \u001b[0;32mreturn\u001b[0m \u001b[0mself\u001b[0m\u001b[0;34m.\u001b[0m\u001b[0mclock\u001b[0m\u001b[0;34m\u001b[0m\u001b[0;34m\u001b[0m\u001b[0m\n",
      "\u001b[0;31mKeyboardInterrupt\u001b[0m: "
     ]
    }
   ],
   "source": [
    "ticktock = datetime.datetime(2022,1,1,6,59)\n",
    "closing_time = datetime.datetime(2022,1,1,22,00)\n",
    "start = Supermarket()\n",
    "while ticktock <= closing_time:\n",
    "    start.get_time()\n",
    "    #start.add_new_customers()\n",
    "    #start.remove_existing_customers()\n",
    "\n"
   ]
  },
  {
   "cell_type": "code",
   "execution_count": null,
   "metadata": {},
   "outputs": [],
   "source": []
  }
 ],
 "metadata": {
  "interpreter": {
   "hash": "40d3a090f54c6569ab1632332b64b2c03c39dcf918b08424e98f38b5ae0af88f"
  },
  "kernelspec": {
   "display_name": "Python 3.7.11 ('base')",
   "language": "python",
   "name": "python3"
  },
  "language_info": {
   "codemirror_mode": {
    "name": "ipython",
    "version": 3
   },
   "file_extension": ".py",
   "mimetype": "text/x-python",
   "name": "python",
   "nbconvert_exporter": "python",
   "pygments_lexer": "ipython3",
   "version": "3.7.11"
  },
  "orig_nbformat": 4
 },
 "nbformat": 4,
 "nbformat_minor": 2
}
