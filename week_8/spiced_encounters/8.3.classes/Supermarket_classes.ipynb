{
 "cells": [
  {
   "cell_type": "code",
   "execution_count": 1,
   "metadata": {},
   "outputs": [],
   "source": [
    "# import the packages\n",
    "import pandas as pd\n",
    "import numpy as np\n",
    "import random\n",
    "import datetime"
   ]
  },
  {
   "cell_type": "code",
   "execution_count": 240,
   "metadata": {},
   "outputs": [],
   "source": [
    "departments = [0,1,2,3,4]#['checkout','dairy', 'drinks',  'fruit', 'spices']\n",
    "departments_names = ['checkout','dairy', 'drinks',  'fruit', 'spices']\n",
    "distribution = [0,0.288,0.154,0.377,0.182]\n",
    "TRANSITION_MATRIX = [[1,0,0,0,0]\n",
    "                ,[0.392389,\t0.000000,\t0.222318,\t0.189852,\t0.195442]\n",
    "                ,[0.538956,\t0.027256,\t0.000000,\t0.217794,\t0.215994]\n",
    "                ,[0.500784,\t0.236966,\t0.136417,\t0.000000,\t0.125833]\n",
    "                ,[0.251672,\t0.323616,\t0.272800,\t0.151912,\t0.000000]\n",
    "                ] \n",
    "\n",
    "class Customer:\n",
    "    '''\n",
    "    The class Customer is a blueprint for a supermarket customer.\n",
    "    \n",
    "    Parameter\n",
    "    -------\n",
    "    '''\n",
    "    \n",
    "\n",
    "    def __init__(self, name, state = True):\n",
    "        self.customer_id = name\n",
    "        self.state_customer = state\n",
    "\n",
    "    def starting_alley(self,location= departments, weights = distribution):\n",
    "        self.starting_point = random.choices(location, weights , k=1)[0]\n",
    "        self.location = departments_names[self.starting_point]\n",
    "        return self.location\n",
    "\n",
    "\n",
    "    def next_state(self,location= departments,TRANSITION_MATRIX_list = TRANSITION_MATRIX):\n",
    "        '''\n",
    "        Propagates the customer to the next state.\n",
    "        Returns nothing.\n",
    "        '''\n",
    "        self.next_dep = random.choices(location, weights=TRANSITION_MATRIX_list[self.starting_point])[0]\n",
    "        self.location = departments_names[self.next_dep]\n",
    "        return self.location\n",
    "\n",
    "\n",
    "\n"
   ]
  },
  {
   "cell_type": "code",
   "execution_count": 241,
   "metadata": {},
   "outputs": [
    {
     "data": {
      "text/plain": [
       "'checkout'"
      ]
     },
     "execution_count": 241,
     "metadata": {},
     "output_type": "execute_result"
    }
   ],
   "source": [
    "c = Customer(1)\n",
    "c.customer_id\n",
    "c.starting_alley()\n",
    "c.next_state()"
   ]
  },
  {
   "cell_type": "code",
   "execution_count": 234,
   "metadata": {},
   "outputs": [],
   "source": [
    "class Supermarket:\n",
    "    \"\"\"manages multiple Customer instances that are currently in the market.\n",
    "    \"\"\"\n",
    "    def __init__(self):        \n",
    "        # a list of Customer objects\n",
    "        self.customers = []\n",
    "        self.location = []\n",
    "        self.next_alley = []\n",
    "        self.first_id = 1\n",
    "        self.ticktock = datetime.datetime(2022,1,1,7,00)\n",
    "        self.closing_time = datetime.datetime(2022,1,1,22,00)\n",
    "    \n",
    "\n",
    "\n",
    "    def get_time(self):\n",
    "        \"\"\"current time in HH:MM format,\n",
    "        \"\"\"\n",
    "        self.clock = self.ticktock.strftime('%H:%M')\n",
    "        return self.clock\n",
    "\n",
    "    def print_customers(self):\n",
    "        \"\"\"print all customers with the current time and id in CSV format.\n",
    "        \"\"\"\n",
    "        for i in range(len(self.customers)):\n",
    "            print(f'At {self.get_time()} the customer {self.customers[i]} is in the {self.location[i]}.')\n",
    "\n",
    "    def add_new_customers(self):\n",
    "        \"\"\"randomly creates new customers.\n",
    "        \"\"\"\n",
    "        rand_numb = np.random.randint(10)\n",
    "        number = 0\n",
    "        while number<=rand_numb:\n",
    "            customer_new = Customer(self.first_id)\n",
    "            self.customers.append(customer_new.customer_id)\n",
    "            self.first_id += 1\n",
    "            number += 1\n",
    "            self.location.append(customer_new.starting_alley())\n",
    "            self.next_alley.append(customer_new.next_state())\n",
    "            self.state.append(customer_new.activ())\n",
    "        \n",
    "        return self.customers, self.location, self.next_alley, self.state\n",
    "\n",
    "\n",
    "    def next_minute(self):\n",
    "        \"\"\"propagates all customers to the next state.\n",
    "        \"\"\"\n",
    "        self.ticktock += datetime.timedelta(0,0,0,0,1) # time in minutes\n",
    "        self.location = self.next_alley\n",
    "        self.remove_existing_customers()\n",
    "        return self.ticktock, self.next_alley\n",
    "\n",
    "\n",
    "    def remove_existing_customers(self):\n",
    "        \"\"\"removes every customer that is not active any more.\n",
    "        \"\"\"\n",
    "        for c in self.location:\n",
    "            print(c)\n",
    "            # if c == 'checkout':\n",
    "            #     self.customers.remove(loci[])\n",
    "\n",
    "            \n",
    "\n",
    "    #def __repr__(self):\n",
    "        \n",
    "        #return f'The customer {self.customers} is in the {self.location()} department at \"{self.timer()}\".'\n"
   ]
  },
  {
   "cell_type": "code",
   "execution_count": 239,
   "metadata": {},
   "outputs": [
    {
     "name": "stdout",
     "output_type": "stream",
     "text": [
      "At 07:00 the customer 1 is in the spices.\n",
      "At 07:00 the customer 2 is in the fruit.\n",
      "At 07:00 the customer 3 is in the drinks.\n",
      "At 07:00 the customer 4 is in the dairy.\n",
      "At 07:00 the customer 5 is in the dairy.\n",
      "At 07:00 the customer 6 is in the dairy.\n",
      "At 07:00 the customer 7 is in the drinks.\n",
      "At 07:00 the customer 8 is in the spices.\n",
      "At 07:00 the customer 9 is in the fruit.\n"
     ]
    }
   ],
   "source": [
    "start = Supermarket()\n",
    "start.get_time()\n",
    "start.add_new_customers()\n",
    "start.print_customers()\n",
    "start.remove_existing_customers()\n",
    "#start.next_minute()\n"
   ]
  },
  {
   "cell_type": "code",
   "execution_count": 186,
   "metadata": {},
   "outputs": [],
   "source": [
    "# ticktock = datetime.datetime(2022,1,1,6,59)\n",
    "# closing_time = datetime.datetime(2022,1,1,22,00)\n",
    "# start = Supermarket()\n",
    "# while ticktock <= closing_time:\n",
    "#     start.get_time()\n",
    "    #start.add_new_customers()\n",
    "    #start.remove_existing_customers()\n",
    "\n"
   ]
  },
  {
   "cell_type": "code",
   "execution_count": null,
   "metadata": {},
   "outputs": [],
   "source": []
  }
 ],
 "metadata": {
  "interpreter": {
   "hash": "40d3a090f54c6569ab1632332b64b2c03c39dcf918b08424e98f38b5ae0af88f"
  },
  "kernelspec": {
   "display_name": "Python 3.7.11 ('base')",
   "language": "python",
   "name": "python3"
  },
  "language_info": {
   "codemirror_mode": {
    "name": "ipython",
    "version": 3
   },
   "file_extension": ".py",
   "mimetype": "text/x-python",
   "name": "python",
   "nbconvert_exporter": "python",
   "pygments_lexer": "ipython3",
   "version": "3.7.11"
  },
  "orig_nbformat": 4
 },
 "nbformat": 4,
 "nbformat_minor": 2
}
