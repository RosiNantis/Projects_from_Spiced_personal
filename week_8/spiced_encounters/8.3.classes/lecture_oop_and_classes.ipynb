{
 "cells": [
  {
   "cell_type": "markdown",
   "source": [
    "# 1) Object Oriented Programming (OOP)\n",
    "\n",
    "**Programming paradigm** based on the concept of **objects**:\n",
    "> Programs are designed by making them out of objects that interct with each other\n",
    "\n",
    "\n",
    "## Objects\n",
    "\n",
    "1. Objects represent (tangible) **real world objects** (or concepts).\n",
    "2. Objects can **contain data** (They are called _attributes_ in Python). The attributes are used to describe the state of an object.\n",
    "3. Objects can **contain functions** (They are called _methods_ in Python). The methods are used to alter the state of the object or let the object do something.\n",
    "\n"
   ],
   "metadata": {}
  },
  {
   "cell_type": "markdown",
   "source": [
    "- Player (8 different players)\n",
    "> Attributes: Name, Stack Size, Bet, Cards, Playing Style, ...<br>\n",
    "> Methods: Fold, Check, Call, Raise\n",
    "\n",
    "- Card (52 cards)\n",
    "> Attributes: Face, Suit<br>\n",
    "> Methods: -\n",
    "\n",
    "- Game (1 Game)\n",
    "> Attributes: Nr. of Players, Limit, Small Blind, Position of Dealer Button, ...<br>\n",
    "> Methods: Deal Cards, Betting round, Evaluate Hands, ...\n",
    "\n",
    "\n",
    "#### How would we implement them in Python?"
   ],
   "metadata": {}
  },
  {
   "cell_type": "markdown",
   "source": [
    "# 2) Classes\n",
    "\n",
    "A class defines the data formats (attributes) and available procedures (methods) for a given class of objects.\n",
    "\n",
    "## Classes vs. Objects\n",
    "\n",
    "The concept of a player in poker is a class, the 8 tangible players are objects. Classes are blueprints of objects.\n",
    "\n",
    "## Class Syntax in Python\n",
    "\n",
    "#### Let us create the class Player"
   ],
   "metadata": {}
  },
  {
   "cell_type": "code",
   "execution_count": 1,
   "source": [
    "class Player:\n",
    "    pass"
   ],
   "outputs": [],
   "metadata": {}
  },
  {
   "cell_type": "markdown",
   "source": [
    "#### Instanciate the class"
   ],
   "metadata": {}
  },
  {
   "cell_type": "code",
   "execution_count": 2,
   "source": [
    "Edwin = Player()"
   ],
   "outputs": [],
   "metadata": {}
  },
  {
   "cell_type": "code",
   "execution_count": 3,
   "source": [
    "Edwin"
   ],
   "outputs": [
    {
     "output_type": "execute_result",
     "data": {
      "text/plain": [
       "<__main__.Player at 0x7f8ec979f730>"
      ]
     },
     "metadata": {},
     "execution_count": 3
    }
   ],
   "metadata": {}
  },
  {
   "cell_type": "markdown",
   "source": [
    "#### Include a docstring\n",
    "\n",
    "It is good practice to include the docstring as documentation in a class (or a function, method)"
   ],
   "metadata": {}
  },
  {
   "cell_type": "code",
   "execution_count": 4,
   "source": [
    "class Player:\n",
    "    '''\n",
    "    The class Player is ablueprint for a poker player.\n",
    "    '''\n",
    "    pass"
   ],
   "outputs": [],
   "metadata": {}
  },
  {
   "cell_type": "code",
   "execution_count": 5,
   "source": [
    "Edwin = Player()"
   ],
   "outputs": [],
   "metadata": {}
  },
  {
   "cell_type": "markdown",
   "source": [
    "#### Write the constructor\n",
    "\n",
    "every class has an constructor `__init__()` where the attributest of the class are defined."
   ],
   "metadata": {}
  },
  {
   "cell_type": "code",
   "execution_count": 6,
   "source": [
    "class Player:\n",
    "    '''\n",
    "    The class Player is ablueprint for a poker player.\n",
    "    '''\n",
    "    \n",
    "    def __init__(self, name, stack_size=1000):\n",
    "        self.name = name\n",
    "        self.stack_size = stack_size"
   ],
   "outputs": [],
   "metadata": {}
  },
  {
   "cell_type": "code",
   "execution_count": 7,
   "source": [
    "player1 = Player('Edwin')"
   ],
   "outputs": [],
   "metadata": {}
  },
  {
   "cell_type": "code",
   "execution_count": 8,
   "source": [
    "player1.name"
   ],
   "outputs": [
    {
     "output_type": "execute_result",
     "data": {
      "text/plain": [
       "'Edwin'"
      ]
     },
     "metadata": {},
     "execution_count": 8
    }
   ],
   "metadata": {}
  },
  {
   "cell_type": "code",
   "execution_count": 9,
   "source": [
    "player2 = Player('Charles', 1000)"
   ],
   "outputs": [],
   "metadata": {}
  },
  {
   "cell_type": "code",
   "execution_count": 10,
   "source": [
    "player2.name"
   ],
   "outputs": [
    {
     "output_type": "execute_result",
     "data": {
      "text/plain": [
       "'Charles'"
      ]
     },
     "metadata": {},
     "execution_count": 10
    }
   ],
   "metadata": {}
  },
  {
   "cell_type": "markdown",
   "source": [
    "#### Give the class attributes and methods"
   ],
   "metadata": {}
  },
  {
   "cell_type": "code",
   "execution_count": 11,
   "source": [
    "class Player:\n",
    "    '''\n",
    "    The class Player is ablueprint for a poker player.\n",
    "    \n",
    "    Parameter\n",
    "    -------\n",
    "    \n",
    "    name: Name of the player\n",
    "    stack_size: Amount of chips the player currently has\n",
    "    '''\n",
    "    \n",
    "    def __init__(self, name, stack_size=1000):\n",
    "        self.name = name\n",
    "        self.stack_size = stack_size\n",
    "        self.current_bet = 0\n",
    "\n",
    "    def raise_bet(self, value):\n",
    "        self.current_bet += value\n",
    "        self.stack_size -= value\n",
    "        \n",
    "    def __repr__(self):\n",
    "        return f'Player {self.name} is betting {self.current_bet} and his stack size is {self.stack_size}'"
   ],
   "outputs": [],
   "metadata": {}
  },
  {
   "cell_type": "code",
   "execution_count": 12,
   "source": [
    "player1 = Player('Edwin')"
   ],
   "outputs": [],
   "metadata": {}
  },
  {
   "cell_type": "code",
   "execution_count": 13,
   "source": [
    "print(player1)"
   ],
   "outputs": [
    {
     "output_type": "stream",
     "name": "stdout",
     "text": [
      "Player Edwin is betting 0 and his stack size is 1000\n"
     ]
    }
   ],
   "metadata": {}
  },
  {
   "cell_type": "code",
   "execution_count": 14,
   "source": [
    "player1.name, player1.stack_size, player1.current_bet"
   ],
   "outputs": [
    {
     "output_type": "execute_result",
     "data": {
      "text/plain": [
       "('Edwin', 1000, 0)"
      ]
     },
     "metadata": {},
     "execution_count": 14
    }
   ],
   "metadata": {}
  },
  {
   "cell_type": "code",
   "execution_count": 15,
   "source": [
    "player1.raise_bet(200)"
   ],
   "outputs": [],
   "metadata": {}
  },
  {
   "cell_type": "code",
   "execution_count": 16,
   "source": [
    "player1.name, player1.stack_size, player1.current_bet"
   ],
   "outputs": [
    {
     "output_type": "execute_result",
     "data": {
      "text/plain": [
       "('Edwin', 800, 200)"
      ]
     },
     "metadata": {},
     "execution_count": 16
    }
   ],
   "metadata": {}
  },
  {
   "cell_type": "markdown",
   "source": [
    "### Class attributes and class methods\n",
    "\n",
    "- attributes: buy-in and limit (fixed buy-in)\n",
    "- method: set_limit (fixed limit)"
   ],
   "metadata": {}
  },
  {
   "cell_type": "code",
   "execution_count": 82,
   "source": [
    "class Player:\n",
    "    '''\n",
    "    The class Player is ablueprint for a poker player.\n",
    "    \n",
    "    Parameter\n",
    "    -------\n",
    "    \n",
    "    name: Name of the player\n",
    "    stack_size: Amount of chips the player currently has\n",
    "    '''\n",
    "    \n",
    "    buy_in = 1000\n",
    "    limit = 100\n",
    "    \n",
    "    def __init__(self, name):\n",
    "        self.name = name\n",
    "        self.stack_size = self.buy_in\n",
    "        self.current_bet = 0\n",
    "\n",
    "    def raise_bet(self):\n",
    "        self.current_bet += limit\n",
    "        self.stack_size -= limit\n",
    "    \n",
    "    @classmethod\n",
    "    def increase_limit(cls, increase):\n",
    "        cls.limit = cls.limit + increase\n",
    "        \n",
    "    def __repr__(self):\n",
    "        return f'Player {self.name} is betting {self.current_bet} and his stack size is {self.stack_size}'"
   ],
   "outputs": [],
   "metadata": {}
  },
  {
   "cell_type": "code",
   "execution_count": 83,
   "source": [
    "player1 = Player('Edwin')"
   ],
   "outputs": [],
   "metadata": {}
  },
  {
   "cell_type": "code",
   "execution_count": 84,
   "source": [
    "player2 = Player('Charles')"
   ],
   "outputs": [],
   "metadata": {}
  },
  {
   "cell_type": "code",
   "execution_count": 85,
   "source": [
    "Player.increase_limit(100)"
   ],
   "outputs": [],
   "metadata": {}
  },
  {
   "cell_type": "code",
   "execution_count": 86,
   "source": [
    "player1.limit"
   ],
   "outputs": [
    {
     "output_type": "execute_result",
     "data": {
      "text/plain": [
       "200"
      ]
     },
     "metadata": {},
     "execution_count": 86
    }
   ],
   "metadata": {}
  },
  {
   "cell_type": "code",
   "execution_count": 87,
   "source": [
    "player2.limit"
   ],
   "outputs": [
    {
     "output_type": "execute_result",
     "data": {
      "text/plain": [
       "200"
      ]
     },
     "metadata": {},
     "execution_count": 87
    }
   ],
   "metadata": {}
  },
  {
   "cell_type": "code",
   "execution_count": 88,
   "source": [
    "player2.buy_in, player1.buy_in"
   ],
   "outputs": [
    {
     "output_type": "execute_result",
     "data": {
      "text/plain": [
       "(1000, 1000)"
      ]
     },
     "metadata": {},
     "execution_count": 88
    }
   ],
   "metadata": {}
  },
  {
   "cell_type": "markdown",
   "source": [
    "### Global variables\n",
    "\n"
   ],
   "metadata": {}
  },
  {
   "cell_type": "code",
   "execution_count": 95,
   "source": [
    "GLOBAL = 5\n",
    "\n",
    "class Player:\n",
    "    '''\n",
    "    The class Player is ablueprint for a poker player.\n",
    "    \n",
    "    Parameter\n",
    "    -------\n",
    "    \n",
    "    name: Name of the player\n",
    "    stack_size: Amount of chips the player currently has\n",
    "    '''\n",
    "    \n",
    "    buy_in = 1000\n",
    "    limit = 100\n",
    "    \n",
    "    def __init__(self, name):\n",
    "        self.name = name\n",
    "        self.stack_size = self.buy_in\n",
    "        self.current_bet = 0\n",
    "\n",
    "    def raise_bet(self):\n",
    "        self.current_bet += self.limit\n",
    "        self.stack_size -= self.limit\n",
    "        return self.current_bet\n",
    "    \n",
    "    @classmethod\n",
    "    def increase_limit(cls, increase):\n",
    "        cls.limit = cls.limit + increase\n",
    "        \n",
    "        \n",
    "    def __repr__(self):\n",
    "        return f'Player {self.name} is betting {self.current_bet} and his stack size is {self.stack_size}'"
   ],
   "outputs": [],
   "metadata": {}
  },
  {
   "cell_type": "code",
   "execution_count": 96,
   "source": [
    "player1 = Player('Edwin')"
   ],
   "outputs": [],
   "metadata": {}
  },
  {
   "cell_type": "code",
   "execution_count": 97,
   "source": [
    "GLOBAL = player1.raise_bet()"
   ],
   "outputs": [],
   "metadata": {}
  },
  {
   "cell_type": "code",
   "execution_count": 98,
   "source": [
    "GLOBAL"
   ],
   "outputs": [
    {
     "output_type": "execute_result",
     "data": {
      "text/plain": [
       "100"
      ]
     },
     "metadata": {},
     "execution_count": 98
    }
   ],
   "metadata": {}
  },
  {
   "cell_type": "code",
   "execution_count": 99,
   "source": [
    "player1.stack_size = 5000000000"
   ],
   "outputs": [],
   "metadata": {}
  },
  {
   "cell_type": "code",
   "execution_count": 100,
   "source": [
    "player1.stack_size"
   ],
   "outputs": [
    {
     "output_type": "execute_result",
     "data": {
      "text/plain": [
       "5000000000"
      ]
     },
     "metadata": {},
     "execution_count": 100
    }
   ],
   "metadata": {}
  },
  {
   "cell_type": "markdown",
   "source": [
    "### \"Private\" attributes\n",
    "\n",
    "Attributes and methods can be privatized by using `_` (one underscore) in front of the attribute or method name. However, this is just a convention. The attributes can still be accessed and set from the outside.\n",
    "\n",
    "`__` in front of an attribute or method name underscores lead to the attribute or method not being accessible under `object_name.__attribute_name`. This concept is actually used for protecting attributes from being overwritten by subclass attributes (related to the concept of inheritance) and not for privacy."
   ],
   "metadata": {}
  },
  {
   "cell_type": "code",
   "execution_count": 89,
   "source": [
    "GLOBAL = 5\n",
    "\n",
    "class Player:\n",
    "    '''\n",
    "    The class Player is ablueprint for a poker player.\n",
    "    \n",
    "    Parameter\n",
    "    -------\n",
    "    \n",
    "    name: Name of the player\n",
    "    stack_size: Amount of chips the player currently has\n",
    "    '''\n",
    "    \n",
    "    buy_in = 1000\n",
    "    limit = 100\n",
    "    \n",
    "    def __init__(self, name):\n",
    "        self.name = name\n",
    "        self.__stack_size = self.buy_in\n",
    "        self.current_bet = 0\n",
    "\n",
    "    def raise_bet(self):\n",
    "        self.current_bet += self.limit\n",
    "        self.__stack_size -= self.limit\n",
    "        return self.current_bet\n",
    "    \n",
    "    def get_stack_size(self):\n",
    "        print(self.__stack_size)\n",
    "    \n",
    "    @classmethod\n",
    "    def increase_limit(cls, increase):\n",
    "        cls.limit = cls.limit + increase\n",
    "        \n",
    "    def __repr__(self):\n",
    "        return f'Player {self.name} is betting {self.current_bet} and his stack size is {self.__stack_size}'"
   ],
   "outputs": [],
   "metadata": {}
  },
  {
   "cell_type": "code",
   "execution_count": 90,
   "source": [
    "player1 = Player('Edwin')"
   ],
   "outputs": [],
   "metadata": {}
  },
  {
   "cell_type": "code",
   "execution_count": 91,
   "source": [
    "player1.get_stack_size()"
   ],
   "outputs": [
    {
     "output_type": "stream",
     "name": "stdout",
     "text": [
      "1000\n"
     ]
    }
   ],
   "metadata": {}
  },
  {
   "cell_type": "code",
   "execution_count": 92,
   "source": [
    "player1.__stack_size = 50000000"
   ],
   "outputs": [],
   "metadata": {}
  },
  {
   "cell_type": "code",
   "execution_count": 93,
   "source": [
    "player1._Player__stack_size# = 500000000"
   ],
   "outputs": [
    {
     "output_type": "execute_result",
     "data": {
      "text/plain": [
       "1000"
      ]
     },
     "metadata": {},
     "execution_count": 93
    }
   ],
   "metadata": {}
  },
  {
   "cell_type": "markdown",
   "source": [
    "## When and why to use Classes?\n",
    "\n",
    "- Rule of thumb: Using classes starts payong off if you have more than 300-500 lines of code\n",
    "- **Classes are flexible, reproducible and increase readability of the code**"
   ],
   "metadata": {}
  },
  {
   "cell_type": "markdown",
   "source": [
    "## When have you seen or worked with classes before?"
   ],
   "metadata": {}
  },
  {
   "cell_type": "code",
   "execution_count": 59,
   "source": [
    "import pandas as pd"
   ],
   "outputs": [],
   "metadata": {}
  },
  {
   "cell_type": "code",
   "execution_count": 60,
   "source": [
    "df = pd.DataFrame()"
   ],
   "outputs": [],
   "metadata": {}
  },
  {
   "cell_type": "code",
   "execution_count": 61,
   "source": [
    "from sklearn.linear_model import LinearRegression"
   ],
   "outputs": [],
   "metadata": {}
  },
  {
   "cell_type": "code",
   "execution_count": 62,
   "source": [
    "m = LinearRegression()"
   ],
   "outputs": [],
   "metadata": {}
  },
  {
   "cell_type": "markdown",
   "source": [
    "### How do classes talk to each other"
   ],
   "metadata": {}
  },
  {
   "cell_type": "code",
   "execution_count": 66,
   "source": [
    "class Game:\n",
    "    '''\n",
    "    ...\n",
    "    '''\n",
    "    \n",
    "    def __init__(self, nr_of_players):\n",
    "        self.players = [Player(i+1) for i in range(nr_of_players)]\n",
    "    \n",
    "    def betting_round(self):\n",
    "        for player in self.players:\n",
    "            player.raise_bet()"
   ],
   "outputs": [],
   "metadata": {}
  },
  {
   "cell_type": "code",
   "execution_count": 67,
   "source": [
    "g = Game(6)"
   ],
   "outputs": [],
   "metadata": {}
  },
  {
   "cell_type": "code",
   "execution_count": 68,
   "source": [
    "g.players"
   ],
   "outputs": [
    {
     "output_type": "execute_result",
     "data": {
      "text/plain": [
       "[Player 1 is betting 0 and his stack size is 1000,\n",
       " Player 2 is betting 0 and his stack size is 1000,\n",
       " Player 3 is betting 0 and his stack size is 1000,\n",
       " Player 4 is betting 0 and his stack size is 1000,\n",
       " Player 5 is betting 0 and his stack size is 1000,\n",
       " Player 6 is betting 0 and his stack size is 1000]"
      ]
     },
     "metadata": {},
     "execution_count": 68
    }
   ],
   "metadata": {}
  },
  {
   "cell_type": "code",
   "execution_count": 69,
   "source": [
    "g.betting_round()"
   ],
   "outputs": [],
   "metadata": {}
  },
  {
   "cell_type": "code",
   "execution_count": 70,
   "source": [
    "g.players"
   ],
   "outputs": [
    {
     "output_type": "execute_result",
     "data": {
      "text/plain": [
       "[Player 1 is betting 100 and his stack size is 900,\n",
       " Player 2 is betting 100 and his stack size is 900,\n",
       " Player 3 is betting 100 and his stack size is 900,\n",
       " Player 4 is betting 100 and his stack size is 900,\n",
       " Player 5 is betting 100 and his stack size is 900,\n",
       " Player 6 is betting 100 and his stack size is 900]"
      ]
     },
     "metadata": {},
     "execution_count": 70
    }
   ],
   "metadata": {}
  },
  {
   "cell_type": "code",
   "execution_count": null,
   "source": [],
   "outputs": [],
   "metadata": {}
  }
 ],
 "metadata": {
  "kernelspec": {
   "name": "python3",
   "display_name": "Python 3.8.8 64-bit ('base': conda)"
  },
  "language_info": {
   "codemirror_mode": {
    "name": "ipython",
    "version": 3
   },
   "file_extension": ".py",
   "mimetype": "text/x-python",
   "name": "python",
   "nbconvert_exporter": "python",
   "pygments_lexer": "ipython3",
   "version": "3.8.8"
  },
  "interpreter": {
   "hash": "dca0ade3e726a953b501b15e8e990130d2b7799f14cfd9f4271676035ebe5511"
  }
 },
 "nbformat": 4,
 "nbformat_minor": 2
}