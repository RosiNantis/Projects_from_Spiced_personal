{
 "cells": [
  {
   "cell_type": "markdown",
   "metadata": {},
   "source": [
    "# 1) Object Oriented Programming (OOP)\n",
    "\n",
    "**Programming paradigm** based on the concept of **objects**:\n",
    "> Programs are designed by making them out of objects that interct with each other\n",
    "\n",
    "\n",
    "## Objects\n",
    "\n",
    "1. Objects represent (tangible) **real world objects** (or concepts).\n",
    "2. Objects can **contain data** (They are called _attributes_ in Python). The attributes are used to describe the state of an object.\n",
    "3. Objects can **contain functions** (They are called _methods_ in Python). The methods are used to alter the state of the object or let the object do something.\n",
    "\n"
   ]
  },
  {
   "cell_type": "markdown",
   "metadata": {},
   "source": [
    "- Player (8 different players)\n",
    "> Attributes: Name, Stack Size, Bet, Cards, Playing Style, ...<br>\n",
    "> Methods: Fold, Check, Call, Raise\n",
    "\n",
    "- Card (52 cards)\n",
    "> Attributes: Face, Suit<br>\n",
    "> Methods: -\n",
    "\n",
    "- Game (1 Game)\n",
    "> Attributes: Nr. of Players, Limit, Small Blind, Position of Dealer Button, ...<br>\n",
    "> Methods: Deal Cards, Betting round, Evaluate Hands, ...\n",
    "\n",
    "\n",
    "#### How would we implement them in Python?"
   ]
  },
  {
   "cell_type": "markdown",
   "metadata": {},
   "source": [
    "# 2) Classes\n",
    "\n",
    "A class defines the data formats (attributes) and available procedures (methods) for a given class of objects.\n",
    "\n",
    "## Classes vs. Objects\n",
    "\n",
    "The concept of a player in poker is a class, the 8 tangible players are objects. Classes are blueprints of objects.\n",
    "\n",
    "## Class Syntax in Python\n",
    "\n",
    "#### Let us create the class Player"
   ]
  },
  {
   "cell_type": "code",
   "execution_count": 1,
   "metadata": {},
   "outputs": [],
   "source": [
    "class Player:\n",
    "    pass"
   ]
  },
  {
   "cell_type": "markdown",
   "metadata": {},
   "source": [
    "#### Instanciate the class"
   ]
  },
  {
   "cell_type": "code",
   "execution_count": 2,
   "metadata": {},
   "outputs": [],
   "source": [
    "Edwin = Player()"
   ]
  },
  {
   "cell_type": "code",
   "execution_count": 3,
   "metadata": {},
   "outputs": [
    {
     "data": {
      "text/plain": [
       "<__main__.Player at 0x7fb2482b7ad0>"
      ]
     },
     "execution_count": 3,
     "metadata": {},
     "output_type": "execute_result"
    }
   ],
   "source": [
    "Edwin"
   ]
  },
  {
   "cell_type": "markdown",
   "metadata": {},
   "source": [
    "#### Include a docstring\n",
    "\n",
    "It is good practice to include the docstring as documentation in a class (or a function, method)"
   ]
  },
  {
   "cell_type": "code",
   "execution_count": 4,
   "metadata": {},
   "outputs": [],
   "source": [
    "class Player:\n",
    "    '''\n",
    "    The class Player is a blueprint for a poker player.\n",
    "    '''\n",
    "    pass"
   ]
  },
  {
   "cell_type": "code",
   "execution_count": 5,
   "metadata": {},
   "outputs": [],
   "source": [
    "Edwin = Player()"
   ]
  },
  {
   "cell_type": "markdown",
   "metadata": {},
   "source": [
    "#### Write the constructor\n",
    "\n",
    "every class has an constructor `__init__()` where the attributest of the class are defined."
   ]
  },
  {
   "cell_type": "code",
   "execution_count": 6,
   "metadata": {},
   "outputs": [],
   "source": [
    "class Player:\n",
    "    '''\n",
    "    The class Player is ablueprint for a poker player.\n",
    "    '''\n",
    "    \n",
    "    def __init__(self, name, stack_size=1000):\n",
    "        self.name = name\n",
    "        self.stack_size = stack_size"
   ]
  },
  {
   "cell_type": "code",
   "execution_count": 7,
   "metadata": {},
   "outputs": [],
   "source": [
    "player1 = Player('Edwin')"
   ]
  },
  {
   "cell_type": "code",
   "execution_count": 8,
   "metadata": {},
   "outputs": [
    {
     "data": {
      "text/plain": [
       "'Edwin'"
      ]
     },
     "execution_count": 8,
     "metadata": {},
     "output_type": "execute_result"
    }
   ],
   "source": [
    "player1.name"
   ]
  },
  {
   "cell_type": "code",
   "execution_count": 9,
   "metadata": {},
   "outputs": [],
   "source": [
    "player2 = Player('Charles', 1000)"
   ]
  },
  {
   "cell_type": "code",
   "execution_count": 10,
   "metadata": {},
   "outputs": [
    {
     "data": {
      "text/plain": [
       "'Charles'"
      ]
     },
     "execution_count": 10,
     "metadata": {},
     "output_type": "execute_result"
    }
   ],
   "source": [
    "player2.name"
   ]
  },
  {
   "cell_type": "markdown",
   "metadata": {},
   "source": [
    "#### Give the class attributes and methods"
   ]
  },
  {
   "cell_type": "code",
   "execution_count": 11,
   "metadata": {},
   "outputs": [],
   "source": [
    "class Player:\n",
    "    '''\n",
    "    The class Player is ablueprint for a poker player.\n",
    "    \n",
    "    Parameter\n",
    "    -------\n",
    "    \n",
    "    name: Name of the player\n",
    "    stack_size: Amount of chips the player currently has\n",
    "    '''\n",
    "    \n",
    "    def __init__(self, name, stack_size=1000):\n",
    "        self.name = name\n",
    "        self.stack_size = stack_size\n",
    "        self.current_bet = 0\n",
    "\n",
    "    def raise_bet(self, value):\n",
    "        self.current_bet += value\n",
    "        self.stack_size -= value\n",
    "        \n",
    "    def __repr__(self):\n",
    "        return f'Player {self.name} is betting {self.current_bet} and his stack size is {self.stack_size}'"
   ]
  },
  {
   "cell_type": "code",
   "execution_count": 12,
   "metadata": {},
   "outputs": [],
   "source": [
    "player1 = Player('Edwin')"
   ]
  },
  {
   "cell_type": "code",
   "execution_count": 13,
   "metadata": {},
   "outputs": [
    {
     "name": "stdout",
     "output_type": "stream",
     "text": [
      "Player Edwin is betting 0 and his stack size is 1000\n"
     ]
    }
   ],
   "source": [
    "print(player1)"
   ]
  },
  {
   "cell_type": "code",
   "execution_count": 14,
   "metadata": {},
   "outputs": [
    {
     "data": {
      "text/plain": [
       "('Edwin', 1000, 0)"
      ]
     },
     "execution_count": 14,
     "metadata": {},
     "output_type": "execute_result"
    }
   ],
   "source": [
    "player1.name, player1.stack_size, player1.current_bet"
   ]
  },
  {
   "cell_type": "code",
   "execution_count": 15,
   "metadata": {},
   "outputs": [],
   "source": [
    "player1.raise_bet(200)"
   ]
  },
  {
   "cell_type": "code",
   "execution_count": 16,
   "metadata": {},
   "outputs": [
    {
     "data": {
      "text/plain": [
       "('Edwin', 800, 200)"
      ]
     },
     "execution_count": 16,
     "metadata": {},
     "output_type": "execute_result"
    }
   ],
   "source": [
    "player1.name, player1.stack_size, player1.current_bet"
   ]
  },
  {
   "cell_type": "markdown",
   "metadata": {},
   "source": [
    "### Class attributes and class methods\n",
    "\n",
    "- attributes: buy-in and limit (fixed buy-in)\n",
    "- method: set_limit (fixed limit)"
   ]
  },
  {
   "cell_type": "code",
   "execution_count": 17,
   "metadata": {},
   "outputs": [],
   "source": [
    "class Player:\n",
    "    '''\n",
    "    The class Player is ablueprint for a poker player.\n",
    "    \n",
    "    Parameter\n",
    "    -------\n",
    "    \n",
    "    name: Name of the player\n",
    "    stack_size: Amount of chips the player currently has\n",
    "    '''\n",
    "    \n",
    "    buy_in = 1000\n",
    "    limit = 100\n",
    "    \n",
    "    def __init__(self, name):\n",
    "        self.name = name\n",
    "        self.stack_size = self.buy_in\n",
    "        self.current_bet = 0\n",
    "\n",
    "    def raise_bet(self):\n",
    "        self.current_bet += limit\n",
    "        self.stack_size -= limit\n",
    "    \n",
    "    @classmethod\n",
    "    def increase_limit(cls, increase):\n",
    "        cls.limit = cls.limit + increase\n",
    "        \n",
    "    def __repr__(self):\n",
    "        return f'Player {self.name} is betting {self.current_bet} and his stack size is {self.stack_size}'"
   ]
  },
  {
   "cell_type": "code",
   "execution_count": 18,
   "metadata": {},
   "outputs": [],
   "source": [
    "player1 = Player('Edwin')"
   ]
  },
  {
   "cell_type": "code",
   "execution_count": 19,
   "metadata": {},
   "outputs": [],
   "source": [
    "player2 = Player('Charles')"
   ]
  },
  {
   "cell_type": "code",
   "execution_count": 20,
   "metadata": {},
   "outputs": [],
   "source": [
    "Player.increase_limit(100)"
   ]
  },
  {
   "cell_type": "code",
   "execution_count": 21,
   "metadata": {},
   "outputs": [
    {
     "data": {
      "text/plain": [
       "200"
      ]
     },
     "execution_count": 21,
     "metadata": {},
     "output_type": "execute_result"
    }
   ],
   "source": [
    "player1.limit"
   ]
  },
  {
   "cell_type": "code",
   "execution_count": 22,
   "metadata": {},
   "outputs": [
    {
     "data": {
      "text/plain": [
       "200"
      ]
     },
     "execution_count": 22,
     "metadata": {},
     "output_type": "execute_result"
    }
   ],
   "source": [
    "player2.limit"
   ]
  },
  {
   "cell_type": "code",
   "execution_count": 23,
   "metadata": {},
   "outputs": [
    {
     "data": {
      "text/plain": [
       "(1000, 1000)"
      ]
     },
     "execution_count": 23,
     "metadata": {},
     "output_type": "execute_result"
    }
   ],
   "source": [
    "player2.buy_in, player1.buy_in"
   ]
  },
  {
   "cell_type": "markdown",
   "metadata": {},
   "source": [
    "### Global variables\n",
    "\n"
   ]
  },
  {
   "cell_type": "code",
   "execution_count": 24,
   "metadata": {},
   "outputs": [],
   "source": [
    "GLOBAL = 5\n",
    "\n",
    "class Player:\n",
    "    '''\n",
    "    The class Player is ablueprint for a poker player.\n",
    "    \n",
    "    Parameter\n",
    "    -------\n",
    "    \n",
    "    name: Name of the player\n",
    "    stack_size: Amount of chips the player currently has\n",
    "    '''\n",
    "    \n",
    "    buy_in = 1000\n",
    "    limit = 100\n",
    "    \n",
    "    def __init__(self, name):\n",
    "        self.name = name\n",
    "        self.stack_size = self.buy_in\n",
    "        self.current_bet = 0\n",
    "\n",
    "    def raise_bet(self):\n",
    "        self.current_bet += self.limit\n",
    "        self.stack_size -= self.limit\n",
    "        return self.current_bet\n",
    "    \n",
    "    @classmethod\n",
    "    def increase_limit(cls, increase):\n",
    "        cls.limit = cls.limit + increase\n",
    "        \n",
    "        \n",
    "    def __repr__(self):\n",
    "        return f'Player {self.name} is betting {self.current_bet} and his stack size is {self.stack_size}'"
   ]
  },
  {
   "cell_type": "code",
   "execution_count": 25,
   "metadata": {},
   "outputs": [],
   "source": [
    "player1 = Player('Edwin')"
   ]
  },
  {
   "cell_type": "code",
   "execution_count": 26,
   "metadata": {},
   "outputs": [],
   "source": [
    "GLOBAL = player1.raise_bet()"
   ]
  },
  {
   "cell_type": "code",
   "execution_count": 27,
   "metadata": {},
   "outputs": [
    {
     "data": {
      "text/plain": [
       "100"
      ]
     },
     "execution_count": 27,
     "metadata": {},
     "output_type": "execute_result"
    }
   ],
   "source": [
    "GLOBAL"
   ]
  },
  {
   "cell_type": "code",
   "execution_count": 28,
   "metadata": {},
   "outputs": [],
   "source": [
    "player1.stack_size = 5000000000"
   ]
  },
  {
   "cell_type": "code",
   "execution_count": 29,
   "metadata": {},
   "outputs": [
    {
     "data": {
      "text/plain": [
       "5000000000"
      ]
     },
     "execution_count": 29,
     "metadata": {},
     "output_type": "execute_result"
    }
   ],
   "source": [
    "player1.stack_size"
   ]
  },
  {
   "cell_type": "markdown",
   "metadata": {},
   "source": [
    "### \"Private\" attributes\n",
    "\n",
    "Attributes and methods can be privatized by using `_` (one underscore) in front of the attribute or method name. However, this is just a convention. The attributes can still be accessed and set from the outside.\n",
    "\n",
    "`__` in front of an attribute or method name underscores lead to the attribute or method not being accessible under `object_name.__attribute_name`. This concept is actually used for protecting attributes from being overwritten by subclass attributes (related to the concept of inheritance) and not for privacy."
   ]
  },
  {
   "cell_type": "code",
   "execution_count": 30,
   "metadata": {},
   "outputs": [],
   "source": [
    "GLOBAL = 5\n",
    "\n",
    "class Player:\n",
    "    '''\n",
    "    The class Player is ablueprint for a poker player.\n",
    "    \n",
    "    Parameter\n",
    "    -------\n",
    "    \n",
    "    name: Name of the player\n",
    "    stack_size: Amount of chips the player currently has\n",
    "    '''\n",
    "    \n",
    "    buy_in = 1000\n",
    "    limit = 100\n",
    "    \n",
    "    def __init__(self, name):\n",
    "        self.name = name\n",
    "        self.__stack_size = self.buy_in\n",
    "        self.current_bet = 0\n",
    "\n",
    "    def raise_bet(self):\n",
    "        self.current_bet += self.limit\n",
    "        self.__stack_size -= self.limit\n",
    "        return self.current_bet\n",
    "    \n",
    "    def get_stack_size(self):\n",
    "        print(self.__stack_size)\n",
    "    \n",
    "    @classmethod\n",
    "    def increase_limit(cls, increase):\n",
    "        cls.limit = cls.limit + increase\n",
    "        \n",
    "    def __repr__(self):\n",
    "        return f'Player {self.name} is betting {self.current_bet} and his stack size is {self.__stack_size}'"
   ]
  },
  {
   "cell_type": "code",
   "execution_count": 31,
   "metadata": {},
   "outputs": [],
   "source": [
    "player1 = Player('Edwin')"
   ]
  },
  {
   "cell_type": "code",
   "execution_count": 32,
   "metadata": {},
   "outputs": [
    {
     "name": "stdout",
     "output_type": "stream",
     "text": [
      "1000\n"
     ]
    }
   ],
   "source": [
    "player1.get_stack_size()"
   ]
  },
  {
   "cell_type": "code",
   "execution_count": 33,
   "metadata": {},
   "outputs": [],
   "source": [
    "player1.__stack_size = 50000000"
   ]
  },
  {
   "cell_type": "code",
   "execution_count": 34,
   "metadata": {},
   "outputs": [
    {
     "data": {
      "text/plain": [
       "1000"
      ]
     },
     "execution_count": 34,
     "metadata": {},
     "output_type": "execute_result"
    }
   ],
   "source": [
    "player1._Player__stack_size# = 500000000"
   ]
  },
  {
   "cell_type": "markdown",
   "metadata": {},
   "source": [
    "## When and why to use Classes?\n",
    "\n",
    "- Rule of thumb: Using classes starts payong off if you have more than 300-500 lines of code\n",
    "- **Classes are flexible, reproducible and increase readability of the code**"
   ]
  },
  {
   "cell_type": "markdown",
   "metadata": {},
   "source": [
    "## When have you seen or worked with classes before?"
   ]
  },
  {
   "cell_type": "code",
   "execution_count": 35,
   "metadata": {},
   "outputs": [],
   "source": [
    "import pandas as pd"
   ]
  },
  {
   "cell_type": "code",
   "execution_count": 36,
   "metadata": {},
   "outputs": [],
   "source": [
    "df = pd.DataFrame()"
   ]
  },
  {
   "cell_type": "code",
   "execution_count": 37,
   "metadata": {},
   "outputs": [],
   "source": [
    "from sklearn.linear_model import LinearRegression"
   ]
  },
  {
   "cell_type": "code",
   "execution_count": 38,
   "metadata": {},
   "outputs": [],
   "source": [
    "m = LinearRegression()"
   ]
  },
  {
   "cell_type": "markdown",
   "metadata": {},
   "source": [
    "### How do classes talk to each other"
   ]
  },
  {
   "cell_type": "code",
   "execution_count": 44,
   "metadata": {},
   "outputs": [],
   "source": [
    "class Game:\n",
    "    '''\n",
    "    ...\n",
    "    '''\n",
    "    \n",
    "    def __init__(self, nr_of_players):\n",
    "        self.players = [Player(i+1) for i in range(nr_of_players)]\n",
    "    \n",
    "    def betting_round(self):\n",
    "        \"\"\"\n",
    "        shjghsji\n",
    "        \"\"\"\n",
    "        for player in self.players:\n",
    "            player.raise_bet()"
   ]
  },
  {
   "cell_type": "code",
   "execution_count": 45,
   "metadata": {},
   "outputs": [
    {
     "data": {
      "text/plain": [
       "<function __main__.Game.betting_round(self)>"
      ]
     },
     "execution_count": 45,
     "metadata": {},
     "output_type": "execute_result"
    }
   ],
   "source": [
    "Game.betting_round"
   ]
  },
  {
   "cell_type": "code",
   "execution_count": 40,
   "metadata": {},
   "outputs": [],
   "source": [
    "g = Game(6)"
   ]
  },
  {
   "cell_type": "code",
   "execution_count": 41,
   "metadata": {},
   "outputs": [
    {
     "data": {
      "text/plain": [
       "[Player 1 is betting 0 and his stack size is 1000,\n",
       " Player 2 is betting 0 and his stack size is 1000,\n",
       " Player 3 is betting 0 and his stack size is 1000,\n",
       " Player 4 is betting 0 and his stack size is 1000,\n",
       " Player 5 is betting 0 and his stack size is 1000,\n",
       " Player 6 is betting 0 and his stack size is 1000]"
      ]
     },
     "execution_count": 41,
     "metadata": {},
     "output_type": "execute_result"
    }
   ],
   "source": [
    "g.players"
   ]
  },
  {
   "cell_type": "code",
   "execution_count": 42,
   "metadata": {},
   "outputs": [],
   "source": [
    "g.betting_round()"
   ]
  },
  {
   "cell_type": "code",
   "execution_count": 43,
   "metadata": {},
   "outputs": [
    {
     "data": {
      "text/plain": [
       "[Player 1 is betting 100 and his stack size is 900,\n",
       " Player 2 is betting 100 and his stack size is 900,\n",
       " Player 3 is betting 100 and his stack size is 900,\n",
       " Player 4 is betting 100 and his stack size is 900,\n",
       " Player 5 is betting 100 and his stack size is 900,\n",
       " Player 6 is betting 100 and his stack size is 900]"
      ]
     },
     "execution_count": 43,
     "metadata": {},
     "output_type": "execute_result"
    }
   ],
   "source": [
    "g.players"
   ]
  },
  {
   "cell_type": "code",
   "execution_count": null,
   "metadata": {},
   "outputs": [],
   "source": []
  }
 ],
 "metadata": {
  "interpreter": {
   "hash": "dca0ade3e726a953b501b15e8e990130d2b7799f14cfd9f4271676035ebe5511"
  },
  "kernelspec": {
   "display_name": "Python 3.8.8 64-bit ('base': conda)",
   "name": "python3"
  },
  "language_info": {
   "codemirror_mode": {
    "name": "ipython",
    "version": 3
   },
   "file_extension": ".py",
   "mimetype": "text/x-python",
   "name": "python",
   "nbconvert_exporter": "python",
   "pygments_lexer": "ipython3",
   "version": "3.7.11"
  }
 },
 "nbformat": 4,
 "nbformat_minor": 2
}
