{
 "cells": [
  {
   "cell_type": "markdown",
   "source": [
    "### Inheritance\n",
    "\n",
    "A class can inherit attributes and method from a parentclass (or subclass). In order to create such a childclass, define:\n",
    "\n",
    "`class ChildClass(ParentClass):`"
   ],
   "metadata": {}
  },
  {
   "cell_type": "code",
   "execution_count": 57,
   "source": [
    "class Player:\n",
    "    '''\n",
    "    The class Player is ablueprint for a poker player.\n",
    "    \n",
    "    Parameter\n",
    "    -------\n",
    "    \n",
    "    name: Name of the player\n",
    "    stack_size: Amount of chips the player currently has\n",
    "    '''\n",
    "    \n",
    "    buy_in = 1000\n",
    "    limit = 100\n",
    "    \n",
    "    def __init__(self, name, maximum_bet):\n",
    "        self.name = name\n",
    "        self.__maximum_bet = maximum_bet\n",
    "        self.stack_size = self.buy_in\n",
    "        self.current_bet = 0\n",
    "\n",
    "    def raise_bet(self):\n",
    "        self.current_bet += self.__maximum_bet\n",
    "        self.stack_size -= self.__maximum_bet\n",
    "        return self.current_bet\n",
    "    \n",
    "    def get_stack_size(self):\n",
    "        print(self.stack_size)\n",
    "    \n",
    "    def vocalize_max_bet(self):\n",
    "        return f'The maximum I am allowed to bet is {self.__maximum_bet}'\n",
    "    \n",
    "    @classmethod\n",
    "    def increase_limit(cls, increase):\n",
    "        cls.limit = cls.limit + increase\n",
    "        \n",
    "    def __repr__(self):\n",
    "        return f'Player {self.name} is betting {self.current_bet} and his stack size is {self.stack_size}'"
   ],
   "outputs": [],
   "metadata": {}
  },
  {
   "cell_type": "markdown",
   "source": [
    "Use `super()` to call methods of the parent class"
   ],
   "metadata": {}
  },
  {
   "cell_type": "code",
   "execution_count": 58,
   "source": [
    "class AggressivePlayer(Player):\n",
    "    \n",
    "    def __init__(self, name, maximum_bet, aggression_level):\n",
    "        super().__init__(name, maximum_bet)\n",
    "        self.aggression_level = aggression_level\n",
    "    \n",
    "    def raise_bet(self):\n",
    "        return 'You are all going to lose!!!!'\n",
    "    \n",
    "    "
   ],
   "outputs": [],
   "metadata": {}
  },
  {
   "cell_type": "markdown",
   "source": [
    "You can define different behaviors for different children\n",
    "\n",
    "This is called **Polymorphism**"
   ],
   "metadata": {}
  },
  {
   "cell_type": "code",
   "execution_count": 59,
   "source": [
    "class ConservativePlayer(Player):\n",
    "    \n",
    "    def __init__(self, name, maximum_bet):\n",
    "        super().__init__(name, maximum_bet)\n",
    "        self.maximum_bet = maximum_bet/2\n",
    "    \n",
    "    def raise_bet(self):\n",
    "        super().raise_bet()\n",
    "        \n",
    "#    def vocalize_max_bet(self):\n",
    "#        return f'I am willing to raise the bet by {self.maximum_bet}'"
   ],
   "outputs": [],
   "metadata": {}
  },
  {
   "cell_type": "code",
   "execution_count": 60,
   "source": [
    "DiegoR = ConservativePlayer('DiegoR', 200)"
   ],
   "outputs": [],
   "metadata": {}
  },
  {
   "cell_type": "code",
   "execution_count": 61,
   "source": [
    "DiegoR.maximum_bet"
   ],
   "outputs": [
    {
     "output_type": "execute_result",
     "data": {
      "text/plain": [
       "100.0"
      ]
     },
     "metadata": {},
     "execution_count": 61
    }
   ],
   "metadata": {}
  },
  {
   "cell_type": "code",
   "execution_count": 62,
   "source": [
    "DiegoR.vocalize_max_bet()"
   ],
   "outputs": [
    {
     "output_type": "execute_result",
     "data": {
      "text/plain": [
       "'The maximum I am allowed to bet is 200'"
      ]
     },
     "metadata": {},
     "execution_count": 62
    }
   ],
   "metadata": {}
  },
  {
   "cell_type": "code",
   "execution_count": 63,
   "source": [
    "DiegoR"
   ],
   "outputs": [
    {
     "output_type": "execute_result",
     "data": {
      "text/plain": [
       "Player DiegoR is betting 0 and his stack size is 1000"
      ]
     },
     "metadata": {},
     "execution_count": 63
    }
   ],
   "metadata": {}
  },
  {
   "cell_type": "code",
   "execution_count": 64,
   "source": [
    "Diego = AggressivePlayer('Diego', 200, 2)"
   ],
   "outputs": [],
   "metadata": {}
  },
  {
   "cell_type": "code",
   "execution_count": 65,
   "source": [
    "Diego.stack_size"
   ],
   "outputs": [
    {
     "output_type": "execute_result",
     "data": {
      "text/plain": [
       "1000"
      ]
     },
     "metadata": {},
     "execution_count": 65
    }
   ],
   "metadata": {}
  },
  {
   "cell_type": "code",
   "execution_count": 66,
   "source": [
    "Diego.raise_bet()"
   ],
   "outputs": [
    {
     "output_type": "execute_result",
     "data": {
      "text/plain": [
       "'You are all going to lose!!!!'"
      ]
     },
     "metadata": {},
     "execution_count": 66
    }
   ],
   "metadata": {}
  },
  {
   "cell_type": "code",
   "execution_count": 67,
   "source": [
    "Diego"
   ],
   "outputs": [
    {
     "output_type": "execute_result",
     "data": {
      "text/plain": [
       "Player Diego is betting 0 and his stack size is 1000"
      ]
     },
     "metadata": {},
     "execution_count": 67
    }
   ],
   "metadata": {}
  },
  {
   "cell_type": "markdown",
   "source": [
    "#### Multiple Inheritance\n",
    "\n",
    "One childclass can inherit from more than one parentclass at the same time:\n",
    "\n",
    "`class ChildClass(ParentClass1, ParentClass2):`"
   ],
   "metadata": {}
  },
  {
   "cell_type": "code",
   "execution_count": 68,
   "source": [
    "class AggressivePerson:\n",
    "    \n",
    "    def __init__(self, aggression_level):\n",
    "        self.aggression_level = aggression_level\n",
    "        \n",
    "    def raise_bet(self):\n",
    "        print(\"I don't want to raise!\")"
   ],
   "outputs": [],
   "metadata": {}
  },
  {
   "cell_type": "markdown",
   "source": [
    "Instead of `super()` call the `__init__`-methods of the two ParentClasses directly."
   ],
   "metadata": {}
  },
  {
   "cell_type": "code",
   "execution_count": 69,
   "source": [
    "class AggressivePlayer(Player, AggressivePerson):\n",
    "    \n",
    "    def __init__(self, name, maximum_bet, aggression_level):\n",
    "        Player.__init__(self, name, maximum_bet)\n",
    "        AggressivePerson.__init__(self, aggression_level)\n",
    "    \n",
    "    def raise_bet(self):\n",
    "        AggressivePerson.raise_bet(self)\n",
    "        #        return 'You are all going to lose!!!!'"
   ],
   "outputs": [],
   "metadata": {}
  },
  {
   "cell_type": "code",
   "execution_count": 70,
   "source": [
    "p = AggressivePlayer('Diego', 200, 2)"
   ],
   "outputs": [],
   "metadata": {}
  },
  {
   "cell_type": "code",
   "execution_count": 71,
   "source": [
    "p.raise_bet()"
   ],
   "outputs": [
    {
     "output_type": "stream",
     "name": "stdout",
     "text": [
      "I don't want to raise!\n"
     ]
    }
   ],
   "metadata": {}
  },
  {
   "cell_type": "code",
   "execution_count": 72,
   "source": [
    "p"
   ],
   "outputs": [
    {
     "output_type": "execute_result",
     "data": {
      "text/plain": [
       "Player Diego is betting 0 and his stack size is 1000"
      ]
     },
     "metadata": {},
     "execution_count": 72
    }
   ],
   "metadata": {}
  },
  {
   "cell_type": "code",
   "execution_count": null,
   "source": [],
   "outputs": [],
   "metadata": {}
  }
 ],
 "metadata": {
  "kernelspec": {
   "name": "python3",
   "display_name": "Python 3.8.8 64-bit ('base': conda)"
  },
  "language_info": {
   "codemirror_mode": {
    "name": "ipython",
    "version": 3
   },
   "file_extension": ".py",
   "mimetype": "text/x-python",
   "name": "python",
   "nbconvert_exporter": "python",
   "pygments_lexer": "ipython3",
   "version": "3.8.8"
  },
  "interpreter": {
   "hash": "dca0ade3e726a953b501b15e8e990130d2b7799f14cfd9f4271676035ebe5511"
  }
 },
 "nbformat": 4,
 "nbformat_minor": 2
}