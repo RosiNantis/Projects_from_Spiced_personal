{
 "cells": [
  {
   "cell_type": "code",
   "execution_count": 1,
   "metadata": {},
   "outputs": [],
   "source": [
    "# import the packages\n",
    "import pandas as pd\n",
    "import numpy as np\n",
    "import random\n"
   ]
  },
  {
   "cell_type": "code",
   "execution_count": 29,
   "metadata": {},
   "outputs": [
    {
     "data": {
      "text/html": [
       "<div>\n",
       "<style scoped>\n",
       "    .dataframe tbody tr th:only-of-type {\n",
       "        vertical-align: middle;\n",
       "    }\n",
       "\n",
       "    .dataframe tbody tr th {\n",
       "        vertical-align: top;\n",
       "    }\n",
       "\n",
       "    .dataframe thead th {\n",
       "        text-align: right;\n",
       "    }\n",
       "</style>\n",
       "<table border=\"1\" class=\"dataframe\">\n",
       "  <thead>\n",
       "    <tr style=\"text-align: right;\">\n",
       "      <th></th>\n",
       "      <th>timestamp</th>\n",
       "      <th>customer_no</th>\n",
       "      <th>location</th>\n",
       "    </tr>\n",
       "  </thead>\n",
       "  <tbody>\n",
       "    <tr>\n",
       "      <th>0</th>\n",
       "      <td>2019-09-02 07:03:00</td>\n",
       "      <td>1</td>\n",
       "      <td>dairy</td>\n",
       "    </tr>\n",
       "    <tr>\n",
       "      <th>1</th>\n",
       "      <td>2019-09-02 07:03:00</td>\n",
       "      <td>2</td>\n",
       "      <td>dairy</td>\n",
       "    </tr>\n",
       "    <tr>\n",
       "      <th>2</th>\n",
       "      <td>2019-09-02 07:04:00</td>\n",
       "      <td>3</td>\n",
       "      <td>dairy</td>\n",
       "    </tr>\n",
       "    <tr>\n",
       "      <th>3</th>\n",
       "      <td>2019-09-02 07:04:00</td>\n",
       "      <td>4</td>\n",
       "      <td>dairy</td>\n",
       "    </tr>\n",
       "    <tr>\n",
       "      <th>4</th>\n",
       "      <td>2019-09-02 07:04:00</td>\n",
       "      <td>5</td>\n",
       "      <td>spices</td>\n",
       "    </tr>\n",
       "  </tbody>\n",
       "</table>\n",
       "</div>"
      ],
      "text/plain": [
       "             timestamp  customer_no location\n",
       "0  2019-09-02 07:03:00            1    dairy\n",
       "1  2019-09-02 07:03:00            2    dairy\n",
       "2  2019-09-02 07:04:00            3    dairy\n",
       "3  2019-09-02 07:04:00            4    dairy\n",
       "4  2019-09-02 07:04:00            5   spices"
      ]
     },
     "execution_count": 29,
     "metadata": {},
     "output_type": "execute_result"
    }
   ],
   "source": [
    "# import the data from the folder\n",
    "monday = pd.read_csv('../../data/monday.csv', parse_dates=True,sep = ';')\n",
    "tuesday = pd.read_csv('../../data/tuesday.csv',  parse_dates=True,sep = ';')\n",
    "wednesday = pd.read_csv('../../data/wednesday.csv',  parse_dates=True,sep = ';')\n",
    "thursday = pd.read_csv('../../data/thursday.csv',  parse_dates=True,sep = ';')\n",
    "friday = pd.read_csv('../../data/friday.csv',  parse_dates=True,sep = ';')\n",
    "monday.head()"
   ]
  },
  {
   "cell_type": "code",
   "execution_count": 30,
   "metadata": {},
   "outputs": [
    {
     "data": {
      "text/plain": [
       "0          1\n",
       "1          2\n",
       "2          3\n",
       "3          4\n",
       "4          5\n",
       "        ... \n",
       "4879    1442\n",
       "4880    1444\n",
       "4881    1445\n",
       "4882    1446\n",
       "4883    1447\n",
       "Name: customer_no, Length: 4884, dtype: int64"
      ]
     },
     "execution_count": 30,
     "metadata": {},
     "output_type": "execute_result"
    }
   ],
   "source": [
    "# inspect the data\n",
    "monday['customer_no']"
   ]
  },
  {
   "cell_type": "code",
   "execution_count": 40,
   "metadata": {},
   "outputs": [],
   "source": [
    "# each day specifies customers with munber. We need to identify each one separately\n",
    "\n",
    "monday['customer_id'] = 'm-'+(monday['customer_no']).astype(str)\n",
    "tuesday['customer_id'] = 't-'+(tuesday['customer_no']).astype(str)\n",
    "wednesday['customer_id'] = 'w-'+(wednesday['customer_no']).astype(str)\n",
    "thursday['customer_id'] = 'th-'+(thursday['customer_no']).astype(str)\n",
    "friday['customer_id'] = 'f-'+(friday['customer_no']).astype(str)"
   ]
  },
  {
   "cell_type": "code",
   "execution_count": 46,
   "metadata": {},
   "outputs": [],
   "source": [
    "# concatenate the matrices\n",
    "sm1 = monday.append(tuesday, ignore_index = True)\n",
    "sm2 = sm1.append(wednesday, ignore_index = True)\n",
    "sm3 = sm2.append(thursday, ignore_index = True)\n",
    "sm = sm3.append(friday, ignore_index = True)\n"
   ]
  },
  {
   "cell_type": "code",
   "execution_count": 71,
   "metadata": {},
   "outputs": [
    {
     "data": {
      "text/html": [
       "<div>\n",
       "<style scoped>\n",
       "    .dataframe tbody tr th:only-of-type {\n",
       "        vertical-align: middle;\n",
       "    }\n",
       "\n",
       "    .dataframe tbody tr th {\n",
       "        vertical-align: top;\n",
       "    }\n",
       "\n",
       "    .dataframe thead th {\n",
       "        text-align: right;\n",
       "    }\n",
       "</style>\n",
       "<table border=\"1\" class=\"dataframe\">\n",
       "  <thead>\n",
       "    <tr style=\"text-align: right;\">\n",
       "      <th></th>\n",
       "      <th>timestamp</th>\n",
       "      <th>location</th>\n",
       "      <th>customer_id</th>\n",
       "      <th>location_next</th>\n",
       "    </tr>\n",
       "  </thead>\n",
       "  <tbody>\n",
       "    <tr>\n",
       "      <th>19752</th>\n",
       "      <td>2019-09-06 07:00:00</td>\n",
       "      <td>dairy</td>\n",
       "      <td>f-1</td>\n",
       "      <td>drinks</td>\n",
       "    </tr>\n",
       "    <tr>\n",
       "      <th>19764</th>\n",
       "      <td>2019-09-06 07:04:00</td>\n",
       "      <td>spices</td>\n",
       "      <td>f-1</td>\n",
       "      <td>dairy</td>\n",
       "    </tr>\n",
       "    <tr>\n",
       "      <th>19767</th>\n",
       "      <td>2019-09-06 07:05:00</td>\n",
       "      <td>checkout</td>\n",
       "      <td>f-1</td>\n",
       "      <td>drinks</td>\n",
       "    </tr>\n",
       "    <tr>\n",
       "      <th>19771</th>\n",
       "      <td>2019-09-06 07:06:00</td>\n",
       "      <td>fruit</td>\n",
       "      <td>f-10</td>\n",
       "      <td>fruit</td>\n",
       "    </tr>\n",
       "    <tr>\n",
       "      <th>19792</th>\n",
       "      <td>2019-09-06 07:11:00</td>\n",
       "      <td>checkout</td>\n",
       "      <td>f-10</td>\n",
       "      <td>checkout</td>\n",
       "    </tr>\n",
       "    <tr>\n",
       "      <th>...</th>\n",
       "      <td>...</td>\n",
       "      <td>...</td>\n",
       "      <td>...</td>\n",
       "      <td>...</td>\n",
       "    </tr>\n",
       "    <tr>\n",
       "      <th>12856</th>\n",
       "      <td>2019-09-04 16:53:00</td>\n",
       "      <td>dairy</td>\n",
       "      <td>w-998</td>\n",
       "      <td>fruit</td>\n",
       "    </tr>\n",
       "    <tr>\n",
       "      <th>12884</th>\n",
       "      <td>2019-09-04 16:57:00</td>\n",
       "      <td>fruit</td>\n",
       "      <td>w-998</td>\n",
       "      <td>drinks</td>\n",
       "    </tr>\n",
       "    <tr>\n",
       "      <th>12892</th>\n",
       "      <td>2019-09-04 16:59:00</td>\n",
       "      <td>checkout</td>\n",
       "      <td>w-998</td>\n",
       "      <td>spices</td>\n",
       "    </tr>\n",
       "    <tr>\n",
       "      <th>12857</th>\n",
       "      <td>2019-09-04 16:53:00</td>\n",
       "      <td>fruit</td>\n",
       "      <td>w-999</td>\n",
       "      <td>spices</td>\n",
       "    </tr>\n",
       "    <tr>\n",
       "      <th>12864</th>\n",
       "      <td>2019-09-04 16:54:00</td>\n",
       "      <td>checkout</td>\n",
       "      <td>w-999</td>\n",
       "      <td>dairy</td>\n",
       "    </tr>\n",
       "  </tbody>\n",
       "</table>\n",
       "<p>24877 rows × 4 columns</p>\n",
       "</div>"
      ],
      "text/plain": [
       "                 timestamp  location customer_id location_next\n",
       "19752  2019-09-06 07:00:00     dairy         f-1        drinks\n",
       "19764  2019-09-06 07:04:00    spices         f-1         dairy\n",
       "19767  2019-09-06 07:05:00  checkout         f-1        drinks\n",
       "19771  2019-09-06 07:06:00     fruit        f-10         fruit\n",
       "19792  2019-09-06 07:11:00  checkout        f-10      checkout\n",
       "...                    ...       ...         ...           ...\n",
       "12856  2019-09-04 16:53:00     dairy       w-998         fruit\n",
       "12884  2019-09-04 16:57:00     fruit       w-998        drinks\n",
       "12892  2019-09-04 16:59:00  checkout       w-998        spices\n",
       "12857  2019-09-04 16:53:00     fruit       w-999        spices\n",
       "12864  2019-09-04 16:54:00  checkout       w-999         dairy\n",
       "\n",
       "[24877 rows x 4 columns]"
      ]
     },
     "execution_count": 71,
     "metadata": {},
     "output_type": "execute_result"
    }
   ],
   "source": [
    "# sort the matrix by customer_id and timestamp\n",
    "sort_sm = sm.sort_values(by=['customer_id','timestamp'])\n",
    "sort_sm =sort_sm.drop(columns = ['customer_no'])\n",
    "sort_sm"
   ]
  },
  {
   "cell_type": "code",
   "execution_count": 60,
   "metadata": {},
   "outputs": [],
   "source": [
    "sort_sm['location_next'] = sort_sm.location.shift(-1) "
   ]
  },
  {
   "cell_type": "code",
   "execution_count": 73,
   "metadata": {},
   "outputs": [
    {
     "data": {
      "text/html": [
       "<div>\n",
       "<style scoped>\n",
       "    .dataframe tbody tr th:only-of-type {\n",
       "        vertical-align: middle;\n",
       "    }\n",
       "\n",
       "    .dataframe tbody tr th {\n",
       "        vertical-align: top;\n",
       "    }\n",
       "\n",
       "    .dataframe thead th {\n",
       "        text-align: right;\n",
       "    }\n",
       "</style>\n",
       "<table border=\"1\" class=\"dataframe\">\n",
       "  <thead>\n",
       "    <tr style=\"text-align: right;\">\n",
       "      <th></th>\n",
       "      <th>timestamp</th>\n",
       "      <th>location</th>\n",
       "      <th>customer_id</th>\n",
       "      <th>location_next</th>\n",
       "    </tr>\n",
       "  </thead>\n",
       "  <tbody>\n",
       "    <tr>\n",
       "      <th>19752</th>\n",
       "      <td>2019-09-06 07:00:00</td>\n",
       "      <td>dairy</td>\n",
       "      <td>f-1</td>\n",
       "      <td>drinks</td>\n",
       "    </tr>\n",
       "    <tr>\n",
       "      <th>19764</th>\n",
       "      <td>2019-09-06 07:04:00</td>\n",
       "      <td>spices</td>\n",
       "      <td>f-1</td>\n",
       "      <td>dairy</td>\n",
       "    </tr>\n",
       "    <tr>\n",
       "      <th>19767</th>\n",
       "      <td>2019-09-06 07:05:00</td>\n",
       "      <td>checkout</td>\n",
       "      <td>f-1</td>\n",
       "      <td>drinks</td>\n",
       "    </tr>\n",
       "    <tr>\n",
       "      <th>19771</th>\n",
       "      <td>2019-09-06 07:06:00</td>\n",
       "      <td>fruit</td>\n",
       "      <td>f-10</td>\n",
       "      <td>fruit</td>\n",
       "    </tr>\n",
       "    <tr>\n",
       "      <th>19792</th>\n",
       "      <td>2019-09-06 07:11:00</td>\n",
       "      <td>checkout</td>\n",
       "      <td>f-10</td>\n",
       "      <td>checkout</td>\n",
       "    </tr>\n",
       "  </tbody>\n",
       "</table>\n",
       "</div>"
      ],
      "text/plain": [
       "                 timestamp  location customer_id location_next\n",
       "19752  2019-09-06 07:00:00     dairy         f-1        drinks\n",
       "19764  2019-09-06 07:04:00    spices         f-1         dairy\n",
       "19767  2019-09-06 07:05:00  checkout         f-1        drinks\n",
       "19771  2019-09-06 07:06:00     fruit        f-10         fruit\n",
       "19792  2019-09-06 07:11:00  checkout        f-10      checkout"
      ]
     },
     "execution_count": 73,
     "metadata": {},
     "output_type": "execute_result"
    }
   ],
   "source": [
    "sort_sm.head()"
   ]
  },
  {
   "cell_type": "code",
   "execution_count": 61,
   "metadata": {},
   "outputs": [
    {
     "data": {
      "text/plain": [
       "array(['dairy', 'spices', 'fruit', 'checkout', 'drinks'], dtype=object)"
      ]
     },
     "execution_count": 61,
     "metadata": {},
     "output_type": "execute_result"
    }
   ],
   "source": [
    "sort_sm.location.unique()\n"
   ]
  },
  {
   "cell_type": "code",
   "execution_count": 63,
   "metadata": {},
   "outputs": [
    {
     "data": {
      "text/html": [
       "<div>\n",
       "<style scoped>\n",
       "    .dataframe tbody tr th:only-of-type {\n",
       "        vertical-align: middle;\n",
       "    }\n",
       "\n",
       "    .dataframe tbody tr th {\n",
       "        vertical-align: top;\n",
       "    }\n",
       "\n",
       "    .dataframe thead th {\n",
       "        text-align: right;\n",
       "    }\n",
       "</style>\n",
       "<table border=\"1\" class=\"dataframe\">\n",
       "  <thead>\n",
       "    <tr style=\"text-align: right;\">\n",
       "      <th>location_next</th>\n",
       "      <th>checkout</th>\n",
       "      <th>dairy</th>\n",
       "      <th>drinks</th>\n",
       "      <th>fruit</th>\n",
       "      <th>spices</th>\n",
       "    </tr>\n",
       "    <tr>\n",
       "      <th>location</th>\n",
       "      <th></th>\n",
       "      <th></th>\n",
       "      <th></th>\n",
       "      <th></th>\n",
       "      <th></th>\n",
       "    </tr>\n",
       "  </thead>\n",
       "  <tbody>\n",
       "    <tr>\n",
       "      <th>checkout</th>\n",
       "      <td>0.000000</td>\n",
       "      <td>0.287487</td>\n",
       "      <td>0.153317</td>\n",
       "      <td>0.377697</td>\n",
       "      <td>0.181499</td>\n",
       "    </tr>\n",
       "    <tr>\n",
       "      <th>dairy</th>\n",
       "      <td>0.390041</td>\n",
       "      <td>0.001069</td>\n",
       "      <td>0.222697</td>\n",
       "      <td>0.190212</td>\n",
       "      <td>0.195982</td>\n",
       "    </tr>\n",
       "    <tr>\n",
       "      <th>drinks</th>\n",
       "      <td>0.536748</td>\n",
       "      <td>0.027401</td>\n",
       "      <td>0.000000</td>\n",
       "      <td>0.219206</td>\n",
       "      <td>0.216645</td>\n",
       "    </tr>\n",
       "    <tr>\n",
       "      <th>fruit</th>\n",
       "      <td>0.498829</td>\n",
       "      <td>0.237993</td>\n",
       "      <td>0.137056</td>\n",
       "      <td>0.000390</td>\n",
       "      <td>0.125732</td>\n",
       "    </tr>\n",
       "    <tr>\n",
       "      <th>spices</th>\n",
       "      <td>0.250666</td>\n",
       "      <td>0.323655</td>\n",
       "      <td>0.272776</td>\n",
       "      <td>0.152637</td>\n",
       "      <td>0.000266</td>\n",
       "    </tr>\n",
       "  </tbody>\n",
       "</table>\n",
       "</div>"
      ],
      "text/plain": [
       "location_next  checkout     dairy    drinks     fruit    spices\n",
       "location                                                       \n",
       "checkout       0.000000  0.287487  0.153317  0.377697  0.181499\n",
       "dairy          0.390041  0.001069  0.222697  0.190212  0.195982\n",
       "drinks         0.536748  0.027401  0.000000  0.219206  0.216645\n",
       "fruit          0.498829  0.237993  0.137056  0.000390  0.125732\n",
       "spices         0.250666  0.323655  0.272776  0.152637  0.000266"
      ]
     },
     "execution_count": 63,
     "metadata": {},
     "output_type": "execute_result"
    }
   ],
   "source": [
    "# notes about normalize use \n",
    "# If passed ‘index’ will normalize over each row.\n",
    "# default is False , which will give you the count\n",
    "\n",
    "P = pd.crosstab(\n",
    "    sort_sm['location'], \n",
    "    sort_sm['location_next'], normalize='index')\n",
    "P"
   ]
  },
  {
   "cell_type": "code",
   "execution_count": 113,
   "metadata": {},
   "outputs": [],
   "source": [
    "type(P)\n",
    "weigh = P.values"
   ]
  },
  {
   "cell_type": "code",
   "execution_count": 118,
   "metadata": {},
   "outputs": [],
   "source": [
    "states = sort_sm.location.unique()\n",
    "state= ['checkout', 'dairy','drinks','fruit','spices']\n"
   ]
  },
  {
   "cell_type": "code",
   "execution_count": 122,
   "metadata": {},
   "outputs": [
    {
     "data": {
      "text/plain": [
       "[0.0,\n",
       " 0.28748651564185546,\n",
       " 0.15331715210355987,\n",
       " 0.37769687162891047,\n",
       " 0.1814994606256742]"
      ]
     },
     "execution_count": 122,
     "metadata": {},
     "output_type": "execute_result"
    }
   ],
   "source": [
    "probs['checkout']"
   ]
  },
  {
   "cell_type": "code",
   "execution_count": 116,
   "metadata": {},
   "outputs": [],
   "source": [
    "probs = P.to_dict(orient='index')\n",
    "# convert internal values, which is a dict to a list\n",
    "for key in probs.keys():\n",
    "    probs[key] = list(probs[key].values())"
   ]
  },
  {
   "cell_type": "code",
   "execution_count": 133,
   "metadata": {},
   "outputs": [
    {
     "data": {
      "text/plain": [
       "[['fruit'], ['dairy'], ['dairy'], ['checkout'], ['spices']]"
      ]
     },
     "execution_count": 133,
     "metadata": {},
     "output_type": "execute_result"
    }
   ],
   "source": [
    "# to get the actual string representing the state, you then need to do the following \n",
    "result = []\n",
    "for department in state:\n",
    "\n",
    "    result.append(random.choices(states, weights=probs[department]))\n",
    "result\n",
    "\n"
   ]
  },
  {
   "cell_type": "markdown",
   "metadata": {},
   "source": [
    "# EDA"
   ]
  },
  {
   "cell_type": "markdown",
   "metadata": {},
   "source": [
    "- Calculate the total number of customers in each section"
   ]
  },
  {
   "cell_type": "code",
   "execution_count": 74,
   "metadata": {},
   "outputs": [
    {
     "data": {
      "text/html": [
       "<div>\n",
       "<style scoped>\n",
       "    .dataframe tbody tr th:only-of-type {\n",
       "        vertical-align: middle;\n",
       "    }\n",
       "\n",
       "    .dataframe tbody tr th {\n",
       "        vertical-align: top;\n",
       "    }\n",
       "\n",
       "    .dataframe thead th {\n",
       "        text-align: right;\n",
       "    }\n",
       "</style>\n",
       "<table border=\"1\" class=\"dataframe\">\n",
       "  <thead>\n",
       "    <tr style=\"text-align: right;\">\n",
       "      <th></th>\n",
       "      <th>timestamp</th>\n",
       "      <th>location</th>\n",
       "      <th>customer_id</th>\n",
       "      <th>location_next</th>\n",
       "    </tr>\n",
       "  </thead>\n",
       "  <tbody>\n",
       "    <tr>\n",
       "      <th>19752</th>\n",
       "      <td>2019-09-06 07:00:00</td>\n",
       "      <td>dairy</td>\n",
       "      <td>f-1</td>\n",
       "      <td>drinks</td>\n",
       "    </tr>\n",
       "    <tr>\n",
       "      <th>19764</th>\n",
       "      <td>2019-09-06 07:04:00</td>\n",
       "      <td>spices</td>\n",
       "      <td>f-1</td>\n",
       "      <td>dairy</td>\n",
       "    </tr>\n",
       "    <tr>\n",
       "      <th>19767</th>\n",
       "      <td>2019-09-06 07:05:00</td>\n",
       "      <td>checkout</td>\n",
       "      <td>f-1</td>\n",
       "      <td>drinks</td>\n",
       "    </tr>\n",
       "    <tr>\n",
       "      <th>19771</th>\n",
       "      <td>2019-09-06 07:06:00</td>\n",
       "      <td>fruit</td>\n",
       "      <td>f-10</td>\n",
       "      <td>fruit</td>\n",
       "    </tr>\n",
       "    <tr>\n",
       "      <th>19792</th>\n",
       "      <td>2019-09-06 07:11:00</td>\n",
       "      <td>checkout</td>\n",
       "      <td>f-10</td>\n",
       "      <td>checkout</td>\n",
       "    </tr>\n",
       "  </tbody>\n",
       "</table>\n",
       "</div>"
      ],
      "text/plain": [
       "                 timestamp  location customer_id location_next\n",
       "19752  2019-09-06 07:00:00     dairy         f-1        drinks\n",
       "19764  2019-09-06 07:04:00    spices         f-1         dairy\n",
       "19767  2019-09-06 07:05:00  checkout         f-1        drinks\n",
       "19771  2019-09-06 07:06:00     fruit        f-10         fruit\n",
       "19792  2019-09-06 07:11:00  checkout        f-10      checkout"
      ]
     },
     "execution_count": 74,
     "metadata": {},
     "output_type": "execute_result"
    }
   ],
   "source": [
    "sort_sm.head()"
   ]
  },
  {
   "cell_type": "code",
   "execution_count": 89,
   "metadata": {},
   "outputs": [
    {
     "data": {
      "text/html": [
       "<div>\n",
       "<style scoped>\n",
       "    .dataframe tbody tr th:only-of-type {\n",
       "        vertical-align: middle;\n",
       "    }\n",
       "\n",
       "    .dataframe tbody tr th {\n",
       "        vertical-align: top;\n",
       "    }\n",
       "\n",
       "    .dataframe thead th {\n",
       "        text-align: right;\n",
       "    }\n",
       "</style>\n",
       "<table border=\"1\" class=\"dataframe\">\n",
       "  <thead>\n",
       "    <tr style=\"text-align: right;\">\n",
       "      <th></th>\n",
       "      <th>timestamp</th>\n",
       "      <th>location</th>\n",
       "      <th>customer_id</th>\n",
       "    </tr>\n",
       "    <tr>\n",
       "      <th>location_next</th>\n",
       "      <th></th>\n",
       "      <th></th>\n",
       "      <th></th>\n",
       "    </tr>\n",
       "  </thead>\n",
       "  <tbody>\n",
       "    <tr>\n",
       "      <th>checkout</th>\n",
       "      <td>7417</td>\n",
       "      <td>7417</td>\n",
       "      <td>7417</td>\n",
       "    </tr>\n",
       "    <tr>\n",
       "      <th>dairy</th>\n",
       "      <td>4678</td>\n",
       "      <td>4678</td>\n",
       "      <td>4678</td>\n",
       "    </tr>\n",
       "    <tr>\n",
       "      <th>drinks</th>\n",
       "      <td>3905</td>\n",
       "      <td>3905</td>\n",
       "      <td>3905</td>\n",
       "    </tr>\n",
       "    <tr>\n",
       "      <th>fruit</th>\n",
       "      <td>5122</td>\n",
       "      <td>5122</td>\n",
       "      <td>5122</td>\n",
       "    </tr>\n",
       "    <tr>\n",
       "      <th>spices</th>\n",
       "      <td>3754</td>\n",
       "      <td>3754</td>\n",
       "      <td>3754</td>\n",
       "    </tr>\n",
       "  </tbody>\n",
       "</table>\n",
       "</div>"
      ],
      "text/plain": [
       "               timestamp  location  customer_id\n",
       "location_next                                  \n",
       "checkout            7417      7417         7417\n",
       "dairy               4678      4678         4678\n",
       "drinks              3905      3905         3905\n",
       "fruit               5122      5122         5122\n",
       "spices              3754      3754         3754"
      ]
     },
     "execution_count": 89,
     "metadata": {},
     "output_type": "execute_result"
    }
   ],
   "source": [
    "# Total number of customers in each section for all week and independent of the times being there per customer \n",
    "sort_sm.location_next\n",
    "sort_sm.groupby(\"location_next\").count()"
   ]
  },
  {
   "cell_type": "markdown",
   "metadata": {},
   "source": [
    "- Calculate the total number of customers in each section over time"
   ]
  },
  {
   "cell_type": "code",
   "execution_count": null,
   "metadata": {},
   "outputs": [],
   "source": [
    "sort_sm.groupby('timestamp\",\"location_next\").count()"
   ]
  },
  {
   "cell_type": "markdown",
   "metadata": {},
   "source": [
    "- make a function that "
   ]
  }
 ],
 "metadata": {
  "interpreter": {
   "hash": "40d3a090f54c6569ab1632332b64b2c03c39dcf918b08424e98f38b5ae0af88f"
  },
  "kernelspec": {
   "display_name": "Python 3.7.11 ('base')",
   "language": "python",
   "name": "python3"
  },
  "language_info": {
   "codemirror_mode": {
    "name": "ipython",
    "version": 3
   },
   "file_extension": ".py",
   "mimetype": "text/x-python",
   "name": "python",
   "nbconvert_exporter": "python",
   "pygments_lexer": "ipython3",
   "version": "3.7.11"
  },
  "orig_nbformat": 4
 },
 "nbformat": 4,
 "nbformat_minor": 2
}
