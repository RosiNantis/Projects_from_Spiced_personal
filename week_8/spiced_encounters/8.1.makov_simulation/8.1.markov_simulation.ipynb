{
 "cells": [
  {
   "cell_type": "code",
   "execution_count": 161,
   "metadata": {},
   "outputs": [],
   "source": [
    "# import the packages\n",
    "import pandas as pd\n",
    "import numpy as np\n",
    "import random\n"
   ]
  },
  {
   "cell_type": "code",
   "execution_count": 162,
   "metadata": {},
   "outputs": [
    {
     "data": {
      "text/html": [
       "<div>\n",
       "<style scoped>\n",
       "    .dataframe tbody tr th:only-of-type {\n",
       "        vertical-align: middle;\n",
       "    }\n",
       "\n",
       "    .dataframe tbody tr th {\n",
       "        vertical-align: top;\n",
       "    }\n",
       "\n",
       "    .dataframe thead th {\n",
       "        text-align: right;\n",
       "    }\n",
       "</style>\n",
       "<table border=\"1\" class=\"dataframe\">\n",
       "  <thead>\n",
       "    <tr style=\"text-align: right;\">\n",
       "      <th></th>\n",
       "      <th>timestamp</th>\n",
       "      <th>customer_no</th>\n",
       "      <th>location</th>\n",
       "    </tr>\n",
       "  </thead>\n",
       "  <tbody>\n",
       "    <tr>\n",
       "      <th>0</th>\n",
       "      <td>2019-09-02 07:03:00</td>\n",
       "      <td>1</td>\n",
       "      <td>dairy</td>\n",
       "    </tr>\n",
       "    <tr>\n",
       "      <th>1</th>\n",
       "      <td>2019-09-02 07:03:00</td>\n",
       "      <td>2</td>\n",
       "      <td>dairy</td>\n",
       "    </tr>\n",
       "    <tr>\n",
       "      <th>2</th>\n",
       "      <td>2019-09-02 07:04:00</td>\n",
       "      <td>3</td>\n",
       "      <td>dairy</td>\n",
       "    </tr>\n",
       "    <tr>\n",
       "      <th>3</th>\n",
       "      <td>2019-09-02 07:04:00</td>\n",
       "      <td>4</td>\n",
       "      <td>dairy</td>\n",
       "    </tr>\n",
       "    <tr>\n",
       "      <th>4</th>\n",
       "      <td>2019-09-02 07:04:00</td>\n",
       "      <td>5</td>\n",
       "      <td>spices</td>\n",
       "    </tr>\n",
       "  </tbody>\n",
       "</table>\n",
       "</div>"
      ],
      "text/plain": [
       "             timestamp  customer_no location\n",
       "0  2019-09-02 07:03:00            1    dairy\n",
       "1  2019-09-02 07:03:00            2    dairy\n",
       "2  2019-09-02 07:04:00            3    dairy\n",
       "3  2019-09-02 07:04:00            4    dairy\n",
       "4  2019-09-02 07:04:00            5   spices"
      ]
     },
     "execution_count": 162,
     "metadata": {},
     "output_type": "execute_result"
    }
   ],
   "source": [
    "# import the data from the folder\n",
    "monday = pd.read_csv('../../data/monday.csv', parse_dates=True,sep = ';')\n",
    "tuesday = pd.read_csv('../../data/tuesday.csv',  parse_dates=True,sep = ';')\n",
    "wednesday = pd.read_csv('../../data/wednesday.csv',  parse_dates=True,sep = ';')\n",
    "thursday = pd.read_csv('../../data/thursday.csv',  parse_dates=True,sep = ';')\n",
    "friday = pd.read_csv('../../data/friday.csv',  parse_dates=True,sep = ';')\n",
    "monday.head()"
   ]
  },
  {
   "cell_type": "code",
   "execution_count": 163,
   "metadata": {},
   "outputs": [
    {
     "data": {
      "text/plain": [
       "0          1\n",
       "1          2\n",
       "2          3\n",
       "3          4\n",
       "4          5\n",
       "        ... \n",
       "4879    1442\n",
       "4880    1444\n",
       "4881    1445\n",
       "4882    1446\n",
       "4883    1447\n",
       "Name: customer_no, Length: 4884, dtype: int64"
      ]
     },
     "execution_count": 163,
     "metadata": {},
     "output_type": "execute_result"
    }
   ],
   "source": [
    "# inspect the data\n",
    "monday['customer_no']"
   ]
  },
  {
   "cell_type": "code",
   "execution_count": 164,
   "metadata": {},
   "outputs": [],
   "source": [
    "# each day specifies customers with munber. We need to identify each one separately\n",
    "\n",
    "monday['customer_id'] = 'm-'+(monday['customer_no']).astype(str)\n",
    "tuesday['customer_id'] = 't-'+(tuesday['customer_no']).astype(str)\n",
    "wednesday['customer_id'] = 'w-'+(wednesday['customer_no']).astype(str)\n",
    "thursday['customer_id'] = 'th-'+(thursday['customer_no']).astype(str)\n",
    "friday['customer_id'] = 'f-'+(friday['customer_no']).astype(str)"
   ]
  },
  {
   "cell_type": "code",
   "execution_count": 165,
   "metadata": {},
   "outputs": [],
   "source": [
    "# concatenate the matrices\n",
    "sm1 = monday.append(tuesday, ignore_index = True)\n",
    "sm2 = sm1.append(wednesday, ignore_index = True)\n",
    "sm3 = sm2.append(thursday, ignore_index = True)\n",
    "sm = sm3.append(friday, ignore_index = True)\n"
   ]
  },
  {
   "cell_type": "code",
   "execution_count": 166,
   "metadata": {},
   "outputs": [
    {
     "data": {
      "text/html": [
       "<div>\n",
       "<style scoped>\n",
       "    .dataframe tbody tr th:only-of-type {\n",
       "        vertical-align: middle;\n",
       "    }\n",
       "\n",
       "    .dataframe tbody tr th {\n",
       "        vertical-align: top;\n",
       "    }\n",
       "\n",
       "    .dataframe thead th {\n",
       "        text-align: right;\n",
       "    }\n",
       "</style>\n",
       "<table border=\"1\" class=\"dataframe\">\n",
       "  <thead>\n",
       "    <tr style=\"text-align: right;\">\n",
       "      <th></th>\n",
       "      <th>timestamp</th>\n",
       "      <th>location</th>\n",
       "      <th>customer_id</th>\n",
       "    </tr>\n",
       "  </thead>\n",
       "  <tbody>\n",
       "    <tr>\n",
       "      <th>19752</th>\n",
       "      <td>2019-09-06 07:00:00</td>\n",
       "      <td>dairy</td>\n",
       "      <td>f-1</td>\n",
       "    </tr>\n",
       "    <tr>\n",
       "      <th>19764</th>\n",
       "      <td>2019-09-06 07:04:00</td>\n",
       "      <td>spices</td>\n",
       "      <td>f-1</td>\n",
       "    </tr>\n",
       "    <tr>\n",
       "      <th>19767</th>\n",
       "      <td>2019-09-06 07:05:00</td>\n",
       "      <td>checkout</td>\n",
       "      <td>f-1</td>\n",
       "    </tr>\n",
       "    <tr>\n",
       "      <th>19771</th>\n",
       "      <td>2019-09-06 07:06:00</td>\n",
       "      <td>fruit</td>\n",
       "      <td>f-10</td>\n",
       "    </tr>\n",
       "    <tr>\n",
       "      <th>19792</th>\n",
       "      <td>2019-09-06 07:11:00</td>\n",
       "      <td>checkout</td>\n",
       "      <td>f-10</td>\n",
       "    </tr>\n",
       "    <tr>\n",
       "      <th>...</th>\n",
       "      <td>...</td>\n",
       "      <td>...</td>\n",
       "      <td>...</td>\n",
       "    </tr>\n",
       "    <tr>\n",
       "      <th>12856</th>\n",
       "      <td>2019-09-04 16:53:00</td>\n",
       "      <td>dairy</td>\n",
       "      <td>w-998</td>\n",
       "    </tr>\n",
       "    <tr>\n",
       "      <th>12884</th>\n",
       "      <td>2019-09-04 16:57:00</td>\n",
       "      <td>fruit</td>\n",
       "      <td>w-998</td>\n",
       "    </tr>\n",
       "    <tr>\n",
       "      <th>12892</th>\n",
       "      <td>2019-09-04 16:59:00</td>\n",
       "      <td>checkout</td>\n",
       "      <td>w-998</td>\n",
       "    </tr>\n",
       "    <tr>\n",
       "      <th>12857</th>\n",
       "      <td>2019-09-04 16:53:00</td>\n",
       "      <td>fruit</td>\n",
       "      <td>w-999</td>\n",
       "    </tr>\n",
       "    <tr>\n",
       "      <th>12864</th>\n",
       "      <td>2019-09-04 16:54:00</td>\n",
       "      <td>checkout</td>\n",
       "      <td>w-999</td>\n",
       "    </tr>\n",
       "  </tbody>\n",
       "</table>\n",
       "<p>24877 rows × 3 columns</p>\n",
       "</div>"
      ],
      "text/plain": [
       "                 timestamp  location customer_id\n",
       "19752  2019-09-06 07:00:00     dairy         f-1\n",
       "19764  2019-09-06 07:04:00    spices         f-1\n",
       "19767  2019-09-06 07:05:00  checkout         f-1\n",
       "19771  2019-09-06 07:06:00     fruit        f-10\n",
       "19792  2019-09-06 07:11:00  checkout        f-10\n",
       "...                    ...       ...         ...\n",
       "12856  2019-09-04 16:53:00     dairy       w-998\n",
       "12884  2019-09-04 16:57:00     fruit       w-998\n",
       "12892  2019-09-04 16:59:00  checkout       w-998\n",
       "12857  2019-09-04 16:53:00     fruit       w-999\n",
       "12864  2019-09-04 16:54:00  checkout       w-999\n",
       "\n",
       "[24877 rows x 3 columns]"
      ]
     },
     "execution_count": 166,
     "metadata": {},
     "output_type": "execute_result"
    }
   ],
   "source": [
    "# sort the matrix by customer_id and timestamp\n",
    "sort_sm = sm.sort_values(by=['customer_id','timestamp'])\n",
    "sort_sm =sort_sm.drop(columns = ['customer_no'])\n",
    "sort_sm"
   ]
  },
  {
   "cell_type": "code",
   "execution_count": 167,
   "metadata": {},
   "outputs": [],
   "source": [
    "sort_sm['location_next'] = sort_sm.location.shift(-1) "
   ]
  },
  {
   "cell_type": "code",
   "execution_count": 168,
   "metadata": {},
   "outputs": [
    {
     "data": {
      "text/html": [
       "<div>\n",
       "<style scoped>\n",
       "    .dataframe tbody tr th:only-of-type {\n",
       "        vertical-align: middle;\n",
       "    }\n",
       "\n",
       "    .dataframe tbody tr th {\n",
       "        vertical-align: top;\n",
       "    }\n",
       "\n",
       "    .dataframe thead th {\n",
       "        text-align: right;\n",
       "    }\n",
       "</style>\n",
       "<table border=\"1\" class=\"dataframe\">\n",
       "  <thead>\n",
       "    <tr style=\"text-align: right;\">\n",
       "      <th></th>\n",
       "      <th>timestamp</th>\n",
       "      <th>location</th>\n",
       "      <th>customer_id</th>\n",
       "      <th>location_next</th>\n",
       "    </tr>\n",
       "  </thead>\n",
       "  <tbody>\n",
       "    <tr>\n",
       "      <th>19752</th>\n",
       "      <td>2019-09-06 07:00:00</td>\n",
       "      <td>dairy</td>\n",
       "      <td>f-1</td>\n",
       "      <td>spices</td>\n",
       "    </tr>\n",
       "    <tr>\n",
       "      <th>19764</th>\n",
       "      <td>2019-09-06 07:04:00</td>\n",
       "      <td>spices</td>\n",
       "      <td>f-1</td>\n",
       "      <td>checkout</td>\n",
       "    </tr>\n",
       "    <tr>\n",
       "      <th>19767</th>\n",
       "      <td>2019-09-06 07:05:00</td>\n",
       "      <td>checkout</td>\n",
       "      <td>f-1</td>\n",
       "      <td>fruit</td>\n",
       "    </tr>\n",
       "    <tr>\n",
       "      <th>19771</th>\n",
       "      <td>2019-09-06 07:06:00</td>\n",
       "      <td>fruit</td>\n",
       "      <td>f-10</td>\n",
       "      <td>checkout</td>\n",
       "    </tr>\n",
       "    <tr>\n",
       "      <th>19792</th>\n",
       "      <td>2019-09-06 07:11:00</td>\n",
       "      <td>checkout</td>\n",
       "      <td>f-10</td>\n",
       "      <td>fruit</td>\n",
       "    </tr>\n",
       "  </tbody>\n",
       "</table>\n",
       "</div>"
      ],
      "text/plain": [
       "                 timestamp  location customer_id location_next\n",
       "19752  2019-09-06 07:00:00     dairy         f-1        spices\n",
       "19764  2019-09-06 07:04:00    spices         f-1      checkout\n",
       "19767  2019-09-06 07:05:00  checkout         f-1         fruit\n",
       "19771  2019-09-06 07:06:00     fruit        f-10      checkout\n",
       "19792  2019-09-06 07:11:00  checkout        f-10         fruit"
      ]
     },
     "execution_count": 168,
     "metadata": {},
     "output_type": "execute_result"
    }
   ],
   "source": [
    "sort_sm.head()"
   ]
  },
  {
   "cell_type": "code",
   "execution_count": 169,
   "metadata": {},
   "outputs": [
    {
     "data": {
      "text/plain": [
       "array(['dairy', 'spices', 'checkout', 'fruit', 'drinks'], dtype=object)"
      ]
     },
     "execution_count": 169,
     "metadata": {},
     "output_type": "execute_result"
    }
   ],
   "source": [
    "sort_sm.location.unique()\n"
   ]
  },
  {
   "cell_type": "code",
   "execution_count": 170,
   "metadata": {},
   "outputs": [
    {
     "data": {
      "text/html": [
       "<div>\n",
       "<style scoped>\n",
       "    .dataframe tbody tr th:only-of-type {\n",
       "        vertical-align: middle;\n",
       "    }\n",
       "\n",
       "    .dataframe tbody tr th {\n",
       "        vertical-align: top;\n",
       "    }\n",
       "\n",
       "    .dataframe thead th {\n",
       "        text-align: right;\n",
       "    }\n",
       "</style>\n",
       "<table border=\"1\" class=\"dataframe\">\n",
       "  <thead>\n",
       "    <tr style=\"text-align: right;\">\n",
       "      <th>location_next</th>\n",
       "      <th>checkout</th>\n",
       "      <th>dairy</th>\n",
       "      <th>drinks</th>\n",
       "      <th>fruit</th>\n",
       "      <th>spices</th>\n",
       "    </tr>\n",
       "    <tr>\n",
       "      <th>location</th>\n",
       "      <th></th>\n",
       "      <th></th>\n",
       "      <th></th>\n",
       "      <th></th>\n",
       "      <th></th>\n",
       "    </tr>\n",
       "  </thead>\n",
       "  <tbody>\n",
       "    <tr>\n",
       "      <th>checkout</th>\n",
       "      <td>0.000000</td>\n",
       "      <td>0.287487</td>\n",
       "      <td>0.153317</td>\n",
       "      <td>0.377697</td>\n",
       "      <td>0.181499</td>\n",
       "    </tr>\n",
       "    <tr>\n",
       "      <th>dairy</th>\n",
       "      <td>0.390041</td>\n",
       "      <td>0.001069</td>\n",
       "      <td>0.222697</td>\n",
       "      <td>0.190212</td>\n",
       "      <td>0.195982</td>\n",
       "    </tr>\n",
       "    <tr>\n",
       "      <th>drinks</th>\n",
       "      <td>0.536748</td>\n",
       "      <td>0.027401</td>\n",
       "      <td>0.000000</td>\n",
       "      <td>0.219206</td>\n",
       "      <td>0.216645</td>\n",
       "    </tr>\n",
       "    <tr>\n",
       "      <th>fruit</th>\n",
       "      <td>0.498829</td>\n",
       "      <td>0.237993</td>\n",
       "      <td>0.137056</td>\n",
       "      <td>0.000390</td>\n",
       "      <td>0.125732</td>\n",
       "    </tr>\n",
       "    <tr>\n",
       "      <th>spices</th>\n",
       "      <td>0.250666</td>\n",
       "      <td>0.323655</td>\n",
       "      <td>0.272776</td>\n",
       "      <td>0.152637</td>\n",
       "      <td>0.000266</td>\n",
       "    </tr>\n",
       "  </tbody>\n",
       "</table>\n",
       "</div>"
      ],
      "text/plain": [
       "location_next  checkout     dairy    drinks     fruit    spices\n",
       "location                                                       \n",
       "checkout       0.000000  0.287487  0.153317  0.377697  0.181499\n",
       "dairy          0.390041  0.001069  0.222697  0.190212  0.195982\n",
       "drinks         0.536748  0.027401  0.000000  0.219206  0.216645\n",
       "fruit          0.498829  0.237993  0.137056  0.000390  0.125732\n",
       "spices         0.250666  0.323655  0.272776  0.152637  0.000266"
      ]
     },
     "execution_count": 170,
     "metadata": {},
     "output_type": "execute_result"
    }
   ],
   "source": [
    "# notes about normalize use \n",
    "# If passed ‘index’ will normalize over each row.\n",
    "# default is False , which will give you the count\n",
    "\n",
    "P = pd.crosstab(\n",
    "    sort_sm['location'], \n",
    "    sort_sm['location_next'], normalize='index')\n",
    "P"
   ]
  },
  {
   "cell_type": "code",
   "execution_count": 171,
   "metadata": {},
   "outputs": [
    {
     "data": {
      "text/html": [
       "<div>\n",
       "<style scoped>\n",
       "    .dataframe tbody tr th:only-of-type {\n",
       "        vertical-align: middle;\n",
       "    }\n",
       "\n",
       "    .dataframe tbody tr th {\n",
       "        vertical-align: top;\n",
       "    }\n",
       "\n",
       "    .dataframe thead th {\n",
       "        text-align: right;\n",
       "    }\n",
       "</style>\n",
       "<table border=\"1\" class=\"dataframe\">\n",
       "  <thead>\n",
       "    <tr style=\"text-align: right;\">\n",
       "      <th>location_next</th>\n",
       "      <th>checkout</th>\n",
       "      <th>dairy</th>\n",
       "      <th>drinks</th>\n",
       "      <th>fruit</th>\n",
       "      <th>spices</th>\n",
       "    </tr>\n",
       "    <tr>\n",
       "      <th>location</th>\n",
       "      <th></th>\n",
       "      <th></th>\n",
       "      <th></th>\n",
       "      <th></th>\n",
       "      <th></th>\n",
       "    </tr>\n",
       "  </thead>\n",
       "  <tbody>\n",
       "    <tr>\n",
       "      <th>checkout</th>\n",
       "      <td>0</td>\n",
       "      <td>2132</td>\n",
       "      <td>1137</td>\n",
       "      <td>2801</td>\n",
       "      <td>1346</td>\n",
       "    </tr>\n",
       "    <tr>\n",
       "      <th>dairy</th>\n",
       "      <td>1825</td>\n",
       "      <td>5</td>\n",
       "      <td>1042</td>\n",
       "      <td>890</td>\n",
       "      <td>917</td>\n",
       "    </tr>\n",
       "    <tr>\n",
       "      <th>drinks</th>\n",
       "      <td>2096</td>\n",
       "      <td>107</td>\n",
       "      <td>0</td>\n",
       "      <td>856</td>\n",
       "      <td>846</td>\n",
       "    </tr>\n",
       "    <tr>\n",
       "      <th>fruit</th>\n",
       "      <td>2555</td>\n",
       "      <td>1219</td>\n",
       "      <td>702</td>\n",
       "      <td>2</td>\n",
       "      <td>644</td>\n",
       "    </tr>\n",
       "    <tr>\n",
       "      <th>spices</th>\n",
       "      <td>941</td>\n",
       "      <td>1215</td>\n",
       "      <td>1024</td>\n",
       "      <td>573</td>\n",
       "      <td>1</td>\n",
       "    </tr>\n",
       "  </tbody>\n",
       "</table>\n",
       "</div>"
      ],
      "text/plain": [
       "location_next  checkout  dairy  drinks  fruit  spices\n",
       "location                                             \n",
       "checkout              0   2132    1137   2801    1346\n",
       "dairy              1825      5    1042    890     917\n",
       "drinks             2096    107       0    856     846\n",
       "fruit              2555   1219     702      2     644\n",
       "spices              941   1215    1024    573       1"
      ]
     },
     "execution_count": 171,
     "metadata": {},
     "output_type": "execute_result"
    }
   ],
   "source": [
    "Pc = pd.crosstab(\n",
    "    sort_sm['location'], \n",
    "    sort_sm['location_next'])\n",
    "Pc"
   ]
  },
  {
   "cell_type": "code",
   "execution_count": 172,
   "metadata": {},
   "outputs": [],
   "source": [
    "type(P)\n",
    "weigh = P.values"
   ]
  },
  {
   "cell_type": "code",
   "execution_count": 181,
   "metadata": {},
   "outputs": [],
   "source": [
    "states = sort_sm.location.unique()\n",
    "state= ['checkout', 'dairy','drinks','fruit','spices']\n"
   ]
  },
  {
   "cell_type": "code",
   "execution_count": 182,
   "metadata": {},
   "outputs": [],
   "source": [
    "probs = P.to_dict(orient='index')\n",
    "# convert internal values, which is a dict to a list\n",
    "for key in probs.keys():\n",
    "    probs[key] = list(probs[key].values())"
   ]
  },
  {
   "cell_type": "code",
   "execution_count": 179,
   "metadata": {},
   "outputs": [
    {
     "data": {
      "text/plain": [
       "{'checkout': [0.0,\n",
       "  0.28748651564185546,\n",
       "  0.15331715210355987,\n",
       "  0.37769687162891047,\n",
       "  0.1814994606256742],\n",
       " 'dairy': [0.3900406069673007,\n",
       "  0.0010686044026501388,\n",
       "  0.22269715751228894,\n",
       "  0.19021158367172472,\n",
       "  0.19598204744603548],\n",
       " 'drinks': [0.5367477592829706,\n",
       "  0.027400768245838668,\n",
       "  0.0,\n",
       "  0.21920614596670934,\n",
       "  0.21664532650448143],\n",
       " 'fruit': [0.49882858258492774,\n",
       "  0.23799297149550958,\n",
       "  0.13705583756345177,\n",
       "  0.0003904724716907458,\n",
       "  0.12573213588442014],\n",
       " 'spices': [0.2506659563132658,\n",
       "  0.32365476824720296,\n",
       "  0.27277570591369205,\n",
       "  0.15263718700053278,\n",
       "  0.0002663825253063399]}"
      ]
     },
     "execution_count": 179,
     "metadata": {},
     "output_type": "execute_result"
    }
   ],
   "source": [
    "probs"
   ]
  },
  {
   "cell_type": "code",
   "execution_count": 197,
   "metadata": {},
   "outputs": [
    {
     "data": {
      "text/plain": [
       "[['drinks'], ['dairy'], ['dairy'], ['spices'], ['dairy']]"
      ]
     },
     "execution_count": 197,
     "metadata": {},
     "output_type": "execute_result"
    }
   ],
   "source": [
    "# to get the actual string representing the state, you then need to do the following \n",
    "result = []\n",
    "for department in state:\n",
    "    result.append(random.choices(states, weights=probs[department]))\n",
    "result\n",
    "\n"
   ]
  },
  {
   "cell_type": "code",
   "execution_count": 208,
   "metadata": {},
   "outputs": [],
   "source": [
    "def next_step(current_step,stat, prob):\n",
    "    prediction = random.choices(stat, weights=prob[current_step])\n",
    "    print(f'For the customer who is in \"{current_step}\" department it is most probable that will move to \"{prediction[0]}\" after.')\n",
    "    return prediction"
   ]
  },
  {
   "cell_type": "code",
   "execution_count": 215,
   "metadata": {},
   "outputs": [
    {
     "name": "stdout",
     "output_type": "stream",
     "text": [
      "For the customer who is in \"drinks\" department it is most probable that will move to \"fruit\" after.\n"
     ]
    }
   ],
   "source": [
    "ns = next_step(np.random.choice(state[1:-1], size=1)[0],states,probs)"
   ]
  },
  {
   "cell_type": "markdown",
   "metadata": {},
   "source": [
    "# EDA"
   ]
  },
  {
   "cell_type": "markdown",
   "metadata": {},
   "source": [
    "- Calculate the total number of customers in each section"
   ]
  },
  {
   "cell_type": "code",
   "execution_count": 160,
   "metadata": {},
   "outputs": [
    {
     "data": {
      "text/html": [
       "<div>\n",
       "<style scoped>\n",
       "    .dataframe tbody tr th:only-of-type {\n",
       "        vertical-align: middle;\n",
       "    }\n",
       "\n",
       "    .dataframe tbody tr th {\n",
       "        vertical-align: top;\n",
       "    }\n",
       "\n",
       "    .dataframe thead th {\n",
       "        text-align: right;\n",
       "    }\n",
       "</style>\n",
       "<table border=\"1\" class=\"dataframe\">\n",
       "  <thead>\n",
       "    <tr style=\"text-align: right;\">\n",
       "      <th></th>\n",
       "      <th>timestamp</th>\n",
       "      <th>location</th>\n",
       "      <th>customer_id</th>\n",
       "      <th>location_next</th>\n",
       "    </tr>\n",
       "  </thead>\n",
       "  <tbody>\n",
       "    <tr>\n",
       "      <th>19752</th>\n",
       "      <td>2019-09-06 07:00:00</td>\n",
       "      <td>dairy</td>\n",
       "      <td>f-1</td>\n",
       "      <td>spices</td>\n",
       "    </tr>\n",
       "    <tr>\n",
       "      <th>19764</th>\n",
       "      <td>2019-09-06 07:04:00</td>\n",
       "      <td>spices</td>\n",
       "      <td>f-1</td>\n",
       "      <td>checkout</td>\n",
       "    </tr>\n",
       "    <tr>\n",
       "      <th>19767</th>\n",
       "      <td>2019-09-06 07:05:00</td>\n",
       "      <td>checkout</td>\n",
       "      <td>f-1</td>\n",
       "      <td>fruit</td>\n",
       "    </tr>\n",
       "    <tr>\n",
       "      <th>19771</th>\n",
       "      <td>2019-09-06 07:06:00</td>\n",
       "      <td>fruit</td>\n",
       "      <td>f-10</td>\n",
       "      <td>checkout</td>\n",
       "    </tr>\n",
       "    <tr>\n",
       "      <th>19792</th>\n",
       "      <td>2019-09-06 07:11:00</td>\n",
       "      <td>checkout</td>\n",
       "      <td>f-10</td>\n",
       "      <td>fruit</td>\n",
       "    </tr>\n",
       "  </tbody>\n",
       "</table>\n",
       "</div>"
      ],
      "text/plain": [
       "                 timestamp  location customer_id location_next\n",
       "19752  2019-09-06 07:00:00     dairy         f-1        spices\n",
       "19764  2019-09-06 07:04:00    spices         f-1      checkout\n",
       "19767  2019-09-06 07:05:00  checkout         f-1         fruit\n",
       "19771  2019-09-06 07:06:00     fruit        f-10      checkout\n",
       "19792  2019-09-06 07:11:00  checkout        f-10         fruit"
      ]
     },
     "execution_count": 160,
     "metadata": {},
     "output_type": "execute_result"
    }
   ],
   "source": [
    "sort_sm.head()"
   ]
  },
  {
   "cell_type": "code",
   "execution_count": 89,
   "metadata": {},
   "outputs": [
    {
     "data": {
      "text/html": [
       "<div>\n",
       "<style scoped>\n",
       "    .dataframe tbody tr th:only-of-type {\n",
       "        vertical-align: middle;\n",
       "    }\n",
       "\n",
       "    .dataframe tbody tr th {\n",
       "        vertical-align: top;\n",
       "    }\n",
       "\n",
       "    .dataframe thead th {\n",
       "        text-align: right;\n",
       "    }\n",
       "</style>\n",
       "<table border=\"1\" class=\"dataframe\">\n",
       "  <thead>\n",
       "    <tr style=\"text-align: right;\">\n",
       "      <th></th>\n",
       "      <th>timestamp</th>\n",
       "      <th>location</th>\n",
       "      <th>customer_id</th>\n",
       "    </tr>\n",
       "    <tr>\n",
       "      <th>location_next</th>\n",
       "      <th></th>\n",
       "      <th></th>\n",
       "      <th></th>\n",
       "    </tr>\n",
       "  </thead>\n",
       "  <tbody>\n",
       "    <tr>\n",
       "      <th>checkout</th>\n",
       "      <td>7417</td>\n",
       "      <td>7417</td>\n",
       "      <td>7417</td>\n",
       "    </tr>\n",
       "    <tr>\n",
       "      <th>dairy</th>\n",
       "      <td>4678</td>\n",
       "      <td>4678</td>\n",
       "      <td>4678</td>\n",
       "    </tr>\n",
       "    <tr>\n",
       "      <th>drinks</th>\n",
       "      <td>3905</td>\n",
       "      <td>3905</td>\n",
       "      <td>3905</td>\n",
       "    </tr>\n",
       "    <tr>\n",
       "      <th>fruit</th>\n",
       "      <td>5122</td>\n",
       "      <td>5122</td>\n",
       "      <td>5122</td>\n",
       "    </tr>\n",
       "    <tr>\n",
       "      <th>spices</th>\n",
       "      <td>3754</td>\n",
       "      <td>3754</td>\n",
       "      <td>3754</td>\n",
       "    </tr>\n",
       "  </tbody>\n",
       "</table>\n",
       "</div>"
      ],
      "text/plain": [
       "               timestamp  location  customer_id\n",
       "location_next                                  \n",
       "checkout            7417      7417         7417\n",
       "dairy               4678      4678         4678\n",
       "drinks              3905      3905         3905\n",
       "fruit               5122      5122         5122\n",
       "spices              3754      3754         3754"
      ]
     },
     "execution_count": 89,
     "metadata": {},
     "output_type": "execute_result"
    }
   ],
   "source": [
    "# Total number of customers in each section for all week and independent of the times being there per customer \n",
    "sort_sm.location_next\n",
    "sort_sm.groupby(\"location_next\").count()"
   ]
  },
  {
   "cell_type": "markdown",
   "metadata": {},
   "source": [
    "- Calculate the total number of customers in each section over time"
   ]
  },
  {
   "cell_type": "code",
   "execution_count": 159,
   "metadata": {},
   "outputs": [
    {
     "data": {
      "text/html": [
       "<div>\n",
       "<style scoped>\n",
       "    .dataframe tbody tr th:only-of-type {\n",
       "        vertical-align: middle;\n",
       "    }\n",
       "\n",
       "    .dataframe tbody tr th {\n",
       "        vertical-align: top;\n",
       "    }\n",
       "\n",
       "    .dataframe thead th {\n",
       "        text-align: right;\n",
       "    }\n",
       "</style>\n",
       "<table border=\"1\" class=\"dataframe\">\n",
       "  <thead>\n",
       "    <tr style=\"text-align: right;\">\n",
       "      <th></th>\n",
       "      <th></th>\n",
       "      <th>location</th>\n",
       "      <th>customer_id</th>\n",
       "    </tr>\n",
       "    <tr>\n",
       "      <th>location_next</th>\n",
       "      <th>timestamp</th>\n",
       "      <th></th>\n",
       "      <th></th>\n",
       "    </tr>\n",
       "  </thead>\n",
       "  <tbody>\n",
       "    <tr>\n",
       "      <th rowspan=\"5\" valign=\"top\">checkout</th>\n",
       "      <th>2019-09-02 07:03:00</th>\n",
       "      <td>2</td>\n",
       "      <td>2</td>\n",
       "    </tr>\n",
       "    <tr>\n",
       "      <th>2019-09-02 07:04:00</th>\n",
       "      <td>4</td>\n",
       "      <td>4</td>\n",
       "    </tr>\n",
       "    <tr>\n",
       "      <th>2019-09-02 07:06:00</th>\n",
       "      <td>3</td>\n",
       "      <td>3</td>\n",
       "    </tr>\n",
       "    <tr>\n",
       "      <th>2019-09-02 07:07:00</th>\n",
       "      <td>1</td>\n",
       "      <td>1</td>\n",
       "    </tr>\n",
       "    <tr>\n",
       "      <th>2019-09-02 07:08:00</th>\n",
       "      <td>1</td>\n",
       "      <td>1</td>\n",
       "    </tr>\n",
       "    <tr>\n",
       "      <th>...</th>\n",
       "      <th>...</th>\n",
       "      <td>...</td>\n",
       "      <td>...</td>\n",
       "    </tr>\n",
       "    <tr>\n",
       "      <th rowspan=\"5\" valign=\"top\">spices</th>\n",
       "      <th>2019-09-06 21:28:00</th>\n",
       "      <td>1</td>\n",
       "      <td>1</td>\n",
       "    </tr>\n",
       "    <tr>\n",
       "      <th>2019-09-06 21:29:00</th>\n",
       "      <td>1</td>\n",
       "      <td>1</td>\n",
       "    </tr>\n",
       "    <tr>\n",
       "      <th>2019-09-06 21:41:00</th>\n",
       "      <td>1</td>\n",
       "      <td>1</td>\n",
       "    </tr>\n",
       "    <tr>\n",
       "      <th>2019-09-06 21:45:00</th>\n",
       "      <td>1</td>\n",
       "      <td>1</td>\n",
       "    </tr>\n",
       "    <tr>\n",
       "      <th>2019-09-06 21:48:00</th>\n",
       "      <td>1</td>\n",
       "      <td>1</td>\n",
       "    </tr>\n",
       "  </tbody>\n",
       "</table>\n",
       "<p>13993 rows × 2 columns</p>\n",
       "</div>"
      ],
      "text/plain": [
       "                                   location  customer_id\n",
       "location_next timestamp                                 \n",
       "checkout      2019-09-02 07:03:00         2            2\n",
       "              2019-09-02 07:04:00         4            4\n",
       "              2019-09-02 07:06:00         3            3\n",
       "              2019-09-02 07:07:00         1            1\n",
       "              2019-09-02 07:08:00         1            1\n",
       "...                                     ...          ...\n",
       "spices        2019-09-06 21:28:00         1            1\n",
       "              2019-09-06 21:29:00         1            1\n",
       "              2019-09-06 21:41:00         1            1\n",
       "              2019-09-06 21:45:00         1            1\n",
       "              2019-09-06 21:48:00         1            1\n",
       "\n",
       "[13993 rows x 2 columns]"
      ]
     },
     "execution_count": 159,
     "metadata": {},
     "output_type": "execute_result"
    }
   ],
   "source": [
    "sort_sm.groupby([\"location_next\",'timestamp']).count()"
   ]
  },
  {
   "cell_type": "markdown",
   "metadata": {},
   "source": [
    "- make a function that "
   ]
  }
 ],
 "metadata": {
  "interpreter": {
   "hash": "40d3a090f54c6569ab1632332b64b2c03c39dcf918b08424e98f38b5ae0af88f"
  },
  "kernelspec": {
   "display_name": "Python 3.7.11 ('base')",
   "language": "python",
   "name": "python3"
  },
  "language_info": {
   "codemirror_mode": {
    "name": "ipython",
    "version": 3
   },
   "file_extension": ".py",
   "mimetype": "text/x-python",
   "name": "python",
   "nbconvert_exporter": "python",
   "pygments_lexer": "ipython3",
   "version": "3.7.11"
  },
  "orig_nbformat": 4
 },
 "nbformat": 4,
 "nbformat_minor": 2
}
