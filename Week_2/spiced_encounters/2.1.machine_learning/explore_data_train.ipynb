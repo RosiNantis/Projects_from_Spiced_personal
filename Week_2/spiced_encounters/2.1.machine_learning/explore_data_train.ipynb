{
 "cells": [
  {
   "cell_type": "code",
   "execution_count": 2,
   "metadata": {},
   "outputs": [],
   "source": [
    "import pandas as pd\n",
    "%matplotlib inline\n"
   ]
  },
  {
   "cell_type": "code",
   "execution_count": 3,
   "metadata": {},
   "outputs": [],
   "source": [
    "df = pd.read_csv('train.csv')"
   ]
  },
  {
   "cell_type": "code",
   "execution_count": null,
   "metadata": {},
   "outputs": [],
   "source": [
    "df.head(5)"
   ]
  },
  {
   "cell_type": "code",
   "execution_count": null,
   "metadata": {},
   "outputs": [],
   "source": [
    "df_survived = df[df['Survived'] == 0]\n",
    "df_survived.head(5)"
   ]
  },
  {
   "cell_type": "code",
   "execution_count": null,
   "metadata": {},
   "outputs": [],
   "source": [
    "df_non_survived = df[df['Survived'] == 1]                           \n",
    "s_n_av = round(df_non_survived['Age'].mean(),2)\n",
    "print(f'The average age of non-survived passengers was {s_n_av}.')"
   ]
  },
  {
   "cell_type": "code",
   "execution_count": null,
   "metadata": {},
   "outputs": [],
   "source": [
    "aver_age  = df['Age'].mean()\n",
    "df['Age'].replace(to_replace = np.nan, value = aver_age)"
   ]
  },
  {
   "cell_type": "code",
   "execution_count": null,
   "metadata": {},
   "outputs": [],
   "source": [
    "import seaborn as sns\n",
    "ax = sns.displot(df,x=\"Survived\",hue ='Survived')\n",
    "\n",
    "ax.set(xlabel='Age', ylabel='People')\n",
    "sns.set_style(\"whitegrid\")\n",
    "sns.set_style(\"ticks\")\n",
    "sns.set_context(\"notebook\", font_scale=2.5 )\n"
   ]
  },
  {
   "cell_type": "code",
   "execution_count": null,
   "metadata": {},
   "outputs": [],
   "source": [
    "df.hist(column = 'Survived',figsize=(10, 4),\n",
    "        bins=30,\n",
    "        orientation='horizontal',\n",
    "        color='#FFCF56');"
   ]
  },
  {
   "cell_type": "code",
   "execution_count": null,
   "metadata": {},
   "outputs": [],
   "source": [
    "df_survived.head(4)"
   ]
  },
  {
   "cell_type": "code",
   "execution_count": null,
   "metadata": {},
   "outputs": [],
   "source": [
    "survived_1st_class = df_survived[df_survived['Pclass'] == 1].shape[0]/df[df['Pclass'] == 1].shape[0]\n",
    "Class_1 = df[df['Pclass'] == 1].shape[0]\n",
    "surv_1_class = df_survived[df_survived['Pclass'] == 1].shape[0]\n",
    "print(f'The amount of passengers in first class are {Class_1} and from them survived the {round(survived_1st_class,2)} people.')"
   ]
  },
  {
   "cell_type": "code",
   "execution_count": null,
   "metadata": {},
   "outputs": [],
   "source": [
    "df[df['Pclass'] == 1].shape[0]\n",
    "df_survived[df_survived['Pclass'] == 1].shape[0]"
   ]
  },
  {
   "cell_type": "code",
   "execution_count": null,
   "metadata": {},
   "outputs": [],
   "source": [
    "df.head(4)"
   ]
  },
  {
   "cell_type": "code",
   "execution_count": null,
   "metadata": {},
   "outputs": [],
   "source": [
    "dfg = df.groupby(['Sex','Pclass'])['Embarked'].count()\n",
    "dfg.plot(kind='bar', title='general')\n"
   ]
  },
  {
   "cell_type": "code",
   "execution_count": null,
   "metadata": {},
   "outputs": [],
   "source": [
    "df.head()"
   ]
  },
  {
   "cell_type": "code",
   "execution_count": null,
   "metadata": {},
   "outputs": [],
   "source": [
    "import seaborn as sns\n",
    "ax = sns.displot(df,x=\"Age\",hue ='Survived')\n",
    "ax.set(xlabel='Age', ylabel='People')\n"
   ]
  },
  {
   "cell_type": "code",
   "execution_count": null,
   "metadata": {},
   "outputs": [],
   "source": [
    "# Create a table counting the number of surviving/dead passengers separately for 1st/2nd/3rd class and male/female."
   ]
  },
  {
   "cell_type": "code",
   "execution_count": null,
   "metadata": {},
   "outputs": [],
   "source": [
    "df.head()"
   ]
  },
  {
   "cell_type": "code",
   "execution_count": null,
   "metadata": {},
   "outputs": [],
   "source": [
    "Table = df.groupby(['Survived','Sex','Pclass'])['Survived'].count()\n",
    "Table(index=['Survived', 'Not Survived'])\n",
    "Table = Table.rename(index={'0' = 'Survived'})\n",
    "Table"
   ]
  },
  {
   "cell_type": "code",
   "execution_count": null,
   "metadata": {},
   "outputs": [],
   "source": []
  }
 ],
 "metadata": {
  "interpreter": {
   "hash": "40d3a090f54c6569ab1632332b64b2c03c39dcf918b08424e98f38b5ae0af88f"
  },
  "kernelspec": {
   "display_name": "Python 3.7.6 ('base')",
   "language": "python",
   "name": "python3"
  },
  "language_info": {
   "codemirror_mode": {
    "name": "ipython",
    "version": 3
   },
   "file_extension": ".py",
   "mimetype": "text/x-python",
   "name": "python",
   "nbconvert_exporter": "python",
   "pygments_lexer": "ipython3",
   "version": "3.7.6"
  },
  "orig_nbformat": 4
 },
 "nbformat": 4,
 "nbformat_minor": 2
}
