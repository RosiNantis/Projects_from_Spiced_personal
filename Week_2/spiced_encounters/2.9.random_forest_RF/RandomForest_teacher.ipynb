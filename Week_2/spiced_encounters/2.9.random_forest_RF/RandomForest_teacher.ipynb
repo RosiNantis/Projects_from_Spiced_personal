{
 "cells": [
  {
   "cell_type": "markdown",
   "metadata": {},
   "source": [
    "# Random Forests"
   ]
  },
  {
   "cell_type": "code",
   "execution_count": 1,
   "metadata": {},
   "outputs": [],
   "source": [
    "import pandas as pd\n",
    "from sklearn.model_selection import train_test_split\n",
    "from sklearn.metrics import accuracy_score"
   ]
  },
  {
   "cell_type": "code",
   "execution_count": 31,
   "metadata": {},
   "outputs": [],
   "source": [
    "df = pd.read_csv('penguins_simple.csv', sep=';')b"
   ]
  },
  {
   "cell_type": "code",
   "execution_count": 32,
   "metadata": {},
   "outputs": [
    {
     "data": {
      "text/html": [
       "<div>\n",
       "<style scoped>\n",
       "    .dataframe tbody tr th:only-of-type {\n",
       "        vertical-align: middle;\n",
       "    }\n",
       "\n",
       "    .dataframe tbody tr th {\n",
       "        vertical-align: top;\n",
       "    }\n",
       "\n",
       "    .dataframe thead th {\n",
       "        text-align: right;\n",
       "    }\n",
       "</style>\n",
       "<table border=\"1\" class=\"dataframe\">\n",
       "  <thead>\n",
       "    <tr style=\"text-align: right;\">\n",
       "      <th></th>\n",
       "      <th>Species</th>\n",
       "      <th>Culmen Length (mm)</th>\n",
       "      <th>Culmen Depth (mm)</th>\n",
       "      <th>Flipper Length (mm)</th>\n",
       "      <th>Body Mass (g)</th>\n",
       "      <th>Sex</th>\n",
       "    </tr>\n",
       "  </thead>\n",
       "  <tbody>\n",
       "    <tr>\n",
       "      <th>0</th>\n",
       "      <td>Adelie</td>\n",
       "      <td>39.1</td>\n",
       "      <td>18.7</td>\n",
       "      <td>181.0</td>\n",
       "      <td>3750.0</td>\n",
       "      <td>MALE</td>\n",
       "    </tr>\n",
       "    <tr>\n",
       "      <th>1</th>\n",
       "      <td>Adelie</td>\n",
       "      <td>39.5</td>\n",
       "      <td>17.4</td>\n",
       "      <td>186.0</td>\n",
       "      <td>3800.0</td>\n",
       "      <td>FEMALE</td>\n",
       "    </tr>\n",
       "    <tr>\n",
       "      <th>2</th>\n",
       "      <td>Adelie</td>\n",
       "      <td>40.3</td>\n",
       "      <td>18.0</td>\n",
       "      <td>195.0</td>\n",
       "      <td>3250.0</td>\n",
       "      <td>FEMALE</td>\n",
       "    </tr>\n",
       "    <tr>\n",
       "      <th>3</th>\n",
       "      <td>Adelie</td>\n",
       "      <td>36.7</td>\n",
       "      <td>19.3</td>\n",
       "      <td>193.0</td>\n",
       "      <td>3450.0</td>\n",
       "      <td>FEMALE</td>\n",
       "    </tr>\n",
       "    <tr>\n",
       "      <th>4</th>\n",
       "      <td>Adelie</td>\n",
       "      <td>39.3</td>\n",
       "      <td>20.6</td>\n",
       "      <td>190.0</td>\n",
       "      <td>3650.0</td>\n",
       "      <td>MALE</td>\n",
       "    </tr>\n",
       "  </tbody>\n",
       "</table>\n",
       "</div>"
      ],
      "text/plain": [
       "  Species  Culmen Length (mm)  Culmen Depth (mm)  Flipper Length (mm)  \\\n",
       "0  Adelie                39.1               18.7                181.0   \n",
       "1  Adelie                39.5               17.4                186.0   \n",
       "2  Adelie                40.3               18.0                195.0   \n",
       "3  Adelie                36.7               19.3                193.0   \n",
       "4  Adelie                39.3               20.6                190.0   \n",
       "\n",
       "   Body Mass (g)     Sex  \n",
       "0         3750.0    MALE  \n",
       "1         3800.0  FEMALE  \n",
       "2         3250.0  FEMALE  \n",
       "3         3450.0  FEMALE  \n",
       "4         3650.0    MALE  "
      ]
     },
     "execution_count": 32,
     "metadata": {},
     "output_type": "execute_result"
    }
   ],
   "source": [
    "df.head()\n"
   ]
  },
  {
   "cell_type": "code",
   "execution_count": 3,
   "metadata": {},
   "outputs": [],
   "source": [
    "train, test = train_test_split(df)"
   ]
  },
  {
   "cell_type": "markdown",
   "metadata": {},
   "source": [
    "#### 1. Inspect the shape of the train and test DataFrames"
   ]
  },
  {
   "cell_type": "code",
   "execution_count": 4,
   "metadata": {
    "scrolled": true
   },
   "outputs": [
    {
     "data": {
      "text/html": [
       "<div>\n",
       "<style scoped>\n",
       "    .dataframe tbody tr th:only-of-type {\n",
       "        vertical-align: middle;\n",
       "    }\n",
       "\n",
       "    .dataframe tbody tr th {\n",
       "        vertical-align: top;\n",
       "    }\n",
       "\n",
       "    .dataframe thead th {\n",
       "        text-align: right;\n",
       "    }\n",
       "</style>\n",
       "<table border=\"1\" class=\"dataframe\">\n",
       "  <thead>\n",
       "    <tr style=\"text-align: right;\">\n",
       "      <th></th>\n",
       "      <th>Species</th>\n",
       "      <th>Culmen Length (mm)</th>\n",
       "      <th>Culmen Depth (mm)</th>\n",
       "      <th>Flipper Length (mm)</th>\n",
       "      <th>Body Mass (g)</th>\n",
       "      <th>Sex</th>\n",
       "    </tr>\n",
       "  </thead>\n",
       "  <tbody>\n",
       "    <tr>\n",
       "      <th>270</th>\n",
       "      <td>Gentoo</td>\n",
       "      <td>45.5</td>\n",
       "      <td>15.0</td>\n",
       "      <td>220.0</td>\n",
       "      <td>5000.0</td>\n",
       "      <td>MALE</td>\n",
       "    </tr>\n",
       "    <tr>\n",
       "      <th>327</th>\n",
       "      <td>Gentoo</td>\n",
       "      <td>48.8</td>\n",
       "      <td>16.2</td>\n",
       "      <td>222.0</td>\n",
       "      <td>6000.0</td>\n",
       "      <td>MALE</td>\n",
       "    </tr>\n",
       "    <tr>\n",
       "      <th>116</th>\n",
       "      <td>Adelie</td>\n",
       "      <td>40.2</td>\n",
       "      <td>17.0</td>\n",
       "      <td>176.0</td>\n",
       "      <td>3450.0</td>\n",
       "      <td>FEMALE</td>\n",
       "    </tr>\n",
       "    <tr>\n",
       "      <th>150</th>\n",
       "      <td>Chinstrap</td>\n",
       "      <td>52.7</td>\n",
       "      <td>19.8</td>\n",
       "      <td>197.0</td>\n",
       "      <td>3725.0</td>\n",
       "      <td>MALE</td>\n",
       "    </tr>\n",
       "    <tr>\n",
       "      <th>211</th>\n",
       "      <td>Chinstrap</td>\n",
       "      <td>49.6</td>\n",
       "      <td>18.2</td>\n",
       "      <td>193.0</td>\n",
       "      <td>3775.0</td>\n",
       "      <td>MALE</td>\n",
       "    </tr>\n",
       "  </tbody>\n",
       "</table>\n",
       "</div>"
      ],
      "text/plain": [
       "       Species  Culmen Length (mm)  Culmen Depth (mm)  Flipper Length (mm)  \\\n",
       "270     Gentoo                45.5               15.0                220.0   \n",
       "327     Gentoo                48.8               16.2                222.0   \n",
       "116     Adelie                40.2               17.0                176.0   \n",
       "150  Chinstrap                52.7               19.8                197.0   \n",
       "211  Chinstrap                49.6               18.2                193.0   \n",
       "\n",
       "     Body Mass (g)     Sex  \n",
       "270         5000.0    MALE  \n",
       "327         6000.0    MALE  \n",
       "116         3450.0  FEMALE  \n",
       "150         3725.0    MALE  \n",
       "211         3775.0    MALE  "
      ]
     },
     "execution_count": 4,
     "metadata": {},
     "output_type": "execute_result"
    }
   ],
   "source": [
    "train.head()"
   ]
  },
  {
   "cell_type": "code",
   "execution_count": 5,
   "metadata": {},
   "outputs": [
    {
     "data": {
      "text/plain": [
       "(249, 6)"
      ]
     },
     "execution_count": 5,
     "metadata": {},
     "output_type": "execute_result"
    }
   ],
   "source": [
    "train.shape"
   ]
  },
  {
   "cell_type": "markdown",
   "metadata": {},
   "source": [
    "### Train a Baseline Model"
   ]
  },
  {
   "cell_type": "code",
   "execution_count": 6,
   "metadata": {},
   "outputs": [],
   "source": [
    "from sklearn.tree import DecisionTreeClassifier"
   ]
  },
  {
   "cell_type": "code",
   "execution_count": 7,
   "metadata": {},
   "outputs": [],
   "source": [
    "# we can extract columns only now, because we want to sample below\n",
    "Xtrain = train[['Flipper Length (mm)', 'Culmen Length (mm)']]\n",
    "ytrain = train['Species']\n",
    "Xtest = test[['Flipper Length (mm)', 'Culmen Length (mm)']]\n",
    "ytest = test['Species']"
   ]
  },
  {
   "cell_type": "markdown",
   "metadata": {},
   "source": [
    "#### 2. Train a Decision Tree with maximum depth 4"
   ]
  },
  {
   "cell_type": "code",
   "execution_count": 8,
   "metadata": {},
   "outputs": [
    {
     "data": {
      "text/plain": [
       "DecisionTreeClassifier(max_depth=4)"
      ]
     },
     "execution_count": 8,
     "metadata": {},
     "output_type": "execute_result"
    }
   ],
   "source": [
    "m = DecisionTreeClassifier(max_depth=4)\n",
    "m.fit(Xtrain, ytrain)"
   ]
  },
  {
   "cell_type": "markdown",
   "metadata": {},
   "source": [
    "#### 3. Calculate training and test accuracy"
   ]
  },
  {
   "cell_type": "code",
   "execution_count": 9,
   "metadata": {},
   "outputs": [
    {
     "name": "stdout",
     "output_type": "stream",
     "text": [
      "train acc 0.98\n",
      "test acc  0.905\n"
     ]
    }
   ],
   "source": [
    "print('train acc', round(m.score(Xtrain, ytrain), 3))\n",
    "print('test acc ', round(m.score(Xtest, ytest), 3))"
   ]
  },
  {
   "cell_type": "markdown",
   "metadata": {},
   "source": [
    "### Train a Random Forest from Scratch"
   ]
  },
  {
   "cell_type": "markdown",
   "metadata": {},
   "source": [
    "#### 4. Build a list of trees\n",
    "\n",
    "Repeat the following 100 times:\n",
    "    \n",
    "* draw 50 random penguins (with `df.sample()`)\n",
    "* train a decision tree on the sample with `max_depth=3`\n",
    "* add the tree to the forest"
   ]
  },
  {
   "cell_type": "code",
   "execution_count": 11,
   "metadata": {},
   "outputs": [],
   "source": [
    "forest = []\n",
    "\n",
    "for i in range(100):\n",
    "    sample = train.sample(50)\n",
    "    X = sample[['Flipper Length (mm)', 'Culmen Length (mm)']]\n",
    "    y = sample['Species']\n",
    "    tree = DecisionTreeClassifier(max_depth=3)\n",
    "    tree.fit(X,y)\n",
    "    forest.append(tree)\n",
    "    "
   ]
  },
  {
   "cell_type": "markdown",
   "metadata": {},
   "source": [
    "#### 5. Calculate a list of training scores for all trees on the full training set"
   ]
  },
  {
   "cell_type": "code",
   "execution_count": 12,
   "metadata": {},
   "outputs": [
    {
     "data": {
      "text/plain": [
       "(0.9598393574297188, 0.8473895582329317)"
      ]
     },
     "execution_count": 12,
     "metadata": {},
     "output_type": "execute_result"
    }
   ],
   "source": [
    "trainscores = [tree.score(Xtrain, ytrain) for tree in forest]\n",
    "\n",
    "max(trainscores), min(trainscores)"
   ]
  },
  {
   "cell_type": "markdown",
   "metadata": {},
   "source": [
    "#### 6. Calculate the mean training score\n",
    "is the mean score better or worse than the baseline?"
   ]
  },
  {
   "cell_type": "code",
   "execution_count": 14,
   "metadata": {},
   "outputs": [
    {
     "name": "stdout",
     "output_type": "stream",
     "text": [
      "mean train acc  0.92\n"
     ]
    }
   ],
   "source": [
    "print('mean train acc ', round(sum(trainscores)/len(trainscores), 3))"
   ]
  },
  {
   "cell_type": "markdown",
   "metadata": {},
   "source": [
    "#### 7. Calculate the mean test score in the same way\n",
    "is the mean score better or worse than the baseline?"
   ]
  },
  {
   "cell_type": "code",
   "execution_count": 16,
   "metadata": {},
   "outputs": [
    {
     "name": "stdout",
     "output_type": "stream",
     "text": [
      "mean test acc  0.907\n"
     ]
    }
   ],
   "source": [
    "testscores = [tree.score(Xtest, ytest) for tree in forest]\n",
    "print('mean test acc ', round(sum(testscores)/len(testscores), 3))\n"
   ]
  },
  {
   "cell_type": "markdown",
   "metadata": {},
   "source": [
    "### Majority Vote"
   ]
  },
  {
   "cell_type": "markdown",
   "metadata": {},
   "source": [
    "#### 8. Create a list of predictions for every tree"
   ]
  },
  {
   "cell_type": "code",
   "execution_count": 19,
   "metadata": {},
   "outputs": [
    {
     "data": {
      "text/plain": [
       "100"
      ]
     },
     "execution_count": 19,
     "metadata": {},
     "output_type": "execute_result"
    }
   ],
   "source": [
    "preds = [tree.predict(Xtest) for tree in forest]\n",
    "len(preds)"
   ]
  },
  {
   "cell_type": "markdown",
   "metadata": {},
   "source": [
    "#### 9. Convert the list into a DataFrame\n",
    "Inspect the result\n",
    "\n",
    "* The shape of the DF should be (100, 84)\n",
    "* What do the dimensions of the DF mean?\n",
    "* Do the trees predictions are in agreement?"
   ]
  },
  {
   "cell_type": "code",
   "execution_count": 22,
   "metadata": {},
   "outputs": [
    {
     "data": {
      "text/html": [
       "<div>\n",
       "<style scoped>\n",
       "    .dataframe tbody tr th:only-of-type {\n",
       "        vertical-align: middle;\n",
       "    }\n",
       "\n",
       "    .dataframe tbody tr th {\n",
       "        vertical-align: top;\n",
       "    }\n",
       "\n",
       "    .dataframe thead th {\n",
       "        text-align: right;\n",
       "    }\n",
       "</style>\n",
       "<table border=\"1\" class=\"dataframe\">\n",
       "  <thead>\n",
       "    <tr style=\"text-align: right;\">\n",
       "      <th></th>\n",
       "      <th>0</th>\n",
       "      <th>1</th>\n",
       "      <th>2</th>\n",
       "      <th>3</th>\n",
       "      <th>4</th>\n",
       "      <th>5</th>\n",
       "      <th>6</th>\n",
       "      <th>7</th>\n",
       "      <th>8</th>\n",
       "      <th>9</th>\n",
       "      <th>...</th>\n",
       "      <th>74</th>\n",
       "      <th>75</th>\n",
       "      <th>76</th>\n",
       "      <th>77</th>\n",
       "      <th>78</th>\n",
       "      <th>79</th>\n",
       "      <th>80</th>\n",
       "      <th>81</th>\n",
       "      <th>82</th>\n",
       "      <th>83</th>\n",
       "    </tr>\n",
       "  </thead>\n",
       "  <tbody>\n",
       "    <tr>\n",
       "      <th>0</th>\n",
       "      <td>Chinstrap</td>\n",
       "      <td>Gentoo</td>\n",
       "      <td>Adelie</td>\n",
       "      <td>Adelie</td>\n",
       "      <td>Chinstrap</td>\n",
       "      <td>Gentoo</td>\n",
       "      <td>Gentoo</td>\n",
       "      <td>Adelie</td>\n",
       "      <td>Chinstrap</td>\n",
       "      <td>Chinstrap</td>\n",
       "      <td>...</td>\n",
       "      <td>Adelie</td>\n",
       "      <td>Adelie</td>\n",
       "      <td>Adelie</td>\n",
       "      <td>Adelie</td>\n",
       "      <td>Gentoo</td>\n",
       "      <td>Gentoo</td>\n",
       "      <td>Gentoo</td>\n",
       "      <td>Adelie</td>\n",
       "      <td>Chinstrap</td>\n",
       "      <td>Adelie</td>\n",
       "    </tr>\n",
       "    <tr>\n",
       "      <th>1</th>\n",
       "      <td>Chinstrap</td>\n",
       "      <td>Gentoo</td>\n",
       "      <td>Adelie</td>\n",
       "      <td>Adelie</td>\n",
       "      <td>Chinstrap</td>\n",
       "      <td>Gentoo</td>\n",
       "      <td>Gentoo</td>\n",
       "      <td>Adelie</td>\n",
       "      <td>Adelie</td>\n",
       "      <td>Adelie</td>\n",
       "      <td>...</td>\n",
       "      <td>Adelie</td>\n",
       "      <td>Adelie</td>\n",
       "      <td>Adelie</td>\n",
       "      <td>Adelie</td>\n",
       "      <td>Gentoo</td>\n",
       "      <td>Gentoo</td>\n",
       "      <td>Gentoo</td>\n",
       "      <td>Adelie</td>\n",
       "      <td>Adelie</td>\n",
       "      <td>Adelie</td>\n",
       "    </tr>\n",
       "    <tr>\n",
       "      <th>2</th>\n",
       "      <td>Chinstrap</td>\n",
       "      <td>Gentoo</td>\n",
       "      <td>Adelie</td>\n",
       "      <td>Chinstrap</td>\n",
       "      <td>Chinstrap</td>\n",
       "      <td>Gentoo</td>\n",
       "      <td>Gentoo</td>\n",
       "      <td>Adelie</td>\n",
       "      <td>Chinstrap</td>\n",
       "      <td>Chinstrap</td>\n",
       "      <td>...</td>\n",
       "      <td>Adelie</td>\n",
       "      <td>Adelie</td>\n",
       "      <td>Adelie</td>\n",
       "      <td>Adelie</td>\n",
       "      <td>Gentoo</td>\n",
       "      <td>Gentoo</td>\n",
       "      <td>Gentoo</td>\n",
       "      <td>Adelie</td>\n",
       "      <td>Chinstrap</td>\n",
       "      <td>Adelie</td>\n",
       "    </tr>\n",
       "    <tr>\n",
       "      <th>3</th>\n",
       "      <td>Chinstrap</td>\n",
       "      <td>Gentoo</td>\n",
       "      <td>Adelie</td>\n",
       "      <td>Chinstrap</td>\n",
       "      <td>Chinstrap</td>\n",
       "      <td>Gentoo</td>\n",
       "      <td>Gentoo</td>\n",
       "      <td>Adelie</td>\n",
       "      <td>Chinstrap</td>\n",
       "      <td>Chinstrap</td>\n",
       "      <td>...</td>\n",
       "      <td>Adelie</td>\n",
       "      <td>Adelie</td>\n",
       "      <td>Adelie</td>\n",
       "      <td>Adelie</td>\n",
       "      <td>Gentoo</td>\n",
       "      <td>Gentoo</td>\n",
       "      <td>Gentoo</td>\n",
       "      <td>Adelie</td>\n",
       "      <td>Chinstrap</td>\n",
       "      <td>Adelie</td>\n",
       "    </tr>\n",
       "    <tr>\n",
       "      <th>4</th>\n",
       "      <td>Chinstrap</td>\n",
       "      <td>Gentoo</td>\n",
       "      <td>Adelie</td>\n",
       "      <td>Adelie</td>\n",
       "      <td>Chinstrap</td>\n",
       "      <td>Gentoo</td>\n",
       "      <td>Gentoo</td>\n",
       "      <td>Adelie</td>\n",
       "      <td>Chinstrap</td>\n",
       "      <td>Chinstrap</td>\n",
       "      <td>...</td>\n",
       "      <td>Adelie</td>\n",
       "      <td>Adelie</td>\n",
       "      <td>Adelie</td>\n",
       "      <td>Adelie</td>\n",
       "      <td>Gentoo</td>\n",
       "      <td>Gentoo</td>\n",
       "      <td>Gentoo</td>\n",
       "      <td>Adelie</td>\n",
       "      <td>Chinstrap</td>\n",
       "      <td>Adelie</td>\n",
       "    </tr>\n",
       "  </tbody>\n",
       "</table>\n",
       "<p>5 rows × 84 columns</p>\n",
       "</div>"
      ],
      "text/plain": [
       "          0       1       2          3          4       5       6       7   \\\n",
       "0  Chinstrap  Gentoo  Adelie     Adelie  Chinstrap  Gentoo  Gentoo  Adelie   \n",
       "1  Chinstrap  Gentoo  Adelie     Adelie  Chinstrap  Gentoo  Gentoo  Adelie   \n",
       "2  Chinstrap  Gentoo  Adelie  Chinstrap  Chinstrap  Gentoo  Gentoo  Adelie   \n",
       "3  Chinstrap  Gentoo  Adelie  Chinstrap  Chinstrap  Gentoo  Gentoo  Adelie   \n",
       "4  Chinstrap  Gentoo  Adelie     Adelie  Chinstrap  Gentoo  Gentoo  Adelie   \n",
       "\n",
       "          8          9   ...      74      75      76      77      78      79  \\\n",
       "0  Chinstrap  Chinstrap  ...  Adelie  Adelie  Adelie  Adelie  Gentoo  Gentoo   \n",
       "1     Adelie     Adelie  ...  Adelie  Adelie  Adelie  Adelie  Gentoo  Gentoo   \n",
       "2  Chinstrap  Chinstrap  ...  Adelie  Adelie  Adelie  Adelie  Gentoo  Gentoo   \n",
       "3  Chinstrap  Chinstrap  ...  Adelie  Adelie  Adelie  Adelie  Gentoo  Gentoo   \n",
       "4  Chinstrap  Chinstrap  ...  Adelie  Adelie  Adelie  Adelie  Gentoo  Gentoo   \n",
       "\n",
       "       80      81         82      83  \n",
       "0  Gentoo  Adelie  Chinstrap  Adelie  \n",
       "1  Gentoo  Adelie     Adelie  Adelie  \n",
       "2  Gentoo  Adelie  Chinstrap  Adelie  \n",
       "3  Gentoo  Adelie  Chinstrap  Adelie  \n",
       "4  Gentoo  Adelie  Chinstrap  Adelie  \n",
       "\n",
       "[5 rows x 84 columns]"
      ]
     },
     "execution_count": 22,
     "metadata": {},
     "output_type": "execute_result"
    }
   ],
   "source": [
    "all_preds = pd.DataFrame(preds)\n",
    "all_preds.shape\n",
    "all_preds.head()"
   ]
  },
  {
   "cell_type": "markdown",
   "metadata": {},
   "source": [
    "#### 10. Calculate accuracy from most frequent prediction on each data point\n",
    "* Is the overall accuracy better than the accuracy of the baseline?\n",
    "* Do you have more or less overfitting?"
   ]
  },
  {
   "cell_type": "code",
   "execution_count": 23,
   "metadata": {},
   "outputs": [
    {
     "name": "stdout",
     "output_type": "stream",
     "text": [
      "majority vote test score: 0.9404761904761905\n"
     ]
    }
   ],
   "source": [
    "ypred = all_preds.mode().T[0]\n",
    "print('majority vote test score:', accuracy_score(ypred, ytest))"
   ]
  },
  {
   "cell_type": "markdown",
   "metadata": {},
   "source": [
    "## RandomForest with Scikit"
   ]
  },
  {
   "cell_type": "code",
   "execution_count": 24,
   "metadata": {},
   "outputs": [],
   "source": [
    "from sklearn.ensemble import RandomForestClassifier"
   ]
  },
  {
   "cell_type": "code",
   "execution_count": 25,
   "metadata": {},
   "outputs": [
    {
     "data": {
      "text/plain": [
       "RandomForestClassifier(max_depth=2, n_estimators=10)"
      ]
     },
     "execution_count": 25,
     "metadata": {},
     "output_type": "execute_result"
    }
   ],
   "source": [
    "rf = RandomForestClassifier(n_estimators=10, max_depth=2)\n",
    "rf.fit(Xtrain, ytrain)"
   ]
  },
  {
   "cell_type": "code",
   "execution_count": 27,
   "metadata": {},
   "outputs": [],
   "source": [
    "importance=rf.feature_importances_"
   ]
  },
  {
   "cell_type": "code",
   "execution_count": 28,
   "metadata": {},
   "outputs": [
    {
     "data": {
      "text/plain": [
       "[(0.4574326437181143, 'Flipper Length (mm)'),\n",
       " (0.5425673562818857, 'Culmen Length (mm)')]"
      ]
     },
     "execution_count": 28,
     "metadata": {},
     "output_type": "execute_result"
    }
   ],
   "source": [
    "list(zip(importance, Xtrain.columns))"
   ]
  },
  {
   "cell_type": "code",
   "execution_count": 30,
   "metadata": {},
   "outputs": [
    {
     "data": {
      "text/plain": [
       "<AxesSubplot:xlabel='Flipper Length (mm)', ylabel='Culmen Length (mm)'>"
      ]
     },
     "execution_count": 30,
     "metadata": {},
     "output_type": "execute_result"
    },
    {
     "data": {
      "image/png": "[encoded data removed]",
      "text/plain": [
       "<Figure size 432x288 with 1 Axes>"
      ]
     },
     "metadata": {
      "needs_background": "light"
     },
     "output_type": "display_data"
    }
   ],
   "source": [
    "import seaborn as sns\n",
    "sns.scatterplot(x=Xtrain['Flipper Length (mm)'], y=Xtrain['Culmen Length (mm)'], hue=ytrain)"
   ]
  },
  {
   "cell_type": "code",
   "execution_count": null,
   "metadata": {},
   "outputs": [],
   "source": []
  }
 ],
 "metadata": {
  "kernelspec": {
   "display_name": "Python 3 (ipykernel)",
   "language": "python",
   "name": "python3"
  },
  "language_info": {
   "codemirror_mode": {
    "name": "ipython",
    "version": 3
   },
   "file_extension": ".py",
   "mimetype": "text/x-python",
   "name": "python",
   "nbconvert_exporter": "python",
   "pygments_lexer": "ipython3",
   "version": "3.7.11"
  },
  "varInspector": {
   "cols": {
    "lenName": 16,
    "lenType": 16,
    "lenVar": 40
   },
   "kernels_config": {
    "python": {
     "delete_cmd_postfix": "",
     "delete_cmd_prefix": "del ",
     "library": "var_list.py",
     "varRefreshCmd": "print(var_dic_list())"
    },
    "r": {
     "delete_cmd_postfix": ") ",
     "delete_cmd_prefix": "rm(",
     "library": "var_list.r",
     "varRefreshCmd": "cat(var_dic_list()) "
    }
   },
   "types_to_exclude": [
    "module",
    "function",
    "builtin_function_or_method",
    "instance",
    "_Feature"
   ],
   "window_display": false
  }
 },
 "nbformat": 4,
 "nbformat_minor": 2
}
