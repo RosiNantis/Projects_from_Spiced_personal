{
 "cells": [
  {
   "cell_type": "code",
   "execution_count": 13,
   "metadata": {},
   "outputs": [
    {
     "name": "stdout",
     "output_type": "stream",
     "text": [
      "\n",
      "Next connections from zoo:\n",
      "\n",
      "12:32    U2 U Theodor-Heuss-Platz . There are -1.0  min delay.\n",
      "12:32    M49 Heerstr./Nennhauser Damm . There are 0.0  min delay.\n",
      "12:32    U9 U Osloer Str. . There are 0.0  min delay.\n",
      "12:32    M45 Charlottenburg, Hertzallee . There are 0.0  min delay.\n",
      "12:33    109 Charlottenburg, Hertzallee . There are -1.0  min delay.\n",
      "12:32    X34 Charlottenburg, Hertzallee . There are 1.0  min delay.\n",
      "12:32    249 Charlottenburg, Hertzallee . There are 1.0  min delay.\n",
      "12:33    M45 Spandau, Johannesstift . There are 0.0  min delay.\n",
      "12:33    U2 S+U Pankow . There are 0.0  min delay.\n",
      "12:33    S7 S Potsdam Hauptbahnhof . There are 0.0  min delay.\n"
     ]
    },
    {
     "ename": "TypeError",
     "evalue": "unsupported operand type(s) for /: 'NoneType' and 'int'",
     "output_type": "error",
     "traceback": [
      "\u001b[0;31m---------------------------------------------------------------------------\u001b[0m",
      "\u001b[0;31mTypeError\u001b[0m                                 Traceback (most recent call last)",
      "\u001b[0;32m/var/folders/08/6zrs8w253573k0k0yjq1w49c0000gn/T/ipykernel_80280/3794913194.py\u001b[0m in \u001b[0;36m<module>\u001b[0;34m\u001b[0m\n\u001b[1;32m      1\u001b[0m \u001b[0;32mimport\u001b[0m \u001b[0mdef_functions\u001b[0m\u001b[0;34m\u001b[0m\u001b[0;34m\u001b[0m\u001b[0m\n\u001b[0;32m----> 2\u001b[0;31m \u001b[0mdef_functions\u001b[0m\u001b[0;34m.\u001b[0m\u001b[0mroute\u001b[0m\u001b[0;34m(\u001b[0m\u001b[0;36m10\u001b[0m\u001b[0;34m)\u001b[0m\u001b[0;34m\u001b[0m\u001b[0;34m\u001b[0m\u001b[0m\n\u001b[0m",
      "\u001b[0;32m~/Spiced_Academy/stationary-sriracha-student-code/week_6/spiced_encounters/6.1.API/def_functions.py\u001b[0m in \u001b[0;36mroute\u001b[0;34m(duration)\u001b[0m\n\u001b[1;32m     14\u001b[0m     \u001b[0mmy_url_list\u001b[0m \u001b[0;34m=\u001b[0m \u001b[0mrequests\u001b[0m\u001b[0;34m.\u001b[0m\u001b[0mget\u001b[0m\u001b[0;34m(\u001b[0m\u001b[0murl\u001b[0m\u001b[0;34m)\u001b[0m\u001b[0;34m.\u001b[0m\u001b[0mjson\u001b[0m\u001b[0;34m(\u001b[0m\u001b[0;34m)\u001b[0m\u001b[0;34m\u001b[0m\u001b[0;34m\u001b[0m\u001b[0m\n\u001b[1;32m     15\u001b[0m     \u001b[0;32mfor\u001b[0m \u001b[0mchoises\u001b[0m \u001b[0;32min\u001b[0m \u001b[0mmy_url_list\u001b[0m\u001b[0;34m:\u001b[0m\u001b[0;34m\u001b[0m\u001b[0;34m\u001b[0m\u001b[0m\n\u001b[0;32m---> 16\u001b[0;31m         \u001b[0mprint\u001b[0m\u001b[0;34m(\u001b[0m\u001b[0mchoises\u001b[0m\u001b[0;34m[\u001b[0m\u001b[0;34m'plannedWhen'\u001b[0m\u001b[0;34m]\u001b[0m\u001b[0;34m[\u001b[0m\u001b[0;36m11\u001b[0m\u001b[0;34m:\u001b[0m\u001b[0;34m-\u001b[0m\u001b[0;36m9\u001b[0m\u001b[0;34m]\u001b[0m\u001b[0;34m,\u001b[0m \u001b[0;34m'  '\u001b[0m\u001b[0;34m,\u001b[0m \u001b[0mchoises\u001b[0m\u001b[0;34m[\u001b[0m\u001b[0;34m'line'\u001b[0m\u001b[0;34m]\u001b[0m\u001b[0;34m[\u001b[0m\u001b[0;34m'name'\u001b[0m\u001b[0;34m]\u001b[0m\u001b[0;34m,\u001b[0m \u001b[0mchoises\u001b[0m\u001b[0;34m[\u001b[0m\u001b[0;34m'direction'\u001b[0m\u001b[0;34m]\u001b[0m\u001b[0;34m,\u001b[0m\u001b[0;34m'. There are'\u001b[0m\u001b[0;34m,\u001b[0m\u001b[0mround\u001b[0m\u001b[0;34m(\u001b[0m\u001b[0mchoises\u001b[0m\u001b[0;34m[\u001b[0m\u001b[0;34m'delay'\u001b[0m\u001b[0;34m]\u001b[0m\u001b[0;34m/\u001b[0m\u001b[0;36m60\u001b[0m\u001b[0;34m,\u001b[0m\u001b[0;36m0\u001b[0m\u001b[0;34m)\u001b[0m\u001b[0;34m,\u001b[0m\u001b[0;34m' min delay.'\u001b[0m\u001b[0;34m)\u001b[0m\u001b[0;34m\u001b[0m\u001b[0;34m\u001b[0m\u001b[0m\n\u001b[0m\u001b[1;32m     17\u001b[0m \u001b[0;34m\u001b[0m\u001b[0m\n\u001b[1;32m     18\u001b[0m \u001b[0;34m\u001b[0m\u001b[0m\n",
      "\u001b[0;31mTypeError\u001b[0m: unsupported operand type(s) for /: 'NoneType' and 'int'"
     ]
    }
   ],
   "source": [
    "import def_functions\n",
    "def_functions.route(10)"
   ]
  },
  {
   "cell_type": "code",
   "execution_count": 66,
   "metadata": {},
   "outputs": [],
   "source": [
    "def tweet_who(max_res=100,save_tweet = False):\n",
    "    import tweepy\n",
    "    import twitter_keys\n",
    "    client = tweepy.Client(bearer_token=twitter_keys.Bearer_Token)\n",
    "    give_username = input('\\nWhich user should I look for:\\n')\n",
    "    user = client.get_user(username=give_username,user_fields=['name','id','created_at'])\n",
    "    what = user.data\n",
    "    user_tweets = client.get_users_tweets(id=what.id, tweet_fields=['id','text','created_at'],max_results=max_res)\n",
    "    for tweet in user_tweets.data:\n",
    "        print(f\"The user {give_username} wrote: '{tweet.text}'\\n\")\n",
    "    if save_tweet == True:\n",
    "        for tweet in user_tweets.data:\n",
    "            file = open('tweets/',give_username,'.txt',mode='a',encoding='utf8')\n",
    "            file.write('\\n\\n'+tweet.text)\n",
    "            file.close()\n"
   ]
  },
  {
   "cell_type": "code",
   "execution_count": null,
   "metadata": {},
   "outputs": [],
   "source": []
  }
 ],
 "metadata": {
  "interpreter": {
   "hash": "40d3a090f54c6569ab1632332b64b2c03c39dcf918b08424e98f38b5ae0af88f"
  },
  "kernelspec": {
   "display_name": "Python 3.7.11 ('base')",
   "language": "python",
   "name": "python3"
  },
  "language_info": {
   "codemirror_mode": {
    "name": "ipython",
    "version": 3
   },
   "file_extension": ".py",
   "mimetype": "text/x-python",
   "name": "python",
   "nbconvert_exporter": "python",
   "pygments_lexer": "ipython3",
   "version": "3.7.11"
  },
  "orig_nbformat": 4
 },
 "nbformat": 4,
 "nbformat_minor": 2
}
