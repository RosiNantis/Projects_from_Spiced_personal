{
 "cells": [
  {
   "cell_type": "code",
   "execution_count": 2,
   "metadata": {},
   "outputs": [
    {
     "name": "stdout",
     "output_type": "stream",
     "text": [
      "\n",
      "Next connections from schöneberg:\n",
      "\n",
      "21:48    S41 Ringbahn S 41, ab BTP weiter als S8 . There are 6.0  min delay.\n",
      "21:54    M46 U Alt-Tempelhof via S Südkreuz . There are 0.0  min delay.\n",
      "21:53    M46 S+U Zoologischer Garten . There are 3.0  min delay.\n",
      "21:57    S1 S Oranienburg . There are 0.0  min delay.\n",
      "21:57    S42 S Südkreuz . There are 0.0  min delay.\n",
      "21:58    S41 Ringbahn S41 ⟳ . There are 0.0  min delay.\n",
      "21:58    S1 S Zehlendorf . There are 3.0  min delay.\n",
      "22:02    S45 S Westend . There are 0.0  min delay.\n",
      "22:03    M46 S+U Zoologischer Garten . There are 0.0  min delay.\n",
      "22:03    S45 Flughafen BER Terminal 1-2 . There are 0.0  min delay.\n",
      "22:04    M46 U Britz-Süd via S Südkreuz . There are 0.0  min delay.\n"
     ]
    }
   ],
   "source": [
    "import def_functions\n",
    "def_functions.route(10)"
   ]
  }
 ],
 "metadata": {
  "interpreter": {
   "hash": "40d3a090f54c6569ab1632332b64b2c03c39dcf918b08424e98f38b5ae0af88f"
  },
  "kernelspec": {
   "display_name": "Python 3.7.11 ('base')",
   "language": "python",
   "name": "python3"
  },
  "language_info": {
   "codemirror_mode": {
    "name": "ipython",
    "version": 3
   },
   "file_extension": ".py",
   "mimetype": "text/x-python",
   "name": "python",
   "nbconvert_exporter": "python",
   "pygments_lexer": "ipython3",
   "version": "3.7.11"
  },
  "orig_nbformat": 4
 },
 "nbformat": 4,
 "nbformat_minor": 2
}
